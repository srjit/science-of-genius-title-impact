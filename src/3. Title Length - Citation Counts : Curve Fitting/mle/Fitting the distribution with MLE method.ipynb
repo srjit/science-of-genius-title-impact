{
 "cells": [
  {
   "cell_type": "code",
   "execution_count": 1,
   "metadata": {},
   "outputs": [],
   "source": [
    "%load_ext autoreload\n",
    "%autoreload 2\n",
    "%matplotlib inline\n",
    "\n",
    "import warnings\n",
    "warnings.filterwarnings('ignore')"
   ]
  },
  {
   "cell_type": "code",
   "execution_count": 2,
   "metadata": {},
   "outputs": [],
   "source": [
    "import sys\n",
    "sys.path.insert(0, \"../code-previous\")\n",
    "sys.path.insert(0, \"..\")\n",
    "\n",
    "import IPython.core.debugger\n",
    "dbg = IPython.core.debugger.Pdb()"
   ]
  },
  {
   "cell_type": "code",
   "execution_count": 18,
   "metadata": {},
   "outputs": [],
   "source": [
    "import pandas as pd\n",
    "import numpy as np\n",
    "import nltk\n",
    "stopwords = nltk.corpus.stopwords.words('english')\n",
    "\n",
    "\n",
    "import scipy.stats as st\n",
    "\n",
    "from sklearn.model_selection import train_test_split\n",
    "from sklearn.linear_model import LinearRegression\n",
    "from sklearn.metrics import mean_squared_error\n",
    "from sklearn.metrics import r2_score\n",
    "\n",
    "\n",
    "\n",
    "from unicodedata import category\n",
    "from tqdm import tqdm\n",
    "tqdm.pandas(desc=\"Progress\")\n",
    "\n",
    "import seaborn as sns\n",
    "sns.set()\n",
    "import matplotlib.pyplot as plt\n",
    "path2rawdata = '/mnt/disks/vault/wos2017-parsed/'"
   ]
  },
  {
   "cell_type": "code",
   "execution_count": 4,
   "metadata": {},
   "outputs": [
    {
     "data": {
      "text/plain": [
       "153697"
      ]
     },
     "execution_count": 4,
     "metadata": {},
     "output_type": "execute_result"
    }
   ],
   "source": [
    "raw_data_path = \"/mnt/disks/vault/analysis-data/nature-science-data-full/nature_science_journal_data.pql\"\n",
    "data = pd.read_pickle(raw_data_path)\n",
    "\n",
    "data = data[data.Journal == \"NATURE\"]\n",
    "\n",
    "len(data)"
   ]
  },
  {
   "cell_type": "code",
   "execution_count": 5,
   "metadata": {},
   "outputs": [
    {
     "data": {
      "text/plain": [
       "10566"
      ]
     },
     "execution_count": 5,
     "metadata": {},
     "output_type": "execute_result"
    }
   ],
   "source": [
    "# filtering the data on which the model could be fit well\n",
    "data = data[data.PubYear_x.isin([2002, 2003, 2004, 2005, 2006, 2007, 2008, 2009, 2010])]\n",
    "len(data)"
   ]
  },
  {
   "cell_type": "code",
   "execution_count": 8,
   "metadata": {},
   "outputs": [
    {
     "name": "stderr",
     "output_type": "stream",
     "text": [
      "Progress: 100%|██████████| 10566/10566 [00:00<00:00, 387973.21it/s]\n",
      "Progress: 100%|██████████| 10566/10566 [00:00<00:00, 675698.17it/s]\n",
      "Progress: 100%|██████████| 10566/10566 [00:00<00:00, 512442.08it/s]\n",
      "Progress: 100%|██████████| 10566/10566 [00:00<00:00, 66875.14it/s]\n",
      "Progress: 100%|██████████| 10566/10566 [00:00<00:00, 54943.54it/s]\n",
      "Progress: 100%|██████████| 10566/10566 [00:00<00:00, 476737.23it/s]\n",
      "Progress: 100%|██████████| 10566/10566 [00:00<00:00, 521640.55it/s]\n"
     ]
    }
   ],
   "source": [
    "# what is the average number of words per year\n",
    "# New fields to dataframe \n",
    "data['log_c5'] = data['c5'].progress_apply(lambda x: np.log(x+1))\n",
    "data['character_count'] = data['Title'].progress_apply(lambda x: len(x))\n",
    "data[\"word_count\"] = data[\"Title\"].progress_apply(lambda x: len(x.split()))\n",
    "data['title_without_punct'] = data['Title'].progress_apply(lambda x: \n",
    "                                                           str.lower(''.join(ch for ch in str(x) if category(ch)[0] != 'P')))\n",
    "data[\"title_without_stopwords\"] = data['title_without_punct'].progress_apply(lambda x: \n",
    "                                                                            \" \".join([word for word in x.split() if word not in stopwords]))\n",
    "\n",
    "\n",
    "data[\"word_count\"] = data[\"Title\"].progress_apply(lambda x: len(x.split()))\n",
    "data[\"cleaned_title_word_count\"] = data[\"title_without_stopwords\"].progress_apply(lambda x: len(x.split()))"
   ]
  },
  {
   "cell_type": "code",
   "execution_count": 12,
   "metadata": {},
   "outputs": [],
   "source": [
    "def get_grouped_data_for_year(year):\n",
    "    tmp = data[data.PubYear_x == year]\n",
    "    tmp = tmp.groupby('word_count')['c5'].mean().reset_index(name=\"avg_c5\")\n",
    "    tmp['avg_log_c5'] = tmp['avg_c5'].apply(lambda x: np.log(x))\n",
    "    return tmp\n",
    "    \n",
    "grouped_avgs = [get_grouped_data_for_year(year) for year in range(2002, 2011)]"
   ]
  },
  {
   "cell_type": "code",
   "execution_count": 13,
   "metadata": {},
   "outputs": [],
   "source": [
    "x02 = list(grouped_avgs[0][\"word_count\"])\n",
    "y02 = list(grouped_avgs[0][\"avg_log_c5\"])\n",
    "x03 = list(grouped_avgs[1][\"word_count\"])\n",
    "y03 = list(grouped_avgs[1][\"avg_log_c5\"])\n",
    "x04 = list(grouped_avgs[2][\"word_count\"])\n",
    "y04 = list(grouped_avgs[2][\"avg_log_c5\"])\n",
    "x05 = list(grouped_avgs[3][\"word_count\"])\n",
    "y05 = list(grouped_avgs[3][\"avg_log_c5\"])\n",
    "x06 = list(grouped_avgs[4][\"word_count\"])\n",
    "y06 = list(grouped_avgs[4][\"avg_log_c5\"])\n",
    "x07 = list(grouped_avgs[5][\"word_count\"])\n",
    "y07 = list(grouped_avgs[5][\"avg_log_c5\"])\n",
    "x08 = list(grouped_avgs[6][\"word_count\"])\n",
    "y08 = list(grouped_avgs[6][\"avg_log_c5\"])\n",
    "x09 = list(grouped_avgs[7][\"word_count\"])\n",
    "y09 = list(grouped_avgs[7][\"avg_log_c5\"])\n",
    "x10 = list(grouped_avgs[8][\"word_count\"])\n",
    "y10 = list(grouped_avgs[8][\"avg_log_c5\"])"
   ]
  },
  {
   "cell_type": "code",
   "execution_count": 14,
   "metadata": {},
   "outputs": [],
   "source": [
    "X_ = [x02 + x03 + x04 + x05 + x06 + x07 + x08 + x09 + x10]\n",
    "y_ = [y02 + y03 + y04 + y05 + y06 + y07 + y08 + y09 + y10]\n",
    "\n",
    "X = pd.DataFrame([item for sublist in X_ for item in sublist], columns=[\"word_count\"])\n",
    "y = pd.DataFrame([item for sublist in y_ for item in sublist], columns=[\"avg_log_c5\"])\n",
    "\n",
    "df = pd.concat([X, y], axis=1)\n",
    "df = df[~df.isin([np.nan, np.inf, -np.inf]).any(1)]\n",
    "\n",
    "X_train, X_test, y_train, y_test = train_test_split(df[[\"word_count\"]], df[\"avg_log_c5\"], test_size=0.2)"
   ]
  },
  {
   "cell_type": "code",
   "execution_count": 27,
   "metadata": {},
   "outputs": [
    {
     "name": "stdout",
     "output_type": "stream",
     "text": [
      "(0.8896922684165589, 0.2722705449947871, 0.8388255324814506, 4.2038824815027995)\n",
      "KstestResult(statistic=0.28970376986182, pvalue=0.023671241722475176)\n"
     ]
    },
    {
     "data": {
      "text/plain": [
       "Text(0,0.5,'Average logC5')"
      ]
     },
     "execution_count": 27,
     "metadata": {},
     "output_type": "execute_result"
    },
    {
     "data": {
      "text/plain": [
       "<Figure size 432x288 with 0 Axes>"
      ]
     },
     "metadata": {},
     "output_type": "display_data"
    },
    {
     "data": {
      "image/png": "[encoded data removed]",
      "text/plain": [
       "<Figure size 1296x1296 with 1 Axes>"
      ]
     },
     "metadata": {},
     "output_type": "display_data"
    }
   ],
   "source": [
    "X_years = [x02, x03, x04, x05, x06, x07, x08, x09, x10]\n",
    "y_years = [y02, y03, y04, y05, y06, y07, y08, y09, y10] \n",
    "\n",
    "\n",
    "def get_data_for_year(idx):\n",
    "    X = pd.DataFrame(X_years[idx], columns=[\"word_count\"])\n",
    "    y = pd.DataFrame(y_years[idx], columns=[\"avg_log_c5\"])\n",
    "    \n",
    "    df = pd.concat([X, y], axis=1)\n",
    "    df = df[~df.isin([np.nan, np.inf, -np.inf]).any(1)]\n",
    "    \n",
    "    return df\n",
    "\n",
    "\n",
    "# Average character, word and cleaned title word counts over the years\n",
    "f1 = plt.figure()\n",
    "f1 = plt.figure(figsize=(18,18))\n",
    "\n",
    "ax1 = f1.add_subplot(331)\n",
    "tmp = get_data_for_year(0)\n",
    "\n",
    "dist = st.beta\n",
    "log_c5_variation = tmp['avg_log_c5']\n",
    "args = dist.fit(log_c5_variation)\n",
    "print(args)\n",
    "print(st.kstest(log_c5_variation, dist.cdf, args))\n",
    "\n",
    "\n",
    "ax1.scatter(tmp['word_count'], \n",
    "            tmp['avg_log_c5'], \n",
    "            marker='x')\n",
    "ax1.set_ylim(ymin=0)\n",
    "ax1.set_xlabel(\"Word Count\")\n",
    "ax1.set_ylabel(\"Average logC5\")"
   ]
  },
  {
   "cell_type": "code",
   "execution_count": null,
   "metadata": {},
   "outputs": [],
   "source": []
  }
 ],
 "metadata": {
  "kernelspec": {
   "display_name": "Python 3",
   "language": "python",
   "name": "python3"
  },
  "language_info": {
   "codemirror_mode": {
    "name": "ipython",
    "version": 3
   },
   "file_extension": ".py",
   "mimetype": "text/x-python",
   "name": "python",
   "nbconvert_exporter": "python",
   "pygments_lexer": "ipython3",
   "version": "3.6.7"
  }
 },
 "nbformat": 4,
 "nbformat_minor": 2
}
