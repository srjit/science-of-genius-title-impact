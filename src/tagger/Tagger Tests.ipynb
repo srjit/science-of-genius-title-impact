{
 "cells": [
  {
   "cell_type": "code",
   "execution_count": null,
   "metadata": {},
   "outputs": [],
   "source": []
  },
  {
   "cell_type": "code",
   "execution_count": 6,
   "metadata": {},
   "outputs": [],
   "source": [
    "import pandas as pd"
   ]
  },
  {
   "cell_type": "code",
   "execution_count": 1,
   "metadata": {},
   "outputs": [],
   "source": [
    "import os\n",
    "from nltk.tag.stanford import StanfordPOSTagger\n",
    "java_path = \"/home/sree/bigdata/jdk1.8.0_181/bin/java\"\n",
    "os.environ['JAVAHOME'] = java_path"
   ]
  },
  {
   "cell_type": "code",
   "execution_count": 4,
   "metadata": {},
   "outputs": [],
   "source": [
    "path_to_model = \"models/english-bidirectional-distsim.tagger\"\n",
    "path_to_jar = \"models/stanford-postagger.jar\"\n",
    "tagger = StanfordPOSTagger(path_to_model, path_to_jar)\n",
    "tagger.java_options='-mx4096m'"
   ]
  },
  {
   "cell_type": "code",
   "execution_count": 7,
   "metadata": {},
   "outputs": [],
   "source": [
    "raw_data_path = \"/home/sree/data/scisci/nature_science_journal_data.pql\"\n",
    "data = pd.read_pickle(raw_data_path)\n",
    "data = data[data.Journal == \"NATURE\"]"
   ]
  },
  {
   "cell_type": "code",
   "execution_count": 9,
   "metadata": {},
   "outputs": [],
   "source": [
    "titles = data['Title'][:100]"
   ]
  },
  {
   "cell_type": "code",
   "execution_count": 12,
   "metadata": {},
   "outputs": [],
   "source": [
    "stanford_tagger_outputs = [tagger.tag(sentence.split()) for sentence in titles]"
   ]
  },
  {
   "cell_type": "code",
   "execution_count": 19,
   "metadata": {},
   "outputs": [
    {
     "data": {
      "text/plain": [
       "[('RECOMBINANT', 'JJ'),\n",
       " ('PLASMIDS', 'NNS'),\n",
       " ('CARRYING', 'VBG'),\n",
       " ('NITROGEN-FIXATION', 'JJ'),\n",
       " ('GENES', 'NNS'),\n",
       " ('FROM', 'IN'),\n",
       " ('RHIZOBIUM-JAPONICUM', 'NN')]"
      ]
     },
     "execution_count": 19,
     "metadata": {},
     "output_type": "execute_result"
    }
   ],
   "source": [
    "# try the twitter one\n",
    "stanford_tagger_outputs[6]"
   ]
  },
  {
   "cell_type": "code",
   "execution_count": null,
   "metadata": {},
   "outputs": [],
   "source": []
  }
 ],
 "metadata": {
  "kernelspec": {
   "display_name": "Python 3",
   "language": "python",
   "name": "python3"
  },
  "language_info": {
   "codemirror_mode": {
    "name": "ipython",
    "version": 3
   },
   "file_extension": ".py",
   "mimetype": "text/x-python",
   "name": "python",
   "nbconvert_exporter": "python",
   "pygments_lexer": "ipython3",
   "version": "3.6.7"
  }
 },
 "nbformat": 4,
 "nbformat_minor": 2
}
