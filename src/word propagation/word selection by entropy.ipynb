{
 "cells": [
  {
   "cell_type": "code",
   "execution_count": 1,
   "metadata": {},
   "outputs": [
    {
     "name": "stderr",
     "output_type": "stream",
     "text": [
      "ERROR:root:No traceback has been produced, nothing to debug.\n"
     ]
    }
   ],
   "source": [
    "%load_ext autoreload\n",
    "%autoreload 2\n",
    "%matplotlib inline\n",
    "\n",
    "%debug"
   ]
  },
  {
   "cell_type": "code",
   "execution_count": 2,
   "metadata": {},
   "outputs": [],
   "source": [
    "import sys\n",
    "sys.path.insert(0, \"../../code-previous\")"
   ]
  },
  {
   "cell_type": "code",
   "execution_count": 3,
   "metadata": {},
   "outputs": [
    {
     "name": "stderr",
     "output_type": "stream",
     "text": [
      "/usr/lib/python3.6/importlib/_bootstrap.py:219: RuntimeWarning: numpy.dtype size changed, may indicate binary incompatibility. Expected 96, got 88\n",
      "  return f(*args, **kwds)\n"
     ]
    }
   ],
   "source": [
    "import pandas as pd\n",
    "import numpy as np\n",
    "import networkx as nx\n",
    "import sklearn.feature_extraction as skfeatures\n",
    "import time\n",
    "import os\n",
    "\n",
    "import operator\n",
    "import pickle\n",
    "import string\n",
    "import swifter\n",
    "import nltk\n",
    "stopwords = nltk.corpus.stopwords.words('english')\n",
    "\n",
    "\n",
    "import plotly\n",
    "import plotly.plotly as py\n",
    "import plotly.graph_objs as go\n",
    "plotly.tools.set_credentials_file(username='sreejith_s', api_key='rcet0rTqFCc3WeOzWTjv')\n",
    "\n",
    "\n",
    "\n",
    "from sklearn.feature_extraction.text import CountVectorizer\n",
    "from collections import Counter\n",
    "\n",
    "from unicodedata import category\n",
    "from tqdm import tqdm\n",
    "tqdm.pandas(desc=\"Progress\")\n",
    "\n",
    "import seaborn as sns\n",
    "sns.set_style('white')\n",
    "import matplotlib.pylab as plt"
   ]
  },
  {
   "cell_type": "code",
   "execution_count": 4,
   "metadata": {},
   "outputs": [],
   "source": [
    "disciplines = [\"Architecture\",\"Art\",\"Humanities, Multidisciplinary\",\"Folklore\",\"Medieval & Renaissance Studies\",\"Asian Studies\",\"Classics\",\"Dance\",\"Film, Radio, Television\",\"History\",\"History & Philosophy of Science\",\"Literary Theory & Criticism\",\"Literary Reviews\",\"Literature\",\"Literature, African, Australian, Canadian\",\"Literature, American\",\"Literature, British Isles\",\"Literature, German, Dutch, Scandinavian\",\"Literature, Romance\",\"Literature, Slavic\",\"Poetry\",\"Music\",\"Philosophy\",\"Religion\",\"Theater\",\"Agriculture, Dairy & Animal Science\",\"Agricultural Engineering\",\"Agricultural Economics & Policy\",\"Agriculture, Multidisciplinary\",\"Agronomy\",\"Horticulture\",\"Soil Science\",\"Allergy\",\"Anatomy & Morphology\",\"Anesthesiology\",\"Anthropology\",\"Audiology & Speech-Language Pathology\",\"Behavioral Sciences\",\"Biochemical Research Methods\",\"Biochemistry & Molecular Biology\",\"Biodiversity Conservation\",\"Biophysics\",\"Biotechnology & Applied Microbiology\",\"Cardiac & Cardiovascular Systems\",\"Peripheral Vascular Disease\",\"Cell & Tissue Engineering\",\"Cell Biology\",\"Dentistry, Oral Surgery & Medicine\",\"Dermatology\",\"Developmental Biology\",\"Emergency Medicine\",\"Andrology\",\"Endocrinology & Metabolism\",\"Entomology\",\"Ecology\",\"Environmental Sciences\",\"Environmental Studies\",\"Evolutionary Biology\",\"Fisheries\",\"Food Science & Technology\",\"Forestry\",\"Gastroenterology & Hepatology\",\"Critical Care Medicine\",\"Primary Health Care\",\"Medicine, General & Internal\",\"Genetics & Heredity\",\"Geriatrics & Gerontology\",\"Gerontology\",\"Health Care Sciences & Services\",\"Health Policy & Services\",\"Hematology\",\"Immunology\",\"Infectious Diseases\",\"Integrative & Complementary Medicine\",\"Medicine, Legal\",\"Biology\",\"Limnology\",\"Marine & Freshwater Biology\",\"Mathematical & Computational Biology\",\"Medical Ethics\",\"Medical Informatics\",\"Medical Laboratory Technology\",\"Microbiology\",\"Mycology\",\"Clinical Neurology\",\"Neurosciences\",\"Neuroimaging\",\"Nursing\",\"Nutrition & Dietetics\",\"Obstetrics & Gynecology\",\"Oncology\",\"Ophthalmology\",\"Orthopedics\",\"Otorhinolaryngology\",\"Paleontology\",\"Parasitology\",\"Pathology\",\"Pediatrics\",\"Chemistry, Medicinal\",\"Pharmacology & Pharmacy\",\"Physiology\",\"Plant Sciences\",\"Psychiatry\",\"Public, Environmental & Occupational Health\",\"Radiology, Nuclear Medicine & Medical Imaging\",\"Rehabilitation\",\"Reproductive Biology\",\"Medicine, Research & Experimental\",\"Respiratory System\",\"Rheumatology\",\"Sport Sciences\",\"Substance Abuse\",\"Surgery\",\"Toxicology\",\"Transplantation\",\"Tropical Medicine\",\"Urology & Nephrology\",\"Veterinary Sciences\",\"Virology\",\"Ornithology\",\"Zoology\",\"Astronomy & Astrophysics\",\"Chemistry, Applied\",\"Chemistry, Multidisciplinary\",\"Chemistry, Analytical\",\"Chemistry, Inorganic & Nuclear\",\"Chemistry, Organic\",\"Chemistry, Physical\",\"Crystallography\",\"Electrochemistry\",\"Geochemistry & Geophysics\",\"Geology\",\"Geosciences, Multidisciplinary\",\"Mathematics, Applied\",\"Mathematics, Interdisciplinary Applications\",\"Mathematics\",\"Statistics & Probability\",\"Meteorology & Atmospheric Sciences\",\"Mineralogy\",\"Mining & Mineral Processing\",\"Oceanography\",\"Optics\",\"Geography, Physical\",\"Physics, Applied\",\"Physics, Fluids & Plasmas\",\"Physics, Atomic, Molecular & Chemical\",\"Physics, Multidisciplinary\",\"Physics, Condensed Matter\",\"Physics, Nuclear\",\"Physics, Particles & Fields\",\"Physics, Mathematical\",\"Polymer Science\",\"Thermodynamics\",\"Water Resources\",\"Nanoscience & Nanotechnology\",\"Logic\",\"Multidisciplinary Sciences\",\"Acoustics\",\"Automation & Control Systems\",\"Computer Science, Artificial Intelligence\",\"Computer Science, Cybernetics\",\"Computer Science, Hardware & Architecture\",\"Computer Science, Information Systems\",\"Computer Science, Interdisciplinary Applications\",\"Computer Science, Software Engineering\",\"Computer Science, Theory & Methods\",\"Construction & Building Technology\",\"Energy & Fuels\",\"Engineering, Aerospace\",\"Engineering, Multidisciplinary\",\"Engineering, Biomedical\",\"Engineering, Environmental\",\"Engineering, Chemical\",\"Engineering, Industrial\",\"Engineering, Manufacturing\",\"Engineering, Marine\",\"Engineering, Civil\",\"Engineering, Ocean\",\"Engineering, Petroleum\",\"Engineering, Electrical & Electronic\",\"Engineering, Mechanical\",\"Engineering, Geological\",\"Ergonomics\",\"Imaging Science & Photographic Technology\",\"Information Science & Library Science\",\"Instruments & Instrumentation\",\"Materials Science, Paper & Wood\",\"Materials Science, Ceramics\",\"Materials Science, Multidisciplinary\",\"Materials Science, Biomaterials\",\"Materials Science, Characterization & Testing\",\"Materials Science, Coatings & Films\",\"Materials Science, Composites\",\"Materials Science, Textiles\",\"Mechanics\",\"Metallurgy & Metallurgical Engineering\",\"Microscopy\",\"Nuclear Science & Technology\",\"Operations Research & Management Science\",\"Remote Sensing\",\"Robotics\",\"Spectroscopy\",\"Telecommunications\",\"Transportation\",\"Transportation Science & Technology\",\"Archaeology\",\"Area Studies\",\"Social Sciences, Biomedical\",\"Business\",\"Business, Finance\",\"Economics\",\"Industrial Relations & Labor\",\"Management\",\"Communication\",\"Criminology & Penology\",\"Cultural Studies\",\"Demography\",\"Education & Educational Research\",\"Education, Scientific Disciplines\",\"Education, Special\",\"Ethnic Studies\",\"Family Studies\",\"Geography\",\"Law\",\"Political Science\",\"International Relations\",\"Linguistics\",\"Language & Linguistics\",\"Social Sciences, Mathematical Methods\",\"Psychology, Biological\",\"Psychology, Clinical\",\"Psychology, Educational\",\"Psychology, Developmental\",\"Psychology, Applied\",\"Psychology\",\"Psychology, Multidisciplinary\",\"Psychology, Psychoanalysis\",\"Psychology, Mathematical\",\"Psychology, Experimental\",\"Psychology, Social\",\"Planning & Development\",\"Public Administration\",\"Social Issues\",\"Ethics\",\"History of Social Sciences\",\"Hospitality, Leisure, Sport & Tourism\",\"Social Sciences, Interdisciplinary\",\"Social Work\",\"Sociology\",\"Urban Studies\",\"Women's Studies\"]"
   ]
  },
  {
   "cell_type": "code",
   "execution_count": 5,
   "metadata": {},
   "outputs": [],
   "source": [
    "data = None"
   ]
  },
  {
   "cell_type": "code",
   "execution_count": 5,
   "metadata": {},
   "outputs": [],
   "source": [
    "folder = \"/mnt/disks/vault/analysis-data/interdisciplinary-novelty-analysis/word_selection_entropy\"\n",
    "\n",
    "with open(folder + \"/data_grouped_by_label.pickle\", 'rb') as f:\n",
    "    data_grouped_by_label = pickle.load(f)"
   ]
  },
  {
   "cell_type": "code",
   "execution_count": 41,
   "metadata": {},
   "outputs": [
    {
     "name": "stderr",
     "output_type": "stream",
     "text": [
      "Progress: 100%|██████████| 249/249 [00:22<00:00, 11.05it/s]\n"
     ]
    }
   ],
   "source": [
    "data_grouped_by_label[\"title_words_\"] = data_grouped_by_label[\"title_without_stopwords\"].progress_apply(lambda x: \" \".join(x))"
   ]
  },
  {
   "cell_type": "code",
   "execution_count": 42,
   "metadata": {},
   "outputs": [
    {
     "name": "stderr",
     "output_type": "stream",
     "text": [
      "Progress: 100%|██████████| 249/249 [16:45<00:00,  3.71s/it] \n"
     ]
    }
   ],
   "source": [
    "def num_there(w):\n",
    "    return any(i.isdigit() for i in w)\n",
    "\n",
    "\n",
    "def clean_digits(s):\n",
    "    t = s.split()\n",
    "    cleaned = \" \".join([x for x in t if not num_there(x)])\n",
    "    return cleaned\n",
    "\n",
    "data_grouped_by_label[\"title_words\"] = data_grouped_by_label[\"title_words_\"].progress_apply(lambda x: clean_digits(x))"
   ]
  },
  {
   "cell_type": "code",
   "execution_count": 43,
   "metadata": {},
   "outputs": [
    {
     "data": {
      "text/html": [
       "<div>\n",
       "<style scoped>\n",
       "    .dataframe tbody tr th:only-of-type {\n",
       "        vertical-align: middle;\n",
       "    }\n",
       "\n",
       "    .dataframe tbody tr th {\n",
       "        vertical-align: top;\n",
       "    }\n",
       "\n",
       "    .dataframe thead th {\n",
       "        text-align: right;\n",
       "    }\n",
       "</style>\n",
       "<table border=\"1\" class=\"dataframe\">\n",
       "  <thead>\n",
       "    <tr style=\"text-align: right;\">\n",
       "      <th></th>\n",
       "      <th>title_without_stopwords</th>\n",
       "      <th>title_words</th>\n",
       "      <th>title_words_</th>\n",
       "    </tr>\n",
       "    <tr>\n",
       "      <th>Label</th>\n",
       "      <th></th>\n",
       "      <th></th>\n",
       "      <th></th>\n",
       "    </tr>\n",
       "  </thead>\n",
       "  <tbody>\n",
       "    <tr>\n",
       "      <th>Acoustics</th>\n",
       "      <td>[multiplexer using flat exponential filters, m...</td>\n",
       "      <td>multiplexer using flat exponential filters mul...</td>\n",
       "      <td>multiplexer using flat exponential filters mul...</td>\n",
       "    </tr>\n",
       "    <tr>\n",
       "      <th>Agricultural Economics &amp; Policy</th>\n",
       "      <td>[poultry eggs, accounting commodity credit cor...</td>\n",
       "      <td>poultry eggs accounting commodity credit corpo...</td>\n",
       "      <td>poultry eggs accounting commodity credit corpo...</td>\n",
       "    </tr>\n",
       "    <tr>\n",
       "      <th>Agricultural Engineering</th>\n",
       "      <td>[soft energy from palm wastes, potential land ...</td>\n",
       "      <td>soft energy from palm wastes potential land di...</td>\n",
       "      <td>soft energy from palm wastes potential land di...</td>\n",
       "    </tr>\n",
       "    <tr>\n",
       "      <th>Agriculture, Dairy &amp; Animal Science</th>\n",
       "      <td>[collection 2 cell embryos their culture media...</td>\n",
       "      <td>collection cell embryos their culture media co...</td>\n",
       "      <td>collection 2 cell embryos their culture media ...</td>\n",
       "    </tr>\n",
       "    <tr>\n",
       "      <th>Agriculture, Multidisciplinary</th>\n",
       "      <td>[response strawberry fruit yield plant populat...</td>\n",
       "      <td>response strawberry fruit yield plant populati...</td>\n",
       "      <td>response strawberry fruit yield plant populati...</td>\n",
       "    </tr>\n",
       "  </tbody>\n",
       "</table>\n",
       "</div>"
      ],
      "text/plain": [
       "                                                               title_without_stopwords  \\\n",
       "Label                                                                                    \n",
       "Acoustics                            [multiplexer using flat exponential filters, m...   \n",
       "Agricultural Economics & Policy      [poultry eggs, accounting commodity credit cor...   \n",
       "Agricultural Engineering             [soft energy from palm wastes, potential land ...   \n",
       "Agriculture, Dairy & Animal Science  [collection 2 cell embryos their culture media...   \n",
       "Agriculture, Multidisciplinary       [response strawberry fruit yield plant populat...   \n",
       "\n",
       "                                                                           title_words  \\\n",
       "Label                                                                                    \n",
       "Acoustics                            multiplexer using flat exponential filters mul...   \n",
       "Agricultural Economics & Policy      poultry eggs accounting commodity credit corpo...   \n",
       "Agricultural Engineering             soft energy from palm wastes potential land di...   \n",
       "Agriculture, Dairy & Animal Science  collection cell embryos their culture media co...   \n",
       "Agriculture, Multidisciplinary       response strawberry fruit yield plant populati...   \n",
       "\n",
       "                                                                          title_words_  \n",
       "Label                                                                                   \n",
       "Acoustics                            multiplexer using flat exponential filters mul...  \n",
       "Agricultural Economics & Policy      poultry eggs accounting commodity credit corpo...  \n",
       "Agricultural Engineering             soft energy from palm wastes potential land di...  \n",
       "Agriculture, Dairy & Animal Science  collection 2 cell embryos their culture media ...  \n",
       "Agriculture, Multidisciplinary       response strawberry fruit yield plant populati...  "
      ]
     },
     "execution_count": 43,
     "metadata": {},
     "output_type": "execute_result"
    }
   ],
   "source": [
    "data_grouped_by_label.head()"
   ]
  },
  {
   "cell_type": "code",
   "execution_count": 44,
   "metadata": {},
   "outputs": [],
   "source": [
    "filename = \"/mnt/disks/vault/analysis-data/interdisciplinary-novelty-analysis/corrected-entropy-analysis/all-data-grouped-by-label.pql\"\n",
    "pickle_out = open(filename,\"wb\")\n",
    "pickle.dump(data_grouped_by_label, pickle_out)\n",
    "pickle_out.close()"
   ]
  },
  {
   "cell_type": "code",
   "execution_count": 45,
   "metadata": {},
   "outputs": [],
   "source": [
    "vectorizer = CountVectorizer()\n",
    "vectorized_words = vectorizer.fit_transform(data_grouped_by_label.title_words)"
   ]
  },
  {
   "cell_type": "code",
   "execution_count": 46,
   "metadata": {},
   "outputs": [],
   "source": [
    "pickle_out = open(\"/mnt/disks/vault/analysis-data/interdisciplinary-novelty-analysis/corrected-entropy-analysis/vectorizer.pickle\",\"wb\")\n",
    "pickle.dump(vectorizer, pickle_out)\n",
    "pickle_out.close()\n",
    "\n",
    "pickle_out = open(\"/mnt/disks/vault/analysis-data/interdisciplinary-novelty-analysis/corrected-entropy-analysis/vectorized_words.pickle\",\"wb\")\n",
    "pickle.dump(vectorized_words, pickle_out)\n",
    "pickle_out.close()"
   ]
  },
  {
   "cell_type": "code",
   "execution_count": 47,
   "metadata": {},
   "outputs": [],
   "source": [
    "count_vocab = {value:key for key,value in vectorizer.vocabulary_.items()}\n",
    "count_rev_dict = {value:key for key,value in vectorizer.vocabulary_.items()}\n",
    "words = [count_rev_dict[i] for i in range(len(vectorizer.vocabulary_.keys()))]"
   ]
  },
  {
   "cell_type": "code",
   "execution_count": 51,
   "metadata": {},
   "outputs": [
    {
     "data": {
      "text/plain": [
       "['abaiang',\n",
       " 'abailard',\n",
       " 'abailles',\n",
       " 'abaisse',\n",
       " 'abaissee',\n",
       " 'abaissement',\n",
       " 'abaissements',\n",
       " 'abaixo',\n",
       " 'abaj',\n",
       " 'abaja']"
      ]
     },
     "execution_count": 51,
     "metadata": {},
     "output_type": "execute_result"
    }
   ],
   "source": [
    "words[1000:1010]"
   ]
  },
  {
   "cell_type": "markdown",
   "metadata": {},
   "source": [
    "__Iterate through the columns of the vectorized words__"
   ]
  },
  {
   "cell_type": "code",
   "execution_count": 52,
   "metadata": {},
   "outputs": [],
   "source": [
    "# https://stackoverflow.com/questions/19201972/can-numpy-bincount-work-with-2d-arrays\n",
    "\n",
    "idx = 0\n",
    "a = vectorized_words.transpose()\n",
    "b = a.toarray()"
   ]
  },
  {
   "cell_type": "code",
   "execution_count": 53,
   "metadata": {},
   "outputs": [
    {
     "data": {
      "text/plain": [
       "(2034183, 249)"
      ]
     },
     "execution_count": 53,
     "metadata": {},
     "output_type": "execute_result"
    }
   ],
   "source": [
    "b.shape"
   ]
  },
  {
   "cell_type": "code",
   "execution_count": 55,
   "metadata": {},
   "outputs": [
    {
     "data": {
      "text/plain": [
       "493947"
      ]
     },
     "execution_count": 55,
     "metadata": {},
     "output_type": "execute_result"
    }
   ],
   "source": [
    "np.amax(b)"
   ]
  },
  {
   "cell_type": "code",
   "execution_count": 56,
   "metadata": {},
   "outputs": [],
   "source": [
    "buffer = 5000\n",
    "limit = np.amax(b) + 1"
   ]
  },
  {
   "cell_type": "code",
   "execution_count": 57,
   "metadata": {},
   "outputs": [
    {
     "data": {
      "text/plain": [
       "1"
      ]
     },
     "execution_count": 57,
     "metadata": {},
     "output_type": "execute_result"
    }
   ],
   "source": [
    "_unique, _b, _c, _unique_counts = np.unique(b[:1], return_index=True, return_inverse=True, return_counts=True, axis=0)\n",
    "_unique_counts[0]"
   ]
  },
  {
   "cell_type": "markdown",
   "metadata": {},
   "source": [
    "__Calculating entropies for every word from the vectorizer__"
   ]
  },
  {
   "cell_type": "code",
   "execution_count": 60,
   "metadata": {},
   "outputs": [
    {
     "name": "stderr",
     "output_type": "stream",
     "text": [
      "100%|██████████| 2034183/2034183 [01:12<00:00, 28043.64it/s]\n"
     ]
    }
   ],
   "source": [
    "uniques = []\n",
    "counts = []\n",
    "entropies = []\n",
    "tfs = []\n",
    "\n",
    "Nc = float(b.shape[1])\n",
    "\n",
    "for i in tqdm(range(b.shape[0])):\n",
    "    \n",
    "    unique, _counts = np.unique(b[i], return_counts=True)\n",
    "    \n",
    "    uniques.append(unique)\n",
    "    counts.append(_counts)\n",
    "    \n",
    "    qcs = _counts[_counts>0]/Nc\n",
    "    ln_qcs = np.log(qcs)\n",
    "    \n",
    "    entropy = -1 * np.sum(qcs * ln_qcs)   \n",
    "    entropies.append(entropy)"
   ]
  },
  {
   "cell_type": "code",
   "execution_count": 61,
   "metadata": {},
   "outputs": [
    {
     "data": {
      "text/plain": [
       "2034183"
      ]
     },
     "execution_count": 61,
     "metadata": {},
     "output_type": "execute_result"
    }
   ],
   "source": [
    "len(entropies)"
   ]
  },
  {
   "cell_type": "code",
   "execution_count": 62,
   "metadata": {},
   "outputs": [
    {
     "data": {
      "text/plain": [
       "89502"
      ]
     },
     "execution_count": 62,
     "metadata": {},
     "output_type": "execute_result"
    }
   ],
   "source": [
    "len(list(set(entropies)))"
   ]
  },
  {
   "cell_type": "code",
   "execution_count": 63,
   "metadata": {},
   "outputs": [
    {
     "data": {
      "text/plain": [
       "249"
      ]
     },
     "execution_count": 63,
     "metadata": {},
     "output_type": "execute_result"
    }
   ],
   "source": [
    "vectorized_words.shape[0]"
   ]
  },
  {
   "cell_type": "code",
   "execution_count": 75,
   "metadata": {},
   "outputs": [],
   "source": [
    "# average term frequencies\n",
    "term_frequencies_ = vectorized_words.sum(axis=0).reshape(-1,).tolist()[0]\n",
    "term_frequencies = list(np.array(term_frequencies_)/vectorized_words.shape[0])"
   ]
  },
  {
   "cell_type": "code",
   "execution_count": 67,
   "metadata": {},
   "outputs": [
    {
     "data": {
      "text/plain": [
       "22094"
      ]
     },
     "execution_count": 67,
     "metadata": {},
     "output_type": "execute_result"
    }
   ],
   "source": [
    "len([(index, freq) for index,freq in enumerate(term_frequencies) if freq>10])"
   ]
  },
  {
   "cell_type": "code",
   "execution_count": 76,
   "metadata": {},
   "outputs": [],
   "source": [
    "good_words_with_indices = [(index, freq) for index,freq in enumerate(term_frequencies) if freq>10]"
   ]
  },
  {
   "cell_type": "code",
   "execution_count": 81,
   "metadata": {},
   "outputs": [],
   "source": [
    "good_word_tfs = [np.log(freq) for (index,freq) in good_words_with_indices]\n",
    "good_indices = [index for index, freq in good_words_with_indices]\n",
    "good_word_entropies = [entropies[index] for index in good_indices]"
   ]
  },
  {
   "cell_type": "code",
   "execution_count": 82,
   "metadata": {},
   "outputs": [
    {
     "data": {
      "text/plain": [
       "22094"
      ]
     },
     "execution_count": 82,
     "metadata": {},
     "output_type": "execute_result"
    }
   ],
   "source": [
    "len(good_word_entropies)"
   ]
  },
  {
   "cell_type": "markdown",
   "metadata": {},
   "source": [
    "__Plotting entropy to term frequency__"
   ]
  },
  {
   "cell_type": "code",
   "execution_count": 80,
   "metadata": {},
   "outputs": [
    {
     "name": "stderr",
     "output_type": "stream",
     "text": [
      "/usr/local/lib/python3.6/dist-packages/plotly/plotly/plotly.py:230: UserWarning:\n",
      "\n",
      "Woah there! Look at all those points! Due to browser limitations, the Plotly SVG drawing functions have a hard time graphing more than 500k data points for line charts, or 40k points for other types of charts. Here are some suggestions:\n",
      "(1) Use the `plotly.graph_objs.Scattergl` trace object to generate a WebGl graph.\n",
      "(2) Trying using the image API to return an image instead of a graph URL\n",
      "(3) Use matplotlib\n",
      "(4) See if you can create your visualization with fewer data points\n",
      "\n",
      "If the visualization you're using aggregates points (e.g., box plot, histogram, etc.) you can disregard this warning.\n",
      "\n",
      "/usr/local/lib/python3.6/dist-packages/IPython/core/display.py:689: UserWarning:\n",
      "\n",
      "Consider using IPython.display.IFrame instead\n",
      "\n"
     ]
    },
    {
     "data": {
      "text/html": [
       "<iframe id=\"igraph\" scrolling=\"no\" style=\"border:none;\" seamless=\"seamless\" src=\"https://plot.ly/~sreejith_s/234.embed\" height=\"525px\" width=\"100%\"></iframe>"
      ],
      "text/plain": [
       "<plotly.tools.PlotlyDisplay object>"
      ]
     },
     "execution_count": 80,
     "metadata": {},
     "output_type": "execute_result"
    }
   ],
   "source": [
    "trace0 = go.Scatter(\n",
    "    x = good_word_entropies,\n",
    "    y = good_word_tfs,\n",
    "    mode = 'markers',\n",
    "    text = words,\n",
    "    marker = dict(\n",
    "        color = '#FFBAD2',\n",
    "        line = dict(width = 1)\n",
    "    )\n",
    ")\n",
    "\n",
    "\n",
    "layout= go.Layout(\n",
    "    title= 'Entropy - Tf plot',\n",
    "    hovermode= 'closest',\n",
    "    xaxis= dict(\n",
    "        title= 'Entropy',\n",
    "        ticklen= 5,\n",
    "        zeroline= False,\n",
    "        gridwidth= 2,\n",
    "    ),\n",
    "    yaxis=dict(\n",
    "        title= 'Term Frequency',\n",
    "        ticklen= 5,\n",
    "        gridwidth= 2,\n",
    "    ),\n",
    "    \n",
    "    showlegend= False\n",
    ")\n",
    "\n",
    "plotdata = [trace0]\n",
    "\n",
    "\n",
    "fig= go.Figure(data=plotdata, layout=layout)\n",
    "py.iplot(fig)"
   ]
  },
  {
   "cell_type": "code",
   "execution_count": null,
   "metadata": {},
   "outputs": [],
   "source": []
  }
 ],
 "metadata": {
  "kernelspec": {
   "display_name": "Python 3",
   "language": "python",
   "name": "python3"
  },
  "language_info": {
   "codemirror_mode": {
    "name": "ipython",
    "version": 3
   },
   "file_extension": ".py",
   "mimetype": "text/x-python",
   "name": "python",
   "nbconvert_exporter": "python",
   "pygments_lexer": "ipython3",
   "version": "3.6.7"
  }
 },
 "nbformat": 4,
 "nbformat_minor": 2
}
