{
 "cells": [
  {
   "cell_type": "code",
   "execution_count": 1,
   "metadata": {},
   "outputs": [],
   "source": [
    "%load_ext autoreload\n",
    "%autoreload 2\n",
    "%matplotlib inline"
   ]
  },
  {
   "cell_type": "code",
   "execution_count": 2,
   "metadata": {},
   "outputs": [],
   "source": [
    "import sys\n",
    "sys.path.insert(0, \"../../code-previous\")"
   ]
  },
  {
   "cell_type": "code",
   "execution_count": 3,
   "metadata": {},
   "outputs": [
    {
     "name": "stderr",
     "output_type": "stream",
     "text": [
      "/usr/lib/python3.6/importlib/_bootstrap.py:219: RuntimeWarning: numpy.dtype size changed, may indicate binary incompatibility. Expected 96, got 88\n",
      "  return f(*args, **kwds)\n"
     ]
    }
   ],
   "source": [
    "import pandas as pd\n",
    "import numpy as np\n",
    "import networkx as nx\n",
    "import sklearn.feature_extraction as skfeatures\n",
    "import time\n",
    "import os\n",
    "\n",
    "import operator\n",
    "\n",
    "import string\n",
    "import swifter\n",
    "import nltk\n",
    "stopwords = nltk.corpus.stopwords.words('english')\n",
    "\n",
    "\n",
    "import plotly\n",
    "import plotly.plotly as py\n",
    "import plotly.graph_objs as go\n",
    "plotly.tools.set_credentials_file(username='sreejith_s', api_key='rcet0rTqFCc3WeOzWTjv')\n",
    "\n",
    "\n",
    "\n",
    "from sklearn.feature_extraction.text import CountVectorizer\n",
    "\n",
    "\n",
    "from unicodedata import category\n",
    "from tqdm import tqdm\n",
    "tqdm.pandas(desc=\"Progress\")\n",
    "\n",
    "import seaborn as sns\n",
    "sns.set_style('white')\n",
    "import matplotlib.pylab as plt"
   ]
  },
  {
   "cell_type": "code",
   "execution_count": 4,
   "metadata": {},
   "outputs": [],
   "source": [
    "data_path = \"/mnt/disks/vault/analysis-data/interdisciplinary-novelty-analysis/all_discipline_data.pql\"\n",
    "\n",
    "#data_path = \"/mnt/disks/vault/analysis-data/interdisciplinary-novelty-analysis/physics.pql\"\n",
    "data = pd.read_pickle(data_path)"
   ]
  },
  {
   "cell_type": "code",
   "execution_count": 5,
   "metadata": {},
   "outputs": [],
   "source": [
    "disciplines = ['Chemistry',\n",
    " 'Chemistry, Multidisciplinary',\n",
    " 'Chemistry, Physical',\n",
    " 'Instruments & Instrumentation',\n",
    " 'Life Sciences & Biomedicine',\n",
    " 'Multidisciplinary Sciences',\n",
    " 'Physical Sciences',\n",
    " 'Physics',\n",
    " 'Physics, Applied',\n",
    " 'Physics, Atomic, Molecular & Chemical',\n",
    " 'Physics, Multidisciplinary',\n",
    " 'Physics, Nuclear',\n",
    " 'Radiology, Nuclear Medicine & Medical Imaging',\n",
    " 'Science & Technology',\n",
    " 'Science & Technology - Other Topics',\n",
    " 'Technology']"
   ]
  },
  {
   "cell_type": "code",
   "execution_count": 6,
   "metadata": {},
   "outputs": [],
   "source": [
    "data = data[data[\"Label\"].isin(disciplines)]"
   ]
  },
  {
   "cell_type": "code",
   "execution_count": 7,
   "metadata": {},
   "outputs": [],
   "source": [
    "filtered_data = []\n",
    "\n",
    "\n",
    "for discipline in disciplines:\n",
    "    filtered_data.append(data[data.Label == discipline])\n",
    "    \n",
    "data = None    "
   ]
  },
  {
   "cell_type": "code",
   "execution_count": 9,
   "metadata": {},
   "outputs": [],
   "source": [
    "word = \"neutron\"\n",
    "\n",
    "frequencies = []\n",
    "\n",
    "for data_ in filtered_data:\n",
    "    \n",
    "    data_ = data_.sort_values(by=\"PubYear\")\n",
    "    vectorizer = CountVectorizer()\n",
    "    vectorized_words = vectorizer.fit_transform(data_.title_without_stopwords)\n",
    "    \n",
    "    vocab = vectorizer.vocabulary_\n",
    "    rev_vocab = {index:word for word,index in vocab.items()}\n",
    "    \n",
    "    row_counts = data_.groupby('PubYear').size().reset_index(name=\"count\")\n",
    "    counts =  list(row_counts[\"count\"])\n",
    "    \n",
    "    word_index = vocab[word]\n",
    "    yearly_freq_for_word = []\n",
    "    index_start = 0\n",
    "    \n",
    "    for i in range(len(row_counts)):\n",
    "        \n",
    "        offset = index_start + counts[i]\n",
    "        tmp = vectorized_words[index_start:offset,:]\n",
    "        yearly_word_freq = tmp.sum(axis=0).reshape(-1,).tolist()[0][word_index]\n",
    "        \n",
    "        ## Normalizing - Divide by number of physics articles in the year\n",
    "        _tmp = float(yearly_word_freq) / counts[i]\n",
    "        \n",
    "        yearly_freq_for_word.append(_tmp)\n",
    "        index_start = offset\n",
    "        \n",
    "    frequencies.append(yearly_freq_for_word)\n",
    "    "
   ]
  },
  {
   "cell_type": "code",
   "execution_count": 19,
   "metadata": {},
   "outputs": [
    {
     "name": "stderr",
     "output_type": "stream",
     "text": [
      "/usr/local/lib/python3.6/dist-packages/IPython/core/display.py:689: UserWarning:\n",
      "\n",
      "Consider using IPython.display.IFrame instead\n",
      "\n"
     ]
    },
    {
     "data": {
      "text/html": [
       "<iframe id=\"igraph\" scrolling=\"no\" style=\"border:none;\" seamless=\"seamless\" src=\"https://plot.ly/~sreejith_s/108.embed\" height=\"525px\" width=\"100%\"></iframe>"
      ],
      "text/plain": [
       "<plotly.tools.PlotlyDisplay object>"
      ]
     },
     "execution_count": 19,
     "metadata": {},
     "output_type": "execute_result"
    }
   ],
   "source": [
    "years = list(range(1900,2017))\n",
    "\n",
    "\n",
    "datatoplot = [go.Scatter(\n",
    "            x=years,\n",
    "            y=frequencies[0],\n",
    "            mode='lines',\n",
    "            name=disciplines[0],\n",
    "            marker=dict(\n",
    "                color='#800000'\n",
    "            )\n",
    "    ),go.Scatter(\n",
    "            x=years,\n",
    "            y=frequencies[1],\n",
    "            mode='lines',\n",
    "            name=disciplines[1],\n",
    "            marker=dict(\n",
    "                color='#9A6324'\n",
    "            )\n",
    "    ),go.Scatter(\n",
    "            x=years,\n",
    "            y=frequencies[2],\n",
    "            mode='lines',\n",
    "            name=disciplines[2],\n",
    "            marker=dict(\n",
    "                color='#808000'\n",
    "            )\n",
    "    ),go.Scatter(\n",
    "            x=years,\n",
    "            y=frequencies[3],\n",
    "            mode='lines',\n",
    "            name=disciplines[3],\n",
    "            marker=dict(\n",
    "                color='#469990'\n",
    "            )\n",
    "    ),go.Scatter(\n",
    "            x=years,\n",
    "            y=frequencies[4],\n",
    "            mode='lines',\n",
    "            name=disciplines[4],\n",
    "            marker=dict(\n",
    "                color='#000075'\n",
    "            )\n",
    "    ),go.Scatter(\n",
    "            x=years,\n",
    "            y=frequencies[5],\n",
    "            mode='lines',\n",
    "            name=disciplines[5],\n",
    "            marker=dict(\n",
    "                color='#000000'\n",
    "            )\n",
    "    ),go.Scatter(\n",
    "            x=years,\n",
    "            y=frequencies[6],\n",
    "            mode='lines',\n",
    "            name=disciplines[6],\n",
    "            marker=dict(\n",
    "                color='#e6194B'\n",
    "            )\n",
    "    ),go.Scatter(\n",
    "            x=years,\n",
    "            y=frequencies[7],\n",
    "            mode='lines',\n",
    "            name=disciplines[7],\n",
    "            marker=dict(\n",
    "                color='#f58231'\n",
    "            )\n",
    "    ),go.Scatter(\n",
    "            x=years,\n",
    "            y=frequencies[8],\n",
    "            mode='lines',\n",
    "            name=disciplines[8],\n",
    "            marker=dict(\n",
    "                color='#ffe119'\n",
    "            )\n",
    "    ),go.Scatter(\n",
    "            x=years,\n",
    "            y=frequencies[9],\n",
    "            mode='lines',\n",
    "            name=disciplines[9],\n",
    "            marker=dict(\n",
    "                color='#bfef45'\n",
    "            )\n",
    "    ),go.Scatter(\n",
    "            x=years,\n",
    "            y=frequencies[10],\n",
    "            mode='lines',\n",
    "            name=disciplines[10],\n",
    "            marker=dict(\n",
    "                color='#3cb44b'\n",
    "            )\n",
    "    ),go.Scatter(\n",
    "            x=years,\n",
    "            y=frequencies[11],\n",
    "            mode='lines',\n",
    "            name=disciplines[11],\n",
    "            marker=dict(\n",
    "                color='#42d4f4'\n",
    "            )\n",
    "    ),go.Scatter(\n",
    "            x=years,\n",
    "            y=frequencies[12],\n",
    "            mode='lines',\n",
    "            name=disciplines[12],\n",
    "            marker=dict(\n",
    "                color='#4363d8'\n",
    "            )\n",
    "    ),go.Scatter(\n",
    "            x=years,\n",
    "            y=frequencies[13],\n",
    "            mode='lines',\n",
    "            name=disciplines[13],\n",
    "            marker=dict(\n",
    "                color='#911eb4'\n",
    "            )\n",
    "    ),go.Scatter(\n",
    "            x=years,\n",
    "            y=frequencies[14],\n",
    "            mode='lines',\n",
    "            name=disciplines[14],\n",
    "            marker=dict(\n",
    "                color='#fabebe'\n",
    "            )\n",
    "    ),go.Scatter(\n",
    "            x=years,\n",
    "            y=frequencies[15],\n",
    "            mode='lines',\n",
    "            name=disciplines[15],\n",
    "            marker=dict(\n",
    "                color='#ffd8b1'\n",
    "            )\n",
    "    )]\n",
    "\n",
    "\n",
    "\n",
    "layout = go.Layout(\n",
    "    title='Word Propagation - Neutron',\n",
    "    \n",
    "    xaxis=dict(\n",
    "        title='Year',\n",
    "        titlefont=dict(\n",
    "            family='Lato',\n",
    "            color='#7f7f7f'\n",
    "        )\n",
    "    ),\n",
    "    yaxis=dict(\n",
    "        title='Popularity Ratio',\n",
    "        titlefont=dict(\n",
    "            family='Lato',\n",
    "            color='#7f7f7f'\n",
    "        )\n",
    "    )\n",
    ")\n",
    "\n",
    "\n",
    "\n",
    "fig1 = go.Figure(data=datatoplot, layout=layout)\n",
    "py.iplot(fig1, filename='freq')"
   ]
  },
  {
   "cell_type": "code",
   "execution_count": 12,
   "metadata": {},
   "outputs": [],
   "source": [
    "import pickle\n",
    "pickle_out = open(\"/mnt/disks/vault/analysis-data/interdisciplinary-novelty-analysis/frequencies_neutron.pickle\",\"wb\")\n",
    "pickle.dump(frequencies, pickle_out)\n",
    "pickle_out.close()"
   ]
  },
  {
   "cell_type": "code",
   "execution_count": 13,
   "metadata": {},
   "outputs": [],
   "source": [
    "pickle_in = open(\"/mnt/disks/vault/analysis-data/interdisciplinary-novelty-analysis/frequencies_neutron.pickle\",\"rb\")\n",
    "example_dict = pickle.load(pickle_in)"
   ]
  },
  {
   "cell_type": "code",
   "execution_count": 16,
   "metadata": {},
   "outputs": [
    {
     "data": {
      "text/plain": [
       "16"
      ]
     },
     "execution_count": 16,
     "metadata": {},
     "output_type": "execute_result"
    }
   ],
   "source": [
    "len(example_dict)"
   ]
  },
  {
   "cell_type": "code",
   "execution_count": null,
   "metadata": {},
   "outputs": [],
   "source": []
  }
 ],
 "metadata": {
  "kernelspec": {
   "display_name": "Python 3",
   "language": "python",
   "name": "python3"
  },
  "language_info": {
   "codemirror_mode": {
    "name": "ipython",
    "version": 3
   },
   "file_extension": ".py",
   "mimetype": "text/x-python",
   "name": "python",
   "nbconvert_exporter": "python",
   "pygments_lexer": "ipython3",
   "version": "3.6.7"
  }
 },
 "nbformat": 4,
 "nbformat_minor": 2
}
