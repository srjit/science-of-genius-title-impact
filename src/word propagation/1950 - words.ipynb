{
 "cells": [
  {
   "cell_type": "code",
   "execution_count": 21,
   "metadata": {},
   "outputs": [
    {
     "name": "stdout",
     "output_type": "stream",
     "text": [
      "The autoreload extension is already loaded. To reload it, use:\n",
      "  %reload_ext autoreload\n",
      "> \u001b[0;32m/usr/local/lib/python3.6/dist-packages/sklearn/feature_extraction/text.py\u001b[0m(1022)\u001b[0;36mfit_transform\u001b[0;34m()\u001b[0m\n",
      "\u001b[0;32m   1020 \u001b[0;31m        \u001b[0;32mif\u001b[0m \u001b[0misinstance\u001b[0m\u001b[0;34m(\u001b[0m\u001b[0mraw_documents\u001b[0m\u001b[0;34m,\u001b[0m \u001b[0msix\u001b[0m\u001b[0;34m.\u001b[0m\u001b[0mstring_types\u001b[0m\u001b[0;34m)\u001b[0m\u001b[0;34m:\u001b[0m\u001b[0;34m\u001b[0m\u001b[0;34m\u001b[0m\u001b[0m\n",
      "\u001b[0m\u001b[0;32m   1021 \u001b[0;31m            raise ValueError(\n",
      "\u001b[0m\u001b[0;32m-> 1022 \u001b[0;31m                \u001b[0;34m\"Iterable over raw text documents expected, \"\u001b[0m\u001b[0;34m\u001b[0m\u001b[0;34m\u001b[0m\u001b[0m\n",
      "\u001b[0m\u001b[0;32m   1023 \u001b[0;31m                \"string object received.\")\n",
      "\u001b[0m\u001b[0;32m   1024 \u001b[0;31m\u001b[0;34m\u001b[0m\u001b[0m\n",
      "\u001b[0m\n",
      "ipdb> q\n"
     ]
    }
   ],
   "source": [
    "%load_ext autoreload\n",
    "%autoreload 2\n",
    "%matplotlib inline\n",
    "%debug"
   ]
  },
  {
   "cell_type": "code",
   "execution_count": 2,
   "metadata": {},
   "outputs": [],
   "source": [
    "import sys\n",
    "sys.path.insert(0, \"../../code-previous\")"
   ]
  },
  {
   "cell_type": "code",
   "execution_count": 3,
   "metadata": {},
   "outputs": [
    {
     "name": "stderr",
     "output_type": "stream",
     "text": [
      "/usr/lib/python3.6/importlib/_bootstrap.py:219: RuntimeWarning: numpy.dtype size changed, may indicate binary incompatibility. Expected 96, got 88\n",
      "  return f(*args, **kwds)\n"
     ]
    }
   ],
   "source": [
    "import pandas as pd\n",
    "import numpy as np\n",
    "import networkx as nx\n",
    "import sklearn.feature_extraction as skfeatures\n",
    "import time\n",
    "import os\n",
    "\n",
    "import operator\n",
    "\n",
    "import string\n",
    "import swifter\n",
    "import nltk\n",
    "stopwords = nltk.corpus.stopwords.words('english')\n",
    "\n",
    "\n",
    "import plotly\n",
    "import plotly.plotly as py\n",
    "from plotly import tools\n",
    "\n",
    "import plotly.graph_objs as go\n",
    "plotly.tools.set_credentials_file(username='sreejith_s', api_key='rcet0rTqFCc3WeOzWTjv')\n",
    "\n",
    "\n",
    "\n",
    "from sklearn.feature_extraction.text import CountVectorizer\n",
    "\n",
    "\n",
    "from unicodedata import category\n",
    "from tqdm import tqdm\n",
    "tqdm.pandas(desc=\"Progress\")\n",
    "\n",
    "import seaborn as sns\n",
    "sns.set_style('white')\n",
    "import matplotlib.pylab as plt"
   ]
  },
  {
   "cell_type": "code",
   "execution_count": 4,
   "metadata": {},
   "outputs": [],
   "source": [
    "data_path = \"/mnt/disks/vault/analysis-data/interdisciplinary-novelty-analysis/all_discipline_data.pql\"\n",
    "data = pd.read_pickle(data_path)"
   ]
  },
  {
   "cell_type": "code",
   "execution_count": 5,
   "metadata": {},
   "outputs": [],
   "source": [
    "data50 = data[data.PubYear == 1950]"
   ]
  },
  {
   "cell_type": "code",
   "execution_count": 6,
   "metadata": {},
   "outputs": [],
   "source": [
    "data50_group = data50[[\"Label\",\"title_without_stopwords\"]].groupby(data50.Label)[\"title_without_stopwords\"].apply(list)"
   ]
  },
  {
   "cell_type": "code",
   "execution_count": 7,
   "metadata": {},
   "outputs": [],
   "source": [
    "data50_group = pd.DataFrame(data50_group)"
   ]
  },
  {
   "cell_type": "code",
   "execution_count": 8,
   "metadata": {},
   "outputs": [
    {
     "data": {
      "text/html": [
       "<div>\n",
       "<style scoped>\n",
       "    .dataframe tbody tr th:only-of-type {\n",
       "        vertical-align: middle;\n",
       "    }\n",
       "\n",
       "    .dataframe tbody tr th {\n",
       "        vertical-align: top;\n",
       "    }\n",
       "\n",
       "    .dataframe thead th {\n",
       "        text-align: right;\n",
       "    }\n",
       "</style>\n",
       "<table border=\"1\" class=\"dataframe\">\n",
       "  <thead>\n",
       "    <tr style=\"text-align: right;\">\n",
       "      <th></th>\n",
       "      <th>title_without_stopwords</th>\n",
       "    </tr>\n",
       "    <tr>\n",
       "      <th>Label</th>\n",
       "      <th></th>\n",
       "    </tr>\n",
       "  </thead>\n",
       "  <tbody>\n",
       "    <tr>\n",
       "      <th>1ST YEAR</th>\n",
       "      <td>[hyperbrachycephaly influenced cultural condit...</td>\n",
       "    </tr>\n",
       "    <tr>\n",
       "      <th>9-YEAR-OLD WHITE MALES</th>\n",
       "      <td>[distribution subcutaneous]</td>\n",
       "    </tr>\n",
       "    <tr>\n",
       "      <th>ABILITIES</th>\n",
       "      <td>[construction validation educational tests, in...</td>\n",
       "    </tr>\n",
       "    <tr>\n",
       "      <th>ACCEPTANCE</th>\n",
       "      <td>[counseling methods  therapy]</td>\n",
       "    </tr>\n",
       "    <tr>\n",
       "      <th>ACID</th>\n",
       "      <td>[connective tissue fine structure some methods...</td>\n",
       "    </tr>\n",
       "  </tbody>\n",
       "</table>\n",
       "</div>"
      ],
      "text/plain": [
       "                                                  title_without_stopwords\n",
       "Label                                                                    \n",
       "1ST YEAR                [hyperbrachycephaly influenced cultural condit...\n",
       "9-YEAR-OLD WHITE MALES                        [distribution subcutaneous]\n",
       "ABILITIES               [construction validation educational tests, in...\n",
       "ACCEPTANCE                                  [counseling methods  therapy]\n",
       "ACID                    [connective tissue fine structure some methods..."
      ]
     },
     "execution_count": 8,
     "metadata": {},
     "output_type": "execute_result"
    }
   ],
   "source": [
    "data50_group[:5]"
   ]
  },
  {
   "cell_type": "code",
   "execution_count": 9,
   "metadata": {},
   "outputs": [],
   "source": [
    "data50_group[\"title_words\"] = data50_group[\"title_without_stopwords\"].apply(lambda x: \" \".join(x))"
   ]
  },
  {
   "cell_type": "code",
   "execution_count": 10,
   "metadata": {},
   "outputs": [
    {
     "data": {
      "text/html": [
       "<div>\n",
       "<style scoped>\n",
       "    .dataframe tbody tr th:only-of-type {\n",
       "        vertical-align: middle;\n",
       "    }\n",
       "\n",
       "    .dataframe tbody tr th {\n",
       "        vertical-align: top;\n",
       "    }\n",
       "\n",
       "    .dataframe thead th {\n",
       "        text-align: right;\n",
       "    }\n",
       "</style>\n",
       "<table border=\"1\" class=\"dataframe\">\n",
       "  <thead>\n",
       "    <tr style=\"text-align: right;\">\n",
       "      <th></th>\n",
       "      <th>title_without_stopwords</th>\n",
       "      <th>title_words</th>\n",
       "    </tr>\n",
       "    <tr>\n",
       "      <th>Label</th>\n",
       "      <th></th>\n",
       "      <th></th>\n",
       "    </tr>\n",
       "  </thead>\n",
       "  <tbody>\n",
       "    <tr>\n",
       "      <th>1ST YEAR</th>\n",
       "      <td>[hyperbrachycephaly influenced cultural condit...</td>\n",
       "      <td>hyperbrachycephaly influenced cultural conditi...</td>\n",
       "    </tr>\n",
       "    <tr>\n",
       "      <th>9-YEAR-OLD WHITE MALES</th>\n",
       "      <td>[distribution subcutaneous]</td>\n",
       "      <td>distribution subcutaneous</td>\n",
       "    </tr>\n",
       "    <tr>\n",
       "      <th>ABILITIES</th>\n",
       "      <td>[construction validation educational tests, in...</td>\n",
       "      <td>construction validation educational tests inte...</td>\n",
       "    </tr>\n",
       "    <tr>\n",
       "      <th>ACCEPTANCE</th>\n",
       "      <td>[counseling methods  therapy]</td>\n",
       "      <td>counseling methods  therapy</td>\n",
       "    </tr>\n",
       "    <tr>\n",
       "      <th>ACID</th>\n",
       "      <td>[connective tissue fine structure some methods...</td>\n",
       "      <td>connective tissue fine structure some methods ...</td>\n",
       "    </tr>\n",
       "    <tr>\n",
       "      <th>ADIPOSE-TISSUE</th>\n",
       "      <td>[distribution subcutaneous]</td>\n",
       "      <td>distribution subcutaneous</td>\n",
       "    </tr>\n",
       "    <tr>\n",
       "      <th>ADOLESCENT GIRLS</th>\n",
       "      <td>[card versus booklet forms mmpi]</td>\n",
       "      <td>card versus booklet forms mmpi</td>\n",
       "    </tr>\n",
       "    <tr>\n",
       "      <th>ADRENAL-CORTICAL RESPONSES</th>\n",
       "      <td>[abnormalities behavior]</td>\n",
       "      <td>abnormalities behavior</td>\n",
       "    </tr>\n",
       "    <tr>\n",
       "      <th>ADULTS</th>\n",
       "      <td>[rorschach human other movement responses inre...</td>\n",
       "      <td>rorschach human other movement responses inrel...</td>\n",
       "    </tr>\n",
       "    <tr>\n",
       "      <th>ADVANCING AGE</th>\n",
       "      <td>[studies adrenal cortical anterior pituitary f...</td>\n",
       "      <td>studies adrenal cortical anterior pituitary fu...</td>\n",
       "    </tr>\n",
       "  </tbody>\n",
       "</table>\n",
       "</div>"
      ],
      "text/plain": [
       "                                                      title_without_stopwords  \\\n",
       "Label                                                                           \n",
       "1ST YEAR                    [hyperbrachycephaly influenced cultural condit...   \n",
       "9-YEAR-OLD WHITE MALES                            [distribution subcutaneous]   \n",
       "ABILITIES                   [construction validation educational tests, in...   \n",
       "ACCEPTANCE                                      [counseling methods  therapy]   \n",
       "ACID                        [connective tissue fine structure some methods...   \n",
       "ADIPOSE-TISSUE                                    [distribution subcutaneous]   \n",
       "ADOLESCENT GIRLS                             [card versus booklet forms mmpi]   \n",
       "ADRENAL-CORTICAL RESPONSES                           [abnormalities behavior]   \n",
       "ADULTS                      [rorschach human other movement responses inre...   \n",
       "ADVANCING AGE               [studies adrenal cortical anterior pituitary f...   \n",
       "\n",
       "                                                                  title_words  \n",
       "Label                                                                          \n",
       "1ST YEAR                    hyperbrachycephaly influenced cultural conditi...  \n",
       "9-YEAR-OLD WHITE MALES                              distribution subcutaneous  \n",
       "ABILITIES                   construction validation educational tests inte...  \n",
       "ACCEPTANCE                                        counseling methods  therapy  \n",
       "ACID                        connective tissue fine structure some methods ...  \n",
       "ADIPOSE-TISSUE                                      distribution subcutaneous  \n",
       "ADOLESCENT GIRLS                               card versus booklet forms mmpi  \n",
       "ADRENAL-CORTICAL RESPONSES                             abnormalities behavior  \n",
       "ADULTS                      rorschach human other movement responses inrel...  \n",
       "ADVANCING AGE               studies adrenal cortical anterior pituitary fu...  "
      ]
     },
     "execution_count": 10,
     "metadata": {},
     "output_type": "execute_result"
    }
   ],
   "source": [
    "data50_group[:10]"
   ]
  },
  {
   "cell_type": "code",
   "execution_count": 11,
   "metadata": {},
   "outputs": [],
   "source": [
    "vectorizer = CountVectorizer()\n",
    "vectorized_words = vectorizer.fit_transform(data50_group.title_words)"
   ]
  },
  {
   "cell_type": "code",
   "execution_count": 12,
   "metadata": {},
   "outputs": [],
   "source": [
    "vocab = vectorizer.vocabulary_\n",
    "rev_vocab = {index:word for word,index in vocab.items()}"
   ]
  },
  {
   "cell_type": "code",
   "execution_count": 15,
   "metadata": {},
   "outputs": [],
   "source": [
    "all_discipline_word_frequencies = vectorized_words.sum(axis=0).reshape(-1,).tolist()[0]\n",
    "word_index_with_freq = {index:freq for index,freq in enumerate(all_discipline_word_frequencies)}\n",
    "word_with_freq = {rev_vocab[index]:np.log(freq + 1) for index, freq in word_index_with_freq.items()}"
   ]
  },
  {
   "cell_type": "code",
   "execution_count": 38,
   "metadata": {},
   "outputs": [],
   "source": [
    "# document frequency\n",
    "\n",
    "vectorizers = []\n",
    "discipline_word_freq = []\n",
    "\n",
    "for i in range(len(data50_group)):\n",
    "    words_for_discipline = data50_group.iloc[i][\"title_words\"]\n",
    "    \n",
    "    tmp_vectorizer = CountVectorizer()\n",
    "    tmp_vectorized_words = tmp_vectorizer.fit_transform(words_for_discipline.split(\" \"))\n",
    "    \n",
    "    vectorizers.append(tmp_vectorizer)\n",
    "    \n",
    "    vocab_ = tmp_vectorizer.vocabulary_\n",
    "    rev_vocab = {index:word for word,index in vocab_.items()}\n",
    "    \n",
    "    discipline_word_frequencies = tmp_vectorized_words.sum(axis=0).reshape(-1,).tolist()[0]\n",
    "    disc_word_index_with_freq = {index:freq for index,freq in enumerate(discipline_word_frequencies)}\n",
    "    \n",
    "    disc_word_with_freq = {rev_vocab[index]:np.log(freq + 1) for index, freq in disc_word_index_with_freq.items()}\n",
    "    \n",
    "    discipline_word_freq.append(disc_word_with_freq)"
   ]
  },
  {
   "cell_type": "code",
   "execution_count": 39,
   "metadata": {},
   "outputs": [
    {
     "data": {
      "text/plain": [
       "{'among': 0.6931471805599453,\n",
       " 'apparent': 0.6931471805599453,\n",
       " 'associates': 0.6931471805599453,\n",
       " 'cases': 0.6931471805599453,\n",
       " 'decline': 1.0986122886681098,\n",
       " 'development': 0.6931471805599453,\n",
       " 'growth': 0.6931471805599453,\n",
       " 'household': 0.6931471805599453,\n",
       " 'infection': 0.6931471805599453,\n",
       " 'positive': 0.6931471805599453,\n",
       " 'sputum': 0.6931471805599453,\n",
       " 'tuberculosis': 0.6931471805599453,\n",
       " 'tuberculous': 0.6931471805599453}"
      ]
     },
     "execution_count": 39,
     "metadata": {},
     "output_type": "execute_result"
    }
   ],
   "source": [
    "# data50_group[\"title_words\"].apply(lambda x: len(x.split(\" \")))[:5]\n",
    "\n",
    "discipline_word_freq[10]"
   ]
  },
  {
   "cell_type": "code",
   "execution_count": null,
   "metadata": {},
   "outputs": [],
   "source": []
  }
 ],
 "metadata": {
  "kernelspec": {
   "display_name": "Python 3",
   "language": "python",
   "name": "python3"
  },
  "language_info": {
   "codemirror_mode": {
    "name": "ipython",
    "version": 3
   },
   "file_extension": ".py",
   "mimetype": "text/x-python",
   "name": "python",
   "nbconvert_exporter": "python",
   "pygments_lexer": "ipython3",
   "version": "3.6.7"
  }
 },
 "nbformat": 4,
 "nbformat_minor": 2
}
