{
 "cells": [
  {
   "cell_type": "code",
   "execution_count": 1,
   "metadata": {},
   "outputs": [],
   "source": [
    "%load_ext autoreload\n",
    "%autoreload 2\n",
    "%matplotlib inline"
   ]
  },
  {
   "cell_type": "code",
   "execution_count": 2,
   "metadata": {},
   "outputs": [
    {
     "name": "stderr",
     "output_type": "stream",
     "text": [
      "/usr/lib/python3.6/importlib/_bootstrap.py:219: RuntimeWarning: numpy.dtype size changed, may indicate binary incompatibility. Expected 96, got 88\n",
      "  return f(*args, **kwds)\n"
     ]
    }
   ],
   "source": [
    "import pandas as pd\n",
    "import numpy as np\n",
    "import operator\n",
    "\n",
    "import peakutils\n",
    "\n",
    "import string\n",
    "import nltk\n",
    "stopwords = nltk.corpus.stopwords.words('english')\n",
    "\n",
    "import pickle\n",
    "from sklearn.feature_extraction.text import CountVectorizer\n",
    "\n",
    "import plotly\n",
    "import plotly.plotly as py\n",
    "from plotly import tools\n",
    "\n",
    "import plotly.graph_objs as go\n",
    "plotly.tools.set_credentials_file(username='sreejith_s', api_key='rcet0rTqFCc3WeOzWTjv')\n",
    "\n",
    "from unicodedata import category\n",
    "from tqdm import tqdm\n",
    "tqdm.pandas(desc=\"Progress\")\n",
    "\n",
    "import seaborn as sns\n",
    "sns.set_style('white')\n",
    "import matplotlib.pylab as plt"
   ]
  },
  {
   "cell_type": "code",
   "execution_count": 3,
   "metadata": {},
   "outputs": [],
   "source": [
    "# data_path = \"/mnt/disks/vault/analysis-data/word-journey/all-data.pql\"\n",
    "# data = pd.read_pickle(data_path)"
   ]
  },
  {
   "cell_type": "code",
   "execution_count": 4,
   "metadata": {},
   "outputs": [],
   "source": [
    "filename = \"/mnt/disks/vault/analysis-data/interdisciplinary-novelty-analysis/corrected-entropy-analysis/all-data-grouped-by-label.pql\"\n",
    "pickle_in = open(filename,\"rb\")\n",
    "data_grouped_by_label = pickle.load(pickle_in)"
   ]
  },
  {
   "cell_type": "code",
   "execution_count": 5,
   "metadata": {},
   "outputs": [
    {
     "data": {
      "text/html": [
       "<div>\n",
       "<style scoped>\n",
       "    .dataframe tbody tr th:only-of-type {\n",
       "        vertical-align: middle;\n",
       "    }\n",
       "\n",
       "    .dataframe tbody tr th {\n",
       "        vertical-align: top;\n",
       "    }\n",
       "\n",
       "    .dataframe thead th {\n",
       "        text-align: right;\n",
       "    }\n",
       "</style>\n",
       "<table border=\"1\" class=\"dataframe\">\n",
       "  <thead>\n",
       "    <tr style=\"text-align: right;\">\n",
       "      <th></th>\n",
       "      <th>title_without_stopwords</th>\n",
       "      <th>title_words</th>\n",
       "      <th>title_words_</th>\n",
       "    </tr>\n",
       "    <tr>\n",
       "      <th>Label</th>\n",
       "      <th></th>\n",
       "      <th></th>\n",
       "      <th></th>\n",
       "    </tr>\n",
       "  </thead>\n",
       "  <tbody>\n",
       "    <tr>\n",
       "      <th>Acoustics</th>\n",
       "      <td>[multiplexer using flat exponential filters, m...</td>\n",
       "      <td>multiplexer using flat exponential filters mul...</td>\n",
       "      <td>multiplexer using flat exponential filters mul...</td>\n",
       "    </tr>\n",
       "    <tr>\n",
       "      <th>Agricultural Economics &amp; Policy</th>\n",
       "      <td>[poultry eggs, accounting commodity credit cor...</td>\n",
       "      <td>poultry eggs accounting commodity credit corpo...</td>\n",
       "      <td>poultry eggs accounting commodity credit corpo...</td>\n",
       "    </tr>\n",
       "    <tr>\n",
       "      <th>Agricultural Engineering</th>\n",
       "      <td>[soft energy from palm wastes, potential land ...</td>\n",
       "      <td>soft energy from palm wastes potential land di...</td>\n",
       "      <td>soft energy from palm wastes potential land di...</td>\n",
       "    </tr>\n",
       "    <tr>\n",
       "      <th>Agriculture, Dairy &amp; Animal Science</th>\n",
       "      <td>[collection 2 cell embryos their culture media...</td>\n",
       "      <td>collection cell embryos their culture media co...</td>\n",
       "      <td>collection 2 cell embryos their culture media ...</td>\n",
       "    </tr>\n",
       "    <tr>\n",
       "      <th>Agriculture, Multidisciplinary</th>\n",
       "      <td>[response strawberry fruit yield plant populat...</td>\n",
       "      <td>response strawberry fruit yield plant populati...</td>\n",
       "      <td>response strawberry fruit yield plant populati...</td>\n",
       "    </tr>\n",
       "  </tbody>\n",
       "</table>\n",
       "</div>"
      ],
      "text/plain": [
       "                                                               title_without_stopwords  \\\n",
       "Label                                                                                    \n",
       "Acoustics                            [multiplexer using flat exponential filters, m...   \n",
       "Agricultural Economics & Policy      [poultry eggs, accounting commodity credit cor...   \n",
       "Agricultural Engineering             [soft energy from palm wastes, potential land ...   \n",
       "Agriculture, Dairy & Animal Science  [collection 2 cell embryos their culture media...   \n",
       "Agriculture, Multidisciplinary       [response strawberry fruit yield plant populat...   \n",
       "\n",
       "                                                                           title_words  \\\n",
       "Label                                                                                    \n",
       "Acoustics                            multiplexer using flat exponential filters mul...   \n",
       "Agricultural Economics & Policy      poultry eggs accounting commodity credit corpo...   \n",
       "Agricultural Engineering             soft energy from palm wastes potential land di...   \n",
       "Agriculture, Dairy & Animal Science  collection cell embryos their culture media co...   \n",
       "Agriculture, Multidisciplinary       response strawberry fruit yield plant populati...   \n",
       "\n",
       "                                                                          title_words_  \n",
       "Label                                                                                   \n",
       "Acoustics                            multiplexer using flat exponential filters mul...  \n",
       "Agricultural Economics & Policy      poultry eggs accounting commodity credit corpo...  \n",
       "Agricultural Engineering             soft energy from palm wastes potential land di...  \n",
       "Agriculture, Dairy & Animal Science  collection 2 cell embryos their culture media ...  \n",
       "Agriculture, Multidisciplinary       response strawberry fruit yield plant populati...  "
      ]
     },
     "execution_count": 5,
     "metadata": {},
     "output_type": "execute_result"
    }
   ],
   "source": [
    "data_grouped_by_label.head()"
   ]
  },
  {
   "cell_type": "code",
   "execution_count": 6,
   "metadata": {},
   "outputs": [],
   "source": [
    "vectorizer = CountVectorizer()\n",
    "vectorized_words = vectorizer.fit_transform(data_grouped_by_label.title_words)"
   ]
  },
  {
   "cell_type": "code",
   "execution_count": 7,
   "metadata": {},
   "outputs": [],
   "source": [
    "vocab = {value:key for key,value in vectorizer.vocabulary_.items()}\n",
    "count_rev_dict = {value:key for key,value in vectorizer.vocabulary_.items()}\n",
    "words = [count_rev_dict[i] for i in range(len(vectorizer.vocabulary_.keys()))]"
   ]
  },
  {
   "cell_type": "code",
   "execution_count": 8,
   "metadata": {},
   "outputs": [],
   "source": [
    "#rev_dict"
   ]
  },
  {
   "cell_type": "code",
   "execution_count": 9,
   "metadata": {},
   "outputs": [],
   "source": [
    "vectorized_wordarray = vectorized_words.toarray()\n",
    "document_frequency = (vectorized_wordarray != 0).sum(0).tolist()\n",
    "document_frequency_log =  [np.log(x) for x in document_frequency]\n",
    "#2. Term Frequency - Number of times in which a word appears in a document\n",
    "term_frequency = vectorized_words.sum(axis=0).reshape(-1,).tolist()[0]\n",
    "term_frequency_log = [np.log(x) for x in term_frequency]"
   ]
  },
  {
   "cell_type": "code",
   "execution_count": 113,
   "metadata": {},
   "outputs": [],
   "source": [
    "# what disciplines does the word appear in?\n",
    "\n",
    "word_ = \"actidion\"\n",
    "\n",
    "index = words.index(word_)\n",
    "count_rev_dict[index]\n",
    "counts = vectorized_wordarray[:,index]\n",
    "\n",
    "discipline_indices = [discipline_index for discipline_index in range(len(counts.tolist())) if counts[discipline_index] != 0]"
   ]
  },
  {
   "cell_type": "code",
   "execution_count": 114,
   "metadata": {},
   "outputs": [],
   "source": [
    "disciplines = [list(data_grouped_by_label.index)[index] for index in discipline_indices]"
   ]
  },
  {
   "cell_type": "code",
   "execution_count": 115,
   "metadata": {},
   "outputs": [
    {
     "name": "stdout",
     "output_type": "stream",
     "text": [
      "['Biochemistry & Molecular Biology', 'Biophysics', 'Chemistry, Organic', 'Infectious Diseases', 'Microbiology', 'Multidisciplinary Sciences']\n",
      "6\n"
     ]
    }
   ],
   "source": [
    "print(disciplines)\n",
    "print(len(disciplines))"
   ]
  },
  {
   "cell_type": "code",
   "execution_count": 116,
   "metadata": {},
   "outputs": [
    {
     "name": "stderr",
     "output_type": "stream",
     "text": [
      "100%|██████████| 6/6 [02:03<00:00, 21.74s/it]\n"
     ]
    }
   ],
   "source": [
    "filtered_data = []\n",
    "\n",
    "for discipline in disciplines:\n",
    "    filtered_data.append(data[data.Label == discipline])\n",
    "    \n",
    "#data = None    \n",
    "\n",
    "frequencies = []\n",
    "\n",
    "for data_ in tqdm(filtered_data):\n",
    "    \n",
    "    data_ = data_.sort_values(by=\"PubYear\")\n",
    "    vectorizer = CountVectorizer()\n",
    "    vectorized_words = vectorizer.fit_transform(data_.title_without_stopwords)\n",
    "    \n",
    "    vocab = vectorizer.vocabulary_\n",
    "    rev_vocab = {index:word for word,index in vocab.items()}\n",
    "    \n",
    "    row_counts = data_.groupby('PubYear').size().reset_index(name=\"count\")\n",
    "    counts =  list(row_counts[\"count\"])\n",
    "    \n",
    "    word_index = vocab[word_]\n",
    "    yearly_freq_for_word = []\n",
    "    index_start = 0\n",
    "    \n",
    "    for i in range(len(row_counts)):\n",
    "        \n",
    "        offset = index_start + counts[i]\n",
    "        tmp = vectorized_words[index_start:offset,:]\n",
    "        yearly_word_freq = tmp.sum(axis=0).reshape(-1,).tolist()[0][word_index]\n",
    "        \n",
    "        ## Normalizing - Divide by number of physics articles in the year\n",
    "        _tmp = float(yearly_word_freq) / counts[i]\n",
    "        \n",
    "        yearly_freq_for_word.append(_tmp)\n",
    "        index_start = offset\n",
    "#         \n",
    "    frequencies.append(yearly_freq_for_word)\n",
    "    "
   ]
  },
  {
   "cell_type": "code",
   "execution_count": 104,
   "metadata": {},
   "outputs": [
    {
     "name": "stderr",
     "output_type": "stream",
     "text": [
      "/usr/local/lib/python3.6/dist-packages/IPython/core/display.py:689: UserWarning:\n",
      "\n",
      "Consider using IPython.display.IFrame instead\n",
      "\n"
     ]
    },
    {
     "data": {
      "text/html": [
       "<iframe id=\"igraph\" scrolling=\"no\" style=\"border:none;\" seamless=\"seamless\" src=\"https://plot.ly/~sreejith_s/254.embed\" height=\"525px\" width=\"100%\"></iframe>"
      ],
      "text/plain": [
       "<plotly.tools.PlotlyDisplay object>"
      ]
     },
     "execution_count": 104,
     "metadata": {},
     "output_type": "execute_result"
    }
   ],
   "source": [
    "years = [sorted(_data.PubYear.unique()) for _data in filtered_data]\n",
    "\n",
    "datatoplot = [go.Scatter(\n",
    "            x=years[0],\n",
    "            y=frequencies[0],\n",
    "            mode='lines',\n",
    "            name=disciplines[0],\n",
    "    ),go.Scatter(\n",
    "            x=years[1],\n",
    "            y=frequencies[1],\n",
    "            mode='lines',\n",
    "            name=disciplines[1],\n",
    "    ),go.Scatter(\n",
    "            x=years[2],\n",
    "            y=frequencies[2],\n",
    "            mode='lines',\n",
    "            name=disciplines[2],\n",
    "    ),go.Scatter(\n",
    "            x=years[3],\n",
    "            y=frequencies[3],\n",
    "            mode='lines',\n",
    "            name=disciplines[3],\n",
    "    ),go.Scatter(\n",
    "            x=years[4],\n",
    "            y=frequencies[4],\n",
    "            mode='lines',\n",
    "            name=disciplines[4],\n",
    "    ),go.Scatter(\n",
    "            x=years[5],\n",
    "            y=frequencies[5],\n",
    "            mode='lines',\n",
    "            name=disciplines[5],\n",
    "#     ),go.Scatter(\n",
    "#             x=years[6],\n",
    "#             y=frequencies[6],\n",
    "#             mode='lines',\n",
    "#             name=disciplines[6],\n",
    "#     ),go.Scatter(\n",
    "#             x=years[7],\n",
    "#             y=frequencies[7],\n",
    "#             mode='lines',\n",
    "#             name=disciplines[7],\n",
    "#     ),go.Scatter(\n",
    "#             x=years[8],\n",
    "#             y=frequencies[8],\n",
    "#             mode='lines',\n",
    "#             name=disciplines[8],\n",
    "#     ),go.Scatter(\n",
    "#             x=years[9],\n",
    "#             y=frequencies[9],\n",
    "#             mode='lines',\n",
    "#             name=disciplines[9],\n",
    "#     ),go.Scatter(\n",
    "#             x=years[10],\n",
    "#             y=frequencies[10],\n",
    "#             mode='lines',\n",
    "#             name=disciplines[10],\n",
    "#     ),go.Scatter(\n",
    "#             x=years[11],\n",
    "#             y=frequencies[11],\n",
    "#             mode='lines',\n",
    "#             name=disciplines[11],\n",
    "#     ),go.Scatter(\n",
    "#             x=years[12],\n",
    "#             y=frequencies[12],\n",
    "#             mode='lines',\n",
    "#             name=disciplines[12],\n",
    "#     ),go.Scatter(\n",
    "#             x=years[13],\n",
    "#             y=frequencies[13],\n",
    "#             mode='lines',\n",
    "#             name=disciplines[13],\n",
    "    )]\n",
    "\n",
    "\n",
    "\n",
    "layout = go.Layout(\n",
    "    title='Word Propagation ' + word_,\n",
    "    \n",
    "    xaxis=dict(\n",
    "        title='Year',\n",
    "        titlefont=dict(\n",
    "            family='Lato',\n",
    "            color='#7f7f7f'\n",
    "        )\n",
    "    ),\n",
    "    yaxis=dict(\n",
    "        title='Popularity Ratio',\n",
    "        titlefont=dict(\n",
    "            family='Lato',\n",
    "            color='#7f7f7f'\n",
    "        )\n",
    "    )\n",
    ")\n",
    "\n",
    "\n",
    "\n",
    "fig1 = go.Figure(data=datatoplot, layout=layout)\n",
    "py.iplot(fig1, filename='freq')"
   ]
  },
  {
   "cell_type": "code",
   "execution_count": null,
   "metadata": {},
   "outputs": [],
   "source": []
  }
 ],
 "metadata": {
  "kernelspec": {
   "display_name": "Python 3",
   "language": "python",
   "name": "python3"
  },
  "language_info": {
   "codemirror_mode": {
    "name": "ipython",
    "version": 3
   },
   "file_extension": ".py",
   "mimetype": "text/x-python",
   "name": "python",
   "nbconvert_exporter": "python",
   "pygments_lexer": "ipython3",
   "version": "3.6.7"
  }
 },
 "nbformat": 4,
 "nbformat_minor": 2
}
