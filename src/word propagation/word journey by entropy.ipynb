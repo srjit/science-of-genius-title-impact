{
 "cells": [
  {
   "cell_type": "code",
   "execution_count": 1,
   "metadata": {},
   "outputs": [],
   "source": [
    "import warnings\n",
    "warnings.filterwarnings('ignore')"
   ]
  },
  {
   "cell_type": "code",
   "execution_count": 2,
   "metadata": {},
   "outputs": [],
   "source": [
    "%load_ext autoreload\n",
    "%autoreload 2\n",
    "%matplotlib inline"
   ]
  },
  {
   "cell_type": "code",
   "execution_count": 3,
   "metadata": {},
   "outputs": [],
   "source": [
    "import sys\n",
    "sys.path.insert(0, \"../../code-previous\")"
   ]
  },
  {
   "cell_type": "code",
   "execution_count": null,
   "metadata": {},
   "outputs": [],
   "source": [
    "import pandas as pd\n",
    "import numpy as np\n",
    "import operator\n",
    "\n",
    "import peakutils\n",
    "\n",
    "import string\n",
    "import nltk\n",
    "stopwords = nltk.corpus.stopwords.words('english')\n",
    "\n",
    "import operator\n",
    "\n",
    "\n",
    "import pickle\n",
    "from sklearn.feature_extraction.text import CountVectorizer\n",
    "\n",
    "import plotly\n",
    "import plotly.plotly as py\n",
    "from plotly import tools\n",
    "\n",
    "import plotly.graph_objs as go\n",
    "plotly.tools.set_credentials_file(username='sreejith_s', api_key='rcet0rTqFCc3WeOzWTjv')\n",
    "\n",
    "from unicodedata import category\n",
    "from tqdm import tqdm\n",
    "tqdm.pandas(desc=\"Progress\")\n",
    "\n",
    "import seaborn as sns\n",
    "sns.set_style('white')\n",
    "import matplotlib.pylab as plt"
   ]
  },
  {
   "cell_type": "code",
   "execution_count": 4,
   "metadata": {},
   "outputs": [],
   "source": [
    "data_path = \"/mnt/disks/vault/analysis-data/word-journey/all-data.pql\"\n",
    "data = pd.read_pickle(data_path)"
   ]
  },
  {
   "cell_type": "code",
   "execution_count": 5,
   "metadata": {},
   "outputs": [
    {
     "data": {
      "text/plain": [
       "91892093"
      ]
     },
     "execution_count": 5,
     "metadata": {},
     "output_type": "execute_result"
    }
   ],
   "source": [
    "len(data)"
   ]
  },
  {
   "cell_type": "code",
   "execution_count": 9,
   "metadata": {},
   "outputs": [],
   "source": [
    "data_update = data[[\"Label\",\"PubYear\",\"Doctypes\", \"title_without_stopwords\"]]\n",
    "disciplines = [\"Architecture\",\"Art\",\"Humanities, Multidisciplinary\",\"Folklore\",\"Medieval & Renaissance Studies\",\"Asian Studies\",\"Classics\",\"Dance\",\"Film, Radio, Television\",\"History\",\"History & Philosophy of Science\",\"Literary Theory & Criticism\",\"Literary Reviews\",\"Literature\",\"Literature, African, Australian, Canadian\",\"Literature, American\",\"Literature, British Isles\",\"Literature, German, Dutch, Scandinavian\",\"Literature, Romance\",\"Literature, Slavic\",\"Poetry\",\"Music\",\"Philosophy\",\"Religion\",\"Theater\",\"Agriculture, Dairy & Animal Science\",\"Agricultural Engineering\",\"Agricultural Economics & Policy\",\"Agriculture, Multidisciplinary\",\"Agronomy\",\"Horticulture\",\"Soil Science\",\"Allergy\",\"Anatomy & Morphology\",\"Anesthesiology\",\"Anthropology\",\"Audiology & Speech-Language Pathology\",\"Behavioral Sciences\",\"Biochemical Research Methods\",\"Biochemistry & Molecular Biology\",\"Biodiversity Conservation\",\"Biophysics\",\"Biotechnology & Applied Microbiology\",\"Cardiac & Cardiovascular Systems\",\"Peripheral Vascular Disease\",\"Cell & Tissue Engineering\",\"Cell Biology\",\"Dentistry, Oral Surgery & Medicine\",\"Dermatology\",\"Developmental Biology\",\"Emergency Medicine\",\"Andrology\",\"Endocrinology & Metabolism\",\"Entomology\",\"Ecology\",\"Environmental Sciences\",\"Environmental Studies\",\"Evolutionary Biology\",\"Fisheries\",\"Food Science & Technology\",\"Forestry\",\"Gastroenterology & Hepatology\",\"Critical Care Medicine\",\"Primary Health Care\",\"Medicine, General & Internal\",\"Genetics & Heredity\",\"Geriatrics & Gerontology\",\"Gerontology\",\"Health Care Sciences & Services\",\"Health Policy & Services\",\"Hematology\",\"Immunology\",\"Infectious Diseases\",\"Integrative & Complementary Medicine\",\"Medicine, Legal\",\"Biology\",\"Limnology\",\"Marine & Freshwater Biology\",\"Mathematical & Computational Biology\",\"Medical Ethics\",\"Medical Informatics\",\"Medical Laboratory Technology\",\"Microbiology\",\"Mycology\",\"Clinical Neurology\",\"Neurosciences\",\"Neuroimaging\",\"Nursing\",\"Nutrition & Dietetics\",\"Obstetrics & Gynecology\",\"Oncology\",\"Ophthalmology\",\"Orthopedics\",\"Otorhinolaryngology\",\"Paleontology\",\"Parasitology\",\"Pathology\",\"Pediatrics\",\"Chemistry, Medicinal\",\"Pharmacology & Pharmacy\",\"Physiology\",\"Plant Sciences\",\"Psychiatry\",\"Public, Environmental & Occupational Health\",\"Radiology, Nuclear Medicine & Medical Imaging\",\"Rehabilitation\",\"Reproductive Biology\",\"Medicine, Research & Experimental\",\"Respiratory System\",\"Rheumatology\",\"Sport Sciences\",\"Substance Abuse\",\"Surgery\",\"Toxicology\",\"Transplantation\",\"Tropical Medicine\",\"Urology & Nephrology\",\"Veterinary Sciences\",\"Virology\",\"Ornithology\",\"Zoology\",\"Astronomy & Astrophysics\",\"Chemistry, Applied\",\"Chemistry, Multidisciplinary\",\"Chemistry, Analytical\",\"Chemistry, Inorganic & Nuclear\",\"Chemistry, Organic\",\"Chemistry, Physical\",\"Crystallography\",\"Electrochemistry\",\"Geochemistry & Geophysics\",\"Geology\",\"Geosciences, Multidisciplinary\",\"Mathematics, Applied\",\"Mathematics, Interdisciplinary Applications\",\"Mathematics\",\"Statistics & Probability\",\"Meteorology & Atmospheric Sciences\",\"Mineralogy\",\"Mining & Mineral Processing\",\"Oceanography\",\"Optics\",\"Geography, Physical\",\"Physics, Applied\",\"Physics, Fluids & Plasmas\",\"Physics, Atomic, Molecular & Chemical\",\"Physics, Multidisciplinary\",\"Physics, Condensed Matter\",\"Physics, Nuclear\",\"Physics, Particles & Fields\",\"Physics, Mathematical\",\"Polymer Science\",\"Thermodynamics\",\"Water Resources\",\"Nanoscience & Nanotechnology\",\"Logic\",\"Multidisciplinary Sciences\",\"Acoustics\",\"Automation & Control Systems\",\"Computer Science, Artificial Intelligence\",\"Computer Science, Cybernetics\",\"Computer Science, Hardware & Architecture\",\"Computer Science, Information Systems\",\"Computer Science, Interdisciplinary Applications\",\"Computer Science, Software Engineering\",\"Computer Science, Theory & Methods\",\"Construction & Building Technology\",\"Energy & Fuels\",\"Engineering, Aerospace\",\"Engineering, Multidisciplinary\",\"Engineering, Biomedical\",\"Engineering, Environmental\",\"Engineering, Chemical\",\"Engineering, Industrial\",\"Engineering, Manufacturing\",\"Engineering, Marine\",\"Engineering, Civil\",\"Engineering, Ocean\",\"Engineering, Petroleum\",\"Engineering, Electrical & Electronic\",\"Engineering, Mechanical\",\"Engineering, Geological\",\"Ergonomics\",\"Imaging Science & Photographic Technology\",\"Information Science & Library Science\",\"Instruments & Instrumentation\",\"Materials Science, Paper & Wood\",\"Materials Science, Ceramics\",\"Materials Science, Multidisciplinary\",\"Materials Science, Biomaterials\",\"Materials Science, Characterization & Testing\",\"Materials Science, Coatings & Films\",\"Materials Science, Composites\",\"Materials Science, Textiles\",\"Mechanics\",\"Metallurgy & Metallurgical Engineering\",\"Microscopy\",\"Nuclear Science & Technology\",\"Operations Research & Management Science\",\"Remote Sensing\",\"Robotics\",\"Spectroscopy\",\"Telecommunications\",\"Transportation\",\"Transportation Science & Technology\",\"Archaeology\",\"Area Studies\",\"Social Sciences, Biomedical\",\"Business\",\"Business, Finance\",\"Economics\",\"Industrial Relations & Labor\",\"Management\",\"Communication\",\"Criminology & Penology\",\"Cultural Studies\",\"Demography\",\"Education & Educational Research\",\"Education, Scientific Disciplines\",\"Education, Special\",\"Ethnic Studies\",\"Family Studies\",\"Geography\",\"Law\",\"Political Science\",\"International Relations\",\"Linguistics\",\"Language & Linguistics\",\"Social Sciences, Mathematical Methods\",\"Psychology, Biological\",\"Psychology, Clinical\",\"Psychology, Educational\",\"Psychology, Developmental\",\"Psychology, Applied\",\"Psychology\",\"Psychology, Multidisciplinary\",\"Psychology, Psychoanalysis\",\"Psychology, Mathematical\",\"Psychology, Experimental\",\"Psychology, Social\",\"Planning & Development\",\"Public Administration\",\"Social Issues\",\"Ethics\",\"History of Social Sciences\",\"Hospitality, Leisure, Sport & Tourism\",\"Social Sciences, Interdisciplinary\",\"Social Work\",\"Sociology\",\"Urban Studies\",\"Women's Studies\"]\n",
    "data = data_update[data_update['Label'].isin(disciplines)]"
   ]
  },
  {
   "cell_type": "code",
   "execution_count": 10,
   "metadata": {},
   "outputs": [
    {
     "name": "stdout",
     "output_type": "stream",
     "text": [
      "249\n",
      "91892093\n"
     ]
    }
   ],
   "source": [
    "print(len(data.Label.unique()))\n",
    "print(len(data))"
   ]
  },
  {
   "cell_type": "code",
   "execution_count": 34,
   "metadata": {},
   "outputs": [],
   "source": [
    "#data.head()"
   ]
  },
  {
   "cell_type": "code",
   "execution_count": 15,
   "metadata": {},
   "outputs": [],
   "source": [
    "data_grouped_by_year_label = data[[\"Label\",\"PubYear\",\"title_without_stopwords\"]].groupby([\"Label\",\"PubYear\"])[\"title_without_stopwords\"].apply(list)"
   ]
  },
  {
   "cell_type": "code",
   "execution_count": 16,
   "metadata": {},
   "outputs": [
    {
     "data": {
      "text/html": [
       "<div>\n",
       "<style scoped>\n",
       "    .dataframe tbody tr th:only-of-type {\n",
       "        vertical-align: middle;\n",
       "    }\n",
       "\n",
       "    .dataframe tbody tr th {\n",
       "        vertical-align: top;\n",
       "    }\n",
       "\n",
       "    .dataframe thead th {\n",
       "        text-align: right;\n",
       "    }\n",
       "</style>\n",
       "<table border=\"1\" class=\"dataframe\">\n",
       "  <thead>\n",
       "    <tr style=\"text-align: right;\">\n",
       "      <th></th>\n",
       "      <th></th>\n",
       "      <th>title_without_stopwords</th>\n",
       "    </tr>\n",
       "    <tr>\n",
       "      <th>Label</th>\n",
       "      <th>PubYear</th>\n",
       "      <th></th>\n",
       "    </tr>\n",
       "  </thead>\n",
       "  <tbody>\n",
       "    <tr>\n",
       "      <th rowspan=\"5\" valign=\"top\">Acoustics</th>\n",
       "      <th>1929</th>\n",
       "      <td>[hearing speech auditoriums, hearing speech au...</td>\n",
       "    </tr>\n",
       "    <tr>\n",
       "      <th>1930</th>\n",
       "      <td>[reverberation time bridge  instrumental metho...</td>\n",
       "    </tr>\n",
       "    <tr>\n",
       "      <th>1931</th>\n",
       "      <td>[some physical characteristics speech music, s...</td>\n",
       "    </tr>\n",
       "    <tr>\n",
       "      <th>1932</th>\n",
       "      <td>[position finding under water sound signals, p...</td>\n",
       "    </tr>\n",
       "    <tr>\n",
       "      <th>1933</th>\n",
       "      <td>[some notes character bell tones, some notes c...</td>\n",
       "    </tr>\n",
       "  </tbody>\n",
       "</table>\n",
       "</div>"
      ],
      "text/plain": [
       "                                             title_without_stopwords\n",
       "Label     PubYear                                                   \n",
       "Acoustics 1929     [hearing speech auditoriums, hearing speech au...\n",
       "          1930     [reverberation time bridge  instrumental metho...\n",
       "          1931     [some physical characteristics speech music, s...\n",
       "          1932     [position finding under water sound signals, p...\n",
       "          1933     [some notes character bell tones, some notes c..."
      ]
     },
     "execution_count": 16,
     "metadata": {},
     "output_type": "execute_result"
    }
   ],
   "source": [
    "data_grouped_by_year_label = pd.DataFrame(data_grouped_by_year_label)\n",
    "data_grouped_by_year_label.head()"
   ]
  },
  {
   "cell_type": "code",
   "execution_count": 17,
   "metadata": {},
   "outputs": [],
   "source": [
    "data_grouped_by_year_label[\"cleaned_titles\"] = data_grouped_by_year_label[\"title_without_stopwords\"].apply(lambda x: list(set(x)))"
   ]
  },
  {
   "cell_type": "code",
   "execution_count": 18,
   "metadata": {},
   "outputs": [
    {
     "data": {
      "text/html": [
       "<div>\n",
       "<style scoped>\n",
       "    .dataframe tbody tr th:only-of-type {\n",
       "        vertical-align: middle;\n",
       "    }\n",
       "\n",
       "    .dataframe tbody tr th {\n",
       "        vertical-align: top;\n",
       "    }\n",
       "\n",
       "    .dataframe thead th {\n",
       "        text-align: right;\n",
       "    }\n",
       "</style>\n",
       "<table border=\"1\" class=\"dataframe\">\n",
       "  <thead>\n",
       "    <tr style=\"text-align: right;\">\n",
       "      <th></th>\n",
       "      <th></th>\n",
       "      <th>title_without_stopwords</th>\n",
       "      <th>cleaned_titles</th>\n",
       "    </tr>\n",
       "    <tr>\n",
       "      <th>Label</th>\n",
       "      <th>PubYear</th>\n",
       "      <th></th>\n",
       "      <th></th>\n",
       "    </tr>\n",
       "  </thead>\n",
       "  <tbody>\n",
       "    <tr>\n",
       "      <th rowspan=\"5\" valign=\"top\">Acoustics</th>\n",
       "      <th>1929</th>\n",
       "      <td>[hearing speech auditoriums, hearing speech au...</td>\n",
       "      <td>[psychological measurements annoyance related ...</td>\n",
       "    </tr>\n",
       "    <tr>\n",
       "      <th>1930</th>\n",
       "      <td>[reverberation time bridge  instrumental metho...</td>\n",
       "      <td>[theory horn type loud speaker, discussion sym...</td>\n",
       "    </tr>\n",
       "    <tr>\n",
       "      <th>1931</th>\n",
       "      <td>[some physical characteristics speech music, s...</td>\n",
       "      <td>[microphone technique radio broadcasting, orga...</td>\n",
       "    </tr>\n",
       "    <tr>\n",
       "      <th>1932</th>\n",
       "      <td>[position finding under water sound signals, p...</td>\n",
       "      <td>[acoustic pick up philadelphia orchestra broad...</td>\n",
       "    </tr>\n",
       "    <tr>\n",
       "      <th>1933</th>\n",
       "      <td>[some notes character bell tones, some notes c...</td>\n",
       "      <td>[sound absorption non reactive mixtures, deter...</td>\n",
       "    </tr>\n",
       "  </tbody>\n",
       "</table>\n",
       "</div>"
      ],
      "text/plain": [
       "                                             title_without_stopwords  \\\n",
       "Label     PubYear                                                      \n",
       "Acoustics 1929     [hearing speech auditoriums, hearing speech au...   \n",
       "          1930     [reverberation time bridge  instrumental metho...   \n",
       "          1931     [some physical characteristics speech music, s...   \n",
       "          1932     [position finding under water sound signals, p...   \n",
       "          1933     [some notes character bell tones, some notes c...   \n",
       "\n",
       "                                                      cleaned_titles  \n",
       "Label     PubYear                                                     \n",
       "Acoustics 1929     [psychological measurements annoyance related ...  \n",
       "          1930     [theory horn type loud speaker, discussion sym...  \n",
       "          1931     [microphone technique radio broadcasting, orga...  \n",
       "          1932     [acoustic pick up philadelphia orchestra broad...  \n",
       "          1933     [sound absorption non reactive mixtures, deter...  "
      ]
     },
     "execution_count": 18,
     "metadata": {},
     "output_type": "execute_result"
    }
   ],
   "source": [
    "data_grouped_by_year_label.head()"
   ]
  },
  {
   "cell_type": "code",
   "execution_count": 26,
   "metadata": {},
   "outputs": [
    {
     "name": "stderr",
     "output_type": "stream",
     "text": [
      "Progress: 100%|██████████| 19980/19980 [00:15<00:00, 1262.50it/s]\n"
     ]
    }
   ],
   "source": [
    "# clean up the title\n",
    "\n",
    "def num_there(w):\n",
    "    return any(i.isdigit() for i in w)\n",
    "\n",
    "\n",
    "def clean_digits(s):\n",
    "    t = s.split()\n",
    "    cleaned = \" \".join([x for x in t if not num_there(x)])\n",
    "    return cleaned\n",
    "\n",
    "data_grouped_by_year_label = data_grouped_by_year_label.reset_index()\n",
    "data_grouped_by_year_label[\"title_words_\"] = data_grouped_by_year_label[\"cleaned_titles\"].progress_apply(lambda x: \" \".join(x))"
   ]
  },
  {
   "cell_type": "code",
   "execution_count": 28,
   "metadata": {},
   "outputs": [
    {
     "name": "stderr",
     "output_type": "stream",
     "text": [
      "Progress: 100%|██████████| 19980/19980 [10:21<00:00, 32.15it/s]  \n"
     ]
    }
   ],
   "source": [
    "data_grouped_by_year_label[\"title_words\"] = data_grouped_by_year_label[\"title_words_\"].progress_apply(lambda x: clean_digits(x))"
   ]
  },
  {
   "cell_type": "code",
   "execution_count": 5,
   "metadata": {},
   "outputs": [],
   "source": [
    "filename = \"/mnt/disks/vault/analysis-data/interdisciplinary-novelty-analysis/corrected-entropy-analysis/word-journey-data.pql\"\n",
    "#data_grouped_by_year_label.to_pickle(filename)\n",
    "\n",
    "\n",
    "data_grouped_by_year_label = pd.read_pickle(filename)"
   ]
  },
  {
   "cell_type": "code",
   "execution_count": 6,
   "metadata": {},
   "outputs": [
    {
     "data": {
      "text/html": [
       "<div>\n",
       "<style scoped>\n",
       "    .dataframe tbody tr th:only-of-type {\n",
       "        vertical-align: middle;\n",
       "    }\n",
       "\n",
       "    .dataframe tbody tr th {\n",
       "        vertical-align: top;\n",
       "    }\n",
       "\n",
       "    .dataframe thead th {\n",
       "        text-align: right;\n",
       "    }\n",
       "</style>\n",
       "<table border=\"1\" class=\"dataframe\">\n",
       "  <thead>\n",
       "    <tr style=\"text-align: right;\">\n",
       "      <th></th>\n",
       "      <th>index</th>\n",
       "      <th>Label</th>\n",
       "      <th>PubYear</th>\n",
       "      <th>title_without_stopwords</th>\n",
       "      <th>cleaned_titles</th>\n",
       "      <th>title_words_</th>\n",
       "      <th>title_words</th>\n",
       "    </tr>\n",
       "  </thead>\n",
       "  <tbody>\n",
       "    <tr>\n",
       "      <th>0</th>\n",
       "      <td>0</td>\n",
       "      <td>Acoustics</td>\n",
       "      <td>1929</td>\n",
       "      <td>[hearing speech auditoriums, hearing speech au...</td>\n",
       "      <td>[psychological measurements annoyance related ...</td>\n",
       "      <td>psychological measurements annoyance related p...</td>\n",
       "      <td>psychological measurements annoyance related p...</td>\n",
       "    </tr>\n",
       "    <tr>\n",
       "      <th>1</th>\n",
       "      <td>1</td>\n",
       "      <td>Acoustics</td>\n",
       "      <td>1930</td>\n",
       "      <td>[reverberation time bridge  instrumental metho...</td>\n",
       "      <td>[theory horn type loud speaker, discussion sym...</td>\n",
       "      <td>theory horn type loud speaker discussion sympo...</td>\n",
       "      <td>theory horn type loud speaker discussion sympo...</td>\n",
       "    </tr>\n",
       "    <tr>\n",
       "      <th>2</th>\n",
       "      <td>2</td>\n",
       "      <td>Acoustics</td>\n",
       "      <td>1931</td>\n",
       "      <td>[some physical characteristics speech music, s...</td>\n",
       "      <td>[microphone technique radio broadcasting, orga...</td>\n",
       "      <td>microphone technique radio broadcasting organ ...</td>\n",
       "      <td>microphone technique radio broadcasting organ ...</td>\n",
       "    </tr>\n",
       "    <tr>\n",
       "      <th>3</th>\n",
       "      <td>3</td>\n",
       "      <td>Acoustics</td>\n",
       "      <td>1932</td>\n",
       "      <td>[position finding under water sound signals, p...</td>\n",
       "      <td>[acoustic pick up philadelphia orchestra broad...</td>\n",
       "      <td>acoustic pick up philadelphia orchestra broadc...</td>\n",
       "      <td>acoustic pick up philadelphia orchestra broadc...</td>\n",
       "    </tr>\n",
       "    <tr>\n",
       "      <th>4</th>\n",
       "      <td>4</td>\n",
       "      <td>Acoustics</td>\n",
       "      <td>1933</td>\n",
       "      <td>[some notes character bell tones, some notes c...</td>\n",
       "      <td>[sound absorption non reactive mixtures, deter...</td>\n",
       "      <td>sound absorption non reactive mixtures determi...</td>\n",
       "      <td>sound absorption non reactive mixtures determi...</td>\n",
       "    </tr>\n",
       "  </tbody>\n",
       "</table>\n",
       "</div>"
      ],
      "text/plain": [
       "   index      Label  PubYear  \\\n",
       "0      0  Acoustics     1929   \n",
       "1      1  Acoustics     1930   \n",
       "2      2  Acoustics     1931   \n",
       "3      3  Acoustics     1932   \n",
       "4      4  Acoustics     1933   \n",
       "\n",
       "                             title_without_stopwords  \\\n",
       "0  [hearing speech auditoriums, hearing speech au...   \n",
       "1  [reverberation time bridge  instrumental metho...   \n",
       "2  [some physical characteristics speech music, s...   \n",
       "3  [position finding under water sound signals, p...   \n",
       "4  [some notes character bell tones, some notes c...   \n",
       "\n",
       "                                      cleaned_titles  \\\n",
       "0  [psychological measurements annoyance related ...   \n",
       "1  [theory horn type loud speaker, discussion sym...   \n",
       "2  [microphone technique radio broadcasting, orga...   \n",
       "3  [acoustic pick up philadelphia orchestra broad...   \n",
       "4  [sound absorption non reactive mixtures, deter...   \n",
       "\n",
       "                                        title_words_  \\\n",
       "0  psychological measurements annoyance related p...   \n",
       "1  theory horn type loud speaker discussion sympo...   \n",
       "2  microphone technique radio broadcasting organ ...   \n",
       "3  acoustic pick up philadelphia orchestra broadc...   \n",
       "4  sound absorption non reactive mixtures determi...   \n",
       "\n",
       "                                         title_words  \n",
       "0  psychological measurements annoyance related p...  \n",
       "1  theory horn type loud speaker discussion sympo...  \n",
       "2  microphone technique radio broadcasting organ ...  \n",
       "3  acoustic pick up philadelphia orchestra broadc...  \n",
       "4  sound absorption non reactive mixtures determi...  "
      ]
     },
     "execution_count": 6,
     "metadata": {},
     "output_type": "execute_result"
    }
   ],
   "source": [
    "data_grouped_by_year_label.head()"
   ]
  },
  {
   "cell_type": "code",
   "execution_count": 7,
   "metadata": {},
   "outputs": [
    {
     "name": "stderr",
     "output_type": "stream",
     "text": [
      "Progress: 100%|██████████| 249/249 [00:03<00:00, 66.63it/s]\n"
     ]
    }
   ],
   "source": [
    "tovector_input = pd.DataFrame(data_grouped_by_year_label[[\"Label\", \"title_words\"]].groupby(data_grouped_by_year_label.Label)[\"title_words\"].apply(list))\n",
    "tovector_input[\"words\"] = tovector_input[\"title_words\"].progress_apply(lambda x: \" \".join(x))"
   ]
  },
  {
   "cell_type": "code",
   "execution_count": 35,
   "metadata": {},
   "outputs": [
    {
     "data": {
      "text/plain": [
       "249"
      ]
     },
     "execution_count": 35,
     "metadata": {},
     "output_type": "execute_result"
    }
   ],
   "source": [
    "len(tovector_input)"
   ]
  },
  {
   "cell_type": "code",
   "execution_count": 9,
   "metadata": {},
   "outputs": [
    {
     "data": {
      "text/html": [
       "<div>\n",
       "<style scoped>\n",
       "    .dataframe tbody tr th:only-of-type {\n",
       "        vertical-align: middle;\n",
       "    }\n",
       "\n",
       "    .dataframe tbody tr th {\n",
       "        vertical-align: top;\n",
       "    }\n",
       "\n",
       "    .dataframe thead th {\n",
       "        text-align: right;\n",
       "    }\n",
       "</style>\n",
       "<table border=\"1\" class=\"dataframe\">\n",
       "  <thead>\n",
       "    <tr style=\"text-align: right;\">\n",
       "      <th></th>\n",
       "      <th>title_words</th>\n",
       "      <th>words</th>\n",
       "    </tr>\n",
       "    <tr>\n",
       "      <th>Label</th>\n",
       "      <th></th>\n",
       "      <th></th>\n",
       "    </tr>\n",
       "  </thead>\n",
       "  <tbody>\n",
       "    <tr>\n",
       "      <th>Acoustics</th>\n",
       "      <td>[psychological measurements annoyance related ...</td>\n",
       "      <td>psychological measurements annoyance related p...</td>\n",
       "    </tr>\n",
       "    <tr>\n",
       "      <th>Agricultural Economics &amp; Policy</th>\n",
       "      <td>[methods maintaining fertility successful jers...</td>\n",
       "      <td>methods maintaining fertility successful jerse...</td>\n",
       "    </tr>\n",
       "    <tr>\n",
       "      <th>Agricultural Engineering</th>\n",
       "      <td>[studies high temperature drying discoloration...</td>\n",
       "      <td>studies high temperature drying discoloration ...</td>\n",
       "    </tr>\n",
       "    <tr>\n",
       "      <th>Agriculture, Dairy &amp; Animal Science</th>\n",
       "      <td>[propionic acid sodium propionate calcium prop...</td>\n",
       "      <td>propionic acid sodium propionate calcium propi...</td>\n",
       "    </tr>\n",
       "    <tr>\n",
       "      <th>Agriculture, Multidisciplinary</th>\n",
       "      <td>[variation chemical composition mangels bearin...</td>\n",
       "      <td>variation chemical composition mangels bearing...</td>\n",
       "    </tr>\n",
       "  </tbody>\n",
       "</table>\n",
       "</div>"
      ],
      "text/plain": [
       "                                                                           title_words  \\\n",
       "Label                                                                                    \n",
       "Acoustics                            [psychological measurements annoyance related ...   \n",
       "Agricultural Economics & Policy      [methods maintaining fertility successful jers...   \n",
       "Agricultural Engineering             [studies high temperature drying discoloration...   \n",
       "Agriculture, Dairy & Animal Science  [propionic acid sodium propionate calcium prop...   \n",
       "Agriculture, Multidisciplinary       [variation chemical composition mangels bearin...   \n",
       "\n",
       "                                                                                 words  \n",
       "Label                                                                                   \n",
       "Acoustics                            psychological measurements annoyance related p...  \n",
       "Agricultural Economics & Policy      methods maintaining fertility successful jerse...  \n",
       "Agricultural Engineering             studies high temperature drying discoloration ...  \n",
       "Agriculture, Dairy & Animal Science  propionic acid sodium propionate calcium propi...  \n",
       "Agriculture, Multidisciplinary       variation chemical composition mangels bearing...  "
      ]
     },
     "execution_count": 9,
     "metadata": {},
     "output_type": "execute_result"
    }
   ],
   "source": [
    "tovector_input.head()"
   ]
  },
  {
   "cell_type": "code",
   "execution_count": 11,
   "metadata": {},
   "outputs": [],
   "source": [
    "vectorizer = CountVectorizer()\n",
    "vectorized_words = vectorizer.fit_transform(tovector_input.words)"
   ]
  },
  {
   "cell_type": "code",
   "execution_count": 12,
   "metadata": {},
   "outputs": [],
   "source": [
    "count_vocab = {value:key for key,value in vectorizer.vocabulary_.items()}\n",
    "count_rev_dict = {value:key for key,value in vectorizer.vocabulary_.items()}\n",
    "words = [count_rev_dict[i] for i in range(len(vectorizer.vocabulary_.keys()))]"
   ]
  },
  {
   "cell_type": "code",
   "execution_count": 13,
   "metadata": {},
   "outputs": [],
   "source": [
    "vectorized_wordarray = vectorized_words.toarray()\n",
    "document_frequency = (vectorized_wordarray != 0).sum(0).tolist()\n",
    "document_frequency_log =  [np.log(x) for x in document_frequency]\n",
    "#2. Term Frequency - Number of times in which a word appears in a document\n",
    "term_frequency = vectorized_words.sum(axis=0).reshape(-1,).tolist()[0]\n",
    "term_frequency_log = [np.log(x) for x in term_frequency]"
   ]
  },
  {
   "cell_type": "code",
   "execution_count": null,
   "metadata": {},
   "outputs": [],
   "source": [
    "vectorized_wordarray.shape"
   ]
  },
  {
   "cell_type": "code",
   "execution_count": 15,
   "metadata": {},
   "outputs": [
    {
     "name": "stderr",
     "output_type": "stream",
     "text": [
      "Progress: 100%|██████████| 19980/19980 [00:54<00:00, 364.08it/s] \n"
     ]
    }
   ],
   "source": [
    "data_grouped_by_year_label[\"word_count\"] = data_grouped_by_year_label[\"title_words\"].progress_apply(lambda x: len(x.split()))"
   ]
  },
  {
   "cell_type": "markdown",
   "metadata": {},
   "source": [
    "__Why don't we have the shape?__"
   ]
  },
  {
   "cell_type": "code",
   "execution_count": 46,
   "metadata": {},
   "outputs": [],
   "source": [
    "def word_counts(discipline, word):\n",
    "    \n",
    "    \n",
    "    disciplines = ['Physics, Applied',\n",
    "                  'Physics, Fluids & Plasmas',\n",
    "                  'Physics, Atomic, Molecular & Chemical',\n",
    "                  'Physics, Multidisciplinary',\n",
    "                  'Physics, Condensed Matter',\n",
    "                  'Physics, Nuclear',\n",
    "                  'Physics, Particles & Fields',\n",
    "                  'Physics, Mathematical']\n",
    "    \n",
    "    #_data = data_grouped_by_year_label[data_grouped_by_year_label.Label == discipline]\n",
    "    #_data[\"selected_word_count\"] = _data[\"title_words\"].apply(lambda x: x.split().count(word))\n",
    "    # _data[\"normalized_selected_word_count\"] = _data.apply(lambda x: x[\"selected_word_count\"]/x[\"word_count\"], axis=1) \n",
    "\n",
    "    _data = data_grouped_by_year_label[data_grouped_by_year_label.Label.isin(disciplines)]\n",
    "    \n",
    "    tmp = _data[[\"PubYear\",\"title_words\"]].groupby(_data.PubYear)[\"title_words\"].apply(list).reset_index()\n",
    "    #tmp = pd.DataFrame(tmp_)\n",
    "    tmp[\"words_accumulated\"] = tmp[\"title_words\"].apply(lambda x: \" \".join(x))\n",
    "    tmp[\"selected_word_count\"] = tmp[\"words_accumulated\"].apply(lambda x: x.split().count(word))\n",
    "    \n",
    "    \n",
    "    tmp[\"word_count\"] = tmp[\"words_accumulated\"].apply(lambda x: len(x.split()))\n",
    "    tmp[\"normalized_selected_word_count\"] = tmp.apply(lambda x: x[\"selected_word_count\"]/x[\"word_count\"], axis=1) \n",
    "    return tmp[\"PubYear\"].tolist(), tmp[\"normalized_selected_word_count\"].tolist()\n",
    "    \n",
    "foo, foo2 = word_counts('Chemistry, Physical',\"quark\")"
   ]
  },
  {
   "cell_type": "code",
   "execution_count": 47,
   "metadata": {},
   "outputs": [
    {
     "name": "stderr",
     "output_type": "stream",
     "text": [
      "100%|██████████| 1/1 [00:07<00:00,  7.51s/it]\n"
     ]
    }
   ],
   "source": [
    "years = []\n",
    "frequencies= []\n",
    "\n",
    "word_ = \"quark\"\n",
    "\n",
    "disciplines = [\"Physics, Applied\"]\n",
    "\n",
    "for discipline in tqdm(disciplines):\n",
    "    \n",
    "    _years, _freq = word_counts(discipline, word_) \n",
    "    \n",
    "    years.append(_years)\n",
    "    frequencies.append(_freq)"
   ]
  },
  {
   "cell_type": "code",
   "execution_count": 48,
   "metadata": {},
   "outputs": [
    {
     "data": {
      "text/plain": [
       "<matplotlib.legend.Legend at 0x7f0034032710>"
      ]
     },
     "execution_count": 48,
     "metadata": {},
     "output_type": "execute_result"
    },
    {
     "data": {
      "image/png": "[encoded data removed]",
      "text/plain": [
       "<Figure size 1080x720 with 1 Axes>"
      ]
     },
     "metadata": {},
     "output_type": "display_data"
    }
   ],
   "source": [
    "f = plt.figure(figsize=(15,10))\n",
    "\n",
    "ax = f.add_subplot(111)\n",
    "\n",
    "ax.plot(years[0],frequencies[0], label=\"Quarks\")\n",
    "ax.set_xlabel(\"Year\")\n",
    "ax.set_ylabel(\"Popularity\")\n",
    "\n",
    "ax.legend()"
   ]
  },
  {
   "cell_type": "markdown",
   "metadata": {},
   "source": [
    "__Pick a few words and take the top 3 disciplines in which they occur__"
   ]
  },
  {
   "cell_type": "code",
   "execution_count": 69,
   "metadata": {},
   "outputs": [],
   "source": [
    "def word_counts2(discipline, word):\n",
    "\n",
    "    _data = data_grouped_by_year_label[data_grouped_by_year_label.Label == discipline]\n",
    "    \n",
    "    _data[\"selected_word_count\"] = _data[\"title_words\"].apply(lambda x: x.split().count(word))\n",
    "    _data[\"normalized_selected_word_count\"] = _data.apply(lambda x: float(x[\"selected_word_count\"])/x[\"word_count\"], axis=1) \n",
    "    \n",
    "    return _data[\"PubYear\"].tolist(), _data[\"normalized_selected_word_count\"].tolist()\n",
    "    \n",
    "foo, foo2 = word_counts2('Chemistry, Physical',\"alliin\")"
   ]
  },
  {
   "cell_type": "code",
   "execution_count": 146,
   "metadata": {},
   "outputs": [
    {
     "name": "stdout",
     "output_type": "stream",
     "text": [
      "Total disciplines present 34\n",
      "Present in: ['Physics, Particles & Fields', 'Physics, Multidisciplinary', 'Astronomy & Astrophysics', 'Physics, Condensed Matter', 'Physics, Nuclear']\n",
      "Count: 249\n"
     ]
    }
   ],
   "source": [
    "#word_ = \"Dextromoramide\"\n",
    "\n",
    "word_ = \"fermions\"\n",
    "\n",
    "index = words.index(word_)\n",
    "count_rev_dict[index]\n",
    "counts = vectorized_wordarray[:,index]\n",
    "\n",
    "discipline_indices = [discipline_index for discipline_index in range(len(counts.tolist())) if counts[discipline_index] != 0]\n",
    "\n",
    "counts_for_disciplines = {discipline_index: count for discipline_index, count in enumerate(counts.tolist())}\n",
    "sorted_counts = sorted(counts_for_disciplines.items(), key=operator.itemgetter(1), reverse=True)\n",
    "top_5_disciplines = [index for (index, count) in sorted_counts[:5]]\n",
    "\n",
    "#disciplines = [list(tovector_input.index)[index] for index in discipline_indices]\n",
    "disciplines = tovector_input.reset_index()[\"Label\"]\n",
    "present_dis = [disciplines[i] for i in top_5_disciplines]\n",
    "print(\"Total disciplines present\",len([count for i, count in enumerate(counts.tolist()) if count > 0]))\n",
    "print(\"Present in:\", present_dis)\n",
    "print(\"Count:\", len(disciplines))"
   ]
  },
  {
   "cell_type": "code",
   "execution_count": 147,
   "metadata": {},
   "outputs": [],
   "source": [
    "years = []\n",
    "freqs = []\n",
    "\n",
    "for dis in present_dis:\n",
    "    \n",
    "    _ys, _fqs = word_counts2(dis, word_)\n",
    "    \n",
    "    years.append(_ys)\n",
    "    freqs.append(_fqs)"
   ]
  },
  {
   "cell_type": "code",
   "execution_count": 148,
   "metadata": {},
   "outputs": [
    {
     "name": "stderr",
     "output_type": "stream",
     "text": [
      "/usr/local/lib/python3.6/dist-packages/IPython/core/display.py:689: UserWarning:\n",
      "\n",
      "Consider using IPython.display.IFrame instead\n",
      "\n"
     ]
    },
    {
     "data": {
      "text/html": [
       "<iframe id=\"igraph\" scrolling=\"no\" style=\"border:none;\" seamless=\"seamless\" src=\"https://plot.ly/~sreejith_s/320.embed\" height=\"525px\" width=\"100%\"></iframe>"
      ],
      "text/plain": [
       "<plotly.tools.PlotlyDisplay object>"
      ]
     },
     "execution_count": 148,
     "metadata": {},
     "output_type": "execute_result"
    }
   ],
   "source": [
    "datatoplot = [go.Scatter(\n",
    "            x=years[0],\n",
    "            y=freqs[0],\n",
    "            mode = 'lines+markers',\n",
    "            name=present_dis[0],\n",
    "    ),go.Scatter(\n",
    "            x=years[1],\n",
    "            y=freqs[1],\n",
    "            mode='lines',\n",
    "            name=present_dis[1],\n",
    "    ),go.Scatter(\n",
    "            x=years[2],\n",
    "            y=freqs[2],\n",
    "            mode='lines',\n",
    "            name=present_dis[2],\n",
    "    ),go.Scatter(\n",
    "            x=years[3],\n",
    "            y=freqs[3],\n",
    "            mode='lines',\n",
    "            name=present_dis[3],\n",
    "    ),go.Scatter(\n",
    "            x=years[4],\n",
    "            y=freqs[4],\n",
    "            mode='lines',\n",
    "            name=present_dis[4]\n",
    "    )]\n",
    "\n",
    "\n",
    "\n",
    "layout = go.Layout(\n",
    "    title='Word Propagation ' + word_,\n",
    "    \n",
    "    xaxis=dict(\n",
    "        title='Year',\n",
    "        titlefont=dict(\n",
    "            family='Lato',\n",
    "            color='#7f7f7f'\n",
    "        )\n",
    "    ),\n",
    "    yaxis=dict(\n",
    "        title='Popularity Ratio',\n",
    "        titlefont=dict(\n",
    "            family='Lato',\n",
    "            color='#7f7f7f'\n",
    "        )\n",
    "    )\n",
    ")\n",
    "\n",
    "\n",
    "fig1 = go.Figure(data=datatoplot, layout=layout)\n",
    "py.iplot(fig1, filename='freq')"
   ]
  },
  {
   "cell_type": "code",
   "execution_count": null,
   "metadata": {},
   "outputs": [],
   "source": []
  },
  {
   "cell_type": "code",
   "execution_count": null,
   "metadata": {},
   "outputs": [],
   "source": []
  },
  {
   "cell_type": "code",
   "execution_count": null,
   "metadata": {},
   "outputs": [],
   "source": []
  },
  {
   "cell_type": "code",
   "execution_count": 6,
   "metadata": {},
   "outputs": [],
   "source": [
    "vectorizer = CountVectorizer()\n",
    "vectorized_words = vectorizer.fit_transform(data_grouped_by_label.title_words)\n",
    "\n",
    "# folder = \"/mnt/disks/vault/analysis-data/interdisciplinary-novelty-analysis/word_selection_entropy\"\n",
    "\n",
    "\n",
    "# with open(folder + \"/vectorizer.pickle\", 'rb') as f:\n",
    "#     vectorizer = pickle.load(f)\n",
    "    \n",
    "# with open(folder + \"/vectorized_words.pickle\", 'rb') as f:\n",
    "#     vectorized_words = pickle.load(f)    "
   ]
  },
  {
   "cell_type": "code",
   "execution_count": 7,
   "metadata": {},
   "outputs": [],
   "source": []
  },
  {
   "cell_type": "code",
   "execution_count": 8,
   "metadata": {},
   "outputs": [],
   "source": [
    "vectorized_wordarray = vectorized_words.toarray()\n",
    "document_frequency = (vectorized_wordarray != 0).sum(0).tolist()\n",
    "document_frequency_log =  [np.log(x) for x in document_frequency]\n",
    "#2. Term Frequency - Number of times in which a word appears in a document\n",
    "term_frequency = vectorized_words.sum(axis=0).reshape(-1,).tolist()[0]\n",
    "term_frequency_log = [np.log(x) for x in term_frequency]"
   ]
  },
  {
   "cell_type": "code",
   "execution_count": 22,
   "metadata": {},
   "outputs": [],
   "source": [
    "# what disciplines does the word appear in?\n",
    "\n",
    "# angiopoietins, appalachia\n",
    "\n",
    "\n"
   ]
  },
  {
   "cell_type": "code",
   "execution_count": 23,
   "metadata": {},
   "outputs": [],
   "source": [
    "disciplines = [list(data_grouped_by_label.index)[index] for index in discipline_indices]"
   ]
  },
  {
   "cell_type": "code",
   "execution_count": 24,
   "metadata": {},
   "outputs": [
    {
     "data": {
      "text/plain": [
       "26"
      ]
     },
     "execution_count": 24,
     "metadata": {},
     "output_type": "execute_result"
    }
   ],
   "source": [
    "len(disciplines)"
   ]
  },
  {
   "cell_type": "code",
   "execution_count": 25,
   "metadata": {},
   "outputs": [
    {
     "data": {
      "text/plain": [
       "['Biochemical Research Methods',\n",
       " 'Biochemistry & Molecular Biology',\n",
       " 'Biophysics',\n",
       " 'Biotechnology & Applied Microbiology',\n",
       " 'Chemistry, Analytical',\n",
       " 'Chemistry, Applied',\n",
       " 'Chemistry, Inorganic & Nuclear',\n",
       " 'Chemistry, Medicinal',\n",
       " 'Chemistry, Multidisciplinary',\n",
       " 'Chemistry, Organic',\n",
       " 'Chemistry, Physical',\n",
       " 'Crystallography',\n",
       " 'Electrochemistry',\n",
       " 'Engineering, Chemical',\n",
       " 'Environmental Sciences',\n",
       " 'Immunology',\n",
       " 'Materials Science, Multidisciplinary',\n",
       " 'Microbiology',\n",
       " 'Multidisciplinary Sciences',\n",
       " 'Nuclear Science & Technology',\n",
       " 'Pharmacology & Pharmacy',\n",
       " 'Physics, Atomic, Molecular & Chemical',\n",
       " 'Physics, Multidisciplinary',\n",
       " 'Radiology, Nuclear Medicine & Medical Imaging',\n",
       " 'Spectroscopy',\n",
       " 'Thermodynamics']"
      ]
     },
     "execution_count": 25,
     "metadata": {},
     "output_type": "execute_result"
    }
   ],
   "source": [
    "disciplines"
   ]
  },
  {
   "cell_type": "code",
   "execution_count": 27,
   "metadata": {},
   "outputs": [],
   "source": [
    "filtered_data = []\n",
    "\n",
    "for discipline in disciplines:\n",
    "    filtered_data.append(data[data.Label == discipline])"
   ]
  },
  {
   "cell_type": "code",
   "execution_count": 26,
   "metadata": {},
   "outputs": [
    {
     "ename": "KeyError",
     "evalue": "\"['title_words'] not in index\"",
     "output_type": "error",
     "traceback": [
      "\u001b[0;31m---------------------------------------------------------------------------\u001b[0m",
      "\u001b[0;31mKeyError\u001b[0m                                  Traceback (most recent call last)",
      "\u001b[0;32m<ipython-input-26-41924f4d9102>\u001b[0m in \u001b[0;36m<module>\u001b[0;34m\u001b[0m\n\u001b[1;32m     12\u001b[0m     \u001b[0mdata_\u001b[0m \u001b[0;34m=\u001b[0m \u001b[0mdata_\u001b[0m\u001b[0;34m.\u001b[0m\u001b[0msort_values\u001b[0m\u001b[0;34m(\u001b[0m\u001b[0mby\u001b[0m\u001b[0;34m=\u001b[0m\u001b[0;34m\"PubYear\"\u001b[0m\u001b[0;34m)\u001b[0m\u001b[0;34m\u001b[0m\u001b[0;34m\u001b[0m\u001b[0m\n\u001b[1;32m     13\u001b[0m \u001b[0;34m\u001b[0m\u001b[0m\n\u001b[0;32m---> 14\u001b[0;31m     \u001b[0mdata_grped_by_year\u001b[0m \u001b[0;34m=\u001b[0m \u001b[0mdata_\u001b[0m\u001b[0;34m[\u001b[0m\u001b[0;34m[\u001b[0m\u001b[0;34m\"PubYear\"\u001b[0m\u001b[0;34m,\u001b[0m\u001b[0;34m\"title_words\"\u001b[0m\u001b[0;34m]\u001b[0m\u001b[0;34m]\u001b[0m\u001b[0;34m.\u001b[0m\u001b[0mgroupby\u001b[0m\u001b[0;34m(\u001b[0m\u001b[0mdata\u001b[0m\u001b[0;34m.\u001b[0m\u001b[0mPubYear\u001b[0m\u001b[0;34m)\u001b[0m\u001b[0;34m[\u001b[0m\u001b[0;34m\"title_words\"\u001b[0m\u001b[0;34m]\u001b[0m\u001b[0;34m.\u001b[0m\u001b[0mapply\u001b[0m\u001b[0;34m(\u001b[0m\u001b[0mlist\u001b[0m\u001b[0;34m)\u001b[0m\u001b[0;34m\u001b[0m\u001b[0;34m\u001b[0m\u001b[0m\n\u001b[0m\u001b[1;32m     15\u001b[0m     \u001b[0mdata_grped_by_year\u001b[0m \u001b[0;34m=\u001b[0m \u001b[0mpd\u001b[0m\u001b[0;34m.\u001b[0m\u001b[0mDataFrame\u001b[0m\u001b[0;34m(\u001b[0m\u001b[0mdata_grped_by_year\u001b[0m\u001b[0;34m)\u001b[0m\u001b[0;34m\u001b[0m\u001b[0;34m\u001b[0m\u001b[0m\n\u001b[1;32m     16\u001b[0m \u001b[0;34m\u001b[0m\u001b[0m\n",
      "\u001b[0;32m/usr/local/lib/python3.6/dist-packages/pandas/core/frame.py\u001b[0m in \u001b[0;36m__getitem__\u001b[0;34m(self, key)\u001b[0m\n\u001b[1;32m   2677\u001b[0m         \u001b[0;32mif\u001b[0m \u001b[0misinstance\u001b[0m\u001b[0;34m(\u001b[0m\u001b[0mkey\u001b[0m\u001b[0;34m,\u001b[0m \u001b[0;34m(\u001b[0m\u001b[0mSeries\u001b[0m\u001b[0;34m,\u001b[0m \u001b[0mnp\u001b[0m\u001b[0;34m.\u001b[0m\u001b[0mndarray\u001b[0m\u001b[0;34m,\u001b[0m \u001b[0mIndex\u001b[0m\u001b[0;34m,\u001b[0m \u001b[0mlist\u001b[0m\u001b[0;34m)\u001b[0m\u001b[0;34m)\u001b[0m\u001b[0;34m:\u001b[0m\u001b[0;34m\u001b[0m\u001b[0;34m\u001b[0m\u001b[0m\n\u001b[1;32m   2678\u001b[0m             \u001b[0;31m# either boolean or fancy integer index\u001b[0m\u001b[0;34m\u001b[0m\u001b[0;34m\u001b[0m\u001b[0;34m\u001b[0m\u001b[0m\n\u001b[0;32m-> 2679\u001b[0;31m             \u001b[0;32mreturn\u001b[0m \u001b[0mself\u001b[0m\u001b[0;34m.\u001b[0m\u001b[0m_getitem_array\u001b[0m\u001b[0;34m(\u001b[0m\u001b[0mkey\u001b[0m\u001b[0;34m)\u001b[0m\u001b[0;34m\u001b[0m\u001b[0;34m\u001b[0m\u001b[0m\n\u001b[0m\u001b[1;32m   2680\u001b[0m         \u001b[0;32melif\u001b[0m \u001b[0misinstance\u001b[0m\u001b[0;34m(\u001b[0m\u001b[0mkey\u001b[0m\u001b[0;34m,\u001b[0m \u001b[0mDataFrame\u001b[0m\u001b[0;34m)\u001b[0m\u001b[0;34m:\u001b[0m\u001b[0;34m\u001b[0m\u001b[0;34m\u001b[0m\u001b[0m\n\u001b[1;32m   2681\u001b[0m             \u001b[0;32mreturn\u001b[0m \u001b[0mself\u001b[0m\u001b[0;34m.\u001b[0m\u001b[0m_getitem_frame\u001b[0m\u001b[0;34m(\u001b[0m\u001b[0mkey\u001b[0m\u001b[0;34m)\u001b[0m\u001b[0;34m\u001b[0m\u001b[0;34m\u001b[0m\u001b[0m\n",
      "\u001b[0;32m/usr/local/lib/python3.6/dist-packages/pandas/core/frame.py\u001b[0m in \u001b[0;36m_getitem_array\u001b[0;34m(self, key)\u001b[0m\n\u001b[1;32m   2721\u001b[0m             \u001b[0;32mreturn\u001b[0m \u001b[0mself\u001b[0m\u001b[0;34m.\u001b[0m\u001b[0m_take\u001b[0m\u001b[0;34m(\u001b[0m\u001b[0mindexer\u001b[0m\u001b[0;34m,\u001b[0m \u001b[0maxis\u001b[0m\u001b[0;34m=\u001b[0m\u001b[0;36m0\u001b[0m\u001b[0;34m)\u001b[0m\u001b[0;34m\u001b[0m\u001b[0;34m\u001b[0m\u001b[0m\n\u001b[1;32m   2722\u001b[0m         \u001b[0;32melse\u001b[0m\u001b[0;34m:\u001b[0m\u001b[0;34m\u001b[0m\u001b[0;34m\u001b[0m\u001b[0m\n\u001b[0;32m-> 2723\u001b[0;31m             \u001b[0mindexer\u001b[0m \u001b[0;34m=\u001b[0m \u001b[0mself\u001b[0m\u001b[0;34m.\u001b[0m\u001b[0mloc\u001b[0m\u001b[0;34m.\u001b[0m\u001b[0m_convert_to_indexer\u001b[0m\u001b[0;34m(\u001b[0m\u001b[0mkey\u001b[0m\u001b[0;34m,\u001b[0m \u001b[0maxis\u001b[0m\u001b[0;34m=\u001b[0m\u001b[0;36m1\u001b[0m\u001b[0;34m)\u001b[0m\u001b[0;34m\u001b[0m\u001b[0;34m\u001b[0m\u001b[0m\n\u001b[0m\u001b[1;32m   2724\u001b[0m             \u001b[0;32mreturn\u001b[0m \u001b[0mself\u001b[0m\u001b[0;34m.\u001b[0m\u001b[0m_take\u001b[0m\u001b[0;34m(\u001b[0m\u001b[0mindexer\u001b[0m\u001b[0;34m,\u001b[0m \u001b[0maxis\u001b[0m\u001b[0;34m=\u001b[0m\u001b[0;36m1\u001b[0m\u001b[0;34m)\u001b[0m\u001b[0;34m\u001b[0m\u001b[0;34m\u001b[0m\u001b[0m\n\u001b[1;32m   2725\u001b[0m \u001b[0;34m\u001b[0m\u001b[0m\n",
      "\u001b[0;32m/usr/local/lib/python3.6/dist-packages/pandas/core/indexing.py\u001b[0m in \u001b[0;36m_convert_to_indexer\u001b[0;34m(self, obj, axis, is_setter)\u001b[0m\n\u001b[1;32m   1325\u001b[0m                 \u001b[0;32mif\u001b[0m \u001b[0mmask\u001b[0m\u001b[0;34m.\u001b[0m\u001b[0many\u001b[0m\u001b[0;34m(\u001b[0m\u001b[0;34m)\u001b[0m\u001b[0;34m:\u001b[0m\u001b[0;34m\u001b[0m\u001b[0;34m\u001b[0m\u001b[0m\n\u001b[1;32m   1326\u001b[0m                     raise KeyError('{mask} not in index'\n\u001b[0;32m-> 1327\u001b[0;31m                                    .format(mask=objarr[mask]))\n\u001b[0m\u001b[1;32m   1328\u001b[0m \u001b[0;34m\u001b[0m\u001b[0m\n\u001b[1;32m   1329\u001b[0m                 \u001b[0;32mreturn\u001b[0m \u001b[0mcom\u001b[0m\u001b[0;34m.\u001b[0m\u001b[0m_values_from_object\u001b[0m\u001b[0;34m(\u001b[0m\u001b[0mindexer\u001b[0m\u001b[0;34m)\u001b[0m\u001b[0;34m\u001b[0m\u001b[0;34m\u001b[0m\u001b[0m\n",
      "\u001b[0;31mKeyError\u001b[0m: \"['title_words'] not in index\""
     ]
    }
   ],
   "source": [
    "#data = None    \n",
    "\n",
    "frequencies = []\n",
    "for data_ in filtered_data:\n",
    "    \n",
    "    data_ = data_.sort_values(by=\"PubYear\")\n",
    "    \n",
    "    data_grped_by_year = data_[[\"PubYear\",\"title_without_stopwords\"]].groupby(data.PubYear)[\"title_without_stopwords\"].apply(list)\n",
    "    data_grped_by_year = pd.DataFrame(data_grped_by_year)\n",
    "    \n",
    "    import ipdb\n",
    "    ipdb.set_trace()\n",
    "    \n",
    "    data_grped_by_year[\"cleaned_titles\"] = data_grped_by_year[\"title_without_stopwords\"].apply(lambda x: list(set(x)))\n",
    "    data_grped_by_year[\"before_distinct\"] = data_grped_by_year[\"title_without_stopwords\"].apply(lambda x: len(x))\n",
    "    data_grped_by_year[\"after_distinct\"] = data_grped_by_year[\"cleaned_titles\"].apply(lambda x: len(x))\n",
    "\n",
    "    \n",
    "    data_grped_by_year[\"title_words_\"] = data_grouped_by_label[\"cleaned_titles\"].progress_apply(lambda x: \" \".join(x))\n",
    "    \n",
    "    "
   ]
  },
  {
   "cell_type": "code",
   "execution_count": 20,
   "metadata": {},
   "outputs": [
    {
     "ename": "KeyboardInterrupt",
     "evalue": "",
     "output_type": "error",
     "traceback": [
      "\u001b[0;31m---------------------------------------------------------------------------\u001b[0m",
      "\u001b[0;31mKeyboardInterrupt\u001b[0m                         Traceback (most recent call last)",
      "\u001b[0;32m<ipython-input-20-c653315811cc>\u001b[0m in \u001b[0;36m<module>\u001b[0;34m\u001b[0m\n\u001b[1;32m     12\u001b[0m     \u001b[0mdata_\u001b[0m \u001b[0;34m=\u001b[0m \u001b[0mdata_\u001b[0m\u001b[0;34m.\u001b[0m\u001b[0msort_values\u001b[0m\u001b[0;34m(\u001b[0m\u001b[0mby\u001b[0m\u001b[0;34m=\u001b[0m\u001b[0;34m\"PubYear\"\u001b[0m\u001b[0;34m)\u001b[0m\u001b[0;34m\u001b[0m\u001b[0;34m\u001b[0m\u001b[0m\n\u001b[1;32m     13\u001b[0m     \u001b[0mvectorizer\u001b[0m \u001b[0;34m=\u001b[0m \u001b[0mCountVectorizer\u001b[0m\u001b[0;34m(\u001b[0m\u001b[0;34m)\u001b[0m\u001b[0;34m\u001b[0m\u001b[0;34m\u001b[0m\u001b[0m\n\u001b[0;32m---> 14\u001b[0;31m     \u001b[0mvectorized_words\u001b[0m \u001b[0;34m=\u001b[0m \u001b[0mvectorizer\u001b[0m\u001b[0;34m.\u001b[0m\u001b[0mfit_transform\u001b[0m\u001b[0;34m(\u001b[0m\u001b[0mdata_\u001b[0m\u001b[0;34m.\u001b[0m\u001b[0mtitle_without_stopwords\u001b[0m\u001b[0;34m)\u001b[0m\u001b[0;34m\u001b[0m\u001b[0;34m\u001b[0m\u001b[0m\n\u001b[0m\u001b[1;32m     15\u001b[0m \u001b[0;34m\u001b[0m\u001b[0m\n\u001b[1;32m     16\u001b[0m     \u001b[0mvocab\u001b[0m \u001b[0;34m=\u001b[0m \u001b[0mvectorizer\u001b[0m\u001b[0;34m.\u001b[0m\u001b[0mvocabulary_\u001b[0m\u001b[0;34m\u001b[0m\u001b[0;34m\u001b[0m\u001b[0m\n",
      "\u001b[0;32m/usr/local/lib/python3.6/dist-packages/sklearn/feature_extraction/text.py\u001b[0m in \u001b[0;36mfit_transform\u001b[0;34m(self, raw_documents, y)\u001b[0m\n\u001b[1;32m   1030\u001b[0m \u001b[0;34m\u001b[0m\u001b[0m\n\u001b[1;32m   1031\u001b[0m         vocabulary, X = self._count_vocab(raw_documents,\n\u001b[0;32m-> 1032\u001b[0;31m                                           self.fixed_vocabulary_)\n\u001b[0m\u001b[1;32m   1033\u001b[0m \u001b[0;34m\u001b[0m\u001b[0m\n\u001b[1;32m   1034\u001b[0m         \u001b[0;32mif\u001b[0m \u001b[0mself\u001b[0m\u001b[0;34m.\u001b[0m\u001b[0mbinary\u001b[0m\u001b[0;34m:\u001b[0m\u001b[0;34m\u001b[0m\u001b[0;34m\u001b[0m\u001b[0m\n",
      "\u001b[0;32m/usr/local/lib/python3.6/dist-packages/sklearn/feature_extraction/text.py\u001b[0m in \u001b[0;36m_count_vocab\u001b[0;34m(self, raw_documents, fixed_vocab)\u001b[0m\n\u001b[1;32m    938\u001b[0m         \u001b[0mvalues\u001b[0m \u001b[0;34m=\u001b[0m \u001b[0m_make_int_array\u001b[0m\u001b[0;34m(\u001b[0m\u001b[0;34m)\u001b[0m\u001b[0;34m\u001b[0m\u001b[0;34m\u001b[0m\u001b[0m\n\u001b[1;32m    939\u001b[0m         \u001b[0mindptr\u001b[0m\u001b[0;34m.\u001b[0m\u001b[0mappend\u001b[0m\u001b[0;34m(\u001b[0m\u001b[0;36m0\u001b[0m\u001b[0;34m)\u001b[0m\u001b[0;34m\u001b[0m\u001b[0;34m\u001b[0m\u001b[0m\n\u001b[0;32m--> 940\u001b[0;31m         \u001b[0;32mfor\u001b[0m \u001b[0mdoc\u001b[0m \u001b[0;32min\u001b[0m \u001b[0mraw_documents\u001b[0m\u001b[0;34m:\u001b[0m\u001b[0;34m\u001b[0m\u001b[0;34m\u001b[0m\u001b[0m\n\u001b[0m\u001b[1;32m    941\u001b[0m             \u001b[0mfeature_counter\u001b[0m \u001b[0;34m=\u001b[0m \u001b[0;34m{\u001b[0m\u001b[0;34m}\u001b[0m\u001b[0;34m\u001b[0m\u001b[0;34m\u001b[0m\u001b[0m\n\u001b[1;32m    942\u001b[0m             \u001b[0;32mfor\u001b[0m \u001b[0mfeature\u001b[0m \u001b[0;32min\u001b[0m \u001b[0manalyze\u001b[0m\u001b[0;34m(\u001b[0m\u001b[0mdoc\u001b[0m\u001b[0;34m)\u001b[0m\u001b[0;34m:\u001b[0m\u001b[0;34m\u001b[0m\u001b[0;34m\u001b[0m\u001b[0m\n",
      "\u001b[0;32m/usr/local/lib/python3.6/dist-packages/pandas/core/base.py\u001b[0m in \u001b[0;36m__iter__\u001b[0;34m(self)\u001b[0m\n\u001b[1;32m    918\u001b[0m         \u001b[0;34m(\u001b[0m\u001b[0;32mfor\u001b[0m \u001b[0mTimestamp\u001b[0m\u001b[0;34m/\u001b[0m\u001b[0mTimedelta\u001b[0m\u001b[0;34m/\u001b[0m\u001b[0mInterval\u001b[0m\u001b[0;34m/\u001b[0m\u001b[0mPeriod\u001b[0m\u001b[0;34m)\u001b[0m\u001b[0;34m\u001b[0m\u001b[0;34m\u001b[0m\u001b[0m\n\u001b[1;32m    919\u001b[0m         \"\"\"\n\u001b[0;32m--> 920\u001b[0;31m         \u001b[0;32mreturn\u001b[0m \u001b[0miter\u001b[0m\u001b[0;34m(\u001b[0m\u001b[0mself\u001b[0m\u001b[0;34m.\u001b[0m\u001b[0mtolist\u001b[0m\u001b[0;34m(\u001b[0m\u001b[0;34m)\u001b[0m\u001b[0;34m)\u001b[0m\u001b[0;34m\u001b[0m\u001b[0;34m\u001b[0m\u001b[0m\n\u001b[0m\u001b[1;32m    921\u001b[0m \u001b[0;34m\u001b[0m\u001b[0m\n\u001b[1;32m    922\u001b[0m     \u001b[0;34m@\u001b[0m\u001b[0mcache_readonly\u001b[0m\u001b[0;34m\u001b[0m\u001b[0;34m\u001b[0m\u001b[0m\n",
      "\u001b[0;32m/usr/local/lib/python3.6/dist-packages/pandas/core/base.py\u001b[0m in \u001b[0;36mtolist\u001b[0;34m(self)\u001b[0m\n\u001b[1;32m    908\u001b[0m             \u001b[0;32mreturn\u001b[0m \u001b[0mlist\u001b[0m\u001b[0;34m(\u001b[0m\u001b[0mself\u001b[0m\u001b[0;34m.\u001b[0m\u001b[0m_values\u001b[0m\u001b[0;34m)\u001b[0m\u001b[0;34m\u001b[0m\u001b[0;34m\u001b[0m\u001b[0m\n\u001b[1;32m    909\u001b[0m         \u001b[0;32melse\u001b[0m\u001b[0;34m:\u001b[0m\u001b[0;34m\u001b[0m\u001b[0;34m\u001b[0m\u001b[0m\n\u001b[0;32m--> 910\u001b[0;31m             \u001b[0;32mreturn\u001b[0m \u001b[0mself\u001b[0m\u001b[0;34m.\u001b[0m\u001b[0m_values\u001b[0m\u001b[0;34m.\u001b[0m\u001b[0mtolist\u001b[0m\u001b[0;34m(\u001b[0m\u001b[0;34m)\u001b[0m\u001b[0;34m\u001b[0m\u001b[0;34m\u001b[0m\u001b[0m\n\u001b[0m\u001b[1;32m    911\u001b[0m \u001b[0;34m\u001b[0m\u001b[0m\n\u001b[1;32m    912\u001b[0m     \u001b[0;32mdef\u001b[0m \u001b[0m__iter__\u001b[0m\u001b[0;34m(\u001b[0m\u001b[0mself\u001b[0m\u001b[0;34m)\u001b[0m\u001b[0;34m:\u001b[0m\u001b[0;34m\u001b[0m\u001b[0;34m\u001b[0m\u001b[0m\n",
      "\u001b[0;31mKeyboardInterrupt\u001b[0m: "
     ]
    }
   ],
   "source": [
    "filtered_data = []\n",
    "\n",
    "for discipline in disciplines:\n",
    "    filtered_data.append(data[data.Label == discipline])\n",
    "    \n",
    "#data = None    \n",
    "\n",
    "frequencies = []\n",
    "\n",
    "for data_ in filtered_data:\n",
    "    \n",
    "    data_ = data_.sort_values(by=\"PubYear\")\n",
    "    vectorizer = CountVectorizer()\n",
    "    vectorized_words = vectorizer.fit_transform(data_.title_without_stopwords)\n",
    "    \n",
    "    vocab = vectorizer.vocabulary_\n",
    "    rev_vocab = {index:word for word,index in vocab.items()}\n",
    "    \n",
    "    row_counts = data_.groupby('PubYear').size().reset_index(name=\"count\")\n",
    "    counts =  list(row_counts[\"count\"])\n",
    "    \n",
    "    word_index = vocab[word_]\n",
    "    yearly_freq_for_word = []\n",
    "    index_start = 0\n",
    "    \n",
    "    for i in range(len(row_counts)):\n",
    "        \n",
    "        offset = index_start + counts[i]\n",
    "        tmp = vectorized_words[index_start:offset,:]\n",
    "        yearly_word_freq = tmp.sum(axis=0).reshape(-1,).tolist()[0][word_index]\n",
    "        \n",
    "        ## Normalizing - Divide by number of physics articles in the year\n",
    "        _tmp = float(yearly_word_freq) / counts[i]\n",
    "        \n",
    "        yearly_freq_for_word.append(_tmp)\n",
    "        index_start = offset\n",
    "        \n",
    "    frequencies.append(yearly_freq_for_word)\n",
    "    "
   ]
  },
  {
   "cell_type": "code",
   "execution_count": 14,
   "metadata": {
    "scrolled": true
   },
   "outputs": [
    {
     "name": "stderr",
     "output_type": "stream",
     "text": [
      "/usr/local/lib/python3.6/dist-packages/IPython/core/display.py:689: UserWarning:\n",
      "\n",
      "Consider using IPython.display.IFrame instead\n",
      "\n"
     ]
    },
    {
     "data": {
      "text/html": [
       "<iframe id=\"igraph\" scrolling=\"no\" style=\"border:none;\" seamless=\"seamless\" src=\"https://plot.ly/~sreejith_s/316.embed\" height=\"525px\" width=\"100%\"></iframe>"
      ],
      "text/plain": [
       "<plotly.tools.PlotlyDisplay object>"
      ]
     },
     "execution_count": 14,
     "metadata": {},
     "output_type": "execute_result"
    }
   ],
   "source": [
    "years = [sorted(_data.PubYear.unique()) for _data in filtered_data]\n",
    "\n",
    "datatoplot = [go.Scatter(\n",
    "            x=years[0],\n",
    "            y=frequencies[0],\n",
    "            mode='lines',\n",
    "            name=disciplines[0],\n",
    "    ),go.Scatter(\n",
    "            x=years[1],\n",
    "            y=frequencies[1],\n",
    "            mode='lines',\n",
    "            name=disciplines[1],\n",
    "    ),go.Scatter(\n",
    "            x=years[2],\n",
    "            y=frequencies[2],\n",
    "            mode='lines',\n",
    "            name=disciplines[2],\n",
    "    ),go.Scatter(\n",
    "            x=years[3],\n",
    "            y=frequencies[3],\n",
    "            mode='lines',\n",
    "            name=disciplines[3],\n",
    "    ),go.Scatter(\n",
    "            x=years[4],\n",
    "            y=frequencies[4],\n",
    "            mode='lines',\n",
    "            name=disciplines[4],\n",
    "    ),go.Scatter(\n",
    "            x=years[5],\n",
    "            y=frequencies[5],\n",
    "            mode='lines',\n",
    "            name=disciplines[5],\n",
    "    ),go.Scatter(\n",
    "            x=years[6],\n",
    "            y=frequencies[6],\n",
    "            mode='lines',\n",
    "            name=disciplines[6],\n",
    "    ),go.Scatter(\n",
    "            x=years[7],\n",
    "            y=frequencies[7],\n",
    "            mode='lines',\n",
    "            name=disciplines[7],\n",
    "    ),go.Scatter(\n",
    "            x=years[8],\n",
    "            y=frequencies[8],\n",
    "            mode='lines',\n",
    "            name=disciplines[8],\n",
    "    ),go.Scatter(\n",
    "            x=years[9],\n",
    "            y=frequencies[9],\n",
    "            mode='lines',\n",
    "            name=disciplines[9],\n",
    "    ),go.Scatter(\n",
    "            x=years[10],\n",
    "            y=frequencies[10],\n",
    "            mode='lines',\n",
    "            name=disciplines[10],\n",
    "    ),go.Scatter(\n",
    "            x=years[11],\n",
    "            y=frequencies[11],\n",
    "            mode='lines',\n",
    "            name=disciplines[11],\n",
    "    ),go.Scatter(\n",
    "            x=years[12],\n",
    "            y=frequencies[12],\n",
    "            mode='lines',\n",
    "            name=disciplines[12],\n",
    "    ),go.Scatter(\n",
    "            x=years[13],\n",
    "            y=frequencies[13],\n",
    "            mode='lines',\n",
    "            name=disciplines[13],\n",
    "    ),go.Scatter(\n",
    "            x=years[14],\n",
    "            y=frequencies[14],\n",
    "            mode='lines',\n",
    "            name=disciplines[14],\n",
    "    ),go.Scatter(\n",
    "            x=years[15],\n",
    "            y=frequencies[15],\n",
    "            mode='lines',\n",
    "            name=disciplines[15],\n",
    "    ),go.Scatter(\n",
    "            x=years[16],\n",
    "            y=frequencies[16],\n",
    "            mode='lines',\n",
    "            name=disciplines[16],\n",
    "    ),go.Scatter(\n",
    "            x=years[17],\n",
    "            y=frequencies[17],\n",
    "            mode='lines',\n",
    "            name=disciplines[17],\n",
    "    ),go.Scatter(\n",
    "            x=years[18],\n",
    "            y=frequencies[18],\n",
    "            mode='lines',\n",
    "            name=disciplines[18],\n",
    "    ),go.Scatter(\n",
    "            x=years[19],\n",
    "            y=frequencies[19],\n",
    "            mode='lines',\n",
    "            name=disciplines[19],\n",
    "    ),go.Scatter(\n",
    "            x=years[20],\n",
    "            y=frequencies[20],\n",
    "            mode='lines',\n",
    "            name=disciplines[20],\n",
    "    ),go.Scatter(\n",
    "            x=years[21],\n",
    "            y=frequencies[21],\n",
    "            mode='lines',\n",
    "            name=disciplines[21],\n",
    "    ),go.Scatter(\n",
    "            x=years[22],\n",
    "            y=frequencies[22],\n",
    "            mode='lines',\n",
    "            name=disciplines[22],\n",
    "    ),go.Scatter(\n",
    "            x=years[23],\n",
    "            y=frequencies[23],\n",
    "            mode='lines',\n",
    "            name=disciplines[23],\n",
    "    )]\n",
    "\n",
    "\n",
    "\n",
    "layout = go.Layout(\n",
    "    title='Word Propagation ' + word_,\n",
    "    \n",
    "    xaxis=dict(\n",
    "        title='Year',\n",
    "        titlefont=dict(\n",
    "            family='Lato',\n",
    "            color='#7f7f7f'\n",
    "        )\n",
    "    ),\n",
    "    yaxis=dict(\n",
    "        title='Popularity Ratio',\n",
    "        titlefont=dict(\n",
    "            family='Lato',\n",
    "            color='#7f7f7f'\n",
    "        )\n",
    "    )\n",
    ")\n",
    "\n",
    "\n",
    "\n",
    "fig1 = go.Figure(data=datatoplot, layout=layout)\n",
    "py.iplot(fig1, filename='freq')"
   ]
  },
  {
   "cell_type": "markdown",
   "metadata": {},
   "source": [
    "__Frequently observed pattern: One of the disciplines picks it up and it goes up. examples - neutron, nanofossil__"
   ]
  },
  {
   "cell_type": "code",
   "execution_count": null,
   "metadata": {},
   "outputs": [],
   "source": []
  }
 ],
 "metadata": {
  "kernelspec": {
   "display_name": "Python 3",
   "language": "python",
   "name": "python3"
  },
  "language_info": {
   "codemirror_mode": {
    "name": "ipython",
    "version": 3
   },
   "file_extension": ".py",
   "mimetype": "text/x-python",
   "name": "python",
   "nbconvert_exporter": "python",
   "pygments_lexer": "ipython3",
   "version": "3.6.7"
  }
 },
 "nbformat": 4,
 "nbformat_minor": 2
}
