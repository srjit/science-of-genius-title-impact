{
 "cells": [
  {
   "cell_type": "code",
   "execution_count": 1,
   "metadata": {},
   "outputs": [],
   "source": [
    "import warnings\n",
    "warnings.filterwarnings('ignore')"
   ]
  },
  {
   "cell_type": "code",
   "execution_count": 2,
   "metadata": {},
   "outputs": [],
   "source": [
    "%load_ext autoreload\n",
    "%autoreload 2\n",
    "%matplotlib inline"
   ]
  },
  {
   "cell_type": "code",
   "execution_count": 3,
   "metadata": {},
   "outputs": [],
   "source": [
    "import sys\n",
    "sys.path.insert(0, \"../../code-previous\")"
   ]
  },
  {
   "cell_type": "code",
   "execution_count": 4,
   "metadata": {},
   "outputs": [],
   "source": [
    "import pandas as pd\n",
    "import numpy as np\n",
    "import operator\n",
    "\n",
    "import peakutils\n",
    "\n",
    "import string\n",
    "import nltk\n",
    "stopwords = nltk.corpus.stopwords.words('english')\n",
    "\n",
    "import operator\n",
    "\n",
    "\n",
    "import pickle\n",
    "from sklearn.feature_extraction.text import CountVectorizer\n",
    "\n",
    "import plotly\n",
    "import plotly.plotly as py\n",
    "from plotly import tools\n",
    "\n",
    "import plotly.graph_objs as go\n",
    "plotly.tools.set_credentials_file(username='sreejith_s', api_key='rcet0rTqFCc3WeOzWTjv')\n",
    "\n",
    "from unicodedata import category\n",
    "from tqdm import tqdm\n",
    "tqdm.pandas(desc=\"Progress\")\n",
    "\n",
    "import seaborn as sns\n",
    "sns.set_style('white')\n",
    "import matplotlib.pylab as plt"
   ]
  },
  {
   "cell_type": "code",
   "execution_count": 7,
   "metadata": {},
   "outputs": [],
   "source": [
    "filename = \"/mnt/disks/vault/analysis-data/interdisciplinary-novelty-analysis/corrected-entropy-analysis/word-journey-data.pql\"\n",
    "#data_grouped_by_year_label.to_pickle(filename)\n",
    "\n",
    "\n",
    "data_grouped_by_year_label = pd.read_pickle(filename)"
   ]
  },
  {
   "cell_type": "code",
   "execution_count": 25,
   "metadata": {},
   "outputs": [],
   "source": [
    "word = \"tomography\"\n",
    "label = \"Radiology, Nuclear Medicine & Medical Imaging\""
   ]
  },
  {
   "cell_type": "code",
   "execution_count": 8,
   "metadata": {},
   "outputs": [
    {
     "data": {
      "text/html": [
       "<div>\n",
       "<style scoped>\n",
       "    .dataframe tbody tr th:only-of-type {\n",
       "        vertical-align: middle;\n",
       "    }\n",
       "\n",
       "    .dataframe tbody tr th {\n",
       "        vertical-align: top;\n",
       "    }\n",
       "\n",
       "    .dataframe thead th {\n",
       "        text-align: right;\n",
       "    }\n",
       "</style>\n",
       "<table border=\"1\" class=\"dataframe\">\n",
       "  <thead>\n",
       "    <tr style=\"text-align: right;\">\n",
       "      <th></th>\n",
       "      <th>index</th>\n",
       "      <th>Label</th>\n",
       "      <th>PubYear</th>\n",
       "      <th>title_without_stopwords</th>\n",
       "      <th>cleaned_titles</th>\n",
       "      <th>title_words_</th>\n",
       "      <th>title_words</th>\n",
       "    </tr>\n",
       "  </thead>\n",
       "  <tbody>\n",
       "    <tr>\n",
       "      <th>0</th>\n",
       "      <td>0</td>\n",
       "      <td>Acoustics</td>\n",
       "      <td>1929</td>\n",
       "      <td>[hearing speech auditoriums, hearing speech au...</td>\n",
       "      <td>[psychological measurements annoyance related ...</td>\n",
       "      <td>psychological measurements annoyance related p...</td>\n",
       "      <td>psychological measurements annoyance related p...</td>\n",
       "    </tr>\n",
       "    <tr>\n",
       "      <th>1</th>\n",
       "      <td>1</td>\n",
       "      <td>Acoustics</td>\n",
       "      <td>1930</td>\n",
       "      <td>[reverberation time bridge  instrumental metho...</td>\n",
       "      <td>[theory horn type loud speaker, discussion sym...</td>\n",
       "      <td>theory horn type loud speaker discussion sympo...</td>\n",
       "      <td>theory horn type loud speaker discussion sympo...</td>\n",
       "    </tr>\n",
       "    <tr>\n",
       "      <th>2</th>\n",
       "      <td>2</td>\n",
       "      <td>Acoustics</td>\n",
       "      <td>1931</td>\n",
       "      <td>[some physical characteristics speech music, s...</td>\n",
       "      <td>[microphone technique radio broadcasting, orga...</td>\n",
       "      <td>microphone technique radio broadcasting organ ...</td>\n",
       "      <td>microphone technique radio broadcasting organ ...</td>\n",
       "    </tr>\n",
       "    <tr>\n",
       "      <th>3</th>\n",
       "      <td>3</td>\n",
       "      <td>Acoustics</td>\n",
       "      <td>1932</td>\n",
       "      <td>[position finding under water sound signals, p...</td>\n",
       "      <td>[acoustic pick up philadelphia orchestra broad...</td>\n",
       "      <td>acoustic pick up philadelphia orchestra broadc...</td>\n",
       "      <td>acoustic pick up philadelphia orchestra broadc...</td>\n",
       "    </tr>\n",
       "    <tr>\n",
       "      <th>4</th>\n",
       "      <td>4</td>\n",
       "      <td>Acoustics</td>\n",
       "      <td>1933</td>\n",
       "      <td>[some notes character bell tones, some notes c...</td>\n",
       "      <td>[sound absorption non reactive mixtures, deter...</td>\n",
       "      <td>sound absorption non reactive mixtures determi...</td>\n",
       "      <td>sound absorption non reactive mixtures determi...</td>\n",
       "    </tr>\n",
       "  </tbody>\n",
       "</table>\n",
       "</div>"
      ],
      "text/plain": [
       "   index      Label  PubYear  \\\n",
       "0      0  Acoustics     1929   \n",
       "1      1  Acoustics     1930   \n",
       "2      2  Acoustics     1931   \n",
       "3      3  Acoustics     1932   \n",
       "4      4  Acoustics     1933   \n",
       "\n",
       "                             title_without_stopwords  \\\n",
       "0  [hearing speech auditoriums, hearing speech au...   \n",
       "1  [reverberation time bridge  instrumental metho...   \n",
       "2  [some physical characteristics speech music, s...   \n",
       "3  [position finding under water sound signals, p...   \n",
       "4  [some notes character bell tones, some notes c...   \n",
       "\n",
       "                                      cleaned_titles  \\\n",
       "0  [psychological measurements annoyance related ...   \n",
       "1  [theory horn type loud speaker, discussion sym...   \n",
       "2  [microphone technique radio broadcasting, orga...   \n",
       "3  [acoustic pick up philadelphia orchestra broad...   \n",
       "4  [sound absorption non reactive mixtures, deter...   \n",
       "\n",
       "                                        title_words_  \\\n",
       "0  psychological measurements annoyance related p...   \n",
       "1  theory horn type loud speaker discussion sympo...   \n",
       "2  microphone technique radio broadcasting organ ...   \n",
       "3  acoustic pick up philadelphia orchestra broadc...   \n",
       "4  sound absorption non reactive mixtures determi...   \n",
       "\n",
       "                                         title_words  \n",
       "0  psychological measurements annoyance related p...  \n",
       "1  theory horn type loud speaker discussion sympo...  \n",
       "2  microphone technique radio broadcasting organ ...  \n",
       "3  acoustic pick up philadelphia orchestra broadc...  \n",
       "4  sound absorption non reactive mixtures determi...  "
      ]
     },
     "execution_count": 8,
     "metadata": {},
     "output_type": "execute_result"
    }
   ],
   "source": [
    "data_grouped_by_year_label.head()"
   ]
  },
  {
   "cell_type": "code",
   "execution_count": 15,
   "metadata": {},
   "outputs": [],
   "source": [
    "data = data_grouped_by_year_label[(data_grouped_by_year_label.Label == label) &\n",
    "                                  (data_grouped_by_year_label.PubYear > 2001) &\n",
    "                                  (data_grouped_by_year_label.PubYear < 2012)]"
   ]
  },
  {
   "cell_type": "code",
   "execution_count": 16,
   "metadata": {},
   "outputs": [
    {
     "data": {
      "text/plain": [
       "10"
      ]
     },
     "execution_count": 16,
     "metadata": {},
     "output_type": "execute_result"
    }
   ],
   "source": [
    "len(data)"
   ]
  },
  {
   "cell_type": "code",
   "execution_count": 22,
   "metadata": {},
   "outputs": [],
   "source": [
    "titles_ = data.cleaned_titles.tolist()"
   ]
  },
  {
   "cell_type": "code",
   "execution_count": 23,
   "metadata": {},
   "outputs": [],
   "source": [
    "titles = [item for sublist in titles_ for item in sublist]"
   ]
  },
  {
   "cell_type": "code",
   "execution_count": 26,
   "metadata": {},
   "outputs": [],
   "source": [
    "# filter titles which contain \n",
    "filtered_titles = [title for title in titles if word in title.split()]"
   ]
  },
  {
   "cell_type": "code",
   "execution_count": 27,
   "metadata": {},
   "outputs": [
    {
     "data": {
      "text/plain": [
       "5407"
      ]
     },
     "execution_count": 27,
     "metadata": {},
     "output_type": "execute_result"
    }
   ],
   "source": [
    "len(filtered_titles)"
   ]
  },
  {
   "cell_type": "code",
   "execution_count": 28,
   "metadata": {},
   "outputs": [
    {
     "data": {
      "text/plain": [
       "['serendipitous detection cushing s disease positron emission tomography review literature',\n",
       " 'finite difference time doniain  fdtd  analysis optical pulse responses biological tissues spectroscopic diffused optical tomography',\n",
       " 'pulsed microwave induced thermoacoustic tomography  filtered backprojection circular measurement configuration',\n",
       " 'noncontrast conventional computed tomography evaluation acute stroke',\n",
       " 'positron emission tomography imaging melanoma lymphoma',\n",
       " 'occupancy dopamine receptors mouse brain measured using ultra high resolution single photon emission tomography  i 123 ibf',\n",
       " 'vivo human retinal imaging fourier domain optical coherence tomography',\n",
       " 'comparison dobutamine echocardiography tc 99m sestamibi tomography prediction left ventricular ejection fraction outcome acute myocardial infarction treated successful primary coronary angioplasty',\n",
       " 'detection hypervascular hepatocellular carcinoma dynamic magnetic resonance imaging double echo chemical shift in phase opposed phase gradient echo technique  comparison dynamic helical computed tomography imaging double arterial phase',\n",
       " 'multifocal musculoskeletal tuberculosis children  appearances computed tomography']"
      ]
     },
     "execution_count": 28,
     "metadata": {},
     "output_type": "execute_result"
    }
   ],
   "source": [
    "filtered_titles[:10]"
   ]
  },
  {
   "cell_type": "code",
   "execution_count": 36,
   "metadata": {},
   "outputs": [],
   "source": [
    "from sklearn.decomposition import NMF, LatentDirichletAllocation\n",
    "from sklearn.feature_extraction.text import TfidfVectorizer, CountVectorizer\n",
    "\n",
    "no_features = 10000\n",
    "\n",
    "tfidf_vectorizer = TfidfVectorizer(max_df=0.95, min_df=2, max_features=no_features, stop_words='english')\n",
    "tfidf = tfidf_vectorizer.fit_transform(filtered_titles)\n",
    "tfidf_feature_names = tfidf_vectorizer.get_feature_names()\n",
    "\n",
    "\n",
    "# LDA can only use raw term counts for LDA because it is a probabilistic graphical model\n",
    "tf_vectorizer = CountVectorizer(max_df=0.95, min_df=2, max_features=no_features, stop_words='english')\n",
    "tf = tf_vectorizer.fit_transform(filtered_titles)\n",
    "tf_feature_names = tf_vectorizer.get_feature_names()"
   ]
  },
  {
   "cell_type": "code",
   "execution_count": 38,
   "metadata": {},
   "outputs": [
    {
     "name": "stderr",
     "output_type": "stream",
     "text": [
      "/usr/local/lib/python3.6/dist-packages/sklearn/decomposition/online_lda.py:314: DeprecationWarning:\n",
      "\n",
      "n_topics has been renamed to n_components in version 0.19 and will be removed in 0.21\n",
      "\n"
     ]
    }
   ],
   "source": [
    "no_topics = 10\n",
    "\n",
    "# Run NMF\n",
    "nmf = NMF(n_components=no_topics, random_state=1, alpha=.1, l1_ratio=.5, init='nndsvd').fit(tfidf)\n",
    "\n",
    "# Run LDA\n",
    "lda = LatentDirichletAllocation(n_topics=no_topics, max_iter=5, learning_method='online', learning_offset=50.,random_state=0).fit(tf)\n"
   ]
  },
  {
   "cell_type": "code",
   "execution_count": 39,
   "metadata": {},
   "outputs": [
    {
     "name": "stdout",
     "output_type": "stream",
     "text": [
      "Topic: 0\n",
      "coronary angiography artery disease slice multislice computed 64 patients diagnostic\n",
      "Topic: 1\n",
      "positron emission 18 fluorodeoxyglucose cancer fluoro deoxy glucose imaging patients\n",
      "Topic: 2\n",
      "optical coherence using vivo imaging domain diffuse tissue polarization spectral\n",
      "Topic: 3\n",
      "magnetic resonance imaging findings computed comparison cardiac electrical features ultrasound\n",
      "Topic: 4\n",
      "beam cone computed using radiotherapy image electron dimensional prostate accuracy\n",
      "Topic: 5\n",
      "multidetector computed pulmonary evaluation row using assessment dimensional comparison left\n",
      "Topic: 6\n",
      "single photon emission myocardial perfusion computed 99m brain gated tc\n",
      "Topic: 7\n",
      "resolution high findings computed lung pulmonary pneumonia patients lungs pathologic\n",
      "Topic: 8\n",
      "dose radiation image computed quality low reduction cardiac therapy patient\n",
      "Topic: 9\n",
      "contrast enhanced dynamic computed liver comparison phase ultrasound using enhancement\n",
      "==========================================\n",
      "Topic: 0\n",
      "computed imaging magnetic resonance left findings cardiac ventricular gated comparison\n",
      "Topic: 1\n",
      "optical coherence using imaging vivo diffuse dimensional tissue based fluorescence\n",
      "Topic: 2\n",
      "reconstruction image ray computed induced current quality noise tube iterative\n",
      "Topic: 3\n",
      "computed emission positron coronary using 18 cancer angiography multidetector patients\n",
      "Topic: 4\n",
      "volume computed report case near target prostate delineation interobserver appearance\n",
      "Topic: 5\n",
      "features tumor agent pneumonia gastrointestinal interstitial adrenal diseases differentiation malignant\n",
      "Topic: 6\n",
      "computed multidetector aortic carcinoma hepatocellular guided valve row percutaneous ablation\n",
      "Topic: 7\n",
      "detector positron emission multi imaging 11 brain cardiac flat human\n",
      "Topic: 8\n",
      "computed single photon emission patients perfusion myocardial acute diagnostic 99m\n",
      "Topic: 9\n",
      "contrast enhanced ultrasound phase comparison arterial computed dynamic technique versus\n",
      "==========================================\n"
     ]
    }
   ],
   "source": [
    "def display_topics(model, feature_names, no_top_words):\n",
    "    for topic_idx, topic in enumerate(model.components_):\n",
    "        print(\"Topic:\", topic_idx)\n",
    "        print(\" \".join([feature_names[i]\n",
    "                        for i in topic.argsort()[:-no_top_words - 1:-1]]))\n",
    "    print(\"==========================================\")\n",
    "\n",
    "no_top_words = 10\n",
    "display_topics(nmf, tfidf_feature_names, no_top_words)\n",
    "display_topics(lda, tf_feature_names, no_top_words)"
   ]
  },
  {
   "cell_type": "code",
   "execution_count": null,
   "metadata": {},
   "outputs": [],
   "source": []
  }
 ],
 "metadata": {
  "kernelspec": {
   "display_name": "Python 3",
   "language": "python",
   "name": "python3"
  },
  "language_info": {
   "codemirror_mode": {
    "name": "ipython",
    "version": 3
   },
   "file_extension": ".py",
   "mimetype": "text/x-python",
   "name": "python",
   "nbconvert_exporter": "python",
   "pygments_lexer": "ipython3",
   "version": "3.6.7"
  }
 },
 "nbformat": 4,
 "nbformat_minor": 2
}
