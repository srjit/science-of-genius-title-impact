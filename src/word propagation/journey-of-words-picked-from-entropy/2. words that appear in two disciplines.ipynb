{
 "cells": [
  {
   "cell_type": "code",
   "execution_count": 1,
   "metadata": {},
   "outputs": [],
   "source": [
    "import warnings\n",
    "warnings.filterwarnings('ignore')"
   ]
  },
  {
   "cell_type": "code",
   "execution_count": 2,
   "metadata": {},
   "outputs": [],
   "source": [
    "%load_ext autoreload\n",
    "%autoreload 2\n",
    "%matplotlib inline"
   ]
  },
  {
   "cell_type": "code",
   "execution_count": 3,
   "metadata": {},
   "outputs": [],
   "source": [
    "import sys\n",
    "sys.path.insert(0, \"../../code-previous\")"
   ]
  },
  {
   "cell_type": "code",
   "execution_count": 4,
   "metadata": {},
   "outputs": [],
   "source": [
    "import pandas as pd\n",
    "import numpy as np\n",
    "import operator\n",
    "\n",
    "import peakutils\n",
    "\n",
    "import string\n",
    "import nltk\n",
    "stopwords = nltk.corpus.stopwords.words('english')\n",
    "\n",
    "import operator\n",
    "\n",
    "\n",
    "import pickle\n",
    "from sklearn.feature_extraction.text import CountVectorizer\n",
    "\n",
    "import plotly\n",
    "import plotly.plotly as py\n",
    "from plotly import tools\n",
    "\n",
    "import plotly.graph_objs as go\n",
    "plotly.tools.set_credentials_file(username='sreejith_s', api_key='rcet0rTqFCc3WeOzWTjv')\n",
    "\n",
    "from unicodedata import category\n",
    "from tqdm import tqdm\n",
    "tqdm.pandas(desc=\"Progress\")\n",
    "\n",
    "import seaborn as sns\n",
    "sns.set_style('white')\n",
    "import matplotlib.pylab as plt"
   ]
  },
  {
   "cell_type": "code",
   "execution_count": 5,
   "metadata": {},
   "outputs": [],
   "source": [
    "filename = \"/mnt/disks/vault/analysis-data/interdisciplinary-novelty-analysis/corrected-entropy-analysis/word-journey-data.pql\"\n",
    "#data_grouped_by_year_label.to_pickle(filename)\n",
    "\n",
    "\n",
    "data_grouped_by_year_label = pd.read_pickle(filename)"
   ]
  },
  {
   "cell_type": "code",
   "execution_count": 6,
   "metadata": {},
   "outputs": [
    {
     "data": {
      "text/html": [
       "<div>\n",
       "<style scoped>\n",
       "    .dataframe tbody tr th:only-of-type {\n",
       "        vertical-align: middle;\n",
       "    }\n",
       "\n",
       "    .dataframe tbody tr th {\n",
       "        vertical-align: top;\n",
       "    }\n",
       "\n",
       "    .dataframe thead th {\n",
       "        text-align: right;\n",
       "    }\n",
       "</style>\n",
       "<table border=\"1\" class=\"dataframe\">\n",
       "  <thead>\n",
       "    <tr style=\"text-align: right;\">\n",
       "      <th></th>\n",
       "      <th>index</th>\n",
       "      <th>Label</th>\n",
       "      <th>PubYear</th>\n",
       "      <th>title_without_stopwords</th>\n",
       "      <th>cleaned_titles</th>\n",
       "      <th>title_words_</th>\n",
       "      <th>title_words</th>\n",
       "    </tr>\n",
       "  </thead>\n",
       "  <tbody>\n",
       "    <tr>\n",
       "      <th>0</th>\n",
       "      <td>0</td>\n",
       "      <td>Acoustics</td>\n",
       "      <td>1929</td>\n",
       "      <td>[hearing speech auditoriums, hearing speech au...</td>\n",
       "      <td>[psychological measurements annoyance related ...</td>\n",
       "      <td>psychological measurements annoyance related p...</td>\n",
       "      <td>psychological measurements annoyance related p...</td>\n",
       "    </tr>\n",
       "    <tr>\n",
       "      <th>1</th>\n",
       "      <td>1</td>\n",
       "      <td>Acoustics</td>\n",
       "      <td>1930</td>\n",
       "      <td>[reverberation time bridge  instrumental metho...</td>\n",
       "      <td>[theory horn type loud speaker, discussion sym...</td>\n",
       "      <td>theory horn type loud speaker discussion sympo...</td>\n",
       "      <td>theory horn type loud speaker discussion sympo...</td>\n",
       "    </tr>\n",
       "    <tr>\n",
       "      <th>2</th>\n",
       "      <td>2</td>\n",
       "      <td>Acoustics</td>\n",
       "      <td>1931</td>\n",
       "      <td>[some physical characteristics speech music, s...</td>\n",
       "      <td>[microphone technique radio broadcasting, orga...</td>\n",
       "      <td>microphone technique radio broadcasting organ ...</td>\n",
       "      <td>microphone technique radio broadcasting organ ...</td>\n",
       "    </tr>\n",
       "    <tr>\n",
       "      <th>3</th>\n",
       "      <td>3</td>\n",
       "      <td>Acoustics</td>\n",
       "      <td>1932</td>\n",
       "      <td>[position finding under water sound signals, p...</td>\n",
       "      <td>[acoustic pick up philadelphia orchestra broad...</td>\n",
       "      <td>acoustic pick up philadelphia orchestra broadc...</td>\n",
       "      <td>acoustic pick up philadelphia orchestra broadc...</td>\n",
       "    </tr>\n",
       "    <tr>\n",
       "      <th>4</th>\n",
       "      <td>4</td>\n",
       "      <td>Acoustics</td>\n",
       "      <td>1933</td>\n",
       "      <td>[some notes character bell tones, some notes c...</td>\n",
       "      <td>[sound absorption non reactive mixtures, deter...</td>\n",
       "      <td>sound absorption non reactive mixtures determi...</td>\n",
       "      <td>sound absorption non reactive mixtures determi...</td>\n",
       "    </tr>\n",
       "  </tbody>\n",
       "</table>\n",
       "</div>"
      ],
      "text/plain": [
       "   index      Label  PubYear  \\\n",
       "0      0  Acoustics     1929   \n",
       "1      1  Acoustics     1930   \n",
       "2      2  Acoustics     1931   \n",
       "3      3  Acoustics     1932   \n",
       "4      4  Acoustics     1933   \n",
       "\n",
       "                             title_without_stopwords  \\\n",
       "0  [hearing speech auditoriums, hearing speech au...   \n",
       "1  [reverberation time bridge  instrumental metho...   \n",
       "2  [some physical characteristics speech music, s...   \n",
       "3  [position finding under water sound signals, p...   \n",
       "4  [some notes character bell tones, some notes c...   \n",
       "\n",
       "                                      cleaned_titles  \\\n",
       "0  [psychological measurements annoyance related ...   \n",
       "1  [theory horn type loud speaker, discussion sym...   \n",
       "2  [microphone technique radio broadcasting, orga...   \n",
       "3  [acoustic pick up philadelphia orchestra broad...   \n",
       "4  [sound absorption non reactive mixtures, deter...   \n",
       "\n",
       "                                        title_words_  \\\n",
       "0  psychological measurements annoyance related p...   \n",
       "1  theory horn type loud speaker discussion sympo...   \n",
       "2  microphone technique radio broadcasting organ ...   \n",
       "3  acoustic pick up philadelphia orchestra broadc...   \n",
       "4  sound absorption non reactive mixtures determi...   \n",
       "\n",
       "                                         title_words  \n",
       "0  psychological measurements annoyance related p...  \n",
       "1  theory horn type loud speaker discussion sympo...  \n",
       "2  microphone technique radio broadcasting organ ...  \n",
       "3  acoustic pick up philadelphia orchestra broadc...  \n",
       "4  sound absorption non reactive mixtures determi...  "
      ]
     },
     "execution_count": 6,
     "metadata": {},
     "output_type": "execute_result"
    }
   ],
   "source": [
    "data_grouped_by_year_label.head()"
   ]
  },
  {
   "cell_type": "code",
   "execution_count": 7,
   "metadata": {},
   "outputs": [
    {
     "name": "stderr",
     "output_type": "stream",
     "text": [
      "Progress: 100%|██████████| 249/249 [00:04<00:00, 60.33it/s]\n"
     ]
    }
   ],
   "source": [
    "tovector_input = pd.DataFrame(data_grouped_by_year_label[[\"Label\", \"title_words\"]].groupby(data_grouped_by_year_label.Label)[\"title_words\"].apply(list))\n",
    "tovector_input[\"words\"] = tovector_input[\"title_words\"].progress_apply(lambda x: \" \".join(x))"
   ]
  },
  {
   "cell_type": "code",
   "execution_count": 8,
   "metadata": {},
   "outputs": [
    {
     "data": {
      "text/plain": [
       "249"
      ]
     },
     "execution_count": 8,
     "metadata": {},
     "output_type": "execute_result"
    }
   ],
   "source": [
    "len(tovector_input)"
   ]
  },
  {
   "cell_type": "code",
   "execution_count": 9,
   "metadata": {},
   "outputs": [
    {
     "data": {
      "text/html": [
       "<div>\n",
       "<style scoped>\n",
       "    .dataframe tbody tr th:only-of-type {\n",
       "        vertical-align: middle;\n",
       "    }\n",
       "\n",
       "    .dataframe tbody tr th {\n",
       "        vertical-align: top;\n",
       "    }\n",
       "\n",
       "    .dataframe thead th {\n",
       "        text-align: right;\n",
       "    }\n",
       "</style>\n",
       "<table border=\"1\" class=\"dataframe\">\n",
       "  <thead>\n",
       "    <tr style=\"text-align: right;\">\n",
       "      <th></th>\n",
       "      <th>title_words</th>\n",
       "      <th>words</th>\n",
       "    </tr>\n",
       "    <tr>\n",
       "      <th>Label</th>\n",
       "      <th></th>\n",
       "      <th></th>\n",
       "    </tr>\n",
       "  </thead>\n",
       "  <tbody>\n",
       "    <tr>\n",
       "      <th>Acoustics</th>\n",
       "      <td>[psychological measurements annoyance related ...</td>\n",
       "      <td>psychological measurements annoyance related p...</td>\n",
       "    </tr>\n",
       "    <tr>\n",
       "      <th>Agricultural Economics &amp; Policy</th>\n",
       "      <td>[methods maintaining fertility successful jers...</td>\n",
       "      <td>methods maintaining fertility successful jerse...</td>\n",
       "    </tr>\n",
       "    <tr>\n",
       "      <th>Agricultural Engineering</th>\n",
       "      <td>[studies high temperature drying discoloration...</td>\n",
       "      <td>studies high temperature drying discoloration ...</td>\n",
       "    </tr>\n",
       "    <tr>\n",
       "      <th>Agriculture, Dairy &amp; Animal Science</th>\n",
       "      <td>[propionic acid sodium propionate calcium prop...</td>\n",
       "      <td>propionic acid sodium propionate calcium propi...</td>\n",
       "    </tr>\n",
       "    <tr>\n",
       "      <th>Agriculture, Multidisciplinary</th>\n",
       "      <td>[variation chemical composition mangels bearin...</td>\n",
       "      <td>variation chemical composition mangels bearing...</td>\n",
       "    </tr>\n",
       "  </tbody>\n",
       "</table>\n",
       "</div>"
      ],
      "text/plain": [
       "                                                                           title_words  \\\n",
       "Label                                                                                    \n",
       "Acoustics                            [psychological measurements annoyance related ...   \n",
       "Agricultural Economics & Policy      [methods maintaining fertility successful jers...   \n",
       "Agricultural Engineering             [studies high temperature drying discoloration...   \n",
       "Agriculture, Dairy & Animal Science  [propionic acid sodium propionate calcium prop...   \n",
       "Agriculture, Multidisciplinary       [variation chemical composition mangels bearin...   \n",
       "\n",
       "                                                                                 words  \n",
       "Label                                                                                   \n",
       "Acoustics                            psychological measurements annoyance related p...  \n",
       "Agricultural Economics & Policy      methods maintaining fertility successful jerse...  \n",
       "Agricultural Engineering             studies high temperature drying discoloration ...  \n",
       "Agriculture, Dairy & Animal Science  propionic acid sodium propionate calcium propi...  \n",
       "Agriculture, Multidisciplinary       variation chemical composition mangels bearing...  "
      ]
     },
     "execution_count": 9,
     "metadata": {},
     "output_type": "execute_result"
    }
   ],
   "source": [
    "tovector_input.head()"
   ]
  },
  {
   "cell_type": "code",
   "execution_count": 10,
   "metadata": {},
   "outputs": [],
   "source": [
    "vectorizer = CountVectorizer()\n",
    "vectorized_words = vectorizer.fit_transform(tovector_input.words)"
   ]
  },
  {
   "cell_type": "code",
   "execution_count": 12,
   "metadata": {},
   "outputs": [],
   "source": [
    "count_vocab = {value:key for key,value in vectorizer.vocabulary_.items()}\n",
    "count_rev_dict = {value:key for key,value in vectorizer.vocabulary_.items()}\n",
    "words = [count_rev_dict[i] for i in range(len(vectorizer.vocabulary_.keys()))]"
   ]
  },
  {
   "cell_type": "code",
   "execution_count": 13,
   "metadata": {},
   "outputs": [],
   "source": [
    "vectorized_wordarray = vectorized_words.toarray()\n",
    "document_frequency = (vectorized_wordarray != 0).sum(0).tolist()\n",
    "document_frequency_log =  [np.log(x) for x in document_frequency]\n",
    "#2. Term Frequency - Number of times in which a word appears in a document\n",
    "term_frequency = vectorized_words.sum(axis=0).reshape(-1,).tolist()[0]\n",
    "term_frequency_log = [np.log(x) for x in term_frequency]"
   ]
  },
  {
   "cell_type": "code",
   "execution_count": 14,
   "metadata": {},
   "outputs": [
    {
     "data": {
      "text/plain": [
       "(249, 2034183)"
      ]
     },
     "execution_count": 14,
     "metadata": {},
     "output_type": "execute_result"
    }
   ],
   "source": [
    "vectorized_wordarray.shape"
   ]
  },
  {
   "cell_type": "code",
   "execution_count": 15,
   "metadata": {},
   "outputs": [
    {
     "name": "stderr",
     "output_type": "stream",
     "text": [
      "Progress: 100%|██████████| 19980/19980 [00:00<00:00, 568023.38it/s]\n"
     ]
    }
   ],
   "source": [
    "data_grouped_by_year_label[\"number_of_pubs\"] = data_grouped_by_year_label[\"title_without_stopwords\"].progress_apply(lambda x: len(x))"
   ]
  },
  {
   "cell_type": "code",
   "execution_count": 16,
   "metadata": {},
   "outputs": [
    {
     "name": "stderr",
     "output_type": "stream",
     "text": [
      "Progress: 100%|██████████| 19980/19980 [00:49<00:00, 403.90it/s]\n"
     ]
    }
   ],
   "source": [
    "data_grouped_by_year_label[\"word_count\"] = data_grouped_by_year_label[\"title_words\"].progress_apply(lambda x: len(x.split()))"
   ]
  },
  {
   "cell_type": "code",
   "execution_count": 17,
   "metadata": {},
   "outputs": [
    {
     "data": {
      "text/html": [
       "<div>\n",
       "<style scoped>\n",
       "    .dataframe tbody tr th:only-of-type {\n",
       "        vertical-align: middle;\n",
       "    }\n",
       "\n",
       "    .dataframe tbody tr th {\n",
       "        vertical-align: top;\n",
       "    }\n",
       "\n",
       "    .dataframe thead th {\n",
       "        text-align: right;\n",
       "    }\n",
       "</style>\n",
       "<table border=\"1\" class=\"dataframe\">\n",
       "  <thead>\n",
       "    <tr style=\"text-align: right;\">\n",
       "      <th></th>\n",
       "      <th>index</th>\n",
       "      <th>Label</th>\n",
       "      <th>PubYear</th>\n",
       "      <th>title_without_stopwords</th>\n",
       "      <th>cleaned_titles</th>\n",
       "      <th>title_words_</th>\n",
       "      <th>title_words</th>\n",
       "      <th>number_of_pubs</th>\n",
       "      <th>word_count</th>\n",
       "    </tr>\n",
       "  </thead>\n",
       "  <tbody>\n",
       "    <tr>\n",
       "      <th>0</th>\n",
       "      <td>0</td>\n",
       "      <td>Acoustics</td>\n",
       "      <td>1929</td>\n",
       "      <td>[hearing speech auditoriums, hearing speech au...</td>\n",
       "      <td>[psychological measurements annoyance related ...</td>\n",
       "      <td>psychological measurements annoyance related p...</td>\n",
       "      <td>psychological measurements annoyance related p...</td>\n",
       "      <td>16</td>\n",
       "      <td>40</td>\n",
       "    </tr>\n",
       "    <tr>\n",
       "      <th>1</th>\n",
       "      <td>1</td>\n",
       "      <td>Acoustics</td>\n",
       "      <td>1930</td>\n",
       "      <td>[reverberation time bridge  instrumental metho...</td>\n",
       "      <td>[theory horn type loud speaker, discussion sym...</td>\n",
       "      <td>theory horn type loud speaker discussion sympo...</td>\n",
       "      <td>theory horn type loud speaker discussion sympo...</td>\n",
       "      <td>112</td>\n",
       "      <td>250</td>\n",
       "    </tr>\n",
       "    <tr>\n",
       "      <th>2</th>\n",
       "      <td>2</td>\n",
       "      <td>Acoustics</td>\n",
       "      <td>1931</td>\n",
       "      <td>[some physical characteristics speech music, s...</td>\n",
       "      <td>[microphone technique radio broadcasting, orga...</td>\n",
       "      <td>microphone technique radio broadcasting organ ...</td>\n",
       "      <td>microphone technique radio broadcasting organ ...</td>\n",
       "      <td>66</td>\n",
       "      <td>178</td>\n",
       "    </tr>\n",
       "    <tr>\n",
       "      <th>3</th>\n",
       "      <td>3</td>\n",
       "      <td>Acoustics</td>\n",
       "      <td>1932</td>\n",
       "      <td>[position finding under water sound signals, p...</td>\n",
       "      <td>[acoustic pick up philadelphia orchestra broad...</td>\n",
       "      <td>acoustic pick up philadelphia orchestra broadc...</td>\n",
       "      <td>acoustic pick up philadelphia orchestra broadc...</td>\n",
       "      <td>68</td>\n",
       "      <td>159</td>\n",
       "    </tr>\n",
       "    <tr>\n",
       "      <th>4</th>\n",
       "      <td>4</td>\n",
       "      <td>Acoustics</td>\n",
       "      <td>1933</td>\n",
       "      <td>[some notes character bell tones, some notes c...</td>\n",
       "      <td>[sound absorption non reactive mixtures, deter...</td>\n",
       "      <td>sound absorption non reactive mixtures determi...</td>\n",
       "      <td>sound absorption non reactive mixtures determi...</td>\n",
       "      <td>62</td>\n",
       "      <td>164</td>\n",
       "    </tr>\n",
       "  </tbody>\n",
       "</table>\n",
       "</div>"
      ],
      "text/plain": [
       "   index      Label  PubYear  \\\n",
       "0      0  Acoustics     1929   \n",
       "1      1  Acoustics     1930   \n",
       "2      2  Acoustics     1931   \n",
       "3      3  Acoustics     1932   \n",
       "4      4  Acoustics     1933   \n",
       "\n",
       "                             title_without_stopwords  \\\n",
       "0  [hearing speech auditoriums, hearing speech au...   \n",
       "1  [reverberation time bridge  instrumental metho...   \n",
       "2  [some physical characteristics speech music, s...   \n",
       "3  [position finding under water sound signals, p...   \n",
       "4  [some notes character bell tones, some notes c...   \n",
       "\n",
       "                                      cleaned_titles  \\\n",
       "0  [psychological measurements annoyance related ...   \n",
       "1  [theory horn type loud speaker, discussion sym...   \n",
       "2  [microphone technique radio broadcasting, orga...   \n",
       "3  [acoustic pick up philadelphia orchestra broad...   \n",
       "4  [sound absorption non reactive mixtures, deter...   \n",
       "\n",
       "                                        title_words_  \\\n",
       "0  psychological measurements annoyance related p...   \n",
       "1  theory horn type loud speaker discussion sympo...   \n",
       "2  microphone technique radio broadcasting organ ...   \n",
       "3  acoustic pick up philadelphia orchestra broadc...   \n",
       "4  sound absorption non reactive mixtures determi...   \n",
       "\n",
       "                                         title_words  number_of_pubs  \\\n",
       "0  psychological measurements annoyance related p...              16   \n",
       "1  theory horn type loud speaker discussion sympo...             112   \n",
       "2  microphone technique radio broadcasting organ ...              66   \n",
       "3  acoustic pick up philadelphia orchestra broadc...              68   \n",
       "4  sound absorption non reactive mixtures determi...              62   \n",
       "\n",
       "   word_count  \n",
       "0          40  \n",
       "1         250  \n",
       "2         178  \n",
       "3         159  \n",
       "4         164  "
      ]
     },
     "execution_count": 17,
     "metadata": {},
     "output_type": "execute_result"
    }
   ],
   "source": [
    "data_grouped_by_year_label.head()"
   ]
  },
  {
   "cell_type": "code",
   "execution_count": 18,
   "metadata": {},
   "outputs": [
    {
     "name": "stdout",
     "output_type": "stream",
     "text": [
      "Total disciplines present 22\n",
      "Present in: ['Social Sciences, Interdisciplinary', 'Area Studies', 'Communication', 'Economics', 'Energy & Fuels']\n",
      "Count: 249\n"
     ]
    }
   ],
   "source": [
    "#word_ = \"Dextromoramide\"\n",
    "\n",
    "#word_ = \"purposed\"\n",
    "#word_ = \"quayside\"\n",
    "\n",
    "word_ = \"chiaroscuro\"\n",
    "\n",
    "\n",
    "index = words.index(word_)\n",
    "count_rev_dict[index]\n",
    "counts = vectorized_wordarray[:,index]\n",
    "\n",
    "discipline_indices = [discipline_index for discipline_index in range(len(counts.tolist())) if counts[discipline_index] != 0]\n",
    "\n",
    "counts_for_disciplines = {discipline_index: count for discipline_index, count in enumerate(counts.tolist())}\n",
    "sorted_counts = sorted(counts_for_disciplines.items(), key=operator.itemgetter(1), reverse=True)\n",
    "\n",
    "total_disciplines_present = len([count for i, count in enumerate(counts.tolist()) if count > 0])\n",
    "to_show_count = 5\n",
    "\n",
    "top_5_disciplines = [index for (index, count) in sorted_counts[:5]]\n",
    "if total_disciplines_present < 5:\n",
    "    top_5_disciplines = [index for (index, count) in sorted_counts[:total_disciplines_present]]\n",
    "     \n",
    "#disciplines = [list(tovector_input.index)[index] for index in discipline_indices]\n",
    "disciplines = tovector_input.reset_index()[\"Label\"]\n",
    "present_dis = [disciplines[i] for i in top_5_disciplines]\n",
    "print(\"Total disciplines present\",len([count for i, count in enumerate(counts.tolist()) if count > 0]))\n",
    "print(\"Present in:\", present_dis)\n",
    "print(\"Count:\", len(disciplines))"
   ]
  },
  {
   "cell_type": "code",
   "execution_count": 19,
   "metadata": {},
   "outputs": [],
   "source": [
    "def word_counts2(discipline, word):\n",
    "\n",
    "    _data = data_grouped_by_year_label[data_grouped_by_year_label.Label == discipline]\n",
    "    \n",
    "    _data[\"selected_word_count\"] = _data[\"title_words\"].apply(lambda x: x.split().count(word))\n",
    "    _data[\"normalized_selected_word_count\"] = _data.apply(lambda x: float(x[\"selected_word_count\"])/x[\"number_of_pubs\"], axis=1) \n",
    "    \n",
    "    return _data[\"PubYear\"].tolist(), _data[\"normalized_selected_word_count\"].tolist()"
   ]
  },
  {
   "cell_type": "code",
   "execution_count": 20,
   "metadata": {},
   "outputs": [],
   "source": [
    "years = []\n",
    "freqs = []\n",
    "\n",
    "for dis in present_dis:\n",
    "    \n",
    "    _ys, _fqs = word_counts2(dis, word_)\n",
    "    \n",
    "    years.append(_ys)\n",
    "    freqs.append(_fqs)"
   ]
  },
  {
   "cell_type": "code",
   "execution_count": 21,
   "metadata": {},
   "outputs": [
    {
     "name": "stderr",
     "output_type": "stream",
     "text": [
      "/usr/local/lib/python3.6/dist-packages/IPython/core/display.py:689: UserWarning:\n",
      "\n",
      "Consider using IPython.display.IFrame instead\n",
      "\n"
     ]
    },
    {
     "data": {
      "text/html": [
       "<iframe id=\"igraph\" scrolling=\"no\" style=\"border:none;\" seamless=\"seamless\" src=\"https://plot.ly/~sreejith_s/320.embed\" height=\"525px\" width=\"100%\"></iframe>"
      ],
      "text/plain": [
       "<plotly.tools.PlotlyDisplay object>"
      ]
     },
     "execution_count": 21,
     "metadata": {},
     "output_type": "execute_result"
    }
   ],
   "source": [
    "datatoplot = [go.Scatter(\n",
    "            x=years[0],\n",
    "            y=freqs[0],\n",
    "            mode = 'lines+markers',\n",
    "            name=present_dis[0],\n",
    "    ),go.Scatter(\n",
    "            x=years[1],\n",
    "            y=freqs[1],\n",
    "            mode='lines',\n",
    "            name=present_dis[1],\n",
    "    ),go.Scatter(\n",
    "            x=years[2],\n",
    "            y=freqs[2],\n",
    "            mode='lines',\n",
    "            name=present_dis[2],\n",
    "    ),go.Scatter(\n",
    "            x=years[3],\n",
    "            y=freqs[3],\n",
    "            mode='lines',\n",
    "            name=present_dis[3],\n",
    "    ),go.Scatter(\n",
    "            x=years[4],\n",
    "            y=freqs[4],\n",
    "            mode='lines',\n",
    "            name=present_dis[4]\n",
    "    )]\n",
    "\n",
    "\n",
    "\n",
    "\n",
    "layout = go.Layout(\n",
    "    title='Word Propagation ' + word_,\n",
    "    \n",
    "    xaxis=dict(\n",
    "        title='Year',\n",
    "        titlefont=dict(\n",
    "            family='Lato',\n",
    "            color='#7f7f7f'\n",
    "        )\n",
    "    ),\n",
    "    yaxis=dict(\n",
    "        title='Popularity Ratio',\n",
    "        titlefont=dict(\n",
    "            family='Lato',\n",
    "            color='#7f7f7f'\n",
    "        )\n",
    "    )\n",
    ")\n",
    "\n",
    "\n",
    "fig1 = go.Figure(data=datatoplot, layout=layout)\n",
    "py.iplot(fig1, filename='freq')"
   ]
  },
  {
   "cell_type": "code",
   "execution_count": null,
   "metadata": {},
   "outputs": [],
   "source": [
    " "
   ]
  }
 ],
 "metadata": {
  "kernelspec": {
   "display_name": "Python 3",
   "language": "python",
   "name": "python3"
  },
  "language_info": {
   "codemirror_mode": {
    "name": "ipython",
    "version": 3
   },
   "file_extension": ".py",
   "mimetype": "text/x-python",
   "name": "python",
   "nbconvert_exporter": "python",
   "pygments_lexer": "ipython3",
   "version": "3.6.7"
  }
 },
 "nbformat": 4,
 "nbformat_minor": 2
}
