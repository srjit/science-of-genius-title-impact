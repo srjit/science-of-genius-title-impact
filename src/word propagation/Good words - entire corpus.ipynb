{
 "cells": [
  {
   "cell_type": "code",
   "execution_count": 1,
   "metadata": {},
   "outputs": [
    {
     "name": "stderr",
     "output_type": "stream",
     "text": [
      "ERROR:root:No traceback has been produced, nothing to debug.\n"
     ]
    }
   ],
   "source": [
    "%load_ext autoreload\n",
    "%autoreload 2\n",
    "%matplotlib inline\n",
    "%debug"
   ]
  },
  {
   "cell_type": "code",
   "execution_count": 2,
   "metadata": {},
   "outputs": [],
   "source": [
    "import sys\n",
    "sys.path.insert(0, \"../../code-previous\")"
   ]
  },
  {
   "cell_type": "code",
   "execution_count": 21,
   "metadata": {},
   "outputs": [],
   "source": [
    "import pandas as pd\n",
    "import numpy as np\n",
    "import operator\n",
    "\n",
    "import string\n",
    "import nltk\n",
    "stopwords = nltk.corpus.stopwords.words('english')\n",
    "\n",
    "import pickle\n",
    "from sklearn.feature_extraction.text import CountVectorizer\n",
    "\n",
    "import plotly\n",
    "import plotly.plotly as py\n",
    "from plotly import tools\n",
    "\n",
    "import plotly.graph_objs as go\n",
    "plotly.tools.set_credentials_file(username='sreejith_s', api_key='rcet0rTqFCc3WeOzWTjv')\n",
    "\n",
    "from unicodedata import category\n",
    "from tqdm import tqdm\n",
    "tqdm.pandas(desc=\"Progress\")\n",
    "\n",
    "import seaborn as sns\n",
    "sns.set_style('white')\n",
    "import matplotlib.pylab as plt"
   ]
  },
  {
   "cell_type": "code",
   "execution_count": 4,
   "metadata": {},
   "outputs": [],
   "source": [
    "data_path = \"/mnt/disks/vault/analysis-data/interdisciplinary-novelty-analysis/all_discipline_data.pql\"\n",
    "data = pd.read_pickle(data_path)"
   ]
  },
  {
   "cell_type": "code",
   "execution_count": 5,
   "metadata": {},
   "outputs": [],
   "source": [
    "disciplines = [\"Architecture\",\"Art\",\"Humanities, Multidisciplinary\",\"Folklore\",\"Medieval & Renaissance Studies\",\"Asian Studies\",\"Classics\",\"Dance\",\"Film, Radio, Television\",\"History\",\"History & Philosophy of Science\",\"Literary Theory & Criticism\",\"Literary Reviews\",\"Literature\",\"Literature, African, Australian, Canadian\",\"Literature, American\",\"Literature, British Isles\",\"Literature, German, Dutch, Scandinavian\",\"Literature, Romance\",\"Literature, Slavic\",\"Poetry\",\"Music\",\"Philosophy\",\"Religion\",\"Theater\",\"Agriculture, Dairy & Animal Science\",\"Agricultural Engineering\",\"Agricultural Economics & Policy\",\"Agriculture, Multidisciplinary\",\"Agronomy\",\"Horticulture\",\"Soil Science\",\"Allergy\",\"Anatomy & Morphology\",\"Anesthesiology\",\"Anthropology\",\"Audiology & Speech-Language Pathology\",\"Behavioral Sciences\",\"Biochemical Research Methods\",\"Biochemistry & Molecular Biology\",\"Biodiversity Conservation\",\"Biophysics\",\"Biotechnology & Applied Microbiology\",\"Cardiac & Cardiovascular Systems\",\"Peripheral Vascular Disease\",\"Cell & Tissue Engineering\",\"Cell Biology\",\"Dentistry, Oral Surgery & Medicine\",\"Dermatology\",\"Developmental Biology\",\"Emergency Medicine\",\"Andrology\",\"Endocrinology & Metabolism\",\"Entomology\",\"Ecology\",\"Environmental Sciences\",\"Environmental Studies\",\"Evolutionary Biology\",\"Fisheries\",\"Food Science & Technology\",\"Forestry\",\"Gastroenterology & Hepatology\",\"Critical Care Medicine\",\"Primary Health Care\",\"Medicine, General & Internal\",\"Genetics & Heredity\",\"Geriatrics & Gerontology\",\"Gerontology\",\"Health Care Sciences & Services\",\"Health Policy & Services\",\"Hematology\",\"Immunology\",\"Infectious Diseases\",\"Integrative & Complementary Medicine\",\"Medicine, Legal\",\"Biology\",\"Limnology\",\"Marine & Freshwater Biology\",\"Mathematical & Computational Biology\",\"Medical Ethics\",\"Medical Informatics\",\"Medical Laboratory Technology\",\"Microbiology\",\"Mycology\",\"Clinical Neurology\",\"Neurosciences\",\"Neuroimaging\",\"Nursing\",\"Nutrition & Dietetics\",\"Obstetrics & Gynecology\",\"Oncology\",\"Ophthalmology\",\"Orthopedics\",\"Otorhinolaryngology\",\"Paleontology\",\"Parasitology\",\"Pathology\",\"Pediatrics\",\"Chemistry, Medicinal\",\"Pharmacology & Pharmacy\",\"Physiology\",\"Plant Sciences\",\"Psychiatry\",\"Public, Environmental & Occupational Health\",\"Radiology, Nuclear Medicine & Medical Imaging\",\"Rehabilitation\",\"Reproductive Biology\",\"Medicine, Research & Experimental\",\"Respiratory System\",\"Rheumatology\",\"Sport Sciences\",\"Substance Abuse\",\"Surgery\",\"Toxicology\",\"Transplantation\",\"Tropical Medicine\",\"Urology & Nephrology\",\"Veterinary Sciences\",\"Virology\",\"Ornithology\",\"Zoology\",\"Astronomy & Astrophysics\",\"Chemistry, Applied\",\"Chemistry, Multidisciplinary\",\"Chemistry, Analytical\",\"Chemistry, Inorganic & Nuclear\",\"Chemistry, Organic\",\"Chemistry, Physical\",\"Crystallography\",\"Electrochemistry\",\"Geochemistry & Geophysics\",\"Geology\",\"Geosciences, Multidisciplinary\",\"Mathematics, Applied\",\"Mathematics, Interdisciplinary Applications\",\"Mathematics\",\"Statistics & Probability\",\"Meteorology & Atmospheric Sciences\",\"Mineralogy\",\"Mining & Mineral Processing\",\"Oceanography\",\"Optics\",\"Geography, Physical\",\"Physics, Applied\",\"Physics, Fluids & Plasmas\",\"Physics, Atomic, Molecular & Chemical\",\"Physics, Multidisciplinary\",\"Physics, Condensed Matter\",\"Physics, Nuclear\",\"Physics, Particles & Fields\",\"Physics, Mathematical\",\"Polymer Science\",\"Thermodynamics\",\"Water Resources\",\"Nanoscience & Nanotechnology\",\"Logic\",\"Multidisciplinary Sciences\",\"Acoustics\",\"Automation & Control Systems\",\"Computer Science, Artificial Intelligence\",\"Computer Science, Cybernetics\",\"Computer Science, Hardware & Architecture\",\"Computer Science, Information Systems\",\"Computer Science, Interdisciplinary Applications\",\"Computer Science, Software Engineering\",\"Computer Science, Theory & Methods\",\"Construction & Building Technology\",\"Energy & Fuels\",\"Engineering, Aerospace\",\"Engineering, Multidisciplinary\",\"Engineering, Biomedical\",\"Engineering, Environmental\",\"Engineering, Chemical\",\"Engineering, Industrial\",\"Engineering, Manufacturing\",\"Engineering, Marine\",\"Engineering, Civil\",\"Engineering, Ocean\",\"Engineering, Petroleum\",\"Engineering, Electrical & Electronic\",\"Engineering, Mechanical\",\"Engineering, Geological\",\"Ergonomics\",\"Imaging Science & Photographic Technology\",\"Information Science & Library Science\",\"Instruments & Instrumentation\",\"Materials Science, Paper & Wood\",\"Materials Science, Ceramics\",\"Materials Science, Multidisciplinary\",\"Materials Science, Biomaterials\",\"Materials Science, Characterization & Testing\",\"Materials Science, Coatings & Films\",\"Materials Science, Composites\",\"Materials Science, Textiles\",\"Mechanics\",\"Metallurgy & Metallurgical Engineering\",\"Microscopy\",\"Nuclear Science & Technology\",\"Operations Research & Management Science\",\"Remote Sensing\",\"Robotics\",\"Spectroscopy\",\"Telecommunications\",\"Transportation\",\"Transportation Science & Technology\",\"Archaeology\",\"Area Studies\",\"Social Sciences, Biomedical\",\"Business\",\"Business, Finance\",\"Economics\",\"Industrial Relations & Labor\",\"Management\",\"Communication\",\"Criminology & Penology\",\"Cultural Studies\",\"Demography\",\"Education & Educational Research\",\"Education, Scientific Disciplines\",\"Education, Special\",\"Ethnic Studies\",\"Family Studies\",\"Geography\",\"Law\",\"Political Science\",\"International Relations\",\"Linguistics\",\"Language & Linguistics\",\"Social Sciences, Mathematical Methods\",\"Psychology, Biological\",\"Psychology, Clinical\",\"Psychology, Educational\",\"Psychology, Developmental\",\"Psychology, Applied\",\"Psychology\",\"Psychology, Multidisciplinary\",\"Psychology, Psychoanalysis\",\"Psychology, Mathematical\",\"Psychology, Experimental\",\"Psychology, Social\",\"Planning & Development\",\"Public Administration\",\"Social Issues\",\"Ethics\",\"History of Social Sciences\",\"Hospitality, Leisure, Sport & Tourism\",\"Social Sciences, Interdisciplinary\",\"Social Work\",\"Sociology\",\"Urban Studies\",\"Women's Studies\"]"
   ]
  },
  {
   "cell_type": "code",
   "execution_count": 6,
   "metadata": {},
   "outputs": [
    {
     "data": {
      "text/html": [
       "<div>\n",
       "<style scoped>\n",
       "    .dataframe tbody tr th:only-of-type {\n",
       "        vertical-align: middle;\n",
       "    }\n",
       "\n",
       "    .dataframe tbody tr th {\n",
       "        vertical-align: top;\n",
       "    }\n",
       "\n",
       "    .dataframe thead th {\n",
       "        text-align: right;\n",
       "    }\n",
       "</style>\n",
       "<table border=\"1\" class=\"dataframe\">\n",
       "  <thead>\n",
       "    <tr style=\"text-align: right;\">\n",
       "      <th></th>\n",
       "      <th>ArticleID</th>\n",
       "      <th>Type</th>\n",
       "      <th>Label</th>\n",
       "      <th>PubYear</th>\n",
       "      <th>Doctypes</th>\n",
       "      <th>Title</th>\n",
       "      <th>Journal</th>\n",
       "      <th>Journal Abbreviation ISO</th>\n",
       "      <th>title_without_stopwords</th>\n",
       "    </tr>\n",
       "  </thead>\n",
       "  <tbody>\n",
       "    <tr>\n",
       "      <th>0</th>\n",
       "      <td>A1981LV25400015</td>\n",
       "      <td>ASCA extended subject</td>\n",
       "      <td>Surgery</td>\n",
       "      <td>1981</td>\n",
       "      <td>Article</td>\n",
       "      <td>CRANIOFACIAL SURGICAL TECHNIQUES FOR AESTHETIC...</td>\n",
       "      <td>CLINICS IN PLASTIC SURGERY</td>\n",
       "      <td>Clin. Plast. Surg.</td>\n",
       "      <td>craniofacial surgical techniques aesthetic res...</td>\n",
       "    </tr>\n",
       "    <tr>\n",
       "      <th>1</th>\n",
       "      <td>A1981LV25400015</td>\n",
       "      <td>ASCA traditional subject</td>\n",
       "      <td>Surgery</td>\n",
       "      <td>1981</td>\n",
       "      <td>Article</td>\n",
       "      <td>CRANIOFACIAL SURGICAL TECHNIQUES FOR AESTHETIC...</td>\n",
       "      <td>CLINICS IN PLASTIC SURGERY</td>\n",
       "      <td>Clin. Plast. Surg.</td>\n",
       "      <td>craniofacial surgical techniques aesthetic res...</td>\n",
       "    </tr>\n",
       "    <tr>\n",
       "      <th>2</th>\n",
       "      <td>A1981LV25400015</td>\n",
       "      <td>subheading</td>\n",
       "      <td>Life Sciences &amp; Biomedicine</td>\n",
       "      <td>1981</td>\n",
       "      <td>Article</td>\n",
       "      <td>CRANIOFACIAL SURGICAL TECHNIQUES FOR AESTHETIC...</td>\n",
       "      <td>CLINICS IN PLASTIC SURGERY</td>\n",
       "      <td>Clin. Plast. Surg.</td>\n",
       "      <td>craniofacial surgical techniques aesthetic res...</td>\n",
       "    </tr>\n",
       "    <tr>\n",
       "      <th>3</th>\n",
       "      <td>A1981LV25400015</td>\n",
       "      <td>heading</td>\n",
       "      <td>Science &amp; Technology</td>\n",
       "      <td>1981</td>\n",
       "      <td>Article</td>\n",
       "      <td>CRANIOFACIAL SURGICAL TECHNIQUES FOR AESTHETIC...</td>\n",
       "      <td>CLINICS IN PLASTIC SURGERY</td>\n",
       "      <td>Clin. Plast. Surg.</td>\n",
       "      <td>craniofacial surgical techniques aesthetic res...</td>\n",
       "    </tr>\n",
       "    <tr>\n",
       "      <th>4</th>\n",
       "      <td>A1981KS96600020</td>\n",
       "      <td>heading</td>\n",
       "      <td>Science &amp; Technology</td>\n",
       "      <td>1981</td>\n",
       "      <td>Letter</td>\n",
       "      <td>LACK OF EFFECT OF DISOPYRAMIDE ON CHRONIC STAB...</td>\n",
       "      <td>JOURNAL OF CARDIOVASCULAR PHARMACOLOGY</td>\n",
       "      <td>J. Cardiovasc. Pharmacol.</td>\n",
       "      <td>lack effect disopyramide chronic stable angina</td>\n",
       "    </tr>\n",
       "  </tbody>\n",
       "</table>\n",
       "</div>"
      ],
      "text/plain": [
       "         ArticleID                      Type                        Label  \\\n",
       "0  A1981LV25400015     ASCA extended subject                      Surgery   \n",
       "1  A1981LV25400015  ASCA traditional subject                      Surgery   \n",
       "2  A1981LV25400015                subheading  Life Sciences & Biomedicine   \n",
       "3  A1981LV25400015                   heading         Science & Technology   \n",
       "4  A1981KS96600020                   heading         Science & Technology   \n",
       "\n",
       "   PubYear Doctypes                                              Title  \\\n",
       "0     1981  Article  CRANIOFACIAL SURGICAL TECHNIQUES FOR AESTHETIC...   \n",
       "1     1981  Article  CRANIOFACIAL SURGICAL TECHNIQUES FOR AESTHETIC...   \n",
       "2     1981  Article  CRANIOFACIAL SURGICAL TECHNIQUES FOR AESTHETIC...   \n",
       "3     1981  Article  CRANIOFACIAL SURGICAL TECHNIQUES FOR AESTHETIC...   \n",
       "4     1981   Letter  LACK OF EFFECT OF DISOPYRAMIDE ON CHRONIC STAB...   \n",
       "\n",
       "                                  Journal   Journal Abbreviation ISO  \\\n",
       "0              CLINICS IN PLASTIC SURGERY         Clin. Plast. Surg.   \n",
       "1              CLINICS IN PLASTIC SURGERY         Clin. Plast. Surg.   \n",
       "2              CLINICS IN PLASTIC SURGERY         Clin. Plast. Surg.   \n",
       "3              CLINICS IN PLASTIC SURGERY         Clin. Plast. Surg.   \n",
       "4  JOURNAL OF CARDIOVASCULAR PHARMACOLOGY  J. Cardiovasc. Pharmacol.   \n",
       "\n",
       "                             title_without_stopwords  \n",
       "0  craniofacial surgical techniques aesthetic res...  \n",
       "1  craniofacial surgical techniques aesthetic res...  \n",
       "2  craniofacial surgical techniques aesthetic res...  \n",
       "3  craniofacial surgical techniques aesthetic res...  \n",
       "4     lack effect disopyramide chronic stable angina  "
      ]
     },
     "execution_count": 6,
     "metadata": {},
     "output_type": "execute_result"
    }
   ],
   "source": [
    "data.head()"
   ]
  },
  {
   "cell_type": "code",
   "execution_count": 10,
   "metadata": {},
   "outputs": [],
   "source": [
    "data = data[data['Label'].isin(disciplines)]"
   ]
  },
  {
   "cell_type": "code",
   "execution_count": 11,
   "metadata": {},
   "outputs": [
    {
     "data": {
      "text/plain": [
       "91892093"
      ]
     },
     "execution_count": 11,
     "metadata": {},
     "output_type": "execute_result"
    }
   ],
   "source": [
    "len(data)"
   ]
  },
  {
   "cell_type": "code",
   "execution_count": 12,
   "metadata": {},
   "outputs": [],
   "source": [
    "# write filtered data to pickle\n",
    "filename = \"/mnt/disks/vault/analysis-data/word-journey/all-data.pql\"\n",
    "pickle_out = open(filename,\"wb\")\n",
    "pickle.dump(data, pickle_out)\n",
    "pickle_out.close()"
   ]
  },
  {
   "cell_type": "code",
   "execution_count": 13,
   "metadata": {},
   "outputs": [
    {
     "data": {
      "text/plain": [
       "249"
      ]
     },
     "execution_count": 13,
     "metadata": {},
     "output_type": "execute_result"
    }
   ],
   "source": [
    "len(data.Label.unique())"
   ]
  },
  {
   "cell_type": "code",
   "execution_count": 15,
   "metadata": {},
   "outputs": [],
   "source": [
    "data_grouped_by_label = data[[\"Label\",\"title_without_stopwords\"]].groupby(data.Label)[\"title_without_stopwords\"].apply(list)\n",
    "\n",
    "data_grouped_by_label = pd.DataFrame(data_grouped_by_label)"
   ]
  },
  {
   "cell_type": "code",
   "execution_count": 16,
   "metadata": {},
   "outputs": [
    {
     "data": {
      "text/plain": [
       "249"
      ]
     },
     "execution_count": 16,
     "metadata": {},
     "output_type": "execute_result"
    }
   ],
   "source": [
    "len(data_grouped_by_label)"
   ]
  },
  {
   "cell_type": "code",
   "execution_count": 18,
   "metadata": {},
   "outputs": [
    {
     "name": "stderr",
     "output_type": "stream",
     "text": [
      "Progress: 100%|██████████| 249/249 [00:22<00:00, 12.80it/s]\n"
     ]
    }
   ],
   "source": [
    "data_grouped_by_label[\"title_words\"] = data_grouped_by_label[\"title_without_stopwords\"].progress_apply(lambda x: \" \".join(x))"
   ]
  },
  {
   "cell_type": "code",
   "execution_count": 19,
   "metadata": {},
   "outputs": [
    {
     "data": {
      "text/html": [
       "<div>\n",
       "<style scoped>\n",
       "    .dataframe tbody tr th:only-of-type {\n",
       "        vertical-align: middle;\n",
       "    }\n",
       "\n",
       "    .dataframe tbody tr th {\n",
       "        vertical-align: top;\n",
       "    }\n",
       "\n",
       "    .dataframe thead th {\n",
       "        text-align: right;\n",
       "    }\n",
       "</style>\n",
       "<table border=\"1\" class=\"dataframe\">\n",
       "  <thead>\n",
       "    <tr style=\"text-align: right;\">\n",
       "      <th></th>\n",
       "      <th>title_without_stopwords</th>\n",
       "      <th>title_words</th>\n",
       "    </tr>\n",
       "    <tr>\n",
       "      <th>Label</th>\n",
       "      <th></th>\n",
       "      <th></th>\n",
       "    </tr>\n",
       "  </thead>\n",
       "  <tbody>\n",
       "    <tr>\n",
       "      <th>Acoustics</th>\n",
       "      <td>[multiplexer using flat exponential filters, m...</td>\n",
       "      <td>multiplexer using flat exponential filters mul...</td>\n",
       "    </tr>\n",
       "    <tr>\n",
       "      <th>Agricultural Economics &amp; Policy</th>\n",
       "      <td>[poultry eggs, accounting commodity credit cor...</td>\n",
       "      <td>poultry eggs accounting commodity credit corpo...</td>\n",
       "    </tr>\n",
       "    <tr>\n",
       "      <th>Agricultural Engineering</th>\n",
       "      <td>[soft energy from palm wastes, potential land ...</td>\n",
       "      <td>soft energy from palm wastes potential land di...</td>\n",
       "    </tr>\n",
       "    <tr>\n",
       "      <th>Agriculture, Dairy &amp; Animal Science</th>\n",
       "      <td>[collection 2 cell embryos their culture media...</td>\n",
       "      <td>collection 2 cell embryos their culture media ...</td>\n",
       "    </tr>\n",
       "    <tr>\n",
       "      <th>Agriculture, Multidisciplinary</th>\n",
       "      <td>[response strawberry fruit yield plant populat...</td>\n",
       "      <td>response strawberry fruit yield plant populati...</td>\n",
       "    </tr>\n",
       "  </tbody>\n",
       "</table>\n",
       "</div>"
      ],
      "text/plain": [
       "                                                               title_without_stopwords  \\\n",
       "Label                                                                                    \n",
       "Acoustics                            [multiplexer using flat exponential filters, m...   \n",
       "Agricultural Economics & Policy      [poultry eggs, accounting commodity credit cor...   \n",
       "Agricultural Engineering             [soft energy from palm wastes, potential land ...   \n",
       "Agriculture, Dairy & Animal Science  [collection 2 cell embryos their culture media...   \n",
       "Agriculture, Multidisciplinary       [response strawberry fruit yield plant populat...   \n",
       "\n",
       "                                                                           title_words  \n",
       "Label                                                                                   \n",
       "Acoustics                            multiplexer using flat exponential filters mul...  \n",
       "Agricultural Economics & Policy      poultry eggs accounting commodity credit corpo...  \n",
       "Agricultural Engineering             soft energy from palm wastes potential land di...  \n",
       "Agriculture, Dairy & Animal Science  collection 2 cell embryos their culture media ...  \n",
       "Agriculture, Multidisciplinary       response strawberry fruit yield plant populati...  "
      ]
     },
     "execution_count": 19,
     "metadata": {},
     "output_type": "execute_result"
    }
   ],
   "source": [
    "data_grouped_by_label.head()"
   ]
  },
  {
   "cell_type": "code",
   "execution_count": 31,
   "metadata": {},
   "outputs": [],
   "source": [
    "vectorizer = CountVectorizer(min_df=4, max_df=1.0)\n",
    "vectorized_words = vectorizer.fit_transform(data_grouped_by_label.title_words)"
   ]
  },
  {
   "cell_type": "code",
   "execution_count": 32,
   "metadata": {},
   "outputs": [],
   "source": [
    "pickle_out = open(\"/mnt/disks/vault/analysis-data/word-journey/vectorizer.pickle\",\"wb\")\n",
    "pickle.dump(vectorizer, pickle_out)\n",
    "pickle_out.close()\n",
    "\n",
    "pickle_out = open(\"/mnt/disks/vault/analysis-data/word-journey/vectorized_words.pickle\",\"wb\")\n",
    "pickle.dump(vectorized_words, pickle_out)\n",
    "pickle_out.close()"
   ]
  },
  {
   "cell_type": "code",
   "execution_count": 33,
   "metadata": {},
   "outputs": [],
   "source": [
    "count_vocab = {value:key for key,value in vectorizer.vocabulary_.items()}\n",
    "count_rev_dict = {value:key for key,value in vectorizer.vocabulary_.items()}\n",
    "words = [count_rev_dict[i] for i in range(len(vectorizer.vocabulary_.keys()))]"
   ]
  },
  {
   "cell_type": "code",
   "execution_count": 34,
   "metadata": {},
   "outputs": [],
   "source": [
    "vectorized_wordarray = vectorized_words.toarray()"
   ]
  },
  {
   "cell_type": "code",
   "execution_count": 35,
   "metadata": {},
   "outputs": [],
   "source": [
    "document_frequency = (vectorized_wordarray != 0).sum(0).tolist()\n",
    "document_frequency_log =  [np.log(x) for x in document_frequency]\n",
    "#2. Term Frequency - Number of times in which a word appears in a document\n",
    "term_frequency = vectorized_words.sum(axis=0).reshape(-1,).tolist()[0]\n",
    "term_frequency_log = [np.log(x) for x in term_frequency]"
   ]
  },
  {
   "cell_type": "code",
   "execution_count": 38,
   "metadata": {},
   "outputs": [
    {
     "name": "stderr",
     "output_type": "stream",
     "text": [
      "/usr/local/lib/python3.6/dist-packages/IPython/core/display.py:689: UserWarning:\n",
      "\n",
      "Consider using IPython.display.IFrame instead\n",
      "\n"
     ]
    },
    {
     "data": {
      "text/html": [
       "<iframe id=\"igraph\" scrolling=\"no\" style=\"border:none;\" seamless=\"seamless\" src=\"https://plot.ly/~sreejith_s/138.embed\" height=\"525px\" width=\"100%\"></iframe>"
      ],
      "text/plain": [
       "<plotly.tools.PlotlyDisplay object>"
      ]
     },
     "execution_count": 38,
     "metadata": {},
     "output_type": "execute_result"
    }
   ],
   "source": [
    "trace0 = go.Scattergl(\n",
    "    x = document_frequency_log,\n",
    "    y = term_frequency_log,\n",
    "    mode = 'markers',\n",
    "    text = words,\n",
    "    marker = dict(\n",
    "        color = '#FFBAD2',\n",
    "        line = dict(width = 1)\n",
    "    )\n",
    ")\n",
    "\n",
    "\n",
    "layout= go.Layout(\n",
    "    title= 'Document Frequency - Term Frequency plot ',\n",
    "    hovermode= 'closest',\n",
    "    xaxis= dict(\n",
    "        title= 'Log Document Frequency (Number of disciplines in which the word occurs)',\n",
    "        ticklen= 5,\n",
    "        zeroline= False,\n",
    "        gridwidth= 2,\n",
    "    ),\n",
    "    yaxis=dict(\n",
    "        title= 'Log Term Frequency (Count of the word in corpus)',\n",
    "        ticklen= 5,\n",
    "        gridwidth= 2,\n",
    "    ),\n",
    "    \n",
    "    showlegend= False\n",
    ")\n",
    "\n",
    "plotdata = [trace0]\n",
    "\n",
    "\n",
    "fig= go.Figure(data=plotdata, layout=layout)\n",
    "py.iplot(fig)"
   ]
  },
  {
   "cell_type": "markdown",
   "metadata": {},
   "source": [
    "__Pick some words which have low log document frequency and relatively high term frequency__\n",
    "\n",
    "_(i,e words that appear in only a few disciplines but have a good frequency count)_\n"
   ]
  },
  {
   "cell_type": "code",
   "execution_count": 40,
   "metadata": {},
   "outputs": [
    {
     "data": {
      "text/plain": [
       "16738"
      ]
     },
     "execution_count": 40,
     "metadata": {},
     "output_type": "execute_result"
    }
   ],
   "source": [
    "len(np.unique(term_frequency_log))"
   ]
  },
  {
   "cell_type": "code",
   "execution_count": 58,
   "metadata": {},
   "outputs": [],
   "source": [
    "good_words = [words[index] for index in range(len(term_frequency_log)) if term_frequency_log[index] > 6.5 and document_frequency_log[index] < 2.5]"
   ]
  },
  {
   "cell_type": "code",
   "execution_count": 59,
   "metadata": {},
   "outputs": [
    {
     "data": {
      "text/plain": [
       "127"
      ]
     },
     "execution_count": 59,
     "metadata": {},
     "output_type": "execute_result"
    }
   ],
   "source": [
    "len(good_words)"
   ]
  },
  {
   "cell_type": "code",
   "execution_count": 60,
   "metadata": {},
   "outputs": [
    {
     "data": {
      "text/plain": [
       "['2mass',\n",
       " 'andromedae',\n",
       " 'anosov',\n",
       " 'antiquark',\n",
       " 'artinian',\n",
       " 'aurigae',\n",
       " 'auslander',\n",
       " 'baryogenesis',\n",
       " 'baryonic',\n",
       " 'beurling',\n",
       " 'birational',\n",
       " 'blazar',\n",
       " 'blazars',\n",
       " 'branes',\n",
       " 'braneworld',\n",
       " 'brst',\n",
       " 'cabibbo',\n",
       " 'calabi',\n",
       " 'capsulorhexis',\n",
       " 'cassiopeiae',\n",
       " 'cepheids',\n",
       " 'chevalley',\n",
       " 'cobordism',\n",
       " 'cocycles',\n",
       " 'compactified',\n",
       " 'dilatonic',\n",
       " 'dilepton',\n",
       " 'diphoton',\n",
       " 'diquark',\n",
       " 'disolvate',\n",
       " 'eclogites',\n",
       " 'efirov',\n",
       " 'eiscat',\n",
       " 'ethyleniques',\n",
       " 'fastbus',\n",
       " 'floer',\n",
       " 'glueball',\n",
       " 'grassmannians',\n",
       " 'gravitino',\n",
       " 'harnack',\n",
       " 'hecke',\n",
       " 'heegaard',\n",
       " 'hemisolvate',\n",
       " 'herbig',\n",
       " 'hinode',\n",
       " 'horava',\n",
       " 'hyades',\n",
       " 'hyers',\n",
       " 'hypoelliptic',\n",
       " 'inflaton',\n",
       " 'interlibrary',\n",
       " 'iridotomy',\n",
       " 'iwasawa',\n",
       " 'izuchenie',\n",
       " 'jona',\n",
       " 'kislot',\n",
       " 'kisloty',\n",
       " 'koszul',\n",
       " 'krull',\n",
       " 'lasinio',\n",
       " 'lectotypification',\n",
       " 'leptogenesis',\n",
       " 'lusztig',\n",
       " 'markarian',\n",
       " 'metabelian',\n",
       " 'metapelites',\n",
       " 'motivic',\n",
       " 'nannofossil',\n",
       " 'neutralino',\n",
       " 'nonleptonic',\n",
       " 'ogle',\n",
       " 'ophiuchi',\n",
       " 'opredeleniya',\n",
       " 'orbifold',\n",
       " 'orionis',\n",
       " 'os3',\n",
       " 'paleointensity',\n",
       " 'parallaxes',\n",
       " 'pbarp',\n",
       " 'pegasi',\n",
       " 'persei',\n",
       " 'ph2pch2pph2',\n",
       " 'phosphido',\n",
       " 'pomeron',\n",
       " 'ppbar',\n",
       " 'profinite',\n",
       " 'proizvodnykh',\n",
       " 'protostars',\n",
       " 'protostellar',\n",
       " 'puppis',\n",
       " 'qsos',\n",
       " 'quarkonia',\n",
       " 'quarkonium',\n",
       " 'quivers',\n",
       " 'radiat',\n",
       " 'rayet',\n",
       " 'rcvs',\n",
       " 'reaktsii',\n",
       " 'rectopexy',\n",
       " 'reggeon',\n",
       " 'rhic',\n",
       " 'rhytidectomy',\n",
       " 'riphean',\n",
       " 'sacrocolpopexy',\n",
       " 'sasakian',\n",
       " 'scuti',\n",
       " 'seiberg',\n",
       " 'semileptonic',\n",
       " 'shimura',\n",
       " 'sintez',\n",
       " 'smpte',\n",
       " 'stratotype',\n",
       " 'subducted',\n",
       " 'subducting',\n",
       " 'subdwarf',\n",
       " 'sundrum',\n",
       " 'sunyaev',\n",
       " 'supergiants',\n",
       " 'suzaku',\n",
       " 'threefolds',\n",
       " 'triebel',\n",
       " 'ultraluminous',\n",
       " 'urol',\n",
       " 'ursae',\n",
       " 'voprosu',\n",
       " 'vzaimodeistvie',\n",
       " 'zumino']"
      ]
     },
     "execution_count": 60,
     "metadata": {},
     "output_type": "execute_result"
    }
   ],
   "source": [
    "good_words"
   ]
  },
  {
   "cell_type": "code",
   "execution_count": null,
   "metadata": {},
   "outputs": [],
   "source": []
  }
 ],
 "metadata": {
  "kernelspec": {
   "display_name": "Python 3",
   "language": "python",
   "name": "python3"
  },
  "language_info": {
   "codemirror_mode": {
    "name": "ipython",
    "version": 3
   },
   "file_extension": ".py",
   "mimetype": "text/x-python",
   "name": "python",
   "nbconvert_exporter": "python",
   "pygments_lexer": "ipython3",
   "version": "3.6.7"
  }
 },
 "nbformat": 4,
 "nbformat_minor": 2
}
