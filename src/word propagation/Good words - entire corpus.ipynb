{
 "cells": [
  {
   "cell_type": "code",
   "execution_count": 2,
   "metadata": {},
   "outputs": [
    {
     "name": "stdout",
     "output_type": "stream",
     "text": [
      "> \u001b[0;32m<ipython-input-1-8ea5f09dec83>\u001b[0m(1)\u001b[0;36m<module>\u001b[0;34m()\u001b[0m\n",
      "\u001b[0;32m----> 1 \u001b[0;31m\u001b[0mdata_grouped_by_label\u001b[0m\u001b[0;34m[\u001b[0m\u001b[0;34m\"cleaned_titles\"\u001b[0m\u001b[0;34m]\u001b[0m \u001b[0;34m=\u001b[0m \u001b[0mdata_grouped_by_label\u001b[0m\u001b[0;34m[\u001b[0m\u001b[0;34m\"title_without_stopwords\"\u001b[0m\u001b[0;34m]\u001b[0m\u001b[0;34m.\u001b[0m\u001b[0mapply\u001b[0m\u001b[0;34m(\u001b[0m\u001b[0;32mlambda\u001b[0m \u001b[0mx\u001b[0m\u001b[0;34m:\u001b[0m \u001b[0mlist\u001b[0m\u001b[0;34m(\u001b[0m\u001b[0mset\u001b[0m\u001b[0;34m(\u001b[0m\u001b[0mx\u001b[0m\u001b[0;34m)\u001b[0m\u001b[0;34m)\u001b[0m\u001b[0;34m)\u001b[0m\u001b[0;34m\u001b[0m\u001b[0;34m\u001b[0m\u001b[0m\n",
      "\u001b[0m\u001b[0;32m      2 \u001b[0;31m\u001b[0;34m\u001b[0m\u001b[0m\n",
      "\u001b[0m\u001b[0;32m      3 \u001b[0;31m\u001b[0mdata_grouped_by_label\u001b[0m\u001b[0;34m[\u001b[0m\u001b[0;34m\"before_distinct\"\u001b[0m\u001b[0;34m]\u001b[0m \u001b[0;34m=\u001b[0m \u001b[0mdata_grouped_by_label\u001b[0m\u001b[0;34m[\u001b[0m\u001b[0;34m\"title_without_stopwords\"\u001b[0m\u001b[0;34m]\u001b[0m\u001b[0;34m.\u001b[0m\u001b[0mapply\u001b[0m\u001b[0;34m(\u001b[0m\u001b[0;32mlambda\u001b[0m \u001b[0mx\u001b[0m\u001b[0;34m:\u001b[0m \u001b[0mlen\u001b[0m\u001b[0;34m(\u001b[0m\u001b[0mx\u001b[0m\u001b[0;34m)\u001b[0m\u001b[0;34m)\u001b[0m\u001b[0;34m\u001b[0m\u001b[0;34m\u001b[0m\u001b[0m\n",
      "\u001b[0m\u001b[0;32m      4 \u001b[0;31m\u001b[0mdata_grouped_by_label\u001b[0m\u001b[0;34m[\u001b[0m\u001b[0;34m\"after_distinct\"\u001b[0m\u001b[0;34m]\u001b[0m \u001b[0;34m=\u001b[0m \u001b[0mdata_grouped_by_label\u001b[0m\u001b[0;34m[\u001b[0m\u001b[0;34m\"cleaned_titles\"\u001b[0m\u001b[0;34m]\u001b[0m\u001b[0;34m.\u001b[0m\u001b[0mapply\u001b[0m\u001b[0;34m(\u001b[0m\u001b[0;32mlambda\u001b[0m \u001b[0mx\u001b[0m\u001b[0;34m:\u001b[0m \u001b[0mlen\u001b[0m\u001b[0;34m(\u001b[0m\u001b[0mx\u001b[0m\u001b[0;34m)\u001b[0m\u001b[0;34m)\u001b[0m\u001b[0;34m\u001b[0m\u001b[0;34m\u001b[0m\u001b[0m\n",
      "\u001b[0m\u001b[0;32m      5 \u001b[0;31m\u001b[0;34m\u001b[0m\u001b[0m\n",
      "\u001b[0m\n",
      "ipdb> q\n"
     ]
    }
   ],
   "source": [
    "%load_ext autoreload\n",
    "%autoreload 2\n",
    "%matplotlib inline\n",
    "%debug"
   ]
  },
  {
   "cell_type": "code",
   "execution_count": 3,
   "metadata": {},
   "outputs": [],
   "source": [
    "import sys\n",
    "sys.path.insert(0, \"../../code-previous\")"
   ]
  },
  {
   "cell_type": "code",
   "execution_count": 4,
   "metadata": {},
   "outputs": [
    {
     "name": "stderr",
     "output_type": "stream",
     "text": [
      "/usr/lib/python3.6/importlib/_bootstrap.py:219: RuntimeWarning: numpy.dtype size changed, may indicate binary incompatibility. Expected 96, got 88\n",
      "  return f(*args, **kwds)\n"
     ]
    }
   ],
   "source": [
    "import pandas as pd\n",
    "import numpy as np\n",
    "import operator\n",
    "\n",
    "import string\n",
    "import nltk\n",
    "stopwords = nltk.corpus.stopwords.words('english')\n",
    "\n",
    "import pickle\n",
    "from sklearn.feature_extraction.text import CountVectorizer\n",
    "\n",
    "import plotly\n",
    "import plotly.plotly as py\n",
    "from plotly import tools\n",
    "\n",
    "import plotly.graph_objs as go\n",
    "plotly.tools.set_credentials_file(username='sreejith_s', api_key='rcet0rTqFCc3WeOzWTjv')\n",
    "\n",
    "from unicodedata import category\n",
    "from tqdm import tqdm\n",
    "tqdm.pandas(desc=\"Progress\")\n",
    "\n",
    "import seaborn as sns\n",
    "sns.set_style('white')\n",
    "import matplotlib.pylab as plt"
   ]
  },
  {
   "cell_type": "code",
   "execution_count": 5,
   "metadata": {},
   "outputs": [],
   "source": [
    "data_path = \"/mnt/disks/vault/analysis-data/interdisciplinary-novelty-analysis/all_discipline_data.pql\"\n",
    "data = pd.read_pickle(data_path)"
   ]
  },
  {
   "cell_type": "code",
   "execution_count": 6,
   "metadata": {},
   "outputs": [
    {
     "data": {
      "text/plain": [
       "406341980"
      ]
     },
     "execution_count": 6,
     "metadata": {},
     "output_type": "execute_result"
    }
   ],
   "source": [
    "len(data)"
   ]
  },
  {
   "cell_type": "code",
   "execution_count": 7,
   "metadata": {},
   "outputs": [],
   "source": [
    "data_update = data[[\"Label\",\"PubYear\",\"Doctypes\", \"title_without_stopwords\"]]"
   ]
  },
  {
   "cell_type": "code",
   "execution_count": 8,
   "metadata": {},
   "outputs": [],
   "source": [
    "data_update = data_update.drop_duplicates()"
   ]
  },
  {
   "cell_type": "code",
   "execution_count": 9,
   "metadata": {},
   "outputs": [
    {
     "data": {
      "text/plain": [
       "406341980"
      ]
     },
     "execution_count": 9,
     "metadata": {},
     "output_type": "execute_result"
    }
   ],
   "source": [
    "len(data)"
   ]
  },
  {
   "cell_type": "code",
   "execution_count": 13,
   "metadata": {},
   "outputs": [],
   "source": [
    "disciplines = [\"Architecture\",\"Art\",\"Humanities, Multidisciplinary\",\"Folklore\",\"Medieval & Renaissance Studies\",\"Asian Studies\",\"Classics\",\"Dance\",\"Film, Radio, Television\",\"History\",\"History & Philosophy of Science\",\"Literary Theory & Criticism\",\"Literary Reviews\",\"Literature\",\"Literature, African, Australian, Canadian\",\"Literature, American\",\"Literature, British Isles\",\"Literature, German, Dutch, Scandinavian\",\"Literature, Romance\",\"Literature, Slavic\",\"Poetry\",\"Music\",\"Philosophy\",\"Religion\",\"Theater\",\"Agriculture, Dairy & Animal Science\",\"Agricultural Engineering\",\"Agricultural Economics & Policy\",\"Agriculture, Multidisciplinary\",\"Agronomy\",\"Horticulture\",\"Soil Science\",\"Allergy\",\"Anatomy & Morphology\",\"Anesthesiology\",\"Anthropology\",\"Audiology & Speech-Language Pathology\",\"Behavioral Sciences\",\"Biochemical Research Methods\",\"Biochemistry & Molecular Biology\",\"Biodiversity Conservation\",\"Biophysics\",\"Biotechnology & Applied Microbiology\",\"Cardiac & Cardiovascular Systems\",\"Peripheral Vascular Disease\",\"Cell & Tissue Engineering\",\"Cell Biology\",\"Dentistry, Oral Surgery & Medicine\",\"Dermatology\",\"Developmental Biology\",\"Emergency Medicine\",\"Andrology\",\"Endocrinology & Metabolism\",\"Entomology\",\"Ecology\",\"Environmental Sciences\",\"Environmental Studies\",\"Evolutionary Biology\",\"Fisheries\",\"Food Science & Technology\",\"Forestry\",\"Gastroenterology & Hepatology\",\"Critical Care Medicine\",\"Primary Health Care\",\"Medicine, General & Internal\",\"Genetics & Heredity\",\"Geriatrics & Gerontology\",\"Gerontology\",\"Health Care Sciences & Services\",\"Health Policy & Services\",\"Hematology\",\"Immunology\",\"Infectious Diseases\",\"Integrative & Complementary Medicine\",\"Medicine, Legal\",\"Biology\",\"Limnology\",\"Marine & Freshwater Biology\",\"Mathematical & Computational Biology\",\"Medical Ethics\",\"Medical Informatics\",\"Medical Laboratory Technology\",\"Microbiology\",\"Mycology\",\"Clinical Neurology\",\"Neurosciences\",\"Neuroimaging\",\"Nursing\",\"Nutrition & Dietetics\",\"Obstetrics & Gynecology\",\"Oncology\",\"Ophthalmology\",\"Orthopedics\",\"Otorhinolaryngology\",\"Paleontology\",\"Parasitology\",\"Pathology\",\"Pediatrics\",\"Chemistry, Medicinal\",\"Pharmacology & Pharmacy\",\"Physiology\",\"Plant Sciences\",\"Psychiatry\",\"Public, Environmental & Occupational Health\",\"Radiology, Nuclear Medicine & Medical Imaging\",\"Rehabilitation\",\"Reproductive Biology\",\"Medicine, Research & Experimental\",\"Respiratory System\",\"Rheumatology\",\"Sport Sciences\",\"Substance Abuse\",\"Surgery\",\"Toxicology\",\"Transplantation\",\"Tropical Medicine\",\"Urology & Nephrology\",\"Veterinary Sciences\",\"Virology\",\"Ornithology\",\"Zoology\",\"Astronomy & Astrophysics\",\"Chemistry, Applied\",\"Chemistry, Multidisciplinary\",\"Chemistry, Analytical\",\"Chemistry, Inorganic & Nuclear\",\"Chemistry, Organic\",\"Chemistry, Physical\",\"Crystallography\",\"Electrochemistry\",\"Geochemistry & Geophysics\",\"Geology\",\"Geosciences, Multidisciplinary\",\"Mathematics, Applied\",\"Mathematics, Interdisciplinary Applications\",\"Mathematics\",\"Statistics & Probability\",\"Meteorology & Atmospheric Sciences\",\"Mineralogy\",\"Mining & Mineral Processing\",\"Oceanography\",\"Optics\",\"Geography, Physical\",\"Physics, Applied\",\"Physics, Fluids & Plasmas\",\"Physics, Atomic, Molecular & Chemical\",\"Physics, Multidisciplinary\",\"Physics, Condensed Matter\",\"Physics, Nuclear\",\"Physics, Particles & Fields\",\"Physics, Mathematical\",\"Polymer Science\",\"Thermodynamics\",\"Water Resources\",\"Nanoscience & Nanotechnology\",\"Logic\",\"Multidisciplinary Sciences\",\"Acoustics\",\"Automation & Control Systems\",\"Computer Science, Artificial Intelligence\",\"Computer Science, Cybernetics\",\"Computer Science, Hardware & Architecture\",\"Computer Science, Information Systems\",\"Computer Science, Interdisciplinary Applications\",\"Computer Science, Software Engineering\",\"Computer Science, Theory & Methods\",\"Construction & Building Technology\",\"Energy & Fuels\",\"Engineering, Aerospace\",\"Engineering, Multidisciplinary\",\"Engineering, Biomedical\",\"Engineering, Environmental\",\"Engineering, Chemical\",\"Engineering, Industrial\",\"Engineering, Manufacturing\",\"Engineering, Marine\",\"Engineering, Civil\",\"Engineering, Ocean\",\"Engineering, Petroleum\",\"Engineering, Electrical & Electronic\",\"Engineering, Mechanical\",\"Engineering, Geological\",\"Ergonomics\",\"Imaging Science & Photographic Technology\",\"Information Science & Library Science\",\"Instruments & Instrumentation\",\"Materials Science, Paper & Wood\",\"Materials Science, Ceramics\",\"Materials Science, Multidisciplinary\",\"Materials Science, Biomaterials\",\"Materials Science, Characterization & Testing\",\"Materials Science, Coatings & Films\",\"Materials Science, Composites\",\"Materials Science, Textiles\",\"Mechanics\",\"Metallurgy & Metallurgical Engineering\",\"Microscopy\",\"Nuclear Science & Technology\",\"Operations Research & Management Science\",\"Remote Sensing\",\"Robotics\",\"Spectroscopy\",\"Telecommunications\",\"Transportation\",\"Transportation Science & Technology\",\"Archaeology\",\"Area Studies\",\"Social Sciences, Biomedical\",\"Business\",\"Business, Finance\",\"Economics\",\"Industrial Relations & Labor\",\"Management\",\"Communication\",\"Criminology & Penology\",\"Cultural Studies\",\"Demography\",\"Education & Educational Research\",\"Education, Scientific Disciplines\",\"Education, Special\",\"Ethnic Studies\",\"Family Studies\",\"Geography\",\"Law\",\"Political Science\",\"International Relations\",\"Linguistics\",\"Language & Linguistics\",\"Social Sciences, Mathematical Methods\",\"Psychology, Biological\",\"Psychology, Clinical\",\"Psychology, Educational\",\"Psychology, Developmental\",\"Psychology, Applied\",\"Psychology\",\"Psychology, Multidisciplinary\",\"Psychology, Psychoanalysis\",\"Psychology, Mathematical\",\"Psychology, Experimental\",\"Psychology, Social\",\"Planning & Development\",\"Public Administration\",\"Social Issues\",\"Ethics\",\"History of Social Sciences\",\"Hospitality, Leisure, Sport & Tourism\",\"Social Sciences, Interdisciplinary\",\"Social Work\",\"Sociology\",\"Urban Studies\",\"Women's Studies\"]"
   ]
  },
  {
   "cell_type": "code",
   "execution_count": 10,
   "metadata": {},
   "outputs": [],
   "source": [
    "pd.set_option('display.max_colwidth', -1)"
   ]
  },
  {
   "cell_type": "code",
   "execution_count": 12,
   "metadata": {},
   "outputs": [
    {
     "data": {
      "text/html": [
       "<div>\n",
       "<style scoped>\n",
       "    .dataframe tbody tr th:only-of-type {\n",
       "        vertical-align: middle;\n",
       "    }\n",
       "\n",
       "    .dataframe tbody tr th {\n",
       "        vertical-align: top;\n",
       "    }\n",
       "\n",
       "    .dataframe thead th {\n",
       "        text-align: right;\n",
       "    }\n",
       "</style>\n",
       "<table border=\"1\" class=\"dataframe\">\n",
       "  <thead>\n",
       "    <tr style=\"text-align: right;\">\n",
       "      <th></th>\n",
       "      <th>Label</th>\n",
       "      <th>PubYear</th>\n",
       "      <th>Doctypes</th>\n",
       "      <th>title_without_stopwords</th>\n",
       "    </tr>\n",
       "  </thead>\n",
       "  <tbody>\n",
       "    <tr>\n",
       "      <th>0</th>\n",
       "      <td>Surgery</td>\n",
       "      <td>1981</td>\n",
       "      <td>Article</td>\n",
       "      <td>craniofacial surgical techniques aesthetic results congenital acute traumatic deformities</td>\n",
       "    </tr>\n",
       "    <tr>\n",
       "      <th>2</th>\n",
       "      <td>Life Sciences &amp; Biomedicine</td>\n",
       "      <td>1981</td>\n",
       "      <td>Article</td>\n",
       "      <td>craniofacial surgical techniques aesthetic results congenital acute traumatic deformities</td>\n",
       "    </tr>\n",
       "    <tr>\n",
       "      <th>3</th>\n",
       "      <td>Science &amp; Technology</td>\n",
       "      <td>1981</td>\n",
       "      <td>Article</td>\n",
       "      <td>craniofacial surgical techniques aesthetic results congenital acute traumatic deformities</td>\n",
       "    </tr>\n",
       "    <tr>\n",
       "      <th>4</th>\n",
       "      <td>Science &amp; Technology</td>\n",
       "      <td>1981</td>\n",
       "      <td>Letter</td>\n",
       "      <td>lack effect disopyramide chronic stable angina</td>\n",
       "    </tr>\n",
       "    <tr>\n",
       "      <th>5</th>\n",
       "      <td>Life Sciences &amp; Biomedicine</td>\n",
       "      <td>1981</td>\n",
       "      <td>Letter</td>\n",
       "      <td>lack effect disopyramide chronic stable angina</td>\n",
       "    </tr>\n",
       "    <tr>\n",
       "      <th>6</th>\n",
       "      <td>Cardiac &amp; Cardiovascular Systems</td>\n",
       "      <td>1981</td>\n",
       "      <td>Letter</td>\n",
       "      <td>lack effect disopyramide chronic stable angina</td>\n",
       "    </tr>\n",
       "    <tr>\n",
       "      <th>7</th>\n",
       "      <td>Pharmacology &amp; Pharmacy</td>\n",
       "      <td>1981</td>\n",
       "      <td>Letter</td>\n",
       "      <td>lack effect disopyramide chronic stable angina</td>\n",
       "    </tr>\n",
       "    <tr>\n",
       "      <th>8</th>\n",
       "      <td>Cardiovascular System &amp; Cardiology</td>\n",
       "      <td>1981</td>\n",
       "      <td>Letter</td>\n",
       "      <td>lack effect disopyramide chronic stable angina</td>\n",
       "    </tr>\n",
       "    <tr>\n",
       "      <th>10</th>\n",
       "      <td>Science &amp; Technology</td>\n",
       "      <td>1981</td>\n",
       "      <td>Article</td>\n",
       "      <td>investigation influencing variables when determining permissible stack height storage space</td>\n",
       "    </tr>\n",
       "    <tr>\n",
       "      <th>11</th>\n",
       "      <td>Life Sciences &amp; Biomedicine</td>\n",
       "      <td>1981</td>\n",
       "      <td>Article</td>\n",
       "      <td>investigation influencing variables when determining permissible stack height storage space</td>\n",
       "    </tr>\n",
       "    <tr>\n",
       "      <th>12</th>\n",
       "      <td>Food Science &amp; Technology</td>\n",
       "      <td>1981</td>\n",
       "      <td>Article</td>\n",
       "      <td>investigation influencing variables when determining permissible stack height storage space</td>\n",
       "    </tr>\n",
       "    <tr>\n",
       "      <th>14</th>\n",
       "      <td>Science &amp; Technology</td>\n",
       "      <td>1981</td>\n",
       "      <td>Letter</td>\n",
       "      <td>professional competence evaluation reply</td>\n",
       "    </tr>\n",
       "    <tr>\n",
       "      <th>15</th>\n",
       "      <td>Life Sciences &amp; Biomedicine</td>\n",
       "      <td>1981</td>\n",
       "      <td>Letter</td>\n",
       "      <td>professional competence evaluation reply</td>\n",
       "    </tr>\n",
       "    <tr>\n",
       "      <th>16</th>\n",
       "      <td>Medicine, General &amp; Internal</td>\n",
       "      <td>1981</td>\n",
       "      <td>Letter</td>\n",
       "      <td>professional competence evaluation reply</td>\n",
       "    </tr>\n",
       "    <tr>\n",
       "      <th>17</th>\n",
       "      <td>General &amp; Internal Medicine</td>\n",
       "      <td>1981</td>\n",
       "      <td>Letter</td>\n",
       "      <td>professional competence evaluation reply</td>\n",
       "    </tr>\n",
       "    <tr>\n",
       "      <th>18</th>\n",
       "      <td>Science &amp; Technology</td>\n",
       "      <td>1981</td>\n",
       "      <td>Article</td>\n",
       "      <td>ammonia thermochemical energy transport distributed collector solar thermal power plant</td>\n",
       "    </tr>\n",
       "    <tr>\n",
       "      <th>19</th>\n",
       "      <td>Technology</td>\n",
       "      <td>1981</td>\n",
       "      <td>Article</td>\n",
       "      <td>ammonia thermochemical energy transport distributed collector solar thermal power plant</td>\n",
       "    </tr>\n",
       "    <tr>\n",
       "      <th>20</th>\n",
       "      <td>Energy &amp; Fuels</td>\n",
       "      <td>1981</td>\n",
       "      <td>Article</td>\n",
       "      <td>ammonia thermochemical energy transport distributed collector solar thermal power plant</td>\n",
       "    </tr>\n",
       "    <tr>\n",
       "      <th>22</th>\n",
       "      <td>Psychology</td>\n",
       "      <td>1981</td>\n",
       "      <td>Article</td>\n",
       "      <td>serum cortisol response incremental work experienced naive subjects</td>\n",
       "    </tr>\n",
       "    <tr>\n",
       "      <th>23</th>\n",
       "      <td>Science &amp; Technology</td>\n",
       "      <td>1981</td>\n",
       "      <td>Article</td>\n",
       "      <td>serum cortisol response incremental work experienced naive subjects</td>\n",
       "    </tr>\n",
       "  </tbody>\n",
       "</table>\n",
       "</div>"
      ],
      "text/plain": [
       "                                 Label  PubYear Doctypes  \\\n",
       "0   Surgery                             1981     Article   \n",
       "2   Life Sciences & Biomedicine         1981     Article   \n",
       "3   Science & Technology                1981     Article   \n",
       "4   Science & Technology                1981     Letter    \n",
       "5   Life Sciences & Biomedicine         1981     Letter    \n",
       "6   Cardiac & Cardiovascular Systems    1981     Letter    \n",
       "7   Pharmacology & Pharmacy             1981     Letter    \n",
       "8   Cardiovascular System & Cardiology  1981     Letter    \n",
       "10  Science & Technology                1981     Article   \n",
       "11  Life Sciences & Biomedicine         1981     Article   \n",
       "12  Food Science & Technology           1981     Article   \n",
       "14  Science & Technology                1981     Letter    \n",
       "15  Life Sciences & Biomedicine         1981     Letter    \n",
       "16  Medicine, General & Internal        1981     Letter    \n",
       "17  General & Internal Medicine         1981     Letter    \n",
       "18  Science & Technology                1981     Article   \n",
       "19  Technology                          1981     Article   \n",
       "20  Energy & Fuels                      1981     Article   \n",
       "22  Psychology                          1981     Article   \n",
       "23  Science & Technology                1981     Article   \n",
       "\n",
       "                                                                        title_without_stopwords  \n",
       "0   craniofacial surgical techniques aesthetic results congenital acute traumatic deformities    \n",
       "2   craniofacial surgical techniques aesthetic results congenital acute traumatic deformities    \n",
       "3   craniofacial surgical techniques aesthetic results congenital acute traumatic deformities    \n",
       "4   lack effect disopyramide chronic stable angina                                               \n",
       "5   lack effect disopyramide chronic stable angina                                               \n",
       "6   lack effect disopyramide chronic stable angina                                               \n",
       "7   lack effect disopyramide chronic stable angina                                               \n",
       "8   lack effect disopyramide chronic stable angina                                               \n",
       "10  investigation influencing variables when determining permissible stack height storage space  \n",
       "11  investigation influencing variables when determining permissible stack height storage space  \n",
       "12  investigation influencing variables when determining permissible stack height storage space  \n",
       "14  professional competence evaluation reply                                                     \n",
       "15  professional competence evaluation reply                                                     \n",
       "16  professional competence evaluation reply                                                     \n",
       "17  professional competence evaluation reply                                                     \n",
       "18  ammonia thermochemical energy transport distributed collector solar thermal power plant      \n",
       "19  ammonia thermochemical energy transport distributed collector solar thermal power plant      \n",
       "20  ammonia thermochemical energy transport distributed collector solar thermal power plant      \n",
       "22  serum cortisol response incremental work experienced naive subjects                          \n",
       "23  serum cortisol response incremental work experienced naive subjects                          "
      ]
     },
     "execution_count": 12,
     "metadata": {},
     "output_type": "execute_result"
    }
   ],
   "source": [
    "data_update.head(20)"
   ]
  },
  {
   "cell_type": "markdown",
   "metadata": {},
   "source": [
    "__plot distribution of the publications wrt disciplines__"
   ]
  },
  {
   "cell_type": "code",
   "execution_count": 10,
   "metadata": {},
   "outputs": [
    {
     "data": {
      "text/plain": [
       "Label\n",
       " (-)-SUPINIDINE                                           1\n",
       " (CA2+)-CA-45 INFLUX                                      1\n",
       " (GLYCINE-MAX)                                            1\n",
       " (RAT)                                                    1\n",
       " 145GD, 146GD, 147GD, 148GD, 149GD SUPERDEFORMED BANDS    1\n",
       " 2+2  photocycloaddition                                  1\n",
       " 2+2+2 -cycloaddition                                     1\n",
       " 22 (3A) AMNG                                             1\n",
       " 3,4-DIHYDROPYRIDIN-2-ONES                                1\n",
       " 5-ARYL-1,3-OXAZOLES                                      1\n",
       " 6-KETO-PGF1-ALPHA)                                       1\n",
       " 60  fullerene                                            1\n",
       " 72 MEV                                                   1\n",
       " ALPHA,BETA-UNSATURATED CARBONYL COMPOUND                 1\n",
       " ALPHA-ADRENOCEPTOR                                       1\n",
       " ALPHA-CHLOROAMIDINE                                      1\n",
       " ALPHA-GLOBIN GENES                                       1\n",
       " ALPHA-GLUCOSIDASE                                        1\n",
       " ALPHA-INTERFERON                                         1\n",
       " AND PRPP AMIDOTRANSFERASE INHIBITORS                     1\n",
       " AND RETINA                                               1\n",
       " BETA-ADRENERGIC PHENETHANOLAMINES                        1\n",
       " BETA-ADRENOCEPTOR                                        1\n",
       " BETA-CARBOLINE BINDING                                   1\n",
       " BETA-GAMMA-SUBUNIT                                       1\n",
       " BETA-LACTAM ANTIBIOTICS                                  1\n",
       " BETA-LACTAMASE INHIBITORS SULBACTAM                      1\n",
       " BIODISTRIBUTION                                          1\n",
       " C-13  octanoic acid                                      1\n",
       " C-13 -urea breath test                                   1\n",
       "                                                         ..\n",
       "{gamma}-Tubulin                                           1\n",
       "{gem, W(4), bull}-free graphs                             1\n",
       "{i, ..., j}-inverse of matrix                             1\n",
       "{i,...,j}-inverses                                        1\n",
       "{k+1}-Potent matrix                                       1\n",
       "{k+1}-potent matrix                                       1\n",
       "{k, r - k}-factor                                         1\n",
       "{k}-Domination                                            1\n",
       "{k}-domatic number                                        2\n",
       "{k}-dominating function                                   3\n",
       "{k}-domination                                            1\n",
       "{k}-domination number                                     4\n",
       "{m(k)}-Moran set                                          1\n",
       "{m(k)}-quasi homogeneous Cantor set                       1\n",
       "{m-QAM}(2) modulation                                     1\n",
       "{q, m} simplex-lattice                                    1\n",
       "{xx} hexadecimal  xx(1G)                                  1\n",
       "|                                                         3\n",
       "| Bor1                                                    1\n",
       "|1|-graded parabolic geometry                             1\n",
       "|G*|                                                      1\n",
       "|V-cb|                                                    1\n",
       "|World population growth                                  1\n",
       "|parallel to.parallel to|-subadditive operator            1\n",
       "}carbamimidothioates                                      1\n",
       "~                                                         7\n",
       "~ Micro-mesoporous aluminosilicates                       1\n",
       "~ Scuti                                                   1\n",
       "~-keto-esters                                             1\n",
       "~Dysport                                                  1\n",
       "Length: 13956402, dtype: int64"
      ]
     },
     "execution_count": 10,
     "metadata": {},
     "output_type": "execute_result"
    }
   ],
   "source": [
    "data_update.groupby(\"Label\").size()"
   ]
  },
  {
   "cell_type": "code",
   "execution_count": 15,
   "metadata": {},
   "outputs": [],
   "source": [
    "data = data_update[data_update['Label'].isin(disciplines)]"
   ]
  },
  {
   "cell_type": "code",
   "execution_count": 16,
   "metadata": {},
   "outputs": [
    {
     "data": {
      "text/plain": [
       "61860280"
      ]
     },
     "execution_count": 16,
     "metadata": {},
     "output_type": "execute_result"
    }
   ],
   "source": [
    "len(data)"
   ]
  },
  {
   "cell_type": "code",
   "execution_count": 12,
   "metadata": {},
   "outputs": [],
   "source": [
    "# write filtered data to pickle\n",
    "filename = \"/mnt/disks/vault/analysis-data/word-journey/all-data.pql\"\n",
    "pickle_out = open(filename,\"wb\")\n",
    "pickle.dump(data, pickle_out)\n",
    "pickle_out.close()"
   ]
  },
  {
   "cell_type": "code",
   "execution_count": 17,
   "metadata": {},
   "outputs": [
    {
     "data": {
      "text/plain": [
       "249"
      ]
     },
     "execution_count": 17,
     "metadata": {},
     "output_type": "execute_result"
    }
   ],
   "source": [
    "len(data.Label.unique())"
   ]
  },
  {
   "cell_type": "code",
   "execution_count": 18,
   "metadata": {},
   "outputs": [],
   "source": [
    "data_grouped_by_label = data[[\"Label\",\"title_without_stopwords\"]].groupby(data.Label)[\"title_without_stopwords\"].apply(list)\n",
    "data_grouped_by_label = pd.DataFrame(data_grouped_by_label)"
   ]
  },
  {
   "cell_type": "code",
   "execution_count": 19,
   "metadata": {},
   "outputs": [
    {
     "data": {
      "text/plain": [
       "249"
      ]
     },
     "execution_count": 19,
     "metadata": {},
     "output_type": "execute_result"
    }
   ],
   "source": [
    "len(data_grouped_by_label)"
   ]
  },
  {
   "cell_type": "code",
   "execution_count": 18,
   "metadata": {},
   "outputs": [
    {
     "name": "stderr",
     "output_type": "stream",
     "text": [
      "Progress: 100%|██████████| 249/249 [00:22<00:00, 12.80it/s]\n"
     ]
    }
   ],
   "source": []
  },
  {
   "cell_type": "code",
   "execution_count": 1,
   "metadata": {},
   "outputs": [
    {
     "ename": "NameError",
     "evalue": "name 'data_grouped_by_label' is not defined",
     "output_type": "error",
     "traceback": [
      "\u001b[0;31m---------------------------------------------------------------------------\u001b[0m",
      "\u001b[0;31mNameError\u001b[0m                                 Traceback (most recent call last)",
      "\u001b[0;32m<ipython-input-1-8ea5f09dec83>\u001b[0m in \u001b[0;36m<module>\u001b[0;34m\u001b[0m\n\u001b[0;32m----> 1\u001b[0;31m \u001b[0mdata_grouped_by_label\u001b[0m\u001b[0;34m[\u001b[0m\u001b[0;34m\"cleaned_titles\"\u001b[0m\u001b[0;34m]\u001b[0m \u001b[0;34m=\u001b[0m \u001b[0mdata_grouped_by_label\u001b[0m\u001b[0;34m[\u001b[0m\u001b[0;34m\"title_without_stopwords\"\u001b[0m\u001b[0;34m]\u001b[0m\u001b[0;34m.\u001b[0m\u001b[0mapply\u001b[0m\u001b[0;34m(\u001b[0m\u001b[0;32mlambda\u001b[0m \u001b[0mx\u001b[0m\u001b[0;34m:\u001b[0m \u001b[0mlist\u001b[0m\u001b[0;34m(\u001b[0m\u001b[0mset\u001b[0m\u001b[0;34m(\u001b[0m\u001b[0mx\u001b[0m\u001b[0;34m)\u001b[0m\u001b[0;34m)\u001b[0m\u001b[0;34m)\u001b[0m\u001b[0;34m\u001b[0m\u001b[0;34m\u001b[0m\u001b[0m\n\u001b[0m\u001b[1;32m      2\u001b[0m \u001b[0;34m\u001b[0m\u001b[0m\n\u001b[1;32m      3\u001b[0m \u001b[0mdata_grouped_by_label\u001b[0m\u001b[0;34m[\u001b[0m\u001b[0;34m\"before_distinct\"\u001b[0m\u001b[0;34m]\u001b[0m \u001b[0;34m=\u001b[0m \u001b[0mdata_grouped_by_label\u001b[0m\u001b[0;34m[\u001b[0m\u001b[0;34m\"title_without_stopwords\"\u001b[0m\u001b[0;34m]\u001b[0m\u001b[0;34m.\u001b[0m\u001b[0mapply\u001b[0m\u001b[0;34m(\u001b[0m\u001b[0;32mlambda\u001b[0m \u001b[0mx\u001b[0m\u001b[0;34m:\u001b[0m \u001b[0mlen\u001b[0m\u001b[0;34m(\u001b[0m\u001b[0mx\u001b[0m\u001b[0;34m)\u001b[0m\u001b[0;34m)\u001b[0m\u001b[0;34m\u001b[0m\u001b[0;34m\u001b[0m\u001b[0m\n\u001b[1;32m      4\u001b[0m \u001b[0mdata_grouped_by_label\u001b[0m\u001b[0;34m[\u001b[0m\u001b[0;34m\"after_distinct\"\u001b[0m\u001b[0;34m]\u001b[0m \u001b[0;34m=\u001b[0m \u001b[0mdata_grouped_by_label\u001b[0m\u001b[0;34m[\u001b[0m\u001b[0;34m\"cleaned_titles\"\u001b[0m\u001b[0;34m]\u001b[0m\u001b[0;34m.\u001b[0m\u001b[0mapply\u001b[0m\u001b[0;34m(\u001b[0m\u001b[0;32mlambda\u001b[0m \u001b[0mx\u001b[0m\u001b[0;34m:\u001b[0m \u001b[0mlen\u001b[0m\u001b[0;34m(\u001b[0m\u001b[0mx\u001b[0m\u001b[0;34m)\u001b[0m\u001b[0;34m)\u001b[0m\u001b[0;34m\u001b[0m\u001b[0;34m\u001b[0m\u001b[0m\n\u001b[1;32m      5\u001b[0m \u001b[0;34m\u001b[0m\u001b[0m\n",
      "\u001b[0;31mNameError\u001b[0m: name 'data_grouped_by_label' is not defined"
     ]
    }
   ],
   "source": [
    "data_grouped_by_label[\"cleaned_titles\"] = data_grouped_by_label[\"title_without_stopwords\"].apply(lambda x: list(set(x)))\n",
    "\n",
    "data_grouped_by_label[\"before_distinct\"] = data_grouped_by_label[\"title_without_stopwords\"].apply(lambda x: len(x))\n",
    "data_grouped_by_label[\"after_distinct\"] = data_grouped_by_label[\"cleaned_titles\"].apply(lambda x: len(x))\n",
    "\n",
    "data_grouped_by_label.head()"
   ]
  },
  {
   "cell_type": "code",
   "execution_count": 27,
   "metadata": {},
   "outputs": [
    {
     "name": "stderr",
     "output_type": "stream",
     "text": [
      "Progress: 100%|██████████| 249/249 [00:26<00:00, 12.58it/s]\n"
     ]
    }
   ],
   "source": [
    "data_grouped_by_label[\"title_words_\"] = data_grouped_by_label[\"cleaned_titles\"].progress_apply(lambda x: \" \".join(x))"
   ]
  },
  {
   "cell_type": "code",
   "execution_count": 28,
   "metadata": {},
   "outputs": [
    {
     "name": "stderr",
     "output_type": "stream",
     "text": [
      "Progress: 100%|██████████| 249/249 [10:36<00:00,  1.75s/it]\n"
     ]
    }
   ],
   "source": [
    "def num_there(w):\n",
    "    return any(i.isdigit() for i in w)\n",
    "\n",
    "\n",
    "def clean_digits(s):\n",
    "    t = s.split()\n",
    "    cleaned = \" \".join([x for x in t if not num_there(x)])\n",
    "    return cleaned\n",
    "\n",
    "data_grouped_by_label[\"title_words\"] = data_grouped_by_label[\"title_words_\"].progress_apply(lambda x: clean_digits(x))"
   ]
  },
  {
   "cell_type": "code",
   "execution_count": 29,
   "metadata": {},
   "outputs": [],
   "source": [
    "# write filtered data to pickle\n",
    "filename = \"/mnt/disks/vault/analysis-data/interdisciplinary-novelty-analysis/corrected-entropy-analysis/all-data-grouped.pql\"\n",
    "pickle_out = open(filename,\"wb\")\n",
    "pickle.dump(data_grouped_by_label, pickle_out)\n",
    "pickle_out.close()"
   ]
  },
  {
   "cell_type": "code",
   "execution_count": 30,
   "metadata": {},
   "outputs": [],
   "source": [
    "vectorizer = CountVectorizer()\n",
    "vectorized_words = vectorizer.fit_transform(data_grouped_by_label.title_words)"
   ]
  },
  {
   "cell_type": "code",
   "execution_count": 31,
   "metadata": {},
   "outputs": [],
   "source": [
    "pickle_out = open(\"/mnt/disks/vault/analysis-data/interdisciplinary-novelty-analysis/corrected-entropy-analysis/vectorizer.pickle\",\"wb\")\n",
    "pickle.dump(vectorizer, pickle_out)\n",
    "pickle_out.close()\n",
    "\n",
    "pickle_out = open(\"/mnt/disks/vault/analysis-data/interdisciplinary-novelty-analysis/corrected-entropy-analysis/vectorized_words.pickle\",\"wb\")\n",
    "pickle.dump(vectorized_words, pickle_out)\n",
    "pickle_out.close()"
   ]
  },
  {
   "cell_type": "code",
   "execution_count": 33,
   "metadata": {},
   "outputs": [],
   "source": [
    "count_vocab = {value:key for key,value in vectorizer.vocabulary_.items()}\n",
    "count_rev_dict = {value:key for key,value in vectorizer.vocabulary_.items()}\n",
    "words = [count_rev_dict[i] for i in range(len(vectorizer.vocabulary_.keys()))]"
   ]
  },
  {
   "cell_type": "code",
   "execution_count": 34,
   "metadata": {},
   "outputs": [],
   "source": [
    "vectorized_wordarray = vectorized_words.toarray()"
   ]
  },
  {
   "cell_type": "code",
   "execution_count": 35,
   "metadata": {},
   "outputs": [],
   "source": [
    "document_frequency = (vectorized_wordarray != 0).sum(0).tolist()\n",
    "document_frequency_log =  [np.log(x) for x in document_frequency]\n",
    "#2. Term Frequency - Number of times in which a word appears in a document\n",
    "term_frequency = vectorized_words.sum(axis=0).reshape(-1,).tolist()[0]\n",
    "term_frequency_log = [np.log(x) for x in term_frequency]"
   ]
  },
  {
   "cell_type": "code",
   "execution_count": 38,
   "metadata": {},
   "outputs": [
    {
     "name": "stderr",
     "output_type": "stream",
     "text": [
      "/usr/local/lib/python3.6/dist-packages/IPython/core/display.py:689: UserWarning:\n",
      "\n",
      "Consider using IPython.display.IFrame instead\n",
      "\n"
     ]
    },
    {
     "data": {
      "text/html": [
       "<iframe id=\"igraph\" scrolling=\"no\" style=\"border:none;\" seamless=\"seamless\" src=\"https://plot.ly/~sreejith_s/138.embed\" height=\"525px\" width=\"100%\"></iframe>"
      ],
      "text/plain": [
       "<plotly.tools.PlotlyDisplay object>"
      ]
     },
     "execution_count": 38,
     "metadata": {},
     "output_type": "execute_result"
    }
   ],
   "source": [
    "trace0 = go.Scattergl(\n",
    "    x = document_frequency_log,\n",
    "    y = term_frequency_log,\n",
    "    mode = 'markers',\n",
    "    text = words,\n",
    "    marker = dict(\n",
    "        color = '#FFBAD2',\n",
    "        line = dict(width = 1)\n",
    "    )\n",
    ")\n",
    "\n",
    "\n",
    "layout= go.Layout(\n",
    "    title= 'Document Frequency - Term Frequency plot ',\n",
    "    hovermode= 'closest',\n",
    "    xaxis= dict(\n",
    "        title= 'Log Document Frequency (Number of disciplines in which the word occurs)',\n",
    "        ticklen= 5,\n",
    "        zeroline= False,\n",
    "        gridwidth= 2,\n",
    "    ),\n",
    "    yaxis=dict(\n",
    "        title= 'Log Term Frequency (Count of the word in corpus)',\n",
    "        ticklen= 5,\n",
    "        gridwidth= 2,\n",
    "    ),\n",
    "    \n",
    "    showlegend= False\n",
    ")\n",
    "\n",
    "plotdata = [trace0]\n",
    "\n",
    "\n",
    "fig= go.Figure(data=plotdata, layout=layout)\n",
    "py.iplot(fig)"
   ]
  },
  {
   "cell_type": "markdown",
   "metadata": {},
   "source": [
    "__Pick some words which have low log document frequency and relatively high term frequency__\n",
    "\n",
    "_(i,e words that appear in only a few disciplines but have a good frequency count)_\n"
   ]
  },
  {
   "cell_type": "code",
   "execution_count": 40,
   "metadata": {},
   "outputs": [
    {
     "data": {
      "text/plain": [
       "16738"
      ]
     },
     "execution_count": 40,
     "metadata": {},
     "output_type": "execute_result"
    }
   ],
   "source": [
    "len(np.unique(term_frequency_log))"
   ]
  },
  {
   "cell_type": "code",
   "execution_count": 58,
   "metadata": {},
   "outputs": [],
   "source": [
    "good_words = [words[index] for index in range(len(term_frequency_log)) if term_frequency_log[index] > 6.5 and document_frequency_log[index] < 2.5]"
   ]
  },
  {
   "cell_type": "code",
   "execution_count": 59,
   "metadata": {},
   "outputs": [
    {
     "data": {
      "text/plain": [
       "127"
      ]
     },
     "execution_count": 59,
     "metadata": {},
     "output_type": "execute_result"
    }
   ],
   "source": [
    "len(good_words)"
   ]
  },
  {
   "cell_type": "code",
   "execution_count": 60,
   "metadata": {},
   "outputs": [
    {
     "data": {
      "text/plain": [
       "['2mass',\n",
       " 'andromedae',\n",
       " 'anosov',\n",
       " 'antiquark',\n",
       " 'artinian',\n",
       " 'aurigae',\n",
       " 'auslander',\n",
       " 'baryogenesis',\n",
       " 'baryonic',\n",
       " 'beurling',\n",
       " 'birational',\n",
       " 'blazar',\n",
       " 'blazars',\n",
       " 'branes',\n",
       " 'braneworld',\n",
       " 'brst',\n",
       " 'cabibbo',\n",
       " 'calabi',\n",
       " 'capsulorhexis',\n",
       " 'cassiopeiae',\n",
       " 'cepheids',\n",
       " 'chevalley',\n",
       " 'cobordism',\n",
       " 'cocycles',\n",
       " 'compactified',\n",
       " 'dilatonic',\n",
       " 'dilepton',\n",
       " 'diphoton',\n",
       " 'diquark',\n",
       " 'disolvate',\n",
       " 'eclogites',\n",
       " 'efirov',\n",
       " 'eiscat',\n",
       " 'ethyleniques',\n",
       " 'fastbus',\n",
       " 'floer',\n",
       " 'glueball',\n",
       " 'grassmannians',\n",
       " 'gravitino',\n",
       " 'harnack',\n",
       " 'hecke',\n",
       " 'heegaard',\n",
       " 'hemisolvate',\n",
       " 'herbig',\n",
       " 'hinode',\n",
       " 'horava',\n",
       " 'hyades',\n",
       " 'hyers',\n",
       " 'hypoelliptic',\n",
       " 'inflaton',\n",
       " 'interlibrary',\n",
       " 'iridotomy',\n",
       " 'iwasawa',\n",
       " 'izuchenie',\n",
       " 'jona',\n",
       " 'kislot',\n",
       " 'kisloty',\n",
       " 'koszul',\n",
       " 'krull',\n",
       " 'lasinio',\n",
       " 'lectotypification',\n",
       " 'leptogenesis',\n",
       " 'lusztig',\n",
       " 'markarian',\n",
       " 'metabelian',\n",
       " 'metapelites',\n",
       " 'motivic',\n",
       " 'nannofossil',\n",
       " 'neutralino',\n",
       " 'nonleptonic',\n",
       " 'ogle',\n",
       " 'ophiuchi',\n",
       " 'opredeleniya',\n",
       " 'orbifold',\n",
       " 'orionis',\n",
       " 'os3',\n",
       " 'paleointensity',\n",
       " 'parallaxes',\n",
       " 'pbarp',\n",
       " 'pegasi',\n",
       " 'persei',\n",
       " 'ph2pch2pph2',\n",
       " 'phosphido',\n",
       " 'pomeron',\n",
       " 'ppbar',\n",
       " 'profinite',\n",
       " 'proizvodnykh',\n",
       " 'protostars',\n",
       " 'protostellar',\n",
       " 'puppis',\n",
       " 'qsos',\n",
       " 'quarkonia',\n",
       " 'quarkonium',\n",
       " 'quivers',\n",
       " 'radiat',\n",
       " 'rayet',\n",
       " 'rcvs',\n",
       " 'reaktsii',\n",
       " 'rectopexy',\n",
       " 'reggeon',\n",
       " 'rhic',\n",
       " 'rhytidectomy',\n",
       " 'riphean',\n",
       " 'sacrocolpopexy',\n",
       " 'sasakian',\n",
       " 'scuti',\n",
       " 'seiberg',\n",
       " 'semileptonic',\n",
       " 'shimura',\n",
       " 'sintez',\n",
       " 'smpte',\n",
       " 'stratotype',\n",
       " 'subducted',\n",
       " 'subducting',\n",
       " 'subdwarf',\n",
       " 'sundrum',\n",
       " 'sunyaev',\n",
       " 'supergiants',\n",
       " 'suzaku',\n",
       " 'threefolds',\n",
       " 'triebel',\n",
       " 'ultraluminous',\n",
       " 'urol',\n",
       " 'ursae',\n",
       " 'voprosu',\n",
       " 'vzaimodeistvie',\n",
       " 'zumino']"
      ]
     },
     "execution_count": 60,
     "metadata": {},
     "output_type": "execute_result"
    }
   ],
   "source": [
    "good_words"
   ]
  },
  {
   "cell_type": "code",
   "execution_count": null,
   "metadata": {},
   "outputs": [],
   "source": []
  }
 ],
 "metadata": {
  "kernelspec": {
   "display_name": "Python 3",
   "language": "python",
   "name": "python3"
  },
  "language_info": {
   "codemirror_mode": {
    "name": "ipython",
    "version": 3
   },
   "file_extension": ".py",
   "mimetype": "text/x-python",
   "name": "python",
   "nbconvert_exporter": "python",
   "pygments_lexer": "ipython3",
   "version": "3.6.7"
  }
 },
 "nbformat": 4,
 "nbformat_minor": 2
}
