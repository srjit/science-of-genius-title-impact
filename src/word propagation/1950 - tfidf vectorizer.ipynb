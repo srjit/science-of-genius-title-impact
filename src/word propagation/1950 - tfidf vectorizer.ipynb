{
 "cells": [
  {
   "cell_type": "code",
   "execution_count": 2,
   "metadata": {},
   "outputs": [
    {
     "name": "stderr",
     "output_type": "stream",
     "text": [
      "ERROR:root:No traceback has been produced, nothing to debug.\n"
     ]
    },
    {
     "name": "stdout",
     "output_type": "stream",
     "text": [
      "The autoreload extension is already loaded. To reload it, use:\n",
      "  %reload_ext autoreload\n"
     ]
    }
   ],
   "source": [
    "%load_ext autoreload\n",
    "%autoreload 2\n",
    "%matplotlib inline\n",
    "%debug"
   ]
  },
  {
   "cell_type": "code",
   "execution_count": 3,
   "metadata": {},
   "outputs": [],
   "source": [
    "import sys\n",
    "sys.path.insert(0, \"../../code-previous\")"
   ]
  },
  {
   "cell_type": "code",
   "execution_count": 4,
   "metadata": {},
   "outputs": [
    {
     "name": "stderr",
     "output_type": "stream",
     "text": [
      "/usr/lib/python3.6/importlib/_bootstrap.py:219: RuntimeWarning: numpy.dtype size changed, may indicate binary incompatibility. Expected 96, got 88\n",
      "  return f(*args, **kwds)\n"
     ]
    }
   ],
   "source": [
    "import pandas as pd\n",
    "import numpy as np\n",
    "import networkx as nx\n",
    "import sklearn.feature_extraction as skfeatures\n",
    "import time\n",
    "import os\n",
    "\n",
    "import operator\n",
    "\n",
    "import string\n",
    "import swifter\n",
    "import nltk\n",
    "stopwords = nltk.corpus.stopwords.words('english')\n",
    "\n",
    "\n",
    "import plotly\n",
    "import plotly.plotly as py\n",
    "from plotly import tools\n",
    "\n",
    "import plotly.graph_objs as go\n",
    "plotly.tools.set_credentials_file(username='sreejith_s', api_key='rcet0rTqFCc3WeOzWTjv')\n",
    "\n",
    "from sklearn.cluster import KMeans\n",
    "from sklearn.decomposition import PCA\n",
    "from sklearn.manifold import TSNE\n",
    "\n",
    "from sklearn.feature_extraction.text import CountVectorizer\n",
    "\n",
    "\n",
    "from unicodedata import category\n",
    "from tqdm import tqdm\n",
    "tqdm.pandas(desc=\"Progress\")\n",
    "\n",
    "import seaborn as sns\n",
    "sns.set_style('white')\n",
    "import matplotlib.pylab as plt"
   ]
  },
  {
   "cell_type": "code",
   "execution_count": 5,
   "metadata": {},
   "outputs": [],
   "source": [
    "data_path = \"/mnt/disks/vault/analysis-data/interdisciplinary-novelty-analysis/all_discipline_data.pql\"\n",
    "data50 = pd.read_pickle(data_path)"
   ]
  },
  {
   "cell_type": "code",
   "execution_count": 6,
   "metadata": {},
   "outputs": [],
   "source": [
    "#data50 = data\n",
    "#data  = None"
   ]
  },
  {
   "cell_type": "code",
   "execution_count": 7,
   "metadata": {},
   "outputs": [
    {
     "data": {
      "text/html": [
       "<div>\n",
       "<style scoped>\n",
       "    .dataframe tbody tr th:only-of-type {\n",
       "        vertical-align: middle;\n",
       "    }\n",
       "\n",
       "    .dataframe tbody tr th {\n",
       "        vertical-align: top;\n",
       "    }\n",
       "\n",
       "    .dataframe thead th {\n",
       "        text-align: right;\n",
       "    }\n",
       "</style>\n",
       "<table border=\"1\" class=\"dataframe\">\n",
       "  <thead>\n",
       "    <tr style=\"text-align: right;\">\n",
       "      <th></th>\n",
       "      <th>ArticleID</th>\n",
       "      <th>Type</th>\n",
       "      <th>Label</th>\n",
       "      <th>PubYear</th>\n",
       "      <th>Doctypes</th>\n",
       "      <th>Title</th>\n",
       "      <th>Journal</th>\n",
       "      <th>Journal Abbreviation ISO</th>\n",
       "      <th>title_without_stopwords</th>\n",
       "    </tr>\n",
       "  </thead>\n",
       "  <tbody>\n",
       "    <tr>\n",
       "      <th>304370433</th>\n",
       "      <td>A1950UM47300017</td>\n",
       "      <td>heading</td>\n",
       "      <td>Science &amp; Technology</td>\n",
       "      <td>1950</td>\n",
       "      <td>Note</td>\n",
       "      <td>CHAPPING OF THE SKIN ON RETURNING FROM THE TRO...</td>\n",
       "      <td>ARCHIVES OF DERMATOLOGY AND SYPHILOLOGY</td>\n",
       "      <td></td>\n",
       "      <td>chapping skin returning from tropics cooler area</td>\n",
       "    </tr>\n",
       "    <tr>\n",
       "      <th>304370434</th>\n",
       "      <td>A1950UM47300017</td>\n",
       "      <td>subheading</td>\n",
       "      <td>Life Sciences &amp; Biomedicine</td>\n",
       "      <td>1950</td>\n",
       "      <td>Note</td>\n",
       "      <td>CHAPPING OF THE SKIN ON RETURNING FROM THE TRO...</td>\n",
       "      <td>ARCHIVES OF DERMATOLOGY AND SYPHILOLOGY</td>\n",
       "      <td></td>\n",
       "      <td>chapping skin returning from tropics cooler area</td>\n",
       "    </tr>\n",
       "    <tr>\n",
       "      <th>304370435</th>\n",
       "      <td>A1950UM47300017</td>\n",
       "      <td>ASCA traditional subject</td>\n",
       "      <td>Dermatology</td>\n",
       "      <td>1950</td>\n",
       "      <td>Note</td>\n",
       "      <td>CHAPPING OF THE SKIN ON RETURNING FROM THE TRO...</td>\n",
       "      <td>ARCHIVES OF DERMATOLOGY AND SYPHILOLOGY</td>\n",
       "      <td></td>\n",
       "      <td>chapping skin returning from tropics cooler area</td>\n",
       "    </tr>\n",
       "    <tr>\n",
       "      <th>304370436</th>\n",
       "      <td>A1950UM47300017</td>\n",
       "      <td>ASCA extended subject</td>\n",
       "      <td>Dermatology</td>\n",
       "      <td>1950</td>\n",
       "      <td>Note</td>\n",
       "      <td>CHAPPING OF THE SKIN ON RETURNING FROM THE TRO...</td>\n",
       "      <td>ARCHIVES OF DERMATOLOGY AND SYPHILOLOGY</td>\n",
       "      <td></td>\n",
       "      <td>chapping skin returning from tropics cooler area</td>\n",
       "    </tr>\n",
       "    <tr>\n",
       "      <th>304370437</th>\n",
       "      <td>A1950YF49700012</td>\n",
       "      <td>ASCA extended subject</td>\n",
       "      <td>General &amp; Internal Medicine</td>\n",
       "      <td>1950</td>\n",
       "      <td>Article</td>\n",
       "      <td>*SERONEGATIVT GUMMA</td>\n",
       "      <td>NORDISK MEDICIN</td>\n",
       "      <td></td>\n",
       "      <td>seronegativt gumma</td>\n",
       "    </tr>\n",
       "  </tbody>\n",
       "</table>\n",
       "</div>"
      ],
      "text/plain": [
       "                 ArticleID                      Type  \\\n",
       "304370433  A1950UM47300017                   heading   \n",
       "304370434  A1950UM47300017                subheading   \n",
       "304370435  A1950UM47300017  ASCA traditional subject   \n",
       "304370436  A1950UM47300017     ASCA extended subject   \n",
       "304370437  A1950YF49700012     ASCA extended subject   \n",
       "\n",
       "                                 Label  PubYear Doctypes  \\\n",
       "304370433         Science & Technology     1950     Note   \n",
       "304370434  Life Sciences & Biomedicine     1950     Note   \n",
       "304370435                  Dermatology     1950     Note   \n",
       "304370436                  Dermatology     1950     Note   \n",
       "304370437  General & Internal Medicine     1950  Article   \n",
       "\n",
       "                                                       Title  \\\n",
       "304370433  CHAPPING OF THE SKIN ON RETURNING FROM THE TRO...   \n",
       "304370434  CHAPPING OF THE SKIN ON RETURNING FROM THE TRO...   \n",
       "304370435  CHAPPING OF THE SKIN ON RETURNING FROM THE TRO...   \n",
       "304370436  CHAPPING OF THE SKIN ON RETURNING FROM THE TRO...   \n",
       "304370437                                *SERONEGATIVT GUMMA   \n",
       "\n",
       "                                           Journal Journal Abbreviation ISO  \\\n",
       "304370433  ARCHIVES OF DERMATOLOGY AND SYPHILOLOGY                            \n",
       "304370434  ARCHIVES OF DERMATOLOGY AND SYPHILOLOGY                            \n",
       "304370435  ARCHIVES OF DERMATOLOGY AND SYPHILOLOGY                            \n",
       "304370436  ARCHIVES OF DERMATOLOGY AND SYPHILOLOGY                            \n",
       "304370437                          NORDISK MEDICIN                            \n",
       "\n",
       "                                    title_without_stopwords  \n",
       "304370433  chapping skin returning from tropics cooler area  \n",
       "304370434  chapping skin returning from tropics cooler area  \n",
       "304370435  chapping skin returning from tropics cooler area  \n",
       "304370436  chapping skin returning from tropics cooler area  \n",
       "304370437                                seronegativt gumma  "
      ]
     },
     "execution_count": 7,
     "metadata": {},
     "output_type": "execute_result"
    }
   ],
   "source": [
    "data50 = data50[data50.PubYear == 1950]\n",
    "\n",
    "data50.head()"
   ]
  },
  {
   "cell_type": "code",
   "execution_count": 8,
   "metadata": {},
   "outputs": [],
   "source": [
    "data50 = data50.sort_values(by=\"PubYear\")"
   ]
  },
  {
   "cell_type": "code",
   "execution_count": 19,
   "metadata": {},
   "outputs": [
    {
     "data": {
      "text/html": [
       "<div>\n",
       "<style scoped>\n",
       "    .dataframe tbody tr th:only-of-type {\n",
       "        vertical-align: middle;\n",
       "    }\n",
       "\n",
       "    .dataframe tbody tr th {\n",
       "        vertical-align: top;\n",
       "    }\n",
       "\n",
       "    .dataframe thead th {\n",
       "        text-align: right;\n",
       "    }\n",
       "</style>\n",
       "<table border=\"1\" class=\"dataframe\">\n",
       "  <thead>\n",
       "    <tr style=\"text-align: right;\">\n",
       "      <th></th>\n",
       "      <th>ArticleID</th>\n",
       "      <th>Type</th>\n",
       "      <th>Label</th>\n",
       "      <th>PubYear</th>\n",
       "      <th>Doctypes</th>\n",
       "      <th>Title</th>\n",
       "      <th>Journal</th>\n",
       "      <th>Journal Abbreviation ISO</th>\n",
       "      <th>title_without_stopwords</th>\n",
       "    </tr>\n",
       "  </thead>\n",
       "  <tbody>\n",
       "    <tr>\n",
       "      <th>304370433</th>\n",
       "      <td>A1950UM47300017</td>\n",
       "      <td>heading</td>\n",
       "      <td>Science &amp; Technology</td>\n",
       "      <td>1950</td>\n",
       "      <td>Note</td>\n",
       "      <td>CHAPPING OF THE SKIN ON RETURNING FROM THE TRO...</td>\n",
       "      <td>ARCHIVES OF DERMATOLOGY AND SYPHILOLOGY</td>\n",
       "      <td></td>\n",
       "      <td>chapping skin returning from tropics cooler area</td>\n",
       "    </tr>\n",
       "    <tr>\n",
       "      <th>304558972</th>\n",
       "      <td>A1950YB35900013</td>\n",
       "      <td>ASCA extended subject</td>\n",
       "      <td>Astronomy &amp; Astrophysics</td>\n",
       "      <td>1950</td>\n",
       "      <td>Article</td>\n",
       "      <td>THE SPECTRUM OF R-AQUARII, 1936-1949</td>\n",
       "      <td>ASTROPHYSICAL JOURNAL</td>\n",
       "      <td>Astrophys. J.</td>\n",
       "      <td>spectrum r aquarii  1936 1949</td>\n",
       "    </tr>\n",
       "    <tr>\n",
       "      <th>304558973</th>\n",
       "      <td>A1950YB35900013</td>\n",
       "      <td>ASCA traditional subject</td>\n",
       "      <td>Astronomy &amp; Astrophysics</td>\n",
       "      <td>1950</td>\n",
       "      <td>Article</td>\n",
       "      <td>THE SPECTRUM OF R-AQUARII, 1936-1949</td>\n",
       "      <td>ASTROPHYSICAL JOURNAL</td>\n",
       "      <td>Astrophys. J.</td>\n",
       "      <td>spectrum r aquarii  1936 1949</td>\n",
       "    </tr>\n",
       "    <tr>\n",
       "      <th>304558974</th>\n",
       "      <td>A1950YB35900013</td>\n",
       "      <td>subheading</td>\n",
       "      <td>Physical Sciences</td>\n",
       "      <td>1950</td>\n",
       "      <td>Article</td>\n",
       "      <td>THE SPECTRUM OF R-AQUARII, 1936-1949</td>\n",
       "      <td>ASTROPHYSICAL JOURNAL</td>\n",
       "      <td>Astrophys. J.</td>\n",
       "      <td>spectrum r aquarii  1936 1949</td>\n",
       "    </tr>\n",
       "    <tr>\n",
       "      <th>304558975</th>\n",
       "      <td>A1950YB35900013</td>\n",
       "      <td>heading</td>\n",
       "      <td>Science &amp; Technology</td>\n",
       "      <td>1950</td>\n",
       "      <td>Article</td>\n",
       "      <td>THE SPECTRUM OF R-AQUARII, 1936-1949</td>\n",
       "      <td>ASTROPHYSICAL JOURNAL</td>\n",
       "      <td>Astrophys. J.</td>\n",
       "      <td>spectrum r aquarii  1936 1949</td>\n",
       "    </tr>\n",
       "  </tbody>\n",
       "</table>\n",
       "</div>"
      ],
      "text/plain": [
       "                 ArticleID                      Type  \\\n",
       "304370433  A1950UM47300017                   heading   \n",
       "304558972  A1950YB35900013     ASCA extended subject   \n",
       "304558973  A1950YB35900013  ASCA traditional subject   \n",
       "304558974  A1950YB35900013                subheading   \n",
       "304558975  A1950YB35900013                   heading   \n",
       "\n",
       "                              Label  PubYear Doctypes  \\\n",
       "304370433      Science & Technology     1950     Note   \n",
       "304558972  Astronomy & Astrophysics     1950  Article   \n",
       "304558973  Astronomy & Astrophysics     1950  Article   \n",
       "304558974         Physical Sciences     1950  Article   \n",
       "304558975      Science & Technology     1950  Article   \n",
       "\n",
       "                                                       Title  \\\n",
       "304370433  CHAPPING OF THE SKIN ON RETURNING FROM THE TRO...   \n",
       "304558972               THE SPECTRUM OF R-AQUARII, 1936-1949   \n",
       "304558973               THE SPECTRUM OF R-AQUARII, 1936-1949   \n",
       "304558974               THE SPECTRUM OF R-AQUARII, 1936-1949   \n",
       "304558975               THE SPECTRUM OF R-AQUARII, 1936-1949   \n",
       "\n",
       "                                           Journal Journal Abbreviation ISO  \\\n",
       "304370433  ARCHIVES OF DERMATOLOGY AND SYPHILOLOGY                            \n",
       "304558972                    ASTROPHYSICAL JOURNAL            Astrophys. J.   \n",
       "304558973                    ASTROPHYSICAL JOURNAL            Astrophys. J.   \n",
       "304558974                    ASTROPHYSICAL JOURNAL            Astrophys. J.   \n",
       "304558975                    ASTROPHYSICAL JOURNAL            Astrophys. J.   \n",
       "\n",
       "                                    title_without_stopwords  \n",
       "304370433  chapping skin returning from tropics cooler area  \n",
       "304558972                     spectrum r aquarii  1936 1949  \n",
       "304558973                     spectrum r aquarii  1936 1949  \n",
       "304558974                     spectrum r aquarii  1936 1949  \n",
       "304558975                     spectrum r aquarii  1936 1949  "
      ]
     },
     "execution_count": 19,
     "metadata": {},
     "output_type": "execute_result"
    }
   ],
   "source": [
    "data50.head()"
   ]
  },
  {
   "cell_type": "code",
   "execution_count": 9,
   "metadata": {},
   "outputs": [],
   "source": [
    "data50_group = data50[[\"Label\",\"title_without_stopwords\"]].groupby(data50.Label)[\"title_without_stopwords\"].apply(list)\n",
    "\n",
    "data50_group = pd.DataFrame(data50_group)"
   ]
  },
  {
   "cell_type": "code",
   "execution_count": 10,
   "metadata": {},
   "outputs": [
    {
     "name": "stderr",
     "output_type": "stream",
     "text": [
      "Progress: 100%|██████████| 613/613 [00:00<00:00, 25702.86it/s]\n"
     ]
    }
   ],
   "source": [
    "data50_group[\"title_words\"] = data50_group[\"title_without_stopwords\"].progress_apply(lambda x: \" \".join(x))"
   ]
  },
  {
   "cell_type": "code",
   "execution_count": 11,
   "metadata": {},
   "outputs": [
    {
     "data": {
      "text/html": [
       "<div>\n",
       "<style scoped>\n",
       "    .dataframe tbody tr th:only-of-type {\n",
       "        vertical-align: middle;\n",
       "    }\n",
       "\n",
       "    .dataframe tbody tr th {\n",
       "        vertical-align: top;\n",
       "    }\n",
       "\n",
       "    .dataframe thead th {\n",
       "        text-align: right;\n",
       "    }\n",
       "</style>\n",
       "<table border=\"1\" class=\"dataframe\">\n",
       "  <thead>\n",
       "    <tr style=\"text-align: right;\">\n",
       "      <th></th>\n",
       "      <th>ArticleID</th>\n",
       "      <th>Type</th>\n",
       "      <th>Label</th>\n",
       "      <th>PubYear</th>\n",
       "      <th>Doctypes</th>\n",
       "      <th>Title</th>\n",
       "      <th>Journal</th>\n",
       "      <th>Journal Abbreviation ISO</th>\n",
       "      <th>title_without_stopwords</th>\n",
       "    </tr>\n",
       "  </thead>\n",
       "  <tbody>\n",
       "    <tr>\n",
       "      <th>304370433</th>\n",
       "      <td>A1950UM47300017</td>\n",
       "      <td>heading</td>\n",
       "      <td>Science &amp; Technology</td>\n",
       "      <td>1950</td>\n",
       "      <td>Note</td>\n",
       "      <td>CHAPPING OF THE SKIN ON RETURNING FROM THE TRO...</td>\n",
       "      <td>ARCHIVES OF DERMATOLOGY AND SYPHILOLOGY</td>\n",
       "      <td></td>\n",
       "      <td>chapping skin returning from tropics cooler area</td>\n",
       "    </tr>\n",
       "    <tr>\n",
       "      <th>304558972</th>\n",
       "      <td>A1950YB35900013</td>\n",
       "      <td>ASCA extended subject</td>\n",
       "      <td>Astronomy &amp; Astrophysics</td>\n",
       "      <td>1950</td>\n",
       "      <td>Article</td>\n",
       "      <td>THE SPECTRUM OF R-AQUARII, 1936-1949</td>\n",
       "      <td>ASTROPHYSICAL JOURNAL</td>\n",
       "      <td>Astrophys. J.</td>\n",
       "      <td>spectrum r aquarii  1936 1949</td>\n",
       "    </tr>\n",
       "    <tr>\n",
       "      <th>304558973</th>\n",
       "      <td>A1950YB35900013</td>\n",
       "      <td>ASCA traditional subject</td>\n",
       "      <td>Astronomy &amp; Astrophysics</td>\n",
       "      <td>1950</td>\n",
       "      <td>Article</td>\n",
       "      <td>THE SPECTRUM OF R-AQUARII, 1936-1949</td>\n",
       "      <td>ASTROPHYSICAL JOURNAL</td>\n",
       "      <td>Astrophys. J.</td>\n",
       "      <td>spectrum r aquarii  1936 1949</td>\n",
       "    </tr>\n",
       "    <tr>\n",
       "      <th>304558974</th>\n",
       "      <td>A1950YB35900013</td>\n",
       "      <td>subheading</td>\n",
       "      <td>Physical Sciences</td>\n",
       "      <td>1950</td>\n",
       "      <td>Article</td>\n",
       "      <td>THE SPECTRUM OF R-AQUARII, 1936-1949</td>\n",
       "      <td>ASTROPHYSICAL JOURNAL</td>\n",
       "      <td>Astrophys. J.</td>\n",
       "      <td>spectrum r aquarii  1936 1949</td>\n",
       "    </tr>\n",
       "    <tr>\n",
       "      <th>304558975</th>\n",
       "      <td>A1950YB35900013</td>\n",
       "      <td>heading</td>\n",
       "      <td>Science &amp; Technology</td>\n",
       "      <td>1950</td>\n",
       "      <td>Article</td>\n",
       "      <td>THE SPECTRUM OF R-AQUARII, 1936-1949</td>\n",
       "      <td>ASTROPHYSICAL JOURNAL</td>\n",
       "      <td>Astrophys. J.</td>\n",
       "      <td>spectrum r aquarii  1936 1949</td>\n",
       "    </tr>\n",
       "  </tbody>\n",
       "</table>\n",
       "</div>"
      ],
      "text/plain": [
       "                 ArticleID                      Type  \\\n",
       "304370433  A1950UM47300017                   heading   \n",
       "304558972  A1950YB35900013     ASCA extended subject   \n",
       "304558973  A1950YB35900013  ASCA traditional subject   \n",
       "304558974  A1950YB35900013                subheading   \n",
       "304558975  A1950YB35900013                   heading   \n",
       "\n",
       "                              Label  PubYear Doctypes  \\\n",
       "304370433      Science & Technology     1950     Note   \n",
       "304558972  Astronomy & Astrophysics     1950  Article   \n",
       "304558973  Astronomy & Astrophysics     1950  Article   \n",
       "304558974         Physical Sciences     1950  Article   \n",
       "304558975      Science & Technology     1950  Article   \n",
       "\n",
       "                                                       Title  \\\n",
       "304370433  CHAPPING OF THE SKIN ON RETURNING FROM THE TRO...   \n",
       "304558972               THE SPECTRUM OF R-AQUARII, 1936-1949   \n",
       "304558973               THE SPECTRUM OF R-AQUARII, 1936-1949   \n",
       "304558974               THE SPECTRUM OF R-AQUARII, 1936-1949   \n",
       "304558975               THE SPECTRUM OF R-AQUARII, 1936-1949   \n",
       "\n",
       "                                           Journal Journal Abbreviation ISO  \\\n",
       "304370433  ARCHIVES OF DERMATOLOGY AND SYPHILOLOGY                            \n",
       "304558972                    ASTROPHYSICAL JOURNAL            Astrophys. J.   \n",
       "304558973                    ASTROPHYSICAL JOURNAL            Astrophys. J.   \n",
       "304558974                    ASTROPHYSICAL JOURNAL            Astrophys. J.   \n",
       "304558975                    ASTROPHYSICAL JOURNAL            Astrophys. J.   \n",
       "\n",
       "                                    title_without_stopwords  \n",
       "304370433  chapping skin returning from tropics cooler area  \n",
       "304558972                     spectrum r aquarii  1936 1949  \n",
       "304558973                     spectrum r aquarii  1936 1949  \n",
       "304558974                     spectrum r aquarii  1936 1949  \n",
       "304558975                     spectrum r aquarii  1936 1949  "
      ]
     },
     "execution_count": 11,
     "metadata": {},
     "output_type": "execute_result"
    }
   ],
   "source": [
    "data50.head()"
   ]
  },
  {
   "cell_type": "code",
   "execution_count": 12,
   "metadata": {},
   "outputs": [
    {
     "data": {
      "text/plain": [
       "613"
      ]
     },
     "execution_count": 12,
     "metadata": {},
     "output_type": "execute_result"
    }
   ],
   "source": [
    "len(list(data50_group.index))"
   ]
  },
  {
   "cell_type": "code",
   "execution_count": 20,
   "metadata": {},
   "outputs": [],
   "source": [
    "import pickle\n",
    "filename = \"/mnt/disks/vault/analysis-data/interdisciplinary-novelty-analysis/data1950_grouped_by_labels.pickle\"\n",
    "pickle_out = open(filename,\"wb\")\n",
    "pickle.dump(data50_group, pickle_out)\n",
    "pickle_out.close()\n",
    "\n",
    "\n",
    "# with open(filename, 'rb') as handle:\n",
    "#     data50 = pickle.load(handle)"
   ]
  },
  {
   "cell_type": "code",
   "execution_count": 21,
   "metadata": {},
   "outputs": [
    {
     "data": {
      "text/html": [
       "<div>\n",
       "<style scoped>\n",
       "    .dataframe tbody tr th:only-of-type {\n",
       "        vertical-align: middle;\n",
       "    }\n",
       "\n",
       "    .dataframe tbody tr th {\n",
       "        vertical-align: top;\n",
       "    }\n",
       "\n",
       "    .dataframe thead th {\n",
       "        text-align: right;\n",
       "    }\n",
       "</style>\n",
       "<table border=\"1\" class=\"dataframe\">\n",
       "  <thead>\n",
       "    <tr style=\"text-align: right;\">\n",
       "      <th></th>\n",
       "      <th>title_without_stopwords</th>\n",
       "      <th>title_words</th>\n",
       "    </tr>\n",
       "    <tr>\n",
       "      <th>Label</th>\n",
       "      <th></th>\n",
       "      <th></th>\n",
       "    </tr>\n",
       "  </thead>\n",
       "  <tbody>\n",
       "    <tr>\n",
       "      <th>1ST YEAR</th>\n",
       "      <td>[hyperbrachycephaly influenced cultural condit...</td>\n",
       "      <td>hyperbrachycephaly influenced cultural conditi...</td>\n",
       "    </tr>\n",
       "    <tr>\n",
       "      <th>9-YEAR-OLD WHITE MALES</th>\n",
       "      <td>[distribution subcutaneous]</td>\n",
       "      <td>distribution subcutaneous</td>\n",
       "    </tr>\n",
       "    <tr>\n",
       "      <th>ABILITIES</th>\n",
       "      <td>[intellectual changes during maturity, applica...</td>\n",
       "      <td>intellectual changes during maturity applicati...</td>\n",
       "    </tr>\n",
       "    <tr>\n",
       "      <th>ACCEPTANCE</th>\n",
       "      <td>[counseling methods  therapy]</td>\n",
       "      <td>counseling methods  therapy</td>\n",
       "    </tr>\n",
       "    <tr>\n",
       "      <th>ACID</th>\n",
       "      <td>[connective tissue fine structure some methods...</td>\n",
       "      <td>connective tissue fine structure some methods ...</td>\n",
       "    </tr>\n",
       "  </tbody>\n",
       "</table>\n",
       "</div>"
      ],
      "text/plain": [
       "                                                  title_without_stopwords  \\\n",
       "Label                                                                       \n",
       "1ST YEAR                [hyperbrachycephaly influenced cultural condit...   \n",
       "9-YEAR-OLD WHITE MALES                        [distribution subcutaneous]   \n",
       "ABILITIES               [intellectual changes during maturity, applica...   \n",
       "ACCEPTANCE                                  [counseling methods  therapy]   \n",
       "ACID                    [connective tissue fine structure some methods...   \n",
       "\n",
       "                                                              title_words  \n",
       "Label                                                                      \n",
       "1ST YEAR                hyperbrachycephaly influenced cultural conditi...  \n",
       "9-YEAR-OLD WHITE MALES                          distribution subcutaneous  \n",
       "ABILITIES               intellectual changes during maturity applicati...  \n",
       "ACCEPTANCE                                    counseling methods  therapy  \n",
       "ACID                    connective tissue fine structure some methods ...  "
      ]
     },
     "execution_count": 21,
     "metadata": {},
     "output_type": "execute_result"
    }
   ],
   "source": [
    "data50_group.head()"
   ]
  },
  {
   "cell_type": "code",
   "execution_count": 22,
   "metadata": {},
   "outputs": [],
   "source": [
    "import pickle\n",
    "from sklearn.feature_extraction.text import CountVectorizer\n",
    "\n",
    "#vectorizer = CountVectorizer(min_df=2, max_df=1.0)\n",
    "\n",
    "#vectorizer = CountVectorizer(min_df=4, max_df=1.0)\n",
    "#vectorized_words = vectorizer.fit_transform(data50_group.title_words)\n",
    "\n",
    "# saved with min_df=4, max_df=1.0\n",
    "\n",
    "vectorizer = CountVectorizer(min_df=2, max_df=1.0)\n",
    "vectorized_words = vectorizer.fit_transform(data50_group.title_words)\n",
    "\n",
    "vectorizer_file = \"/mnt/disks/vault/analysis-data/interdisciplinary-novelty-analysis/vectorized1950/vectorizer_1950.pickle\"\n",
    "pickle_out = open(vectorizer_file,\"wb\")\n",
    "pickle.dump(vectorizer, pickle_out)\n",
    "pickle_out.close()\n",
    "\n",
    "vectorized_words_file = \"/mnt/disks/vault/analysis-data/interdisciplinary-novelty-analysis/vectorized1950/vectorized_words_1950.pickle\"\n",
    "\n",
    "pickle_out = open(vectorized_words_file,\"wb\")\n",
    "pickle.dump(vectorized_words_file, pickle_out)\n",
    "pickle_out.close()\n",
    "\n",
    "\n",
    "\n",
    "# or read from pickle\n",
    "\n",
    "# with open(vectorizer_file, 'rb') as handle:\n",
    "#     vectorizer = pickle.load(handle)\n",
    "\n",
    "# with open(vectorized_words_file, 'rb') as handle:\n",
    "#     vectorized_words = pickle.load(handle)    "
   ]
  },
  {
   "cell_type": "code",
   "execution_count": 23,
   "metadata": {},
   "outputs": [],
   "source": [
    "#1. Document Frequency - Number of disciplines in which the word has appeared\n",
    "\n",
    "vectorized_wordarray = vectorized_words.toarray()\n",
    "document_frequency = (vectorized_wordarray != 0).sum(0).tolist()\n",
    "document_frequency_log =  [np.log(x) for x in document_frequency]\n",
    "#2. Term Frequency - Number of times in which a word appears in a document\n",
    "term_frequency = vectorized_words.sum(axis=0).reshape(-1,).tolist()[0]\n",
    "term_frequency_log = [np.log(x) for x in term_frequency]"
   ]
  },
  {
   "cell_type": "code",
   "execution_count": 17,
   "metadata": {},
   "outputs": [],
   "source": [
    "# import pickle\n",
    "# pickle_out = open(\"/mnt/disks/vault/analysis-data/interdisciplinary-novelty-analysis/vectorizer_words_whole_corpus.pickle\",\"wb\")\n",
    "# pickle.dump(vectorizer, pickle_out)\n",
    "# pickle_out.close()"
   ]
  },
  {
   "cell_type": "code",
   "execution_count": null,
   "metadata": {},
   "outputs": [],
   "source": [
    "# import pickle\n",
    "# pickle_out = open(\"/mnt/disks/vault/analysis-data/interdisciplinary-novelty-analysis/vectorized_words_whole_corpus.pickle\",\"wb\")\n",
    "# pickle.dump(vectorized_words, pickle_out)\n",
    "# pickle_out.close()"
   ]
  },
  {
   "cell_type": "code",
   "execution_count": 24,
   "metadata": {},
   "outputs": [],
   "source": [
    "count_vocab = {value:key for key,value in vectorizer.vocabulary_.items()}\n",
    "count_rev_dict = {value:key for key,value in vectorizer.vocabulary_.items()}\n",
    "words = [count_rev_dict[i] for i in range(len(vectorizer.vocabulary_.keys()))]"
   ]
  },
  {
   "cell_type": "code",
   "execution_count": 41,
   "metadata": {},
   "outputs": [],
   "source": [
    "#tf_idf_vocab = {value:key for key,value in vectorizer.vocabulary_}\n",
    "#tf_idf_vocab\n",
    "#tfidf_rev_dict = {value:key for key,value in vectorizer.vocabulary_.items()}\n",
    "#words = [tfidf_rev_dict[i] for i in range(len(vectorizer.idf_))]"
   ]
  },
  {
   "cell_type": "code",
   "execution_count": 25,
   "metadata": {},
   "outputs": [
    {
     "name": "stderr",
     "output_type": "stream",
     "text": [
      "/usr/local/lib/python3.6/dist-packages/plotly/plotly/plotly.py:230: UserWarning:\n",
      "\n",
      "Woah there! Look at all those points! Due to browser limitations, the Plotly SVG drawing functions have a hard time graphing more than 500k data points for line charts, or 40k points for other types of charts. Here are some suggestions:\n",
      "(1) Use the `plotly.graph_objs.Scattergl` trace object to generate a WebGl graph.\n",
      "(2) Trying using the image API to return an image instead of a graph URL\n",
      "(3) Use matplotlib\n",
      "(4) See if you can create your visualization with fewer data points\n",
      "\n",
      "If the visualization you're using aggregates points (e.g., box plot, histogram, etc.) you can disregard this warning.\n",
      "\n",
      "/usr/local/lib/python3.6/dist-packages/plotly/plotly/plotly.py:230: UserWarning:\n",
      "\n",
      "Woah there! Look at all those points! Due to browser limitations, the Plotly SVG drawing functions have a hard time graphing more than 500k data points for line charts, or 40k points for other types of charts. Here are some suggestions:\n",
      "(1) Use the `plotly.graph_objs.Scattergl` trace object to generate a WebGl graph.\n",
      "(2) Trying using the image API to return an image instead of a graph URL\n",
      "(3) Use matplotlib\n",
      "(4) See if you can create your visualization with fewer data points\n",
      "\n",
      "If the visualization you're using aggregates points (e.g., box plot, histogram, etc.) you can disregard this warning.\n",
      "\n",
      "/usr/local/lib/python3.6/dist-packages/plotly/plotly/plotly.py:230: UserWarning:\n",
      "\n",
      "Woah there! Look at all those points! Due to browser limitations, the Plotly SVG drawing functions have a hard time graphing more than 500k data points for line charts, or 40k points for other types of charts. Here are some suggestions:\n",
      "(1) Use the `plotly.graph_objs.Scattergl` trace object to generate a WebGl graph.\n",
      "(2) Trying using the image API to return an image instead of a graph URL\n",
      "(3) Use matplotlib\n",
      "(4) See if you can create your visualization with fewer data points\n",
      "\n",
      "If the visualization you're using aggregates points (e.g., box plot, histogram, etc.) you can disregard this warning.\n",
      "\n"
     ]
    },
    {
     "name": "stdout",
     "output_type": "stream",
     "text": [
      "The draw time for this plot will be slow for clients without much RAM.\n"
     ]
    },
    {
     "name": "stderr",
     "output_type": "stream",
     "text": [
      "/usr/local/lib/python3.6/dist-packages/plotly/api/v1/clientresp.py:40: UserWarning:\n",
      "\n",
      "Estimated Draw Time Slow\n",
      "\n",
      "/usr/local/lib/python3.6/dist-packages/IPython/core/display.py:689: UserWarning:\n",
      "\n",
      "Consider using IPython.display.IFrame instead\n",
      "\n"
     ]
    },
    {
     "data": {
      "text/html": [
       "<iframe id=\"igraph\" scrolling=\"no\" style=\"border:none;\" seamless=\"seamless\" src=\"https://plot.ly/~sreejith_s/110.embed\" height=\"525px\" width=\"100%\"></iframe>"
      ],
      "text/plain": [
       "<plotly.tools.PlotlyDisplay object>"
      ]
     },
     "execution_count": 25,
     "metadata": {},
     "output_type": "execute_result"
    }
   ],
   "source": [
    "# consider one discipline - Applied Physics index 449\n",
    "\n",
    "# get tf scores of all the words of applied physics\n",
    "#tf_applied_physics = tf_idf_matrix[450:451,:].todense().reshape(-1,).tolist()[0]\n",
    "#idf_words = vectorizer.idf_\n",
    "\n",
    "#tf_idf_physics = [(tf_applied_physics[i], idf_words[i]) for i in range(len(idf_words))]\n",
    "\n",
    "trace0 = go.Scatter(\n",
    "    x = document_frequency_log,\n",
    "    y = term_frequency_log,\n",
    "    mode = 'markers',\n",
    "    text = words,\n",
    "    marker = dict(\n",
    "        color = '#FFBAD2',\n",
    "        line = dict(width = 1)\n",
    "    )\n",
    ")\n",
    "\n",
    "\n",
    "layout= go.Layout(\n",
    "    title= 'Document Frequency - Term Frequency plot ',\n",
    "    hovermode= 'closest',\n",
    "    xaxis= dict(\n",
    "        title= 'Log Document Frequency (Number of disciplines in which the word occurs)',\n",
    "        ticklen= 5,\n",
    "        zeroline= False,\n",
    "        gridwidth= 2,\n",
    "    ),\n",
    "    yaxis=dict(\n",
    "        title= 'Log Term Frequency (Count of the word in corpus)',\n",
    "        ticklen= 5,\n",
    "        gridwidth= 2,\n",
    "    ),\n",
    "    \n",
    "    showlegend= False\n",
    ")\n",
    "\n",
    "plotdata = [trace0]\n",
    "\n",
    "\n",
    "fig= go.Figure(data=plotdata, layout=layout)\n",
    "py.iplot(fig)"
   ]
  },
  {
   "cell_type": "markdown",
   "metadata": {},
   "source": [
    "Let us pick a couple of \"good\" words (words which occur in multiple disciplines and are whose log tf are not too high) for analysis"
   ]
  },
  {
   "cell_type": "markdown",
   "metadata": {},
   "source": [
    "__Words:  neutron, influenza, ketones, protons, tuberculin__"
   ]
  },
  {
   "cell_type": "code",
   "execution_count": 69,
   "metadata": {},
   "outputs": [
    {
     "data": {
      "text/plain": [
       "9"
      ]
     },
     "execution_count": 69,
     "metadata": {},
     "output_type": "execute_result"
    }
   ],
   "source": [
    "# which all disciples have neutron in them ?\n",
    "# lets find the indices\n",
    "\n",
    "\n",
    "# index of the word - \n",
    "index = 37037\n",
    "words.index(\"neutron\")\n",
    "count_rev_dict[index]\n",
    "counts = vectorized_wordarray[:,index]\n",
    "\n",
    "discipline_indices = [discipline_index for discipline_index in range(len(counts.tolist())) if counts[discipline_index] != 0]"
   ]
  },
  {
   "cell_type": "markdown",
   "metadata": {},
   "source": [
    "__Which disciplines are those?__"
   ]
  },
  {
   "cell_type": "code",
   "execution_count": 73,
   "metadata": {},
   "outputs": [
    {
     "data": {
      "text/plain": [
       "['Chemistry',\n",
       " 'Chemistry, Multidisciplinary',\n",
       " 'Chemistry, Physical',\n",
       " 'Instruments & Instrumentation',\n",
       " 'Life Sciences & Biomedicine',\n",
       " 'Multidisciplinary Sciences',\n",
       " 'Physical Sciences',\n",
       " 'Physics',\n",
       " 'Physics, Applied',\n",
       " 'Physics, Atomic, Molecular & Chemical',\n",
       " 'Physics, Multidisciplinary',\n",
       " 'Physics, Nuclear',\n",
       " 'Radiology, Nuclear Medicine & Medical Imaging',\n",
       " 'Science & Technology',\n",
       " 'Science & Technology - Other Topics',\n",
       " 'Technology']"
      ]
     },
     "execution_count": 73,
     "metadata": {},
     "output_type": "execute_result"
    }
   ],
   "source": [
    "[list(data50_group.index)[index] for index in discipline_indices]"
   ]
  }
 ],
 "metadata": {
  "kernelspec": {
   "display_name": "Python 3",
   "language": "python",
   "name": "python3"
  },
  "language_info": {
   "codemirror_mode": {
    "name": "ipython",
    "version": 3
   },
   "file_extension": ".py",
   "mimetype": "text/x-python",
   "name": "python",
   "nbconvert_exporter": "python",
   "pygments_lexer": "ipython3",
   "version": "3.6.7"
  }
 },
 "nbformat": 4,
 "nbformat_minor": 2
}
