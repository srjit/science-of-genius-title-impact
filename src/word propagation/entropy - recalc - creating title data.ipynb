{
 "cells": [
  {
   "cell_type": "code",
   "execution_count": 1,
   "metadata": {},
   "outputs": [
    {
     "name": "stderr",
     "output_type": "stream",
     "text": [
      "ERROR:root:No traceback has been produced, nothing to debug.\n"
     ]
    }
   ],
   "source": [
    "%load_ext autoreload\n",
    "%autoreload 2\n",
    "%matplotlib inline\n",
    "\n",
    "%debug"
   ]
  },
  {
   "cell_type": "code",
   "execution_count": 4,
   "metadata": {},
   "outputs": [],
   "source": [
    "import sys\n",
    "sys.path.insert(0, \"../../code-previous\")"
   ]
  },
  {
   "cell_type": "code",
   "execution_count": 5,
   "metadata": {},
   "outputs": [],
   "source": [
    "import pandas as pd\n",
    "import numpy as np\n",
    "import networkx as nx\n",
    "import sklearn.feature_extraction as skfeatures\n",
    "import time\n",
    "import os\n",
    "\n",
    "import operator\n",
    "import pickle\n",
    "import string\n",
    "import swifter\n",
    "import nltk\n",
    "stopwords = nltk.corpus.stopwords.words('english')\n",
    "\n",
    "\n",
    "import plotly\n",
    "import plotly.plotly as py\n",
    "import plotly.graph_objs as go\n",
    "plotly.tools.set_credentials_file(username='sreejith_s', api_key='rcet0rTqFCc3WeOzWTjv')\n",
    "\n",
    "\n",
    "\n",
    "from sklearn.feature_extraction.text import CountVectorizer\n",
    "from collections import Counter\n",
    "\n",
    "from unicodedata import category\n",
    "from tqdm import tqdm\n",
    "tqdm.pandas(desc=\"Progress\")\n",
    "\n",
    "import seaborn as sns\n",
    "sns.set_style('white')\n",
    "import matplotlib.pylab as plt\n",
    "\n",
    "import WOSutilities as wosutil\n",
    "\n",
    "path2rawdata = '/mnt/disks/vault/wos2017-parsed/'"
   ]
  },
  {
   "cell_type": "code",
   "execution_count": 6,
   "metadata": {},
   "outputs": [],
   "source": [
    "disciplines = [\"Architecture\",\"Art\",\"Humanities, Multidisciplinary\",\"Folklore\",\"Medieval & Renaissance Studies\",\"Asian Studies\",\"Classics\",\"Dance\",\"Film, Radio, Television\",\"History\",\"History & Philosophy of Science\",\"Literary Theory & Criticism\",\"Literary Reviews\",\"Literature\",\"Literature, African, Australian, Canadian\",\"Literature, American\",\"Literature, British Isles\",\"Literature, German, Dutch, Scandinavian\",\"Literature, Romance\",\"Literature, Slavic\",\"Poetry\",\"Music\",\"Philosophy\",\"Religion\",\"Theater\",\"Agriculture, Dairy & Animal Science\",\"Agricultural Engineering\",\"Agricultural Economics & Policy\",\"Agriculture, Multidisciplinary\",\"Agronomy\",\"Horticulture\",\"Soil Science\",\"Allergy\",\"Anatomy & Morphology\",\"Anesthesiology\",\"Anthropology\",\"Audiology & Speech-Language Pathology\",\"Behavioral Sciences\",\"Biochemical Research Methods\",\"Biochemistry & Molecular Biology\",\"Biodiversity Conservation\",\"Biophysics\",\"Biotechnology & Applied Microbiology\",\"Cardiac & Cardiovascular Systems\",\"Peripheral Vascular Disease\",\"Cell & Tissue Engineering\",\"Cell Biology\",\"Dentistry, Oral Surgery & Medicine\",\"Dermatology\",\"Developmental Biology\",\"Emergency Medicine\",\"Andrology\",\"Endocrinology & Metabolism\",\"Entomology\",\"Ecology\",\"Environmental Sciences\",\"Environmental Studies\",\"Evolutionary Biology\",\"Fisheries\",\"Food Science & Technology\",\"Forestry\",\"Gastroenterology & Hepatology\",\"Critical Care Medicine\",\"Primary Health Care\",\"Medicine, General & Internal\",\"Genetics & Heredity\",\"Geriatrics & Gerontology\",\"Gerontology\",\"Health Care Sciences & Services\",\"Health Policy & Services\",\"Hematology\",\"Immunology\",\"Infectious Diseases\",\"Integrative & Complementary Medicine\",\"Medicine, Legal\",\"Biology\",\"Limnology\",\"Marine & Freshwater Biology\",\"Mathematical & Computational Biology\",\"Medical Ethics\",\"Medical Informatics\",\"Medical Laboratory Technology\",\"Microbiology\",\"Mycology\",\"Clinical Neurology\",\"Neurosciences\",\"Neuroimaging\",\"Nursing\",\"Nutrition & Dietetics\",\"Obstetrics & Gynecology\",\"Oncology\",\"Ophthalmology\",\"Orthopedics\",\"Otorhinolaryngology\",\"Paleontology\",\"Parasitology\",\"Pathology\",\"Pediatrics\",\"Chemistry, Medicinal\",\"Pharmacology & Pharmacy\",\"Physiology\",\"Plant Sciences\",\"Psychiatry\",\"Public, Environmental & Occupational Health\",\"Radiology, Nuclear Medicine & Medical Imaging\",\"Rehabilitation\",\"Reproductive Biology\",\"Medicine, Research & Experimental\",\"Respiratory System\",\"Rheumatology\",\"Sport Sciences\",\"Substance Abuse\",\"Surgery\",\"Toxicology\",\"Transplantation\",\"Tropical Medicine\",\"Urology & Nephrology\",\"Veterinary Sciences\",\"Virology\",\"Ornithology\",\"Zoology\",\"Astronomy & Astrophysics\",\"Chemistry, Applied\",\"Chemistry, Multidisciplinary\",\"Chemistry, Analytical\",\"Chemistry, Inorganic & Nuclear\",\"Chemistry, Organic\",\"Chemistry, Physical\",\"Crystallography\",\"Electrochemistry\",\"Geochemistry & Geophysics\",\"Geology\",\"Geosciences, Multidisciplinary\",\"Mathematics, Applied\",\"Mathematics, Interdisciplinary Applications\",\"Mathematics\",\"Statistics & Probability\",\"Meteorology & Atmospheric Sciences\",\"Mineralogy\",\"Mining & Mineral Processing\",\"Oceanography\",\"Optics\",\"Geography, Physical\",\"Physics, Applied\",\"Physics, Fluids & Plasmas\",\"Physics, Atomic, Molecular & Chemical\",\"Physics, Multidisciplinary\",\"Physics, Condensed Matter\",\"Physics, Nuclear\",\"Physics, Particles & Fields\",\"Physics, Mathematical\",\"Polymer Science\",\"Thermodynamics\",\"Water Resources\",\"Nanoscience & Nanotechnology\",\"Logic\",\"Multidisciplinary Sciences\",\"Acoustics\",\"Automation & Control Systems\",\"Computer Science, Artificial Intelligence\",\"Computer Science, Cybernetics\",\"Computer Science, Hardware & Architecture\",\"Computer Science, Information Systems\",\"Computer Science, Interdisciplinary Applications\",\"Computer Science, Software Engineering\",\"Computer Science, Theory & Methods\",\"Construction & Building Technology\",\"Energy & Fuels\",\"Engineering, Aerospace\",\"Engineering, Multidisciplinary\",\"Engineering, Biomedical\",\"Engineering, Environmental\",\"Engineering, Chemical\",\"Engineering, Industrial\",\"Engineering, Manufacturing\",\"Engineering, Marine\",\"Engineering, Civil\",\"Engineering, Ocean\",\"Engineering, Petroleum\",\"Engineering, Electrical & Electronic\",\"Engineering, Mechanical\",\"Engineering, Geological\",\"Ergonomics\",\"Imaging Science & Photographic Technology\",\"Information Science & Library Science\",\"Instruments & Instrumentation\",\"Materials Science, Paper & Wood\",\"Materials Science, Ceramics\",\"Materials Science, Multidisciplinary\",\"Materials Science, Biomaterials\",\"Materials Science, Characterization & Testing\",\"Materials Science, Coatings & Films\",\"Materials Science, Composites\",\"Materials Science, Textiles\",\"Mechanics\",\"Metallurgy & Metallurgical Engineering\",\"Microscopy\",\"Nuclear Science & Technology\",\"Operations Research & Management Science\",\"Remote Sensing\",\"Robotics\",\"Spectroscopy\",\"Telecommunications\",\"Transportation\",\"Transportation Science & Technology\",\"Archaeology\",\"Area Studies\",\"Social Sciences, Biomedical\",\"Business\",\"Business, Finance\",\"Economics\",\"Industrial Relations & Labor\",\"Management\",\"Communication\",\"Criminology & Penology\",\"Cultural Studies\",\"Demography\",\"Education & Educational Research\",\"Education, Scientific Disciplines\",\"Education, Special\",\"Ethnic Studies\",\"Family Studies\",\"Geography\",\"Law\",\"Political Science\",\"International Relations\",\"Linguistics\",\"Language & Linguistics\",\"Social Sciences, Mathematical Methods\",\"Psychology, Biological\",\"Psychology, Clinical\",\"Psychology, Educational\",\"Psychology, Developmental\",\"Psychology, Applied\",\"Psychology\",\"Psychology, Multidisciplinary\",\"Psychology, Psychoanalysis\",\"Psychology, Mathematical\",\"Psychology, Experimental\",\"Psychology, Social\",\"Planning & Development\",\"Public Administration\",\"Social Issues\",\"Ethics\",\"History of Social Sciences\",\"Hospitality, Leisure, Sport & Tourism\",\"Social Sciences, Interdisciplinary\",\"Social Work\",\"Sociology\",\"Urban Studies\",\"Women's Studies\"]"
   ]
  },
  {
   "cell_type": "code",
   "execution_count": 7,
   "metadata": {},
   "outputs": [
    {
     "name": "stdout",
     "output_type": "stream",
     "text": [
      "50\n",
      "100\n",
      "150\n",
      "200\n",
      "250\n",
      "300\n",
      "350\n",
      "400\n",
      "450\n",
      "Final DF Shape (39171585, 6)\n",
      "100\n",
      "200\n",
      "300\n",
      "400\n",
      "Final DF Shape (24657695, 3)\n"
     ]
    }
   ],
   "source": [
    "# we need to load articles and categories\n",
    "article_df = wosutil.load_wos_data(name = 'article', \n",
    "                                   path2rawdata = path2rawdata,\n",
    "                                   year_list = None, \n",
    "                                   columns = ['ArticleID', 'PubYear', 'Doctypes', 'Title','Journal', 'Journal Abbreviation ISO'], \n",
    "                                   dropna = ['ArticleID', 'PubYear','Title'], \n",
    "                                   duplicate_subset = ['ArticleID'],\n",
    "                                   isindict = {'Doctypes':np.sort(['Article','Letter','Review','Note'])}, \n",
    "                                   verbose = 50)\n",
    "\n",
    "# select all categories for all the aricles published\n",
    "# category_list = np.array(['Physics, Applied'])  \n",
    "\n",
    "category_list = np.array([\"Architecture\",\"Art\",\"Humanities, Multidisciplinary\",\"Folklore\",\"Medieval & Renaissance Studies\",\"Asian Studies\",\"Classics\",\"Dance\",\"Film, Radio, Television\",\"History\",\"History & Philosophy of Science\",\"Literary Theory & Criticism\",\"Literary Reviews\",\"Literature\",\"Literature, African, Australian, Canadian\",\"Literature, American\",\"Literature, British Isles\",\"Literature, German, Dutch, Scandinavian\",\"Literature, Romance\",\"Literature, Slavic\",\"Poetry\",\"Music\",\"Philosophy\",\"Religion\",\"Theater\",\"Agriculture, Dairy & Animal Science\",\"Agricultural Engineering\",\"Agricultural Economics & Policy\",\"Agriculture, Multidisciplinary\",\"Agronomy\",\"Horticulture\",\"Soil Science\",\"Allergy\",\"Anatomy & Morphology\",\"Anesthesiology\",\"Anthropology\",\"Audiology & Speech-Language Pathology\",\"Behavioral Sciences\",\"Biochemical Research Methods\",\"Biochemistry & Molecular Biology\",\"Biodiversity Conservation\",\"Biophysics\",\"Biotechnology & Applied Microbiology\",\"Cardiac & Cardiovascular Systems\",\"Peripheral Vascular Disease\",\"Cell & Tissue Engineering\",\"Cell Biology\",\"Dentistry, Oral Surgery & Medicine\",\"Dermatology\",\"Developmental Biology\",\"Emergency Medicine\",\"Andrology\",\"Endocrinology & Metabolism\",\"Entomology\",\"Ecology\",\"Environmental Sciences\",\"Environmental Studies\",\"Evolutionary Biology\",\"Fisheries\",\"Food Science & Technology\",\"Forestry\",\"Gastroenterology & Hepatology\",\"Critical Care Medicine\",\"Primary Health Care\",\"Medicine, General & Internal\",\"Genetics & Heredity\",\"Geriatrics & Gerontology\",\"Gerontology\",\"Health Care Sciences & Services\",\"Health Policy & Services\",\"Hematology\",\"Immunology\",\"Infectious Diseases\",\"Integrative & Complementary Medicine\",\"Medicine, Legal\",\"Biology\",\"Limnology\",\"Marine & Freshwater Biology\",\"Mathematical & Computational Biology\",\"Medical Ethics\",\"Medical Informatics\",\"Medical Laboratory Technology\",\"Microbiology\",\"Mycology\",\"Clinical Neurology\",\"Neurosciences\",\"Neuroimaging\",\"Nursing\",\"Nutrition & Dietetics\",\"Obstetrics & Gynecology\",\"Oncology\",\"Ophthalmology\",\"Orthopedics\",\"Otorhinolaryngology\",\"Paleontology\",\"Parasitology\",\"Pathology\",\"Pediatrics\",\"Chemistry, Medicinal\",\"Pharmacology & Pharmacy\",\"Physiology\",\"Plant Sciences\",\"Psychiatry\",\"Public, Environmental & Occupational Health\",\"Radiology, Nuclear Medicine & Medical Imaging\",\"Rehabilitation\",\"Reproductive Biology\",\"Medicine, Research & Experimental\",\"Respiratory System\",\"Rheumatology\",\"Sport Sciences\",\"Substance Abuse\",\"Surgery\",\"Toxicology\",\"Transplantation\",\"Tropical Medicine\",\"Urology & Nephrology\",\"Veterinary Sciences\",\"Virology\",\"Ornithology\",\"Zoology\",\"Astronomy & Astrophysics\",\"Chemistry, Applied\",\"Chemistry, Multidisciplinary\",\"Chemistry, Analytical\",\"Chemistry, Inorganic & Nuclear\",\"Chemistry, Organic\",\"Chemistry, Physical\",\"Crystallography\",\"Electrochemistry\",\"Geochemistry & Geophysics\",\"Geology\",\"Geosciences, Multidisciplinary\",\"Mathematics, Applied\",\"Mathematics, Interdisciplinary Applications\",\"Mathematics\",\"Statistics & Probability\",\"Meteorology & Atmospheric Sciences\",\"Mineralogy\",\"Mining & Mineral Processing\",\"Oceanography\",\"Optics\",\"Geography, Physical\",\"Physics, Applied\",\"Physics, Fluids & Plasmas\",\"Physics, Atomic, Molecular & Chemical\",\"Physics, Multidisciplinary\",\"Physics, Condensed Matter\",\"Physics, Nuclear\",\"Physics, Particles & Fields\",\"Physics, Mathematical\",\"Polymer Science\",\"Thermodynamics\",\"Water Resources\",\"Nanoscience & Nanotechnology\",\"Logic\",\"Multidisciplinary Sciences\",\"Acoustics\",\"Automation & Control Systems\",\"Computer Science, Artificial Intelligence\",\"Computer Science, Cybernetics\",\"Computer Science, Hardware & Architecture\",\"Computer Science, Information Systems\",\"Computer Science, Interdisciplinary Applications\",\"Computer Science, Software Engineering\",\"Computer Science, Theory & Methods\",\"Construction & Building Technology\",\"Energy & Fuels\",\"Engineering, Aerospace\",\"Engineering, Multidisciplinary\",\"Engineering, Biomedical\",\"Engineering, Environmental\",\"Engineering, Chemical\",\"Engineering, Industrial\",\"Engineering, Manufacturing\",\"Engineering, Marine\",\"Engineering, Civil\",\"Engineering, Ocean\",\"Engineering, Petroleum\",\"Engineering, Electrical & Electronic\",\"Engineering, Mechanical\",\"Engineering, Geological\",\"Ergonomics\",\"Imaging Science & Photographic Technology\",\"Information Science & Library Science\",\"Instruments & Instrumentation\",\"Materials Science, Paper & Wood\",\"Materials Science, Ceramics\",\"Materials Science, Multidisciplinary\",\"Materials Science, Biomaterials\",\"Materials Science, Characterization & Testing\",\"Materials Science, Coatings & Films\",\"Materials Science, Composites\",\"Materials Science, Textiles\",\"Mechanics\",\"Metallurgy & Metallurgical Engineering\",\"Microscopy\",\"Nuclear Science & Technology\",\"Operations Research & Management Science\",\"Remote Sensing\",\"Robotics\",\"Spectroscopy\",\"Telecommunications\",\"Transportation\",\"Transportation Science & Technology\",\"Archaeology\",\"Area Studies\",\"Social Sciences, Biomedical\",\"Business\",\"Business, Finance\",\"Economics\",\"Industrial Relations & Labor\",\"Management\",\"Communication\",\"Criminology & Penology\",\"Cultural Studies\",\"Demography\",\"Education & Educational Research\",\"Education, Scientific Disciplines\",\"Education, Special\",\"Ethnic Studies\",\"Family Studies\",\"Geography\",\"Law\",\"Political Science\",\"International Relations\",\"Linguistics\",\"Language & Linguistics\",\"Social Sciences, Mathematical Methods\",\"Psychology, Biological\",\"Psychology, Clinical\",\"Psychology, Educational\",\"Psychology, Developmental\",\"Psychology, Applied\",\"Psychology\",\"Psychology, Multidisciplinary\",\"Psychology, Psychoanalysis\",\"Psychology, Mathematical\",\"Psychology, Experimental\",\"Psychology, Social\",\"Planning & Development\",\"Public Administration\",\"Social Issues\",\"Ethics\",\"History of Social Sciences\",\"Hospitality, Leisure, Sport & Tourism\",\"Social Sciences, Interdisciplinary\",\"Social Work\",\"Sociology\",\"Urban Studies\",\"Women's Studies\"])\n",
    "\n",
    "category_df = wosutil.load_wos_data(name = 'category', \n",
    "                                    path2rawdata = path2rawdata,\n",
    "                                    year_list = None,\n",
    "                                    columns = ['ArticleID', 'Type', 'Label'], \n",
    "                                    dropna = ['ArticleID'], \n",
    "                                    duplicate_subset = None,\n",
    "                                    isindict = {'Label':category_list},\n",
    "                                    verbose = 100)"
   ]
  },
  {
   "cell_type": "code",
   "execution_count": 8,
   "metadata": {},
   "outputs": [],
   "source": [
    "data = None\n",
    "data = category_df.merge(article_df, \n",
    "                         how = 'inner',\n",
    "                         on = 'ArticleID')"
   ]
  },
  {
   "cell_type": "code",
   "execution_count": 9,
   "metadata": {},
   "outputs": [],
   "source": [
    "data = data.drop_duplicates()\n",
    "data.to_pickle(\"/mnt/disks/vault/analysis-data/interdisciplinary-novelty-analysis/corrected-entropy-analysis/all_data.pql\")"
   ]
  },
  {
   "cell_type": "code",
   "execution_count": 11,
   "metadata": {},
   "outputs": [
    {
     "data": {
      "text/plain": [
       "135"
      ]
     },
     "execution_count": 11,
     "metadata": {},
     "output_type": "execute_result"
    }
   ],
   "source": [
    "len(data['Label'].unique())"
   ]
  },
  {
   "cell_type": "code",
   "execution_count": 13,
   "metadata": {},
   "outputs": [
    {
     "data": {
      "text/plain": [
       "137"
      ]
     },
     "execution_count": 13,
     "metadata": {},
     "output_type": "execute_result"
    }
   ],
   "source": [
    "len(category_df['Label'].unique())"
   ]
  },
  {
   "cell_type": "code",
   "execution_count": 18,
   "metadata": {},
   "outputs": [
    {
     "data": {
      "text/plain": [
       "17827508"
      ]
     },
     "execution_count": 18,
     "metadata": {},
     "output_type": "execute_result"
    }
   ],
   "source": [
    "len(data)"
   ]
  },
  {
   "cell_type": "code",
   "execution_count": 15,
   "metadata": {},
   "outputs": [
    {
     "data": {
      "text/plain": [
       "True"
      ]
     },
     "execution_count": 15,
     "metadata": {},
     "output_type": "execute_result"
    }
   ],
   "source": [
    "'Physics, Applied' in category_df['Label'].unique()"
   ]
  },
  {
   "cell_type": "code",
   "execution_count": 17,
   "metadata": {},
   "outputs": [
    {
     "data": {
      "text/plain": [
       "array(['Biochemistry & Molecular Biology',\n",
       "       'Cardiac & Cardiovascular Systems', 'Engineering, Aerospace',\n",
       "       'Biophysics', 'Crystallography', 'Energy & Fuels',\n",
       "       'Endocrinology & Metabolism',\n",
       "       'Biotechnology & Applied Microbiology', 'Political Science',\n",
       "       'Computer Science, Hardware & Architecture', 'Immunology',\n",
       "       'Physiology', 'Pharmacology & Pharmacy', 'Oncology',\n",
       "       'Imaging Science & Photographic Technology',\n",
       "       'Materials Science, Multidisciplinary',\n",
       "       'Instruments & Instrumentation', 'Law', 'Forestry', 'Microbiology',\n",
       "       'Psychology, Multidisciplinary', 'Pediatrics', 'Orthopedics',\n",
       "       'Obstetrics & Gynecology', 'Biodiversity Conservation',\n",
       "       'Food Science & Technology', 'Pathology', 'Mycology',\n",
       "       'Dentistry, Oral Surgery & Medicine', 'Ophthalmology',\n",
       "       'Hematology', 'Social Sciences, Interdisciplinary', 'Entomology',\n",
       "       'Cell Biology', 'Nutrition & Dietetics', 'Urban Studies',\n",
       "       'Biochemical Research Methods', 'Marine & Freshwater Biology',\n",
       "       'Fisheries', 'Evolutionary Biology',\n",
       "       'Medical Laboratory Technology', 'Computer Science, Cybernetics',\n",
       "       'Parasitology', 'Sociology', 'Developmental Biology',\n",
       "       'Water Resources', 'Behavioral Sciences',\n",
       "       'Computer Science, Artificial Intelligence', 'Anesthesiology',\n",
       "       'Computer Science, Information Systems', 'Dermatology',\n",
       "       'Environmental Sciences', 'Psychiatry', 'Chemistry, Physical',\n",
       "       'Construction & Building Technology', 'Agronomy', 'Anthropology',\n",
       "       'Nursing', 'Anatomy & Morphology',\n",
       "       'Public, Environmental & Occupational Health',\n",
       "       'Information Science & Library Science',\n",
       "       'Gastroenterology & Hepatology', 'Social Work',\n",
       "       'Nuclear Science & Technology', 'Environmental Studies',\n",
       "       'Linguistics', 'Infectious Diseases',\n",
       "       'Computer Science, Theory & Methods', 'Chemistry, Organic',\n",
       "       'Otorhinolaryngology', 'Geology', 'Geosciences, Multidisciplinary',\n",
       "       'Geriatrics & Gerontology', 'Electrochemistry', 'Ergonomics',\n",
       "       'Engineering, Industrial', 'Limnology', \"Women's Studies\",\n",
       "       'Physics, Multidisciplinary', 'Psychology, Clinical',\n",
       "       'Computer Science, Interdisciplinary Applications', 'Oceanography',\n",
       "       'Mathematics, Interdisciplinary Applications',\n",
       "       'Public Administration', 'Computer Science, Software Engineering',\n",
       "       'Mathematics, Applied', 'Agriculture, Multidisciplinary', 'Art',\n",
       "       'Health Care Sciences & Services', 'Health Policy & Services',\n",
       "       'Emergency Medicine', 'Audiology & Speech-Language Pathology',\n",
       "       'Plant Sciences', 'Paleontology', 'Psychology, Social',\n",
       "       'Social Issues', 'Psychology, Psychoanalysis',\n",
       "       'Medical Informatics', 'Thermodynamics',\n",
       "       'Integrative & Complementary Medicine', 'Medical Ethics',\n",
       "       'Radiology, Nuclear Medicine & Medical Imaging',\n",
       "       'Physics, Nuclear', 'Architecture', 'Mechanics', 'Geography',\n",
       "       'Neurosciences', 'Gerontology', 'Geochemistry & Geophysics',\n",
       "       'Education, Scientific Disciplines', 'Physics, Applied',\n",
       "       'Microscopy', 'Mathematical & Computational Biology',\n",
       "       'Engineering, Manufacturing',\n",
       "       'Metallurgy & Metallurgical Engineering', 'Robotics',\n",
       "       'Remote Sensing', 'Physics, Particles & Fields',\n",
       "       'Operations Research & Management Science', 'Family Studies',\n",
       "       'Mineralogy', 'Mining & Mineral Processing', 'Spectroscopy',\n",
       "       'Ethnic Studies', 'Surgery', 'Education & Educational Research',\n",
       "       'Polymer Science', 'Transportation Science & Technology',\n",
       "       'Economics', 'Materials Science, Characterization & Testing',\n",
       "       'History', 'Transportation', 'Rehabilitation', 'Demography',\n",
       "       'Literature', 'Toxicology', 'Telecommunications'], dtype=object)"
      ]
     },
     "execution_count": 17,
     "metadata": {},
     "output_type": "execute_result"
    }
   ],
   "source": [
    "category_df['Label'].unique()"
   ]
  },
  {
   "cell_type": "code",
   "execution_count": null,
   "metadata": {},
   "outputs": [],
   "source": []
  }
 ],
 "metadata": {
  "kernelspec": {
   "display_name": "Python 3",
   "language": "python",
   "name": "python3"
  },
  "language_info": {
   "codemirror_mode": {
    "name": "ipython",
    "version": 3
   },
   "file_extension": ".py",
   "mimetype": "text/x-python",
   "name": "python",
   "nbconvert_exporter": "python",
   "pygments_lexer": "ipython3",
   "version": "3.6.7"
  }
 },
 "nbformat": 4,
 "nbformat_minor": 2
}
