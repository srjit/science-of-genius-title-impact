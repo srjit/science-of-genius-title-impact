{
 "cells": [
  {
   "cell_type": "code",
   "execution_count": 1,
   "metadata": {},
   "outputs": [],
   "source": [
    "%load_ext autoreload\n",
    "%autoreload 2\n",
    "%matplotlib inline\n",
    "\n",
    "import warnings\n",
    "warnings.filterwarnings('ignore')"
   ]
  },
  {
   "cell_type": "code",
   "execution_count": 2,
   "metadata": {},
   "outputs": [],
   "source": [
    "import pandas as pd\n",
    "pd.set_option('display.max_colwidth', -1)"
   ]
  },
  {
   "cell_type": "code",
   "execution_count": 3,
   "metadata": {},
   "outputs": [],
   "source": [
    "import sys\n",
    "sys.path.insert(0, \"../code-previous\")\n",
    "sys.path.insert(0, \"../tagger-scrap\")\n",
    "\n",
    "sys.path.insert(0, \"..\")"
   ]
  },
  {
   "cell_type": "code",
   "execution_count": 4,
   "metadata": {},
   "outputs": [],
   "source": [
    "import os\n",
    "from nltk.tag.stanford import StanfordPOSTagger\n",
    "java_path = \"/home/sreekumar_s/jdk1.8.0_131/bin/java\"\n",
    "os.environ['JAVAHOME'] = java_path\n",
    "\n",
    "\n",
    "import CMUTweetTagger"
   ]
  },
  {
   "cell_type": "code",
   "execution_count": 5,
   "metadata": {},
   "outputs": [],
   "source": [
    "path_to_model = \"../pos-tagger-models/english-bidirectional-distsim.tagger\"\n",
    "path_to_jar = \"../pos-tagger-models/stanford-postagger.jar\"\n",
    "tagger = StanfordPOSTagger(path_to_model, path_to_jar)\n",
    "tagger.java_options='-mx4096m'"
   ]
  },
  {
   "cell_type": "code",
   "execution_count": 6,
   "metadata": {},
   "outputs": [],
   "source": [
    "import pandas as pd\n",
    "import numpy as np\n",
    "import nltk\n",
    "stopwords = nltk.corpus.stopwords.words('english')\n",
    "\n",
    "import plotly\n",
    "\n",
    "import swifter\n",
    "import dask.dataframe as dd\n",
    "from dask.multiprocessing import get\n",
    "\n",
    "from unicodedata import category\n",
    "from tqdm import tqdm\n",
    "tqdm.pandas(desc=\"Progress\")\n",
    "\n",
    "import seaborn as sns\n",
    "sns.set()\n",
    "import mutual_information\n",
    "import matplotlib.pyplot as plt\n",
    "path2rawdata = '/mnt/disks/vault/wos2017-parsed/'"
   ]
  },
  {
   "cell_type": "code",
   "execution_count": 7,
   "metadata": {},
   "outputs": [],
   "source": [
    "raw_data_path = \"/mnt/disks/vault/analysis-data/nature-science-data-full/nature_science_journal_data.pql\"\n",
    "data = pd.read_pickle(raw_data_path)\n",
    "\n",
    "data = data[(data.Journal == \"NATURE\") & (data.PubYear_x > 1970) & (data.PubYear_x < 1981)]"
   ]
  },
  {
   "cell_type": "code",
   "execution_count": 8,
   "metadata": {},
   "outputs": [
    {
     "data": {
      "text/plain": [
       "array([1980, 1978, 1971, 1974, 1979, 1976, 1977, 1972, 1973, 1975])"
      ]
     },
     "execution_count": 8,
     "metadata": {},
     "output_type": "execute_result"
    }
   ],
   "source": [
    "data.PubYear_x.unique()"
   ]
  },
  {
   "cell_type": "code",
   "execution_count": 9,
   "metadata": {},
   "outputs": [
    {
     "data": {
      "text/plain": [
       "18245"
      ]
     },
     "execution_count": 9,
     "metadata": {},
     "output_type": "execute_result"
    }
   ],
   "source": [
    "len(data)"
   ]
  },
  {
   "cell_type": "code",
   "execution_count": 10,
   "metadata": {},
   "outputs": [
    {
     "data": {
      "text/html": [
       "<div>\n",
       "<style scoped>\n",
       "    .dataframe tbody tr th:only-of-type {\n",
       "        vertical-align: middle;\n",
       "    }\n",
       "\n",
       "    .dataframe tbody tr th {\n",
       "        vertical-align: top;\n",
       "    }\n",
       "\n",
       "    .dataframe thead th {\n",
       "        text-align: right;\n",
       "    }\n",
       "</style>\n",
       "<table border=\"1\" class=\"dataframe\">\n",
       "  <thead>\n",
       "    <tr style=\"text-align: right;\">\n",
       "      <th></th>\n",
       "      <th>ArticleID</th>\n",
       "      <th>PubYear_x</th>\n",
       "      <th>Doctypes</th>\n",
       "      <th>Title</th>\n",
       "      <th>Journal</th>\n",
       "      <th>Journal Abbreviation ISO</th>\n",
       "      <th>PubYear_y</th>\n",
       "      <th>c5</th>\n",
       "    </tr>\n",
       "  </thead>\n",
       "  <tbody>\n",
       "    <tr>\n",
       "      <th>41958</th>\n",
       "      <td>A1980JB44400046</td>\n",
       "      <td>1980</td>\n",
       "      <td>Article</td>\n",
       "      <td>COMPACT MYELIN EXISTS IN THE ABSENCE OF BASIC-PROTEIN IN THE SHIVERER MUTANT MOUSE</td>\n",
       "      <td>NATURE</td>\n",
       "      <td>Nature</td>\n",
       "      <td>1980</td>\n",
       "      <td>32.0</td>\n",
       "    </tr>\n",
       "    <tr>\n",
       "      <th>41959</th>\n",
       "      <td>A1980KD36500043</td>\n",
       "      <td>1980</td>\n",
       "      <td>Article</td>\n",
       "      <td>ASYMMETRIC-FC RECEPTOR DISTRIBUTION ON HUMAN-PMN ORIENTED IN A CHEMOTACTIC GRADIENT</td>\n",
       "      <td>NATURE</td>\n",
       "      <td>Nature</td>\n",
       "      <td>1980</td>\n",
       "      <td>22.0</td>\n",
       "    </tr>\n",
       "    <tr>\n",
       "      <th>41960</th>\n",
       "      <td>A1980JK26000020</td>\n",
       "      <td>1980</td>\n",
       "      <td>Letter</td>\n",
       "      <td>DISPOSAL OF CARCINOGENS</td>\n",
       "      <td>NATURE</td>\n",
       "      <td>Nature</td>\n",
       "      <td>1980</td>\n",
       "      <td>3.0</td>\n",
       "    </tr>\n",
       "    <tr>\n",
       "      <th>41962</th>\n",
       "      <td>A1980KD36500050</td>\n",
       "      <td>1980</td>\n",
       "      <td>Article</td>\n",
       "      <td>MONOCLONAL ANTI-ACETYLCHOLINE RECEPTOR ANTIBODIES CAN CAUSE EXPERIMENTAL MYASTHENIA</td>\n",
       "      <td>NATURE</td>\n",
       "      <td>Nature</td>\n",
       "      <td>1980</td>\n",
       "      <td>38.0</td>\n",
       "    </tr>\n",
       "    <tr>\n",
       "      <th>41963</th>\n",
       "      <td>A1980KM41100042</td>\n",
       "      <td>1980</td>\n",
       "      <td>Article</td>\n",
       "      <td>EXCRETION, ISOLATION AND STRUCTURE OF A NEW PHENOLIC CONSTITUENT OF FEMALE URINE</td>\n",
       "      <td>NATURE</td>\n",
       "      <td>Nature</td>\n",
       "      <td>1980</td>\n",
       "      <td>28.0</td>\n",
       "    </tr>\n",
       "  </tbody>\n",
       "</table>\n",
       "</div>"
      ],
      "text/plain": [
       "             ArticleID  PubYear_x Doctypes  \\\n",
       "41958  A1980JB44400046  1980       Article   \n",
       "41959  A1980KD36500043  1980       Article   \n",
       "41960  A1980JK26000020  1980       Letter    \n",
       "41962  A1980KD36500050  1980       Article   \n",
       "41963  A1980KM41100042  1980       Article   \n",
       "\n",
       "                                                                                     Title  \\\n",
       "41958  COMPACT MYELIN EXISTS IN THE ABSENCE OF BASIC-PROTEIN IN THE SHIVERER MUTANT MOUSE    \n",
       "41959  ASYMMETRIC-FC RECEPTOR DISTRIBUTION ON HUMAN-PMN ORIENTED IN A CHEMOTACTIC GRADIENT   \n",
       "41960  DISPOSAL OF CARCINOGENS                                                               \n",
       "41962  MONOCLONAL ANTI-ACETYLCHOLINE RECEPTOR ANTIBODIES CAN CAUSE EXPERIMENTAL MYASTHENIA   \n",
       "41963  EXCRETION, ISOLATION AND STRUCTURE OF A NEW PHENOLIC CONSTITUENT OF FEMALE URINE      \n",
       "\n",
       "      Journal Journal Abbreviation ISO  PubYear_y    c5  \n",
       "41958  NATURE  Nature                   1980       32.0  \n",
       "41959  NATURE  Nature                   1980       22.0  \n",
       "41960  NATURE  Nature                   1980       3.0   \n",
       "41962  NATURE  Nature                   1980       38.0  \n",
       "41963  NATURE  Nature                   1980       28.0  "
      ]
     },
     "execution_count": 10,
     "metadata": {},
     "output_type": "execute_result"
    }
   ],
   "source": [
    "data.head()"
   ]
  },
  {
   "cell_type": "markdown",
   "metadata": {},
   "source": [
    "__Add tagging from the two parsers__"
   ]
  },
  {
   "cell_type": "code",
   "execution_count": null,
   "metadata": {},
   "outputs": [
    {
     "name": "stderr",
     "output_type": "stream",
     "text": [
      "Pandas Apply:   0%|          | 54/18245 [01:24<7:11:26,  1.42s/it] "
     ]
    }
   ],
   "source": [
    "data['stanford_tagger_tags'] = data['Title'].swifter.apply(lambda x: tagger.tag(x.split()))"
   ]
  },
  {
   "cell_type": "code",
   "execution_count": null,
   "metadata": {},
   "outputs": [],
   "source": [
    "import pickle\n",
    "data.to_pickle(\"/mnt/disks/vault/analysis-data/stanford_tagger_data/pos_tagged_stanford_1971_1980.pql\")"
   ]
  },
  {
   "cell_type": "code",
   "execution_count": null,
   "metadata": {},
   "outputs": [],
   "source": [
    "#ark_tagger_outputs = CMUTweetTagger.runtagger_parse(list(data['Title']))\n",
    "#data['ark_tagger_tags'] = pd.Series(ark_tagger_outputs)"
   ]
  },
  {
   "cell_type": "code",
   "execution_count": null,
   "metadata": {},
   "outputs": [],
   "source": [
    "## https://stackoverflow.com/questions/45545110/how-do-you-parallelize-apply-on-pandas-dataframes-making-use-of-all-cores-on-o\n",
    "\n",
    "ddata = dd.from_pandas(data, npartitions=30)\n",
    "\n",
    "res = ddata.map_partitions(lambda df: df['Title'].apply((lambda x: tag(x.split())), axis=1)).compute(get=get)"
   ]
  }
 ],
 "metadata": {
  "kernelspec": {
   "display_name": "Python 3",
   "language": "python",
   "name": "python3"
  },
  "language_info": {
   "codemirror_mode": {
    "name": "ipython",
    "version": 3
   },
   "file_extension": ".py",
   "mimetype": "text/x-python",
   "name": "python",
   "nbconvert_exporter": "python",
   "pygments_lexer": "ipython3",
   "version": "3.6.7"
  }
 },
 "nbformat": 4,
 "nbformat_minor": 2
}
