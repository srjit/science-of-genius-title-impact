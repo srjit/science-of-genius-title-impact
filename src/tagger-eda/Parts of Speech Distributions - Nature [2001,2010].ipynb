{
 "cells": [
  {
   "cell_type": "code",
   "execution_count": 1,
   "metadata": {},
   "outputs": [],
   "source": [
    "%load_ext autoreload\n",
    "%autoreload 2\n",
    "%matplotlib inline\n",
    "\n",
    "import warnings\n",
    "warnings.filterwarnings('ignore')"
   ]
  },
  {
   "cell_type": "code",
   "execution_count": 2,
   "metadata": {},
   "outputs": [],
   "source": [
    "import pandas as pd\n",
    "pd.set_option('display.max_colwidth', -1)"
   ]
  },
  {
   "cell_type": "code",
   "execution_count": 4,
   "metadata": {},
   "outputs": [],
   "source": [
    "import pandas as pd\n",
    "import numpy as np\n",
    "import nltk\n",
    "stopwords = nltk.corpus.stopwords.words('english')\n",
    "\n",
    "import plotly\n",
    "import plotly.plotly as py\n",
    "import plotly.graph_objs as go\n",
    "\n",
    "from scipy.stats.stats import pearsonr\n",
    "\n",
    "import swifter\n",
    "import dask.dataframe as dd\n",
    "from dask.multiprocessing import get\n",
    "\n",
    "from unicodedata import category\n",
    "from tqdm import tqdm\n",
    "tqdm.pandas(desc=\"Progress\")\n",
    "\n",
    "import seaborn as sns\n",
    "sns.set()\n",
    "\n",
    "import matplotlib.pyplot as plt\n",
    "path2rawdata = '/mnt/disks/vault/wos2017-parsed/'\n",
    "plotly.tools.set_credentials_file(username='sreejith_s', api_key='rcet0rTqFCc3WeOzWTjv')\n"
   ]
  },
  {
   "cell_type": "code",
   "execution_count": 5,
   "metadata": {},
   "outputs": [],
   "source": [
    "title_pos_tagged_2001_2010 = \"/mnt/disks/vault/analysis-data/stanford_tagger_data/pos_tagged_stanford_2001.pql\"\n",
    "data = pd.read_pickle(title_pos_tagged_2001_2010)"
   ]
  },
  {
   "cell_type": "code",
   "execution_count": 6,
   "metadata": {},
   "outputs": [
    {
     "data": {
      "text/html": [
       "<div>\n",
       "<style scoped>\n",
       "    .dataframe tbody tr th:only-of-type {\n",
       "        vertical-align: middle;\n",
       "    }\n",
       "\n",
       "    .dataframe tbody tr th {\n",
       "        vertical-align: top;\n",
       "    }\n",
       "\n",
       "    .dataframe thead th {\n",
       "        text-align: right;\n",
       "    }\n",
       "</style>\n",
       "<table border=\"1\" class=\"dataframe\">\n",
       "  <thead>\n",
       "    <tr style=\"text-align: right;\">\n",
       "      <th></th>\n",
       "      <th>ArticleID</th>\n",
       "      <th>PubYear_x</th>\n",
       "      <th>Doctypes</th>\n",
       "      <th>Title</th>\n",
       "      <th>Journal</th>\n",
       "      <th>Journal Abbreviation ISO</th>\n",
       "      <th>PubYear_y</th>\n",
       "      <th>c5</th>\n",
       "      <th>stanford_tagger_tags</th>\n",
       "    </tr>\n",
       "  </thead>\n",
       "  <tbody>\n",
       "    <tr>\n",
       "      <th>31047</th>\n",
       "      <td>000261559900061</td>\n",
       "      <td>2008</td>\n",
       "      <td>Letter</td>\n",
       "      <td>FCA does not bind abscisic acid</td>\n",
       "      <td>NATURE</td>\n",
       "      <td>Nature</td>\n",
       "      <td>2008</td>\n",
       "      <td>20.0</td>\n",
       "      <td>[(FCA, NN), (does, VBZ), (not, RB), (bind, VB), (abscisic, JJ), (acid, NN)]</td>\n",
       "    </tr>\n",
       "    <tr>\n",
       "      <th>31048</th>\n",
       "      <td>000259090800017</td>\n",
       "      <td>2008</td>\n",
       "      <td>Letter</td>\n",
       "      <td>Doping: ignorance of basic statistics is all too common</td>\n",
       "      <td>NATURE</td>\n",
       "      <td>Nature</td>\n",
       "      <td>2008</td>\n",
       "      <td>0.0</td>\n",
       "      <td>[(Doping:, NN), (ignorance, NN), (of, IN), (basic, JJ), (statistics, NNS), (is, VBZ), (all, RB), (too, RB), (common, JJ)]</td>\n",
       "    </tr>\n",
       "    <tr>\n",
       "      <th>31050</th>\n",
       "      <td>000261340000041</td>\n",
       "      <td>2008</td>\n",
       "      <td>Article</td>\n",
       "      <td>Direct control of paralysed muscles by cortical neurons</td>\n",
       "      <td>NATURE</td>\n",
       "      <td>Nature</td>\n",
       "      <td>2008</td>\n",
       "      <td>133.0</td>\n",
       "      <td>[(Direct, JJ), (control, NN), (of, IN), (paralysed, VBN), (muscles, NNS), (by, IN), (cortical, JJ), (neurons, NNS)]</td>\n",
       "    </tr>\n",
       "    <tr>\n",
       "      <th>31051</th>\n",
       "      <td>000258591000018</td>\n",
       "      <td>2008</td>\n",
       "      <td>Letter</td>\n",
       "      <td>Open debate could slow flu vaccine production</td>\n",
       "      <td>NATURE</td>\n",
       "      <td>Nature</td>\n",
       "      <td>2008</td>\n",
       "      <td>0.0</td>\n",
       "      <td>[(Open, NNP), (debate, NN), (could, MD), (slow, VB), (flu, NN), (vaccine, NN), (production, NN)]</td>\n",
       "    </tr>\n",
       "    <tr>\n",
       "      <th>31054</th>\n",
       "      <td>000253671900043</td>\n",
       "      <td>2008</td>\n",
       "      <td>Article</td>\n",
       "      <td>Cyclical DNA methylation of a transcriptionally active promoter</td>\n",
       "      <td>NATURE</td>\n",
       "      <td>Nature</td>\n",
       "      <td>2008</td>\n",
       "      <td>362.0</td>\n",
       "      <td>[(Cyclical, JJ), (DNA, NN), (methylation, NN), (of, IN), (a, DT), (transcriptionally, RB), (active, JJ), (promoter, NN)]</td>\n",
       "    </tr>\n",
       "  </tbody>\n",
       "</table>\n",
       "</div>"
      ],
      "text/plain": [
       "             ArticleID  PubYear_x Doctypes  \\\n",
       "31047  000261559900061  2008       Letter    \n",
       "31048  000259090800017  2008       Letter    \n",
       "31050  000261340000041  2008       Article   \n",
       "31051  000258591000018  2008       Letter    \n",
       "31054  000253671900043  2008       Article   \n",
       "\n",
       "                                                                 Title  \\\n",
       "31047  FCA does not bind abscisic acid                                   \n",
       "31048  Doping: ignorance of basic statistics is all too common           \n",
       "31050  Direct control of paralysed muscles by cortical neurons           \n",
       "31051  Open debate could slow flu vaccine production                     \n",
       "31054  Cyclical DNA methylation of a transcriptionally active promoter   \n",
       "\n",
       "      Journal Journal Abbreviation ISO  PubYear_y     c5  \\\n",
       "31047  NATURE  Nature                   2008       20.0    \n",
       "31048  NATURE  Nature                   2008       0.0     \n",
       "31050  NATURE  Nature                   2008       133.0   \n",
       "31051  NATURE  Nature                   2008       0.0     \n",
       "31054  NATURE  Nature                   2008       362.0   \n",
       "\n",
       "                                                                                                            stanford_tagger_tags  \n",
       "31047  [(FCA, NN), (does, VBZ), (not, RB), (bind, VB), (abscisic, JJ), (acid, NN)]                                                \n",
       "31048  [(Doping:, NN), (ignorance, NN), (of, IN), (basic, JJ), (statistics, NNS), (is, VBZ), (all, RB), (too, RB), (common, JJ)]  \n",
       "31050  [(Direct, JJ), (control, NN), (of, IN), (paralysed, VBN), (muscles, NNS), (by, IN), (cortical, JJ), (neurons, NNS)]        \n",
       "31051  [(Open, NNP), (debate, NN), (could, MD), (slow, VB), (flu, NN), (vaccine, NN), (production, NN)]                           \n",
       "31054  [(Cyclical, JJ), (DNA, NN), (methylation, NN), (of, IN), (a, DT), (transcriptionally, RB), (active, JJ), (promoter, NN)]   "
      ]
     },
     "execution_count": 6,
     "metadata": {},
     "output_type": "execute_result"
    }
   ],
   "source": [
    "data.head()"
   ]
  },
  {
   "cell_type": "code",
   "execution_count": 7,
   "metadata": {},
   "outputs": [],
   "source": [
    "verb_tags = ['VB','VBD','VBG','VBN','VBP','VBZ']\n",
    "noun_tags = ['NN','NNS','NNP','NNPS']\n",
    "adjective_tags = ['JJ','JJR','JJS']\n",
    "\n",
    "pos_tag_groups_to_check = [verb_tags, noun_tags, adjective_tags]"
   ]
  },
  {
   "cell_type": "code",
   "execution_count": 8,
   "metadata": {},
   "outputs": [],
   "source": [
    "#count of verbs, nouns and adjectives in the titles\n",
    "\n",
    "\n",
    "def pos_counts(parts_tagged):\n",
    "    tags = [tag for (word, tag) in parts_tagged]\n",
    "    \n",
    "    return [len([tag for tag in tags if tag in tag_group]) for tag_group in pos_tag_groups_to_check]\n",
    "\n",
    "\n",
    "    \n",
    "    \n",
    "test_tags = [('FCA', 'NN'), ('does', 'VBZ'), ('not', 'RB'), ('bind', 'VB'), ('abscisic', 'JJ'), ('acid', 'NN'),\n",
    "            ('Cyclical', 'JJ'), ('DNA', 'NN'), ('methylation', 'NN'), ('of', 'IN')]"
   ]
  },
  {
   "cell_type": "code",
   "execution_count": 9,
   "metadata": {},
   "outputs": [
    {
     "name": "stderr",
     "output_type": "stream",
     "text": [
      "Progress: 100%|██████████| 11940/11940 [00:00<00:00, 165809.11it/s]\n"
     ]
    },
    {
     "data": {
      "text/html": [
       "<div>\n",
       "<style scoped>\n",
       "    .dataframe tbody tr th:only-of-type {\n",
       "        vertical-align: middle;\n",
       "    }\n",
       "\n",
       "    .dataframe tbody tr th {\n",
       "        vertical-align: top;\n",
       "    }\n",
       "\n",
       "    .dataframe thead th {\n",
       "        text-align: right;\n",
       "    }\n",
       "</style>\n",
       "<table border=\"1\" class=\"dataframe\">\n",
       "  <thead>\n",
       "    <tr style=\"text-align: right;\">\n",
       "      <th></th>\n",
       "      <th>ArticleID</th>\n",
       "      <th>PubYear_x</th>\n",
       "      <th>Doctypes</th>\n",
       "      <th>Title</th>\n",
       "      <th>Journal</th>\n",
       "      <th>Journal Abbreviation ISO</th>\n",
       "      <th>PubYear_y</th>\n",
       "      <th>c5</th>\n",
       "      <th>stanford_tagger_tags</th>\n",
       "      <th>tag_counts</th>\n",
       "    </tr>\n",
       "  </thead>\n",
       "  <tbody>\n",
       "    <tr>\n",
       "      <th>31047</th>\n",
       "      <td>000261559900061</td>\n",
       "      <td>2008</td>\n",
       "      <td>Letter</td>\n",
       "      <td>FCA does not bind abscisic acid</td>\n",
       "      <td>NATURE</td>\n",
       "      <td>Nature</td>\n",
       "      <td>2008</td>\n",
       "      <td>20.0</td>\n",
       "      <td>[(FCA, NN), (does, VBZ), (not, RB), (bind, VB), (abscisic, JJ), (acid, NN)]</td>\n",
       "      <td>[2, 2, 1]</td>\n",
       "    </tr>\n",
       "    <tr>\n",
       "      <th>31048</th>\n",
       "      <td>000259090800017</td>\n",
       "      <td>2008</td>\n",
       "      <td>Letter</td>\n",
       "      <td>Doping: ignorance of basic statistics is all too common</td>\n",
       "      <td>NATURE</td>\n",
       "      <td>Nature</td>\n",
       "      <td>2008</td>\n",
       "      <td>0.0</td>\n",
       "      <td>[(Doping:, NN), (ignorance, NN), (of, IN), (basic, JJ), (statistics, NNS), (is, VBZ), (all, RB), (too, RB), (common, JJ)]</td>\n",
       "      <td>[1, 3, 2]</td>\n",
       "    </tr>\n",
       "    <tr>\n",
       "      <th>31050</th>\n",
       "      <td>000261340000041</td>\n",
       "      <td>2008</td>\n",
       "      <td>Article</td>\n",
       "      <td>Direct control of paralysed muscles by cortical neurons</td>\n",
       "      <td>NATURE</td>\n",
       "      <td>Nature</td>\n",
       "      <td>2008</td>\n",
       "      <td>133.0</td>\n",
       "      <td>[(Direct, JJ), (control, NN), (of, IN), (paralysed, VBN), (muscles, NNS), (by, IN), (cortical, JJ), (neurons, NNS)]</td>\n",
       "      <td>[1, 3, 2]</td>\n",
       "    </tr>\n",
       "    <tr>\n",
       "      <th>31051</th>\n",
       "      <td>000258591000018</td>\n",
       "      <td>2008</td>\n",
       "      <td>Letter</td>\n",
       "      <td>Open debate could slow flu vaccine production</td>\n",
       "      <td>NATURE</td>\n",
       "      <td>Nature</td>\n",
       "      <td>2008</td>\n",
       "      <td>0.0</td>\n",
       "      <td>[(Open, NNP), (debate, NN), (could, MD), (slow, VB), (flu, NN), (vaccine, NN), (production, NN)]</td>\n",
       "      <td>[1, 5, 0]</td>\n",
       "    </tr>\n",
       "    <tr>\n",
       "      <th>31054</th>\n",
       "      <td>000253671900043</td>\n",
       "      <td>2008</td>\n",
       "      <td>Article</td>\n",
       "      <td>Cyclical DNA methylation of a transcriptionally active promoter</td>\n",
       "      <td>NATURE</td>\n",
       "      <td>Nature</td>\n",
       "      <td>2008</td>\n",
       "      <td>362.0</td>\n",
       "      <td>[(Cyclical, JJ), (DNA, NN), (methylation, NN), (of, IN), (a, DT), (transcriptionally, RB), (active, JJ), (promoter, NN)]</td>\n",
       "      <td>[0, 3, 2]</td>\n",
       "    </tr>\n",
       "  </tbody>\n",
       "</table>\n",
       "</div>"
      ],
      "text/plain": [
       "             ArticleID  PubYear_x Doctypes  \\\n",
       "31047  000261559900061  2008       Letter    \n",
       "31048  000259090800017  2008       Letter    \n",
       "31050  000261340000041  2008       Article   \n",
       "31051  000258591000018  2008       Letter    \n",
       "31054  000253671900043  2008       Article   \n",
       "\n",
       "                                                                 Title  \\\n",
       "31047  FCA does not bind abscisic acid                                   \n",
       "31048  Doping: ignorance of basic statistics is all too common           \n",
       "31050  Direct control of paralysed muscles by cortical neurons           \n",
       "31051  Open debate could slow flu vaccine production                     \n",
       "31054  Cyclical DNA methylation of a transcriptionally active promoter   \n",
       "\n",
       "      Journal Journal Abbreviation ISO  PubYear_y     c5  \\\n",
       "31047  NATURE  Nature                   2008       20.0    \n",
       "31048  NATURE  Nature                   2008       0.0     \n",
       "31050  NATURE  Nature                   2008       133.0   \n",
       "31051  NATURE  Nature                   2008       0.0     \n",
       "31054  NATURE  Nature                   2008       362.0   \n",
       "\n",
       "                                                                                                            stanford_tagger_tags  \\\n",
       "31047  [(FCA, NN), (does, VBZ), (not, RB), (bind, VB), (abscisic, JJ), (acid, NN)]                                                 \n",
       "31048  [(Doping:, NN), (ignorance, NN), (of, IN), (basic, JJ), (statistics, NNS), (is, VBZ), (all, RB), (too, RB), (common, JJ)]   \n",
       "31050  [(Direct, JJ), (control, NN), (of, IN), (paralysed, VBN), (muscles, NNS), (by, IN), (cortical, JJ), (neurons, NNS)]         \n",
       "31051  [(Open, NNP), (debate, NN), (could, MD), (slow, VB), (flu, NN), (vaccine, NN), (production, NN)]                            \n",
       "31054  [(Cyclical, JJ), (DNA, NN), (methylation, NN), (of, IN), (a, DT), (transcriptionally, RB), (active, JJ), (promoter, NN)]    \n",
       "\n",
       "      tag_counts  \n",
       "31047  [2, 2, 1]  \n",
       "31048  [1, 3, 2]  \n",
       "31050  [1, 3, 2]  \n",
       "31051  [1, 5, 0]  \n",
       "31054  [0, 3, 2]  "
      ]
     },
     "execution_count": 9,
     "metadata": {},
     "output_type": "execute_result"
    }
   ],
   "source": [
    "data['tag_counts'] = data['stanford_tagger_tags'].progress_apply(lambda x: pos_counts(x))\n",
    "\n",
    "data.head()"
   ]
  },
  {
   "cell_type": "code",
   "execution_count": 10,
   "metadata": {},
   "outputs": [],
   "source": [
    "data['verb_counts'] = data['tag_counts'].apply(lambda x: x[0])\n",
    "data['noun_counts'] = data['tag_counts'].apply(lambda x: x[1])\n",
    "data['adjective_counts'] = data['tag_counts'].apply(lambda x: x[2])"
   ]
  },
  {
   "cell_type": "code",
   "execution_count": 11,
   "metadata": {},
   "outputs": [
    {
     "data": {
      "text/plain": [
       "array([1, 2, 0, 3, 4, 5, 7, 6, 8])"
      ]
     },
     "execution_count": 11,
     "metadata": {},
     "output_type": "execute_result"
    }
   ],
   "source": [
    "data['adjective_counts'].unique()"
   ]
  },
  {
   "cell_type": "code",
   "execution_count": 12,
   "metadata": {},
   "outputs": [
    {
     "name": "stderr",
     "output_type": "stream",
     "text": [
      "/usr/local/lib/python3.6/dist-packages/IPython/core/display.py:689: UserWarning:\n",
      "\n",
      "Consider using IPython.display.IFrame instead\n",
      "\n"
     ]
    },
    {
     "data": {
      "text/html": [
       "<iframe id=\"igraph\" scrolling=\"no\" style=\"border:none;\" seamless=\"seamless\" src=\"https://plot.ly/~sreejith_s/6.embed\" height=\"525px\" width=\"100%\"></iframe>"
      ],
      "text/plain": [
       "<plotly.tools.PlotlyDisplay object>"
      ]
     },
     "execution_count": 12,
     "metadata": {},
     "output_type": "execute_result"
    }
   ],
   "source": [
    "# How does the over all distribution look like\n",
    "\n",
    "\n",
    "y0 = data['verb_counts']\n",
    "y1 = data['noun_counts']\n",
    "y2 = data['adjective_counts']\n",
    "\n",
    "trace0 = go.Box(\n",
    "    y=y0,\n",
    "    name = \"Verb Counts\"\n",
    ")\n",
    "trace1 = go.Box(\n",
    "    y=y1,\n",
    "    name = \"Noun Counts\"\n",
    ")\n",
    "trace2 = go.Box(\n",
    "    y=y2,\n",
    "    name = \"Adjective Counts\"\n",
    ")\n",
    "\n",
    "data_ = [trace0, trace1, trace2]\n",
    "py.iplot(data_)"
   ]
  },
  {
   "cell_type": "code",
   "execution_count": 28,
   "metadata": {},
   "outputs": [
    {
     "name": "stderr",
     "output_type": "stream",
     "text": [
      "/usr/local/lib/python3.6/dist-packages/IPython/core/display.py:689: UserWarning:\n",
      "\n",
      "Consider using IPython.display.IFrame instead\n",
      "\n"
     ]
    },
    {
     "data": {
      "text/html": [
       "<iframe id=\"igraph\" scrolling=\"no\" style=\"border:none;\" seamless=\"seamless\" src=\"https://plot.ly/~sreejith_s/4.embed\" height=\"525px\" width=\"100%\"></iframe>"
      ],
      "text/plain": [
       "<plotly.tools.PlotlyDisplay object>"
      ]
     },
     "execution_count": 28,
     "metadata": {},
     "output_type": "execute_result"
    }
   ],
   "source": [
    "# Changes in Distributions across the years\n",
    "\n",
    "box_data = [\n",
    "    {\n",
    "        'y': data['verb_counts'],\n",
    "        'x': data['PubYear_x'],\n",
    "        'name':'Verb',\n",
    "        'marker': {\n",
    "            'color': '#3D9970'\n",
    "        },\n",
    "        'boxmean': False,\n",
    "        'orientation': 'v',\n",
    "        \"type\": \"box\",\n",
    "    },\n",
    "    {\n",
    "        'y': data['noun_counts'],\n",
    "        'x': data['PubYear_x'],\n",
    "        'name': 'Noun',\n",
    "        'marker':{\n",
    "            'color': '#FF4136',\n",
    "        },\n",
    "        'boxmean': False,\n",
    "        'orientation': 'v',\n",
    "        \"type\": \"box\",\n",
    "    },\n",
    "    {\n",
    "        'y': data['adjective_counts'],\n",
    "        'x': data['PubYear_x'],\n",
    "        'name':'Adjective',\n",
    "        'marker': {\n",
    "            'color': '#FF851B',\n",
    "        },\n",
    "        'boxmean': False,\n",
    "        'orientation': 'v',\n",
    "        \"type\": \"box\",\n",
    "    }\n",
    "]\n",
    "layout = {\n",
    "    'xaxis': {\n",
    "        'title': 'Year',\n",
    "        'zeroline': False,\n",
    "        'tickvals':list(range(2001,2011))\n",
    "    },\n",
    "    'yaxis' : {\n",
    "        'title': 'Count',\n",
    "        'zeroline': False,\n",
    "        'tickvals':list(range(0,14))\n",
    "    },\n",
    "    'boxmode': 'group',\n",
    "    'title' : 'Yearly variations in POS Distributions'\n",
    "    \n",
    "}\n",
    "fig = go.Figure(data=box_data, layout=layout)\n",
    "\n",
    "py.iplot(fig)"
   ]
  },
  {
   "cell_type": "code",
   "execution_count": 65,
   "metadata": {},
   "outputs": [
    {
     "name": "stderr",
     "output_type": "stream",
     "text": [
      "Progress: 100%|██████████| 11940/11940 [00:00<00:00, 512799.40it/s]\n",
      "Progress: 100%|██████████| 11940/11940 [00:00<00:00, 70658.40it/s]\n"
     ]
    }
   ],
   "source": [
    "data[\"word_count\"] = data[\"Title\"].progress_apply(lambda x: len(x.split()))\n",
    "data['title_without_punct'] = data['Title'].progress_apply(lambda x: \n",
    "                                                           str.lower(''.join(ch for ch in str(x) if category(ch)[0] != 'P')))"
   ]
  },
  {
   "cell_type": "code",
   "execution_count": 66,
   "metadata": {},
   "outputs": [
    {
     "name": "stderr",
     "output_type": "stream",
     "text": [
      "Progress: 100%|██████████| 11940/11940 [00:00<00:00, 474062.76it/s]\n",
      "Progress: 100%|██████████| 11940/11940 [00:00<00:00, 352051.22it/s]\n",
      "Progress: 100%|██████████| 11940/11940 [00:00<00:00, 60087.94it/s]\n"
     ]
    }
   ],
   "source": [
    "data[\"word_count\"] = data[\"Title\"].progress_apply(lambda x: len(x.split()))\n",
    "data['log_c5'] = data['c5'].progress_apply(lambda x: np.log(x+1))\n",
    "data['title_without_punct'] = data['Title'].progress_apply(lambda x: \n",
    "                                                           str.lower(''.join(ch for ch in str(x) if category(ch)[0] != 'P')))\n",
    "\n",
    "data_Yearwise = [data[data.PubYear_x == year] for year in range(2001, 2011)]"
   ]
  },
  {
   "cell_type": "code",
   "execution_count": 82,
   "metadata": {},
   "outputs": [
    {
     "data": {
      "text/plain": [
       "Text(0.5,1,'2009')"
      ]
     },
     "execution_count": 82,
     "metadata": {},
     "output_type": "execute_result"
    },
    {
     "data": {
      "text/plain": [
       "<Figure size 432x288 with 0 Axes>"
      ]
     },
     "metadata": {},
     "output_type": "display_data"
    },
    {
     "data": {
      "image/png": "[encoded data removed]",
      "text/plain": [
       "<Figure size 1296x1296 with 9 Axes>"
      ]
     },
     "metadata": {},
     "output_type": "display_data"
    }
   ],
   "source": [
    "# Average character, word and cleaned title word counts over the years\n",
    "f1 = plt.figure()\n",
    "f1 = plt.figure(figsize=(18,18))\n",
    "\n",
    "\n",
    "ax1 = f1.add_subplot(331)\n",
    "_tmp = data_Yearwise[0]\n",
    "tmp = _tmp.groupby('word_count').size().reset_index(name=\"count\")\n",
    "ax1.bar(tmp['word_count'], \n",
    "         tmp['count'])\n",
    "ax1.set_ylim(ymin=0)\n",
    "ax1.set_xlabel(\"Word Count\")\n",
    "ax1.set_ylabel(\"Number of Documents\")\n",
    "ax1.set_title(\"2001\")\n",
    "\n",
    "ax1 = f1.add_subplot(332)\n",
    "_tmp = data_Yearwise[1]\n",
    "tmp = _tmp.groupby('word_count').size().reset_index(name=\"count\")\n",
    "ax1.bar(tmp['word_count'], \n",
    "         tmp['count'])\n",
    "ax1.set_ylim(ymin=0)\n",
    "ax1.set_xlabel(\"Word Count\")\n",
    "ax1.set_ylabel(\"Number of Documents\")\n",
    "ax1.set_title(\"2002\")\n",
    "\n",
    "\n",
    "ax1 = f1.add_subplot(333)\n",
    "_tmp = data_Yearwise[2]\n",
    "tmp = _tmp.groupby('word_count').size().reset_index(name=\"count\")\n",
    "ax1.bar(tmp['word_count'], \n",
    "         tmp['count'])\n",
    "ax1.set_ylim(ymin=0)\n",
    "ax1.set_xlabel(\"Word Count\")\n",
    "ax1.set_ylabel(\"Number of Documents\")\n",
    "ax1.set_title(\"2003\")\n",
    "\n",
    "\n",
    "ax1 = f1.add_subplot(334)\n",
    "_tmp = data_Yearwise[3]\n",
    "tmp = _tmp.groupby('word_count').size().reset_index(name=\"count\")\n",
    "ax1.bar(tmp['word_count'], \n",
    "         tmp['count'])\n",
    "ax1.set_ylim(ymin=0)\n",
    "ax1.set_xlabel(\"Word Count\")\n",
    "ax1.set_ylabel(\"Number of Documents\")\n",
    "ax1.set_title(\"2004\")\n",
    "\n",
    "\n",
    "ax1 = f1.add_subplot(335)\n",
    "_tmp = data_Yearwise[4]\n",
    "tmp = _tmp.groupby('word_count').size().reset_index(name=\"count\")\n",
    "ax1.bar(tmp['word_count'], \n",
    "         tmp['count'])\n",
    "ax1.set_ylim(ymin=0)\n",
    "ax1.set_xlabel(\"Word Count\")\n",
    "ax1.set_ylabel(\"Number of Documents\")\n",
    "ax1.set_title(\"2005\")\n",
    "\n",
    "\n",
    "ax1 = f1.add_subplot(336)\n",
    "_tmp = data_Yearwise[5]\n",
    "tmp = _tmp.groupby('word_count').size().reset_index(name=\"count\")\n",
    "ax1.bar(tmp['word_count'], \n",
    "         tmp['count'])\n",
    "ax1.set_ylim(ymin=0)\n",
    "ax1.set_xlabel(\"Word Count\")\n",
    "ax1.set_ylabel(\"Number of Documents\")\n",
    "ax1.set_title(\"2006\")\n",
    "\n",
    "\n",
    "ax1 = f1.add_subplot(337)\n",
    "_tmp = data_Yearwise[6]\n",
    "tmp = _tmp.groupby('word_count').size().reset_index(name=\"count\")\n",
    "ax1.bar(tmp['word_count'], \n",
    "         tmp['count'])\n",
    "ax1.set_ylim(ymin=0)\n",
    "ax1.set_xlabel(\"Word Count\")\n",
    "ax1.set_ylabel(\"Number of Documents\")\n",
    "ax1.set_title(\"2007\")\n",
    "\n",
    "\n",
    "ax1 = f1.add_subplot(338)\n",
    "_tmp = data_Yearwise[7]\n",
    "tmp = _tmp.groupby('word_count').size().reset_index(name=\"count\")\n",
    "ax1.bar(tmp['word_count'], \n",
    "         tmp['count'])\n",
    "ax1.set_ylim(ymin=0)\n",
    "ax1.set_xlabel(\"Word Count\")\n",
    "ax1.set_ylabel(\"Number of Documents\")\n",
    "ax1.set_title(\"2008\")\n",
    "\n",
    "\n",
    "ax1 = f1.add_subplot(339)\n",
    "_tmp = data_Yearwise[0]\n",
    "tmp = _tmp.groupby('word_count').size().reset_index(name=\"count\")\n",
    "ax1.bar(tmp['word_count'], \n",
    "         tmp['count'])\n",
    "ax1.set_ylim(ymin=0)\n",
    "ax1.set_xlabel(\"Word Count\")\n",
    "ax1.set_ylabel(\"Number of Documents\")\n",
    "ax1.set_title(\"2009\")\n"
   ]
  },
  {
   "cell_type": "code",
   "execution_count": null,
   "metadata": {},
   "outputs": [],
   "source": []
  }
 ],
 "metadata": {
  "kernelspec": {
   "display_name": "Python 3",
   "language": "python",
   "name": "python3"
  },
  "language_info": {
   "codemirror_mode": {
    "name": "ipython",
    "version": 3
   },
   "file_extension": ".py",
   "mimetype": "text/x-python",
   "name": "python",
   "nbconvert_exporter": "python",
   "pygments_lexer": "ipython3",
   "version": "3.6.7"
  }
 },
 "nbformat": 4,
 "nbformat_minor": 2
}
