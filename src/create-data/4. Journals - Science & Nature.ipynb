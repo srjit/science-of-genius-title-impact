{
 "cells": [
  {
   "cell_type": "code",
   "execution_count": 1,
   "metadata": {},
   "outputs": [],
   "source": [
    "%load_ext autoreload\n",
    "%autoreload 2\n",
    "%matplotlib inline"
   ]
  },
  {
   "cell_type": "code",
   "execution_count": 2,
   "metadata": {},
   "outputs": [],
   "source": [
    "import sys\n",
    "sys.path.insert(0, \"../../code-previous\")\n",
    "sys.path.insert(0, \"../\")"
   ]
  },
  {
   "cell_type": "code",
   "execution_count": 3,
   "metadata": {},
   "outputs": [
    {
     "name": "stderr",
     "output_type": "stream",
     "text": [
      "/usr/lib/python3.6/importlib/_bootstrap.py:219: RuntimeWarning: numpy.dtype size changed, may indicate binary incompatibility. Expected 96, got 88\n",
      "  return f(*args, **kwds)\n"
     ]
    }
   ],
   "source": [
    "import pandas as pd\n",
    "import numpy as np\n",
    "import networkx as nx\n",
    "import sklearn.feature_extraction as skfeatures\n",
    "import utils\n",
    "import time\n",
    "import os\n",
    "\n",
    "from unicodedata import category\n",
    "from tqdm import tqdm\n",
    "#from tqdm import tqdm_notebook as tqdm\n",
    "tqdm.pandas(desc=\"Progress\")\n",
    "\n",
    "import seaborn as sns\n",
    "sns.set_style('white')\n",
    "import matplotlib.pylab as plt\n",
    "\n",
    "import WOSutilities as wosutil\n",
    "\n",
    "path2rawdata = '/mnt/disks/vault/wos2017-parsed/'"
   ]
  },
  {
   "cell_type": "code",
   "execution_count": 4,
   "metadata": {},
   "outputs": [
    {
     "name": "stdout",
     "output_type": "stream",
     "text": [
      "50\n",
      "100\n",
      "150\n",
      "200\n",
      "250\n",
      "300\n",
      "350\n",
      "400\n",
      "450\n",
      "Final DF Shape (39171585, 6)\n"
     ]
    }
   ],
   "source": [
    "# we need to load articles and categories\n",
    "article_df = wosutil.load_wos_data(name = 'article', \n",
    "                                   path2rawdata = path2rawdata,\n",
    "                                   year_list = None, \n",
    "                                   columns = ['ArticleID', 'PubYear', 'Doctypes', 'Title','Journal', 'Journal Abbreviation ISO'], \n",
    "                                   dropna = ['ArticleID', 'PubYear','Title'], \n",
    "                                   duplicate_subset = ['ArticleID'],\n",
    "                                   isindict = {'Doctypes':np.sort(['Article','Letter','Review','Note'])}, \n",
    "                                   verbose = 50)"
   ]
  },
  {
   "cell_type": "code",
   "execution_count": 5,
   "metadata": {},
   "outputs": [
    {
     "data": {
      "text/plain": [
       "Index(['ArticleID', 'PubYear', 'Doctypes', 'Title', 'Journal',\n",
       "       'Journal Abbreviation ISO'],\n",
       "      dtype='object')"
      ]
     },
     "execution_count": 5,
     "metadata": {},
     "output_type": "execute_result"
    }
   ],
   "source": [
    "article_df.columns"
   ]
  },
  {
   "cell_type": "code",
   "execution_count": 6,
   "metadata": {},
   "outputs": [
    {
     "data": {
      "text/plain": [
       "Journal\n",
       "NATURE     160574\n",
       "SCIENCE     89830\n",
       "dtype: int64"
      ]
     },
     "execution_count": 6,
     "metadata": {},
     "output_type": "execute_result"
    }
   ],
   "source": [
    "article_info = article_df[(article_df.Journal == \"NATURE\") |\n",
    "                           (article_df.Journal == \"SCIENCE\")]\n",
    "\n",
    "article_info.groupby(\"Journal\").size()"
   ]
  },
  {
   "cell_type": "code",
   "execution_count": 7,
   "metadata": {},
   "outputs": [],
   "source": [
    "# join with citations data\n",
    "impact_df_path = \"/mnt/disks/vault/analysis-data/impact-c5-data/impact_data_until_2010.pql\"\n",
    "impact_df = pd.read_pickle(impact_df_path)\n",
    "\n",
    "data = None\n",
    "data = article_info.merge(impact_df, \n",
    "                          how = 'inner',\n",
    "                          on = 'ArticleID')"
   ]
  },
  {
   "cell_type": "code",
   "execution_count": 8,
   "metadata": {},
   "outputs": [
    {
     "data": {
      "text/plain": [
       "Journal\n",
       "NATURE     153697\n",
       "SCIENCE     83598\n",
       "dtype: int64"
      ]
     },
     "execution_count": 8,
     "metadata": {},
     "output_type": "execute_result"
    }
   ],
   "source": [
    "data.groupby(\"Journal\").size()"
   ]
  },
  {
   "cell_type": "code",
   "execution_count": 9,
   "metadata": {},
   "outputs": [],
   "source": [
    "data.to_pickle(\"/mnt/disks/vault/analysis-data/nature-science-data-full/nature_science_journal_data.pql\")"
   ]
  },
  {
   "cell_type": "code",
   "execution_count": 15,
   "metadata": {},
   "outputs": [],
   "source": [
    "foo = list(data[\"PubYear_x\"].unique())\n",
    "foo.sort()"
   ]
  },
  {
   "cell_type": "code",
   "execution_count": 16,
   "metadata": {},
   "outputs": [
    {
     "data": {
      "text/html": [
       "<div>\n",
       "<style scoped>\n",
       "    .dataframe tbody tr th:only-of-type {\n",
       "        vertical-align: middle;\n",
       "    }\n",
       "\n",
       "    .dataframe tbody tr th {\n",
       "        vertical-align: top;\n",
       "    }\n",
       "\n",
       "    .dataframe thead th {\n",
       "        text-align: right;\n",
       "    }\n",
       "</style>\n",
       "<table border=\"1\" class=\"dataframe\">\n",
       "  <thead>\n",
       "    <tr style=\"text-align: right;\">\n",
       "      <th></th>\n",
       "      <th>ArticleID</th>\n",
       "      <th>PubYear_x</th>\n",
       "      <th>Doctypes</th>\n",
       "      <th>Title</th>\n",
       "      <th>Journal</th>\n",
       "      <th>Journal Abbreviation ISO</th>\n",
       "      <th>PubYear_y</th>\n",
       "      <th>c5</th>\n",
       "    </tr>\n",
       "  </thead>\n",
       "  <tbody>\n",
       "    <tr>\n",
       "      <th>0</th>\n",
       "      <td>A1981MB41800038</td>\n",
       "      <td>1981</td>\n",
       "      <td>Article</td>\n",
       "      <td>INDEPENDENT CONTROL OF IMMUNOGLOBULIN HEAVY AN...</td>\n",
       "      <td>NATURE</td>\n",
       "      <td>Nature</td>\n",
       "      <td>1981</td>\n",
       "      <td>23.0</td>\n",
       "    </tr>\n",
       "    <tr>\n",
       "      <th>1</th>\n",
       "      <td>A1981MK47400052</td>\n",
       "      <td>1981</td>\n",
       "      <td>Article</td>\n",
       "      <td>DEMETHYLATION OF CPG SITES IN DNA OF EARLY RAB...</td>\n",
       "      <td>NATURE</td>\n",
       "      <td>Nature</td>\n",
       "      <td>1981</td>\n",
       "      <td>14.0</td>\n",
       "    </tr>\n",
       "    <tr>\n",
       "      <th>2</th>\n",
       "      <td>A1981LV58600029</td>\n",
       "      <td>1981</td>\n",
       "      <td>Article</td>\n",
       "      <td>EPIDERMAL GROWTH-FACTOR ENHANCES VIRAL TRANSFO...</td>\n",
       "      <td>SCIENCE</td>\n",
       "      <td>Science</td>\n",
       "      <td>1981</td>\n",
       "      <td>22.0</td>\n",
       "    </tr>\n",
       "    <tr>\n",
       "      <th>3</th>\n",
       "      <td>A1981MT15400002</td>\n",
       "      <td>1981</td>\n",
       "      <td>Letter</td>\n",
       "      <td>THE PEER-REVIEW QUESTION</td>\n",
       "      <td>SCIENCE</td>\n",
       "      <td>Science</td>\n",
       "      <td>1981</td>\n",
       "      <td>0.0</td>\n",
       "    </tr>\n",
       "    <tr>\n",
       "      <th>4</th>\n",
       "      <td>A1981MD87000011</td>\n",
       "      <td>1981</td>\n",
       "      <td>Article</td>\n",
       "      <td>GENETIC-EFFECTS OF THE ATOMIC BOMBS - A REAPPR...</td>\n",
       "      <td>SCIENCE</td>\n",
       "      <td>Science</td>\n",
       "      <td>1981</td>\n",
       "      <td>58.0</td>\n",
       "    </tr>\n",
       "    <tr>\n",
       "      <th>5</th>\n",
       "      <td>000204440900038</td>\n",
       "      <td>1981</td>\n",
       "      <td>Article</td>\n",
       "      <td>Comb-layering in carbonatite dykes</td>\n",
       "      <td>NATURE</td>\n",
       "      <td>Nature</td>\n",
       "      <td>1981</td>\n",
       "      <td>5.0</td>\n",
       "    </tr>\n",
       "    <tr>\n",
       "      <th>6</th>\n",
       "      <td>A1981MJ81600013</td>\n",
       "      <td>1981</td>\n",
       "      <td>Article</td>\n",
       "      <td>RECENT DEVELOPMENTS IN NUCLEAR MAGNETIC-RESONA...</td>\n",
       "      <td>SCIENCE</td>\n",
       "      <td>Science</td>\n",
       "      <td>1981</td>\n",
       "      <td>7.0</td>\n",
       "    </tr>\n",
       "    <tr>\n",
       "      <th>7</th>\n",
       "      <td>A1981LU76700015</td>\n",
       "      <td>1981</td>\n",
       "      <td>Article</td>\n",
       "      <td>PRECAMBRIAN PERSPECTIVES</td>\n",
       "      <td>SCIENCE</td>\n",
       "      <td>Science</td>\n",
       "      <td>1981</td>\n",
       "      <td>21.0</td>\n",
       "    </tr>\n",
       "    <tr>\n",
       "      <th>8</th>\n",
       "      <td>A1981MT99400035</td>\n",
       "      <td>1981</td>\n",
       "      <td>Article</td>\n",
       "      <td>STRUCTURE SENSITIVITY IN THE IRON SINGLE-CRYST...</td>\n",
       "      <td>NATURE</td>\n",
       "      <td>Nature</td>\n",
       "      <td>1981</td>\n",
       "      <td>6.0</td>\n",
       "    </tr>\n",
       "    <tr>\n",
       "      <th>9</th>\n",
       "      <td>A1981LS25500015</td>\n",
       "      <td>1981</td>\n",
       "      <td>Article</td>\n",
       "      <td>IR VARIABILITY OF SS433</td>\n",
       "      <td>NATURE</td>\n",
       "      <td>Nature</td>\n",
       "      <td>1981</td>\n",
       "      <td>4.0</td>\n",
       "    </tr>\n",
       "  </tbody>\n",
       "</table>\n",
       "</div>"
      ],
      "text/plain": [
       "         ArticleID  PubYear_x Doctypes  \\\n",
       "0  A1981MB41800038       1981  Article   \n",
       "1  A1981MK47400052       1981  Article   \n",
       "2  A1981LV58600029       1981  Article   \n",
       "3  A1981MT15400002       1981   Letter   \n",
       "4  A1981MD87000011       1981  Article   \n",
       "5  000204440900038       1981  Article   \n",
       "6  A1981MJ81600013       1981  Article   \n",
       "7  A1981LU76700015       1981  Article   \n",
       "8  A1981MT99400035       1981  Article   \n",
       "9  A1981LS25500015       1981  Article   \n",
       "\n",
       "                                               Title  Journal  \\\n",
       "0  INDEPENDENT CONTROL OF IMMUNOGLOBULIN HEAVY AN...   NATURE   \n",
       "1  DEMETHYLATION OF CPG SITES IN DNA OF EARLY RAB...   NATURE   \n",
       "2  EPIDERMAL GROWTH-FACTOR ENHANCES VIRAL TRANSFO...  SCIENCE   \n",
       "3                           THE PEER-REVIEW QUESTION  SCIENCE   \n",
       "4  GENETIC-EFFECTS OF THE ATOMIC BOMBS - A REAPPR...  SCIENCE   \n",
       "5                 Comb-layering in carbonatite dykes   NATURE   \n",
       "6  RECENT DEVELOPMENTS IN NUCLEAR MAGNETIC-RESONA...  SCIENCE   \n",
       "7                           PRECAMBRIAN PERSPECTIVES  SCIENCE   \n",
       "8  STRUCTURE SENSITIVITY IN THE IRON SINGLE-CRYST...   NATURE   \n",
       "9                            IR VARIABILITY OF SS433   NATURE   \n",
       "\n",
       "  Journal Abbreviation ISO  PubYear_y    c5  \n",
       "0                   Nature       1981  23.0  \n",
       "1                   Nature       1981  14.0  \n",
       "2                  Science       1981  22.0  \n",
       "3                  Science       1981   0.0  \n",
       "4                  Science       1981  58.0  \n",
       "5                   Nature       1981   5.0  \n",
       "6                  Science       1981   7.0  \n",
       "7                  Science       1981  21.0  \n",
       "8                   Nature       1981   6.0  \n",
       "9                   Nature       1981   4.0  "
      ]
     },
     "execution_count": 16,
     "metadata": {},
     "output_type": "execute_result"
    }
   ],
   "source": [
    "data.head(10)"
   ]
  }
 ],
 "metadata": {
  "kernelspec": {
   "display_name": "Python 3",
   "language": "python",
   "name": "python3"
  },
  "language_info": {
   "codemirror_mode": {
    "name": "ipython",
    "version": 3
   },
   "file_extension": ".py",
   "mimetype": "text/x-python",
   "name": "python",
   "nbconvert_exporter": "python",
   "pygments_lexer": "ipython3",
   "version": "3.6.7"
  }
 },
 "nbformat": 4,
 "nbformat_minor": 2
}
