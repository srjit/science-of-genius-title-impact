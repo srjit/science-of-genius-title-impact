{
 "cells": [
  {
   "cell_type": "code",
   "execution_count": 1,
   "metadata": {},
   "outputs": [],
   "source": [
    "import warnings\n",
    "warnings.filterwarnings('ignore')"
   ]
  },
  {
   "cell_type": "code",
   "execution_count": 2,
   "metadata": {},
   "outputs": [],
   "source": [
    "%load_ext autoreload\n",
    "%autoreload 2\n",
    "%matplotlib inline"
   ]
  },
  {
   "cell_type": "code",
   "execution_count": 3,
   "metadata": {},
   "outputs": [],
   "source": [
    "import pandas as pd\n",
    "import numpy as np\n",
    "import operator\n",
    "\n",
    "import peakutils\n",
    "\n",
    "import string\n",
    "import nltk\n",
    "stopwords = nltk.corpus.stopwords.words('english')\n",
    "\n",
    "import operator\n",
    "from collections import Counter\n",
    "import scipy.stats\n",
    "\n",
    "import pickle\n",
    "from sklearn.feature_extraction.text import CountVectorizer\n",
    "\n",
    "import plotly\n",
    "import plotly.plotly as py\n",
    "from plotly import tools\n",
    "\n",
    "import plotly.graph_objs as go\n",
    "plotly.tools.set_credentials_file(username='sreejith_s', api_key='rcet0rTqFCc3WeOzWTjv')\n",
    "\n",
    "from unicodedata import category\n",
    "from tqdm import tqdm\n",
    "tqdm.pandas(desc=\"Progress\")\n",
    "\n",
    "import seaborn as sns\n",
    "sns.set_style('white')\n",
    "import matplotlib.pylab as plt"
   ]
  },
  {
   "cell_type": "code",
   "execution_count": 4,
   "metadata": {},
   "outputs": [],
   "source": [
    "filename = \"/mnt/disks/vault/analysis-data/interdisciplinary-novelty-analysis/corrected-entropy-analysis/word-journey-data.pql\"\n",
    "data_grouped_by_year_label = pd.read_pickle(filename)"
   ]
  },
  {
   "cell_type": "code",
   "execution_count": 5,
   "metadata": {},
   "outputs": [],
   "source": [
    "discipline = \"Biochemistry & Molecular Biology\"\n",
    "input_ = data_grouped_by_year_label[data_grouped_by_year_label.Label == discipline]\n",
    "data_grouped_by_year_label = None"
   ]
  },
  {
   "cell_type": "code",
   "execution_count": 6,
   "metadata": {},
   "outputs": [],
   "source": [
    "vectorizer = CountVectorizer()\n",
    "vectorized_words = vectorizer.fit_transform(input_.title_words)\n",
    "\n",
    "vectorized_wordarray = vectorized_words.toarray()\n",
    "document_frequency = (vectorized_wordarray != 0).sum(0).tolist()\n",
    "document_frequency_log =  [np.log(x) for x in document_frequency]\n",
    "#2. Term Frequency - Number of times in which a word appears in a document\n",
    "term_frequency = vectorized_words.sum(axis=0).reshape(-1,).tolist()[0]\n",
    "term_frequency_log = [np.log(x) for x in term_frequency]"
   ]
  },
  {
   "cell_type": "code",
   "execution_count": 7,
   "metadata": {},
   "outputs": [
    {
     "data": {
      "text/plain": [
       "(117, 311198)"
      ]
     },
     "execution_count": 7,
     "metadata": {},
     "output_type": "execute_result"
    }
   ],
   "source": [
    "vectorized_wordarray.shape"
   ]
  },
  {
   "cell_type": "code",
   "execution_count": 8,
   "metadata": {},
   "outputs": [
    {
     "name": "stderr",
     "output_type": "stream",
     "text": [
      "Progress: 100%|██████████| 117/117 [00:00<00:00, 2746.98it/s]\n",
      "Progress: 100%|██████████| 117/117 [00:02<00:00, 51.43it/s]\n"
     ]
    }
   ],
   "source": [
    "input_[\"number_of_pubs\"] = input_[\"title_without_stopwords\"].progress_apply(lambda x: len(x))\n",
    "input_[\"word_count\"] = input_[\"title_words\"].progress_apply(lambda x: len(x.split()))"
   ]
  },
  {
   "cell_type": "code",
   "execution_count": 9,
   "metadata": {},
   "outputs": [
    {
     "data": {
      "text/html": [
       "<div>\n",
       "<style scoped>\n",
       "    .dataframe tbody tr th:only-of-type {\n",
       "        vertical-align: middle;\n",
       "    }\n",
       "\n",
       "    .dataframe tbody tr th {\n",
       "        vertical-align: top;\n",
       "    }\n",
       "\n",
       "    .dataframe thead th {\n",
       "        text-align: right;\n",
       "    }\n",
       "</style>\n",
       "<table border=\"1\" class=\"dataframe\">\n",
       "  <thead>\n",
       "    <tr style=\"text-align: right;\">\n",
       "      <th></th>\n",
       "      <th>index</th>\n",
       "      <th>Label</th>\n",
       "      <th>PubYear</th>\n",
       "      <th>title_without_stopwords</th>\n",
       "      <th>cleaned_titles</th>\n",
       "      <th>title_words_</th>\n",
       "      <th>title_words</th>\n",
       "      <th>number_of_pubs</th>\n",
       "      <th>word_count</th>\n",
       "    </tr>\n",
       "  </thead>\n",
       "  <tbody>\n",
       "    <tr>\n",
       "      <th>1625</th>\n",
       "      <td>1625</td>\n",
       "      <td>Biochemistry &amp; Molecular Biology</td>\n",
       "      <td>1900</td>\n",
       "      <td>[remarks previous essay ivar bang , remarks pr...</td>\n",
       "      <td>[remarks nucleothistone , concerning sulphur e...</td>\n",
       "      <td>remarks nucleothistone  concerning sulphur exc...</td>\n",
       "      <td>remarks nucleothistone concerning sulphur excr...</td>\n",
       "      <td>178</td>\n",
       "      <td>463</td>\n",
       "    </tr>\n",
       "    <tr>\n",
       "      <th>1626</th>\n",
       "      <td>1626</td>\n",
       "      <td>Biochemistry &amp; Molecular Biology</td>\n",
       "      <td>1901</td>\n",
       "      <td>[proteolytic enzyme thymus , proteolytic enzym...</td>\n",
       "      <td>[de contamination toxins means superoxide  wel...</td>\n",
       "      <td>de contamination toxins means superoxide  well...</td>\n",
       "      <td>de contamination toxins means superoxide well ...</td>\n",
       "      <td>226</td>\n",
       "      <td>576</td>\n",
       "    </tr>\n",
       "    <tr>\n",
       "      <th>1627</th>\n",
       "      <td>1627</td>\n",
       "      <td>Biochemistry &amp; Molecular Biology</td>\n",
       "      <td>1902</td>\n",
       "      <td>[effect erepsin chyle toxins abrin , effect er...</td>\n",
       "      <td>[representation crystallised urinary albumose ...</td>\n",
       "      <td>representation crystallised urinary albumose  ...</td>\n",
       "      <td>representation crystallised urinary albumose e...</td>\n",
       "      <td>244</td>\n",
       "      <td>628</td>\n",
       "    </tr>\n",
       "    <tr>\n",
       "      <th>1628</th>\n",
       "      <td>1628</td>\n",
       "      <td>Biochemistry &amp; Molecular Biology</td>\n",
       "      <td>1903</td>\n",
       "      <td>[lecithiane significance living cells , lecith...</td>\n",
       "      <td>[quantitative determination beta oxibutanoic a...</td>\n",
       "      <td>quantitative determination beta oxibutanoic ac...</td>\n",
       "      <td>quantitative determination beta oxibutanoic ac...</td>\n",
       "      <td>318</td>\n",
       "      <td>859</td>\n",
       "    </tr>\n",
       "    <tr>\n",
       "      <th>1629</th>\n",
       "      <td>1629</td>\n",
       "      <td>Biochemistry &amp; Molecular Biology</td>\n",
       "      <td>1904</td>\n",
       "      <td>[response vahlen , response vahlen , pharmacol...</td>\n",
       "      <td>[application reducible dyes study distribution...</td>\n",
       "      <td>application reducible dyes study distribution ...</td>\n",
       "      <td>application reducible dyes study distribution ...</td>\n",
       "      <td>312</td>\n",
       "      <td>844</td>\n",
       "    </tr>\n",
       "  </tbody>\n",
       "</table>\n",
       "</div>"
      ],
      "text/plain": [
       "      index                             Label  PubYear  \\\n",
       "1625   1625  Biochemistry & Molecular Biology     1900   \n",
       "1626   1626  Biochemistry & Molecular Biology     1901   \n",
       "1627   1627  Biochemistry & Molecular Biology     1902   \n",
       "1628   1628  Biochemistry & Molecular Biology     1903   \n",
       "1629   1629  Biochemistry & Molecular Biology     1904   \n",
       "\n",
       "                                title_without_stopwords  \\\n",
       "1625  [remarks previous essay ivar bang , remarks pr...   \n",
       "1626  [proteolytic enzyme thymus , proteolytic enzym...   \n",
       "1627  [effect erepsin chyle toxins abrin , effect er...   \n",
       "1628  [lecithiane significance living cells , lecith...   \n",
       "1629  [response vahlen , response vahlen , pharmacol...   \n",
       "\n",
       "                                         cleaned_titles  \\\n",
       "1625  [remarks nucleothistone , concerning sulphur e...   \n",
       "1626  [de contamination toxins means superoxide  wel...   \n",
       "1627  [representation crystallised urinary albumose ...   \n",
       "1628  [quantitative determination beta oxibutanoic a...   \n",
       "1629  [application reducible dyes study distribution...   \n",
       "\n",
       "                                           title_words_  \\\n",
       "1625  remarks nucleothistone  concerning sulphur exc...   \n",
       "1626  de contamination toxins means superoxide  well...   \n",
       "1627  representation crystallised urinary albumose  ...   \n",
       "1628  quantitative determination beta oxibutanoic ac...   \n",
       "1629  application reducible dyes study distribution ...   \n",
       "\n",
       "                                            title_words  number_of_pubs  \\\n",
       "1625  remarks nucleothistone concerning sulphur excr...             178   \n",
       "1626  de contamination toxins means superoxide well ...             226   \n",
       "1627  representation crystallised urinary albumose e...             244   \n",
       "1628  quantitative determination beta oxibutanoic ac...             318   \n",
       "1629  application reducible dyes study distribution ...             312   \n",
       "\n",
       "      word_count  \n",
       "1625         463  \n",
       "1626         576  \n",
       "1627         628  \n",
       "1628         859  \n",
       "1629         844  "
      ]
     },
     "execution_count": 9,
     "metadata": {},
     "output_type": "execute_result"
    }
   ],
   "source": [
    "input_.head()"
   ]
  },
  {
   "cell_type": "code",
   "execution_count": 10,
   "metadata": {},
   "outputs": [],
   "source": [
    "count_matrix = vectorized_words.toarray()\n",
    "\n",
    "uniques = []\n",
    "counts = []\n",
    "\n",
    "for i in range(count_matrix.shape[0]):\n",
    "    unique_, counts_tmp = np.unique(count_matrix[i:i+1,:], return_counts=True)    \n",
    "    counts_ = list(map(np.log, counts_tmp))\n",
    "    uniques.append(unique_)\n",
    "    counts.append(counts_)"
   ]
  },
  {
   "cell_type": "code",
   "execution_count": 11,
   "metadata": {},
   "outputs": [
    {
     "name": "stderr",
     "output_type": "stream",
     "text": [
      "100%|██████████| 116/116 [00:07<00:00,  6.76it/s]\n"
     ]
    }
   ],
   "source": [
    "yearly_word_frequency_variations = []\n",
    "avg_variations_for_freq = []\n",
    "\n",
    "for index in tqdm(range(vectorized_wordarray.shape[0] - 1)):\n",
    "    \n",
    "    # take two consecutive years\n",
    "    tmp_ = vectorized_wordarray[index:index+2]\n",
    "    \n",
    "    #unique counts for the first year\n",
    "    unique_counts = np.unique(tmp_[0]) \n",
    "    \n",
    "    yearly_avg_variations_for_freq = {}\n",
    "    word_freq_variations = []\n",
    "    \n",
    "    word_freq_variations.append(tmp_[1] - tmp_[0])\n",
    "    \n",
    "    yearly_word_frequency_variations.append(word_freq_variations)\n",
    "    \n",
    "    for uniq in unique_counts:\n",
    "        # find the indices where the value == uniq\n",
    "        indices, = np.where(tmp_[0] == uniq)\n",
    "        \n",
    "        # find the values in the next year where those indices are\n",
    "        # variations of words with that `uniq` count\n",
    "        transition_values = tmp_[1][indices]\n",
    "        variations = transition_values - uniq\n",
    "        \n",
    "        # mean variation of words with that `uniq` count\n",
    "        mean_variation = np.mean(variations)\n",
    "        \n",
    "        # make a list of mean variations\n",
    "        yearly_avg_variations_for_freq[uniq] = round(mean_variation, 3)\n",
    "    \n",
    "    avg_variations_for_freq.append(yearly_avg_variations_for_freq)"
   ]
  },
  {
   "cell_type": "code",
   "execution_count": 12,
   "metadata": {},
   "outputs": [
    {
     "data": {
      "text/plain": [
       "116"
      ]
     },
     "execution_count": 12,
     "metadata": {},
     "output_type": "execute_result"
    }
   ],
   "source": [
    "len(yearly_word_frequency_variations)"
   ]
  },
  {
   "cell_type": "code",
   "execution_count": 68,
   "metadata": {},
   "outputs": [
    {
     "name": "stdout",
     "output_type": "stream",
     "text": [
      "3153 words with 3 counts\n",
      "[1.35219339e-02 2.05146501e-04 7.53638291e-08 3.82095585e+18\n",
      " 3.77887085e-06 1.56989123e-09 3.36151015e-11 7.33586914e-13\n",
      " 3.63060862e-16 8.18821074e-18 1.62333768e-14 5.18538600e-26\n",
      " 9.73987771e-23 4.24548600e-21 2.24345879e-24 1.85927102e-19\n",
      " 8.33023490e-36]\n",
      "0.32548837847493506 -1.1906556467476935e-28 3.7208081874404177\n"
     ]
    },
    {
     "data": {
      "image/png": "[encoded data removed]",
      "text/plain": [
       "<Figure size 504x360 with 1 Axes>"
      ]
     },
     "metadata": {},
     "output_type": "display_data"
    }
   ],
   "source": [
    "K = 3\n",
    "f = plt.figure(figsize=(7,5))\n",
    "\n",
    "\n",
    "year = 2010\n",
    "N = 111\n",
    "freq_current = list(vectorized_wordarray[N:N+1,:][0])\n",
    "freq_next = list(vectorized_wordarray[N+1:N+2,:][0])\n",
    "indices = [i for i, x in enumerate(freq_current) if x == K]\n",
    "print(str(len(indices)) + \" words with \" + str(K) + \" counts\")\n",
    "change_in_values = [freq_next[i] for i in indices]\n",
    "\n",
    "#----- the subtraction part had to be removed for fitting the gamma distribution -----#\n",
    "\n",
    "#variations = [j - K for j in change_in_values]\n",
    "variations = change_in_values\n",
    "sum_ = sum(dict(Counter(variations)).values())\n",
    "\n",
    "\n",
    "# Observed Values\n",
    "from collections import Counter\n",
    "X = [x for (x,y) in dict(Counter(variations)).items()]\n",
    "Y = [float(y)/sum_ for x,y in dict(Counter(variations)).items()]  \n",
    "ax = f.add_subplot(111)\n",
    "ax.scatter(X, Y, alpha=0.4)\n",
    "ax.set_xlabel(\"Variation\")\n",
    "ax.set_ylabel(\"Probability\")\n",
    "ax.set_title(str(year) + \" - Word Variations in \" + discipline)\n",
    "\n",
    "\n",
    "\n",
    "#### Trying the Gamma Fit here\n",
    "shape, loc, scale = scipy.stats.gamma.fit(variations)\n",
    "ax.set_ylim(0.0, 0.5)\n",
    "ax.scatter(X, scipy.stats.gamma.pdf(X, a=shape, scale=scale, loc=loc), alpha=0.4)\n",
    "\n",
    "### Problem :  \n",
    "print(scipy.stats.gamma.pdf(X, a=shape, scale=1/scale, loc=loc))\n",
    "print(shape, loc, scale)\n",
    "\n",
    "## calculating the SSQ\n",
    "#ssq0=((yfit0-ydata)**2).sum()\n"
   ]
  },
  {
   "cell_type": "markdown",
   "metadata": {},
   "source": [
    "__Checking if the data came from a gamma distribution__"
   ]
  },
  {
   "cell_type": "code",
   "execution_count": 52,
   "metadata": {},
   "outputs": [
    {
     "data": {
      "text/plain": [
       "dict_items([(1, 676), (2, 586), (4, 290), (0, 590), (3, 456), (5, 204), (6, 123), (7, 85), (9, 36), (10, 21), (8, 57), (15, 3), (13, 4), (12, 7), (14, 2), (11, 11), (21, 2)])"
      ]
     },
     "execution_count": 52,
     "metadata": {},
     "output_type": "execute_result"
    }
   ],
   "source": [
    "Counter(variations).items()"
   ]
  },
  {
   "cell_type": "code",
   "execution_count": 140,
   "metadata": {},
   "outputs": [
    {
     "name": "stdout",
     "output_type": "stream",
     "text": [
      "5.0805857240193895 100.95195373488944 21.710935567662858\n"
     ]
    },
    {
     "data": {
      "text/plain": [
       "Text(0,0.5,'Probability')"
      ]
     },
     "execution_count": 140,
     "metadata": {},
     "output_type": "execute_result"
    },
    {
     "data": {
      "image/png": "[encoded data removed]",
      "text/plain": [
       "<Figure size 432x360 with 1 Axes>"
      ]
     },
     "metadata": {},
     "output_type": "display_data"
    }
   ],
   "source": [
    "#  Example\n",
    "# ---------\n",
    "import scipy.stats as stats    \n",
    "alpha = 5\n",
    "loc = 100.5\n",
    "beta = 22\n",
    "\n",
    "# generate gamma data\n",
    "data = stats.gamma.rvs(alpha, loc=loc, scale=beta, size=10000)    \n",
    "shape, loc, scale =stats.gamma.fit(data)\n",
    "print(shape, loc, scale)\n",
    "\n",
    "from collections import Counter\n",
    "counts = Counter(list(map(lambda x: round(x, 0), data))).items()\n",
    "\n",
    "Xdata = [x for (x, y) in counts]\n",
    "Y2 = [y for (x, y) in counts]\n",
    "Ydata = [y/sum(Y2) for y in Y2]\n",
    "\n",
    "f = plt.figure(figsize=(6,5))\n",
    "ax = f.add_subplot(111)\n",
    "\n",
    "ax.scatter(Xdata, Ydata, alpha=0.4)\n",
    "ax.scatter(Xdata, scipy.stats.gamma.pdf(Xdata, a=shape, scale=scale, loc=loc), alpha=0.4)\n",
    "ax.set_ylabel(\"Probability\")\n",
    "\n"
   ]
  },
  {
   "cell_type": "code",
   "execution_count": 40,
   "metadata": {},
   "outputs": [
    {
     "data": {
      "text/plain": [
       "21"
      ]
     },
     "execution_count": 40,
     "metadata": {},
     "output_type": "execute_result"
    }
   ],
   "source": [
    "max(change_in_values)"
   ]
  },
  {
   "cell_type": "code",
   "execution_count": 27,
   "metadata": {},
   "outputs": [],
   "source": [
    "# sum of squares for the metric\n",
    "# https://stackoverflow.com/questions/23004374/how-to-calculate-the-likelihood-of-curve-fitting-in-scipy\n",
    "\n",
    "# https://stackoverflow.com/questions/31359017/how-to-get-error-estimates-for-fit-parameters-in-scipy-stats-gamma-fit\n",
    "\n",
    "# Fitting a poisson - https://stackoverflow.com/questions/25828184/fitting-to-poisson-histogram\n"
   ]
  }
 ],
 "metadata": {
  "kernelspec": {
   "display_name": "Python 3",
   "language": "python",
   "name": "python3"
  },
  "language_info": {
   "codemirror_mode": {
    "name": "ipython",
    "version": 3
   },
   "file_extension": ".py",
   "mimetype": "text/x-python",
   "name": "python",
   "nbconvert_exporter": "python",
   "pygments_lexer": "ipython3",
   "version": "3.6.7"
  }
 },
 "nbformat": 4,
 "nbformat_minor": 2
}
