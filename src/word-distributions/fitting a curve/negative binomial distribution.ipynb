{
 "cells": [
  {
   "cell_type": "code",
   "execution_count": 1,
   "metadata": {},
   "outputs": [],
   "source": [
    "import warnings\n",
    "warnings.filterwarnings('ignore')"
   ]
  },
  {
   "cell_type": "code",
   "execution_count": 2,
   "metadata": {},
   "outputs": [],
   "source": [
    "%load_ext autoreload\n",
    "%autoreload 2\n",
    "%matplotlib inline"
   ]
  },
  {
   "cell_type": "code",
   "execution_count": 5,
   "metadata": {},
   "outputs": [
    {
     "name": "stdout",
     "output_type": "stream",
     "text": [
      "Optimization terminated successfully.\n",
      "         Current function value: 3.782846\n",
      "         Iterations: 6\n",
      "         Function evaluations: 7\n",
      "         Gradient evaluations: 7\n"
     ]
    }
   ],
   "source": [
    "import numpy as np\n",
    "from scipy import stats\n",
    "import statsmodels.api as sm\n",
    "from statsmodels.discrete.discrete_model import NegativeBinomial, Poisson, Logit\n",
    "from collections import Counter\n",
    "\n",
    "# generate some data to check\n",
    "nobs = 1000\n",
    "n, p = 10, 0.25\n",
    "dist0 = stats.nbinom(n, p)\n",
    "y = dist0.rvs(size=nobs)\n",
    "x = np.ones(nobs)\n",
    "\n",
    "loglike_method = 'nb2'  # or use 'nb2'\n",
    "model = NegativeBinomial(y, x, loglike_method=loglike_method)\n",
    "res = model.fit()"
   ]
  },
  {
   "cell_type": "code",
   "execution_count": 12,
   "metadata": {},
   "outputs": [],
   "source": [
    "d = dict(Counter(y))\n",
    "items = d.items()\n",
    "\n",
    "sum_ = sum(d.values())\n",
    "\n",
    "X_ = [x for (x,y) in items]\n",
    "Y_ = [y/sum_ for (x,y) in items]"
   ]
  },
  {
   "cell_type": "code",
   "execution_count": 6,
   "metadata": {},
   "outputs": [
    {
     "name": "stdout",
     "output_type": "stream",
     "text": [
      "data generating parameters 10 0.25\n",
      "estimated params           9.45307025674002 0.24280310271968653\n"
     ]
    }
   ],
   "source": [
    "mu = res.predict()   # use this for mean if not constant\n",
    "mu = np.exp(res.params[0])   # shortcut, regress on a constant\n",
    "alpha = res.params[1]\n",
    "\n",
    "if loglike_method == 'nb1':\n",
    "    Q = 1\n",
    "elif loglike_method == 'nb2':    \n",
    "    Q = 0\n",
    "\n",
    "size = 1. / alpha * mu**Q\n",
    "prob = size / (size + mu)\n",
    "\n",
    "print('data generating parameters', n, p)\n",
    "print('estimated params          ', size, prob)\n",
    "\n",
    "#estimated distribution\n",
    "dist_est = stats.nbinom(size, prob)"
   ]
  },
  {
   "cell_type": "code",
   "execution_count": 15,
   "metadata": {},
   "outputs": [],
   "source": [
    "import scipy\n",
    "k = 1\n",
    "\n",
    "# Y = []\n",
    "# for k in range(21):\n",
    "#     binomial = scipy.stats.binom.pmf(k, size, prob)\n",
    "#     Y.append(binomial)\n",
    "\n",
    "Ynb = []\n",
    "for k in sorted(X_):\n",
    "    binomial = scipy.stats.binom.pmf(k, size, prob)\n",
    "    Ynb.append(binomial)"
   ]
  },
  {
   "cell_type": "code",
   "execution_count": 34,
   "metadata": {},
   "outputs": [
    {
     "data": {
      "text/plain": [
       "[32,\n",
       " 25,\n",
       " 26,\n",
       " 23,\n",
       " 28,\n",
       " 31,\n",
       " 33,\n",
       " 12,\n",
       " 27,\n",
       " 22,\n",
       " 20,\n",
       " 34,\n",
       " 52,\n",
       " 36,\n",
       " 51,\n",
       " 14,\n",
       " 18,\n",
       " 30,\n",
       " 21,\n",
       " 41,\n",
       " 17,\n",
       " 42,\n",
       " 61,\n",
       " 19,\n",
       " 87,\n",
       " 16,\n",
       " 24,\n",
       " 60,\n",
       " 29,\n",
       " 43,\n",
       " 44,\n",
       " 15,\n",
       " 46,\n",
       " 40,\n",
       " 2,\n",
       " 38,\n",
       " 39,\n",
       " 10,\n",
       " 35,\n",
       " 37,\n",
       " 45,\n",
       " 49,\n",
       " 84,\n",
       " 9,\n",
       " 50,\n",
       " 48,\n",
       " 54,\n",
       " 53,\n",
       " 13,\n",
       " 47,\n",
       " 6,\n",
       " 55,\n",
       " 71,\n",
       " 11,\n",
       " 57,\n",
       " 59,\n",
       " 56,\n",
       " 8,\n",
       " 62,\n",
       " 5]"
      ]
     },
     "execution_count": 34,
     "metadata": {},
     "output_type": "execute_result"
    }
   ],
   "source": [
    "X_"
   ]
  },
  {
   "cell_type": "code",
   "execution_count": 36,
   "metadata": {},
   "outputs": [],
   "source": [
    "Ynb = [dist_est.pmf(k) for k in sorted(X_)]"
   ]
  },
  {
   "cell_type": "code",
   "execution_count": 37,
   "metadata": {},
   "outputs": [
    {
     "data": {
      "text/plain": [
       "<matplotlib.collections.PathCollection at 0x7f62ea033710>"
      ]
     },
     "execution_count": 37,
     "metadata": {},
     "output_type": "execute_result"
    },
    {
     "data": {
      "image/png": "[encoded data removed]",
      "text/plain": [
       "<Figure size 432x288 with 1 Axes>"
      ]
     },
     "metadata": {
      "needs_background": "light"
     },
     "output_type": "display_data"
    }
   ],
   "source": [
    "import matplotlib.pyplot as plt\n",
    "X = list(range(21))\n",
    "plt.figure()\n",
    "plt.scatter(X_, Y_)\n",
    "plt.scatter(sorted(X_), Ynb)"
   ]
  },
  {
   "cell_type": "code",
   "execution_count": 23,
   "metadata": {},
   "outputs": [
    {
     "data": {
      "text/plain": [
       "<matplotlib.collections.PathCollection at 0x7f62e9e85b70>"
      ]
     },
     "execution_count": 23,
     "metadata": {},
     "output_type": "execute_result"
    },
    {
     "data": {
      "image/png": "[encoded data removed]",
      "text/plain": [
       "<Figure size 432x288 with 1 Axes>"
      ]
     },
     "metadata": {
      "needs_background": "light"
     },
     "output_type": "display_data"
    }
   ],
   "source": [
    "import matplotlib.pyplot as plt\n",
    "X = list(range(21))\n",
    "plt.figure()\n",
    "plt.scatter(X, Y)\n",
    "#plt.scatter(X_, Y_nb)"
   ]
  },
  {
   "cell_type": "code",
   "execution_count": 9,
   "metadata": {},
   "outputs": [
    {
     "data": {
      "text/plain": [
       "Counter({14: 14,\n",
       "         50: 9,\n",
       "         10: 9,\n",
       "         26: 41,\n",
       "         12: 6,\n",
       "         39: 20,\n",
       "         44: 12,\n",
       "         30: 34,\n",
       "         42: 22,\n",
       "         46: 10,\n",
       "         53: 9,\n",
       "         24: 46,\n",
       "         57: 4,\n",
       "         27: 34,\n",
       "         31: 37,\n",
       "         29: 34,\n",
       "         23: 46,\n",
       "         52: 7,\n",
       "         16: 21,\n",
       "         20: 26,\n",
       "         11: 5,\n",
       "         33: 38,\n",
       "         34: 32,\n",
       "         22: 36,\n",
       "         69: 3,\n",
       "         21: 27,\n",
       "         51: 5,\n",
       "         18: 25,\n",
       "         19: 30,\n",
       "         32: 29,\n",
       "         64: 1,\n",
       "         17: 17,\n",
       "         25: 44,\n",
       "         35: 24,\n",
       "         45: 16,\n",
       "         38: 24,\n",
       "         28: 36,\n",
       "         40: 15,\n",
       "         13: 9,\n",
       "         47: 11,\n",
       "         49: 8,\n",
       "         9: 7,\n",
       "         15: 10,\n",
       "         36: 21,\n",
       "         43: 15,\n",
       "         48: 10,\n",
       "         41: 14,\n",
       "         60: 2,\n",
       "         5: 2,\n",
       "         66: 1,\n",
       "         37: 30,\n",
       "         54: 2,\n",
       "         72: 1,\n",
       "         7: 2,\n",
       "         68: 2,\n",
       "         56: 3,\n",
       "         61: 1,\n",
       "         55: 1})"
      ]
     },
     "execution_count": 9,
     "metadata": {},
     "output_type": "execute_result"
    }
   ],
   "source": [
    "from collections import Counter\n",
    "Counter(y)"
   ]
  },
  {
   "cell_type": "code",
   "execution_count": 10,
   "metadata": {},
   "outputs": [],
   "source": [
    "# find the PMF\n",
    "\n",
    "from scipy.special import gamma\n",
    "\n",
    "\n",
    "n = size\n",
    "\n",
    "def pmf(x):\n",
    "    \n",
    "    '''\n",
    "    Γ(x+n)/(Γ(n) x!) p^n (1-p)^x\n",
    "    '''\n",
    "    try:\n",
    "        op = ((gamma(x+n))/(gamma(n) * math.factorial(x))) * ((prob)**n) * ((1 - prob)**x)\n",
    "    except:\n",
    "        import ipdb\n",
    "        ipdb.set_trace()\n",
    "    return op\n",
    "    \n",
    "    "
   ]
  },
  {
   "cell_type": "code",
   "execution_count": 11,
   "metadata": {},
   "outputs": [],
   "source": [
    "from collections import Counter\n",
    "\n",
    "d = dict(Counter(y))\n",
    "f = d.keys()"
   ]
  },
  {
   "cell_type": "code",
   "execution_count": 12,
   "metadata": {},
   "outputs": [
    {
     "name": "stdout",
     "output_type": "stream",
     "text": [
      "> \u001b[0;32m<ipython-input-10-7aa432532573>\u001b[0m(18)\u001b[0;36mpmf\u001b[0;34m()\u001b[0m\n",
      "\u001b[0;32m     17 \u001b[0;31m        \u001b[0mipdb\u001b[0m\u001b[0;34m.\u001b[0m\u001b[0mset_trace\u001b[0m\u001b[0;34m(\u001b[0m\u001b[0;34m)\u001b[0m\u001b[0;34m\u001b[0m\u001b[0;34m\u001b[0m\u001b[0m\n",
      "\u001b[0m\u001b[0;32m---> 18 \u001b[0;31m    \u001b[0;32mreturn\u001b[0m \u001b[0mop\u001b[0m\u001b[0;34m\u001b[0m\u001b[0;34m\u001b[0m\u001b[0m\n",
      "\u001b[0m\u001b[0;32m     19 \u001b[0;31m\u001b[0;34m\u001b[0m\u001b[0m\n",
      "\u001b[0m\n",
      "ipdb> x\n",
      "14\n",
      "ipdb> n\n",
      "UnboundLocalError: local variable 'op' referenced before assignment\n",
      "> \u001b[0;32m<ipython-input-10-7aa432532573>\u001b[0m(18)\u001b[0;36mpmf\u001b[0;34m()\u001b[0m\n",
      "\u001b[0;32m     17 \u001b[0;31m        \u001b[0mipdb\u001b[0m\u001b[0;34m.\u001b[0m\u001b[0mset_trace\u001b[0m\u001b[0;34m(\u001b[0m\u001b[0;34m)\u001b[0m\u001b[0;34m\u001b[0m\u001b[0;34m\u001b[0m\u001b[0m\n",
      "\u001b[0m\u001b[0;32m---> 18 \u001b[0;31m    \u001b[0;32mreturn\u001b[0m \u001b[0mop\u001b[0m\u001b[0;34m\u001b[0m\u001b[0;34m\u001b[0m\u001b[0m\n",
      "\u001b[0m\u001b[0;32m     19 \u001b[0;31m\u001b[0;34m\u001b[0m\u001b[0m\n",
      "\u001b[0m\n",
      "ipdb> !n\n",
      "10.254419393882543\n",
      "ipdb> !gamma(x+n)\n",
      "5.779960876690595e+22\n",
      "ipdb> q\n"
     ]
    },
    {
     "ename": "BdbQuit",
     "evalue": "",
     "output_type": "error",
     "traceback": [
      "\u001b[0;31m---------------------------------------------------------------------------\u001b[0m",
      "\u001b[0;31mBdbQuit\u001b[0m                                   Traceback (most recent call last)",
      "\u001b[0;32m<ipython-input-12-c917725c1f2f>\u001b[0m in \u001b[0;36m<module>\u001b[0;34m\u001b[0m\n\u001b[0;32m----> 1\u001b[0;31m \u001b[0mY_\u001b[0m \u001b[0;34m=\u001b[0m \u001b[0;34m[\u001b[0m\u001b[0mpmf\u001b[0m\u001b[0;34m(\u001b[0m\u001b[0mkey\u001b[0m\u001b[0;34m)\u001b[0m \u001b[0;32mfor\u001b[0m \u001b[0mkey\u001b[0m \u001b[0;32min\u001b[0m \u001b[0mf\u001b[0m\u001b[0;34m]\u001b[0m\u001b[0;34m\u001b[0m\u001b[0;34m\u001b[0m\u001b[0m\n\u001b[0m",
      "\u001b[0;32m<ipython-input-12-c917725c1f2f>\u001b[0m in \u001b[0;36m<listcomp>\u001b[0;34m(.0)\u001b[0m\n\u001b[0;32m----> 1\u001b[0;31m \u001b[0mY_\u001b[0m \u001b[0;34m=\u001b[0m \u001b[0;34m[\u001b[0m\u001b[0mpmf\u001b[0m\u001b[0;34m(\u001b[0m\u001b[0mkey\u001b[0m\u001b[0;34m)\u001b[0m \u001b[0;32mfor\u001b[0m \u001b[0mkey\u001b[0m \u001b[0;32min\u001b[0m \u001b[0mf\u001b[0m\u001b[0;34m]\u001b[0m\u001b[0;34m\u001b[0m\u001b[0;34m\u001b[0m\u001b[0m\n\u001b[0m",
      "\u001b[0;32m<ipython-input-10-7aa432532573>\u001b[0m in \u001b[0;36mpmf\u001b[0;34m(x)\u001b[0m\n\u001b[1;32m     16\u001b[0m         \u001b[0;32mimport\u001b[0m \u001b[0mipdb\u001b[0m\u001b[0;34m\u001b[0m\u001b[0;34m\u001b[0m\u001b[0m\n\u001b[1;32m     17\u001b[0m         \u001b[0mipdb\u001b[0m\u001b[0;34m.\u001b[0m\u001b[0mset_trace\u001b[0m\u001b[0;34m(\u001b[0m\u001b[0;34m)\u001b[0m\u001b[0;34m\u001b[0m\u001b[0;34m\u001b[0m\u001b[0m\n\u001b[0;32m---> 18\u001b[0;31m     \u001b[0;32mreturn\u001b[0m \u001b[0mop\u001b[0m\u001b[0;34m\u001b[0m\u001b[0;34m\u001b[0m\u001b[0m\n\u001b[0m\u001b[1;32m     19\u001b[0m \u001b[0;34m\u001b[0m\u001b[0m\n\u001b[1;32m     20\u001b[0m \u001b[0;34m\u001b[0m\u001b[0m\n",
      "\u001b[0;32m/usr/lib/python3.6/bdb.py\u001b[0m in \u001b[0;36mtrace_dispatch\u001b[0;34m(self, frame, event, arg)\u001b[0m\n\u001b[1;32m     55\u001b[0m             \u001b[0;32mreturn\u001b[0m \u001b[0mself\u001b[0m\u001b[0;34m.\u001b[0m\u001b[0mdispatch_return\u001b[0m\u001b[0;34m(\u001b[0m\u001b[0mframe\u001b[0m\u001b[0;34m,\u001b[0m \u001b[0marg\u001b[0m\u001b[0;34m)\u001b[0m\u001b[0;34m\u001b[0m\u001b[0;34m\u001b[0m\u001b[0m\n\u001b[1;32m     56\u001b[0m         \u001b[0;32mif\u001b[0m \u001b[0mevent\u001b[0m \u001b[0;34m==\u001b[0m \u001b[0;34m'exception'\u001b[0m\u001b[0;34m:\u001b[0m\u001b[0;34m\u001b[0m\u001b[0;34m\u001b[0m\u001b[0m\n\u001b[0;32m---> 57\u001b[0;31m             \u001b[0;32mreturn\u001b[0m \u001b[0mself\u001b[0m\u001b[0;34m.\u001b[0m\u001b[0mdispatch_exception\u001b[0m\u001b[0;34m(\u001b[0m\u001b[0mframe\u001b[0m\u001b[0;34m,\u001b[0m \u001b[0marg\u001b[0m\u001b[0;34m)\u001b[0m\u001b[0;34m\u001b[0m\u001b[0;34m\u001b[0m\u001b[0m\n\u001b[0m\u001b[1;32m     58\u001b[0m         \u001b[0;32mif\u001b[0m \u001b[0mevent\u001b[0m \u001b[0;34m==\u001b[0m \u001b[0;34m'c_call'\u001b[0m\u001b[0;34m:\u001b[0m\u001b[0;34m\u001b[0m\u001b[0;34m\u001b[0m\u001b[0m\n\u001b[1;32m     59\u001b[0m             \u001b[0;32mreturn\u001b[0m \u001b[0mself\u001b[0m\u001b[0;34m.\u001b[0m\u001b[0mtrace_dispatch\u001b[0m\u001b[0;34m\u001b[0m\u001b[0;34m\u001b[0m\u001b[0m\n",
      "\u001b[0;32m/usr/lib/python3.6/bdb.py\u001b[0m in \u001b[0;36mdispatch_exception\u001b[0;34m(self, frame, arg)\u001b[0m\n\u001b[1;32m    111\u001b[0m                     and arg[0] is StopIteration and arg[2] is None):\n\u001b[1;32m    112\u001b[0m                 \u001b[0mself\u001b[0m\u001b[0;34m.\u001b[0m\u001b[0muser_exception\u001b[0m\u001b[0;34m(\u001b[0m\u001b[0mframe\u001b[0m\u001b[0;34m,\u001b[0m \u001b[0marg\u001b[0m\u001b[0;34m)\u001b[0m\u001b[0;34m\u001b[0m\u001b[0;34m\u001b[0m\u001b[0m\n\u001b[0;32m--> 113\u001b[0;31m                 \u001b[0;32mif\u001b[0m \u001b[0mself\u001b[0m\u001b[0;34m.\u001b[0m\u001b[0mquitting\u001b[0m\u001b[0;34m:\u001b[0m \u001b[0;32mraise\u001b[0m \u001b[0mBdbQuit\u001b[0m\u001b[0;34m\u001b[0m\u001b[0;34m\u001b[0m\u001b[0m\n\u001b[0m\u001b[1;32m    114\u001b[0m         \u001b[0;31m# Stop at the StopIteration or GeneratorExit exception when the user\u001b[0m\u001b[0;34m\u001b[0m\u001b[0;34m\u001b[0m\u001b[0;34m\u001b[0m\u001b[0m\n\u001b[1;32m    115\u001b[0m         \u001b[0;31m# has set stopframe in a generator by issuing a return command, or a\u001b[0m\u001b[0;34m\u001b[0m\u001b[0;34m\u001b[0m\u001b[0;34m\u001b[0m\u001b[0m\n",
      "\u001b[0;31mBdbQuit\u001b[0m: "
     ]
    }
   ],
   "source": [
    "Y_ = [pmf(key) for key in f]"
   ]
  },
  {
   "cell_type": "code",
   "execution_count": null,
   "metadata": {},
   "outputs": [],
   "source": []
  }
 ],
 "metadata": {
  "kernelspec": {
   "display_name": "Python 3",
   "language": "python",
   "name": "python3"
  },
  "language_info": {
   "codemirror_mode": {
    "name": "ipython",
    "version": 3
   },
   "file_extension": ".py",
   "mimetype": "text/x-python",
   "name": "python",
   "nbconvert_exporter": "python",
   "pygments_lexer": "ipython3",
   "version": "3.6.7"
  }
 },
 "nbformat": 4,
 "nbformat_minor": 2
}
