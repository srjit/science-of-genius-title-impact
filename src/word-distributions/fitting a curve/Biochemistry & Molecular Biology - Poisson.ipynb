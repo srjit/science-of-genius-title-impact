{
 "cells": [
  {
   "cell_type": "code",
   "execution_count": 1,
   "metadata": {},
   "outputs": [],
   "source": [
    "import warnings\n",
    "warnings.filterwarnings('ignore')"
   ]
  },
  {
   "cell_type": "code",
   "execution_count": 2,
   "metadata": {},
   "outputs": [],
   "source": [
    "%load_ext autoreload\n",
    "%autoreload 2\n",
    "%matplotlib inline"
   ]
  },
  {
   "cell_type": "code",
   "execution_count": 3,
   "metadata": {},
   "outputs": [],
   "source": [
    "import pandas as pd\n",
    "import numpy as np\n",
    "import operator\n",
    "\n",
    "import peakutils\n",
    "\n",
    "import string\n",
    "import nltk\n",
    "stopwords = nltk.corpus.stopwords.words('english')\n",
    "\n",
    "import operator\n",
    "from collections import Counter\n",
    "\n",
    "import scipy.stats\n",
    "from scipy.optimize import curve_fit\n",
    "from scipy.misc import factorial\n",
    "\n",
    "import pickle\n",
    "from sklearn.feature_extraction.text import CountVectorizer\n",
    "\n",
    "import plotly\n",
    "import plotly.plotly as py\n",
    "from plotly import tools\n",
    "\n",
    "import plotly.graph_objs as go\n",
    "plotly.tools.set_credentials_file(username='sreejith_s', api_key='rcet0rTqFCc3WeOzWTjv')\n",
    "\n",
    "from unicodedata import category\n",
    "from tqdm import tqdm\n",
    "tqdm.pandas(desc=\"Progress\")\n",
    "\n",
    "import seaborn as sns\n",
    "sns.set_style('white')\n",
    "import matplotlib.pylab as plt"
   ]
  },
  {
   "cell_type": "code",
   "execution_count": 4,
   "metadata": {},
   "outputs": [],
   "source": [
    "filename = \"/mnt/disks/vault/analysis-data/interdisciplinary-novelty-analysis/corrected-entropy-analysis/word-journey-data.pql\"\n",
    "data_grouped_by_year_label = pd.read_pickle(filename)"
   ]
  },
  {
   "cell_type": "code",
   "execution_count": 5,
   "metadata": {},
   "outputs": [],
   "source": [
    "discipline = \"Biochemistry & Molecular Biology\"\n",
    "input_ = data_grouped_by_year_label[data_grouped_by_year_label.Label == discipline]\n",
    "data_grouped_by_year_label = None"
   ]
  },
  {
   "cell_type": "code",
   "execution_count": 6,
   "metadata": {},
   "outputs": [],
   "source": [
    "vectorizer = CountVectorizer()\n",
    "vectorized_words = vectorizer.fit_transform(input_.title_words)\n",
    "\n",
    "vectorized_wordarray = vectorized_words.toarray()\n",
    "document_frequency = (vectorized_wordarray != 0).sum(0).tolist()\n",
    "document_frequency_log =  [np.log(x) for x in document_frequency]\n",
    "#2. Term Frequency - Number of times in which a word appears in a document\n",
    "term_frequency = vectorized_words.sum(axis=0).reshape(-1,).tolist()[0]\n",
    "term_frequency_log = [np.log(x) for x in term_frequency]"
   ]
  },
  {
   "cell_type": "code",
   "execution_count": 7,
   "metadata": {},
   "outputs": [
    {
     "data": {
      "text/plain": [
       "(117, 311198)"
      ]
     },
     "execution_count": 7,
     "metadata": {},
     "output_type": "execute_result"
    }
   ],
   "source": [
    "vectorized_wordarray.shape"
   ]
  },
  {
   "cell_type": "code",
   "execution_count": 8,
   "metadata": {},
   "outputs": [
    {
     "name": "stderr",
     "output_type": "stream",
     "text": [
      "Progress: 100%|██████████| 117/117 [00:00<00:00, 4389.43it/s]\n",
      "Progress: 100%|██████████| 117/117 [00:02<00:00, 50.05it/s]\n"
     ]
    }
   ],
   "source": [
    "input_[\"number_of_pubs\"] = input_[\"title_without_stopwords\"].progress_apply(lambda x: len(x))\n",
    "input_[\"word_count\"] = input_[\"title_words\"].progress_apply(lambda x: len(x.split()))"
   ]
  },
  {
   "cell_type": "code",
   "execution_count": 9,
   "metadata": {},
   "outputs": [
    {
     "data": {
      "text/html": [
       "<div>\n",
       "<style scoped>\n",
       "    .dataframe tbody tr th:only-of-type {\n",
       "        vertical-align: middle;\n",
       "    }\n",
       "\n",
       "    .dataframe tbody tr th {\n",
       "        vertical-align: top;\n",
       "    }\n",
       "\n",
       "    .dataframe thead th {\n",
       "        text-align: right;\n",
       "    }\n",
       "</style>\n",
       "<table border=\"1\" class=\"dataframe\">\n",
       "  <thead>\n",
       "    <tr style=\"text-align: right;\">\n",
       "      <th></th>\n",
       "      <th>index</th>\n",
       "      <th>Label</th>\n",
       "      <th>PubYear</th>\n",
       "      <th>title_without_stopwords</th>\n",
       "      <th>cleaned_titles</th>\n",
       "      <th>title_words_</th>\n",
       "      <th>title_words</th>\n",
       "      <th>number_of_pubs</th>\n",
       "      <th>word_count</th>\n",
       "    </tr>\n",
       "  </thead>\n",
       "  <tbody>\n",
       "    <tr>\n",
       "      <th>1625</th>\n",
       "      <td>1625</td>\n",
       "      <td>Biochemistry &amp; Molecular Biology</td>\n",
       "      <td>1900</td>\n",
       "      <td>[remarks previous essay ivar bang , remarks pr...</td>\n",
       "      <td>[remarks nucleothistone , concerning sulphur e...</td>\n",
       "      <td>remarks nucleothistone  concerning sulphur exc...</td>\n",
       "      <td>remarks nucleothistone concerning sulphur excr...</td>\n",
       "      <td>178</td>\n",
       "      <td>463</td>\n",
       "    </tr>\n",
       "    <tr>\n",
       "      <th>1626</th>\n",
       "      <td>1626</td>\n",
       "      <td>Biochemistry &amp; Molecular Biology</td>\n",
       "      <td>1901</td>\n",
       "      <td>[proteolytic enzyme thymus , proteolytic enzym...</td>\n",
       "      <td>[de contamination toxins means superoxide  wel...</td>\n",
       "      <td>de contamination toxins means superoxide  well...</td>\n",
       "      <td>de contamination toxins means superoxide well ...</td>\n",
       "      <td>226</td>\n",
       "      <td>576</td>\n",
       "    </tr>\n",
       "    <tr>\n",
       "      <th>1627</th>\n",
       "      <td>1627</td>\n",
       "      <td>Biochemistry &amp; Molecular Biology</td>\n",
       "      <td>1902</td>\n",
       "      <td>[effect erepsin chyle toxins abrin , effect er...</td>\n",
       "      <td>[representation crystallised urinary albumose ...</td>\n",
       "      <td>representation crystallised urinary albumose  ...</td>\n",
       "      <td>representation crystallised urinary albumose e...</td>\n",
       "      <td>244</td>\n",
       "      <td>628</td>\n",
       "    </tr>\n",
       "    <tr>\n",
       "      <th>1628</th>\n",
       "      <td>1628</td>\n",
       "      <td>Biochemistry &amp; Molecular Biology</td>\n",
       "      <td>1903</td>\n",
       "      <td>[lecithiane significance living cells , lecith...</td>\n",
       "      <td>[quantitative determination beta oxibutanoic a...</td>\n",
       "      <td>quantitative determination beta oxibutanoic ac...</td>\n",
       "      <td>quantitative determination beta oxibutanoic ac...</td>\n",
       "      <td>318</td>\n",
       "      <td>859</td>\n",
       "    </tr>\n",
       "    <tr>\n",
       "      <th>1629</th>\n",
       "      <td>1629</td>\n",
       "      <td>Biochemistry &amp; Molecular Biology</td>\n",
       "      <td>1904</td>\n",
       "      <td>[response vahlen , response vahlen , pharmacol...</td>\n",
       "      <td>[application reducible dyes study distribution...</td>\n",
       "      <td>application reducible dyes study distribution ...</td>\n",
       "      <td>application reducible dyes study distribution ...</td>\n",
       "      <td>312</td>\n",
       "      <td>844</td>\n",
       "    </tr>\n",
       "  </tbody>\n",
       "</table>\n",
       "</div>"
      ],
      "text/plain": [
       "      index                             Label  PubYear  \\\n",
       "1625   1625  Biochemistry & Molecular Biology     1900   \n",
       "1626   1626  Biochemistry & Molecular Biology     1901   \n",
       "1627   1627  Biochemistry & Molecular Biology     1902   \n",
       "1628   1628  Biochemistry & Molecular Biology     1903   \n",
       "1629   1629  Biochemistry & Molecular Biology     1904   \n",
       "\n",
       "                                title_without_stopwords  \\\n",
       "1625  [remarks previous essay ivar bang , remarks pr...   \n",
       "1626  [proteolytic enzyme thymus , proteolytic enzym...   \n",
       "1627  [effect erepsin chyle toxins abrin , effect er...   \n",
       "1628  [lecithiane significance living cells , lecith...   \n",
       "1629  [response vahlen , response vahlen , pharmacol...   \n",
       "\n",
       "                                         cleaned_titles  \\\n",
       "1625  [remarks nucleothistone , concerning sulphur e...   \n",
       "1626  [de contamination toxins means superoxide  wel...   \n",
       "1627  [representation crystallised urinary albumose ...   \n",
       "1628  [quantitative determination beta oxibutanoic a...   \n",
       "1629  [application reducible dyes study distribution...   \n",
       "\n",
       "                                           title_words_  \\\n",
       "1625  remarks nucleothistone  concerning sulphur exc...   \n",
       "1626  de contamination toxins means superoxide  well...   \n",
       "1627  representation crystallised urinary albumose  ...   \n",
       "1628  quantitative determination beta oxibutanoic ac...   \n",
       "1629  application reducible dyes study distribution ...   \n",
       "\n",
       "                                            title_words  number_of_pubs  \\\n",
       "1625  remarks nucleothistone concerning sulphur excr...             178   \n",
       "1626  de contamination toxins means superoxide well ...             226   \n",
       "1627  representation crystallised urinary albumose e...             244   \n",
       "1628  quantitative determination beta oxibutanoic ac...             318   \n",
       "1629  application reducible dyes study distribution ...             312   \n",
       "\n",
       "      word_count  \n",
       "1625         463  \n",
       "1626         576  \n",
       "1627         628  \n",
       "1628         859  \n",
       "1629         844  "
      ]
     },
     "execution_count": 9,
     "metadata": {},
     "output_type": "execute_result"
    }
   ],
   "source": [
    "input_.head()"
   ]
  },
  {
   "cell_type": "code",
   "execution_count": 10,
   "metadata": {},
   "outputs": [],
   "source": [
    "count_matrix = vectorized_words.toarray()\n",
    "\n",
    "uniques = []\n",
    "counts = []\n",
    "\n",
    "for i in range(count_matrix.shape[0]):\n",
    "    unique_, counts_tmp = np.unique(count_matrix[i:i+1,:], return_counts=True)    \n",
    "    counts_ = list(map(np.log, counts_tmp))\n",
    "    uniques.append(unique_)\n",
    "    counts.append(counts_)"
   ]
  },
  {
   "cell_type": "code",
   "execution_count": 11,
   "metadata": {},
   "outputs": [
    {
     "name": "stderr",
     "output_type": "stream",
     "text": [
      "100%|██████████| 116/116 [00:07<00:00,  6.39it/s]\n"
     ]
    }
   ],
   "source": [
    "yearly_word_frequency_variations = []\n",
    "avg_variations_for_freq = []\n",
    "\n",
    "for index in tqdm(range(vectorized_wordarray.shape[0] - 1)):\n",
    "    \n",
    "    # take two consecutive years\n",
    "    tmp_ = vectorized_wordarray[index:index+2]\n",
    "    \n",
    "    #unique counts for the first year\n",
    "    unique_counts = np.unique(tmp_[0]) \n",
    "    \n",
    "    yearly_avg_variations_for_freq = {}\n",
    "    word_freq_variations = []\n",
    "    \n",
    "    word_freq_variations.append(tmp_[1] - tmp_[0])\n",
    "    \n",
    "    yearly_word_frequency_variations.append(word_freq_variations)\n",
    "    \n",
    "    for uniq in unique_counts:\n",
    "        # find the indices where the value == uniq\n",
    "        indices, = np.where(tmp_[0] == uniq)\n",
    "        \n",
    "        # find the values in the next year where those indices are\n",
    "        # variations of words with that `uniq` count\n",
    "        transition_values = tmp_[1][indices]\n",
    "        variations = transition_values - uniq\n",
    "        \n",
    "        # mean variation of words with that `uniq` count\n",
    "        mean_variation = np.mean(variations)\n",
    "        \n",
    "        # make a list of mean variations\n",
    "        yearly_avg_variations_for_freq[uniq] = round(mean_variation, 3)\n",
    "    \n",
    "    avg_variations_for_freq.append(yearly_avg_variations_for_freq)"
   ]
  },
  {
   "cell_type": "code",
   "execution_count": 12,
   "metadata": {},
   "outputs": [
    {
     "data": {
      "text/plain": [
       "116"
      ]
     },
     "execution_count": 12,
     "metadata": {},
     "output_type": "execute_result"
    }
   ],
   "source": [
    "len(yearly_word_frequency_variations)"
   ]
  },
  {
   "cell_type": "markdown",
   "metadata": {},
   "source": [
    "__YEAR : 2010__"
   ]
  },
  {
   "cell_type": "code",
   "execution_count": 13,
   "metadata": {},
   "outputs": [
    {
     "name": "stdout",
     "output_type": "stream",
     "text": [
      "3153 words with 3 counts\n",
      "0.016915101230750292\n",
      "0.02505383742501507\n"
     ]
    },
    {
     "data": {
      "image/png": "[encoded data removed]",
      "text/plain": [
       "<Figure size 432x360 with 1 Axes>"
      ]
     },
     "metadata": {},
     "output_type": "display_data"
    }
   ],
   "source": [
    "K = 3\n",
    "year = 2010\n",
    "f = plt.figure(figsize=(6,5))\n",
    "N = 111\n",
    "freq_current = list(vectorized_wordarray[N:N+1,:][0])\n",
    "freq_next = list(vectorized_wordarray[N+1:N+2,:][0])\n",
    "indices = [i for i, x in enumerate(freq_current) if x == K]\n",
    "print(str(len(indices)) + \" words with \" + str(K) + \" counts\")\n",
    "change_in_values = [freq_next[i] for i in indices]\n",
    "variations = [j - K for j in change_in_values]\n",
    "sum_ = sum(dict(Counter(variations)).values())\n",
    "from collections import Counter\n",
    "X = [x+K for x,y in dict(Counter(variations)).items()]\n",
    "Y = [float(y)/sum_ for x,y in dict(Counter(variations)).items()]  \n",
    "ax = f.add_subplot(111)\n",
    "ax.scatter(X, Y, alpha=1)\n",
    "ax.set_xlabel(\"Variation\")\n",
    "ax.set_ylabel(\"Probability\")\n",
    "ax.set_title(str(year) + \" - Word Variations in \" + discipline)\n",
    "\n",
    "\n",
    "##. Fitting the poisson distribution\n",
    "def poisson(k, lamb):\n",
    "    return (lamb**k/factorial(k)) * np.exp(-lamb)\n",
    "\n",
    "parameters, cov_matrix = curve_fit(poisson, X, Y)\n",
    "plt.scatter(X, poisson(X, *parameters), alpha=0.4)\n",
    "\n",
    "\n",
    "y_fit0 = poisson(X, *parameters)\n",
    "ssq0=((y_fit0 - Y)**2).sum()\n",
    "print(ssq0)\n",
    "\n",
    "##. Fitting the distribution by our own values of k and lambda\n",
    "lam = np.mean(change_in_values)\n",
    "Y_poiss = list(map(lambda x: poisson(x, lam), X))\n",
    "plt.scatter(X, Y_poiss, alpha=0.5)\n",
    "\n",
    "ssq1 = ((np.array(Y_poiss) - np.array(Y))**2).sum()\n",
    "print(ssq1)"
   ]
  },
  {
   "cell_type": "code",
   "execution_count": 14,
   "metadata": {},
   "outputs": [
    {
     "name": "stdout",
     "output_type": "stream",
     "text": [
      "Optimization terminated successfully.\n",
      "         Current function value: 2.268145\n",
      "         Iterations 1\n",
      "                          Poisson Regression Results                          \n",
      "==============================================================================\n",
      "Dep. Variable:                      y   No. Observations:                 3153\n",
      "Model:                        Poisson   Df Residuals:                     3152\n",
      "Method:                           MLE   Df Model:                            0\n",
      "Date:                Wed, 12 Jun 2019   Pseudo R-squ.:                   0.000\n",
      "Time:                        14:49:20   Log-Likelihood:                -7151.5\n",
      "converged:                       True   LL-Null:                       -7151.5\n",
      "                                        LLR p-value:                       nan\n",
      "==============================================================================\n",
      "                 coef    std err          z      P>|z|      [0.025      0.975]\n",
      "------------------------------------------------------------------------------\n",
      "const          0.9424      0.011     84.769      0.000       0.921       0.964\n",
      "==============================================================================\n"
     ]
    }
   ],
   "source": [
    "# fitting using stats poisson\n",
    "\n",
    "# https://stackoverflow.com/questions/24452594/fitting-a-poisson-distribution-to-data-in-statsmodels\n",
    "from statsmodels.discrete.discrete_model import NegativeBinomial, Poisson, Logit\n",
    "\n",
    "poissonModel = Poisson(change_in_values,np.ones_like(change_in_values))\n",
    "poissonRes = poissonModel.fit()\n",
    "print(poissonRes.summary())"
   ]
  },
  {
   "cell_type": "code",
   "execution_count": 30,
   "metadata": {},
   "outputs": [
    {
     "data": {
      "text/plain": [
       "2.5661274976213133"
      ]
     },
     "execution_count": 30,
     "metadata": {},
     "output_type": "execute_result"
    }
   ],
   "source": [
    "lambda_ = np.exp(poissonRes.params[0])\n",
    "lambda_"
   ]
  },
  {
   "cell_type": "code",
   "execution_count": 31,
   "metadata": {},
   "outputs": [
    {
     "data": {
      "text/plain": [
       "-7151.461171388913"
      ]
     },
     "execution_count": 31,
     "metadata": {},
     "output_type": "execute_result"
    }
   ],
   "source": [
    "poissonModel.loglike(poissonRes.params)"
   ]
  },
  {
   "cell_type": "code",
   "execution_count": 32,
   "metadata": {},
   "outputs": [
    {
     "data": {
      "text/plain": [
       "<matplotlib.collections.PathCollection at 0x7f774d43e160>"
      ]
     },
     "execution_count": 32,
     "metadata": {},
     "output_type": "execute_result"
    },
    {
     "data": {
      "image/png": "[encoded data removed]",
      "text/plain": [
       "<Figure size 432x288 with 1 Axes>"
      ]
     },
     "metadata": {},
     "output_type": "display_data"
    }
   ],
   "source": [
    "Y_poiss = list(map(lambda x: poisson(x, lambda_), X))\n",
    "\n",
    "plt.scatter(X, Y, alpha=0.5)\n",
    "plt.scatter(X, Y_poiss, alpha=0.5)"
   ]
  },
  {
   "cell_type": "code",
   "execution_count": 33,
   "metadata": {},
   "outputs": [
    {
     "name": "stdout",
     "output_type": "stream",
     "text": [
      "Optimization terminated successfully.\n",
      "         Current function value: 2.074493\n",
      "         Iterations: 6\n",
      "         Function evaluations: 7\n",
      "         Gradient evaluations: 7\n",
      "                     NegativeBinomial Regression Results                      \n",
      "==============================================================================\n",
      "Dep. Variable:                      y   No. Observations:                 3153\n",
      "Model:               NegativeBinomial   Df Residuals:                     3152\n",
      "Method:                           MLE   Df Model:                            0\n",
      "Date:                Wed, 12 Jun 2019   Pseudo R-squ.:               9.650e-12\n",
      "Time:                        00:30:39   Log-Likelihood:                -6540.9\n",
      "converged:                       True   LL-Null:                       -6540.9\n",
      "                                        LLR p-value:                       nan\n",
      "==============================================================================\n",
      "                 coef    std err          z      P>|z|      [0.025      0.975]\n",
      "------------------------------------------------------------------------------\n",
      "const          0.9424      0.017     56.714      0.000       0.910       0.975\n",
      "alpha          0.4809      0.024     20.164      0.000       0.434       0.528\n",
      "==============================================================================\n"
     ]
    }
   ],
   "source": [
    "# https://stackoverflow.com/questions/23816522/fitting-negative-binomial-in-python\n",
    "nb = NegativeBinomial(change_in_values,np.ones_like(change_in_values))\n",
    "negBinomialRes = nb.fit()\n",
    "print(negBinomialRes.summary())"
   ]
  },
  {
   "cell_type": "code",
   "execution_count": 34,
   "metadata": {},
   "outputs": [
    {
     "data": {
      "text/plain": [
       "-6540.875515121359"
      ]
     },
     "execution_count": 34,
     "metadata": {},
     "output_type": "execute_result"
    }
   ],
   "source": [
    "nb.loglike(negBinomialRes.params)"
   ]
  },
  {
   "cell_type": "markdown",
   "metadata": {},
   "source": [
    "_Ratio of log likelihood_"
   ]
  },
  {
   "cell_type": "code",
   "execution_count": 28,
   "metadata": {},
   "outputs": [
    {
     "ename": "ValueError",
     "evalue": "shapes (3153,1) and (2,) not aligned: 1 (dim 1) != 2 (dim 0)",
     "output_type": "error",
     "traceback": [
      "\u001b[0;31m---------------------------------------------------------------------------\u001b[0m",
      "\u001b[0;31mValueError\u001b[0m                                Traceback (most recent call last)",
      "\u001b[0;32m<ipython-input-28-ad0768eb4fa6>\u001b[0m in \u001b[0;36m<module>\u001b[0;34m\u001b[0m\n\u001b[0;32m----> 1\u001b[0;31m \u001b[0mpoisson_loglikelihood\u001b[0m \u001b[0;34m=\u001b[0m \u001b[0mpoissonModel\u001b[0m\u001b[0;34m.\u001b[0m\u001b[0mloglike\u001b[0m\u001b[0;34m(\u001b[0m\u001b[0mres\u001b[0m\u001b[0;34m.\u001b[0m\u001b[0mparams\u001b[0m\u001b[0;34m)\u001b[0m\u001b[0;34m\u001b[0m\u001b[0;34m\u001b[0m\u001b[0m\n\u001b[0m\u001b[1;32m      2\u001b[0m \u001b[0mneg_binomial_loglikelihood\u001b[0m \u001b[0;34m=\u001b[0m \u001b[0mnb\u001b[0m\u001b[0;34m.\u001b[0m\u001b[0mloglike\u001b[0m\u001b[0;34m(\u001b[0m\u001b[0mres\u001b[0m\u001b[0;34m.\u001b[0m\u001b[0mparams\u001b[0m\u001b[0;34m)\u001b[0m\u001b[0;34m\u001b[0m\u001b[0;34m\u001b[0m\u001b[0m\n\u001b[1;32m      3\u001b[0m \u001b[0;34m\u001b[0m\u001b[0m\n\u001b[1;32m      4\u001b[0m \u001b[0;31m# Ratio of log likelihood\u001b[0m\u001b[0;34m\u001b[0m\u001b[0;34m\u001b[0m\u001b[0;34m\u001b[0m\u001b[0m\n\u001b[1;32m      5\u001b[0m \u001b[0mpoisson_loglikelihood\u001b[0m\u001b[0;34m\u001b[0m\u001b[0;34m\u001b[0m\u001b[0m\n",
      "\u001b[0;32m/usr/local/lib/python3.6/dist-packages/statsmodels/discrete/discrete_model.py\u001b[0m in \u001b[0;36mloglike\u001b[0;34m(self, params)\u001b[0m\n\u001b[1;32m    980\u001b[0m         \u001b[0moffset\u001b[0m \u001b[0;34m=\u001b[0m \u001b[0mgetattr\u001b[0m\u001b[0;34m(\u001b[0m\u001b[0mself\u001b[0m\u001b[0;34m,\u001b[0m \u001b[0;34m\"offset\"\u001b[0m\u001b[0;34m,\u001b[0m \u001b[0;36m0\u001b[0m\u001b[0;34m)\u001b[0m\u001b[0;34m\u001b[0m\u001b[0;34m\u001b[0m\u001b[0m\n\u001b[1;32m    981\u001b[0m         \u001b[0mexposure\u001b[0m \u001b[0;34m=\u001b[0m \u001b[0mgetattr\u001b[0m\u001b[0;34m(\u001b[0m\u001b[0mself\u001b[0m\u001b[0;34m,\u001b[0m \u001b[0;34m\"exposure\"\u001b[0m\u001b[0;34m,\u001b[0m \u001b[0;36m0\u001b[0m\u001b[0;34m)\u001b[0m\u001b[0;34m\u001b[0m\u001b[0;34m\u001b[0m\u001b[0m\n\u001b[0;32m--> 982\u001b[0;31m         \u001b[0mXB\u001b[0m \u001b[0;34m=\u001b[0m \u001b[0mnp\u001b[0m\u001b[0;34m.\u001b[0m\u001b[0mdot\u001b[0m\u001b[0;34m(\u001b[0m\u001b[0mself\u001b[0m\u001b[0;34m.\u001b[0m\u001b[0mexog\u001b[0m\u001b[0;34m,\u001b[0m \u001b[0mparams\u001b[0m\u001b[0;34m)\u001b[0m \u001b[0;34m+\u001b[0m \u001b[0moffset\u001b[0m \u001b[0;34m+\u001b[0m \u001b[0mexposure\u001b[0m\u001b[0;34m\u001b[0m\u001b[0;34m\u001b[0m\u001b[0m\n\u001b[0m\u001b[1;32m    983\u001b[0m         \u001b[0mendog\u001b[0m \u001b[0;34m=\u001b[0m \u001b[0mself\u001b[0m\u001b[0;34m.\u001b[0m\u001b[0mendog\u001b[0m\u001b[0;34m\u001b[0m\u001b[0;34m\u001b[0m\u001b[0m\n\u001b[1;32m    984\u001b[0m         \u001b[0;32mreturn\u001b[0m \u001b[0mnp\u001b[0m\u001b[0;34m.\u001b[0m\u001b[0msum\u001b[0m\u001b[0;34m(\u001b[0m\u001b[0;34m-\u001b[0m\u001b[0mnp\u001b[0m\u001b[0;34m.\u001b[0m\u001b[0mexp\u001b[0m\u001b[0;34m(\u001b[0m\u001b[0mXB\u001b[0m\u001b[0;34m)\u001b[0m \u001b[0;34m+\u001b[0m  \u001b[0mendog\u001b[0m\u001b[0;34m*\u001b[0m\u001b[0mXB\u001b[0m \u001b[0;34m-\u001b[0m \u001b[0mgammaln\u001b[0m\u001b[0;34m(\u001b[0m\u001b[0mendog\u001b[0m\u001b[0;34m+\u001b[0m\u001b[0;36m1\u001b[0m\u001b[0;34m)\u001b[0m\u001b[0;34m)\u001b[0m\u001b[0;34m\u001b[0m\u001b[0;34m\u001b[0m\u001b[0m\n",
      "\u001b[0;31mValueError\u001b[0m: shapes (3153,1) and (2,) not aligned: 1 (dim 1) != 2 (dim 0)"
     ]
    }
   ],
   "source": [
    "poisson_loglikelihood = poissonModel.loglike(res.params)\n",
    "neg_binomial_loglikelihood = nb.loglike(res.params)\n",
    "\n",
    "# Ratio of log likelihood\n",
    "poisson_loglikelihood"
   ]
  },
  {
   "cell_type": "code",
   "execution_count": null,
   "metadata": {},
   "outputs": [],
   "source": []
  }
 ],
 "metadata": {
  "kernelspec": {
   "display_name": "Python 3",
   "language": "python",
   "name": "python3"
  },
  "language_info": {
   "codemirror_mode": {
    "name": "ipython",
    "version": 3
   },
   "file_extension": ".py",
   "mimetype": "text/x-python",
   "name": "python",
   "nbconvert_exporter": "python",
   "pygments_lexer": "ipython3",
   "version": "3.6.7"
  }
 },
 "nbformat": 4,
 "nbformat_minor": 2
}
