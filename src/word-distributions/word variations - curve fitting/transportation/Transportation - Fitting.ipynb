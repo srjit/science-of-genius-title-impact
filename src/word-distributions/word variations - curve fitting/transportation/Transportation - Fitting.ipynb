{
 "cells": [
  {
   "cell_type": "code",
   "execution_count": 1,
   "metadata": {},
   "outputs": [],
   "source": [
    "import warnings\n",
    "warnings.filterwarnings('ignore')"
   ]
  },
  {
   "cell_type": "code",
   "execution_count": 2,
   "metadata": {},
   "outputs": [],
   "source": [
    "%load_ext autoreload\n",
    "%autoreload 2\n",
    "%matplotlib inline"
   ]
  },
  {
   "cell_type": "code",
   "execution_count": 3,
   "metadata": {},
   "outputs": [],
   "source": [
    "import pandas as pd\n",
    "import numpy as np\n",
    "import operator\n",
    "\n",
    "import peakutils\n",
    "\n",
    "import string\n",
    "import nltk\n",
    "stopwords = nltk.corpus.stopwords.words('english')\n",
    "\n",
    "import operator\n",
    "from collections import Counter\n",
    "\n",
    "import scipy.stats\n",
    "from scipy.optimize import curve_fit\n",
    "from scipy.misc import factorial\n",
    "\n",
    "import pickle\n",
    "from sklearn.feature_extraction.text import CountVectorizer\n",
    "\n",
    "from statsmodels.discrete.discrete_model import NegativeBinomial, Poisson, Logit\n",
    "from scipy.stats import binom, nbinom\n",
    "\n",
    "import plotly\n",
    "import plotly.plotly as py\n",
    "from plotly import tools\n",
    "\n",
    "import plotly.graph_objs as go\n",
    "plotly.tools.set_credentials_file(username='sreejith_s', api_key='rcet0rTqFCc3WeOzWTjv')\n",
    "\n",
    "from unicodedata import category\n",
    "from tqdm import tqdm\n",
    "tqdm.pandas(desc=\"Progress\")\n",
    "\n",
    "import seaborn as sns\n",
    "sns.set_style('white')\n",
    "import matplotlib.pylab as plt"
   ]
  },
  {
   "cell_type": "code",
   "execution_count": 4,
   "metadata": {},
   "outputs": [
    {
     "name": "stderr",
     "output_type": "stream",
     "text": [
      "Progress: 100%|██████████| 62/62 [00:00<00:00, 27649.85it/s]\n",
      "Progress: 100%|██████████| 62/62 [00:00<00:00, 1747.64it/s]\n"
     ]
    }
   ],
   "source": [
    "filename = \"/mnt/disks/vault/analysis-data/interdisciplinary-novelty-analysis/corrected-entropy-analysis/word-journey-data.pql\"\n",
    "data_grouped_by_year_label = pd.read_pickle(filename)\n",
    "\n",
    "discipline = \"Transportation\"\n",
    "input_ = data_grouped_by_year_label[data_grouped_by_year_label.Label == discipline]\n",
    "data_grouped_by_year_label = None\n",
    "\n",
    "vectorizer = CountVectorizer()\n",
    "vectorized_words = vectorizer.fit_transform(input_.title_words)\n",
    "\n",
    "vectorized_wordarray = vectorized_words.toarray()\n",
    "document_frequency = (vectorized_wordarray != 0).sum(0).tolist()\n",
    "document_frequency_log =  [np.log(x) for x in document_frequency]\n",
    "\n",
    "#2. Term Frequency - Number of times in which a word appears in a document\n",
    "term_frequency = vectorized_words.sum(axis=0).reshape(-1,).tolist()[0]\n",
    "term_frequency_log = [np.log(x) for x in term_frequency]\n",
    "\n",
    "input_[\"number_of_pubs\"] = input_[\"title_without_stopwords\"].progress_apply(lambda x: len(x))\n",
    "input_[\"word_count\"] = input_[\"title_words\"].progress_apply(lambda x: len(x.split()))"
   ]
  },
  {
   "cell_type": "code",
   "execution_count": 19,
   "metadata": {},
   "outputs": [
    {
     "data": {
      "text/html": [
       "<div>\n",
       "<style scoped>\n",
       "    .dataframe tbody tr th:only-of-type {\n",
       "        vertical-align: middle;\n",
       "    }\n",
       "\n",
       "    .dataframe tbody tr th {\n",
       "        vertical-align: top;\n",
       "    }\n",
       "\n",
       "    .dataframe thead th {\n",
       "        text-align: right;\n",
       "    }\n",
       "</style>\n",
       "<table border=\"1\" class=\"dataframe\">\n",
       "  <thead>\n",
       "    <tr style=\"text-align: right;\">\n",
       "      <th></th>\n",
       "      <th>index</th>\n",
       "      <th>Label</th>\n",
       "      <th>PubYear</th>\n",
       "      <th>title_without_stopwords</th>\n",
       "      <th>cleaned_titles</th>\n",
       "      <th>title_words_</th>\n",
       "      <th>title_words</th>\n",
       "      <th>number_of_pubs</th>\n",
       "      <th>word_count</th>\n",
       "    </tr>\n",
       "  </thead>\n",
       "  <tbody>\n",
       "    <tr>\n",
       "      <th>19276</th>\n",
       "      <td>19276</td>\n",
       "      <td>Transportation</td>\n",
       "      <td>1956</td>\n",
       "      <td>[fitzgerald john f  expressway boston central ...</td>\n",
       "      <td>[turnpike expressway system oklahoma plan, for...</td>\n",
       "      <td>turnpike expressway system oklahoma plan forec...</td>\n",
       "      <td>turnpike expressway system oklahoma plan forec...</td>\n",
       "      <td>82</td>\n",
       "      <td>183</td>\n",
       "    </tr>\n",
       "    <tr>\n",
       "      <th>19277</th>\n",
       "      <td>19277</td>\n",
       "      <td>Transportation</td>\n",
       "      <td>1957</td>\n",
       "      <td>[scientific fleet management state california,...</td>\n",
       "      <td>[connecticuts plan meet impact highway, urban ...</td>\n",
       "      <td>connecticuts plan meet impact highway urban ro...</td>\n",
       "      <td>connecticuts plan meet impact highway urban ro...</td>\n",
       "      <td>84</td>\n",
       "      <td>197</td>\n",
       "    </tr>\n",
       "    <tr>\n",
       "      <th>19278</th>\n",
       "      <td>19278</td>\n",
       "      <td>Transportation</td>\n",
       "      <td>1958</td>\n",
       "      <td>[there better years ahead toll road financing,...</td>\n",
       "      <td>[benefits complete programs urban transportati...</td>\n",
       "      <td>benefits complete programs urban transportatio...</td>\n",
       "      <td>benefits complete programs urban transportatio...</td>\n",
       "      <td>84</td>\n",
       "      <td>178</td>\n",
       "    </tr>\n",
       "    <tr>\n",
       "      <th>19279</th>\n",
       "      <td>19279</td>\n",
       "      <td>Transportation</td>\n",
       "      <td>1959</td>\n",
       "      <td>[research highway planning research constructi...</td>\n",
       "      <td>[new orleans 7 cent fare, lansings one way str...</td>\n",
       "      <td>new orleans 7 cent fare lansings one way stree...</td>\n",
       "      <td>new orleans cent fare lansings one way street ...</td>\n",
       "      <td>90</td>\n",
       "      <td>193</td>\n",
       "    </tr>\n",
       "    <tr>\n",
       "      <th>19280</th>\n",
       "      <td>19280</td>\n",
       "      <td>Transportation</td>\n",
       "      <td>1960</td>\n",
       "      <td>[accident prevention arizona, accident prevent...</td>\n",
       "      <td>[traffic safety nations capital moves steadily...</td>\n",
       "      <td>traffic safety nations capital moves steadily ...</td>\n",
       "      <td>traffic safety nations capital moves steadily ...</td>\n",
       "      <td>84</td>\n",
       "      <td>191</td>\n",
       "    </tr>\n",
       "  </tbody>\n",
       "</table>\n",
       "</div>"
      ],
      "text/plain": [
       "       index           Label  PubYear  \\\n",
       "19276  19276  Transportation     1956   \n",
       "19277  19277  Transportation     1957   \n",
       "19278  19278  Transportation     1958   \n",
       "19279  19279  Transportation     1959   \n",
       "19280  19280  Transportation     1960   \n",
       "\n",
       "                                 title_without_stopwords  \\\n",
       "19276  [fitzgerald john f  expressway boston central ...   \n",
       "19277  [scientific fleet management state california,...   \n",
       "19278  [there better years ahead toll road financing,...   \n",
       "19279  [research highway planning research constructi...   \n",
       "19280  [accident prevention arizona, accident prevent...   \n",
       "\n",
       "                                          cleaned_titles  \\\n",
       "19276  [turnpike expressway system oklahoma plan, for...   \n",
       "19277  [connecticuts plan meet impact highway, urban ...   \n",
       "19278  [benefits complete programs urban transportati...   \n",
       "19279  [new orleans 7 cent fare, lansings one way str...   \n",
       "19280  [traffic safety nations capital moves steadily...   \n",
       "\n",
       "                                            title_words_  \\\n",
       "19276  turnpike expressway system oklahoma plan forec...   \n",
       "19277  connecticuts plan meet impact highway urban ro...   \n",
       "19278  benefits complete programs urban transportatio...   \n",
       "19279  new orleans 7 cent fare lansings one way stree...   \n",
       "19280  traffic safety nations capital moves steadily ...   \n",
       "\n",
       "                                             title_words  number_of_pubs  \\\n",
       "19276  turnpike expressway system oklahoma plan forec...              82   \n",
       "19277  connecticuts plan meet impact highway urban ro...              84   \n",
       "19278  benefits complete programs urban transportatio...              84   \n",
       "19279  new orleans cent fare lansings one way street ...              90   \n",
       "19280  traffic safety nations capital moves steadily ...              84   \n",
       "\n",
       "       word_count  \n",
       "19276         183  \n",
       "19277         197  \n",
       "19278         178  \n",
       "19279         193  \n",
       "19280         191  "
      ]
     },
     "execution_count": 19,
     "metadata": {},
     "output_type": "execute_result"
    }
   ],
   "source": [
    "input_.head()"
   ]
  },
  {
   "cell_type": "code",
   "execution_count": 12,
   "metadata": {},
   "outputs": [
    {
     "data": {
      "text/plain": [
       "Text(0,0.5,'number of Publications')"
      ]
     },
     "execution_count": 12,
     "metadata": {},
     "output_type": "execute_result"
    },
    {
     "data": {
      "image/png": "[encoded data removed]",
      "text/plain": [
       "<Figure size 432x288 with 1 Axes>"
      ]
     },
     "metadata": {},
     "output_type": "display_data"
    }
   ],
   "source": [
    "plt.plot(input_.PubYear[:60], input_.number_of_pubs[:60])\n",
    "\n",
    "plt.xlabel(\"Year\")\n",
    "plt.ylabel(\"number of Publications\")"
   ]
  },
  {
   "cell_type": "code",
   "execution_count": 13,
   "metadata": {},
   "outputs": [
    {
     "name": "stderr",
     "output_type": "stream",
     "text": [
      "100%|██████████| 61/61 [00:00<00:00, 500.47it/s]\n"
     ]
    }
   ],
   "source": [
    "count_matrix = vectorized_words.toarray()\n",
    "\n",
    "uniques = []\n",
    "counts = []\n",
    "yearly_word_frequency_variations = []\n",
    "avg_variations_for_freq = []\n",
    "\n",
    "for i in range(count_matrix.shape[0]):\n",
    "    unique_, counts_tmp = np.unique(count_matrix[i:i+1,:], return_counts=True)    \n",
    "    counts_ = list(map(np.log, counts_tmp))\n",
    "    uniques.append(unique_)\n",
    "    counts.append(counts_)\n",
    "    \n",
    "for index in tqdm(range(vectorized_wordarray.shape[0] - 1)):\n",
    "    \n",
    "    # take two consecutive years\n",
    "    tmp_ = vectorized_wordarray[index:index+2]\n",
    "    \n",
    "    #unique counts for the first year\n",
    "    unique_counts = np.unique(tmp_[0]) \n",
    "    \n",
    "    yearly_avg_variations_for_freq = {}\n",
    "    word_freq_variations = []\n",
    "    \n",
    "    word_freq_variations.append(tmp_[1] - tmp_[0])\n",
    "    \n",
    "    yearly_word_frequency_variations.append(word_freq_variations)\n",
    "    \n",
    "    for uniq in unique_counts:\n",
    "        # find the indices where the value == uniq\n",
    "        indices, = np.where(tmp_[0] == uniq)\n",
    "        \n",
    "        # find the values in the next year where those indices are\n",
    "        # variations of words with that `uniq` count\n",
    "        transition_values = tmp_[1][indices]\n",
    "        variations = transition_values - uniq\n",
    "        \n",
    "        # mean variation of words with that `uniq` count\n",
    "        mean_variation = np.mean(variations)\n",
    "        \n",
    "        # make a list of mean variations\n",
    "        yearly_avg_variations_for_freq[uniq] = round(mean_variation, 3)\n",
    "    \n",
    "    avg_variations_for_freq.append(yearly_avg_variations_for_freq)"
   ]
  },
  {
   "cell_type": "code",
   "execution_count": 14,
   "metadata": {},
   "outputs": [],
   "source": [
    "def poisson(k, lamb):\n",
    "    return (lamb**k/factorial(k)) * np.exp(-lamb)"
   ]
  },
  {
   "cell_type": "markdown",
   "metadata": {},
   "source": [
    "__Year: 2015__ - _Poisson and Negative Binomial_"
   ]
  },
  {
   "cell_type": "code",
   "execution_count": 15,
   "metadata": {},
   "outputs": [],
   "source": [
    "def get_word_variations(N, K):\n",
    "    \n",
    "    freq_current = list(vectorized_wordarray[N:N+1,:][0])\n",
    "    freq_next = list(vectorized_wordarray[N+1:N+2,:][0])\n",
    "    indices = [i for i, x in enumerate(freq_current) if x == K]\n",
    "    change_in_values = [freq_next[i] for i in indices]\n",
    "    variations = [j - K for j in change_in_values]\n",
    "    sum_ = sum(dict(Counter(variations)).values())\n",
    "    X = [x + K for x,y in dict(Counter(variations)).items()]\n",
    "    Y = [float(y)/sum_ for x,y in dict(Counter(variations)).items()]  \n",
    "    \n",
    "    return change_in_values, X, Y"
   ]
  },
  {
   "cell_type": "code",
   "execution_count": 16,
   "metadata": {},
   "outputs": [],
   "source": [
    "def get_poisson_pmf(change_in_values, X):\n",
    "    \n",
    "    poissonModel = Poisson(change_in_values,np.ones_like(change_in_values))\n",
    "    poissonRes = poissonModel.fit()\n",
    "    poissonModel.loglike(poissonRes.params)\n",
    "\n",
    "    lambda_ = np.exp(poissonRes.params[0])\n",
    "    Y_poiss = list(map(lambda x: poisson(x, lambda_), X))\n",
    "    return Y_poiss"
   ]
  },
  {
   "cell_type": "code",
   "execution_count": 17,
   "metadata": {},
   "outputs": [],
   "source": [
    "def get_negative_binomial_fit(change_in_values, X):\n",
    "    \n",
    "    loglike_method = 'nb2'  # or use 'nb2'\n",
    "    model = NegativeBinomial(change_in_values, np.ones_like(change_in_values))\n",
    "    binomial_result = model.fit()\n",
    "    mu = np.exp(binomial_result.params[0])   \n",
    "    alpha = binomial_result.params[1]\n",
    "\n",
    "    if loglike_method == 'nb1':\n",
    "        Q = 1\n",
    "    elif loglike_method == 'nb2':    \n",
    "        Q = 0\n",
    "    size = 1. / alpha * mu**Q\n",
    "    prob = size / (size + mu)\n",
    "    dist_est = nbinom(size, prob)\n",
    "    \n",
    "    return dist_est, [dist_est.pmf(k) for k in sorted(X)]    "
   ]
  },
  {
   "cell_type": "code",
   "execution_count": 18,
   "metadata": {},
   "outputs": [],
   "source": [
    "def plot(X_,Y_, ax=None, title=\"\", xlabel=\"\", ylabel=\"\", dist=None, **kwargs):\n",
    "\n",
    "    ax = ax or plt.gca()\n",
    "    ax.set_title(title)\n",
    "    ax.set_xlabel(xlabel)\n",
    "    ax.set_ylabel(ylabel)\n",
    "    \n",
    "    if dist:\n",
    "        ax.axvline(dist.mean(), color=\"black\")\n",
    "    return ax.scatter(X_,Y_, **kwargs)"
   ]
  },
  {
   "cell_type": "code",
   "execution_count": 20,
   "metadata": {},
   "outputs": [
    {
     "name": "stdout",
     "output_type": "stream",
     "text": [
      "Optimization terminated successfully.\n",
      "         Current function value: 2.361935\n",
      "         Iterations 1\n",
      "Optimization terminated successfully.\n",
      "         Current function value: 2.174969\n",
      "         Iterations: 6\n",
      "         Function evaluations: 7\n",
      "         Gradient evaluations: 7\n"
     ]
    }
   ],
   "source": [
    "N = 59\n",
    "K = 3\n",
    "change_in_values, X, Y = get_word_variations(N, K)\n",
    "\n",
    "# Poison Fit\n",
    "Y_poiss = get_poisson_pmf(change_in_values, X)\n",
    "\n",
    "# Negative Binomial\n",
    "dist_est, Y_neg_binomial = get_negative_binomial_fit(change_in_values, X)"
   ]
  },
  {
   "cell_type": "code",
   "execution_count": 21,
   "metadata": {},
   "outputs": [
    {
     "data": {
      "text/plain": [
       "<matplotlib.collections.PathCollection at 0x7f1ac077ba20>"
      ]
     },
     "execution_count": 21,
     "metadata": {},
     "output_type": "execute_result"
    },
    {
     "data": {
      "text/plain": [
       "<Figure size 1296x720 with 0 Axes>"
      ]
     },
     "metadata": {},
     "output_type": "display_data"
    },
    {
     "data": {
      "image/png": "[encoded data removed]",
      "text/plain": [
       "<Figure size 1080x288 with 2 Axes>"
      ]
     },
     "metadata": {},
     "output_type": "display_data"
    }
   ],
   "source": [
    "f = plt.figure(figsize=(18, 10))\n",
    "\n",
    "fig, (ax1, ax2) = plt.subplots(ncols=2, figsize=(15, 4))\n",
    "\n",
    "plot(X,Y, ax1)\n",
    "plot(X,Y_poiss, ax1, title=\"Poisson Fit\", xlabel=\"K\", ylabel=\"Probability\", alpha=0.5)\n",
    "\n",
    "plot(X,Y, ax2)\n",
    "plot(sorted(X),Y_neg_binomial, ax2, \n",
    "     title=\"Negative Binomial Fit\", \n",
    "     xlabel=\"K\", \n",
    "     ylabel=\"Probability\", \n",
    "     dist = dist_est,\n",
    "     alpha=0.5)"
   ]
  },
  {
   "cell_type": "code",
   "execution_count": 22,
   "metadata": {},
   "outputs": [
    {
     "name": "stdout",
     "output_type": "stream",
     "text": [
      "Optimization terminated successfully.\n",
      "         Current function value: 2.821424\n",
      "         Iterations 1\n",
      "Optimization terminated successfully.\n",
      "         Current function value: 2.554623\n",
      "         Iterations: 6\n",
      "         Function evaluations: 7\n",
      "         Gradient evaluations: 7\n"
     ]
    }
   ],
   "source": [
    "K = 5\n",
    "change_in_values, X, Y = get_word_variations(N, K)\n",
    "Y_poiss = get_poisson_pmf(change_in_values, X)\n",
    "dist_est, Y_neg_binomial = get_negative_binomial_fit(change_in_values, X)"
   ]
  },
  {
   "cell_type": "code",
   "execution_count": 23,
   "metadata": {},
   "outputs": [
    {
     "data": {
      "text/plain": [
       "<matplotlib.collections.PathCollection at 0x7f1aceaa88d0>"
      ]
     },
     "execution_count": 23,
     "metadata": {},
     "output_type": "execute_result"
    },
    {
     "data": {
      "text/plain": [
       "<Figure size 1296x720 with 0 Axes>"
      ]
     },
     "metadata": {},
     "output_type": "display_data"
    },
    {
     "data": {
      "image/png": "[encoded data removed]",
      "text/plain": [
       "<Figure size 1080x288 with 2 Axes>"
      ]
     },
     "metadata": {},
     "output_type": "display_data"
    }
   ],
   "source": [
    "f = plt.figure(figsize=(18, 10))\n",
    "\n",
    "fig, (ax1, ax2) = plt.subplots(ncols=2, figsize=(15, 4))\n",
    "plot(X,Y, ax1)\n",
    "plot(X,Y_poiss, ax1, title=\"Poisson Fit\", xlabel=\"K\", ylabel=\"Probability\", alpha=0.5)\n",
    "plot(X,Y, ax2)\n",
    "plot(sorted(X),Y_neg_binomial, ax2, \n",
    "     title=\"Negative Binomial Fit\", \n",
    "     xlabel=\"K\", \n",
    "     ylabel=\"Probability\", \n",
    "     dist = dist_est,\n",
    "     alpha=0.5)"
   ]
  },
  {
   "cell_type": "code",
   "execution_count": 24,
   "metadata": {},
   "outputs": [
    {
     "name": "stdout",
     "output_type": "stream",
     "text": [
      "Optimization terminated successfully.\n",
      "         Current function value: 2.857842\n",
      "         Iterations 1\n",
      "Optimization terminated successfully.\n",
      "         Current function value: 2.774310\n",
      "         Iterations: 7\n",
      "         Function evaluations: 8\n",
      "         Gradient evaluations: 8\n"
     ]
    }
   ],
   "source": [
    "K = 10\n",
    "change_in_values, X, Y = get_word_variations(N, K)\n",
    "\n",
    "# Poison Fit\n",
    "Y_poiss = get_poisson_pmf(change_in_values, X)\n",
    "\n",
    "# Negative Binomial\n",
    "dist_est, Y_neg_binomial = get_negative_binomial_fit(change_in_values, X)"
   ]
  },
  {
   "cell_type": "code",
   "execution_count": 25,
   "metadata": {},
   "outputs": [
    {
     "data": {
      "text/plain": [
       "<matplotlib.collections.PathCollection at 0x7f1ac04f2160>"
      ]
     },
     "execution_count": 25,
     "metadata": {},
     "output_type": "execute_result"
    },
    {
     "data": {
      "text/plain": [
       "<Figure size 1296x720 with 0 Axes>"
      ]
     },
     "metadata": {},
     "output_type": "display_data"
    },
    {
     "data": {
      "image/png": "[encoded data removed]",
      "text/plain": [
       "<Figure size 1080x288 with 2 Axes>"
      ]
     },
     "metadata": {},
     "output_type": "display_data"
    }
   ],
   "source": [
    "f = plt.figure(figsize=(18, 10))\n",
    "\n",
    "fig, (ax1, ax2) = plt.subplots(ncols=2, figsize=(15, 4))\n",
    "plot(X,Y, ax1)\n",
    "plot(X,Y_poiss, ax1, title=\"Poisson Fit\", xlabel=\"K\", ylabel=\"Probability\", alpha=0.5)\n",
    "plot(X,Y, ax2)\n",
    "plot(sorted(X),Y_neg_binomial, ax2, \n",
    "     title=\"Negative Binomial Fit\", \n",
    "     xlabel=\"K\", \n",
    "     ylabel=\"Probability\", \n",
    "     dist = dist_est,\n",
    "     alpha=0.5)"
   ]
  },
  {
   "cell_type": "code",
   "execution_count": 26,
   "metadata": {},
   "outputs": [
    {
     "name": "stdout",
     "output_type": "stream",
     "text": [
      "Optimization terminated successfully.\n",
      "         Current function value: 3.041860\n",
      "         Iterations 1\n",
      "Optimization terminated successfully.\n",
      "         Current function value: 3.003700\n",
      "         Iterations: 7\n",
      "         Function evaluations: 8\n",
      "         Gradient evaluations: 8\n"
     ]
    }
   ],
   "source": [
    "K = 15\n",
    "change_in_values, X, Y = get_word_variations(N, K)\n",
    "\n",
    "# Poison Fit\n",
    "Y_poiss = get_poisson_pmf(change_in_values, X)\n",
    "\n",
    "# Negative Binomial\n",
    "dist_est, Y_neg_binomial = get_negative_binomial_fit(change_in_values, X)"
   ]
  },
  {
   "cell_type": "code",
   "execution_count": 27,
   "metadata": {},
   "outputs": [
    {
     "data": {
      "text/plain": [
       "<matplotlib.collections.PathCollection at 0x7f1afb33ad30>"
      ]
     },
     "execution_count": 27,
     "metadata": {},
     "output_type": "execute_result"
    },
    {
     "data": {
      "text/plain": [
       "<Figure size 1296x720 with 0 Axes>"
      ]
     },
     "metadata": {},
     "output_type": "display_data"
    },
    {
     "data": {
      "image/png": "[encoded data removed]",
      "text/plain": [
       "<Figure size 1080x288 with 2 Axes>"
      ]
     },
     "metadata": {},
     "output_type": "display_data"
    }
   ],
   "source": [
    "f = plt.figure(figsize=(18, 10))\n",
    "\n",
    "fig, (ax1, ax2) = plt.subplots(ncols=2, figsize=(15, 4))\n",
    "\n",
    "plot(X,Y, ax1)\n",
    "plot(X,Y_poiss, ax1, title=\"Poisson Fit\", xlabel=\"K\", ylabel=\"Probability\", alpha=0.5)\n",
    "plot(X,Y, ax2)\n",
    "plot(sorted(X),Y_neg_binomial, ax2, \n",
    "     title=\"Negative Binomial Fit\", \n",
    "     xlabel=\"K\", \n",
    "     ylabel=\"Probability\", \n",
    "     dist = dist_est,\n",
    "     alpha=0.5)"
   ]
  }
 ],
 "metadata": {
  "kernelspec": {
   "display_name": "Python 3",
   "language": "python",
   "name": "python3"
  },
  "language_info": {
   "codemirror_mode": {
    "name": "ipython",
    "version": 3
   },
   "file_extension": ".py",
   "mimetype": "text/x-python",
   "name": "python",
   "nbconvert_exporter": "python",
   "pygments_lexer": "ipython3",
   "version": "3.6.7"
  }
 },
 "nbformat": 4,
 "nbformat_minor": 2
}
