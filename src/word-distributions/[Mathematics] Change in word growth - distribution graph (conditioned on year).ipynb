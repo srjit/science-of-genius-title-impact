{
 "cells": [
  {
   "cell_type": "code",
   "execution_count": 1,
   "metadata": {},
   "outputs": [],
   "source": [
    "import warnings\n",
    "warnings.filterwarnings('ignore')"
   ]
  },
  {
   "cell_type": "code",
   "execution_count": 2,
   "metadata": {},
   "outputs": [],
   "source": [
    "%load_ext autoreload\n",
    "%autoreload 2\n",
    "%matplotlib inline"
   ]
  },
  {
   "cell_type": "code",
   "execution_count": 3,
   "metadata": {},
   "outputs": [],
   "source": [
    "import sys\n",
    "sys.path.insert(0, \"../../code-previous\")"
   ]
  },
  {
   "cell_type": "code",
   "execution_count": 4,
   "metadata": {},
   "outputs": [],
   "source": [
    "import pandas as pd\n",
    "import numpy as np\n",
    "import operator\n",
    "\n",
    "import peakutils\n",
    "\n",
    "import string\n",
    "import nltk\n",
    "stopwords = nltk.corpus.stopwords.words('english')\n",
    "\n",
    "import operator\n",
    "from collections import Counter\n",
    "\n",
    "import pickle\n",
    "from sklearn.feature_extraction.text import CountVectorizer\n",
    "\n",
    "import plotly\n",
    "import plotly.plotly as py\n",
    "from plotly import tools\n",
    "\n",
    "import plotly.graph_objs as go\n",
    "plotly.tools.set_credentials_file(username='sreejith_s', api_key='rcet0rTqFCc3WeOzWTjv')\n",
    "\n",
    "from unicodedata import category\n",
    "from tqdm import tqdm\n",
    "tqdm.pandas(desc=\"Progress\")\n",
    "\n",
    "import seaborn as sns\n",
    "sns.set_style('white')\n",
    "import matplotlib.pylab as plt"
   ]
  },
  {
   "cell_type": "code",
   "execution_count": 5,
   "metadata": {},
   "outputs": [],
   "source": [
    "filename = \"/mnt/disks/vault/analysis-data/interdisciplinary-novelty-analysis/corrected-entropy-analysis/word-journey-data.pql\"\n",
    "data_grouped_by_year_label = pd.read_pickle(filename)"
   ]
  },
  {
   "cell_type": "code",
   "execution_count": 6,
   "metadata": {},
   "outputs": [],
   "source": [
    "discipline = \"Mathematics\""
   ]
  },
  {
   "cell_type": "code",
   "execution_count": 7,
   "metadata": {},
   "outputs": [
    {
     "data": {
      "text/html": [
       "<div>\n",
       "<style scoped>\n",
       "    .dataframe tbody tr th:only-of-type {\n",
       "        vertical-align: middle;\n",
       "    }\n",
       "\n",
       "    .dataframe tbody tr th {\n",
       "        vertical-align: top;\n",
       "    }\n",
       "\n",
       "    .dataframe thead th {\n",
       "        text-align: right;\n",
       "    }\n",
       "</style>\n",
       "<table border=\"1\" class=\"dataframe\">\n",
       "  <thead>\n",
       "    <tr style=\"text-align: right;\">\n",
       "      <th></th>\n",
       "      <th>Label</th>\n",
       "      <th>counts</th>\n",
       "    </tr>\n",
       "  </thead>\n",
       "  <tbody>\n",
       "    <tr>\n",
       "      <th>248</th>\n",
       "      <td>Zoology</td>\n",
       "      <td>117</td>\n",
       "    </tr>\n",
       "    <tr>\n",
       "      <th>87</th>\n",
       "      <td>Evolutionary Biology</td>\n",
       "      <td>117</td>\n",
       "    </tr>\n",
       "    <tr>\n",
       "      <th>33</th>\n",
       "      <td>Chemistry, Inorganic &amp; Nuclear</td>\n",
       "      <td>117</td>\n",
       "    </tr>\n",
       "    <tr>\n",
       "      <th>85</th>\n",
       "      <td>Ethics</td>\n",
       "      <td>117</td>\n",
       "    </tr>\n",
       "    <tr>\n",
       "      <th>35</th>\n",
       "      <td>Chemistry, Multidisciplinary</td>\n",
       "      <td>117</td>\n",
       "    </tr>\n",
       "    <tr>\n",
       "      <th>139</th>\n",
       "      <td>Materials Science, Multidisciplinary</td>\n",
       "      <td>117</td>\n",
       "    </tr>\n",
       "    <tr>\n",
       "      <th>201</th>\n",
       "      <td>Psychology</td>\n",
       "      <td>117</td>\n",
       "    </tr>\n",
       "    <tr>\n",
       "      <th>39</th>\n",
       "      <td>Clinical Neurology</td>\n",
       "      <td>117</td>\n",
       "    </tr>\n",
       "    <tr>\n",
       "      <th>200</th>\n",
       "      <td>Psychiatry</td>\n",
       "      <td>117</td>\n",
       "    </tr>\n",
       "    <tr>\n",
       "      <th>197</th>\n",
       "      <td>Political Science</td>\n",
       "      <td>117</td>\n",
       "    </tr>\n",
       "    <tr>\n",
       "      <th>195</th>\n",
       "      <td>Plant Sciences</td>\n",
       "      <td>117</td>\n",
       "    </tr>\n",
       "    <tr>\n",
       "      <th>193</th>\n",
       "      <td>Physiology</td>\n",
       "      <td>117</td>\n",
       "    </tr>\n",
       "    <tr>\n",
       "      <th>190</th>\n",
       "      <td>Physics, Multidisciplinary</td>\n",
       "      <td>117</td>\n",
       "    </tr>\n",
       "    <tr>\n",
       "      <th>185</th>\n",
       "      <td>Physics, Applied</td>\n",
       "      <td>117</td>\n",
       "    </tr>\n",
       "    <tr>\n",
       "      <th>183</th>\n",
       "      <td>Pharmacology &amp; Pharmacy</td>\n",
       "      <td>117</td>\n",
       "    </tr>\n",
       "    <tr>\n",
       "      <th>180</th>\n",
       "      <td>Pathology</td>\n",
       "      <td>117</td>\n",
       "    </tr>\n",
       "    <tr>\n",
       "      <th>143</th>\n",
       "      <td>Mathematics</td>\n",
       "      <td>117</td>\n",
       "    </tr>\n",
       "    <tr>\n",
       "      <th>56</th>\n",
       "      <td>Dermatology</td>\n",
       "      <td>117</td>\n",
       "    </tr>\n",
       "    <tr>\n",
       "      <th>58</th>\n",
       "      <td>Ecology</td>\n",
       "      <td>117</td>\n",
       "    </tr>\n",
       "    <tr>\n",
       "      <th>59</th>\n",
       "      <td>Economics</td>\n",
       "      <td>117</td>\n",
       "    </tr>\n",
       "    <tr>\n",
       "      <th>60</th>\n",
       "      <td>Education &amp; Educational Research</td>\n",
       "      <td>117</td>\n",
       "    </tr>\n",
       "    <tr>\n",
       "      <th>78</th>\n",
       "      <td>Engineering, Multidisciplinary</td>\n",
       "      <td>117</td>\n",
       "    </tr>\n",
       "    <tr>\n",
       "      <th>167</th>\n",
       "      <td>Nursing</td>\n",
       "      <td>117</td>\n",
       "    </tr>\n",
       "    <tr>\n",
       "      <th>165</th>\n",
       "      <td>Neurosciences</td>\n",
       "      <td>117</td>\n",
       "    </tr>\n",
       "    <tr>\n",
       "      <th>160</th>\n",
       "      <td>Multidisciplinary Sciences</td>\n",
       "      <td>117</td>\n",
       "    </tr>\n",
       "    <tr>\n",
       "      <th>150</th>\n",
       "      <td>Medicine, General &amp; Internal</td>\n",
       "      <td>117</td>\n",
       "    </tr>\n",
       "    <tr>\n",
       "      <th>157</th>\n",
       "      <td>Microscopy</td>\n",
       "      <td>117</td>\n",
       "    </tr>\n",
       "    <tr>\n",
       "      <th>32</th>\n",
       "      <td>Chemistry, Applied</td>\n",
       "      <td>117</td>\n",
       "    </tr>\n",
       "    <tr>\n",
       "      <th>37</th>\n",
       "      <td>Chemistry, Physical</td>\n",
       "      <td>117</td>\n",
       "    </tr>\n",
       "    <tr>\n",
       "      <th>154</th>\n",
       "      <td>Metallurgy &amp; Metallurgical Engineering</td>\n",
       "      <td>117</td>\n",
       "    </tr>\n",
       "  </tbody>\n",
       "</table>\n",
       "</div>"
      ],
      "text/plain": [
       "                                      Label  counts\n",
       "248                                 Zoology     117\n",
       "87                     Evolutionary Biology     117\n",
       "33           Chemistry, Inorganic & Nuclear     117\n",
       "85                                   Ethics     117\n",
       "35             Chemistry, Multidisciplinary     117\n",
       "139    Materials Science, Multidisciplinary     117\n",
       "201                              Psychology     117\n",
       "39                       Clinical Neurology     117\n",
       "200                              Psychiatry     117\n",
       "197                       Political Science     117\n",
       "195                          Plant Sciences     117\n",
       "193                              Physiology     117\n",
       "190              Physics, Multidisciplinary     117\n",
       "185                        Physics, Applied     117\n",
       "183                 Pharmacology & Pharmacy     117\n",
       "180                               Pathology     117\n",
       "143                             Mathematics     117\n",
       "56                              Dermatology     117\n",
       "58                                  Ecology     117\n",
       "59                                Economics     117\n",
       "60         Education & Educational Research     117\n",
       "78           Engineering, Multidisciplinary     117\n",
       "167                                 Nursing     117\n",
       "165                           Neurosciences     117\n",
       "160              Multidisciplinary Sciences     117\n",
       "150            Medicine, General & Internal     117\n",
       "157                              Microscopy     117\n",
       "32                       Chemistry, Applied     117\n",
       "37                      Chemistry, Physical     117\n",
       "154  Metallurgy & Metallurgical Engineering     117"
      ]
     },
     "execution_count": 7,
     "metadata": {},
     "output_type": "execute_result"
    }
   ],
   "source": [
    "foo = data_grouped_by_year_label[[\"Label\"]].groupby(data_grouped_by_year_label.Label).size().reset_index(name=\"counts\").sort_values(by=\"counts\", ascending=False)\n",
    "foo.head(30)\n"
   ]
  },
  {
   "cell_type": "code",
   "execution_count": 8,
   "metadata": {},
   "outputs": [],
   "source": [
    "input_ = data_grouped_by_year_label[data_grouped_by_year_label.Label == discipline]\n",
    "data_grouped_by_year_label = None"
   ]
  },
  {
   "cell_type": "code",
   "execution_count": 9,
   "metadata": {},
   "outputs": [
    {
     "data": {
      "text/html": [
       "<div>\n",
       "<style scoped>\n",
       "    .dataframe tbody tr th:only-of-type {\n",
       "        vertical-align: middle;\n",
       "    }\n",
       "\n",
       "    .dataframe tbody tr th {\n",
       "        vertical-align: top;\n",
       "    }\n",
       "\n",
       "    .dataframe thead th {\n",
       "        text-align: right;\n",
       "    }\n",
       "</style>\n",
       "<table border=\"1\" class=\"dataframe\">\n",
       "  <thead>\n",
       "    <tr style=\"text-align: right;\">\n",
       "      <th></th>\n",
       "      <th>index</th>\n",
       "      <th>Label</th>\n",
       "      <th>PubYear</th>\n",
       "      <th>title_without_stopwords</th>\n",
       "      <th>cleaned_titles</th>\n",
       "      <th>title_words_</th>\n",
       "      <th>title_words</th>\n",
       "    </tr>\n",
       "  </thead>\n",
       "  <tbody>\n",
       "    <tr>\n",
       "      <th>11092</th>\n",
       "      <td>11092</td>\n",
       "      <td>Mathematics</td>\n",
       "      <td>1900</td>\n",
       "      <td>[theory infinite integrable total differential...</td>\n",
       "      <td>[note geometrical treatment conics , simple pr...</td>\n",
       "      <td>note geometrical treatment conics  simple proo...</td>\n",
       "      <td>note geometrical treatment conics simple proof...</td>\n",
       "    </tr>\n",
       "    <tr>\n",
       "      <th>11093</th>\n",
       "      <td>11093</td>\n",
       "      <td>Mathematics</td>\n",
       "      <td>1901</td>\n",
       "      <td>[registraton laws colonies massachusetts plymo...</td>\n",
       "      <td>[representation linear groups transitive subst...</td>\n",
       "      <td>representation linear groups transitive substi...</td>\n",
       "      <td>representation linear groups transitive substi...</td>\n",
       "    </tr>\n",
       "    <tr>\n",
       "      <th>11094</th>\n",
       "      <td>11094</td>\n",
       "      <td>Mathematics</td>\n",
       "      <td>1902</td>\n",
       "      <td>[research elliptical functions , research elli...</td>\n",
       "      <td>[what center area  center population , number ...</td>\n",
       "      <td>what center area  center population  number ar...</td>\n",
       "      <td>what center area center population number arra...</td>\n",
       "    </tr>\n",
       "    <tr>\n",
       "      <th>11095</th>\n",
       "      <td>11095</td>\n",
       "      <td>Mathematics</td>\n",
       "      <td>1903</td>\n",
       "      <td>[mortality investigation, note statistics pros...</td>\n",
       "      <td>[problem inversion resolved abel, jews prussia...</td>\n",
       "      <td>problem inversion resolved abel jews prussia g...</td>\n",
       "      <td>problem inversion resolved abel jews prussia g...</td>\n",
       "    </tr>\n",
       "    <tr>\n",
       "      <th>11096</th>\n",
       "      <td>11096</td>\n",
       "      <td>Mathematics</td>\n",
       "      <td>1904</td>\n",
       "      <td>[dirichlet s principle , dirichlet s principle...</td>\n",
       "      <td>[group theory applications theory linear homog...</td>\n",
       "      <td>group theory applications theory linear homoge...</td>\n",
       "      <td>group theory applications theory linear homoge...</td>\n",
       "    </tr>\n",
       "  </tbody>\n",
       "</table>\n",
       "</div>"
      ],
      "text/plain": [
       "       index        Label  PubYear  \\\n",
       "11092  11092  Mathematics     1900   \n",
       "11093  11093  Mathematics     1901   \n",
       "11094  11094  Mathematics     1902   \n",
       "11095  11095  Mathematics     1903   \n",
       "11096  11096  Mathematics     1904   \n",
       "\n",
       "                                 title_without_stopwords  \\\n",
       "11092  [theory infinite integrable total differential...   \n",
       "11093  [registraton laws colonies massachusetts plymo...   \n",
       "11094  [research elliptical functions , research elli...   \n",
       "11095  [mortality investigation, note statistics pros...   \n",
       "11096  [dirichlet s principle , dirichlet s principle...   \n",
       "\n",
       "                                          cleaned_titles  \\\n",
       "11092  [note geometrical treatment conics , simple pr...   \n",
       "11093  [representation linear groups transitive subst...   \n",
       "11094  [what center area  center population , number ...   \n",
       "11095  [problem inversion resolved abel, jews prussia...   \n",
       "11096  [group theory applications theory linear homog...   \n",
       "\n",
       "                                            title_words_  \\\n",
       "11092  note geometrical treatment conics  simple proo...   \n",
       "11093  representation linear groups transitive substi...   \n",
       "11094  what center area  center population  number ar...   \n",
       "11095  problem inversion resolved abel jews prussia g...   \n",
       "11096  group theory applications theory linear homoge...   \n",
       "\n",
       "                                             title_words  \n",
       "11092  note geometrical treatment conics simple proof...  \n",
       "11093  representation linear groups transitive substi...  \n",
       "11094  what center area center population number arra...  \n",
       "11095  problem inversion resolved abel jews prussia g...  \n",
       "11096  group theory applications theory linear homoge...  "
      ]
     },
     "execution_count": 9,
     "metadata": {},
     "output_type": "execute_result"
    }
   ],
   "source": [
    "input_.head()"
   ]
  },
  {
   "cell_type": "code",
   "execution_count": 10,
   "metadata": {},
   "outputs": [],
   "source": [
    "vectorizer = CountVectorizer()\n",
    "vectorized_words = vectorizer.fit_transform(input_.title_words)"
   ]
  },
  {
   "cell_type": "code",
   "execution_count": 11,
   "metadata": {},
   "outputs": [],
   "source": [
    "count_vocab = {value:key for key,value in vectorizer.vocabulary_.items()}\n",
    "count_rev_dict = {value:key for key,value in vectorizer.vocabulary_.items()}\n",
    "words = [count_rev_dict[i] for i in range(len(vectorizer.vocabulary_.keys()))]"
   ]
  },
  {
   "cell_type": "code",
   "execution_count": 12,
   "metadata": {},
   "outputs": [],
   "source": [
    "vectorized_wordarray = vectorized_words.toarray()\n",
    "document_frequency = (vectorized_wordarray != 0).sum(0).tolist()\n",
    "document_frequency_log =  [np.log(x) for x in document_frequency]\n",
    "#2. Term Frequency - Number of times in which a word appears in a document\n",
    "term_frequency = vectorized_words.sum(axis=0).reshape(-1,).tolist()[0]\n",
    "term_frequency_log = [np.log(x) for x in term_frequency]"
   ]
  },
  {
   "cell_type": "code",
   "execution_count": 13,
   "metadata": {},
   "outputs": [
    {
     "data": {
      "text/plain": [
       "(117, 102930)"
      ]
     },
     "execution_count": 13,
     "metadata": {},
     "output_type": "execute_result"
    }
   ],
   "source": [
    "vectorized_wordarray.shape"
   ]
  },
  {
   "cell_type": "code",
   "execution_count": 14,
   "metadata": {},
   "outputs": [
    {
     "name": "stderr",
     "output_type": "stream",
     "text": [
      "Progress: 100%|██████████| 117/117 [00:00<00:00, 99844.06it/s]\n",
      "Progress: 100%|██████████| 117/117 [00:00<00:00, 136.13it/s]\n"
     ]
    }
   ],
   "source": [
    "input_[\"number_of_pubs\"] = input_[\"title_without_stopwords\"].progress_apply(lambda x: len(x))\n",
    "input_[\"word_count\"] = input_[\"title_words\"].progress_apply(lambda x: len(x.split()))"
   ]
  },
  {
   "cell_type": "code",
   "execution_count": 15,
   "metadata": {},
   "outputs": [],
   "source": [
    "count_matrix = vectorized_words.toarray()\n",
    "\n",
    "uniques = []\n",
    "counts = []\n",
    "\n",
    "for i in range(count_matrix.shape[0]):\n",
    "    unique_, counts_tmp = np.unique(count_matrix[i:i+1,:], return_counts=True)    \n",
    "    counts_ = list(map(np.log, counts_tmp))\n",
    "    uniques.append(unique_)\n",
    "    counts.append(counts_)"
   ]
  },
  {
   "cell_type": "markdown",
   "metadata": {},
   "source": [
    "__Frequency Variations:__ Words which have a frequency of 20 in year Y<sub>t</sub>. How much do they normally vary in years Y<sub>t+1</sub>, t<sub>t+2</sub> etc. "
   ]
  },
  {
   "cell_type": "code",
   "execution_count": 16,
   "metadata": {},
   "outputs": [
    {
     "name": "stderr",
     "output_type": "stream",
     "text": [
      "100%|██████████| 116/116 [00:01<00:00, 66.83it/s]\n"
     ]
    }
   ],
   "source": [
    "yearly_word_frequency_variations = []\n",
    "avg_variations_for_freq = []\n",
    "\n",
    "for index in tqdm(range(vectorized_wordarray.shape[0] - 1)):\n",
    "    \n",
    "    # take two consecutive years\n",
    "    tmp_ = vectorized_wordarray[index:index+2]\n",
    "    \n",
    "    #unique counts for the first year\n",
    "    unique_counts = np.unique(tmp_[0]) \n",
    "    \n",
    "    yearly_avg_variations_for_freq = {}\n",
    "    word_freq_variations = []\n",
    "    \n",
    "    word_freq_variations.append(tmp_[1] - tmp_[0])\n",
    "    \n",
    "    yearly_word_frequency_variations.append(word_freq_variations)\n",
    "    \n",
    "    for uniq in unique_counts:\n",
    "        # find the indices where the value == uniq\n",
    "        indices, = np.where(tmp_[0] == uniq)\n",
    "        \n",
    "        # find the values in the next year where those indices are\n",
    "        # variations of words with that `uniq` count\n",
    "        transition_values = tmp_[1][indices]\n",
    "        variations = transition_values - uniq\n",
    "        \n",
    "#         if index == 49 and uniq == 12:\n",
    "#             import ipdb\n",
    "#             ipdb.set_trace()\n",
    "        \n",
    "        # mean variation of words with that `uniq` count\n",
    "        mean_variation = np.mean(variations)\n",
    "        \n",
    "        # make a list of mean variations\n",
    "        yearly_avg_variations_for_freq[uniq] = round(mean_variation, 3)\n",
    "    \n",
    "    avg_variations_for_freq.append(yearly_avg_variations_for_freq)"
   ]
  },
  {
   "cell_type": "code",
   "execution_count": 17,
   "metadata": {},
   "outputs": [
    {
     "data": {
      "text/plain": [
       "116"
      ]
     },
     "execution_count": 17,
     "metadata": {},
     "output_type": "execute_result"
    }
   ],
   "source": [
    "len(yearly_word_frequency_variations)"
   ]
  },
  {
   "cell_type": "markdown",
   "metadata": {},
   "source": [
    "__Word Frequency Variations Plot | Year__"
   ]
  },
  {
   "cell_type": "markdown",
   "metadata": {},
   "source": [
    "__Year:__ 2011"
   ]
  },
  {
   "cell_type": "code",
   "execution_count": 18,
   "metadata": {},
   "outputs": [
    {
     "data": {
      "text/html": [
       "<div>\n",
       "<style scoped>\n",
       "    .dataframe tbody tr th:only-of-type {\n",
       "        vertical-align: middle;\n",
       "    }\n",
       "\n",
       "    .dataframe tbody tr th {\n",
       "        vertical-align: top;\n",
       "    }\n",
       "\n",
       "    .dataframe thead th {\n",
       "        text-align: right;\n",
       "    }\n",
       "</style>\n",
       "<table border=\"1\" class=\"dataframe\">\n",
       "  <thead>\n",
       "    <tr style=\"text-align: right;\">\n",
       "      <th></th>\n",
       "      <th>index</th>\n",
       "      <th>Label</th>\n",
       "      <th>PubYear</th>\n",
       "      <th>title_without_stopwords</th>\n",
       "      <th>cleaned_titles</th>\n",
       "      <th>title_words_</th>\n",
       "      <th>title_words</th>\n",
       "      <th>number_of_pubs</th>\n",
       "      <th>word_count</th>\n",
       "    </tr>\n",
       "  </thead>\n",
       "  <tbody>\n",
       "    <tr>\n",
       "      <th>11203</th>\n",
       "      <td>11203</td>\n",
       "      <td>Mathematics</td>\n",
       "      <td>2011</td>\n",
       "      <td>[system design replicate spatial four bar mech...</td>\n",
       "      <td>[, integral closure graded noetherian domain, ...</td>\n",
       "      <td>integral closure graded noetherian domain rep...</td>\n",
       "      <td>integral closure graded noetherian domain repr...</td>\n",
       "      <td>72756</td>\n",
       "      <td>372512</td>\n",
       "    </tr>\n",
       "  </tbody>\n",
       "</table>\n",
       "</div>"
      ],
      "text/plain": [
       "       index        Label  PubYear  \\\n",
       "11203  11203  Mathematics     2011   \n",
       "\n",
       "                                 title_without_stopwords  \\\n",
       "11203  [system design replicate spatial four bar mech...   \n",
       "\n",
       "                                          cleaned_titles  \\\n",
       "11203  [, integral closure graded noetherian domain, ...   \n",
       "\n",
       "                                            title_words_  \\\n",
       "11203   integral closure graded noetherian domain rep...   \n",
       "\n",
       "                                             title_words  number_of_pubs  \\\n",
       "11203  integral closure graded noetherian domain repr...           72756   \n",
       "\n",
       "       word_count  \n",
       "11203      372512  "
      ]
     },
     "execution_count": 18,
     "metadata": {},
     "output_type": "execute_result"
    }
   ],
   "source": [
    "input_.iloc[111:112]"
   ]
  },
  {
   "cell_type": "markdown",
   "metadata": {},
   "source": [
    "Total count of papers: 42160\n",
    "Total count of words: 400963"
   ]
  },
  {
   "cell_type": "code",
   "execution_count": 19,
   "metadata": {},
   "outputs": [
    {
     "name": "stderr",
     "output_type": "stream",
     "text": [
      "No handles with labels found to put in legend.\n",
      "No handles with labels found to put in legend.\n",
      "No handles with labels found to put in legend.\n"
     ]
    },
    {
     "name": "stdout",
     "output_type": "stream",
     "text": [
      "1404 words with 3 counts\n",
      "1505 words with 3 counts\n",
      "1601 words with 3 counts\n"
     ]
    },
    {
     "name": "stderr",
     "output_type": "stream",
     "text": [
      "No handles with labels found to put in legend.\n",
      "No handles with labels found to put in legend.\n",
      "No handles with labels found to put in legend.\n"
     ]
    },
    {
     "name": "stdout",
     "output_type": "stream",
     "text": [
      "1682 words with 3 counts\n",
      "1631 words with 3 counts\n",
      "1648 words with 3 counts\n"
     ]
    },
    {
     "data": {
      "text/plain": [
       "<matplotlib.legend.Legend at 0x7f7858856f98>"
      ]
     },
     "execution_count": 19,
     "metadata": {},
     "output_type": "execute_result"
    },
    {
     "data": {
      "image/png": "[encoded data removed]",
      "text/plain": [
       "<Figure size 1296x720 with 6 Axes>"
      ]
     },
     "metadata": {},
     "output_type": "display_data"
    }
   ],
   "source": [
    "K = 3\n",
    "f = plt.figure(figsize=(18,10))\n",
    "\n",
    "\n",
    "year = 2010\n",
    "N = 110\n",
    "freq_current = list(vectorized_wordarray[N:N+1,:][0])\n",
    "freq_next = list(vectorized_wordarray[N+1:N+2,:][0])\n",
    "indices = [i for i, x in enumerate(freq_current) if x == K]\n",
    "print(str(len(indices)) + \" words with \" + str(K) + \" counts\")\n",
    "change_in_values = [freq_next[i] for i in indices]\n",
    "variations = [j - K for j in change_in_values]\n",
    "sum_ = sum(dict(Counter(variations)).values())\n",
    "from collections import Counter\n",
    "X = [x for x,y in dict(Counter(variations)).items()]\n",
    "Y = [float(y)/sum_ for x,y in dict(Counter(variations)).items()]  \n",
    "ax = f.add_subplot(331)\n",
    "ax.scatter(X, Y)\n",
    "ax.set_xlabel(\"Variation\")\n",
    "ax.set_ylabel(\"Probability\")\n",
    "ax.set_title(str(year) + \" - Word Variations in \" + discipline)\n",
    "ax.legend()\n",
    "\n",
    "\n",
    "year = 2011\n",
    "N = 111\n",
    "freq_current = list(vectorized_wordarray[N:N+1,:][0])\n",
    "freq_next = list(vectorized_wordarray[N+1:N+2,:][0])\n",
    "indices = [i for i, x in enumerate(freq_current) if x == K]\n",
    "print(str(len(indices)) + \" words with \" + str(K) + \" counts\")\n",
    "change_in_values = [freq_next[i] for i in indices]\n",
    "variations = [j - K for j in change_in_values]\n",
    "sum_ = sum(dict(Counter(variations)).values())\n",
    "X = [x for x,y in dict(Counter(variations)).items()]\n",
    "Y = [float(y)/sum_ for x,y in dict(Counter(variations)).items()]\n",
    "ax2 = f.add_subplot(332)\n",
    "ax2.scatter(X, Y)\n",
    "ax2.set_xlabel(\"Variation\")\n",
    "ax2.set_ylabel(\"Probability\")\n",
    "ax2.set_title(str(year) + \" - Word Variations in \" + discipline)\n",
    "ax2.legend()\n",
    "\n",
    "\n",
    "year = 2012\n",
    "N = 112\n",
    "freq_current = list(vectorized_wordarray[N:N+1,:][0])\n",
    "freq_next = list(vectorized_wordarray[N+1:N+2,:][0])\n",
    "indices = [i for i, x in enumerate(freq_current) if x == K]\n",
    "print(str(len(indices)) + \" words with \" + str(K) + \" counts\")\n",
    "change_in_values = [freq_next[i] for i in indices]\n",
    "variations = [j - K for j in change_in_values]\n",
    "sum_ = sum(dict(Counter(variations)).values())\n",
    "X = [x for x,y in dict(Counter(variations)).items()]\n",
    "Y = [float(y)/sum_ for x,y in dict(Counter(variations)).items()]\n",
    "ax3 = f.add_subplot(333)\n",
    "ax3.scatter(X, Y)\n",
    "ax3.set_xlabel(\"Variation\")\n",
    "ax3.set_ylabel(\"Probability\")\n",
    "ax3.set_title(str(year) + \" - Word Variations in \" + discipline)\n",
    "ax3.legend()\n",
    "\n",
    "\n",
    "year = 2013\n",
    "N = 113\n",
    "freq_current = list(vectorized_wordarray[N:N+1,:][0])\n",
    "freq_next = list(vectorized_wordarray[N+1:N+2,:][0])\n",
    "indices = [i for i, x in enumerate(freq_current) if x == K]\n",
    "print(str(len(indices)) + \" words with \" + str(K) + \" counts\")\n",
    "change_in_values = [freq_next[i] for i in indices]\n",
    "variations = [j - K for j in change_in_values]\n",
    "sum_ = sum(dict(Counter(variations)).values())\n",
    "X = [x for x,y in dict(Counter(variations)).items()]\n",
    "Y = [float(y)/sum_ for x,y in dict(Counter(variations)).items()]\n",
    "ax4 = f.add_subplot(334)\n",
    "ax4.scatter(X, Y)\n",
    "ax4.set_xlabel(\"Variation\")\n",
    "ax4.set_ylabel(\"Probability\")\n",
    "ax4.set_title(str(year) + \" - Word Variations in \" + discipline)\n",
    "ax4.legend()\n",
    "\n",
    "\n",
    "year = 2014\n",
    "N = 114\n",
    "freq_current = list(vectorized_wordarray[N:N+1,:][0])\n",
    "freq_next = list(vectorized_wordarray[N+1:N+2,:][0])\n",
    "indices = [i for i, x in enumerate(freq_current) if x == K]\n",
    "print(str(len(indices)) + \" words with \" + str(K) + \" counts\")\n",
    "change_in_values = [freq_next[i] for i in indices]\n",
    "variations = [j - K for j in change_in_values]\n",
    "sum_ = sum(dict(Counter(variations)).values())\n",
    "X = [x for x,y in dict(Counter(variations)).items()]\n",
    "Y = [float(y)/sum_ for x,y in dict(Counter(variations)).items()]\n",
    "ax5 = f.add_subplot(335)\n",
    "ax5.scatter(X, Y)\n",
    "ax5.set_xlabel(\"Variation\")\n",
    "ax5.set_ylabel(\"Probability\")\n",
    "ax5.set_title(str(year) + \" - Word Variations in \" + discipline)\n",
    "ax5.legend()\n",
    "\n",
    "\n",
    "\n",
    "year = 2015\n",
    "N = 115\n",
    "freq_current = list(vectorized_wordarray[N:N+1,:][0])\n",
    "freq_next = list(vectorized_wordarray[N+1:N+2,:][0])\n",
    "indices = [i for i, x in enumerate(freq_current) if x == K]\n",
    "print(str(len(indices)) + \" words with \" + str(K) + \" counts\")\n",
    "change_in_values = [freq_next[i] for i in indices]\n",
    "variations = [j - K for j in change_in_values]\n",
    "sum_ = sum(dict(Counter(variations)).values())\n",
    "X = [x for x,y in dict(Counter(variations)).items()]\n",
    "Y = [float(y)/sum_ for x,y in dict(Counter(variations)).items()]\n",
    "ax6 = f.add_subplot(336)\n",
    "ax6.scatter(X, Y)\n",
    "ax6.set_xlabel(\"Variation\")\n",
    "ax6.set_ylabel(\"Probability\")\n",
    "ax6.set_title(str(year) + \" - Word Variations in \" + discipline)\n",
    "ax6.legend()"
   ]
  },
  {
   "cell_type": "code",
   "execution_count": 20,
   "metadata": {},
   "outputs": [
    {
     "name": "stderr",
     "output_type": "stream",
     "text": [
      "No handles with labels found to put in legend.\n",
      "No handles with labels found to put in legend.\n",
      "No handles with labels found to put in legend.\n",
      "No handles with labels found to put in legend.\n"
     ]
    },
    {
     "name": "stdout",
     "output_type": "stream",
     "text": [
      "646 words with 5 counts\n",
      "720 words with 5 counts\n",
      "683 words with 5 counts\n",
      "701 words with 5 counts\n",
      "760 words with 5 counts\n"
     ]
    },
    {
     "name": "stderr",
     "output_type": "stream",
     "text": [
      "No handles with labels found to put in legend.\n",
      "No handles with labels found to put in legend.\n"
     ]
    },
    {
     "name": "stdout",
     "output_type": "stream",
     "text": [
      "731 words with 5 counts\n"
     ]
    },
    {
     "data": {
      "text/plain": [
       "<matplotlib.legend.Legend at 0x7f784b88b668>"
      ]
     },
     "execution_count": 20,
     "metadata": {},
     "output_type": "execute_result"
    },
    {
     "data": {
      "image/png": "[encoded data removed]",
      "text/plain": [
       "<Figure size 1296x720 with 6 Axes>"
      ]
     },
     "metadata": {},
     "output_type": "display_data"
    }
   ],
   "source": [
    "K = 5\n",
    "f = plt.figure(figsize=(18,10))\n",
    "\n",
    "\n",
    "year = 2010\n",
    "N = 110\n",
    "freq_current = list(vectorized_wordarray[N:N+1,:][0])\n",
    "freq_next = list(vectorized_wordarray[N+1:N+2,:][0])\n",
    "indices = [i for i, x in enumerate(freq_current) if x == K]\n",
    "print(str(len(indices)) + \" words with \" + str(K) + \" counts\")\n",
    "change_in_values = [freq_next[i] for i in indices]\n",
    "variations = [j - K for j in change_in_values]\n",
    "sum_ = sum(dict(Counter(variations)).values())\n",
    "from collections import Counter\n",
    "X = [x for x,y in dict(Counter(variations)).items()]\n",
    "Y = [float(y)/sum_ for x,y in dict(Counter(variations)).items()]  \n",
    "ax = f.add_subplot(331)\n",
    "ax.scatter(X, Y)\n",
    "ax.set_xlabel(\"Variation\")\n",
    "ax.set_ylabel(\"Probability\")\n",
    "ax.set_title(str(year) + \" - Word Variations in \" + discipline)\n",
    "ax.legend()\n",
    "\n",
    "\n",
    "year = 2011\n",
    "N = 111\n",
    "freq_current = list(vectorized_wordarray[N:N+1,:][0])\n",
    "freq_next = list(vectorized_wordarray[N+1:N+2,:][0])\n",
    "indices = [i for i, x in enumerate(freq_current) if x == K]\n",
    "print(str(len(indices)) + \" words with \" + str(K) + \" counts\")\n",
    "change_in_values = [freq_next[i] for i in indices]\n",
    "variations = [j - K for j in change_in_values]\n",
    "sum_ = sum(dict(Counter(variations)).values())\n",
    "X = [x for x,y in dict(Counter(variations)).items()]\n",
    "Y = [float(y)/sum_ for x,y in dict(Counter(variations)).items()]\n",
    "ax2 = f.add_subplot(332)\n",
    "ax2.scatter(X, Y)\n",
    "ax2.set_xlabel(\"Variation\")\n",
    "ax2.set_ylabel(\"Probability\")\n",
    "ax2.set_title(str(year) + \" - Word Variations in \" + discipline)\n",
    "ax2.legend()\n",
    "\n",
    "\n",
    "year = 2012\n",
    "N = 112\n",
    "freq_current = list(vectorized_wordarray[N:N+1,:][0])\n",
    "freq_next = list(vectorized_wordarray[N+1:N+2,:][0])\n",
    "indices = [i for i, x in enumerate(freq_current) if x == K]\n",
    "print(str(len(indices)) + \" words with \" + str(K) + \" counts\")\n",
    "change_in_values = [freq_next[i] for i in indices]\n",
    "variations = [j - K for j in change_in_values]\n",
    "sum_ = sum(dict(Counter(variations)).values())\n",
    "X = [x for x,y in dict(Counter(variations)).items()]\n",
    "Y = [float(y)/sum_ for x,y in dict(Counter(variations)).items()]\n",
    "ax3 = f.add_subplot(333)\n",
    "ax3.scatter(X, Y)\n",
    "ax3.set_xlabel(\"Variation\")\n",
    "ax3.set_ylabel(\"Probability\")\n",
    "ax3.set_title(str(year) + \" - Word Variations in \" + discipline)\n",
    "ax3.legend()\n",
    "\n",
    "\n",
    "year = 2013\n",
    "N = 113\n",
    "freq_current = list(vectorized_wordarray[N:N+1,:][0])\n",
    "freq_next = list(vectorized_wordarray[N+1:N+2,:][0])\n",
    "indices = [i for i, x in enumerate(freq_current) if x == K]\n",
    "print(str(len(indices)) + \" words with \" + str(K) + \" counts\")\n",
    "change_in_values = [freq_next[i] for i in indices]\n",
    "variations = [j - K for j in change_in_values]\n",
    "sum_ = sum(dict(Counter(variations)).values())\n",
    "X = [x for x,y in dict(Counter(variations)).items()]\n",
    "Y = [float(y)/sum_ for x,y in dict(Counter(variations)).items()]\n",
    "ax4 = f.add_subplot(334)\n",
    "ax4.scatter(X, Y)\n",
    "ax4.set_xlabel(\"Variation\")\n",
    "ax4.set_ylabel(\"Probability\")\n",
    "ax4.set_title(str(year) + \" - Word Variations in \" + discipline)\n",
    "ax4.legend()\n",
    "\n",
    "\n",
    "year = 2014\n",
    "N = 114\n",
    "freq_current = list(vectorized_wordarray[N:N+1,:][0])\n",
    "freq_next = list(vectorized_wordarray[N+1:N+2,:][0])\n",
    "indices = [i for i, x in enumerate(freq_current) if x == K]\n",
    "print(str(len(indices)) + \" words with \" + str(K) + \" counts\")\n",
    "change_in_values = [freq_next[i] for i in indices]\n",
    "variations = [j - K for j in change_in_values]\n",
    "sum_ = sum(dict(Counter(variations)).values())\n",
    "X = [x for x,y in dict(Counter(variations)).items()]\n",
    "Y = [float(y)/sum_ for x,y in dict(Counter(variations)).items()]\n",
    "ax5 = f.add_subplot(335)\n",
    "ax5.scatter(X, Y)\n",
    "ax5.set_xlabel(\"Variation\")\n",
    "ax5.set_ylabel(\"Probability\")\n",
    "ax5.set_title(str(year) + \" - Word Variations in \" + discipline)\n",
    "ax5.legend()\n",
    "\n",
    "\n",
    "\n",
    "year = 2015\n",
    "N = 115\n",
    "freq_current = list(vectorized_wordarray[N:N+1,:][0])\n",
    "freq_next = list(vectorized_wordarray[N+1:N+2,:][0])\n",
    "indices = [i for i, x in enumerate(freq_current) if x == K]\n",
    "print(str(len(indices)) + \" words with \" + str(K) + \" counts\")\n",
    "change_in_values = [freq_next[i] for i in indices]\n",
    "variations = [j - K for j in change_in_values]\n",
    "sum_ = sum(dict(Counter(variations)).values())\n",
    "X = [x for x,y in dict(Counter(variations)).items()]\n",
    "Y = [float(y)/sum_ for x,y in dict(Counter(variations)).items()]\n",
    "ax6 = f.add_subplot(336)\n",
    "ax6.scatter(X, Y)\n",
    "ax6.set_xlabel(\"Variation\")\n",
    "ax6.set_ylabel(\"Probability\")\n",
    "ax6.set_title(str(year) + \" - Word Variations in \" + discipline)\n",
    "ax6.legend()"
   ]
  },
  {
   "cell_type": "code",
   "execution_count": 21,
   "metadata": {},
   "outputs": [
    {
     "name": "stderr",
     "output_type": "stream",
     "text": [
      "No handles with labels found to put in legend.\n",
      "No handles with labels found to put in legend.\n",
      "No handles with labels found to put in legend.\n",
      "No handles with labels found to put in legend.\n"
     ]
    },
    {
     "name": "stdout",
     "output_type": "stream",
     "text": [
      "373 words with 7 counts\n",
      "412 words with 7 counts\n",
      "394 words with 7 counts\n",
      "452 words with 7 counts\n"
     ]
    },
    {
     "name": "stderr",
     "output_type": "stream",
     "text": [
      "No handles with labels found to put in legend.\n",
      "No handles with labels found to put in legend.\n"
     ]
    },
    {
     "name": "stdout",
     "output_type": "stream",
     "text": [
      "440 words with 7 counts\n",
      "442 words with 7 counts\n"
     ]
    },
    {
     "data": {
      "text/plain": [
       "<matplotlib.legend.Legend at 0x7f7898eb6eb8>"
      ]
     },
     "execution_count": 21,
     "metadata": {},
     "output_type": "execute_result"
    },
    {
     "data": {
      "image/png": "[encoded data removed]",
      "text/plain": [
       "<Figure size 1296x720 with 6 Axes>"
      ]
     },
     "metadata": {},
     "output_type": "display_data"
    }
   ],
   "source": [
    "K = 7\n",
    "f = plt.figure(figsize=(18,10))\n",
    "\n",
    "\n",
    "year = 2010\n",
    "N = 110\n",
    "freq_current = list(vectorized_wordarray[N:N+1,:][0])\n",
    "freq_next = list(vectorized_wordarray[N+1:N+2,:][0])\n",
    "indices = [i for i, x in enumerate(freq_current) if x == K]\n",
    "print(str(len(indices)) + \" words with \" + str(K) + \" counts\")\n",
    "change_in_values = [freq_next[i] for i in indices]\n",
    "variations = [j - K for j in change_in_values]\n",
    "sum_ = sum(dict(Counter(variations)).values())\n",
    "from collections import Counter\n",
    "X = [x for x,y in dict(Counter(variations)).items()]\n",
    "Y = [float(y)/sum_ for x,y in dict(Counter(variations)).items()]  \n",
    "ax = f.add_subplot(331)\n",
    "ax.scatter(X, Y)\n",
    "ax.set_xlabel(\"Variation\")\n",
    "ax.set_ylabel(\"Probability\")\n",
    "ax.set_title(str(year) + \" - Word Variations in \" + discipline)\n",
    "ax.legend()\n",
    "\n",
    "\n",
    "year = 2011\n",
    "N = 111\n",
    "freq_current = list(vectorized_wordarray[N:N+1,:][0])\n",
    "freq_next = list(vectorized_wordarray[N+1:N+2,:][0])\n",
    "indices = [i for i, x in enumerate(freq_current) if x == K]\n",
    "print(str(len(indices)) + \" words with \" + str(K) + \" counts\")\n",
    "change_in_values = [freq_next[i] for i in indices]\n",
    "variations = [j - K for j in change_in_values]\n",
    "sum_ = sum(dict(Counter(variations)).values())\n",
    "X = [x for x,y in dict(Counter(variations)).items()]\n",
    "Y = [float(y)/sum_ for x,y in dict(Counter(variations)).items()]\n",
    "ax2 = f.add_subplot(332)\n",
    "ax2.scatter(X, Y)\n",
    "ax2.set_xlabel(\"Variation\")\n",
    "ax2.set_ylabel(\"Probability\")\n",
    "ax2.set_title(str(year) + \" - Word Variations in \" + discipline)\n",
    "ax2.legend()\n",
    "\n",
    "\n",
    "year = 2012\n",
    "N = 112\n",
    "freq_current = list(vectorized_wordarray[N:N+1,:][0])\n",
    "freq_next = list(vectorized_wordarray[N+1:N+2,:][0])\n",
    "indices = [i for i, x in enumerate(freq_current) if x == K]\n",
    "print(str(len(indices)) + \" words with \" + str(K) + \" counts\")\n",
    "change_in_values = [freq_next[i] for i in indices]\n",
    "variations = [j - K for j in change_in_values]\n",
    "sum_ = sum(dict(Counter(variations)).values())\n",
    "X = [x for x,y in dict(Counter(variations)).items()]\n",
    "Y = [float(y)/sum_ for x,y in dict(Counter(variations)).items()]\n",
    "ax3 = f.add_subplot(333)\n",
    "ax3.scatter(X, Y)\n",
    "ax3.set_xlabel(\"Variation\")\n",
    "ax3.set_ylabel(\"Probability\")\n",
    "ax3.set_title(str(year) + \" - Word Variations in \" + discipline)\n",
    "ax3.legend()\n",
    "\n",
    "\n",
    "year = 2013\n",
    "N = 113\n",
    "freq_current = list(vectorized_wordarray[N:N+1,:][0])\n",
    "freq_next = list(vectorized_wordarray[N+1:N+2,:][0])\n",
    "indices = [i for i, x in enumerate(freq_current) if x == K]\n",
    "print(str(len(indices)) + \" words with \" + str(K) + \" counts\")\n",
    "change_in_values = [freq_next[i] for i in indices]\n",
    "variations = [j - K for j in change_in_values]\n",
    "sum_ = sum(dict(Counter(variations)).values())\n",
    "X = [x for x,y in dict(Counter(variations)).items()]\n",
    "Y = [float(y)/sum_ for x,y in dict(Counter(variations)).items()]\n",
    "ax4 = f.add_subplot(334)\n",
    "ax4.scatter(X, Y)\n",
    "ax4.set_xlabel(\"Variation\")\n",
    "ax4.set_ylabel(\"Probability\")\n",
    "ax4.set_title(str(year) + \" - Word Variations in \" + discipline)\n",
    "ax4.legend()\n",
    "\n",
    "\n",
    "year = 2014\n",
    "N = 114\n",
    "freq_current = list(vectorized_wordarray[N:N+1,:][0])\n",
    "freq_next = list(vectorized_wordarray[N+1:N+2,:][0])\n",
    "indices = [i for i, x in enumerate(freq_current) if x == K]\n",
    "print(str(len(indices)) + \" words with \" + str(K) + \" counts\")\n",
    "change_in_values = [freq_next[i] for i in indices]\n",
    "variations = [j - K for j in change_in_values]\n",
    "sum_ = sum(dict(Counter(variations)).values())\n",
    "X = [x for x,y in dict(Counter(variations)).items()]\n",
    "Y = [float(y)/sum_ for x,y in dict(Counter(variations)).items()]\n",
    "ax5 = f.add_subplot(335)\n",
    "ax5.scatter(X, Y)\n",
    "ax5.set_xlabel(\"Variation\")\n",
    "ax5.set_ylabel(\"Probability\")\n",
    "ax5.set_title(str(year) + \" - Word Variations in \" + discipline)\n",
    "ax5.legend()\n",
    "\n",
    "\n",
    "\n",
    "year = 2015\n",
    "N = 115\n",
    "freq_current = list(vectorized_wordarray[N:N+1,:][0])\n",
    "freq_next = list(vectorized_wordarray[N+1:N+2,:][0])\n",
    "indices = [i for i, x in enumerate(freq_current) if x == K]\n",
    "print(str(len(indices)) + \" words with \" + str(K) + \" counts\")\n",
    "change_in_values = [freq_next[i] for i in indices]\n",
    "variations = [j - K for j in change_in_values]\n",
    "sum_ = sum(dict(Counter(variations)).values())\n",
    "X = [x for x,y in dict(Counter(variations)).items()]\n",
    "Y = [float(y)/sum_ for x,y in dict(Counter(variations)).items()]\n",
    "ax6 = f.add_subplot(336)\n",
    "ax6.scatter(X, Y)\n",
    "ax6.set_xlabel(\"Variation\")\n",
    "ax6.set_ylabel(\"Probability\")\n",
    "ax6.set_title(str(year) + \" - Word Variations in \" + discipline)\n",
    "ax6.legend()"
   ]
  },
  {
   "cell_type": "code",
   "execution_count": 22,
   "metadata": {},
   "outputs": [
    {
     "name": "stderr",
     "output_type": "stream",
     "text": [
      "No handles with labels found to put in legend.\n",
      "No handles with labels found to put in legend.\n",
      "No handles with labels found to put in legend.\n",
      "No handles with labels found to put in legend.\n"
     ]
    },
    {
     "name": "stdout",
     "output_type": "stream",
     "text": [
      "219 words with 10 counts\n",
      "227 words with 10 counts\n",
      "250 words with 10 counts\n",
      "249 words with 10 counts\n",
      "273 words with 10 counts\n"
     ]
    },
    {
     "name": "stderr",
     "output_type": "stream",
     "text": [
      "No handles with labels found to put in legend.\n",
      "No handles with labels found to put in legend.\n"
     ]
    },
    {
     "name": "stdout",
     "output_type": "stream",
     "text": [
      "254 words with 10 counts\n"
     ]
    },
    {
     "data": {
      "text/plain": [
       "<matplotlib.legend.Legend at 0x7f784db76a90>"
      ]
     },
     "execution_count": 22,
     "metadata": {},
     "output_type": "execute_result"
    },
    {
     "data": {
      "image/png": "[encoded data removed]",
      "text/plain": [
       "<Figure size 1296x720 with 6 Axes>"
      ]
     },
     "metadata": {},
     "output_type": "display_data"
    }
   ],
   "source": [
    "K = 10\n",
    "f = plt.figure(figsize=(18,10))\n",
    "\n",
    "\n",
    "year = 2010\n",
    "N = 110\n",
    "freq_current = list(vectorized_wordarray[N:N+1,:][0])\n",
    "freq_next = list(vectorized_wordarray[N+1:N+2,:][0])\n",
    "indices = [i for i, x in enumerate(freq_current) if x == K]\n",
    "print(str(len(indices)) + \" words with \" + str(K) + \" counts\")\n",
    "change_in_values = [freq_next[i] for i in indices]\n",
    "variations = [j - K for j in change_in_values]\n",
    "sum_ = sum(dict(Counter(variations)).values())\n",
    "from collections import Counter\n",
    "X = [x for x,y in dict(Counter(variations)).items()]\n",
    "Y = [float(y)/sum_ for x,y in dict(Counter(variations)).items()]  \n",
    "ax = f.add_subplot(331)\n",
    "ax.scatter(X, Y)\n",
    "ax.set_xlabel(\"Variation\")\n",
    "ax.set_ylabel(\"Probability\")\n",
    "ax.set_title(str(year) + \" - Word Variations in \" + discipline)\n",
    "ax.legend()\n",
    "\n",
    "\n",
    "year = 2011\n",
    "N = 111\n",
    "freq_current = list(vectorized_wordarray[N:N+1,:][0])\n",
    "freq_next = list(vectorized_wordarray[N+1:N+2,:][0])\n",
    "indices = [i for i, x in enumerate(freq_current) if x == K]\n",
    "print(str(len(indices)) + \" words with \" + str(K) + \" counts\")\n",
    "change_in_values = [freq_next[i] for i in indices]\n",
    "variations = [j - K for j in change_in_values]\n",
    "sum_ = sum(dict(Counter(variations)).values())\n",
    "X = [x for x,y in dict(Counter(variations)).items()]\n",
    "Y = [float(y)/sum_ for x,y in dict(Counter(variations)).items()]\n",
    "ax2 = f.add_subplot(332)\n",
    "ax2.scatter(X, Y)\n",
    "ax2.set_xlabel(\"Variation\")\n",
    "ax2.set_ylabel(\"Probability\")\n",
    "ax2.set_title(str(year) + \" - Word Variations in \" + discipline)\n",
    "ax2.legend()\n",
    "\n",
    "\n",
    "year = 2012\n",
    "N = 112\n",
    "freq_current = list(vectorized_wordarray[N:N+1,:][0])\n",
    "freq_next = list(vectorized_wordarray[N+1:N+2,:][0])\n",
    "indices = [i for i, x in enumerate(freq_current) if x == K]\n",
    "print(str(len(indices)) + \" words with \" + str(K) + \" counts\")\n",
    "change_in_values = [freq_next[i] for i in indices]\n",
    "variations = [j - K for j in change_in_values]\n",
    "sum_ = sum(dict(Counter(variations)).values())\n",
    "X = [x for x,y in dict(Counter(variations)).items()]\n",
    "Y = [float(y)/sum_ for x,y in dict(Counter(variations)).items()]\n",
    "ax3 = f.add_subplot(333)\n",
    "ax3.scatter(X, Y)\n",
    "ax3.set_xlabel(\"Variation\")\n",
    "ax3.set_ylabel(\"Probability\")\n",
    "ax3.set_title(str(year) + \" - Word Variations in \" + discipline)\n",
    "ax3.legend()\n",
    "\n",
    "\n",
    "year = 2013\n",
    "N = 113\n",
    "freq_current = list(vectorized_wordarray[N:N+1,:][0])\n",
    "freq_next = list(vectorized_wordarray[N+1:N+2,:][0])\n",
    "indices = [i for i, x in enumerate(freq_current) if x == K]\n",
    "print(str(len(indices)) + \" words with \" + str(K) + \" counts\")\n",
    "change_in_values = [freq_next[i] for i in indices]\n",
    "variations = [j - K for j in change_in_values]\n",
    "sum_ = sum(dict(Counter(variations)).values())\n",
    "X = [x for x,y in dict(Counter(variations)).items()]\n",
    "Y = [float(y)/sum_ for x,y in dict(Counter(variations)).items()]\n",
    "ax4 = f.add_subplot(334)\n",
    "ax4.scatter(X, Y)\n",
    "ax4.set_xlabel(\"Variation\")\n",
    "ax4.set_ylabel(\"Probability\")\n",
    "ax4.set_title(str(year) + \" - Word Variations in \" + discipline)\n",
    "ax4.legend()\n",
    "\n",
    "\n",
    "year = 2014\n",
    "N = 114\n",
    "freq_current = list(vectorized_wordarray[N:N+1,:][0])\n",
    "freq_next = list(vectorized_wordarray[N+1:N+2,:][0])\n",
    "indices = [i for i, x in enumerate(freq_current) if x == K]\n",
    "print(str(len(indices)) + \" words with \" + str(K) + \" counts\")\n",
    "change_in_values = [freq_next[i] for i in indices]\n",
    "variations = [j - K for j in change_in_values]\n",
    "sum_ = sum(dict(Counter(variations)).values())\n",
    "X = [x for x,y in dict(Counter(variations)).items()]\n",
    "Y = [float(y)/sum_ for x,y in dict(Counter(variations)).items()]\n",
    "ax5 = f.add_subplot(335)\n",
    "ax5.scatter(X, Y)\n",
    "ax5.set_xlabel(\"Variation\")\n",
    "ax5.set_ylabel(\"Probability\")\n",
    "ax5.set_title(str(year) + \" - Word Variations in \" + discipline)\n",
    "ax5.legend()\n",
    "\n",
    "\n",
    "\n",
    "year = 2015\n",
    "N = 115\n",
    "freq_current = list(vectorized_wordarray[N:N+1,:][0])\n",
    "freq_next = list(vectorized_wordarray[N+1:N+2,:][0])\n",
    "indices = [i for i, x in enumerate(freq_current) if x == K]\n",
    "print(str(len(indices)) + \" words with \" + str(K) + \" counts\")\n",
    "change_in_values = [freq_next[i] for i in indices]\n",
    "variations = [j - K for j in change_in_values]\n",
    "sum_ = sum(dict(Counter(variations)).values())\n",
    "X = [x for x,y in dict(Counter(variations)).items()]\n",
    "Y = [float(y)/sum_ for x,y in dict(Counter(variations)).items()]\n",
    "ax6 = f.add_subplot(336)\n",
    "ax6.scatter(X, Y)\n",
    "ax6.set_xlabel(\"Variation\")\n",
    "ax6.set_ylabel(\"Probability\")\n",
    "ax6.set_title(str(year) + \" - Word Variations in \" + discipline)\n",
    "ax6.legend()"
   ]
  },
  {
   "cell_type": "code",
   "execution_count": 23,
   "metadata": {},
   "outputs": [
    {
     "name": "stderr",
     "output_type": "stream",
     "text": [
      "No handles with labels found to put in legend.\n",
      "No handles with labels found to put in legend.\n",
      "No handles with labels found to put in legend.\n",
      "No handles with labels found to put in legend.\n"
     ]
    },
    {
     "name": "stdout",
     "output_type": "stream",
     "text": [
      "110 words with 15 counts\n",
      "161 words with 15 counts\n",
      "124 words with 15 counts\n",
      "123 words with 15 counts\n",
      "151 words with 15 counts\n"
     ]
    },
    {
     "name": "stderr",
     "output_type": "stream",
     "text": [
      "No handles with labels found to put in legend.\n",
      "No handles with labels found to put in legend.\n"
     ]
    },
    {
     "name": "stdout",
     "output_type": "stream",
     "text": [
      "125 words with 15 counts\n"
     ]
    },
    {
     "data": {
      "text/plain": [
       "<matplotlib.legend.Legend at 0x7f787732ca58>"
      ]
     },
     "execution_count": 23,
     "metadata": {},
     "output_type": "execute_result"
    },
    {
     "data": {
      "image/png": "[encoded data removed]",
      "text/plain": [
       "<Figure size 1296x720 with 6 Axes>"
      ]
     },
     "metadata": {},
     "output_type": "display_data"
    }
   ],
   "source": [
    "K = 15\n",
    "f = plt.figure(figsize=(18,10))\n",
    "\n",
    "\n",
    "year = 2010\n",
    "N = 110\n",
    "freq_current = list(vectorized_wordarray[N:N+1,:][0])\n",
    "freq_next = list(vectorized_wordarray[N+1:N+2,:][0])\n",
    "indices = [i for i, x in enumerate(freq_current) if x == K]\n",
    "print(str(len(indices)) + \" words with \" + str(K) + \" counts\")\n",
    "change_in_values = [freq_next[i] for i in indices]\n",
    "variations = [j - K for j in change_in_values]\n",
    "sum_ = sum(dict(Counter(variations)).values())\n",
    "from collections import Counter\n",
    "X = [x for x,y in dict(Counter(variations)).items()]\n",
    "Y = [float(y)/sum_ for x,y in dict(Counter(variations)).items()]  \n",
    "ax = f.add_subplot(331)\n",
    "ax.scatter(X, Y)\n",
    "ax.set_xlabel(\"Variation\")\n",
    "ax.set_ylabel(\"Probability\")\n",
    "ax.set_title(str(year) + \" - Word Variations in \" + discipline)\n",
    "ax.legend()\n",
    "\n",
    "\n",
    "year = 2011\n",
    "N = 111\n",
    "freq_current = list(vectorized_wordarray[N:N+1,:][0])\n",
    "freq_next = list(vectorized_wordarray[N+1:N+2,:][0])\n",
    "indices = [i for i, x in enumerate(freq_current) if x == K]\n",
    "print(str(len(indices)) + \" words with \" + str(K) + \" counts\")\n",
    "change_in_values = [freq_next[i] for i in indices]\n",
    "variations = [j - K for j in change_in_values]\n",
    "sum_ = sum(dict(Counter(variations)).values())\n",
    "X = [x for x,y in dict(Counter(variations)).items()]\n",
    "Y = [float(y)/sum_ for x,y in dict(Counter(variations)).items()]\n",
    "ax2 = f.add_subplot(332)\n",
    "ax2.scatter(X, Y)\n",
    "ax2.set_xlabel(\"Variation\")\n",
    "ax2.set_ylabel(\"Probability\")\n",
    "ax2.set_title(str(year) + \" - Word Variations in \" + discipline)\n",
    "ax2.legend()\n",
    "\n",
    "\n",
    "year = 2012\n",
    "N = 112\n",
    "freq_current = list(vectorized_wordarray[N:N+1,:][0])\n",
    "freq_next = list(vectorized_wordarray[N+1:N+2,:][0])\n",
    "indices = [i for i, x in enumerate(freq_current) if x == K]\n",
    "print(str(len(indices)) + \" words with \" + str(K) + \" counts\")\n",
    "change_in_values = [freq_next[i] for i in indices]\n",
    "variations = [j - K for j in change_in_values]\n",
    "sum_ = sum(dict(Counter(variations)).values())\n",
    "X = [x for x,y in dict(Counter(variations)).items()]\n",
    "Y = [float(y)/sum_ for x,y in dict(Counter(variations)).items()]\n",
    "ax3 = f.add_subplot(333)\n",
    "ax3.scatter(X, Y)\n",
    "ax3.set_xlabel(\"Variation\")\n",
    "ax3.set_ylabel(\"Probability\")\n",
    "ax3.set_title(str(year) + \" - Word Variations in \" + discipline)\n",
    "ax3.legend()\n",
    "\n",
    "\n",
    "year = 2013\n",
    "N = 113\n",
    "freq_current = list(vectorized_wordarray[N:N+1,:][0])\n",
    "freq_next = list(vectorized_wordarray[N+1:N+2,:][0])\n",
    "indices = [i for i, x in enumerate(freq_current) if x == K]\n",
    "print(str(len(indices)) + \" words with \" + str(K) + \" counts\")\n",
    "change_in_values = [freq_next[i] for i in indices]\n",
    "variations = [j - K for j in change_in_values]\n",
    "sum_ = sum(dict(Counter(variations)).values())\n",
    "X = [x for x,y in dict(Counter(variations)).items()]\n",
    "Y = [float(y)/sum_ for x,y in dict(Counter(variations)).items()]\n",
    "ax4 = f.add_subplot(334)\n",
    "ax4.scatter(X, Y)\n",
    "ax4.set_xlabel(\"Variation\")\n",
    "ax4.set_ylabel(\"Probability\")\n",
    "ax4.set_title(str(year) + \" - Word Variations in \" + discipline)\n",
    "ax4.legend()\n",
    "\n",
    "\n",
    "year = 2014\n",
    "N = 114\n",
    "freq_current = list(vectorized_wordarray[N:N+1,:][0])\n",
    "freq_next = list(vectorized_wordarray[N+1:N+2,:][0])\n",
    "indices = [i for i, x in enumerate(freq_current) if x == K]\n",
    "print(str(len(indices)) + \" words with \" + str(K) + \" counts\")\n",
    "change_in_values = [freq_next[i] for i in indices]\n",
    "variations = [j - K for j in change_in_values]\n",
    "sum_ = sum(dict(Counter(variations)).values())\n",
    "X = [x for x,y in dict(Counter(variations)).items()]\n",
    "Y = [float(y)/sum_ for x,y in dict(Counter(variations)).items()]\n",
    "ax5 = f.add_subplot(335)\n",
    "ax5.scatter(X, Y)\n",
    "ax5.set_xlabel(\"Variation\")\n",
    "ax5.set_ylabel(\"Probability\")\n",
    "ax5.set_title(str(year) + \" - Word Variations in \" + discipline)\n",
    "ax5.legend()\n",
    "\n",
    "\n",
    "\n",
    "year = 2015\n",
    "N = 115\n",
    "freq_current = list(vectorized_wordarray[N:N+1,:][0])\n",
    "freq_next = list(vectorized_wordarray[N+1:N+2,:][0])\n",
    "indices = [i for i, x in enumerate(freq_current) if x == K]\n",
    "print(str(len(indices)) + \" words with \" + str(K) + \" counts\")\n",
    "change_in_values = [freq_next[i] for i in indices]\n",
    "variations = [j - K for j in change_in_values]\n",
    "sum_ = sum(dict(Counter(variations)).values())\n",
    "X = [x for x,y in dict(Counter(variations)).items()]\n",
    "Y = [float(y)/sum_ for x,y in dict(Counter(variations)).items()]\n",
    "ax6 = f.add_subplot(336)\n",
    "ax6.scatter(X, Y)\n",
    "ax6.set_xlabel(\"Variation\")\n",
    "ax6.set_ylabel(\"Probability\")\n",
    "ax6.set_title(str(year) + \" - Word Variations in \" + discipline)\n",
    "ax6.legend()"
   ]
  },
  {
   "cell_type": "code",
   "execution_count": 29,
   "metadata": {},
   "outputs": [
    {
     "data": {
      "text/plain": [
       "dict_values([12, 15, 9, 1, 6, 10, 13, 3, 8, 9, 8, 2, 5, 2, 1, 11, 7, 3, 5, 2, 2, 1, 1, 1])"
      ]
     },
     "execution_count": 29,
     "metadata": {},
     "output_type": "execute_result"
    }
   ],
   "source": [
    "counts_ = dict(Counter(variations)).values()\n",
    "counts_"
   ]
  },
  {
   "cell_type": "code",
   "execution_count": 27,
   "metadata": {},
   "outputs": [
    {
     "data": {
      "text/plain": [
       "137"
      ]
     },
     "execution_count": 27,
     "metadata": {},
     "output_type": "execute_result"
    }
   ],
   "source": [
    "len(indices)"
   ]
  },
  {
   "cell_type": "code",
   "execution_count": 32,
   "metadata": {},
   "outputs": [
    {
     "name": "stderr",
     "output_type": "stream",
     "text": [
      "No handles with labels found to put in legend.\n"
     ]
    },
    {
     "data": {
      "text/plain": [
       "<matplotlib.legend.Legend at 0x7ff722b3d0b8>"
      ]
     },
     "execution_count": 32,
     "metadata": {},
     "output_type": "execute_result"
    },
    {
     "data": {
      "image/png": "[encoded data removed]",
      "text/plain": [
       "<Figure size 720x360 with 1 Axes>"
      ]
     },
     "metadata": {},
     "output_type": "display_data"
    }
   ],
   "source": [
    "year = 2013\n",
    "\n",
    "N = 112\n",
    "K = 10\n",
    "\n",
    "freq50 = list(vectorized_wordarray[N:N+1,:][0])\n",
    "freq51 = list(vectorized_wordarray[N+1:N+2,:][0])\n",
    "\n",
    "indices = [i for i, x in enumerate(freq50) if x == K]\n",
    "change_in_values = [freq51[i] for i in indices]\n",
    "\n",
    "variations = [j - K for j in change_in_values]\n",
    "\n",
    "sum_ = sum(dict(Counter(variations)).values())\n",
    "\n",
    "from collections import Counter\n",
    "\n",
    "X = [x for x,y in dict(Counter(variations)).items()]\n",
    "Y = [float(y)/sum_ for x,y in dict(Counter(variations)).items()]  \n",
    "\n",
    "\n",
    "f = plt.figure(figsize=(10,5))\n",
    "\n",
    "ax = f.add_subplot(111)\n",
    "\n",
    "ax.scatter(X, Y)\n",
    "ax.set_xlabel(\"Variation\")\n",
    "ax.set_ylabel(\"Probability\")\n",
    "ax.set_title(str(year) + \" - Word Variations in \" + discipline)\n",
    "ax.legend()"
   ]
  },
  {
   "cell_type": "code",
   "execution_count": 33,
   "metadata": {},
   "outputs": [
    {
     "name": "stderr",
     "output_type": "stream",
     "text": [
      "No handles with labels found to put in legend.\n"
     ]
    },
    {
     "data": {
      "text/plain": [
       "<matplotlib.legend.Legend at 0x7ff722ba4978>"
      ]
     },
     "execution_count": 33,
     "metadata": {},
     "output_type": "execute_result"
    },
    {
     "data": {
      "image/png": "[encoded data removed]",
      "text/plain": [
       "<Figure size 720x360 with 1 Axes>"
      ]
     },
     "metadata": {},
     "output_type": "display_data"
    }
   ],
   "source": [
    "year = 2014\n",
    "\n",
    "N = 113\n",
    "K = 10\n",
    "\n",
    "freq50 = list(vectorized_wordarray[N:N+1,:][0])\n",
    "freq51 = list(vectorized_wordarray[N+1:N+2,:][0])\n",
    "\n",
    "indices = [i for i, x in enumerate(freq50) if x == K]\n",
    "change_in_values = [freq51[i] for i in indices]\n",
    "\n",
    "\n",
    "variations = [j - K for j in change_in_values]\n",
    "\n",
    "sum_ = sum(dict(Counter(variations)).values())\n",
    "\n",
    "from collections import Counter\n",
    "\n",
    "X = [x for x,y in dict(Counter(variations)).items()]\n",
    "Y = [float(y)/sum_ for x,y in dict(Counter(variations)).items()]  \n",
    "\n",
    "\n",
    "\n",
    "f = plt.figure(figsize=(10,5))\n",
    "\n",
    "ax = f.add_subplot(111)\n",
    "\n",
    "ax.scatter(X, Y)\n",
    "ax.set_xlabel(\"Variation\")\n",
    "ax.set_ylabel(\"Probability\")\n",
    "ax.set_title(str(year) + \" - Word Variations in \" + discipline)\n",
    "ax.legend()"
   ]
  },
  {
   "cell_type": "code",
   "execution_count": 34,
   "metadata": {},
   "outputs": [
    {
     "name": "stderr",
     "output_type": "stream",
     "text": [
      "No handles with labels found to put in legend.\n"
     ]
    },
    {
     "data": {
      "text/plain": [
       "<matplotlib.legend.Legend at 0x7ff722d80e10>"
      ]
     },
     "execution_count": 34,
     "metadata": {},
     "output_type": "execute_result"
    },
    {
     "data": {
      "image/png": "[encoded data removed]",
      "text/plain": [
       "<Figure size 720x360 with 1 Axes>"
      ]
     },
     "metadata": {},
     "output_type": "display_data"
    }
   ],
   "source": [
    "year = 2015\n",
    "\n",
    "N = 114\n",
    "K = 10\n",
    "\n",
    "freq50 = list(vectorized_wordarray[N:N+1,:][0])\n",
    "freq51 = list(vectorized_wordarray[N+1:N+2,:][0])\n",
    "\n",
    "indices = [i for i, x in enumerate(freq50) if x == K]\n",
    "change_in_values = [freq51[i] for i in indices]\n",
    "\n",
    "variations = [j - K for j in change_in_values]\n",
    "\n",
    "sum_ = sum(dict(Counter(variations)).values())\n",
    "\n",
    "from collections import Counter\n",
    "\n",
    "X = [x for x,y in dict(Counter(variations)).items()]\n",
    "Y = [float(y)/sum_ for x,y in dict(Counter(variations)).items()]  \n",
    "\n",
    "\n",
    "\n",
    "f = plt.figure(figsize=(10,5))\n",
    "\n",
    "ax = f.add_subplot(111)\n",
    "\n",
    "ax.scatter(X, Y)\n",
    "ax.set_xlabel(\"Variation\")\n",
    "ax.set_ylabel(\"Probability\")\n",
    "ax.set_title(str(year) + \" - Word Variations in \" + discipline)\n",
    "ax.legend()"
   ]
  },
  {
   "cell_type": "code",
   "execution_count": null,
   "metadata": {},
   "outputs": [],
   "source": []
  }
 ],
 "metadata": {
  "kernelspec": {
   "display_name": "Python 3",
   "language": "python",
   "name": "python3"
  },
  "language_info": {
   "codemirror_mode": {
    "name": "ipython",
    "version": 3
   },
   "file_extension": ".py",
   "mimetype": "text/x-python",
   "name": "python",
   "nbconvert_exporter": "python",
   "pygments_lexer": "ipython3",
   "version": "3.6.7"
  }
 },
 "nbformat": 4,
 "nbformat_minor": 2
}
