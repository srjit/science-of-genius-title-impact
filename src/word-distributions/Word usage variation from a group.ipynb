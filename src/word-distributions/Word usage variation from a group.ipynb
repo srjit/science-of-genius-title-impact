{
 "cells": [
  {
   "cell_type": "code",
   "execution_count": 1,
   "metadata": {},
   "outputs": [],
   "source": [
    "import warnings\n",
    "warnings.filterwarnings('ignore')"
   ]
  },
  {
   "cell_type": "code",
   "execution_count": 2,
   "metadata": {},
   "outputs": [],
   "source": [
    "%load_ext autoreload\n",
    "%autoreload 2\n",
    "%matplotlib inline"
   ]
  },
  {
   "cell_type": "code",
   "execution_count": 3,
   "metadata": {},
   "outputs": [],
   "source": [
    "import sys\n",
    "sys.path.insert(0, \"../../code-previous\")"
   ]
  },
  {
   "cell_type": "code",
   "execution_count": 4,
   "metadata": {},
   "outputs": [],
   "source": [
    "import pandas as pd\n",
    "import numpy as np\n",
    "import operator\n",
    "\n",
    "import peakutils\n",
    "\n",
    "import string\n",
    "import nltk\n",
    "stopwords = nltk.corpus.stopwords.words('english')\n",
    "\n",
    "import operator\n",
    "\n",
    "\n",
    "import pickle\n",
    "from sklearn.feature_extraction.text import CountVectorizer\n",
    "\n",
    "import plotly\n",
    "import plotly.plotly as py\n",
    "from plotly import tools\n",
    "\n",
    "import plotly.graph_objs as go\n",
    "plotly.tools.set_credentials_file(username='sreejith_s', api_key='rcet0rTqFCc3WeOzWTjv')\n",
    "\n",
    "from unicodedata import category\n",
    "from tqdm import tqdm\n",
    "tqdm.pandas(desc=\"Progress\")\n",
    "\n",
    "import seaborn as sns\n",
    "sns.set_style('white')\n",
    "import matplotlib.pylab as plt"
   ]
  },
  {
   "cell_type": "code",
   "execution_count": 5,
   "metadata": {},
   "outputs": [],
   "source": [
    "filename = \"/mnt/disks/vault/analysis-data/interdisciplinary-novelty-analysis/corrected-entropy-analysis/word-journey-data.pql\"\n",
    "data_grouped_by_year_label = pd.read_pickle(filename)"
   ]
  },
  {
   "cell_type": "code",
   "execution_count": 6,
   "metadata": {},
   "outputs": [],
   "source": [
    "input_ = data_grouped_by_year_label[data_grouped_by_year_label.Label == \"Astronomy & Astrophysics\"]\n",
    "data_grouped_by_year_label = None"
   ]
  },
  {
   "cell_type": "code",
   "execution_count": 7,
   "metadata": {},
   "outputs": [
    {
     "data": {
      "text/html": [
       "<div>\n",
       "<style scoped>\n",
       "    .dataframe tbody tr th:only-of-type {\n",
       "        vertical-align: middle;\n",
       "    }\n",
       "\n",
       "    .dataframe tbody tr th {\n",
       "        vertical-align: top;\n",
       "    }\n",
       "\n",
       "    .dataframe thead th {\n",
       "        text-align: right;\n",
       "    }\n",
       "</style>\n",
       "<table border=\"1\" class=\"dataframe\">\n",
       "  <thead>\n",
       "    <tr style=\"text-align: right;\">\n",
       "      <th></th>\n",
       "      <th>index</th>\n",
       "      <th>Label</th>\n",
       "      <th>PubYear</th>\n",
       "      <th>title_without_stopwords</th>\n",
       "      <th>cleaned_titles</th>\n",
       "      <th>title_words_</th>\n",
       "      <th>title_words</th>\n",
       "    </tr>\n",
       "  </thead>\n",
       "  <tbody>\n",
       "    <tr>\n",
       "      <th>1212</th>\n",
       "      <td>1212</td>\n",
       "      <td>Astronomy &amp; Astrophysics</td>\n",
       "      <td>1900</td>\n",
       "      <td>[crossley reflector lick obsertvatory, crossle...</td>\n",
       "      <td>[calculation elliptic elements system cygni , ...</td>\n",
       "      <td>calculation elliptic elements system cygni  ph...</td>\n",
       "      <td>calculation elliptic elements system cygni phy...</td>\n",
       "    </tr>\n",
       "    <tr>\n",
       "      <th>1213</th>\n",
       "      <td>1213</td>\n",
       "      <td>Astronomy &amp; Astrophysics</td>\n",
       "      <td>1901</td>\n",
       "      <td>[accuracy photographic measures  second note ,...</td>\n",
       "      <td>[form interferometer , sixty four variable sta...</td>\n",
       "      <td>form interferometer  sixty four variable stars...</td>\n",
       "      <td>form interferometer sixty four variable stars ...</td>\n",
       "    </tr>\n",
       "    <tr>\n",
       "      <th>1214</th>\n",
       "      <td>1214</td>\n",
       "      <td>Astronomy &amp; Astrophysics</td>\n",
       "      <td>1902</td>\n",
       "      <td>[miscellaneous results , miscellaneous results...</td>\n",
       "      <td>[researches spectra metals  spectrum molybdenu...</td>\n",
       "      <td>researches spectra metals  spectrum molybdenum...</td>\n",
       "      <td>researches spectra metals spectrum molybdenum ...</td>\n",
       "    </tr>\n",
       "    <tr>\n",
       "      <th>1215</th>\n",
       "      <td>1215</td>\n",
       "      <td>Astronomy &amp; Astrophysics</td>\n",
       "      <td>1903</td>\n",
       "      <td>[cape double star results  1903 , cape double ...</td>\n",
       "      <td>[spectrographic observations standard velocity...</td>\n",
       "      <td>spectrographic observations standard velocity ...</td>\n",
       "      <td>spectrographic observations standard velocity ...</td>\n",
       "    </tr>\n",
       "    <tr>\n",
       "      <th>1216</th>\n",
       "      <td>1216</td>\n",
       "      <td>Astronomy &amp; Astrophysics</td>\n",
       "      <td>1904</td>\n",
       "      <td>[magnetic disturbances recorded royal observat...</td>\n",
       "      <td>[ninth satellite saturn , revised elements cyg...</td>\n",
       "      <td>ninth satellite saturn  revised elements cygni...</td>\n",
       "      <td>ninth satellite saturn revised elements cygni ...</td>\n",
       "    </tr>\n",
       "  </tbody>\n",
       "</table>\n",
       "</div>"
      ],
      "text/plain": [
       "      index                     Label  PubYear  \\\n",
       "1212   1212  Astronomy & Astrophysics     1900   \n",
       "1213   1213  Astronomy & Astrophysics     1901   \n",
       "1214   1214  Astronomy & Astrophysics     1902   \n",
       "1215   1215  Astronomy & Astrophysics     1903   \n",
       "1216   1216  Astronomy & Astrophysics     1904   \n",
       "\n",
       "                                title_without_stopwords  \\\n",
       "1212  [crossley reflector lick obsertvatory, crossle...   \n",
       "1213  [accuracy photographic measures  second note ,...   \n",
       "1214  [miscellaneous results , miscellaneous results...   \n",
       "1215  [cape double star results  1903 , cape double ...   \n",
       "1216  [magnetic disturbances recorded royal observat...   \n",
       "\n",
       "                                         cleaned_titles  \\\n",
       "1212  [calculation elliptic elements system cygni , ...   \n",
       "1213  [form interferometer , sixty four variable sta...   \n",
       "1214  [researches spectra metals  spectrum molybdenu...   \n",
       "1215  [spectrographic observations standard velocity...   \n",
       "1216  [ninth satellite saturn , revised elements cyg...   \n",
       "\n",
       "                                           title_words_  \\\n",
       "1212  calculation elliptic elements system cygni  ph...   \n",
       "1213  form interferometer  sixty four variable stars...   \n",
       "1214  researches spectra metals  spectrum molybdenum...   \n",
       "1215  spectrographic observations standard velocity ...   \n",
       "1216  ninth satellite saturn  revised elements cygni...   \n",
       "\n",
       "                                            title_words  \n",
       "1212  calculation elliptic elements system cygni phy...  \n",
       "1213  form interferometer sixty four variable stars ...  \n",
       "1214  researches spectra metals spectrum molybdenum ...  \n",
       "1215  spectrographic observations standard velocity ...  \n",
       "1216  ninth satellite saturn revised elements cygni ...  "
      ]
     },
     "execution_count": 7,
     "metadata": {},
     "output_type": "execute_result"
    }
   ],
   "source": [
    "input_.head()"
   ]
  },
  {
   "cell_type": "code",
   "execution_count": 8,
   "metadata": {},
   "outputs": [],
   "source": [
    "vectorizer = CountVectorizer()\n",
    "vectorized_words = vectorizer.fit_transform(input_.title_words)"
   ]
  },
  {
   "cell_type": "code",
   "execution_count": 9,
   "metadata": {},
   "outputs": [],
   "source": [
    "count_vocab = {value:key for key,value in vectorizer.vocabulary_.items()}\n",
    "count_rev_dict = {value:key for key,value in vectorizer.vocabulary_.items()}\n",
    "words = [count_rev_dict[i] for i in range(len(vectorizer.vocabulary_.keys()))]"
   ]
  },
  {
   "cell_type": "code",
   "execution_count": 10,
   "metadata": {},
   "outputs": [],
   "source": [
    "vectorized_wordarray = vectorized_words.toarray()\n",
    "document_frequency = (vectorized_wordarray != 0).sum(0).tolist()\n",
    "document_frequency_log =  [np.log(x) for x in document_frequency]\n",
    "#2. Term Frequency - Number of times in which a word appears in a document\n",
    "term_frequency = vectorized_words.sum(axis=0).reshape(-1,).tolist()[0]\n",
    "term_frequency_log = [np.log(x) for x in term_frequency]"
   ]
  },
  {
   "cell_type": "code",
   "execution_count": 11,
   "metadata": {},
   "outputs": [
    {
     "data": {
      "text/plain": [
       "(117, 47379)"
      ]
     },
     "execution_count": 11,
     "metadata": {},
     "output_type": "execute_result"
    }
   ],
   "source": [
    "vectorized_wordarray.shape"
   ]
  },
  {
   "cell_type": "code",
   "execution_count": 12,
   "metadata": {},
   "outputs": [
    {
     "name": "stderr",
     "output_type": "stream",
     "text": [
      "Progress: 100%|██████████| 117/117 [00:00<00:00, 61711.97it/s]\n"
     ]
    }
   ],
   "source": [
    "input_[\"number_of_pubs\"] = input_[\"title_without_stopwords\"].progress_apply(lambda x: len(x))"
   ]
  },
  {
   "cell_type": "code",
   "execution_count": 13,
   "metadata": {},
   "outputs": [
    {
     "name": "stderr",
     "output_type": "stream",
     "text": [
      "Progress: 100%|██████████| 117/117 [00:00<00:00, 389.38it/s]\n"
     ]
    }
   ],
   "source": [
    "input_[\"word_count\"] = input_[\"title_words\"].progress_apply(lambda x: len(x.split()))"
   ]
  },
  {
   "cell_type": "code",
   "execution_count": 14,
   "metadata": {},
   "outputs": [],
   "source": [
    "count_matrix = vectorized_words.toarray()"
   ]
  },
  {
   "cell_type": "code",
   "execution_count": 15,
   "metadata": {},
   "outputs": [
    {
     "data": {
      "text/plain": [
       "array([[0, 0, 0, 0, 0, 0, 0, 0, 0, 0, 0, 0, 0, 0, 0, 0, 0, 1, 0, 0],\n",
       "       [0, 0, 0, 0, 0, 0, 0, 0, 0, 0, 0, 0, 0, 0, 0, 0, 0, 0, 0, 0],\n",
       "       [0, 0, 0, 0, 0, 0, 0, 0, 0, 0, 0, 0, 0, 0, 0, 0, 0, 3, 0, 0],\n",
       "       [0, 0, 0, 0, 0, 0, 0, 0, 0, 0, 0, 0, 0, 0, 0, 0, 0, 1, 0, 0]],\n",
       "      dtype=int64)"
      ]
     },
     "execution_count": 15,
     "metadata": {},
     "output_type": "execute_result"
    }
   ],
   "source": [
    "count_matrix[:4,100:120]"
   ]
  },
  {
   "cell_type": "markdown",
   "metadata": {},
   "source": [
    "__Distribution of word counts in a year__"
   ]
  },
  {
   "cell_type": "code",
   "execution_count": 16,
   "metadata": {},
   "outputs": [],
   "source": [
    "uniques = []\n",
    "counts = []\n",
    "\n",
    "for i in range(count_matrix.shape[0]):\n",
    "    unique_, counts_tmp = np.unique(count_matrix[i:i+1,:], return_counts=True)    \n",
    "    counts_ = list(map(np.log, counts_tmp))\n",
    "    uniques.append(unique_)\n",
    "    counts.append(counts_)"
   ]
  },
  {
   "cell_type": "code",
   "execution_count": 17,
   "metadata": {},
   "outputs": [
    {
     "name": "stdout",
     "output_type": "stream",
     "text": [
      "19\n",
      "19\n"
     ]
    }
   ],
   "source": [
    "idx = 0\n",
    "print(len(counts[idx]))\n",
    "print(len(uniques[idx]))"
   ]
  },
  {
   "cell_type": "markdown",
   "metadata": {},
   "source": [
    "__Frequency Variations__"
   ]
  },
  {
   "cell_type": "markdown",
   "metadata": {},
   "source": [
    "Words which have a frequency of 20 in year Y<sub>t</sub>. How much do they normally vary in years Y<sub>t+1</sub>, t<sub>t+2</sub> etc."
   ]
  },
  {
   "cell_type": "code",
   "execution_count": 18,
   "metadata": {},
   "outputs": [],
   "source": [
    "word_freq_variations = []\n",
    "avg_variations_for_freq = []\n",
    "\n",
    "for index in range(vectorized_wordarray.shape[0] - 1):\n",
    "    \n",
    "    # take two consecutive years\n",
    "    tmp_ = vectorized_wordarray[index:index+2]\n",
    "    \n",
    "    #unique counts for the first year\n",
    "    unique_counts = np.unique(tmp_[0]) \n",
    "    \n",
    "    yearly_avg_variations_for_freq = {}\n",
    "    word_freq_variations = []\n",
    "    \n",
    "    word_freq_variations.append(tmp_[1] - tmp_[0])\n",
    "    \n",
    "    for uniq in unique_counts:\n",
    "        # find the indices where the value == uniq\n",
    "        indices, = np.where(tmp_[0] == uniq)\n",
    "        \n",
    "        # find the values in the next year where those indices are\n",
    "        # variations of words with that `uniq` count\n",
    "        transition_values = tmp_[1][indices]\n",
    "        variations = transition_values - uniq\n",
    "        \n",
    "#         if index == 49 and uniq == 12:\n",
    "#             import ipdb\n",
    "#             ipdb.set_trace()\n",
    "        \n",
    "        # mean variation of words with that `uniq` count\n",
    "        mean_variation = np.mean(variations)\n",
    "        \n",
    "        # make a list of mean variations\n",
    "        yearly_avg_variations_for_freq[uniq] = round(mean_variation, 3)\n",
    "    \n",
    "    avg_variations_for_freq.append(yearly_avg_variations_for_freq)"
   ]
  },
  {
   "cell_type": "code",
   "execution_count": 19,
   "metadata": {},
   "outputs": [],
   "source": [
    "#variations\n",
    "#array([ 3, 12], dtype=int64)\n",
    "\n",
    "#np.mean(variations)\n",
    "#7.5"
   ]
  },
  {
   "cell_type": "code",
   "execution_count": 20,
   "metadata": {},
   "outputs": [
    {
     "data": {
      "text/plain": [
       "{0: 0.006,\n",
       " 1: -0.64,\n",
       " 2: -1.05,\n",
       " 3: -1.158,\n",
       " 4: -1.739,\n",
       " 5: -0.5,\n",
       " 6: -1.2,\n",
       " 7: -5.667,\n",
       " 8: -5.0,\n",
       " 9: -4.5,\n",
       " 10: 4.5,\n",
       " 11: -0.333,\n",
       " 12: -5.0,\n",
       " 13: -5.0,\n",
       " 15: 6.0,\n",
       " 16: -11.0,\n",
       " 18: -6.0,\n",
       " 31: -10.0,\n",
       " 34: -9.0}"
      ]
     },
     "execution_count": 20,
     "metadata": {},
     "output_type": "execute_result"
    }
   ],
   "source": [
    "avg_variations_for_freq[idx]"
   ]
  },
  {
   "cell_type": "code",
   "execution_count": 21,
   "metadata": {},
   "outputs": [
    {
     "name": "stdout",
     "output_type": "stream",
     "text": [
      "Average change in freq of a word appearing `index` times in 1900  {0: 0.006, 1: -0.64, 2: -1.05, 3: -1.158, 4: -1.739, 5: -0.5, 6: -1.2, 7: -5.667, 8: -5.0, 9: -4.5, 10: 4.5, 11: -0.333, 12: -5.0, 13: -5.0, 15: 6.0, 16: -11.0, 18: -6.0, 31: -10.0, 34: -9.0}\n"
     ]
    }
   ],
   "source": [
    "# what are the frequencies of words in 1900\n",
    "print(\"Average change in freq of a word appearing `index` times in 1900 \", avg_variations_for_freq[0])"
   ]
  },
  {
   "cell_type": "code",
   "execution_count": 22,
   "metadata": {},
   "outputs": [
    {
     "name": "stderr",
     "output_type": "stream",
     "text": [
      "100%|██████████| 116/116 [02:30<00:00,  1.37s/it]\n"
     ]
    }
   ],
   "source": [
    "# check if the word with frequency is changing at more than an average frequency\n",
    "words_with_high_rate_of_change = []\n",
    "\n",
    "word_indices = []\n",
    "word_indices_below_avg = []\n",
    "\n",
    "for year_index in tqdm(range(1, vectorized_wordarray.shape[0])):\n",
    "    \n",
    "    prev_year = vectorized_wordarray[year_index -1]\n",
    "    current_year = vectorized_wordarray[year_index]\n",
    "    \n",
    "    avg_change_rate_for_year = avg_variations_for_freq[year_index - 1]\n",
    "    \n",
    "    word_indices_above_average_for_year = {}\n",
    "    word_indices_below_average_for_year = {}\n",
    "    \n",
    "    #for freq in range(len(avg_variations_for_freq[year_index])):\n",
    "    for count, mean_variation in avg_change_rate_for_year.items():\n",
    "        \n",
    "        try:\n",
    "            #avg_freq_for_words_with_similar_freq_in_current_year = avg_change_rate_for_year[freq]\n",
    "        \n",
    "            # indices in tmp_ where avg_change_rate_for_year\n",
    "            indices1 = np.where(prev_year == count)[0]            \n",
    "            indices2 = np.where(current_year > mean_variation)[0]\n",
    "            indices3 = np.where(current_year < mean_variation)[0]\n",
    "            \n",
    "            above_average_freq_indices = [index for index in indices1 if index in indices2]\n",
    "            below_average_freq_indices = [index for index in indices1 if index in indices3]\n",
    "            \n",
    "            word_indices_above_average_for_year[count] = above_average_freq_indices\n",
    "            word_indices_below_average_for_year[count] = below_average_freq_indices\n",
    "            \n",
    "        except:\n",
    "            \n",
    "            import ipdb\n",
    "            ipdb.set_trace()\n",
    "        \n",
    "    word_indices.append(word_indices_above_average_for_year) \n",
    "    word_indices_below_avg.append(word_indices_below_average_for_year)"
   ]
  },
  {
   "cell_type": "markdown",
   "metadata": {},
   "source": [
    "__Consider the words appearing 15 times in 1950__"
   ]
  },
  {
   "cell_type": "code",
   "execution_count": 23,
   "metadata": {},
   "outputs": [
    {
     "name": "stdout",
     "output_type": "stream",
     "text": [
      "dict_keys([0, 1, 2, 3, 4, 5, 6, 7, 8, 9, 10, 12, 14, 16, 20, 37])\n",
      "[39017, 39469]\n",
      "[0]\n"
     ]
    }
   ],
   "source": [
    "year_idx = 49\n",
    "print(word_indices[year_idx].keys())\n",
    "print(word_indices[year_idx][12])\n",
    "#print(word_indices_below_avg[year_idx][1])\n",
    "print(vectorized_wordarray[:,index:index+1][49])"
   ]
  },
  {
   "cell_type": "code",
   "execution_count": 24,
   "metadata": {},
   "outputs": [
    {
     "name": "stdout",
     "output_type": "stream",
     "text": [
      "solar\n"
     ]
    },
    {
     "data": {
      "text/plain": [
       "10331"
      ]
     },
     "execution_count": 24,
     "metadata": {},
     "output_type": "execute_result"
    }
   ],
   "source": [
    "print(words[39017])\n",
    "\n",
    "w = \"deuteron\"\n",
    "vectorizer.vocabulary_[w]"
   ]
  },
  {
   "cell_type": "markdown",
   "metadata": {},
   "source": [
    "__Just look at the counts instead of above average growth rate__"
   ]
  },
  {
   "cell_type": "code",
   "execution_count": 25,
   "metadata": {},
   "outputs": [],
   "source": [
    "def check_freq_increasing(index, start_year, buffer=3):\n",
    "    \n",
    "    begin_index = (start_year % 100) - 1\n",
    "    # [begin_index:begin_index+4]\n",
    "    tmp = vectorized_wordarray[:,index:index+1][begin_index:]\n",
    "    return tmp.reshape(-1,)   \n",
    "    \n",
    "\n",
    "index = 39017   \n",
    "start = 1967\n",
    "x = list(range(start,2018))\n",
    "y = check_freq_increasing(index, start)    "
   ]
  },
  {
   "cell_type": "code",
   "execution_count": 26,
   "metadata": {},
   "outputs": [
    {
     "data": {
      "text/plain": [
       "51"
      ]
     },
     "execution_count": 26,
     "metadata": {},
     "output_type": "execute_result"
    }
   ],
   "source": [
    "len(y)"
   ]
  },
  {
   "cell_type": "code",
   "execution_count": 27,
   "metadata": {},
   "outputs": [
    {
     "data": {
      "text/plain": [
       "<matplotlib.legend.Legend at 0x7f2acf8ee9b0>"
      ]
     },
     "execution_count": 27,
     "metadata": {},
     "output_type": "execute_result"
    },
    {
     "data": {
      "image/png": "[encoded data removed]",
      "text/plain": [
       "<Figure size 1080x720 with 1 Axes>"
      ]
     },
     "metadata": {},
     "output_type": "display_data"
    }
   ],
   "source": [
    "f = plt.figure(figsize=(15,10))\n",
    "\n",
    "ax = f.add_subplot(111)\n",
    "\n",
    "ax.plot(x,y, label=words[index])\n",
    "ax.set_xlabel(\"Year\")\n",
    "ax.set_ylabel(\"Count\")\n",
    "\n",
    "ax.legend()"
   ]
  },
  {
   "cell_type": "code",
   "execution_count": 28,
   "metadata": {},
   "outputs": [
    {
     "data": {
      "text/html": [
       "<div>\n",
       "<style scoped>\n",
       "    .dataframe tbody tr th:only-of-type {\n",
       "        vertical-align: middle;\n",
       "    }\n",
       "\n",
       "    .dataframe tbody tr th {\n",
       "        vertical-align: top;\n",
       "    }\n",
       "\n",
       "    .dataframe thead th {\n",
       "        text-align: right;\n",
       "    }\n",
       "</style>\n",
       "<table border=\"1\" class=\"dataframe\">\n",
       "  <thead>\n",
       "    <tr style=\"text-align: right;\">\n",
       "      <th></th>\n",
       "      <th>index</th>\n",
       "      <th>Label</th>\n",
       "      <th>PubYear</th>\n",
       "      <th>title_without_stopwords</th>\n",
       "      <th>cleaned_titles</th>\n",
       "      <th>title_words_</th>\n",
       "      <th>title_words</th>\n",
       "      <th>number_of_pubs</th>\n",
       "      <th>word_count</th>\n",
       "    </tr>\n",
       "  </thead>\n",
       "  <tbody>\n",
       "    <tr>\n",
       "      <th>1212</th>\n",
       "      <td>1212</td>\n",
       "      <td>Astronomy &amp; Astrophysics</td>\n",
       "      <td>1900</td>\n",
       "      <td>[crossley reflector lick obsertvatory, crossle...</td>\n",
       "      <td>[calculation elliptic elements system cygni , ...</td>\n",
       "      <td>calculation elliptic elements system cygni  ph...</td>\n",
       "      <td>calculation elliptic elements system cygni phy...</td>\n",
       "      <td>356</td>\n",
       "      <td>1040</td>\n",
       "    </tr>\n",
       "    <tr>\n",
       "      <th>1213</th>\n",
       "      <td>1213</td>\n",
       "      <td>Astronomy &amp; Astrophysics</td>\n",
       "      <td>1901</td>\n",
       "      <td>[accuracy photographic measures  second note ,...</td>\n",
       "      <td>[form interferometer , sixty four variable sta...</td>\n",
       "      <td>form interferometer  sixty four variable stars...</td>\n",
       "      <td>form interferometer sixty four variable stars ...</td>\n",
       "      <td>296</td>\n",
       "      <td>843</td>\n",
       "    </tr>\n",
       "    <tr>\n",
       "      <th>1214</th>\n",
       "      <td>1214</td>\n",
       "      <td>Astronomy &amp; Astrophysics</td>\n",
       "      <td>1902</td>\n",
       "      <td>[miscellaneous results , miscellaneous results...</td>\n",
       "      <td>[researches spectra metals  spectrum molybdenu...</td>\n",
       "      <td>researches spectra metals  spectrum molybdenum...</td>\n",
       "      <td>researches spectra metals spectrum molybdenum ...</td>\n",
       "      <td>304</td>\n",
       "      <td>950</td>\n",
       "    </tr>\n",
       "    <tr>\n",
       "      <th>1215</th>\n",
       "      <td>1215</td>\n",
       "      <td>Astronomy &amp; Astrophysics</td>\n",
       "      <td>1903</td>\n",
       "      <td>[cape double star results  1903 , cape double ...</td>\n",
       "      <td>[spectrographic observations standard velocity...</td>\n",
       "      <td>spectrographic observations standard velocity ...</td>\n",
       "      <td>spectrographic observations standard velocity ...</td>\n",
       "      <td>330</td>\n",
       "      <td>990</td>\n",
       "    </tr>\n",
       "    <tr>\n",
       "      <th>1216</th>\n",
       "      <td>1216</td>\n",
       "      <td>Astronomy &amp; Astrophysics</td>\n",
       "      <td>1904</td>\n",
       "      <td>[magnetic disturbances recorded royal observat...</td>\n",
       "      <td>[ninth satellite saturn , revised elements cyg...</td>\n",
       "      <td>ninth satellite saturn  revised elements cygni...</td>\n",
       "      <td>ninth satellite saturn revised elements cygni ...</td>\n",
       "      <td>348</td>\n",
       "      <td>985</td>\n",
       "    </tr>\n",
       "  </tbody>\n",
       "</table>\n",
       "</div>"
      ],
      "text/plain": [
       "      index                     Label  PubYear  \\\n",
       "1212   1212  Astronomy & Astrophysics     1900   \n",
       "1213   1213  Astronomy & Astrophysics     1901   \n",
       "1214   1214  Astronomy & Astrophysics     1902   \n",
       "1215   1215  Astronomy & Astrophysics     1903   \n",
       "1216   1216  Astronomy & Astrophysics     1904   \n",
       "\n",
       "                                title_without_stopwords  \\\n",
       "1212  [crossley reflector lick obsertvatory, crossle...   \n",
       "1213  [accuracy photographic measures  second note ,...   \n",
       "1214  [miscellaneous results , miscellaneous results...   \n",
       "1215  [cape double star results  1903 , cape double ...   \n",
       "1216  [magnetic disturbances recorded royal observat...   \n",
       "\n",
       "                                         cleaned_titles  \\\n",
       "1212  [calculation elliptic elements system cygni , ...   \n",
       "1213  [form interferometer , sixty four variable sta...   \n",
       "1214  [researches spectra metals  spectrum molybdenu...   \n",
       "1215  [spectrographic observations standard velocity...   \n",
       "1216  [ninth satellite saturn , revised elements cyg...   \n",
       "\n",
       "                                           title_words_  \\\n",
       "1212  calculation elliptic elements system cygni  ph...   \n",
       "1213  form interferometer  sixty four variable stars...   \n",
       "1214  researches spectra metals  spectrum molybdenum...   \n",
       "1215  spectrographic observations standard velocity ...   \n",
       "1216  ninth satellite saturn  revised elements cygni...   \n",
       "\n",
       "                                            title_words  number_of_pubs  \\\n",
       "1212  calculation elliptic elements system cygni phy...             356   \n",
       "1213  form interferometer sixty four variable stars ...             296   \n",
       "1214  researches spectra metals spectrum molybdenum ...             304   \n",
       "1215  spectrographic observations standard velocity ...             330   \n",
       "1216  ninth satellite saturn revised elements cygni ...             348   \n",
       "\n",
       "      word_count  \n",
       "1212        1040  \n",
       "1213         843  \n",
       "1214         950  \n",
       "1215         990  \n",
       "1216         985  "
      ]
     },
     "execution_count": 28,
     "metadata": {},
     "output_type": "execute_result"
    }
   ],
   "source": [
    "input_.head()"
   ]
  },
  {
   "cell_type": "code",
   "execution_count": 34,
   "metadata": {},
   "outputs": [
    {
     "data": {
      "text/plain": [
       "'deuteron'"
      ]
     },
     "execution_count": 34,
     "metadata": {},
     "output_type": "execute_result"
    }
   ],
   "source": [
    "w"
   ]
  },
  {
   "cell_type": "code",
   "execution_count": 48,
   "metadata": {},
   "outputs": [],
   "source": [
    "def popularity(word):\n",
    "    \n",
    "    word_ = \" \" + word + \" \"\n",
    "   \n",
    "    def word_in_sentence(sentence):\n",
    "        return word_ in sentence\n",
    "    \n",
    "    data = input_.copy(deep=True)\n",
    "    data[\"titles_with_word\"] = data[\"cleaned_titles\"].apply(lambda x: len(list(filter(word_in_sentence, x))))\n",
    "    data[\"count_of_words\"] = data[\"title_words\"].apply(lambda x: x.count(word_))\n",
    "    data[\"normalized_title_count\"] = data.apply(lambda x: round(x[\"titles_with_word\"]/x[\"number_of_pubs\"], 3), axis=1)                                                                   \n",
    "   \n",
    "    return data\n",
    "    \n",
    "foo = popularity(\"solar\")   \n",
    "word2 = popularity(w)\n",
    "word3 = popularity(\"dust\")\n",
    "word4 = popularity(\"lacertae\")\n",
    "word5 = popularity(\"spectrum\")\n",
    "word6 = popularity(\"radio\")\n"
   ]
  },
  {
   "cell_type": "code",
   "execution_count": 44,
   "metadata": {},
   "outputs": [
    {
     "data": {
      "text/html": [
       "<div>\n",
       "<style scoped>\n",
       "    .dataframe tbody tr th:only-of-type {\n",
       "        vertical-align: middle;\n",
       "    }\n",
       "\n",
       "    .dataframe tbody tr th {\n",
       "        vertical-align: top;\n",
       "    }\n",
       "\n",
       "    .dataframe thead th {\n",
       "        text-align: right;\n",
       "    }\n",
       "</style>\n",
       "<table border=\"1\" class=\"dataframe\">\n",
       "  <thead>\n",
       "    <tr style=\"text-align: right;\">\n",
       "      <th></th>\n",
       "      <th>index</th>\n",
       "      <th>Label</th>\n",
       "      <th>PubYear</th>\n",
       "      <th>title_without_stopwords</th>\n",
       "      <th>cleaned_titles</th>\n",
       "      <th>title_words_</th>\n",
       "      <th>title_words</th>\n",
       "      <th>number_of_pubs</th>\n",
       "      <th>word_count</th>\n",
       "      <th>titles_with_word</th>\n",
       "      <th>count_of_words</th>\n",
       "      <th>normalized_title_count</th>\n",
       "    </tr>\n",
       "  </thead>\n",
       "  <tbody>\n",
       "    <tr>\n",
       "      <th>1261</th>\n",
       "      <td>1261</td>\n",
       "      <td>Astronomy &amp; Astrophysics</td>\n",
       "      <td>1949</td>\n",
       "      <td>[cosmological problem, cosmological problem, c...</td>\n",
       "      <td>[structure stars non uniform composition, self...</td>\n",
       "      <td>structure stars non uniform composition self c...</td>\n",
       "      <td>structure stars non uniform composition self c...</td>\n",
       "      <td>494</td>\n",
       "      <td>1322</td>\n",
       "      <td>9</td>\n",
       "      <td>12</td>\n",
       "      <td>0.018</td>\n",
       "    </tr>\n",
       "    <tr>\n",
       "      <th>1262</th>\n",
       "      <td>1262</td>\n",
       "      <td>Astronomy &amp; Astrophysics</td>\n",
       "      <td>1950</td>\n",
       "      <td>[spectroscopic binary delta orionis, spectrosc...</td>\n",
       "      <td>[observations double stars, spectroscopic comp...</td>\n",
       "      <td>observations double stars spectroscopic compar...</td>\n",
       "      <td>observations double stars spectroscopic compar...</td>\n",
       "      <td>524</td>\n",
       "      <td>1404</td>\n",
       "      <td>12</td>\n",
       "      <td>15</td>\n",
       "      <td>0.023</td>\n",
       "    </tr>\n",
       "    <tr>\n",
       "      <th>1263</th>\n",
       "      <td>1263</td>\n",
       "      <td>Astronomy &amp; Astrophysics</td>\n",
       "      <td>1951</td>\n",
       "      <td>[ veranderungen spektrum orionis,  veranderung...</td>\n",
       "      <td>[ uber induktionsfluss durch sonnenfleckengrup...</td>\n",
       "      <td>uber induktionsfluss durch sonnenfleckengrupp...</td>\n",
       "      <td>uber induktionsfluss durch sonnenfleckengruppe...</td>\n",
       "      <td>520</td>\n",
       "      <td>1388</td>\n",
       "      <td>6</td>\n",
       "      <td>7</td>\n",
       "      <td>0.012</td>\n",
       "    </tr>\n",
       "    <tr>\n",
       "      <th>1264</th>\n",
       "      <td>1264</td>\n",
       "      <td>Astronomy &amp; Astrophysics</td>\n",
       "      <td>1952</td>\n",
       "      <td>[semiregular variable stars tauri related clas...</td>\n",
       "      <td>[note color magnitude diagram messier 3, probl...</td>\n",
       "      <td>note color magnitude diagram messier 3 problem...</td>\n",
       "      <td>note color magnitude diagram messier problems ...</td>\n",
       "      <td>640</td>\n",
       "      <td>1623</td>\n",
       "      <td>9</td>\n",
       "      <td>12</td>\n",
       "      <td>0.014</td>\n",
       "    </tr>\n",
       "    <tr>\n",
       "      <th>1265</th>\n",
       "      <td>1265</td>\n",
       "      <td>Astronomy &amp; Astrophysics</td>\n",
       "      <td>1953</td>\n",
       "      <td>[outer atmospheres some stars, outer atmospher...</td>\n",
       "      <td>[parallax orbital motion multiple system omega...</td>\n",
       "      <td>parallax orbital motion multiple system omega ...</td>\n",
       "      <td>parallax orbital motion multiple system omega ...</td>\n",
       "      <td>524</td>\n",
       "      <td>1402</td>\n",
       "      <td>14</td>\n",
       "      <td>19</td>\n",
       "      <td>0.027</td>\n",
       "    </tr>\n",
       "    <tr>\n",
       "      <th>1266</th>\n",
       "      <td>1266</td>\n",
       "      <td>Astronomy &amp; Astrophysics</td>\n",
       "      <td>1954</td>\n",
       "      <td>[secular accelerations phobos jupiter v, secul...</td>\n",
       "      <td>[colors bright stars, revised analysis solar s...</td>\n",
       "      <td>colors bright stars revised analysis solar spe...</td>\n",
       "      <td>colors bright stars revised analysis solar spe...</td>\n",
       "      <td>654</td>\n",
       "      <td>1752</td>\n",
       "      <td>18</td>\n",
       "      <td>25</td>\n",
       "      <td>0.028</td>\n",
       "    </tr>\n",
       "  </tbody>\n",
       "</table>\n",
       "</div>"
      ],
      "text/plain": [
       "      index                     Label  PubYear  \\\n",
       "1261   1261  Astronomy & Astrophysics     1949   \n",
       "1262   1262  Astronomy & Astrophysics     1950   \n",
       "1263   1263  Astronomy & Astrophysics     1951   \n",
       "1264   1264  Astronomy & Astrophysics     1952   \n",
       "1265   1265  Astronomy & Astrophysics     1953   \n",
       "1266   1266  Astronomy & Astrophysics     1954   \n",
       "\n",
       "                                title_without_stopwords  \\\n",
       "1261  [cosmological problem, cosmological problem, c...   \n",
       "1262  [spectroscopic binary delta orionis, spectrosc...   \n",
       "1263  [ veranderungen spektrum orionis,  veranderung...   \n",
       "1264  [semiregular variable stars tauri related clas...   \n",
       "1265  [outer atmospheres some stars, outer atmospher...   \n",
       "1266  [secular accelerations phobos jupiter v, secul...   \n",
       "\n",
       "                                         cleaned_titles  \\\n",
       "1261  [structure stars non uniform composition, self...   \n",
       "1262  [observations double stars, spectroscopic comp...   \n",
       "1263  [ uber induktionsfluss durch sonnenfleckengrup...   \n",
       "1264  [note color magnitude diagram messier 3, probl...   \n",
       "1265  [parallax orbital motion multiple system omega...   \n",
       "1266  [colors bright stars, revised analysis solar s...   \n",
       "\n",
       "                                           title_words_  \\\n",
       "1261  structure stars non uniform composition self c...   \n",
       "1262  observations double stars spectroscopic compar...   \n",
       "1263   uber induktionsfluss durch sonnenfleckengrupp...   \n",
       "1264  note color magnitude diagram messier 3 problem...   \n",
       "1265  parallax orbital motion multiple system omega ...   \n",
       "1266  colors bright stars revised analysis solar spe...   \n",
       "\n",
       "                                            title_words  number_of_pubs  \\\n",
       "1261  structure stars non uniform composition self c...             494   \n",
       "1262  observations double stars spectroscopic compar...             524   \n",
       "1263  uber induktionsfluss durch sonnenfleckengruppe...             520   \n",
       "1264  note color magnitude diagram messier problems ...             640   \n",
       "1265  parallax orbital motion multiple system omega ...             524   \n",
       "1266  colors bright stars revised analysis solar spe...             654   \n",
       "\n",
       "      word_count  titles_with_word  count_of_words  normalized_title_count  \n",
       "1261        1322                 9              12                   0.018  \n",
       "1262        1404                12              15                   0.023  \n",
       "1263        1388                 6               7                   0.012  \n",
       "1264        1623                 9              12                   0.014  \n",
       "1265        1402                14              19                   0.027  \n",
       "1266        1752                18              25                   0.028  "
      ]
     },
     "execution_count": 44,
     "metadata": {},
     "output_type": "execute_result"
    }
   ],
   "source": [
    "foo.iloc[49:55]"
   ]
  },
  {
   "cell_type": "code",
   "execution_count": 49,
   "metadata": {},
   "outputs": [
    {
     "data": {
      "text/plain": [
       "<matplotlib.legend.Legend at 0x7f2acf9d29e8>"
      ]
     },
     "execution_count": 49,
     "metadata": {},
     "output_type": "execute_result"
    },
    {
     "data": {
      "image/png": "[encoded data removed]",
      "text/plain": [
       "<Figure size 1080x720 with 1 Axes>"
      ]
     },
     "metadata": {},
     "output_type": "display_data"
    }
   ],
   "source": [
    "f = plt.figure(figsize=(15,10))\n",
    "\n",
    "ax = f.add_subplot(111)\n",
    "\n",
    "ax.plot(foo[\"PubYear\"],foo[\"normalized_title_count\"], label=words[39017])\n",
    "ax.plot(word2[\"PubYear\"],word2[\"normalized_title_count\"], label=w)\n",
    "ax.plot(word3[\"PubYear\"],word3[\"normalized_title_count\"], label=\"dust\")\n",
    "ax.plot(word4[\"PubYear\"],word4[\"normalized_title_count\"], label=\"lacertae\")\n",
    "ax.plot(word5[\"PubYear\"],word5[\"normalized_title_count\"], label=\"spectrum\")\n",
    "ax.plot(word6[\"PubYear\"],word6[\"normalized_title_count\"], label=\"radio\")\n",
    "\n",
    "\n",
    "ax.set_xlabel(\"Year\")\n",
    "ax.set_ylabel(\"Popularity\")\n",
    "\n",
    "ax.legend()"
   ]
  }
 ],
 "metadata": {
  "kernelspec": {
   "display_name": "Python 3",
   "language": "python",
   "name": "python3"
  },
  "language_info": {
   "codemirror_mode": {
    "name": "ipython",
    "version": 3
   },
   "file_extension": ".py",
   "mimetype": "text/x-python",
   "name": "python",
   "nbconvert_exporter": "python",
   "pygments_lexer": "ipython3",
   "version": "3.6.7"
  }
 },
 "nbformat": 4,
 "nbformat_minor": 2
}
