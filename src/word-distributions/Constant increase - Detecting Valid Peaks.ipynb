{
 "cells": [
  {
   "cell_type": "code",
   "execution_count": 1,
   "metadata": {},
   "outputs": [],
   "source": [
    "import warnings\n",
    "warnings.filterwarnings('ignore')"
   ]
  },
  {
   "cell_type": "code",
   "execution_count": 2,
   "metadata": {},
   "outputs": [],
   "source": [
    "%load_ext autoreload\n",
    "%autoreload 2\n",
    "%matplotlib inline"
   ]
  },
  {
   "cell_type": "code",
   "execution_count": 3,
   "metadata": {},
   "outputs": [],
   "source": [
    "import sys\n",
    "sys.path.insert(0, \"../../code-previous\")"
   ]
  },
  {
   "cell_type": "code",
   "execution_count": 4,
   "metadata": {},
   "outputs": [],
   "source": [
    "import pandas as pd\n",
    "import numpy as np\n",
    "import operator\n",
    "\n",
    "import peakutils\n",
    "\n",
    "import string\n",
    "import nltk\n",
    "stopwords = nltk.corpus.stopwords.words('english')\n",
    "\n",
    "import operator\n",
    "\n",
    "\n",
    "import pickle\n",
    "from sklearn.feature_extraction.text import CountVectorizer\n",
    "\n",
    "import plotly\n",
    "import plotly.plotly as py\n",
    "from plotly import tools\n",
    "\n",
    "import plotly.graph_objs as go\n",
    "plotly.tools.set_credentials_file(username='sreejith_s', api_key='rcet0rTqFCc3WeOzWTjv')\n",
    "\n",
    "from unicodedata import category\n",
    "from tqdm import tqdm\n",
    "tqdm.pandas(desc=\"Progress\")\n",
    "\n",
    "import seaborn as sns\n",
    "sns.set_style('white')\n",
    "import matplotlib.pylab as plt"
   ]
  },
  {
   "cell_type": "code",
   "execution_count": 5,
   "metadata": {},
   "outputs": [],
   "source": [
    "filename = \"/mnt/disks/vault/analysis-data/interdisciplinary-novelty-analysis/corrected-entropy-analysis/word-journey-data.pql\"\n",
    "data_grouped_by_year_label = pd.read_pickle(filename)"
   ]
  },
  {
   "cell_type": "code",
   "execution_count": 6,
   "metadata": {},
   "outputs": [],
   "source": [
    "input_ = data_grouped_by_year_label[data_grouped_by_year_label.Label == \"Astronomy & Astrophysics\"]\n",
    "data_grouped_by_year_label = None"
   ]
  },
  {
   "cell_type": "code",
   "execution_count": 7,
   "metadata": {},
   "outputs": [
    {
     "data": {
      "text/html": [
       "<div>\n",
       "<style scoped>\n",
       "    .dataframe tbody tr th:only-of-type {\n",
       "        vertical-align: middle;\n",
       "    }\n",
       "\n",
       "    .dataframe tbody tr th {\n",
       "        vertical-align: top;\n",
       "    }\n",
       "\n",
       "    .dataframe thead th {\n",
       "        text-align: right;\n",
       "    }\n",
       "</style>\n",
       "<table border=\"1\" class=\"dataframe\">\n",
       "  <thead>\n",
       "    <tr style=\"text-align: right;\">\n",
       "      <th></th>\n",
       "      <th>index</th>\n",
       "      <th>Label</th>\n",
       "      <th>PubYear</th>\n",
       "      <th>title_without_stopwords</th>\n",
       "      <th>cleaned_titles</th>\n",
       "      <th>title_words_</th>\n",
       "      <th>title_words</th>\n",
       "    </tr>\n",
       "  </thead>\n",
       "  <tbody>\n",
       "    <tr>\n",
       "      <th>1212</th>\n",
       "      <td>1212</td>\n",
       "      <td>Astronomy &amp; Astrophysics</td>\n",
       "      <td>1900</td>\n",
       "      <td>[crossley reflector lick obsertvatory, crossle...</td>\n",
       "      <td>[calculation elliptic elements system cygni , ...</td>\n",
       "      <td>calculation elliptic elements system cygni  ph...</td>\n",
       "      <td>calculation elliptic elements system cygni phy...</td>\n",
       "    </tr>\n",
       "    <tr>\n",
       "      <th>1213</th>\n",
       "      <td>1213</td>\n",
       "      <td>Astronomy &amp; Astrophysics</td>\n",
       "      <td>1901</td>\n",
       "      <td>[accuracy photographic measures  second note ,...</td>\n",
       "      <td>[form interferometer , sixty four variable sta...</td>\n",
       "      <td>form interferometer  sixty four variable stars...</td>\n",
       "      <td>form interferometer sixty four variable stars ...</td>\n",
       "    </tr>\n",
       "    <tr>\n",
       "      <th>1214</th>\n",
       "      <td>1214</td>\n",
       "      <td>Astronomy &amp; Astrophysics</td>\n",
       "      <td>1902</td>\n",
       "      <td>[miscellaneous results , miscellaneous results...</td>\n",
       "      <td>[researches spectra metals  spectrum molybdenu...</td>\n",
       "      <td>researches spectra metals  spectrum molybdenum...</td>\n",
       "      <td>researches spectra metals spectrum molybdenum ...</td>\n",
       "    </tr>\n",
       "    <tr>\n",
       "      <th>1215</th>\n",
       "      <td>1215</td>\n",
       "      <td>Astronomy &amp; Astrophysics</td>\n",
       "      <td>1903</td>\n",
       "      <td>[cape double star results  1903 , cape double ...</td>\n",
       "      <td>[spectrographic observations standard velocity...</td>\n",
       "      <td>spectrographic observations standard velocity ...</td>\n",
       "      <td>spectrographic observations standard velocity ...</td>\n",
       "    </tr>\n",
       "    <tr>\n",
       "      <th>1216</th>\n",
       "      <td>1216</td>\n",
       "      <td>Astronomy &amp; Astrophysics</td>\n",
       "      <td>1904</td>\n",
       "      <td>[magnetic disturbances recorded royal observat...</td>\n",
       "      <td>[ninth satellite saturn , revised elements cyg...</td>\n",
       "      <td>ninth satellite saturn  revised elements cygni...</td>\n",
       "      <td>ninth satellite saturn revised elements cygni ...</td>\n",
       "    </tr>\n",
       "  </tbody>\n",
       "</table>\n",
       "</div>"
      ],
      "text/plain": [
       "      index                     Label  PubYear  \\\n",
       "1212   1212  Astronomy & Astrophysics     1900   \n",
       "1213   1213  Astronomy & Astrophysics     1901   \n",
       "1214   1214  Astronomy & Astrophysics     1902   \n",
       "1215   1215  Astronomy & Astrophysics     1903   \n",
       "1216   1216  Astronomy & Astrophysics     1904   \n",
       "\n",
       "                                title_without_stopwords  \\\n",
       "1212  [crossley reflector lick obsertvatory, crossle...   \n",
       "1213  [accuracy photographic measures  second note ,...   \n",
       "1214  [miscellaneous results , miscellaneous results...   \n",
       "1215  [cape double star results  1903 , cape double ...   \n",
       "1216  [magnetic disturbances recorded royal observat...   \n",
       "\n",
       "                                         cleaned_titles  \\\n",
       "1212  [calculation elliptic elements system cygni , ...   \n",
       "1213  [form interferometer , sixty four variable sta...   \n",
       "1214  [researches spectra metals  spectrum molybdenu...   \n",
       "1215  [spectrographic observations standard velocity...   \n",
       "1216  [ninth satellite saturn , revised elements cyg...   \n",
       "\n",
       "                                           title_words_  \\\n",
       "1212  calculation elliptic elements system cygni  ph...   \n",
       "1213  form interferometer  sixty four variable stars...   \n",
       "1214  researches spectra metals  spectrum molybdenum...   \n",
       "1215  spectrographic observations standard velocity ...   \n",
       "1216  ninth satellite saturn  revised elements cygni...   \n",
       "\n",
       "                                            title_words  \n",
       "1212  calculation elliptic elements system cygni phy...  \n",
       "1213  form interferometer sixty four variable stars ...  \n",
       "1214  researches spectra metals spectrum molybdenum ...  \n",
       "1215  spectrographic observations standard velocity ...  \n",
       "1216  ninth satellite saturn revised elements cygni ...  "
      ]
     },
     "execution_count": 7,
     "metadata": {},
     "output_type": "execute_result"
    }
   ],
   "source": [
    "input_.head()"
   ]
  },
  {
   "cell_type": "code",
   "execution_count": 8,
   "metadata": {},
   "outputs": [],
   "source": [
    "vectorizer = CountVectorizer()\n",
    "vectorized_words = vectorizer.fit_transform(input_.title_words)"
   ]
  },
  {
   "cell_type": "code",
   "execution_count": 9,
   "metadata": {},
   "outputs": [],
   "source": [
    "count_vocab = {value:key for key,value in vectorizer.vocabulary_.items()}\n",
    "count_rev_dict = {value:key for key,value in vectorizer.vocabulary_.items()}\n",
    "words = [count_rev_dict[i] for i in range(len(vectorizer.vocabulary_.keys()))]"
   ]
  },
  {
   "cell_type": "code",
   "execution_count": 10,
   "metadata": {},
   "outputs": [],
   "source": [
    "vectorized_wordarray = vectorized_words.toarray()\n",
    "document_frequency = (vectorized_wordarray != 0).sum(0).tolist()\n",
    "document_frequency_log =  [np.log(x) for x in document_frequency]\n",
    "#2. Term Frequency - Number of times in which a word appears in a document\n",
    "term_frequency = vectorized_words.sum(axis=0).reshape(-1,).tolist()[0]\n",
    "term_frequency_log = [np.log(x) for x in term_frequency]"
   ]
  },
  {
   "cell_type": "code",
   "execution_count": 11,
   "metadata": {},
   "outputs": [
    {
     "data": {
      "text/plain": [
       "(117, 47379)"
      ]
     },
     "execution_count": 11,
     "metadata": {},
     "output_type": "execute_result"
    }
   ],
   "source": [
    "vectorized_wordarray.shape"
   ]
  },
  {
   "cell_type": "code",
   "execution_count": 12,
   "metadata": {},
   "outputs": [
    {
     "name": "stderr",
     "output_type": "stream",
     "text": [
      "Progress: 100%|██████████| 117/117 [00:00<00:00, 55607.20it/s]\n"
     ]
    }
   ],
   "source": [
    "input_[\"number_of_pubs\"] = input_[\"title_without_stopwords\"].progress_apply(lambda x: len(x))"
   ]
  },
  {
   "cell_type": "code",
   "execution_count": 13,
   "metadata": {},
   "outputs": [
    {
     "name": "stderr",
     "output_type": "stream",
     "text": [
      "Progress: 100%|██████████| 117/117 [00:00<00:00, 368.64it/s]\n"
     ]
    }
   ],
   "source": [
    "input_[\"word_count\"] = input_[\"title_words\"].progress_apply(lambda x: len(x.split()))"
   ]
  },
  {
   "cell_type": "code",
   "execution_count": 14,
   "metadata": {},
   "outputs": [],
   "source": [
    "count_matrix = vectorized_words.toarray()"
   ]
  },
  {
   "cell_type": "code",
   "execution_count": 15,
   "metadata": {},
   "outputs": [
    {
     "data": {
      "text/plain": [
       "array([[0, 0, 0, 0, 0, 0, 0, 0, 0, 0, 0, 0, 0, 0, 0, 0, 0, 1, 0, 0],\n",
       "       [0, 0, 0, 0, 0, 0, 0, 0, 0, 0, 0, 0, 0, 0, 0, 0, 0, 0, 0, 0],\n",
       "       [0, 0, 0, 0, 0, 0, 0, 0, 0, 0, 0, 0, 0, 0, 0, 0, 0, 3, 0, 0],\n",
       "       [0, 0, 0, 0, 0, 0, 0, 0, 0, 0, 0, 0, 0, 0, 0, 0, 0, 1, 0, 0]],\n",
       "      dtype=int64)"
      ]
     },
     "execution_count": 15,
     "metadata": {},
     "output_type": "execute_result"
    }
   ],
   "source": [
    "count_matrix[:4,100:120]"
   ]
  },
  {
   "cell_type": "markdown",
   "metadata": {},
   "source": [
    "__Distribution of word counts in a year__"
   ]
  },
  {
   "cell_type": "code",
   "execution_count": 16,
   "metadata": {},
   "outputs": [],
   "source": [
    "uniques = []\n",
    "counts = []\n",
    "\n",
    "for i in range(count_matrix.shape[0]):\n",
    "    unique_, counts_tmp = np.unique(count_matrix[i:i+1,:], return_counts=True)    \n",
    "    counts_ = list(map(np.log, counts_tmp))\n",
    "    uniques.append(unique_)\n",
    "    counts.append(counts_)"
   ]
  },
  {
   "cell_type": "markdown",
   "metadata": {},
   "source": [
    "__Frequency Variations__"
   ]
  },
  {
   "cell_type": "markdown",
   "metadata": {},
   "source": [
    "Words which have a frequency of 20 in year Y<sub>t</sub>. How much do they normally vary in years Y<sub>t+1</sub>, t<sub>t+2</sub> etc."
   ]
  },
  {
   "cell_type": "code",
   "execution_count": 17,
   "metadata": {},
   "outputs": [],
   "source": [
    "word_freq_variations = []\n",
    "avg_variations_for_freq = []\n",
    "\n",
    "for index in range(vectorized_wordarray.shape[0] - 1):\n",
    "    tmp_ = vectorized_wordarray[index:index+2]\n",
    "    \n",
    "    unique_counts = np.unique(tmp_[0])    \n",
    "    yearly_avg_variations_for_freq = []\n",
    "    word_freq_variations = []\n",
    "    \n",
    "    word_freq_variations.append(tmp_[1] - tmp_[0])\n",
    "    \n",
    "    for uniq in unique_counts:\n",
    "        indices, = np.where(tmp_[0] == uniq)\n",
    "        transition_values = tmp_[1][indices]\n",
    "        \n",
    "        variations = transition_values - uniq\n",
    "        mean_variation = np.mean(variations)\n",
    "        \n",
    "        yearly_avg_variations_for_freq.append(mean_variation)\n",
    "    \n",
    "    avg_variations_for_freq.append(yearly_avg_variations_for_freq)\n",
    "    \n",
    "        "
   ]
  },
  {
   "cell_type": "code",
   "execution_count": 18,
   "metadata": {},
   "outputs": [
    {
     "name": "stdout",
     "output_type": "stream",
     "text": [
      "Average change in freq of a word appearing `index` times in 1900  [0.005888251232052568, -0.6398809523809523, -1.05, -1.1578947368421053, -1.7391304347826086, -0.5, -1.2, -5.666666666666667, -5.0, -4.5, 4.5, -0.3333333333333333, -5.0, -5.0, 6.0, -11.0, -6.0, -10.0, -9.0]\n"
     ]
    }
   ],
   "source": [
    "# what are the frequencies of words in 1900\n",
    "print(\"Average change in freq of a word appearing `index` times in 1900 \", avg_variations_for_freq[0])"
   ]
  },
  {
   "cell_type": "code",
   "execution_count": 19,
   "metadata": {},
   "outputs": [
    {
     "data": {
      "text/plain": [
       "Text(0,0.5,'Frequency')"
      ]
     },
     "execution_count": 19,
     "metadata": {},
     "output_type": "execute_result"
    },
    {
     "data": {
      "image/png": "[encoded data removed]",
      "text/plain": [
       "<Figure size 432x288 with 1 Axes>"
      ]
     },
     "metadata": {},
     "output_type": "display_data"
    }
   ],
   "source": [
    "us, cs = np.unique(vectorized_words[0].toarray(), return_counts=True)\n",
    "cs_ = list(map(np.log, cs))\n",
    "\n",
    "f = plt.figure()\n",
    "\n",
    "ax = f.add_subplot(111)\n",
    "ax.plot(us, cs_)\n",
    "ax.set_ylabel(\"Frequency\")"
   ]
  },
  {
   "cell_type": "code",
   "execution_count": 20,
   "metadata": {},
   "outputs": [
    {
     "name": "stderr",
     "output_type": "stream",
     "text": [
      "100%|██████████| 116/116 [00:37<00:00,  1.59it/s]\n"
     ]
    }
   ],
   "source": [
    "# check if the word with frequency is changing at more than an average frequency\n",
    "\n",
    "words_with_high_rate_of_change = []\n",
    "\n",
    "word_indices = []\n",
    "\n",
    "for year_index in tqdm(range(1, vectorized_wordarray.shape[0])):\n",
    "    \n",
    "    prev_year = vectorized_wordarray[year_index -1]\n",
    "    current_year = vectorized_wordarray[year_index]\n",
    "    \n",
    "    avg_change_rate_for_year = avg_variations_for_freq[year_index - 1]\n",
    "    \n",
    "    word_indices_above_average_for_year = []\n",
    "    \n",
    "    #for freq in range(len(avg_variations_for_freq[year_index])):\n",
    "    for freq in range(len(avg_change_rate_for_year)):\n",
    "        \n",
    "        try:\n",
    "            avg_freq_for_words_with_similar_freq_in_current_year = avg_change_rate_for_year[freq]\n",
    "        \n",
    "            # indices in tmp_ where avg_change_rate_for_year\n",
    "            indices1 = np.where(prev_year == freq)[0]\n",
    "            indices2 = np.where(current_year > avg_freq_for_words_with_similar_freq_in_current_year)[0]\n",
    "            \n",
    "            above_average_freq_indices = [index for index in indices1 if index in indices2]\n",
    "        \n",
    "        \n",
    "            word_indices_above_average_for_year.append(above_average_freq_indices)\n",
    "            \n",
    "        except:\n",
    "            \n",
    "            import ipdb\n",
    "            ipdb.set_trace()\n",
    "        \n",
    "    word_indices.append(word_indices_above_average_for_year) "
   ]
  },
  {
   "cell_type": "markdown",
   "metadata": {},
   "source": [
    "__Flatten inside lists__"
   ]
  },
  {
   "cell_type": "code",
   "execution_count": 21,
   "metadata": {},
   "outputs": [],
   "source": [
    "def flatten_inner(l):\n",
    "    return [item for sublist in l for item in sublist]\n",
    "\n",
    "flattened_word_indices = [flatten_inner(l1) for l1 in word_indices]"
   ]
  },
  {
   "cell_type": "markdown",
   "metadata": {},
   "source": [
    "__The words in year 1901 which have a growth rate that is bigger than the mean growth rate of words with that frequency__ "
   ]
  },
  {
   "cell_type": "code",
   "execution_count": 22,
   "metadata": {},
   "outputs": [
    {
     "data": {
      "text/plain": [
       "([39942, 40003], 'star', 'stars')"
      ]
     },
     "execution_count": 22,
     "metadata": {},
     "output_type": "execute_result"
    }
   ],
   "source": [
    "word_indices[0][18], words[39942], words[40003]"
   ]
  },
  {
   "cell_type": "code",
   "execution_count": 23,
   "metadata": {},
   "outputs": [
    {
     "data": {
      "text/plain": [
       "([11924], 'eclipse')"
      ]
     },
     "execution_count": 23,
     "metadata": {},
     "output_type": "execute_result"
    }
   ],
   "source": [
    "word_indices[0][16], words[11924]"
   ]
  },
  {
   "cell_type": "code",
   "execution_count": 24,
   "metadata": {},
   "outputs": [
    {
     "data": {
      "text/plain": [
       "15"
      ]
     },
     "execution_count": 24,
     "metadata": {},
     "output_type": "execute_result"
    }
   ],
   "source": [
    "# Top-Frequency words of 1901\n",
    "from collections import Counter\n",
    "\n",
    "words_from_1900 = input_.iloc[1].title_words.split()\n",
    "d0 = Counter(words_from_1900)\n",
    "s0 = [(k, d0[k]) for k in sorted(d0, key=d0.get, reverse=True)]\n",
    "\n",
    "\n",
    "\n",
    "words_from_1901 = input_.iloc[1].title_words.split()\n",
    "d1 = Counter(words_from_1901)\n",
    "s1 = [(k, d1[k]) for k in sorted(d1, key=d1.get, reverse=True)]\n",
    "#s[:20]\n",
    "\n",
    "d1[\"stars\"]"
   ]
  },
  {
   "cell_type": "code",
   "execution_count": 25,
   "metadata": {},
   "outputs": [
    {
     "data": {
      "text/plain": [
       "507"
      ]
     },
     "execution_count": 25,
     "metadata": {},
     "output_type": "execute_result"
    }
   ],
   "source": [
    "# number of words in a location\n",
    "\n",
    "len(set(input_.iloc[0].title_words.split()))"
   ]
  },
  {
   "cell_type": "code",
   "execution_count": 77,
   "metadata": {},
   "outputs": [],
   "source": [
    "idxs = [idx for idx in flattened_word_indices[65] if idx in flattened_word_indices[66]]"
   ]
  },
  {
   "cell_type": "code",
   "execution_count": 83,
   "metadata": {},
   "outputs": [
    {
     "name": "stdout",
     "output_type": "stream",
     "text": [
      "The common elements from N lists : [36864, 18433, 24578, 6146, 8204, 20492, 20493, 10262, 22554, 4123, 8221, 4125, 16415, 43040, 40997, 41004, 12334, 41007, 6193, 12339, 10292, 6196, 10295, 12345, 10298, 34875, 20543, 38977, 20565, 6229, 20567, 20572, 94, 36959, 14430, 45155, 28771, 30820, 32870, 8300, 34924, 10354, 2163, 12403, 117, 45173, 45175, 30840, 28793, 45177, 28798, 45184, 47233, 45188, 133, 150, 151, 28825, 28829, 26786, 39074, 20647, 12457, 12458, 174, 32944, 24753, 8372, 28852, 28853, 24760, 20664, 24761, 24765, 14526, 47297, 35011, 35017, 10442, 32971, 24779, 6349, 8400, 6355, 8408, 24794, 43226, 225, 41190, 2281, 22762, 24815, 242, 35062, 45306, 45307, 6398, 8448, 35079, 6408, 33040, 12562, 45334, 28954, 2332, 39197, 43296, 28961, 31010, 31013, 16679, 33065, 12593, 28979, 31028, 33080, 22843, 22845, 43327, 39232, 35144, 10571, 33101, 6477, 41296, 10576, 14676, 29013, 33111, 14681, 33117, 45406, 43359, 358, 43369, 366, 8562, 372, 10613, 18807, 4477, 33150, 18814, 43394, 33163, 33167, 18838, 31126, 31128, 45465, 24986, 35234, 35241, 2475, 45483, 12717, 2478, 2479, 16817, 16818, 4534, 4536, 43451, 22973, 29120, 29124, 37321, 22986, 10709, 39386, 33244, 477, 33245, 8671, 14816, 29157, 14826, 29174, 23031, 16891, 37372, 33278, 23038, 37375, 31239, 29193, 39437, 45582, 14862, 39441, 33300, 2580, 33304, 25117, 41503, 35362, 39459, 29220, 31266, 2598, 35367, 23078, 35369, 35370, 8746, 35375, 12848, 2609, 12850, 10804, 35380, 35384, 6719, 41536, 6721, 8772, 2630, 25159, 25160, 8777, 25162, 45641, 10829, 25173, 45669, 39529, 17004, 39534, 37488, 25201, 35443, 25209, 19065, 37515, 39569, 14994, 14996, 29334, 23195, 37541, 39589, 10923, 2733, 2734, 6832, 12978, 12980, 12981, 12982, 31417, 2749, 8895, 2754, 10948, 29387, 13005, 15053, 39636, 31445, 6871, 31453, 10979, 19190, 35575, 31487, 31489, 23302, 11017, 31497, 2861, 814, 2866, 6964, 2869, 13110, 6972, 35646, 21321, 21323, 37707, 11087, 11088, 37731, 41829, 27500, 11120, 11122, 35701, 23414, 31607, 4987, 11132, 23421, 35711, 23423, 4993, 15234, 2948, 15255, 23447, 35739, 29595, 7078, 13226, 33709, 13230, 5039, 33712, 17328, 27569, 35765, 7095, 41913, 15289, 39866, 29631, 7103, 9153, 3011, 35779, 27591, 27593, 7125, 33754, 7131, 23518, 33759, 43999, 7138, 19427, 23523, 29687, 25602, 29699, 46086, 29703, 39942, 25618, 46103, 46104, 46115, 27702, 35896, 35901, 19521, 17478, 27718, 37965, 13390, 29776, 11345, 29786, 1116, 40031, 9312, 40036, 40042, 23663, 23664, 15474, 25716, 11380, 40054, 19575, 44152, 15480, 7286, 13435, 23678, 27779, 13454, 25743, 1167, 5265, 13457, 38037, 31893, 31898, 5279, 15519, 31906, 42147, 36013, 29871, 29874, 11449, 38074, 31929, 21699, 44230, 13514, 13518, 38101, 23767, 31959, 13531, 31964, 42214, 9449, 9453, 23790, 29935, 38130, 3321, 31997, 25861, 3335, 42249, 42252, 7436, 9486, 15629, 7442, 13587, 17684, 27927, 19741, 17696, 7468, 46382, 42296, 7483, 25921, 15683, 17732, 17733, 46413, 30030, 7505, 44371, 5461, 19799, 13661, 42335, 1376, 42349, 40305, 7539, 7540, 19832, 13693, 7552, 42369, 36230, 46479, 17811, 9621, 15765, 15767, 23959, 7577, 32156, 42412, 32177, 11701, 9664, 19905, 11713, 40397, 1489, 11742, 11743, 7647, 40421, 30183, 5608, 32233, 17901, 26101, 28157, 11776, 11777, 11780, 42501, 34310, 36359, 36360, 36361, 46599, 38407, 42510, 13847, 42525, 40478, 7716, 7718, 3624, 34345, 11819, 38445, 11822, 7729, 42549, 24118, 24119, 5688, 42553, 11833, 46649, 7742, 15935, 3648, 20033, 40523, 15949, 5713, 24147, 42580, 1621, 7775, 24165, 24171, 42609, 20088, 7800, 20100, 13961, 9867, 26255, 26257, 26258, 11924, 30359, 11929, 20127, 20134, 20135, 26289, 26294, 7863, 32439, 22212, 7876, 18120, 3787, 3790, 22229, 7897, 9948, 32483, 32489, 44780, 42733, 5871, 12025, 32506, 32507, 20224, 12033, 34582, 30492, 34591, 44834, 22317, 42804, 18232, 10049, 10053, 36679, 26440, 8010, 20302, 3920, 10067, 14164, 44886, 10072, 34649, 32601, 8026, 32605, 34655, 5983, 20321, 5984, 3939, 42862, 24432, 16241, 8050, 16242, 32629, 8054, 44920, 34688, 24451, 30600, 38804, 10137, 8092, 1950, 1951, 20389, 42919, 22452, 42934, 1975, 8118, 24509, 32703, 12225, 34754, 24513, 26569, 26572, 20432, 10193, 8149, 22486, 8151, 24540, 47077, 22503, 8169, 30704, 12280, 6137, 6140]\n"
     ]
    },
    {
     "data": {
      "text/plain": [
       "618"
      ]
     },
     "execution_count": 83,
     "metadata": {},
     "output_type": "execute_result"
    }
   ],
   "source": [
    "from functools import reduce\n",
    "\n",
    "indices60s = flattened_word_indices[60:75]\n",
    "\n",
    "res = list(reduce(lambda i, j: i & j, (set(x) for x in indices60s))) \n",
    "print (\"The common elements from N lists : \" + str(res)) \n",
    "\n",
    "len(res)"
   ]
  },
  {
   "cell_type": "code",
   "execution_count": 22,
   "metadata": {},
   "outputs": [
    {
     "data": {
      "text/plain": [
       "'centaurus'"
      ]
     },
     "execution_count": 22,
     "metadata": {},
     "output_type": "execute_result"
    }
   ],
   "source": [
    "words[6140]"
   ]
  },
  {
   "cell_type": "code",
   "execution_count": 23,
   "metadata": {},
   "outputs": [
    {
     "name": "stderr",
     "output_type": "stream",
     "text": [
      "Progress: 100%|██████████| 117/117 [00:00<00:00, 2815.79it/s]\n"
     ]
    },
    {
     "data": {
      "text/html": [
       "<div>\n",
       "<style scoped>\n",
       "    .dataframe tbody tr th:only-of-type {\n",
       "        vertical-align: middle;\n",
       "    }\n",
       "\n",
       "    .dataframe tbody tr th {\n",
       "        vertical-align: top;\n",
       "    }\n",
       "\n",
       "    .dataframe thead th {\n",
       "        text-align: right;\n",
       "    }\n",
       "</style>\n",
       "<table border=\"1\" class=\"dataframe\">\n",
       "  <thead>\n",
       "    <tr style=\"text-align: right;\">\n",
       "      <th></th>\n",
       "      <th>index</th>\n",
       "      <th>Label</th>\n",
       "      <th>PubYear</th>\n",
       "      <th>title_without_stopwords</th>\n",
       "      <th>cleaned_titles</th>\n",
       "      <th>title_words_</th>\n",
       "      <th>title_words</th>\n",
       "      <th>number_of_pubs</th>\n",
       "      <th>word_count</th>\n",
       "      <th>count_of_sat</th>\n",
       "    </tr>\n",
       "  </thead>\n",
       "  <tbody>\n",
       "    <tr>\n",
       "      <th>1212</th>\n",
       "      <td>1212</td>\n",
       "      <td>Astronomy &amp; Astrophysics</td>\n",
       "      <td>1900</td>\n",
       "      <td>[crossley reflector lick obsertvatory, crossle...</td>\n",
       "      <td>[calculation elliptic elements system cygni , ...</td>\n",
       "      <td>calculation elliptic elements system cygni  ph...</td>\n",
       "      <td>calculation elliptic elements system cygni phy...</td>\n",
       "      <td>356</td>\n",
       "      <td>1040</td>\n",
       "      <td>0</td>\n",
       "    </tr>\n",
       "    <tr>\n",
       "      <th>1213</th>\n",
       "      <td>1213</td>\n",
       "      <td>Astronomy &amp; Astrophysics</td>\n",
       "      <td>1901</td>\n",
       "      <td>[accuracy photographic measures  second note ,...</td>\n",
       "      <td>[form interferometer , sixty four variable sta...</td>\n",
       "      <td>form interferometer  sixty four variable stars...</td>\n",
       "      <td>form interferometer sixty four variable stars ...</td>\n",
       "      <td>296</td>\n",
       "      <td>843</td>\n",
       "      <td>0</td>\n",
       "    </tr>\n",
       "    <tr>\n",
       "      <th>1214</th>\n",
       "      <td>1214</td>\n",
       "      <td>Astronomy &amp; Astrophysics</td>\n",
       "      <td>1902</td>\n",
       "      <td>[miscellaneous results , miscellaneous results...</td>\n",
       "      <td>[researches spectra metals  spectrum molybdenu...</td>\n",
       "      <td>researches spectra metals  spectrum molybdenum...</td>\n",
       "      <td>researches spectra metals spectrum molybdenum ...</td>\n",
       "      <td>304</td>\n",
       "      <td>950</td>\n",
       "      <td>0</td>\n",
       "    </tr>\n",
       "    <tr>\n",
       "      <th>1215</th>\n",
       "      <td>1215</td>\n",
       "      <td>Astronomy &amp; Astrophysics</td>\n",
       "      <td>1903</td>\n",
       "      <td>[cape double star results  1903 , cape double ...</td>\n",
       "      <td>[spectrographic observations standard velocity...</td>\n",
       "      <td>spectrographic observations standard velocity ...</td>\n",
       "      <td>spectrographic observations standard velocity ...</td>\n",
       "      <td>330</td>\n",
       "      <td>990</td>\n",
       "      <td>0</td>\n",
       "    </tr>\n",
       "    <tr>\n",
       "      <th>1216</th>\n",
       "      <td>1216</td>\n",
       "      <td>Astronomy &amp; Astrophysics</td>\n",
       "      <td>1904</td>\n",
       "      <td>[magnetic disturbances recorded royal observat...</td>\n",
       "      <td>[ninth satellite saturn , revised elements cyg...</td>\n",
       "      <td>ninth satellite saturn  revised elements cygni...</td>\n",
       "      <td>ninth satellite saturn revised elements cygni ...</td>\n",
       "      <td>348</td>\n",
       "      <td>985</td>\n",
       "      <td>0</td>\n",
       "    </tr>\n",
       "  </tbody>\n",
       "</table>\n",
       "</div>"
      ],
      "text/plain": [
       "      index                     Label  PubYear  \\\n",
       "1212   1212  Astronomy & Astrophysics     1900   \n",
       "1213   1213  Astronomy & Astrophysics     1901   \n",
       "1214   1214  Astronomy & Astrophysics     1902   \n",
       "1215   1215  Astronomy & Astrophysics     1903   \n",
       "1216   1216  Astronomy & Astrophysics     1904   \n",
       "\n",
       "                                title_without_stopwords  \\\n",
       "1212  [crossley reflector lick obsertvatory, crossle...   \n",
       "1213  [accuracy photographic measures  second note ,...   \n",
       "1214  [miscellaneous results , miscellaneous results...   \n",
       "1215  [cape double star results  1903 , cape double ...   \n",
       "1216  [magnetic disturbances recorded royal observat...   \n",
       "\n",
       "                                         cleaned_titles  \\\n",
       "1212  [calculation elliptic elements system cygni , ...   \n",
       "1213  [form interferometer , sixty four variable sta...   \n",
       "1214  [researches spectra metals  spectrum molybdenu...   \n",
       "1215  [spectrographic observations standard velocity...   \n",
       "1216  [ninth satellite saturn , revised elements cyg...   \n",
       "\n",
       "                                           title_words_  \\\n",
       "1212  calculation elliptic elements system cygni  ph...   \n",
       "1213  form interferometer  sixty four variable stars...   \n",
       "1214  researches spectra metals  spectrum molybdenum...   \n",
       "1215  spectrographic observations standard velocity ...   \n",
       "1216  ninth satellite saturn  revised elements cygni...   \n",
       "\n",
       "                                            title_words  number_of_pubs  \\\n",
       "1212  calculation elliptic elements system cygni phy...             356   \n",
       "1213  form interferometer sixty four variable stars ...             296   \n",
       "1214  researches spectra metals spectrum molybdenum ...             304   \n",
       "1215  spectrographic observations standard velocity ...             330   \n",
       "1216  ninth satellite saturn revised elements cygni ...             348   \n",
       "\n",
       "      word_count  count_of_sat  \n",
       "1212        1040             0  \n",
       "1213         843             0  \n",
       "1214         950             0  \n",
       "1215         990             0  \n",
       "1216         985             0  "
      ]
     },
     "execution_count": 23,
     "metadata": {},
     "output_type": "execute_result"
    }
   ],
   "source": [
    "input_[\"count_of_sat\"] = input_[\"title_words\"].progress_apply(lambda x: x.count(\"centaurus\"))\n",
    "input_.head()"
   ]
  },
  {
   "cell_type": "code",
   "execution_count": 24,
   "metadata": {},
   "outputs": [
    {
     "data": {
      "text/html": [
       "<div>\n",
       "<style scoped>\n",
       "    .dataframe tbody tr th:only-of-type {\n",
       "        vertical-align: middle;\n",
       "    }\n",
       "\n",
       "    .dataframe tbody tr th {\n",
       "        vertical-align: top;\n",
       "    }\n",
       "\n",
       "    .dataframe thead th {\n",
       "        text-align: right;\n",
       "    }\n",
       "</style>\n",
       "<table border=\"1\" class=\"dataframe\">\n",
       "  <thead>\n",
       "    <tr style=\"text-align: right;\">\n",
       "      <th></th>\n",
       "      <th>index</th>\n",
       "      <th>Label</th>\n",
       "      <th>PubYear</th>\n",
       "      <th>title_without_stopwords</th>\n",
       "      <th>cleaned_titles</th>\n",
       "      <th>title_words_</th>\n",
       "      <th>title_words</th>\n",
       "      <th>number_of_pubs</th>\n",
       "      <th>word_count</th>\n",
       "      <th>count_of_sat</th>\n",
       "    </tr>\n",
       "  </thead>\n",
       "  <tbody>\n",
       "    <tr>\n",
       "      <th>1272</th>\n",
       "      <td>1272</td>\n",
       "      <td>Astronomy &amp; Astrophysics</td>\n",
       "      <td>1960</td>\n",
       "      <td>[method constructing revised general catalogue...</td>\n",
       "      <td>[image tube experiment lick observatory, plan ...</td>\n",
       "      <td>image tube experiment lick observatory plan us...</td>\n",
       "      <td>image tube experiment lick observatory plan us...</td>\n",
       "      <td>978</td>\n",
       "      <td>2637</td>\n",
       "      <td>2</td>\n",
       "    </tr>\n",
       "    <tr>\n",
       "      <th>1273</th>\n",
       "      <td>1273</td>\n",
       "      <td>Astronomy &amp; Astrophysics</td>\n",
       "      <td>1961</td>\n",
       "      <td>[problems meridian astronomy, problems meridia...</td>\n",
       "      <td>[study interaction between carbon dissociated ...</td>\n",
       "      <td>study interaction between carbon dissociated g...</td>\n",
       "      <td>study interaction between carbon dissociated g...</td>\n",
       "      <td>1376</td>\n",
       "      <td>4051</td>\n",
       "      <td>1</td>\n",
       "    </tr>\n",
       "    <tr>\n",
       "      <th>1274</th>\n",
       "      <td>1274</td>\n",
       "      <td>Astronomy &amp; Astrophysics</td>\n",
       "      <td>1962</td>\n",
       "      <td>[structure moons surface study first photograp...</td>\n",
       "      <td>[astrometry with large reflectors, micrometer ...</td>\n",
       "      <td>astrometry with large reflectors micrometer me...</td>\n",
       "      <td>astrometry with large reflectors micrometer me...</td>\n",
       "      <td>1152</td>\n",
       "      <td>3228</td>\n",
       "      <td>4</td>\n",
       "    </tr>\n",
       "    <tr>\n",
       "      <th>1275</th>\n",
       "      <td>1275</td>\n",
       "      <td>Astronomy &amp; Astrophysics</td>\n",
       "      <td>1963</td>\n",
       "      <td>[adiabatic model atmospheres jupiter, adiabati...</td>\n",
       "      <td>[dynamic spectra jupiters decametric emission ...</td>\n",
       "      <td>dynamic spectra jupiters decametric emission  ...</td>\n",
       "      <td>dynamic spectra jupiters decametric emission p...</td>\n",
       "      <td>1592</td>\n",
       "      <td>4302</td>\n",
       "      <td>2</td>\n",
       "    </tr>\n",
       "    <tr>\n",
       "      <th>1276</th>\n",
       "      <td>1276</td>\n",
       "      <td>Astronomy &amp; Astrophysics</td>\n",
       "      <td>1964</td>\n",
       "      <td>[more precise determination astronomical unit ...</td>\n",
       "      <td>[linear polarization measurements radio source...</td>\n",
       "      <td>linear polarization measurements radio sources...</td>\n",
       "      <td>linear polarization measurements radio sources...</td>\n",
       "      <td>1880</td>\n",
       "      <td>5323</td>\n",
       "      <td>0</td>\n",
       "    </tr>\n",
       "    <tr>\n",
       "      <th>1277</th>\n",
       "      <td>1277</td>\n",
       "      <td>Astronomy &amp; Astrophysics</td>\n",
       "      <td>1965</td>\n",
       "      <td>[micropulsation mode propagation magnetosphere...</td>\n",
       "      <td>[evolution solar magnetic field, spiralstruktu...</td>\n",
       "      <td>evolution solar magnetic field spiralstruktur ...</td>\n",
       "      <td>evolution solar magnetic field spiralstruktur ...</td>\n",
       "      <td>2568</td>\n",
       "      <td>7195</td>\n",
       "      <td>1</td>\n",
       "    </tr>\n",
       "    <tr>\n",
       "      <th>1278</th>\n",
       "      <td>1278</td>\n",
       "      <td>Astronomy &amp; Astrophysics</td>\n",
       "      <td>1966</td>\n",
       "      <td>[note red shift galaxies, note red shift galax...</td>\n",
       "      <td>[loop prominences coronal condensations abunda...</td>\n",
       "      <td>loop prominences coronal condensations abundan...</td>\n",
       "      <td>loop prominences coronal condensations abundan...</td>\n",
       "      <td>4044</td>\n",
       "      <td>11298</td>\n",
       "      <td>0</td>\n",
       "    </tr>\n",
       "    <tr>\n",
       "      <th>1279</th>\n",
       "      <td>1279</td>\n",
       "      <td>Astronomy &amp; Astrophysics</td>\n",
       "      <td>1967</td>\n",
       "      <td>[laboratory measurements negative reactions at...</td>\n",
       "      <td>[saturns rings, evaluation kinetic rate data r...</td>\n",
       "      <td>saturns rings evaluation kinetic rate data rea...</td>\n",
       "      <td>saturns rings evaluation kinetic rate data rea...</td>\n",
       "      <td>5500</td>\n",
       "      <td>15684</td>\n",
       "      <td>2</td>\n",
       "    </tr>\n",
       "    <tr>\n",
       "      <th>1280</th>\n",
       "      <td>1280</td>\n",
       "      <td>Astronomy &amp; Astrophysics</td>\n",
       "      <td>1968</td>\n",
       "      <td>[albedo photometry surveyor foootprints, albed...</td>\n",
       "      <td>[nuclei seyfert galaxies observations, note po...</td>\n",
       "      <td>nuclei seyfert galaxies observations note posi...</td>\n",
       "      <td>nuclei seyfert galaxies observations note posi...</td>\n",
       "      <td>5930</td>\n",
       "      <td>17227</td>\n",
       "      <td>5</td>\n",
       "    </tr>\n",
       "    <tr>\n",
       "      <th>1281</th>\n",
       "      <td>1281</td>\n",
       "      <td>Astronomy &amp; Astrophysics</td>\n",
       "      <td>1969</td>\n",
       "      <td>[cyclotron resonant instability waves propagat...</td>\n",
       "      <td>[overstability thin stellar systems, progress ...</td>\n",
       "      <td>overstability thin stellar systems progress ra...</td>\n",
       "      <td>overstability thin stellar systems progress ra...</td>\n",
       "      <td>7176</td>\n",
       "      <td>21230</td>\n",
       "      <td>5</td>\n",
       "    </tr>\n",
       "  </tbody>\n",
       "</table>\n",
       "</div>"
      ],
      "text/plain": [
       "      index                     Label  PubYear  \\\n",
       "1272   1272  Astronomy & Astrophysics     1960   \n",
       "1273   1273  Astronomy & Astrophysics     1961   \n",
       "1274   1274  Astronomy & Astrophysics     1962   \n",
       "1275   1275  Astronomy & Astrophysics     1963   \n",
       "1276   1276  Astronomy & Astrophysics     1964   \n",
       "1277   1277  Astronomy & Astrophysics     1965   \n",
       "1278   1278  Astronomy & Astrophysics     1966   \n",
       "1279   1279  Astronomy & Astrophysics     1967   \n",
       "1280   1280  Astronomy & Astrophysics     1968   \n",
       "1281   1281  Astronomy & Astrophysics     1969   \n",
       "\n",
       "                                title_without_stopwords  \\\n",
       "1272  [method constructing revised general catalogue...   \n",
       "1273  [problems meridian astronomy, problems meridia...   \n",
       "1274  [structure moons surface study first photograp...   \n",
       "1275  [adiabatic model atmospheres jupiter, adiabati...   \n",
       "1276  [more precise determination astronomical unit ...   \n",
       "1277  [micropulsation mode propagation magnetosphere...   \n",
       "1278  [note red shift galaxies, note red shift galax...   \n",
       "1279  [laboratory measurements negative reactions at...   \n",
       "1280  [albedo photometry surveyor foootprints, albed...   \n",
       "1281  [cyclotron resonant instability waves propagat...   \n",
       "\n",
       "                                         cleaned_titles  \\\n",
       "1272  [image tube experiment lick observatory, plan ...   \n",
       "1273  [study interaction between carbon dissociated ...   \n",
       "1274  [astrometry with large reflectors, micrometer ...   \n",
       "1275  [dynamic spectra jupiters decametric emission ...   \n",
       "1276  [linear polarization measurements radio source...   \n",
       "1277  [evolution solar magnetic field, spiralstruktu...   \n",
       "1278  [loop prominences coronal condensations abunda...   \n",
       "1279  [saturns rings, evaluation kinetic rate data r...   \n",
       "1280  [nuclei seyfert galaxies observations, note po...   \n",
       "1281  [overstability thin stellar systems, progress ...   \n",
       "\n",
       "                                           title_words_  \\\n",
       "1272  image tube experiment lick observatory plan us...   \n",
       "1273  study interaction between carbon dissociated g...   \n",
       "1274  astrometry with large reflectors micrometer me...   \n",
       "1275  dynamic spectra jupiters decametric emission  ...   \n",
       "1276  linear polarization measurements radio sources...   \n",
       "1277  evolution solar magnetic field spiralstruktur ...   \n",
       "1278  loop prominences coronal condensations abundan...   \n",
       "1279  saturns rings evaluation kinetic rate data rea...   \n",
       "1280  nuclei seyfert galaxies observations note posi...   \n",
       "1281  overstability thin stellar systems progress ra...   \n",
       "\n",
       "                                            title_words  number_of_pubs  \\\n",
       "1272  image tube experiment lick observatory plan us...             978   \n",
       "1273  study interaction between carbon dissociated g...            1376   \n",
       "1274  astrometry with large reflectors micrometer me...            1152   \n",
       "1275  dynamic spectra jupiters decametric emission p...            1592   \n",
       "1276  linear polarization measurements radio sources...            1880   \n",
       "1277  evolution solar magnetic field spiralstruktur ...            2568   \n",
       "1278  loop prominences coronal condensations abundan...            4044   \n",
       "1279  saturns rings evaluation kinetic rate data rea...            5500   \n",
       "1280  nuclei seyfert galaxies observations note posi...            5930   \n",
       "1281  overstability thin stellar systems progress ra...            7176   \n",
       "\n",
       "      word_count  count_of_sat  \n",
       "1272        2637             2  \n",
       "1273        4051             1  \n",
       "1274        3228             4  \n",
       "1275        4302             2  \n",
       "1276        5323             0  \n",
       "1277        7195             1  \n",
       "1278       11298             0  \n",
       "1279       15684             2  \n",
       "1280       17227             5  \n",
       "1281       21230             5  "
      ]
     },
     "execution_count": 24,
     "metadata": {},
     "output_type": "execute_result"
    }
   ],
   "source": [
    "input_.iloc[60:70]"
   ]
  },
  {
   "cell_type": "code",
   "execution_count": null,
   "metadata": {},
   "outputs": [],
   "source": []
  }
 ],
 "metadata": {
  "kernelspec": {
   "display_name": "Python 3",
   "language": "python",
   "name": "python3"
  },
  "language_info": {
   "codemirror_mode": {
    "name": "ipython",
    "version": 3
   },
   "file_extension": ".py",
   "mimetype": "text/x-python",
   "name": "python",
   "nbconvert_exporter": "python",
   "pygments_lexer": "ipython3",
   "version": "3.6.7"
  }
 },
 "nbformat": 4,
 "nbformat_minor": 2
}
