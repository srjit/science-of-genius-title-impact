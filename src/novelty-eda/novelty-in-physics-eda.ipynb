{
 "cells": [
  {
   "cell_type": "code",
   "execution_count": 1,
   "metadata": {},
   "outputs": [],
   "source": [
    "%load_ext autoreload\n",
    "%autoreload 2\n",
    "%matplotlib inline"
   ]
  },
  {
   "cell_type": "code",
   "execution_count": 2,
   "metadata": {},
   "outputs": [],
   "source": [
    "import sys\n",
    "sys.path.insert(0, \"../../code-previous\")"
   ]
  },
  {
   "cell_type": "code",
   "execution_count": 3,
   "metadata": {},
   "outputs": [
    {
     "name": "stderr",
     "output_type": "stream",
     "text": [
      "/usr/lib/python3.6/importlib/_bootstrap.py:219: RuntimeWarning: numpy.dtype size changed, may indicate binary incompatibility. Expected 96, got 88\n",
      "  return f(*args, **kwds)\n"
     ]
    }
   ],
   "source": [
    "import pandas as pd\n",
    "import numpy as np\n",
    "import networkx as nx\n",
    "import sklearn.feature_extraction as skfeatures\n",
    "import time\n",
    "import os\n",
    "\n",
    "import nltk\n",
    "stopwords = nltk.corpus.stopwords.words('english')\n",
    "\n",
    "\n",
    "from unicodedata import category\n",
    "from tqdm import tqdm\n",
    "tqdm.pandas(desc=\"Progress\")\n",
    "\n",
    "import seaborn as sns\n",
    "sns.set_style('white')\n",
    "import matplotlib.pylab as plt"
   ]
  },
  {
   "cell_type": "code",
   "execution_count": 4,
   "metadata": {},
   "outputs": [],
   "source": [
    "data_path = \"/mnt/disks/vault/analysis-data/interdisciplinary-novelty-analysis/articles.pql\"\n",
    "article_df = pd.read_pickle(data_path)"
   ]
  },
  {
   "cell_type": "code",
   "execution_count": 5,
   "metadata": {},
   "outputs": [],
   "source": [
    "data_path = \"/mnt/disks/vault/analysis-data/interdisciplinary-novelty-analysis/physics.pql\"\n",
    "data = None\n",
    "phy_categories = pd.read_pickle(data_path)"
   ]
  },
  {
   "cell_type": "code",
   "execution_count": 6,
   "metadata": {},
   "outputs": [],
   "source": [
    "data = None\n",
    "data = phy_categories.merge(article_df, \n",
    "                            how = 'inner',\n",
    "                            on = 'ArticleID')"
   ]
  },
  {
   "cell_type": "code",
   "execution_count": 7,
   "metadata": {},
   "outputs": [
    {
     "name": "stderr",
     "output_type": "stream",
     "text": [
      "Progress: 100%|██████████| 3741924/3741924 [01:04<00:00, 58207.16it/s]\n",
      "Progress: 100%|██████████| 3741924/3741924 [01:14<00:00, 50474.42it/s]\n"
     ]
    }
   ],
   "source": [
    "data['title_without_punct'] = data['Title'].progress_apply(lambda x: \n",
    "                                                           str.lower(''.join(ch for ch in str(x) if category(ch)[0] != 'P')))\n",
    "data[\"title_without_stopwords\"] = data['title_without_punct'].progress_apply(lambda x: \n",
    "                                                                            \" \".join([word for word in x.split() if word not in stopwords]))"
   ]
  },
  {
   "cell_type": "code",
   "execution_count": 8,
   "metadata": {},
   "outputs": [
    {
     "data": {
      "text/plain": [
       "3741924"
      ]
     },
     "execution_count": 8,
     "metadata": {},
     "output_type": "execute_result"
    }
   ],
   "source": [
    "len(data)"
   ]
  },
  {
   "cell_type": "code",
   "execution_count": 10,
   "metadata": {},
   "outputs": [
    {
     "data": {
      "text/plain": [
       "array(['Physics, Fluids & Plasmas', 'Physics, Condensed Matter',\n",
       "       'Physics, Applied', 'Physics, Mathematical', 'Physics, Nuclear',\n",
       "       'Physics, Atomic, Molecular & Chemical',\n",
       "       'Physics, Multidisciplinary'], dtype=object)"
      ]
     },
     "execution_count": 10,
     "metadata": {},
     "output_type": "execute_result"
    }
   ],
   "source": [
    "data.Label.unique()"
   ]
  },
  {
   "cell_type": "code",
   "execution_count": 11,
   "metadata": {},
   "outputs": [
    {
     "data": {
      "text/plain": [
       "Label\n",
       "Physics, Applied                         1031701\n",
       "Physics, Atomic, Molecular & Chemical     490072\n",
       "Physics, Condensed Matter                 721246\n",
       "Physics, Fluids & Plasmas                 182067\n",
       "Physics, Mathematical                     235071\n",
       "Physics, Multidisciplinary                849010\n",
       "Physics, Nuclear                          232757\n",
       "dtype: int64"
      ]
     },
     "execution_count": 11,
     "metadata": {},
     "output_type": "execute_result"
    }
   ],
   "source": [
    "data.groupby('Label').size()"
   ]
  },
  {
   "cell_type": "code",
   "execution_count": 12,
   "metadata": {},
   "outputs": [
    {
     "data": {
      "text/html": [
       "<div>\n",
       "<style scoped>\n",
       "    .dataframe tbody tr th:only-of-type {\n",
       "        vertical-align: middle;\n",
       "    }\n",
       "\n",
       "    .dataframe tbody tr th {\n",
       "        vertical-align: top;\n",
       "    }\n",
       "\n",
       "    .dataframe thead th {\n",
       "        text-align: right;\n",
       "    }\n",
       "</style>\n",
       "<table border=\"1\" class=\"dataframe\">\n",
       "  <thead>\n",
       "    <tr style=\"text-align: right;\">\n",
       "      <th></th>\n",
       "      <th>ArticleID</th>\n",
       "      <th>Type</th>\n",
       "      <th>Label</th>\n",
       "      <th>PubYear</th>\n",
       "      <th>Doctypes</th>\n",
       "      <th>Title</th>\n",
       "      <th>Journal</th>\n",
       "      <th>Journal Abbreviation ISO</th>\n",
       "      <th>title_without_punct</th>\n",
       "      <th>title_without_stopwords</th>\n",
       "    </tr>\n",
       "  </thead>\n",
       "  <tbody>\n",
       "    <tr>\n",
       "      <th>0</th>\n",
       "      <td>A1981MY85100017</td>\n",
       "      <td>ASCA traditional subject</td>\n",
       "      <td>Physics, Fluids &amp; Plasmas</td>\n",
       "      <td>1981</td>\n",
       "      <td>Article</td>\n",
       "      <td>A PRELIMINARY INVESTIGATION OF THE INTERACTION...</td>\n",
       "      <td>JOURNAL OF FLUID MECHANICS</td>\n",
       "      <td>J. Fluid Mech.</td>\n",
       "      <td>a preliminary investigation of the interaction...</td>\n",
       "      <td>preliminary investigation interaction internal...</td>\n",
       "    </tr>\n",
       "    <tr>\n",
       "      <th>1</th>\n",
       "      <td>A1981MK88100007</td>\n",
       "      <td>ASCA traditional subject</td>\n",
       "      <td>Physics, Fluids &amp; Plasmas</td>\n",
       "      <td>1981</td>\n",
       "      <td>Article</td>\n",
       "      <td>ALFVEN-WAVE EXCITATION OF THE MAGNETOSTATIC MODE</td>\n",
       "      <td>PHYSICS OF FLUIDS</td>\n",
       "      <td>Phys. Fluids</td>\n",
       "      <td>alfvenwave excitation of the magnetostatic mode</td>\n",
       "      <td>alfvenwave excitation magnetostatic mode</td>\n",
       "    </tr>\n",
       "    <tr>\n",
       "      <th>2</th>\n",
       "      <td>A1981LJ66200011</td>\n",
       "      <td>ASCA traditional subject</td>\n",
       "      <td>Physics, Fluids &amp; Plasmas</td>\n",
       "      <td>1981</td>\n",
       "      <td>Article</td>\n",
       "      <td>MECHANISMS RESPONSIBLE FOR TOPOGRAPHICAL CHANG...</td>\n",
       "      <td>NUCLEAR FUSION</td>\n",
       "      <td>Nucl. Fusion</td>\n",
       "      <td>mechanisms responsible for topographical chang...</td>\n",
       "      <td>mechanisms responsible topographical changes p...</td>\n",
       "    </tr>\n",
       "    <tr>\n",
       "      <th>3</th>\n",
       "      <td>A1981LY59100025</td>\n",
       "      <td>ASCA traditional subject</td>\n",
       "      <td>Physics, Fluids &amp; Plasmas</td>\n",
       "      <td>1981</td>\n",
       "      <td>Article</td>\n",
       "      <td>THE DRAG FORCE ON SPHERES IN THIN JETS</td>\n",
       "      <td>JOURNAL OF FLUID MECHANICS</td>\n",
       "      <td>J. Fluid Mech.</td>\n",
       "      <td>the drag force on spheres in thin jets</td>\n",
       "      <td>drag force spheres thin jets</td>\n",
       "    </tr>\n",
       "    <tr>\n",
       "      <th>4</th>\n",
       "      <td>A1981LS66800029</td>\n",
       "      <td>ASCA traditional subject</td>\n",
       "      <td>Physics, Fluids &amp; Plasmas</td>\n",
       "      <td>1981</td>\n",
       "      <td>Article</td>\n",
       "      <td>SIMULATION OF SLOW CYCLOTRON WAVE GROWTH ON A ...</td>\n",
       "      <td>PHYSICS OF FLUIDS</td>\n",
       "      <td>Phys. Fluids</td>\n",
       "      <td>simulation of slow cyclotron wave growth on a ...</td>\n",
       "      <td>simulation slow cyclotron wave growth scattere...</td>\n",
       "    </tr>\n",
       "  </tbody>\n",
       "</table>\n",
       "</div>"
      ],
      "text/plain": [
       "         ArticleID                      Type                      Label  \\\n",
       "0  A1981MY85100017  ASCA traditional subject  Physics, Fluids & Plasmas   \n",
       "1  A1981MK88100007  ASCA traditional subject  Physics, Fluids & Plasmas   \n",
       "2  A1981LJ66200011  ASCA traditional subject  Physics, Fluids & Plasmas   \n",
       "3  A1981LY59100025  ASCA traditional subject  Physics, Fluids & Plasmas   \n",
       "4  A1981LS66800029  ASCA traditional subject  Physics, Fluids & Plasmas   \n",
       "\n",
       "   PubYear Doctypes                                              Title  \\\n",
       "0     1981  Article  A PRELIMINARY INVESTIGATION OF THE INTERACTION...   \n",
       "1     1981  Article   ALFVEN-WAVE EXCITATION OF THE MAGNETOSTATIC MODE   \n",
       "2     1981  Article  MECHANISMS RESPONSIBLE FOR TOPOGRAPHICAL CHANG...   \n",
       "3     1981  Article             THE DRAG FORCE ON SPHERES IN THIN JETS   \n",
       "4     1981  Article  SIMULATION OF SLOW CYCLOTRON WAVE GROWTH ON A ...   \n",
       "\n",
       "                      Journal Journal Abbreviation ISO  \\\n",
       "0  JOURNAL OF FLUID MECHANICS           J. Fluid Mech.   \n",
       "1           PHYSICS OF FLUIDS             Phys. Fluids   \n",
       "2              NUCLEAR FUSION             Nucl. Fusion   \n",
       "3  JOURNAL OF FLUID MECHANICS           J. Fluid Mech.   \n",
       "4           PHYSICS OF FLUIDS             Phys. Fluids   \n",
       "\n",
       "                                 title_without_punct  \\\n",
       "0  a preliminary investigation of the interaction...   \n",
       "1    alfvenwave excitation of the magnetostatic mode   \n",
       "2  mechanisms responsible for topographical chang...   \n",
       "3             the drag force on spheres in thin jets   \n",
       "4  simulation of slow cyclotron wave growth on a ...   \n",
       "\n",
       "                             title_without_stopwords  \n",
       "0  preliminary investigation interaction internal...  \n",
       "1           alfvenwave excitation magnetostatic mode  \n",
       "2  mechanisms responsible topographical changes p...  \n",
       "3                       drag force spheres thin jets  \n",
       "4  simulation slow cyclotron wave growth scattere...  "
      ]
     },
     "execution_count": 12,
     "metadata": {},
     "output_type": "execute_result"
    }
   ],
   "source": [
    "data.head()"
   ]
  },
  {
   "cell_type": "code",
   "execution_count": null,
   "metadata": {},
   "outputs": [],
   "source": []
  }
 ],
 "metadata": {
  "kernelspec": {
   "display_name": "Python 3",
   "language": "python",
   "name": "python3"
  },
  "language_info": {
   "codemirror_mode": {
    "name": "ipython",
    "version": 3
   },
   "file_extension": ".py",
   "mimetype": "text/x-python",
   "name": "python",
   "nbconvert_exporter": "python",
   "pygments_lexer": "ipython3",
   "version": "3.6.7"
  }
 },
 "nbformat": 4,
 "nbformat_minor": 2
}
