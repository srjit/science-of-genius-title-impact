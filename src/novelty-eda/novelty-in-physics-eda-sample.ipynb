{
 "cells": [
  {
   "cell_type": "code",
   "execution_count": 1,
   "metadata": {},
   "outputs": [
    {
     "name": "stderr",
     "output_type": "stream",
     "text": [
      "ERROR:root:No traceback has been produced, nothing to debug.\n"
     ]
    }
   ],
   "source": [
    "%load_ext autoreload\n",
    "%autoreload 2\n",
    "%matplotlib inline\n",
    "%debug"
   ]
  },
  {
   "cell_type": "code",
   "execution_count": 2,
   "metadata": {},
   "outputs": [],
   "source": [
    "import sys\n",
    "sys.path.insert(0, \"../../code-previous\")"
   ]
  },
  {
   "cell_type": "code",
   "execution_count": 35,
   "metadata": {},
   "outputs": [],
   "source": [
    "import pandas as pd\n",
    "import numpy as np\n",
    "import networkx as nx\n",
    "import sklearn.feature_extraction as skfeatures\n",
    "import time\n",
    "import os\n",
    "\n",
    "import nltk\n",
    "stopwords = nltk.corpus.stopwords.words('english')\n",
    "\n",
    "\n",
    "import plotly\n",
    "import plotly.plotly as py\n",
    "import plotly.graph_objs as go\n",
    "plotly.tools.set_credentials_file(username='sreejith_s', api_key='rcet0rTqFCc3WeOzWTjv')\n",
    "\n",
    "\n",
    "\n",
    "from unicodedata import category\n",
    "from tqdm import tqdm\n",
    "tqdm.pandas(desc=\"Progress\")\n",
    "\n",
    "import seaborn as sns\n",
    "sns.set_style('white')\n",
    "import matplotlib.pylab as plt"
   ]
  },
  {
   "cell_type": "code",
   "execution_count": 4,
   "metadata": {},
   "outputs": [],
   "source": [
    "data_path = \"/mnt/disks/vault/analysis-data/interdisciplinary-novelty-analysis/articles.pql\"\n",
    "article_df = pd.read_pickle(data_path)"
   ]
  },
  {
   "cell_type": "code",
   "execution_count": 5,
   "metadata": {},
   "outputs": [],
   "source": [
    "data_path = \"/mnt/disks/vault/analysis-data/interdisciplinary-novelty-analysis/physics.pql\"\n",
    "data = None\n",
    "phy_categories = pd.read_pickle(data_path)"
   ]
  },
  {
   "cell_type": "code",
   "execution_count": 3,
   "metadata": {},
   "outputs": [
    {
     "ename": "NameError",
     "evalue": "name 'phy_categories' is not defined",
     "output_type": "error",
     "traceback": [
      "\u001b[0;31m---------------------------------------------------------------------------\u001b[0m",
      "\u001b[0;31mNameError\u001b[0m                                 Traceback (most recent call last)",
      "\u001b[0;32m<ipython-input-3-0c04947c5710>\u001b[0m in \u001b[0;36m<module>\u001b[0;34m\u001b[0m\n\u001b[1;32m      1\u001b[0m \u001b[0mdata\u001b[0m \u001b[0;34m=\u001b[0m \u001b[0;32mNone\u001b[0m\u001b[0;34m\u001b[0m\u001b[0;34m\u001b[0m\u001b[0m\n\u001b[0;32m----> 2\u001b[0;31m data = phy_categories.merge(article_df, \n\u001b[0m\u001b[1;32m      3\u001b[0m                             \u001b[0mhow\u001b[0m \u001b[0;34m=\u001b[0m \u001b[0;34m'inner'\u001b[0m\u001b[0;34m,\u001b[0m\u001b[0;34m\u001b[0m\u001b[0;34m\u001b[0m\u001b[0m\n\u001b[1;32m      4\u001b[0m                             on = 'ArticleID')\n",
      "\u001b[0;31mNameError\u001b[0m: name 'phy_categories' is not defined"
     ]
    }
   ],
   "source": [
    "data = None\n",
    "data = phy_categories.merge(article_df, \n",
    "                            how = 'inner',\n",
    "                            on = 'ArticleID')"
   ]
  },
  {
   "cell_type": "code",
   "execution_count": 2,
   "metadata": {},
   "outputs": [
    {
     "ename": "NameError",
     "evalue": "name 'data' is not defined",
     "output_type": "error",
     "traceback": [
      "\u001b[0;31m---------------------------------------------------------------------------\u001b[0m",
      "\u001b[0;31mNameError\u001b[0m                                 Traceback (most recent call last)",
      "\u001b[0;32m<ipython-input-2-d76d1b9880a7>\u001b[0m in \u001b[0;36m<module>\u001b[0;34m\u001b[0m\n\u001b[0;32m----> 1\u001b[0;31m \u001b[0mdata\u001b[0m \u001b[0;34m=\u001b[0m \u001b[0mdata\u001b[0m\u001b[0;34m[\u001b[0m\u001b[0mdata\u001b[0m\u001b[0;34m.\u001b[0m\u001b[0mLabel\u001b[0m \u001b[0;34m==\u001b[0m \u001b[0;34m\"Physics, Applied\"\u001b[0m\u001b[0;34m]\u001b[0m\u001b[0;34m\u001b[0m\u001b[0;34m\u001b[0m\u001b[0m\n\u001b[0m\u001b[1;32m      2\u001b[0m \u001b[0m_data\u001b[0m \u001b[0;34m=\u001b[0m \u001b[0mdata\u001b[0m\u001b[0;34m[\u001b[0m\u001b[0;34m(\u001b[0m\u001b[0mdata\u001b[0m\u001b[0;34m.\u001b[0m\u001b[0mPubYear\u001b[0m \u001b[0;34m>\u001b[0m \u001b[0;36m1990\u001b[0m\u001b[0;34m)\u001b[0m \u001b[0;34m&\u001b[0m \u001b[0;34m(\u001b[0m\u001b[0mdata\u001b[0m\u001b[0;34m.\u001b[0m\u001b[0mPubYear\u001b[0m \u001b[0;34m<\u001b[0m \u001b[0;36m2000\u001b[0m\u001b[0;34m)\u001b[0m \u001b[0;34m]\u001b[0m\u001b[0;34m\u001b[0m\u001b[0;34m\u001b[0m\u001b[0m\n",
      "\u001b[0;31mNameError\u001b[0m: name 'data' is not defined"
     ]
    }
   ],
   "source": [
    "data = data[data.Label == \"Physics, Applied\"]\n",
    "_data = data[(data.PubYear > 1990) & (data.PubYear < 2000) ]"
   ]
  },
  {
   "cell_type": "code",
   "execution_count": 1,
   "metadata": {},
   "outputs": [
    {
     "ename": "NameError",
     "evalue": "name '_data' is not defined",
     "output_type": "error",
     "traceback": [
      "\u001b[0;31m---------------------------------------------------------------------------\u001b[0m",
      "\u001b[0;31mNameError\u001b[0m                                 Traceback (most recent call last)",
      "\u001b[0;32m<ipython-input-1-412ada9a669d>\u001b[0m in \u001b[0;36m<module>\u001b[0;34m\u001b[0m\n\u001b[0;32m----> 1\u001b[0;31m _data['title_without_punct'] = _data['Title'].progress_apply(lambda x: \n\u001b[0m\u001b[1;32m      2\u001b[0m                                                            str.lower(''.join(ch for ch in str(x) if category(ch)[0] != 'P')))\n\u001b[1;32m      3\u001b[0m \u001b[0m_data\u001b[0m\u001b[0;34m[\u001b[0m\u001b[0;34m\"title_without_stopwords\"\u001b[0m\u001b[0;34m]\u001b[0m \u001b[0;34m=\u001b[0m \u001b[0m_data\u001b[0m\u001b[0;34m[\u001b[0m\u001b[0;34m'title_without_punct'\u001b[0m\u001b[0;34m]\u001b[0m\u001b[0;34m.\u001b[0m\u001b[0mprogress_apply\u001b[0m\u001b[0;34m(\u001b[0m\u001b[0;32mlambda\u001b[0m \u001b[0mx\u001b[0m\u001b[0;34m:\u001b[0m \u001b[0;34m\"\"\u001b[0m\u001b[0;34m.\u001b[0m\u001b[0mjoin\u001b[0m\u001b[0;34m(\u001b[0m\u001b[0;34m[\u001b[0m\u001b[0mword\u001b[0m \u001b[0;32mfor\u001b[0m \u001b[0mword\u001b[0m \u001b[0;32min\u001b[0m \u001b[0mx\u001b[0m\u001b[0;34m.\u001b[0m\u001b[0msplit\u001b[0m\u001b[0;34m(\u001b[0m\u001b[0;34m)\u001b[0m \u001b[0;32mif\u001b[0m \u001b[0mword\u001b[0m \u001b[0;32mnot\u001b[0m \u001b[0;32min\u001b[0m \u001b[0mstopwords\u001b[0m\u001b[0;34m]\u001b[0m\u001b[0;34m)\u001b[0m\u001b[0;34m)\u001b[0m\u001b[0;34m\u001b[0m\u001b[0;34m\u001b[0m\u001b[0m\n",
      "\u001b[0;31mNameError\u001b[0m: name '_data' is not defined"
     ]
    }
   ],
   "source": [
    "_data['title_without_punct'] = _data['Title'].progress_apply(lambda x: \n",
    "                                                           str.lower(''.join(ch for ch in str(x) if category(ch)[0] != 'P')))\n",
    "_data[\"title_without_stopwords\"] = _data['title_without_punct'].progress_apply(lambda x: \"\".join([word for word in x.split() if word not in stopwords]))"
   ]
  },
  {
   "cell_type": "code",
   "execution_count": 9,
   "metadata": {},
   "outputs": [
    {
     "data": {
      "text/plain": [
       "1031701"
      ]
     },
     "execution_count": 9,
     "metadata": {},
     "output_type": "execute_result"
    }
   ],
   "source": [
    "len(data)"
   ]
  },
  {
   "cell_type": "code",
   "execution_count": 9,
   "metadata": {},
   "outputs": [],
   "source": []
  },
  {
   "cell_type": "code",
   "execution_count": 10,
   "metadata": {},
   "outputs": [
    {
     "data": {
      "text/plain": [
       "Label\n",
       "Physics, Applied    1031701\n",
       "dtype: int64"
      ]
     },
     "execution_count": 10,
     "metadata": {},
     "output_type": "execute_result"
    }
   ],
   "source": [
    "data.groupby('Label').size()"
   ]
  },
  {
   "cell_type": "code",
   "execution_count": 11,
   "metadata": {},
   "outputs": [
    {
     "data": {
      "text/html": [
       "<div>\n",
       "<style scoped>\n",
       "    .dataframe tbody tr th:only-of-type {\n",
       "        vertical-align: middle;\n",
       "    }\n",
       "\n",
       "    .dataframe tbody tr th {\n",
       "        vertical-align: top;\n",
       "    }\n",
       "\n",
       "    .dataframe thead th {\n",
       "        text-align: right;\n",
       "    }\n",
       "</style>\n",
       "<table border=\"1\" class=\"dataframe\">\n",
       "  <thead>\n",
       "    <tr style=\"text-align: right;\">\n",
       "      <th></th>\n",
       "      <th>ArticleID</th>\n",
       "      <th>Type</th>\n",
       "      <th>Label</th>\n",
       "      <th>PubYear</th>\n",
       "      <th>Doctypes</th>\n",
       "      <th>Title</th>\n",
       "      <th>Journal</th>\n",
       "      <th>Journal Abbreviation ISO</th>\n",
       "      <th>title_without_punct</th>\n",
       "      <th>title_without_stopwords</th>\n",
       "    </tr>\n",
       "  </thead>\n",
       "  <tbody>\n",
       "    <tr>\n",
       "      <th>2810</th>\n",
       "      <td>A1987K373700006</td>\n",
       "      <td>ASCA traditional subject</td>\n",
       "      <td>Physics, Applied</td>\n",
       "      <td>1987</td>\n",
       "      <td>Article</td>\n",
       "      <td>APPLICATION OF AN ATMOSPHERIC-PRESSURE MICROWA...</td>\n",
       "      <td>PLASMA CHEMISTRY AND PLASMA PROCESSING</td>\n",
       "      <td>Plasma Chem. Plasma Process.</td>\n",
       "      <td>application of an atmosphericpressure microwav...</td>\n",
       "      <td>[application, atmosphericpressure, microwave, ...</td>\n",
       "    </tr>\n",
       "    <tr>\n",
       "      <th>2819</th>\n",
       "      <td>A1987H758700004</td>\n",
       "      <td>ASCA traditional subject</td>\n",
       "      <td>Physics, Applied</td>\n",
       "      <td>1987</td>\n",
       "      <td>Article</td>\n",
       "      <td>THE EFFICACY OF HEATING LOW-PRESSURE H-2 IN A ...</td>\n",
       "      <td>PLASMA CHEMISTRY AND PLASMA PROCESSING</td>\n",
       "      <td>Plasma Chem. Plasma Process.</td>\n",
       "      <td>the efficacy of heating lowpressure h2 in a mi...</td>\n",
       "      <td>[efficacy, heating, lowpressure, h2, microwave...</td>\n",
       "    </tr>\n",
       "    <tr>\n",
       "      <th>2931</th>\n",
       "      <td>A1987H758700003</td>\n",
       "      <td>ASCA traditional subject</td>\n",
       "      <td>Physics, Applied</td>\n",
       "      <td>1987</td>\n",
       "      <td>Article</td>\n",
       "      <td>DECOMPOSITION OF SICL4 AND DEPOSITION OF SI IN...</td>\n",
       "      <td>PLASMA CHEMISTRY AND PLASMA PROCESSING</td>\n",
       "      <td>Plasma Chem. Plasma Process.</td>\n",
       "      <td>decomposition of sicl4 and deposition of si in...</td>\n",
       "      <td>[decomposition, sicl4, deposition, si, inducti...</td>\n",
       "    </tr>\n",
       "    <tr>\n",
       "      <th>2942</th>\n",
       "      <td>A1987H758700001</td>\n",
       "      <td>ASCA traditional subject</td>\n",
       "      <td>Physics, Applied</td>\n",
       "      <td>1987</td>\n",
       "      <td>Article</td>\n",
       "      <td>DOMINANT REACTION CHANNELS AND THE MECHANISM O...</td>\n",
       "      <td>PLASMA CHEMISTRY AND PLASMA PROCESSING</td>\n",
       "      <td>Plasma Chem. Plasma Process.</td>\n",
       "      <td>dominant reaction channels and the mechanism o...</td>\n",
       "      <td>[dominant, reaction, channels, mechanism, sila...</td>\n",
       "    </tr>\n",
       "    <tr>\n",
       "      <th>2976</th>\n",
       "      <td>A1987G608000006</td>\n",
       "      <td>ASCA traditional subject</td>\n",
       "      <td>Physics, Applied</td>\n",
       "      <td>1987</td>\n",
       "      <td>Article</td>\n",
       "      <td>ION BOMBARDMENT-INDUCED MECHANICAL-STRESS IN P...</td>\n",
       "      <td>PLASMA CHEMISTRY AND PLASMA PROCESSING</td>\n",
       "      <td>Plasma Chem. Plasma Process.</td>\n",
       "      <td>ion bombardmentinduced mechanicalstress in pla...</td>\n",
       "      <td>[ion, bombardmentinduced, mechanicalstress, pl...</td>\n",
       "    </tr>\n",
       "  </tbody>\n",
       "</table>\n",
       "</div>"
      ],
      "text/plain": [
       "            ArticleID                      Type             Label  PubYear  \\\n",
       "2810  A1987K373700006  ASCA traditional subject  Physics, Applied     1987   \n",
       "2819  A1987H758700004  ASCA traditional subject  Physics, Applied     1987   \n",
       "2931  A1987H758700003  ASCA traditional subject  Physics, Applied     1987   \n",
       "2942  A1987H758700001  ASCA traditional subject  Physics, Applied     1987   \n",
       "2976  A1987G608000006  ASCA traditional subject  Physics, Applied     1987   \n",
       "\n",
       "     Doctypes                                              Title  \\\n",
       "2810  Article  APPLICATION OF AN ATMOSPHERIC-PRESSURE MICROWA...   \n",
       "2819  Article  THE EFFICACY OF HEATING LOW-PRESSURE H-2 IN A ...   \n",
       "2931  Article  DECOMPOSITION OF SICL4 AND DEPOSITION OF SI IN...   \n",
       "2942  Article  DOMINANT REACTION CHANNELS AND THE MECHANISM O...   \n",
       "2976  Article  ION BOMBARDMENT-INDUCED MECHANICAL-STRESS IN P...   \n",
       "\n",
       "                                     Journal      Journal Abbreviation ISO  \\\n",
       "2810  PLASMA CHEMISTRY AND PLASMA PROCESSING  Plasma Chem. Plasma Process.   \n",
       "2819  PLASMA CHEMISTRY AND PLASMA PROCESSING  Plasma Chem. Plasma Process.   \n",
       "2931  PLASMA CHEMISTRY AND PLASMA PROCESSING  Plasma Chem. Plasma Process.   \n",
       "2942  PLASMA CHEMISTRY AND PLASMA PROCESSING  Plasma Chem. Plasma Process.   \n",
       "2976  PLASMA CHEMISTRY AND PLASMA PROCESSING  Plasma Chem. Plasma Process.   \n",
       "\n",
       "                                    title_without_punct  \\\n",
       "2810  application of an atmosphericpressure microwav...   \n",
       "2819  the efficacy of heating lowpressure h2 in a mi...   \n",
       "2931  decomposition of sicl4 and deposition of si in...   \n",
       "2942  dominant reaction channels and the mechanism o...   \n",
       "2976  ion bombardmentinduced mechanicalstress in pla...   \n",
       "\n",
       "                                title_without_stopwords  \n",
       "2810  [application, atmosphericpressure, microwave, ...  \n",
       "2819  [efficacy, heating, lowpressure, h2, microwave...  \n",
       "2931  [decomposition, sicl4, deposition, si, inducti...  \n",
       "2942  [dominant, reaction, channels, mechanism, sila...  \n",
       "2976  [ion, bombardmentinduced, mechanicalstress, pl...  "
      ]
     },
     "execution_count": 11,
     "metadata": {},
     "output_type": "execute_result"
    }
   ],
   "source": [
    "data.head()"
   ]
  },
  {
   "cell_type": "code",
   "execution_count": 9,
   "metadata": {},
   "outputs": [],
   "source": [
    "#_data = data[(data.PubYear > 1990) & (data.PubYear < 2000) ]"
   ]
  },
  {
   "cell_type": "code",
   "execution_count": 10,
   "metadata": {},
   "outputs": [
    {
     "data": {
      "text/plain": [
       "array([1991, 1992, 1993, 1994, 1995, 1996, 1997, 1998, 1999])"
      ]
     },
     "execution_count": 10,
     "metadata": {},
     "output_type": "execute_result"
    }
   ],
   "source": [
    "_data.PubYear.unique()"
   ]
  },
  {
   "cell_type": "code",
   "execution_count": 11,
   "metadata": {},
   "outputs": [],
   "source": [
    "data_grouped_by_year = _data.groupby('PubYear').agg({'title_without_stopwords': 'sum'}).reset_index()"
   ]
  },
  {
   "cell_type": "code",
   "execution_count": null,
   "metadata": {},
   "outputs": [],
   "source": [
    "data_grouped_by_year[\"len\"] = data_grouped_by_year[\"title_without_stopwords\"].apply(lambda x: len(x))"
   ]
  },
  {
   "cell_type": "code",
   "execution_count": 39,
   "metadata": {},
   "outputs": [],
   "source": [
    "# create a list of combining things\n",
    "words_in_title = list(data_grouped_by_year[\"title_without_stopwords\"])\n",
    "\n",
    "all_words_until_past_year = []\n",
    "new_words_in_the_year = []\n",
    "\n",
    "top_words = []\n",
    "\n",
    "all_words = []\n",
    "\n",
    "import collections\n",
    "\n",
    "\n",
    "for i in range(len(data_grouped_by_year)):\n",
    "    \n",
    "    words_in_the_year = words_in_title[i]\n",
    "    \n",
    "    counts = collections.Counter(words_in_the_year)\n",
    "    high_freq = counts.most_common()[:1000]\n",
    "    top_words.append(high_freq)\n",
    "\n",
    "    new_words_in_the_year.append([word for word in high_freq if word not in all_words_until_past_year])\n",
    "    all_words_until_past_year.extend(high_freq)\n",
    "    all_words.extend(words_in_the_year)"
   ]
  },
  {
   "cell_type": "code",
   "execution_count": 31,
   "metadata": {},
   "outputs": [],
   "source": [
    "all_words_counter = collections.Counter(all_words)\n",
    "higest_freq = all_words_counter.most_common()[:50]"
   ]
  },
  {
   "cell_type": "code",
   "execution_count": 33,
   "metadata": {},
   "outputs": [],
   "source": [
    "top_freq = pd.DataFrame(higest_freq, columns=[\"word\",\"Freq\"])"
   ]
  },
  {
   "cell_type": "code",
   "execution_count": 37,
   "metadata": {},
   "outputs": [
    {
     "name": "stderr",
     "output_type": "stream",
     "text": [
      "/usr/local/lib/python3.6/dist-packages/IPython/core/display.py:689: UserWarning:\n",
      "\n",
      "Consider using IPython.display.IFrame instead\n",
      "\n"
     ]
    },
    {
     "data": {
      "text/html": [
       "<iframe id=\"igraph\" scrolling=\"no\" style=\"border:none;\" seamless=\"seamless\" src=\"https://plot.ly/~sreejith_s/68.embed\" height=\"525px\" width=\"100%\"></iframe>"
      ],
      "text/plain": [
       "<plotly.tools.PlotlyDisplay object>"
      ]
     },
     "execution_count": 37,
     "metadata": {},
     "output_type": "execute_result"
    }
   ],
   "source": [
    "datatoplot = [go.Line(\n",
    "            x=top_freq[\"word\"],\n",
    "            y=top_freq[\"Freq\"]\n",
    "    )]\n",
    "\n",
    "\n",
    "\n",
    "layout = go.Layout(\n",
    "    title='Top Frquency Words',\n",
    "    \n",
    "    xaxis=dict(\n",
    "        title='Word',\n",
    "        titlefont=dict(\n",
    "            family='Lato',\n",
    "            size=18,\n",
    "            color='#7f7f7f'\n",
    "        )\n",
    "    ),\n",
    "    yaxis=dict(\n",
    "        title='Frequency',\n",
    "        titlefont=dict(\n",
    "            family='Lato',\n",
    "            size=18,\n",
    "            color='#7f7f7f'\n",
    "        )\n",
    "    )\n",
    ")\n",
    "\n",
    "fig = go.Figure(data=datatoplot, layout=layout)\n",
    "py.iplot(fig, filename='freq')"
   ]
  },
  {
   "cell_type": "markdown",
   "metadata": {},
   "source": [
    "__What percentage of words are overlapping with the words from previous year?__"
   ]
  },
  {
   "cell_type": "code",
   "execution_count": 54,
   "metadata": {},
   "outputs": [
    {
     "name": "stderr",
     "output_type": "stream",
     "text": [
      "/usr/local/lib/python3.6/dist-packages/IPython/core/display.py:689: UserWarning:\n",
      "\n",
      "Consider using IPython.display.IFrame instead\n",
      "\n"
     ]
    },
    {
     "data": {
      "text/html": [
       "<iframe id=\"igraph\" scrolling=\"no\" style=\"border:none;\" seamless=\"seamless\" src=\"https://plot.ly/~sreejith_s/68.embed\" height=\"525px\" width=\"100%\"></iframe>"
      ],
      "text/plain": [
       "<plotly.tools.PlotlyDisplay object>"
      ]
     },
     "execution_count": 54,
     "metadata": {},
     "output_type": "execute_result"
    }
   ],
   "source": [
    "overlap_counts = []\n",
    "\n",
    "for i in range(1, len(top_words)):\n",
    "    overlap_count = len([word for word in top_words[i] if word in top_words[i-1]])/ len(top_words[i-1])    \n",
    "    overlap_counts.append(overlap_count)\n",
    "\n",
    "\n",
    "    \n",
    "overlapping_word_count = pd.DataFrame([(year, overlap_counts[i]) for (i, year) in enumerate(range(1992, 2000))],\n",
    "                                      columns=[\"Year\",\"Overlap_Count\"])\n",
    "\n",
    "datatoplot = [go.Line(\n",
    "            x=overlapping_word_count[\"Year\"],\n",
    "            y=overlapping_word_count[\"Overlap_Count\"]\n",
    "    )]\n",
    "layout = go.Layout(\n",
    "    title='Overlap Count of Words',\n",
    "    \n",
    "    xaxis=dict(\n",
    "        title='Year',\n",
    "        titlefont=dict(\n",
    "            family='Lato',\n",
    "            size=18,\n",
    "            color='#7f7f7f'\n",
    "        )\n",
    "    ),\n",
    "    yaxis=dict(\n",
    "        title='Overlap Count',\n",
    "        titlefont=dict(\n",
    "            family='Lato',\n",
    "            size=18,\n",
    "            color='#7f7f7f'\n",
    "        )\n",
    "    )\n",
    ")\n",
    "\n",
    "fig = go.Figure(data=datatoplot, layout=layout)\n",
    "py.iplot(fig, filename='freq')"
   ]
  },
  {
   "cell_type": "code",
   "execution_count": 39,
   "metadata": {},
   "outputs": [
    {
     "data": {
      "text/html": [
       "<div>\n",
       "<style scoped>\n",
       "    .dataframe tbody tr th:only-of-type {\n",
       "        vertical-align: middle;\n",
       "    }\n",
       "\n",
       "    .dataframe tbody tr th {\n",
       "        vertical-align: top;\n",
       "    }\n",
       "\n",
       "    .dataframe thead th {\n",
       "        text-align: right;\n",
       "    }\n",
       "</style>\n",
       "<table border=\"1\" class=\"dataframe\">\n",
       "  <thead>\n",
       "    <tr style=\"text-align: right;\">\n",
       "      <th></th>\n",
       "      <th>PubYear</th>\n",
       "      <th>title_without_stopwords</th>\n",
       "      <th>len</th>\n",
       "      <th>rolled</th>\n",
       "      <th>rolled_len</th>\n",
       "    </tr>\n",
       "  </thead>\n",
       "  <tbody>\n",
       "    <tr>\n",
       "      <th>0</th>\n",
       "      <td>1991</td>\n",
       "      <td>[tridimensional, model, magnetostatic, case, c...</td>\n",
       "      <td>118557</td>\n",
       "      <td>[tridimensional, model, magnetostatic, case, c...</td>\n",
       "      <td>118557</td>\n",
       "    </tr>\n",
       "    <tr>\n",
       "      <th>1</th>\n",
       "      <td>1992</td>\n",
       "      <td>[counterflow, liquid, injection, plasma, synth...</td>\n",
       "      <td>114584</td>\n",
       "      <td>[counterflow, liquid, injection, plasma, synth...</td>\n",
       "      <td>114584</td>\n",
       "    </tr>\n",
       "    <tr>\n",
       "      <th>2</th>\n",
       "      <td>1993</td>\n",
       "      <td>[thermalanalysis, lowtemperature, groundlevel,...</td>\n",
       "      <td>127503</td>\n",
       "      <td>[thermalanalysis, lowtemperature, groundlevel,...</td>\n",
       "      <td>127503</td>\n",
       "    </tr>\n",
       "    <tr>\n",
       "      <th>3</th>\n",
       "      <td>1994</td>\n",
       "      <td>[fractal, characterization, 3d, surfaceroughne...</td>\n",
       "      <td>134213</td>\n",
       "      <td>[fractal, characterization, 3d, surfaceroughne...</td>\n",
       "      <td>134213</td>\n",
       "    </tr>\n",
       "    <tr>\n",
       "      <th>4</th>\n",
       "      <td>1995</td>\n",
       "      <td>[he3, nuclearspin, relaxation, cesium, coated,...</td>\n",
       "      <td>129310</td>\n",
       "      <td>[he3, nuclearspin, relaxation, cesium, coated,...</td>\n",
       "      <td>129310</td>\n",
       "    </tr>\n",
       "    <tr>\n",
       "      <th>5</th>\n",
       "      <td>1996</td>\n",
       "      <td>[radial, structure, kinetics, production, elec...</td>\n",
       "      <td>147185</td>\n",
       "      <td>[radial, structure, kinetics, production, elec...</td>\n",
       "      <td>147185</td>\n",
       "    </tr>\n",
       "    <tr>\n",
       "      <th>6</th>\n",
       "      <td>1997</td>\n",
       "      <td>[homogenization, materials, used, allfilm, met...</td>\n",
       "      <td>144867</td>\n",
       "      <td>[homogenization, materials, used, allfilm, met...</td>\n",
       "      <td>144867</td>\n",
       "    </tr>\n",
       "    <tr>\n",
       "      <th>7</th>\n",
       "      <td>1998</td>\n",
       "      <td>[nonlocal, electron, kinetics, pstriations, dc...</td>\n",
       "      <td>151542</td>\n",
       "      <td>[nonlocal, electron, kinetics, pstriations, dc...</td>\n",
       "      <td>151542</td>\n",
       "    </tr>\n",
       "    <tr>\n",
       "      <th>8</th>\n",
       "      <td>1999</td>\n",
       "      <td>[snox, thin, film, gas, sensors, prepared, pla...</td>\n",
       "      <td>152579</td>\n",
       "      <td>[snox, thin, film, gas, sensors, prepared, pla...</td>\n",
       "      <td>152579</td>\n",
       "    </tr>\n",
       "    <tr>\n",
       "      <th>9</th>\n",
       "      <td>2000</td>\n",
       "      <td>[numerical, modeling, hen2, capillary, surface...</td>\n",
       "      <td>155013</td>\n",
       "      <td>[numerical, modeling, hen2, capillary, surface...</td>\n",
       "      <td>155013</td>\n",
       "    </tr>\n",
       "    <tr>\n",
       "      <th>10</th>\n",
       "      <td>2001</td>\n",
       "      <td>[effects, process, variables, nox, conversion,...</td>\n",
       "      <td>157250</td>\n",
       "      <td>[effects, process, variables, nox, conversion,...</td>\n",
       "      <td>157250</td>\n",
       "    </tr>\n",
       "    <tr>\n",
       "      <th>11</th>\n",
       "      <td>2002</td>\n",
       "      <td>[effects, copper, vapor, heat, transfer, atmos...</td>\n",
       "      <td>172430</td>\n",
       "      <td>[effects, copper, vapor, heat, transfer, atmos...</td>\n",
       "      <td>172430</td>\n",
       "    </tr>\n",
       "    <tr>\n",
       "      <th>12</th>\n",
       "      <td>2003</td>\n",
       "      <td>[point, multipoint, plane, barrier, discharge,...</td>\n",
       "      <td>181661</td>\n",
       "      <td>[point, multipoint, plane, barrier, discharge,...</td>\n",
       "      <td>181661</td>\n",
       "    </tr>\n",
       "    <tr>\n",
       "      <th>13</th>\n",
       "      <td>2004</td>\n",
       "      <td>[global, model, chemical, vapor, deposition, s...</td>\n",
       "      <td>200198</td>\n",
       "      <td>[global, model, chemical, vapor, deposition, s...</td>\n",
       "      <td>200198</td>\n",
       "    </tr>\n",
       "  </tbody>\n",
       "</table>\n",
       "</div>"
      ],
      "text/plain": [
       "    PubYear                            title_without_stopwords     len  \\\n",
       "0      1991  [tridimensional, model, magnetostatic, case, c...  118557   \n",
       "1      1992  [counterflow, liquid, injection, plasma, synth...  114584   \n",
       "2      1993  [thermalanalysis, lowtemperature, groundlevel,...  127503   \n",
       "3      1994  [fractal, characterization, 3d, surfaceroughne...  134213   \n",
       "4      1995  [he3, nuclearspin, relaxation, cesium, coated,...  129310   \n",
       "5      1996  [radial, structure, kinetics, production, elec...  147185   \n",
       "6      1997  [homogenization, materials, used, allfilm, met...  144867   \n",
       "7      1998  [nonlocal, electron, kinetics, pstriations, dc...  151542   \n",
       "8      1999  [snox, thin, film, gas, sensors, prepared, pla...  152579   \n",
       "9      2000  [numerical, modeling, hen2, capillary, surface...  155013   \n",
       "10     2001  [effects, process, variables, nox, conversion,...  157250   \n",
       "11     2002  [effects, copper, vapor, heat, transfer, atmos...  172430   \n",
       "12     2003  [point, multipoint, plane, barrier, discharge,...  181661   \n",
       "13     2004  [global, model, chemical, vapor, deposition, s...  200198   \n",
       "\n",
       "                                               rolled  rolled_len  \n",
       "0   [tridimensional, model, magnetostatic, case, c...      118557  \n",
       "1   [counterflow, liquid, injection, plasma, synth...      114584  \n",
       "2   [thermalanalysis, lowtemperature, groundlevel,...      127503  \n",
       "3   [fractal, characterization, 3d, surfaceroughne...      134213  \n",
       "4   [he3, nuclearspin, relaxation, cesium, coated,...      129310  \n",
       "5   [radial, structure, kinetics, production, elec...      147185  \n",
       "6   [homogenization, materials, used, allfilm, met...      144867  \n",
       "7   [nonlocal, electron, kinetics, pstriations, dc...      151542  \n",
       "8   [snox, thin, film, gas, sensors, prepared, pla...      152579  \n",
       "9   [numerical, modeling, hen2, capillary, surface...      155013  \n",
       "10  [effects, process, variables, nox, conversion,...      157250  \n",
       "11  [effects, copper, vapor, heat, transfer, atmos...      172430  \n",
       "12  [point, multipoint, plane, barrier, discharge,...      181661  \n",
       "13  [global, model, chemical, vapor, deposition, s...      200198  "
      ]
     },
     "execution_count": 39,
     "metadata": {},
     "output_type": "execute_result"
    }
   ],
   "source": [
    "foo = data_grouped_by_year.rolling(7, on='title_without_stopwords',min_periods=0).sum()\n",
    "data_grouped_by_year[\"rolled\"] = data_grouped_by_year.title_without_stopwords.rolling(3, win_type ='triang').sum()\n",
    "\n",
    "data_grouped_by_year[\"rolled_len\"] = data_grouped_by_year[\"rolled\"].apply(lambda x: len(x))\n",
    "data_grouped_by_year"
   ]
  },
  {
   "cell_type": "code",
   "execution_count": null,
   "metadata": {},
   "outputs": [],
   "source": []
  }
 ],
 "metadata": {
  "kernelspec": {
   "display_name": "Python 3",
   "language": "python",
   "name": "python3"
  },
  "language_info": {
   "codemirror_mode": {
    "name": "ipython",
    "version": 3
   },
   "file_extension": ".py",
   "mimetype": "text/x-python",
   "name": "python",
   "nbconvert_exporter": "python",
   "pygments_lexer": "ipython3",
   "version": "3.6.7"
  }
 },
 "nbformat": 4,
 "nbformat_minor": 2
}
