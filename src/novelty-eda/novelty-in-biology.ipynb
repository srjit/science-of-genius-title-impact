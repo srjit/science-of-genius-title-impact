{
 "cells": [
  {
   "cell_type": "code",
   "execution_count": 1,
   "metadata": {},
   "outputs": [],
   "source": [
    "%load_ext autoreload\n",
    "%autoreload 2\n",
    "%matplotlib inline"
   ]
  },
  {
   "cell_type": "code",
   "execution_count": 2,
   "metadata": {},
   "outputs": [],
   "source": [
    "import sys\n",
    "sys.path.insert(0, \"../../code-previous\")"
   ]
  },
  {
   "cell_type": "code",
   "execution_count": 3,
   "metadata": {},
   "outputs": [
    {
     "name": "stderr",
     "output_type": "stream",
     "text": [
      "/usr/lib/python3.6/importlib/_bootstrap.py:219: RuntimeWarning: numpy.dtype size changed, may indicate binary incompatibility. Expected 96, got 88\n",
      "  return f(*args, **kwds)\n"
     ]
    }
   ],
   "source": [
    "import pandas as pd\n",
    "import numpy as np\n",
    "import networkx as nx\n",
    "import sklearn.feature_extraction as skfeatures\n",
    "import time\n",
    "import os\n",
    "\n",
    "import operator\n",
    "\n",
    "import string\n",
    "import swifter\n",
    "import nltk\n",
    "stopwords = nltk.corpus.stopwords.words('english')\n",
    "\n",
    "\n",
    "import plotly\n",
    "import plotly.plotly as py\n",
    "import plotly.graph_objs as go\n",
    "plotly.tools.set_credentials_file(username='sreejith_s', api_key='rcet0rTqFCc3WeOzWTjv')\n",
    "\n",
    "\n",
    "\n",
    "from sklearn.feature_extraction.text import CountVectorizer\n",
    "\n",
    "\n",
    "from unicodedata import category\n",
    "from tqdm import tqdm\n",
    "tqdm.pandas(desc=\"Progress\")\n",
    "\n",
    "import seaborn as sns\n",
    "sns.set_style('white')\n",
    "import matplotlib.pylab as plt"
   ]
  },
  {
   "cell_type": "code",
   "execution_count": 4,
   "metadata": {},
   "outputs": [],
   "source": [
    "data_path = \"/mnt/disks/vault/analysis-data/interdisciplinary-novelty-analysis/articles.pql\"\n",
    "article_df = pd.read_pickle(data_path)"
   ]
  },
  {
   "cell_type": "code",
   "execution_count": 5,
   "metadata": {},
   "outputs": [],
   "source": [
    "data_path = \"/mnt/disks/vault/analysis-data/interdisciplinary-novelty-analysis/biology.pql\"\n",
    "data = None\n",
    "bio_categories = pd.read_pickle(data_path)"
   ]
  },
  {
   "cell_type": "code",
   "execution_count": 6,
   "metadata": {},
   "outputs": [],
   "source": [
    "data = None\n",
    "data = bio_categories.merge(article_df, \n",
    "                            how = 'inner',\n",
    "                            on = 'ArticleID')"
   ]
  },
  {
   "cell_type": "code",
   "execution_count": 7,
   "metadata": {},
   "outputs": [],
   "source": [
    "translator = str.maketrans(string.punctuation, ' '*len(string.punctuation))"
   ]
  },
  {
   "cell_type": "code",
   "execution_count": 8,
   "metadata": {},
   "outputs": [
    {
     "name": "stderr",
     "output_type": "stream",
     "text": [
      "Pandas Apply: 100%|██████████| 9446057/9446057 [00:41<00:00, 229929.09it/s]\n"
     ]
    }
   ],
   "source": [
    "data['title_without_punct'] = data['Title'].swifter.apply(lambda x: x.lower().translate(translator))"
   ]
  },
  {
   "cell_type": "code",
   "execution_count": 9,
   "metadata": {},
   "outputs": [
    {
     "name": "stderr",
     "output_type": "stream",
     "text": [
      "Pandas Apply: 100%|██████████| 9446057/9446057 [04:21<00:00, 36120.58it/s]\n"
     ]
    }
   ],
   "source": [
    "data[\"title_without_stopwords\"] = data['title_without_punct'].swifter.apply(lambda x: \" \".join([word for word in x.split() if word not in stopwords and not word.isdigit() and len(word) >= 4]))"
   ]
  },
  {
   "cell_type": "code",
   "execution_count": 10,
   "metadata": {},
   "outputs": [],
   "source": [
    "pd.set_option('display.max_colwidth', -1)"
   ]
  },
  {
   "cell_type": "code",
   "execution_count": 11,
   "metadata": {},
   "outputs": [
    {
     "data": {
      "text/html": [
       "<div>\n",
       "<style scoped>\n",
       "    .dataframe tbody tr th:only-of-type {\n",
       "        vertical-align: middle;\n",
       "    }\n",
       "\n",
       "    .dataframe tbody tr th {\n",
       "        vertical-align: top;\n",
       "    }\n",
       "\n",
       "    .dataframe thead th {\n",
       "        text-align: right;\n",
       "    }\n",
       "</style>\n",
       "<table border=\"1\" class=\"dataframe\">\n",
       "  <thead>\n",
       "    <tr style=\"text-align: right;\">\n",
       "      <th></th>\n",
       "      <th>Title</th>\n",
       "      <th>title_without_stopwords</th>\n",
       "    </tr>\n",
       "  </thead>\n",
       "  <tbody>\n",
       "    <tr>\n",
       "      <th>0</th>\n",
       "      <td>ON THE CONSTRUCTION OF NANOSECOND TIME-RESOLVED EMISSION-SPECTRA</td>\n",
       "      <td>construction nanosecond time resolved emission spectra</td>\n",
       "    </tr>\n",
       "    <tr>\n",
       "      <th>1</th>\n",
       "      <td>ON THE CONSTRUCTION OF NANOSECOND TIME-RESOLVED EMISSION-SPECTRA</td>\n",
       "      <td>construction nanosecond time resolved emission spectra</td>\n",
       "    </tr>\n",
       "    <tr>\n",
       "      <th>2</th>\n",
       "      <td>ON THE CONSTRUCTION OF NANOSECOND TIME-RESOLVED EMISSION-SPECTRA</td>\n",
       "      <td>construction nanosecond time resolved emission spectra</td>\n",
       "    </tr>\n",
       "    <tr>\n",
       "      <th>3</th>\n",
       "      <td>ON THE CONSTRUCTION OF NANOSECOND TIME-RESOLVED EMISSION-SPECTRA</td>\n",
       "      <td>construction nanosecond time resolved emission spectra</td>\n",
       "    </tr>\n",
       "    <tr>\n",
       "      <th>4</th>\n",
       "      <td>SEROTONIN (5-HYDROXYTRYPTAMINE) - A POSSIBLE REGULATOR OF GLYCOGENOLYSIS IN PERFUSED MUSCLE SEGMENTS OF ASCARIS-SUUM</td>\n",
       "      <td>serotonin hydroxytryptamine possible regulator glycogenolysis perfused muscle segments ascaris suum</td>\n",
       "    </tr>\n",
       "  </tbody>\n",
       "</table>\n",
       "</div>"
      ],
      "text/plain": [
       "                                                                                                                  Title  \\\n",
       "0  ON THE CONSTRUCTION OF NANOSECOND TIME-RESOLVED EMISSION-SPECTRA                                                       \n",
       "1  ON THE CONSTRUCTION OF NANOSECOND TIME-RESOLVED EMISSION-SPECTRA                                                       \n",
       "2  ON THE CONSTRUCTION OF NANOSECOND TIME-RESOLVED EMISSION-SPECTRA                                                       \n",
       "3  ON THE CONSTRUCTION OF NANOSECOND TIME-RESOLVED EMISSION-SPECTRA                                                       \n",
       "4  SEROTONIN (5-HYDROXYTRYPTAMINE) - A POSSIBLE REGULATOR OF GLYCOGENOLYSIS IN PERFUSED MUSCLE SEGMENTS OF ASCARIS-SUUM   \n",
       "\n",
       "                                                                               title_without_stopwords  \n",
       "0  construction nanosecond time resolved emission spectra                                               \n",
       "1  construction nanosecond time resolved emission spectra                                               \n",
       "2  construction nanosecond time resolved emission spectra                                               \n",
       "3  construction nanosecond time resolved emission spectra                                               \n",
       "4  serotonin hydroxytryptamine possible regulator glycogenolysis perfused muscle segments ascaris suum  "
      ]
     },
     "execution_count": 11,
     "metadata": {},
     "output_type": "execute_result"
    }
   ],
   "source": [
    "data[[\"Title\",\"title_without_stopwords\"]].head()"
   ]
  },
  {
   "cell_type": "code",
   "execution_count": null,
   "metadata": {},
   "outputs": [],
   "source": [
    "data = data.sort_values(by=\"PubYear\")"
   ]
  },
  {
   "cell_type": "code",
   "execution_count": null,
   "metadata": {},
   "outputs": [],
   "source": [
    "vectorizer = CountVectorizer()\n",
    "vectorized_words = vectorizer.fit_transform(data.title_without_stopwords)"
   ]
  },
  {
   "cell_type": "code",
   "execution_count": null,
   "metadata": {},
   "outputs": [],
   "source": [
    "row_counts = data.groupby('PubYear').size().reset_index(name=\"count\")"
   ]
  },
  {
   "cell_type": "code",
   "execution_count": null,
   "metadata": {},
   "outputs": [],
   "source": [
    "counts =  list(row_counts[\"count\"])"
   ]
  },
  {
   "cell_type": "markdown",
   "metadata": {},
   "source": [
    "__What are the overall topwords__"
   ]
  },
  {
   "cell_type": "code",
   "execution_count": null,
   "metadata": {},
   "outputs": [],
   "source": [
    "N = 50"
   ]
  },
  {
   "cell_type": "code",
   "execution_count": null,
   "metadata": {},
   "outputs": [],
   "source": [
    "vocab = vectorizer.vocabulary_\n",
    "rev_vocab = {index:word for word,index in vocab.items()}"
   ]
  },
  {
   "cell_type": "code",
   "execution_count": null,
   "metadata": {},
   "outputs": [],
   "source": [
    "# Highest Frequency words all time\n",
    "all_time_word_frequencies = vectorized_words.sum(axis=0).reshape(-1,).tolist()[0]\n",
    "word_index_with_freq = {index:freq for index,freq in enumerate(all_time_word_frequencies)}"
   ]
  },
  {
   "cell_type": "code",
   "execution_count": null,
   "metadata": {},
   "outputs": [],
   "source": [
    "word_with_freq = {rev_vocab[index]:np.log(freq + 1) for index, freq in word_index_with_freq.items()}"
   ]
  },
  {
   "cell_type": "code",
   "execution_count": null,
   "metadata": {},
   "outputs": [],
   "source": [
    "sorted_word_with_freq = sorted(word_with_freq.items(), key=operator.itemgetter(1), reverse=True)"
   ]
  },
  {
   "cell_type": "code",
   "execution_count": null,
   "metadata": {},
   "outputs": [],
   "source": [
    "top_words_all_corpus = pd.DataFrame(list(sorted_word_with_freq[:50]), columns=[\"word\",\"frequency\"])"
   ]
  },
  {
   "cell_type": "code",
   "execution_count": null,
   "metadata": {},
   "outputs": [
    {
     "name": "stderr",
     "output_type": "stream",
     "text": [
      "/usr/local/lib/python3.6/dist-packages/plotly/graph_objs/_deprecations.py:372: DeprecationWarning:\n",
      "\n",
      "plotly.graph_objs.Line is deprecated.\n",
      "Please replace it with one of the following more specific types\n",
      "  - plotly.graph_objs.scatter.Line\n",
      "  - plotly.graph_objs.layout.shape.Line\n",
      "  - etc.\n",
      "\n",
      "\n",
      "/usr/local/lib/python3.6/dist-packages/IPython/core/display.py:689: UserWarning:\n",
      "\n",
      "Consider using IPython.display.IFrame instead\n",
      "\n"
     ]
    },
    {
     "data": {
      "text/html": [
       "<iframe id=\"igraph\" scrolling=\"no\" style=\"border:none;\" seamless=\"seamless\" src=\"https://plot.ly/~sreejith_s/68.embed\" height=\"525px\" width=\"100%\"></iframe>"
      ],
      "text/plain": [
       "<plotly.tools.PlotlyDisplay object>"
      ]
     },
     "execution_count": 22,
     "metadata": {},
     "output_type": "execute_result"
    }
   ],
   "source": [
    "datatoplot = [go.Line(\n",
    "            x=top_words_all_corpus[\"word\"],\n",
    "            y=top_words_all_corpus[\"frequency\"]\n",
    "    )]\n",
    "\n",
    "\n",
    "\n",
    "layout = go.Layout(\n",
    "    title='Top Frequency Words',\n",
    "    \n",
    "    xaxis=dict(\n",
    "        title='Word',\n",
    "        titlefont=dict(\n",
    "            family='Lato',\n",
    "            color='#7f7f7f'\n",
    "        )\n",
    "    ),\n",
    "    yaxis=dict(\n",
    "        title='Frequency',\n",
    "        titlefont=dict(\n",
    "            family='Lato',\n",
    "            color='#7f7f7f'\n",
    "        )\n",
    "    )\n",
    ")\n",
    "\n",
    "fig = go.Figure(data=datatoplot, layout=layout)\n",
    "py.iplot(fig, filename='freq')"
   ]
  },
  {
   "cell_type": "code",
   "execution_count": null,
   "metadata": {},
   "outputs": [],
   "source": [
    "index_start = 0\n",
    "yearly_top_words = []\n",
    "\n",
    "N = 5000\n",
    "\n",
    "for i in range(len(row_counts)):\n",
    "    #print(i)\n",
    "    offset = index_start + counts[i]\n",
    "    tmp = vectorized_words[index_start:offset,:]\n",
    "    yearly_word_freq = tmp.sum(axis=0).reshape(-1,).tolist()[0]\n",
    "    \n",
    "    word_index_with_freq = {index:freq for index,freq in enumerate(yearly_word_freq)}\n",
    "    word_with_freq = {rev_vocab[index]:np.log(freq + 1) for index, freq in word_index_with_freq.items()}\n",
    "    sorted_word_with_freq = sorted(word_with_freq.items(), key=operator.itemgetter(1), reverse=True)\n",
    "    top_words = [word for (word,freq) in sorted_word_with_freq[:N]]\n",
    "    yearly_top_words.append(top_words)"
   ]
  },
  {
   "cell_type": "code",
   "execution_count": null,
   "metadata": {},
   "outputs": [],
   "source": [
    "years = list(range(1901, 2017))\n",
    "overlapping_word_counts = []\n",
    "\n",
    "for i in range(1, len(row_counts)):\n",
    "    \n",
    "    overlap_count = len([word for word in yearly_top_words[i] if word in yearly_top_words[i-1]])\n",
    "    overlapping_word_counts.append(overlap_count)"
   ]
  },
  {
   "cell_type": "markdown",
   "metadata": {},
   "source": [
    "__How many top words are overlapping with the words from adjacent year__"
   ]
  },
  {
   "cell_type": "code",
   "execution_count": null,
   "metadata": {},
   "outputs": [],
   "source": [
    "datatoplot = [go.Line(\n",
    "            x=years,\n",
    "            y=overlapping_word_counts\n",
    "    )]\n",
    "\n",
    "\n",
    "\n",
    "layout = go.Layout(\n",
    "    title='Overlap',\n",
    "    \n",
    "    xaxis=dict(\n",
    "        title='Word',\n",
    "        titlefont=dict(\n",
    "            family='Lato',\n",
    "            color='#7f7f7f'\n",
    "        )\n",
    "    ),\n",
    "    yaxis=dict(\n",
    "        title='Overlap Count',\n",
    "        titlefont=dict(\n",
    "            family='Lato',\n",
    "            color='#7f7f7f'\n",
    "        ),\n",
    "        range=[0, 5000]\n",
    "    )\n",
    ")\n",
    "\n",
    "fig = go.Figure(data=datatoplot, layout=layout)\n",
    "py.iplot(fig, filename='freq')"
   ]
  },
  {
   "cell_type": "code",
   "execution_count": null,
   "metadata": {},
   "outputs": [],
   "source": []
  }
 ],
 "metadata": {
  "kernelspec": {
   "display_name": "Python 3",
   "language": "python",
   "name": "python3"
  },
  "language_info": {
   "codemirror_mode": {
    "name": "ipython",
    "version": 3
   },
   "file_extension": ".py",
   "mimetype": "text/x-python",
   "name": "python",
   "nbconvert_exporter": "python",
   "pygments_lexer": "ipython3",
   "version": "3.6.7"
  }
 },
 "nbformat": 4,
 "nbformat_minor": 2
}
