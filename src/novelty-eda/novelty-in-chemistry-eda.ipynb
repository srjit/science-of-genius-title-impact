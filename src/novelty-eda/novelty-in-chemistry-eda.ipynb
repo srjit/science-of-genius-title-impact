{
 "cells": [
  {
   "cell_type": "code",
   "execution_count": 1,
   "metadata": {},
   "outputs": [],
   "source": [
    "%load_ext autoreload\n",
    "%autoreload 2\n",
    "%matplotlib inline"
   ]
  },
  {
   "cell_type": "code",
   "execution_count": 2,
   "metadata": {},
   "outputs": [],
   "source": [
    "import sys\n",
    "sys.path.insert(0, \"../../code-previous\")"
   ]
  },
  {
   "cell_type": "code",
   "execution_count": 3,
   "metadata": {},
   "outputs": [
    {
     "name": "stderr",
     "output_type": "stream",
     "text": [
      "/usr/lib/python3.6/importlib/_bootstrap.py:219: RuntimeWarning: numpy.dtype size changed, may indicate binary incompatibility. Expected 96, got 88\n",
      "  return f(*args, **kwds)\n"
     ]
    }
   ],
   "source": [
    "import pandas as pd\n",
    "import numpy as np\n",
    "import networkx as nx\n",
    "import sklearn.feature_extraction as skfeatures\n",
    "import time\n",
    "import os\n",
    "\n",
    "import nltk\n",
    "stopwords = nltk.corpus.stopwords.words('english')\n",
    "\n",
    "\n",
    "from unicodedata import category\n",
    "from tqdm import tqdm\n",
    "tqdm.pandas(desc=\"Progress\")\n",
    "\n",
    "import seaborn as sns\n",
    "sns.set_style('white')\n",
    "import matplotlib.pylab as plt"
   ]
  },
  {
   "cell_type": "code",
   "execution_count": 4,
   "metadata": {},
   "outputs": [],
   "source": [
    "data_path = \"/mnt/disks/vault/analysis-data/interdisciplinary-novelty-analysis/articles.pql\"\n",
    "article_df = pd.read_pickle(data_path)"
   ]
  },
  {
   "cell_type": "code",
   "execution_count": 5,
   "metadata": {},
   "outputs": [],
   "source": [
    "data_path = \"/mnt/disks/vault/analysis-data/interdisciplinary-novelty-analysis/chemistry.pql\"\n",
    "data = None\n",
    "che_categories = pd.read_pickle(data_path)"
   ]
  },
  {
   "cell_type": "code",
   "execution_count": 6,
   "metadata": {},
   "outputs": [],
   "source": [
    "data = None\n",
    "data = che_categories.merge(article_df, \n",
    "                            how = 'inner',\n",
    "                            on = 'ArticleID')"
   ]
  },
  {
   "cell_type": "code",
   "execution_count": 8,
   "metadata": {},
   "outputs": [
    {
     "name": "stderr",
     "output_type": "stream",
     "text": [
      "Progress: 100%|██████████| 5285784/5285784 [01:51<00:00, 47259.48it/s]\n",
      "Progress: 100%|██████████| 5285784/5285784 [02:19<00:00, 37794.87it/s]\n"
     ]
    }
   ],
   "source": [
    "data['title_without_punct'] = data['Title'].progress_apply(lambda x: \n",
    "                                                           str.lower(''.join(ch for ch in str(x) if category(ch)[0] != 'P')))\n",
    "data[\"title_without_stopwords\"] = data['title_without_punct'].progress_apply(lambda x: [word for word in x.split() if word not in stopwords])"
   ]
  },
  {
   "cell_type": "code",
   "execution_count": 9,
   "metadata": {},
   "outputs": [
    {
     "data": {
      "text/plain": [
       "5285784"
      ]
     },
     "execution_count": 9,
     "metadata": {},
     "output_type": "execute_result"
    }
   ],
   "source": [
    "len(data)"
   ]
  },
  {
   "cell_type": "code",
   "execution_count": 10,
   "metadata": {},
   "outputs": [
    {
     "data": {
      "text/plain": [
       "array(['Chemistry, Applied', 'Chemistry, Organic',\n",
       "       'Chemistry, Multidisciplinary', 'Chemistry, Physical',\n",
       "       'Chemistry, Inorganic & Nuclear', 'Chemistry, Medicinal',\n",
       "       'Chemistry, Analytical'], dtype=object)"
      ]
     },
     "execution_count": 10,
     "metadata": {},
     "output_type": "execute_result"
    }
   ],
   "source": [
    "data.Label.unique()"
   ]
  },
  {
   "cell_type": "code",
   "execution_count": 11,
   "metadata": {},
   "outputs": [
    {
     "data": {
      "text/plain": [
       "Label\n",
       "Chemistry, Analytical              586860\n",
       "Chemistry, Applied                 349407\n",
       "Chemistry, Inorganic & Nuclear     429712\n",
       "Chemistry, Medicinal               296573\n",
       "Chemistry, Multidisciplinary      1625520\n",
       "Chemistry, Organic                 716608\n",
       "Chemistry, Physical               1281104\n",
       "dtype: int64"
      ]
     },
     "execution_count": 11,
     "metadata": {},
     "output_type": "execute_result"
    }
   ],
   "source": [
    "data.groupby('Label').size()"
   ]
  },
  {
   "cell_type": "code",
   "execution_count": 12,
   "metadata": {},
   "outputs": [
    {
     "data": {
      "text/html": [
       "<div>\n",
       "<style scoped>\n",
       "    .dataframe tbody tr th:only-of-type {\n",
       "        vertical-align: middle;\n",
       "    }\n",
       "\n",
       "    .dataframe tbody tr th {\n",
       "        vertical-align: top;\n",
       "    }\n",
       "\n",
       "    .dataframe thead th {\n",
       "        text-align: right;\n",
       "    }\n",
       "</style>\n",
       "<table border=\"1\" class=\"dataframe\">\n",
       "  <thead>\n",
       "    <tr style=\"text-align: right;\">\n",
       "      <th></th>\n",
       "      <th>ArticleID</th>\n",
       "      <th>Type</th>\n",
       "      <th>Label</th>\n",
       "      <th>PubYear</th>\n",
       "      <th>Doctypes</th>\n",
       "      <th>Title</th>\n",
       "      <th>Journal</th>\n",
       "      <th>Journal Abbreviation ISO</th>\n",
       "      <th>title_without_punct</th>\n",
       "      <th>title_without_stopwords</th>\n",
       "    </tr>\n",
       "  </thead>\n",
       "  <tbody>\n",
       "    <tr>\n",
       "      <th>0</th>\n",
       "      <td>A1981LJ47400021</td>\n",
       "      <td>ASCA traditional subject</td>\n",
       "      <td>Chemistry, Applied</td>\n",
       "      <td>1981</td>\n",
       "      <td>Article</td>\n",
       "      <td>PROCESSING AND UTILIZATION OF BY-PRODUCTS FROM...</td>\n",
       "      <td>JOURNAL OF THE AMERICAN OIL CHEMISTS SOCIETY</td>\n",
       "      <td>J. Am. Oil Chem. Soc.</td>\n",
       "      <td>processing and utilization of byproducts from ...</td>\n",
       "      <td>[processing, utilization, byproducts, soy, oil...</td>\n",
       "    </tr>\n",
       "    <tr>\n",
       "      <th>1</th>\n",
       "      <td>A1981LC78900005</td>\n",
       "      <td>ASCA traditional subject</td>\n",
       "      <td>Chemistry, Applied</td>\n",
       "      <td>1981</td>\n",
       "      <td>Article</td>\n",
       "      <td>COMPARATIVE METABOLISM OF ZEARALENONE AND TRAN...</td>\n",
       "      <td>FOOD AND COSMETICS TOXICOLOGY</td>\n",
       "      <td></td>\n",
       "      <td>comparative metabolism of zearalenone and tran...</td>\n",
       "      <td>[comparative, metabolism, zearalenone, transmi...</td>\n",
       "    </tr>\n",
       "    <tr>\n",
       "      <th>2</th>\n",
       "      <td>A1981NZ41100025</td>\n",
       "      <td>ASCA traditional subject</td>\n",
       "      <td>Chemistry, Applied</td>\n",
       "      <td>1981</td>\n",
       "      <td>Note</td>\n",
       "      <td>DEVELOPMENT OF A MATHEMATICAL-MODEL AND DETERM...</td>\n",
       "      <td>JOURNAL OF APPLIED CHEMISTRY OF THE USSR</td>\n",
       "      <td></td>\n",
       "      <td>development of a mathematicalmodel and determi...</td>\n",
       "      <td>[development, mathematicalmodel, determination...</td>\n",
       "    </tr>\n",
       "    <tr>\n",
       "      <th>3</th>\n",
       "      <td>A1981KY62300009</td>\n",
       "      <td>ASCA traditional subject</td>\n",
       "      <td>Chemistry, Applied</td>\n",
       "      <td>1981</td>\n",
       "      <td>Article</td>\n",
       "      <td>CATALYZING THE ENERGY-BALANCE OF CAT CRACKING</td>\n",
       "      <td>CHEMTECH</td>\n",
       "      <td>Chemtech</td>\n",
       "      <td>catalyzing the energybalance of cat cracking</td>\n",
       "      <td>[catalyzing, energybalance, cat, cracking]</td>\n",
       "    </tr>\n",
       "    <tr>\n",
       "      <th>4</th>\n",
       "      <td>A1981MT10600006</td>\n",
       "      <td>ASCA traditional subject</td>\n",
       "      <td>Chemistry, Applied</td>\n",
       "      <td>1981</td>\n",
       "      <td>Note</td>\n",
       "      <td>THE NON-SELECTIVE ESTERIFICATION OF SECONDARY ...</td>\n",
       "      <td>CHEMISTRY &amp; INDUSTRY</td>\n",
       "      <td>Chem. Ind.</td>\n",
       "      <td>the nonselective esterification of secondary a...</td>\n",
       "      <td>[nonselective, esterification, secondary, alco...</td>\n",
       "    </tr>\n",
       "  </tbody>\n",
       "</table>\n",
       "</div>"
      ],
      "text/plain": [
       "         ArticleID                      Type               Label  PubYear  \\\n",
       "0  A1981LJ47400021  ASCA traditional subject  Chemistry, Applied     1981   \n",
       "1  A1981LC78900005  ASCA traditional subject  Chemistry, Applied     1981   \n",
       "2  A1981NZ41100025  ASCA traditional subject  Chemistry, Applied     1981   \n",
       "3  A1981KY62300009  ASCA traditional subject  Chemistry, Applied     1981   \n",
       "4  A1981MT10600006  ASCA traditional subject  Chemistry, Applied     1981   \n",
       "\n",
       "  Doctypes                                              Title  \\\n",
       "0  Article  PROCESSING AND UTILIZATION OF BY-PRODUCTS FROM...   \n",
       "1  Article  COMPARATIVE METABOLISM OF ZEARALENONE AND TRAN...   \n",
       "2     Note  DEVELOPMENT OF A MATHEMATICAL-MODEL AND DETERM...   \n",
       "3  Article      CATALYZING THE ENERGY-BALANCE OF CAT CRACKING   \n",
       "4     Note  THE NON-SELECTIVE ESTERIFICATION OF SECONDARY ...   \n",
       "\n",
       "                                        Journal Journal Abbreviation ISO  \\\n",
       "0  JOURNAL OF THE AMERICAN OIL CHEMISTS SOCIETY    J. Am. Oil Chem. Soc.   \n",
       "1                 FOOD AND COSMETICS TOXICOLOGY                            \n",
       "2      JOURNAL OF APPLIED CHEMISTRY OF THE USSR                            \n",
       "3                                      CHEMTECH                 Chemtech   \n",
       "4                          CHEMISTRY & INDUSTRY               Chem. Ind.   \n",
       "\n",
       "                                 title_without_punct  \\\n",
       "0  processing and utilization of byproducts from ...   \n",
       "1  comparative metabolism of zearalenone and tran...   \n",
       "2  development of a mathematicalmodel and determi...   \n",
       "3       catalyzing the energybalance of cat cracking   \n",
       "4  the nonselective esterification of secondary a...   \n",
       "\n",
       "                             title_without_stopwords  \n",
       "0  [processing, utilization, byproducts, soy, oil...  \n",
       "1  [comparative, metabolism, zearalenone, transmi...  \n",
       "2  [development, mathematicalmodel, determination...  \n",
       "3         [catalyzing, energybalance, cat, cracking]  \n",
       "4  [nonselective, esterification, secondary, alco...  "
      ]
     },
     "execution_count": 12,
     "metadata": {},
     "output_type": "execute_result"
    }
   ],
   "source": [
    "data.head()"
   ]
  },
  {
   "cell_type": "code",
   "execution_count": null,
   "metadata": {},
   "outputs": [],
   "source": [
    "data_grouped_by_year = data.groupby('PubYear').agg({'title_without_stopwords': 'sum'}).reset_index()"
   ]
  },
  {
   "cell_type": "code",
   "execution_count": null,
   "metadata": {},
   "outputs": [],
   "source": [
    "data_grouped_by_year.to_pickle(\"/mnt/disks/vault/analysis-data/interdisciplinary-novelty-analysis/title-words-grouped-by-year.pql\")"
   ]
  },
  {
   "cell_type": "code",
   "execution_count": null,
   "metadata": {},
   "outputs": [],
   "source": []
  }
 ],
 "metadata": {
  "kernelspec": {
   "display_name": "Python 3",
   "language": "python",
   "name": "python3"
  },
  "language_info": {
   "codemirror_mode": {
    "name": "ipython",
    "version": 3
   },
   "file_extension": ".py",
   "mimetype": "text/x-python",
   "name": "python",
   "nbconvert_exporter": "python",
   "pygments_lexer": "ipython3",
   "version": "3.6.7"
  }
 },
 "nbformat": 4,
 "nbformat_minor": 2
}
