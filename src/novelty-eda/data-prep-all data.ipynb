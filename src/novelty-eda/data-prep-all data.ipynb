{
 "cells": [
  {
   "cell_type": "code",
   "execution_count": 1,
   "metadata": {},
   "outputs": [],
   "source": [
    "%load_ext autoreload\n",
    "%autoreload 2\n",
    "%matplotlib inline"
   ]
  },
  {
   "cell_type": "code",
   "execution_count": 2,
   "metadata": {},
   "outputs": [],
   "source": [
    "import sys\n",
    "sys.path.insert(0, \"../../code-previous\")"
   ]
  },
  {
   "cell_type": "code",
   "execution_count": 3,
   "metadata": {},
   "outputs": [
    {
     "name": "stderr",
     "output_type": "stream",
     "text": [
      "/usr/lib/python3.6/importlib/_bootstrap.py:219: RuntimeWarning: numpy.dtype size changed, may indicate binary incompatibility. Expected 96, got 88\n",
      "  return f(*args, **kwds)\n"
     ]
    }
   ],
   "source": [
    "import pandas as pd\n",
    "import numpy as np\n",
    "import networkx as nx\n",
    "import sklearn.feature_extraction as skfeatures\n",
    "import time\n",
    "import os\n",
    "\n",
    "import operator\n",
    "\n",
    "import string\n",
    "import swifter\n",
    "import nltk\n",
    "stopwords = nltk.corpus.stopwords.words('english')\n",
    "\n",
    "\n",
    "import plotly\n",
    "import plotly.plotly as py\n",
    "import plotly.graph_objs as go\n",
    "plotly.tools.set_credentials_file(username='sreejith_s', api_key='rcet0rTqFCc3WeOzWTjv')\n",
    "\n",
    "\n",
    "\n",
    "from sklearn.feature_extraction.text import CountVectorizer\n",
    "\n",
    "\n",
    "from unicodedata import category\n",
    "from tqdm import tqdm\n",
    "tqdm.pandas(desc=\"Progress\")\n",
    "\n",
    "import seaborn as sns\n",
    "sns.set_style('white')\n",
    "import matplotlib.pylab as plt"
   ]
  },
  {
   "cell_type": "code",
   "execution_count": 4,
   "metadata": {},
   "outputs": [],
   "source": [
    "data_path = \"/mnt/disks/vault/analysis-data/interdisciplinary-novelty-analysis/articles.pql\"\n",
    "article_df = pd.read_pickle(data_path)"
   ]
  },
  {
   "cell_type": "code",
   "execution_count": 8,
   "metadata": {},
   "outputs": [
    {
     "name": "stderr",
     "output_type": "stream",
     "text": [
      "Pandas Apply: 100%|██████████| 39171585/39171585 [27:43<00:00, 23547.87it/s]\n"
     ]
    }
   ],
   "source": [
    "# lower().translate(translator)\n",
    "\n",
    "translator = str.maketrans(string.punctuation, ' '*len(string.punctuation))\n",
    "article_df[\"title_without_stopwords\"] = article_df['Title'].swifter.apply(lambda x: \" \".join([word.lower().translate(translator) for word in x.split()\n",
    "                                                                                                if word not in stopwords and not word.isdigit() and len(word.lower().translate(translator)) >= 4]))"
   ]
  },
  {
   "cell_type": "code",
   "execution_count": 9,
   "metadata": {},
   "outputs": [
    {
     "data": {
      "text/html": [
       "<div>\n",
       "<style scoped>\n",
       "    .dataframe tbody tr th:only-of-type {\n",
       "        vertical-align: middle;\n",
       "    }\n",
       "\n",
       "    .dataframe tbody tr th {\n",
       "        vertical-align: top;\n",
       "    }\n",
       "\n",
       "    .dataframe thead th {\n",
       "        text-align: right;\n",
       "    }\n",
       "</style>\n",
       "<table border=\"1\" class=\"dataframe\">\n",
       "  <thead>\n",
       "    <tr style=\"text-align: right;\">\n",
       "      <th></th>\n",
       "      <th>ArticleID</th>\n",
       "      <th>PubYear</th>\n",
       "      <th>Doctypes</th>\n",
       "      <th>Title</th>\n",
       "      <th>Journal</th>\n",
       "      <th>Journal Abbreviation ISO</th>\n",
       "      <th>title_without_stopwords</th>\n",
       "    </tr>\n",
       "  </thead>\n",
       "  <tbody>\n",
       "    <tr>\n",
       "      <th>84871</th>\n",
       "      <td>A1981LC59600003</td>\n",
       "      <td>1981</td>\n",
       "      <td>Article</td>\n",
       "      <td>SPORADIC LEGIONELLOSIS IN THE UNITED-STATES - ...</td>\n",
       "      <td>ANNALS OF INTERNAL MEDICINE</td>\n",
       "      <td>Ann. Intern. Med.</td>\n",
       "      <td>sporadic legionellosis united states thousand ...</td>\n",
       "    </tr>\n",
       "    <tr>\n",
       "      <th>37725</th>\n",
       "      <td>A1981LC51800016</td>\n",
       "      <td>1981</td>\n",
       "      <td>Article</td>\n",
       "      <td>REACTION OF LEAD PERCHLORATE WITH AMMONIUM HYD...</td>\n",
       "      <td>ZHURNAL NEORGANICHESKOI KHIMII</td>\n",
       "      <td>Zhurnal Neorg. Khimii</td>\n",
       "      <td>reaction lead perchlorate with ammonium hydrop...</td>\n",
       "    </tr>\n",
       "    <tr>\n",
       "      <th>37729</th>\n",
       "      <td>A1981MP52000011</td>\n",
       "      <td>1981</td>\n",
       "      <td>Article</td>\n",
       "      <td>ELECTRICAL PACING FOR SHORT BOWEL SYNDROME</td>\n",
       "      <td>SURGERY GYNECOLOGY &amp; OBSTETRICS</td>\n",
       "      <td>Surg. Gynecol. Obstet.</td>\n",
       "      <td>electrical pacing short bowel syndrome</td>\n",
       "    </tr>\n",
       "    <tr>\n",
       "      <th>37730</th>\n",
       "      <td>A1981LZ55900001</td>\n",
       "      <td>1981</td>\n",
       "      <td>Review</td>\n",
       "      <td>STABILITY TESTING OF SOLID DRUGS USING PREFERE...</td>\n",
       "      <td>PHARMAZIE</td>\n",
       "      <td>Pharmazie</td>\n",
       "      <td>stability testing solid drugs using preferenti...</td>\n",
       "    </tr>\n",
       "    <tr>\n",
       "      <th>37732</th>\n",
       "      <td>A1981ME20500010</td>\n",
       "      <td>1981</td>\n",
       "      <td>Article</td>\n",
       "      <td>ON THE DETERMINATION OF THE 1ST NORMAL STRESS ...</td>\n",
       "      <td>PLASTE UND KAUTSCHUK</td>\n",
       "      <td></td>\n",
       "      <td>determination normal stress difference using s...</td>\n",
       "    </tr>\n",
       "  </tbody>\n",
       "</table>\n",
       "</div>"
      ],
      "text/plain": [
       "             ArticleID  PubYear Doctypes  \\\n",
       "84871  A1981LC59600003     1981  Article   \n",
       "37725  A1981LC51800016     1981  Article   \n",
       "37729  A1981MP52000011     1981  Article   \n",
       "37730  A1981LZ55900001     1981   Review   \n",
       "37732  A1981ME20500010     1981  Article   \n",
       "\n",
       "                                                   Title  \\\n",
       "84871  SPORADIC LEGIONELLOSIS IN THE UNITED-STATES - ...   \n",
       "37725  REACTION OF LEAD PERCHLORATE WITH AMMONIUM HYD...   \n",
       "37729         ELECTRICAL PACING FOR SHORT BOWEL SYNDROME   \n",
       "37730  STABILITY TESTING OF SOLID DRUGS USING PREFERE...   \n",
       "37732  ON THE DETERMINATION OF THE 1ST NORMAL STRESS ...   \n",
       "\n",
       "                               Journal Journal Abbreviation ISO  \\\n",
       "84871      ANNALS OF INTERNAL MEDICINE        Ann. Intern. Med.   \n",
       "37725   ZHURNAL NEORGANICHESKOI KHIMII    Zhurnal Neorg. Khimii   \n",
       "37729  SURGERY GYNECOLOGY & OBSTETRICS   Surg. Gynecol. Obstet.   \n",
       "37730                        PHARMAZIE                Pharmazie   \n",
       "37732             PLASTE UND KAUTSCHUK                            \n",
       "\n",
       "                                 title_without_stopwords  \n",
       "84871  sporadic legionellosis united states thousand ...  \n",
       "37725  reaction lead perchlorate with ammonium hydrop...  \n",
       "37729             electrical pacing short bowel syndrome  \n",
       "37730  stability testing solid drugs using preferenti...  \n",
       "37732  determination normal stress difference using s...  "
      ]
     },
     "execution_count": 9,
     "metadata": {},
     "output_type": "execute_result"
    }
   ],
   "source": [
    "article_df.head()"
   ]
  },
  {
   "cell_type": "code",
   "execution_count": 11,
   "metadata": {},
   "outputs": [],
   "source": [
    "data_path = \"/mnt/disks/vault/analysis-data/interdisciplinary-novelty-analysis/all_categories.pql\"\n",
    "data = None\n",
    "categories = pd.read_pickle(data_path)"
   ]
  },
  {
   "cell_type": "code",
   "execution_count": 12,
   "metadata": {},
   "outputs": [],
   "source": [
    "data = None\n",
    "data = categories.merge(article_df, \n",
    "                        how = 'inner',\n",
    "                        on = 'ArticleID')"
   ]
  },
  {
   "cell_type": "code",
   "execution_count": 13,
   "metadata": {},
   "outputs": [],
   "source": [
    "data.to_pickle(\"/mnt/disks/vault/analysis-data/interdisciplinary-novelty-analysis/all_discipline_data.pql\")"
   ]
  },
  {
   "cell_type": "markdown",
   "metadata": {},
   "source": [
    "__Every discipline is a document__"
   ]
  },
  {
   "cell_type": "code",
   "execution_count": null,
   "metadata": {},
   "outputs": [],
   "source": [
    "data = data.sort_values(by=[\"Label\",\"PubYear\"])\n",
    "vectorizer = CountVectorizer()\n",
    "vectorized_words = vectorizer.fit_transform(data.title_without_stopwords)"
   ]
  },
  {
   "cell_type": "code",
   "execution_count": null,
   "metadata": {},
   "outputs": [],
   "source": [
    "import pickle\n",
    "\n",
    "pickle_out = open(\"/mnt/disks/vault/analysis-data/interdisciplinary-novelty-analysis/vectorized.pickle\",\"wb\")\n",
    "pickle.dump(vectorized_words, pickle_out)\n",
    "pickle_out.close()"
   ]
  },
  {
   "cell_type": "code",
   "execution_count": null,
   "metadata": {},
   "outputs": [],
   "source": [
    "physics_labels = ['Physics, Applied',\n",
    "                  'Physics, Fluids & Plasmas',\n",
    "                  'Physics, Atomic, Molecular & Chemical',\n",
    "                  'Physics, Multidisciplinary',\n",
    "                  'Physics, Condensed Matter',\n",
    "                  'Physics, Nuclear',\n",
    "                  'Physics, Particles & Fields',\n",
    "                  'Physics, Mathematical']"
   ]
  },
  {
   "cell_type": "code",
   "execution_count": null,
   "metadata": {},
   "outputs": [],
   "source": [
    "physics_data = data[data.Label in physics_labels]"
   ]
  },
  {
   "cell_type": "code",
   "execution_count": null,
   "metadata": {},
   "outputs": [],
   "source": []
  }
 ],
 "metadata": {
  "kernelspec": {
   "display_name": "Python 3",
   "language": "python",
   "name": "python3"
  },
  "language_info": {
   "codemirror_mode": {
    "name": "ipython",
    "version": 3
   },
   "file_extension": ".py",
   "mimetype": "text/x-python",
   "name": "python",
   "nbconvert_exporter": "python",
   "pygments_lexer": "ipython3",
   "version": "3.6.7"
  }
 },
 "nbformat": 4,
 "nbformat_minor": 2
}
