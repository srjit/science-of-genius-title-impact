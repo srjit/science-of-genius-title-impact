{
 "cells": [
  {
   "cell_type": "code",
   "execution_count": 1,
   "metadata": {},
   "outputs": [],
   "source": [
    "import warnings\n",
    "warnings.filterwarnings('ignore')"
   ]
  },
  {
   "cell_type": "code",
   "execution_count": 2,
   "metadata": {},
   "outputs": [],
   "source": [
    "%load_ext autoreload\n",
    "%autoreload 2\n",
    "%matplotlib inline"
   ]
  },
  {
   "cell_type": "code",
   "execution_count": 3,
   "metadata": {},
   "outputs": [],
   "source": [
    "import pandas as pd\n",
    "import numpy as np\n",
    "import operator\n",
    "\n",
    "import peakutils\n",
    "\n",
    "import string\n",
    "import nltk\n",
    "stopwords = nltk.corpus.stopwords.words('english')\n",
    "\n",
    "import operator\n",
    "from collections import Counter\n",
    "\n",
    "import scipy.stats\n",
    "from scipy.optimize import curve_fit\n",
    "from scipy.misc import factorial\n",
    "\n",
    "import pickle\n",
    "from sklearn.feature_extraction.text import CountVectorizer\n",
    "\n",
    "from statsmodels.discrete.discrete_model import NegativeBinomial, Poisson, Logit\n",
    "from scipy.stats import binom, nbinom\n",
    "\n",
    "import plotly\n",
    "import plotly.plotly as py\n",
    "from plotly import tools\n",
    "\n",
    "import plotly.graph_objs as go\n",
    "plotly.tools.set_credentials_file(username='sreejith_s', api_key='rcet0rTqFCc3WeOzWTjv')\n",
    "\n",
    "from unicodedata import category\n",
    "from tqdm import tqdm\n",
    "tqdm.pandas(desc=\"Progress\")\n",
    "\n",
    "import seaborn as sns\n",
    "sns.set_style('white')\n",
    "import matplotlib.pylab as plt"
   ]
  },
  {
   "cell_type": "code",
   "execution_count": 4,
   "metadata": {},
   "outputs": [
    {
     "name": "stderr",
     "output_type": "stream",
     "text": [
      "Progress: 100%|██████████| 117/117 [00:00<00:00, 19233.14it/s]\n",
      "Progress: 100%|██████████| 117/117 [00:02<00:00, 50.36it/s]\n"
     ]
    }
   ],
   "source": [
    "filename = \"/mnt/disks/vault/analysis-data/interdisciplinary-novelty-analysis/corrected-entropy-analysis/word-journey-data.pql\"\n",
    "data_grouped_by_year_label = pd.read_pickle(filename)\n",
    "\n",
    "discipline = \"Biochemistry & Molecular Biology\"\n",
    "input_ = data_grouped_by_year_label[data_grouped_by_year_label.Label == discipline]\n",
    "data_grouped_by_year_label = None\n",
    "\n",
    "vectorizer = CountVectorizer()\n",
    "vectorized_words = vectorizer.fit_transform(input_.title_words)\n",
    "\n",
    "vectorized_wordarray = vectorized_words.toarray()\n",
    "document_frequency = (vectorized_wordarray != 0).sum(0).tolist()\n",
    "document_frequency_log =  [np.log(x) for x in document_frequency]\n",
    "\n",
    "#2. Term Frequency - Number of times in which a word appears in a document\n",
    "term_frequency = vectorized_words.sum(axis=0).reshape(-1,).tolist()[0]\n",
    "term_frequency_log = [np.log(x) for x in term_frequency]\n",
    "\n",
    "input_[\"number_of_pubs\"] = input_[\"title_without_stopwords\"].progress_apply(lambda x: len(x))\n",
    "input_[\"word_count\"] = input_[\"title_words\"].progress_apply(lambda x: len(x.split()))"
   ]
  },
  {
   "cell_type": "code",
   "execution_count": 5,
   "metadata": {},
   "outputs": [
    {
     "name": "stderr",
     "output_type": "stream",
     "text": [
      "100%|██████████| 116/116 [00:07<00:00,  6.51it/s]\n"
     ]
    }
   ],
   "source": [
    "count_matrix = vectorized_words.toarray()\n",
    "\n",
    "uniques = []\n",
    "counts = []\n",
    "yearly_word_frequency_variations = []\n",
    "avg_variations_for_freq = []\n",
    "\n",
    "for i in range(count_matrix.shape[0]):\n",
    "    unique_, counts_tmp = np.unique(count_matrix[i:i+1,:], return_counts=True)    \n",
    "    counts_ = list(map(np.log, counts_tmp))\n",
    "    uniques.append(unique_)\n",
    "    counts.append(counts_)\n",
    "    \n",
    "for index in tqdm(range(vectorized_wordarray.shape[0] - 1)):\n",
    "    \n",
    "    # take two consecutive years\n",
    "    tmp_ = vectorized_wordarray[index:index+2]\n",
    "    \n",
    "    #unique counts for the first year\n",
    "    unique_counts = np.unique(tmp_[0]) \n",
    "    \n",
    "    yearly_avg_variations_for_freq = {}\n",
    "    word_freq_variations = []\n",
    "    \n",
    "    word_freq_variations.append(tmp_[1] - tmp_[0])\n",
    "    \n",
    "    yearly_word_frequency_variations.append(word_freq_variations)\n",
    "    \n",
    "    for uniq in unique_counts:\n",
    "        # find the indices where the value == uniq\n",
    "        indices, = np.where(tmp_[0] == uniq)\n",
    "        \n",
    "        # find the values in the next year where those indices are\n",
    "        # variations of words with that `uniq` count\n",
    "        transition_values = tmp_[1][indices]\n",
    "        variations = transition_values - uniq\n",
    "        \n",
    "        # mean variation of words with that `uniq` count\n",
    "        mean_variation = np.mean(variations)\n",
    "        \n",
    "        # make a list of mean variations\n",
    "        yearly_avg_variations_for_freq[uniq] = round(mean_variation, 3)\n",
    "    \n",
    "    avg_variations_for_freq.append(yearly_avg_variations_for_freq)"
   ]
  },
  {
   "cell_type": "code",
   "execution_count": 6,
   "metadata": {},
   "outputs": [
    {
     "data": {
      "text/plain": [
       "{0: 0.003,\n",
       " 1: -0.573,\n",
       " 2: -1.09,\n",
       " 3: -1.145,\n",
       " 4: -1.426,\n",
       " 5: -0.787,\n",
       " 6: -1.281,\n",
       " 7: 0.85,\n",
       " 8: -2.917,\n",
       " 9: -1.4,\n",
       " 10: -4.25,\n",
       " 11: -5.333,\n",
       " 12: -4.1,\n",
       " 13: -4.5,\n",
       " 14: -7.0,\n",
       " 15: -1.0,\n",
       " 16: -3.0,\n",
       " 17: -4.4,\n",
       " 18: -5.0,\n",
       " 19: -3.0,\n",
       " 21: 5.0,\n",
       " 22: -5.5,\n",
       " 23: -9.0,\n",
       " 24: -9.0,\n",
       " 25: -2.0,\n",
       " 26: -5.0,\n",
       " 27: -10.0,\n",
       " 28: 0.0,\n",
       " 30: -2.0,\n",
       " 33: -2.0,\n",
       " 36: -17.0,\n",
       " 37: -13.0,\n",
       " 42: -25.0,\n",
       " 48: -18.0,\n",
       " 49: -11.0,\n",
       " 51: 3.0,\n",
       " 74: -16.0,\n",
       " 87: -2.0}"
      ]
     },
     "execution_count": 6,
     "metadata": {},
     "output_type": "execute_result"
    }
   ],
   "source": [
    "avg_variations_for_freq[10]"
   ]
  },
  {
   "cell_type": "code",
   "execution_count": 7,
   "metadata": {},
   "outputs": [],
   "source": [
    "def poisson(k, lamb):\n",
    "    return (lamb**k/factorial(k)) * np.exp(-lamb)"
   ]
  },
  {
   "cell_type": "markdown",
   "metadata": {},
   "source": [
    "__Year: 2010__ - _Poisson and Negative Binomial_"
   ]
  },
  {
   "cell_type": "code",
   "execution_count": 8,
   "metadata": {},
   "outputs": [],
   "source": [
    "def get_word_variations(N, K):\n",
    "    \n",
    "    freq_current = list(vectorized_wordarray[N:N+1,:][0])\n",
    "    freq_next = list(vectorized_wordarray[N+1:N+2,:][0])\n",
    "    indices = [i for i, x in enumerate(freq_current) if x == K]\n",
    "    change_in_values = [freq_next[i] for i in indices]\n",
    "    variations = [j - K for j in change_in_values]\n",
    "    sum_ = sum(dict(Counter(variations)).values())\n",
    "    X = [x + K for x,y in dict(Counter(variations)).items()]\n",
    "    Y = [float(y)/sum_ for x,y in dict(Counter(variations)).items()]  \n",
    "    \n",
    "    return change_in_values, X, Y"
   ]
  },
  {
   "cell_type": "code",
   "execution_count": 9,
   "metadata": {},
   "outputs": [],
   "source": [
    "def get_poisson_pmf(change_in_values, X):\n",
    "    \n",
    "    poissonModel = Poisson(change_in_values,np.ones_like(change_in_values))\n",
    "    poissonRes = poissonModel.fit()\n",
    "    poissonModel.loglike(poissonRes.params)\n",
    "\n",
    "    lambda_ = np.exp(poissonRes.params[0])\n",
    "    Y_poiss = list(map(lambda x: poisson(x, lambda_), X))\n",
    "    return Y_poiss"
   ]
  },
  {
   "cell_type": "code",
   "execution_count": 19,
   "metadata": {},
   "outputs": [],
   "source": [
    "def get_negative_binomial_fit(change_in_values, X):\n",
    "    \n",
    "    loglike_method = 'nb2'  # or use 'nb2'\n",
    "    model = NegativeBinomial(change_in_values, np.ones_like(change_in_values))\n",
    "    binomial_result = model.fit()\n",
    "    mu = np.exp(binomial_result.params[0])   \n",
    "    alpha = binomial_result.params[1]\n",
    "\n",
    "    if loglike_method == 'nb1':\n",
    "        Q = 1\n",
    "    elif loglike_method == 'nb2':    \n",
    "        Q = 0\n",
    "    size = 1. / alpha * mu**Q\n",
    "    prob = size / (size + mu)\n",
    "    dist_est = nbinom(size, prob)\n",
    "    \n",
    "    print(size)\n",
    "    print(prob)\n",
    "    \n",
    "    return dist_est, [dist_est.pmf(k) for k in sorted(X)]    "
   ]
  },
  {
   "cell_type": "code",
   "execution_count": 11,
   "metadata": {},
   "outputs": [],
   "source": [
    "def plot(X_,Y_, ax=None, title=\"\", xlabel=\"\", ylabel=\"\", dist=None, **kwargs):\n",
    "\n",
    "    ax = ax or plt.gca()\n",
    "    ax.set_title(title)\n",
    "    ax.set_xlabel(xlabel)\n",
    "    ax.set_ylabel(ylabel)\n",
    "    \n",
    "#     maxidx = np.where(Y_ == np.max(Y_)\n",
    "#     ax.axvline(maxidx)\n",
    "    if dist:\n",
    "        ax.axvline(dist.mean(), color=\"black\")\n",
    "    return ax.scatter(X_,Y_, **kwargs)"
   ]
  },
  {
   "cell_type": "code",
   "execution_count": 12,
   "metadata": {},
   "outputs": [
    {
     "name": "stdout",
     "output_type": "stream",
     "text": [
      "Optimization terminated successfully.\n",
      "         Current function value: 2.301710\n",
      "         Iterations 1\n",
      "Optimization terminated successfully.\n",
      "         Current function value: 2.110659\n",
      "         Iterations: 6\n",
      "         Function evaluations: 7\n",
      "         Gradient evaluations: 7\n"
     ]
    }
   ],
   "source": [
    "N = 110\n",
    "K = 3\n",
    "change_in_values, X, Y = get_word_variations(N, K)\n",
    "\n",
    "# import ipdb\n",
    "# ipdb.set_trace()\n",
    "\n",
    "# Poison Fit\n",
    "Y_poiss = get_poisson_pmf(change_in_values, X)\n",
    "\n",
    "# Negative Binomial\n",
    "dist_est, Y_neg_binomial = get_negative_binomial_fit(change_in_values, X)"
   ]
  },
  {
   "cell_type": "code",
   "execution_count": 13,
   "metadata": {},
   "outputs": [
    {
     "data": {
      "text/plain": [
       "3241"
      ]
     },
     "execution_count": 13,
     "metadata": {},
     "output_type": "execute_result"
    }
   ],
   "source": [
    "len(change_in_values)"
   ]
  },
  {
   "cell_type": "code",
   "execution_count": 13,
   "metadata": {},
   "outputs": [
    {
     "data": {
      "text/plain": [
       "<matplotlib.collections.PathCollection at 0x7f3866995400>"
      ]
     },
     "execution_count": 13,
     "metadata": {},
     "output_type": "execute_result"
    },
    {
     "data": {
      "text/plain": [
       "<Figure size 1296x720 with 0 Axes>"
      ]
     },
     "metadata": {},
     "output_type": "display_data"
    },
    {
     "data": {
      "image/png": "[encoded data removed]",
      "text/plain": [
       "<Figure size 1080x288 with 2 Axes>"
      ]
     },
     "metadata": {},
     "output_type": "display_data"
    }
   ],
   "source": [
    "f = plt.figure(figsize=(18, 10))\n",
    "\n",
    "fig, (ax1, ax2) = plt.subplots(ncols=2, figsize=(15, 4))\n",
    "\n",
    "plot(X,Y, ax1)\n",
    "plot(X,Y_poiss, ax1, title=\"Poisson Fit\", xlabel=\"K\", ylabel=\"Probability\", alpha=0.5)\n",
    "\n",
    "plot(X,Y, ax2)\n",
    "plot(sorted(X),Y_neg_binomial, ax2, \n",
    "     title=\"Negative Binomial Fit\", \n",
    "     xlabel=\"K\", \n",
    "     ylabel=\"Probability\", \n",
    "     dist = dist_est,\n",
    "     alpha=0.5)"
   ]
  },
  {
   "cell_type": "code",
   "execution_count": 21,
   "metadata": {},
   "outputs": [
    {
     "name": "stdout",
     "output_type": "stream",
     "text": [
      "Optimization terminated successfully.\n",
      "         Current function value: 2.653765\n",
      "         Iterations 1\n",
      "Optimization terminated successfully.\n",
      "         Current function value: 2.454762\n",
      "         Iterations: 6\n",
      "         Function evaluations: 7\n",
      "         Gradient evaluations: 7\n",
      "3.797707428884115\n",
      "0.45470672254919653\n"
     ]
    }
   ],
   "source": [
    "N = 112\n",
    "K = 5\n",
    "change_in_values, X, Y = get_word_variations(N, K)\n",
    "Y_poiss = get_poisson_pmf(change_in_values, X)\n",
    "dist_est, Y_neg_binomial = get_negative_binomial_fit(change_in_values, X)"
   ]
  },
  {
   "cell_type": "code",
   "execution_count": 16,
   "metadata": {},
   "outputs": [
    {
     "data": {
      "text/plain": [
       "1400"
      ]
     },
     "execution_count": 16,
     "metadata": {},
     "output_type": "execute_result"
    }
   ],
   "source": [
    "len(change_in_values)"
   ]
  },
  {
   "cell_type": "code",
   "execution_count": 20,
   "metadata": {},
   "outputs": [
    {
     "data": {
      "text/plain": [
       "[<matplotlib.axis.XTick at 0x7f1f20736898>,\n",
       " <matplotlib.axis.XTick at 0x7f1f202fe6a0>,\n",
       " <matplotlib.axis.XTick at 0x7f1f202f6e10>,\n",
       " <matplotlib.axis.XTick at 0x7f1f1fadfb38>,\n",
       " <matplotlib.axis.XTick at 0x7f1f13610b70>,\n",
       " <matplotlib.axis.XTick at 0x7f1f1fad7a20>,\n",
       " <matplotlib.axis.XTick at 0x7f1f1facd208>,\n",
       " <matplotlib.axis.XTick at 0x7f1dd7005da0>,\n",
       " <matplotlib.axis.XTick at 0x7f1dd7005ba8>]"
      ]
     },
     "execution_count": 20,
     "metadata": {},
     "output_type": "execute_result"
    },
    {
     "data": {
      "text/plain": [
       "<Figure size 1296x720 with 0 Axes>"
      ]
     },
     "metadata": {},
     "output_type": "display_data"
    },
    {
     "data": {
      "image/png": "[encoded data removed]",
      "text/plain": [
       "<Figure size 648x432 with 1 Axes>"
      ]
     },
     "metadata": {},
     "output_type": "display_data"
    }
   ],
   "source": [
    "f = plt.figure(figsize=(18, 10))\n",
    "\n",
    "fig, (ax2) = plt.subplots(ncols=1, figsize=(9, 6))\n",
    "\n",
    "# plot(X,Y, ax1)\n",
    "# plot(X,Y_poiss, ax1, title=\"Poisson Fit\", xlabel=\"K\", ylabel=\"Probability\", alpha=0.5)\n",
    "\n",
    "plot(X,Y, ax2)\n",
    "plot(sorted(X),Y_neg_binomial, ax2, \n",
    "     title=\"Negative Binomial Fit: k=5\", \n",
    "     xlabel=\"Variation\", \n",
    "     ylabel=\"Probability\", \n",
    "     dist = dist_est,\n",
    "     alpha=0.5)\n",
    "ax2.set_xticks(range(0, 25, 3))\n"
   ]
  },
  {
   "cell_type": "code",
   "execution_count": 22,
   "metadata": {},
   "outputs": [
    {
     "name": "stdout",
     "output_type": "stream",
     "text": [
      "Optimization terminated successfully.\n",
      "         Current function value: 2.961345\n",
      "         Iterations 1\n",
      "Optimization terminated successfully.\n",
      "         Current function value: 2.841995\n",
      "         Iterations: 7\n",
      "         Function evaluations: 8\n",
      "         Gradient evaluations: 8\n",
      "10.427452840675711\n",
      "0.5235410239641085\n"
     ]
    }
   ],
   "source": [
    "N = 112\n",
    "K = 10\n",
    "change_in_values, X, Y = get_word_variations(N, K)\n",
    "\n",
    "# Poison Fit\n",
    "Y_poiss = get_poisson_pmf(change_in_values, X)\n",
    "\n",
    "# Negative Binomial\n",
    "dist_est, Y_neg_binomial = get_negative_binomial_fit(change_in_values, X)"
   ]
  },
  {
   "cell_type": "code",
   "execution_count": 18,
   "metadata": {},
   "outputs": [
    {
     "data": {
      "text/plain": [
       "486"
      ]
     },
     "execution_count": 18,
     "metadata": {},
     "output_type": "execute_result"
    }
   ],
   "source": [
    "len(change_in_values)"
   ]
  },
  {
   "cell_type": "code",
   "execution_count": 40,
   "metadata": {},
   "outputs": [
    {
     "data": {
      "text/plain": [
       "[<matplotlib.axis.XTick at 0x7f3864904940>,\n",
       " <matplotlib.axis.XTick at 0x7f3864906be0>,\n",
       " <matplotlib.axis.XTick at 0x7f38649066d8>,\n",
       " <matplotlib.axis.XTick at 0x7f38648e6e10>,\n",
       " <matplotlib.axis.XTick at 0x7f38607e26d8>,\n",
       " <matplotlib.axis.XTick at 0x7f38607e2da0>,\n",
       " <matplotlib.axis.XTick at 0x7f38607e7860>,\n",
       " <matplotlib.axis.XTick at 0x7f38607e2b00>,\n",
       " <matplotlib.axis.XTick at 0x7f38607e77f0>,\n",
       " <matplotlib.axis.XTick at 0x7f38607da630>]"
      ]
     },
     "execution_count": 40,
     "metadata": {},
     "output_type": "execute_result"
    },
    {
     "data": {
      "text/plain": [
       "<Figure size 1296x720 with 0 Axes>"
      ]
     },
     "metadata": {},
     "output_type": "display_data"
    },
    {
     "data": {
      "image/png": "[encoded data removed]",
      "text/plain": [
       "<Figure size 648x432 with 1 Axes>"
      ]
     },
     "metadata": {},
     "output_type": "display_data"
    }
   ],
   "source": [
    "f = plt.figure(figsize=(18, 10))\n",
    "\n",
    "fig, (ax2) = plt.subplots(ncols=1, figsize=(9, 6))\n",
    "\n",
    "# plot(X,Y, ax1)\n",
    "# plot(X,Y_poiss, ax1, title=\"Poisson Fit\", xlabel=\"K\", ylabel=\"Probability\", alpha=0.5)\n",
    "\n",
    "plot(X,Y, ax2)\n",
    "plot(sorted(X),Y_neg_binomial, ax2, \n",
    "     title=\"Negative Binomial Fit: K=15\", \n",
    "     xlabel=\"Variation\", \n",
    "     ylabel=\"Probability\", \n",
    "     dist = dist_est,\n",
    "     alpha=0.5)\n",
    "ax2.set_xticks(range(0, 30, 3))\n"
   ]
  },
  {
   "cell_type": "code",
   "execution_count": 31,
   "metadata": {},
   "outputs": [
    {
     "name": "stdout",
     "output_type": "stream",
     "text": [
      "Optimization terminated successfully.\n",
      "         Current function value: 3.260466\n",
      "         Iterations 1\n",
      "Optimization terminated successfully.\n",
      "         Current function value: 3.090405\n",
      "         Iterations: 6\n",
      "         Function evaluations: 7\n",
      "         Gradient evaluations: 7\n"
     ]
    }
   ],
   "source": [
    "N = 110\n",
    "K = 15\n",
    "change_in_values, X, Y = get_word_variations(N, K)\n",
    "\n",
    "# Poison Fit\n",
    "Y_poiss = get_poisson_pmf(change_in_values, X)\n",
    "\n",
    "# Negative Binomial\n",
    "dist_est, Y_neg_binomial = get_negative_binomial_fit(change_in_values, X)"
   ]
  },
  {
   "cell_type": "code",
   "execution_count": 147,
   "metadata": {},
   "outputs": [
    {
     "data": {
      "text/plain": [
       "<matplotlib.collections.PathCollection at 0x7f8af2c29c18>"
      ]
     },
     "execution_count": 147,
     "metadata": {},
     "output_type": "execute_result"
    },
    {
     "data": {
      "text/plain": [
       "<Figure size 1296x720 with 0 Axes>"
      ]
     },
     "metadata": {},
     "output_type": "display_data"
    },
    {
     "data": {
      "image/png": "[encoded data removed]",
      "text/plain": [
       "<Figure size 1080x288 with 2 Axes>"
      ]
     },
     "metadata": {},
     "output_type": "display_data"
    }
   ],
   "source": [
    "f = plt.figure(figsize=(18, 10))\n",
    "\n",
    "fig, (ax1, ax2) = plt.subplots(ncols=2, figsize=(15, 4))\n",
    "\n",
    "plot(X,Y, ax1)\n",
    "plot(X,Y_poiss, ax1, title=\"Poisson Fit\", xlabel=\"K\", ylabel=\"Probability\", alpha=0.5)\n",
    "\n",
    "plot(X,Y, ax2)\n",
    "plot(sorted(X),Y_neg_binomial, ax2, \n",
    "     title=\"Negative Binomial Fit\", \n",
    "     xlabel=\"K\", \n",
    "     ylabel=\"Probability\", \n",
    "     dist = dist_est,\n",
    "     alpha=0.5)"
   ]
  },
  {
   "cell_type": "code",
   "execution_count": null,
   "metadata": {},
   "outputs": [],
   "source": []
  }
 ],
 "metadata": {
  "kernelspec": {
   "display_name": "Python 3",
   "language": "python",
   "name": "python3"
  },
  "language_info": {
   "codemirror_mode": {
    "name": "ipython",
    "version": 3
   },
   "file_extension": ".py",
   "mimetype": "text/x-python",
   "name": "python",
   "nbconvert_exporter": "python",
   "pygments_lexer": "ipython3",
   "version": "3.6.7"
  }
 },
 "nbformat": 4,
 "nbformat_minor": 2
}
