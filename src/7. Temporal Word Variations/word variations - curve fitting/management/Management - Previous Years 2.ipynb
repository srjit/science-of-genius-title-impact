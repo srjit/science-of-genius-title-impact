{
 "cells": [
  {
   "cell_type": "code",
   "execution_count": 1,
   "metadata": {},
   "outputs": [],
   "source": [
    "import warnings\n",
    "warnings.filterwarnings('ignore')"
   ]
  },
  {
   "cell_type": "code",
   "execution_count": 2,
   "metadata": {},
   "outputs": [],
   "source": [
    "%load_ext autoreload\n",
    "%autoreload 2\n",
    "%matplotlib inline"
   ]
  },
  {
   "cell_type": "code",
   "execution_count": 3,
   "metadata": {},
   "outputs": [],
   "source": [
    "import pandas as pd\n",
    "import numpy as np\n",
    "import operator\n",
    "\n",
    "import peakutils\n",
    "\n",
    "import string\n",
    "import nltk\n",
    "stopwords = nltk.corpus.stopwords.words('english')\n",
    "\n",
    "import operator\n",
    "from collections import Counter\n",
    "\n",
    "import scipy.stats\n",
    "from scipy.optimize import curve_fit\n",
    "from scipy.misc import factorial\n",
    "\n",
    "import pickle\n",
    "from sklearn.feature_extraction.text import CountVectorizer\n",
    "\n",
    "from statsmodels.discrete.discrete_model import NegativeBinomial, Poisson, Logit\n",
    "from scipy.stats import binom, nbinom\n",
    "\n",
    "import plotly\n",
    "import plotly.plotly as py\n",
    "from plotly import tools\n",
    "\n",
    "import plotly.graph_objs as go\n",
    "plotly.tools.set_credentials_file(username='sreejith_s', api_key='rcet0rTqFCc3WeOzWTjv')\n",
    "\n",
    "from unicodedata import category\n",
    "from tqdm import tqdm\n",
    "tqdm.pandas(desc=\"Progress\")\n",
    "\n",
    "import seaborn as sns\n",
    "sns.set_style('white')\n",
    "import matplotlib.pylab as plt"
   ]
  },
  {
   "cell_type": "code",
   "execution_count": 4,
   "metadata": {},
   "outputs": [
    {
     "name": "stderr",
     "output_type": "stream",
     "text": [
      "Progress: 100%|██████████| 100/100 [00:00<00:00, 3868.21it/s]\n",
      "Progress: 100%|██████████| 100/100 [00:00<00:00, 967.01it/s]\n"
     ]
    }
   ],
   "source": [
    "filename = \"/mnt/disks/vault/analysis-data/interdisciplinary-novelty-analysis/corrected-entropy-analysis/word-journey-data.pql\"\n",
    "data_grouped_by_year_label = pd.read_pickle(filename)\n",
    "\n",
    "discipline = \"Management\"\n",
    "input_ = data_grouped_by_year_label[data_grouped_by_year_label.Label == discipline]\n",
    "data_grouped_by_year_label = None\n",
    "\n",
    "vectorizer = CountVectorizer()\n",
    "vectorized_words = vectorizer.fit_transform(input_.title_words)\n",
    "\n",
    "vectorized_wordarray = vectorized_words.toarray()\n",
    "document_frequency = (vectorized_wordarray != 0).sum(0).tolist()\n",
    "document_frequency_log =  [np.log(x) for x in document_frequency]\n",
    "\n",
    "#2. Term Frequency - Number of times in which a word appears in a document\n",
    "term_frequency = vectorized_words.sum(axis=0).reshape(-1,).tolist()[0]\n",
    "term_frequency_log = [np.log(x) for x in term_frequency]\n",
    "\n",
    "input_[\"number_of_pubs\"] = input_[\"title_without_stopwords\"].progress_apply(lambda x: len(x))\n",
    "input_[\"word_count\"] = input_[\"title_words\"].progress_apply(lambda x: len(x.split()))"
   ]
  },
  {
   "cell_type": "code",
   "execution_count": 5,
   "metadata": {},
   "outputs": [
    {
     "data": {
      "text/html": [
       "<div>\n",
       "<style scoped>\n",
       "    .dataframe tbody tr th:only-of-type {\n",
       "        vertical-align: middle;\n",
       "    }\n",
       "\n",
       "    .dataframe tbody tr th {\n",
       "        vertical-align: top;\n",
       "    }\n",
       "\n",
       "    .dataframe thead th {\n",
       "        text-align: right;\n",
       "    }\n",
       "</style>\n",
       "<table border=\"1\" class=\"dataframe\">\n",
       "  <thead>\n",
       "    <tr style=\"text-align: right;\">\n",
       "      <th></th>\n",
       "      <th>index</th>\n",
       "      <th>Label</th>\n",
       "      <th>PubYear</th>\n",
       "      <th>title_without_stopwords</th>\n",
       "      <th>cleaned_titles</th>\n",
       "      <th>title_words_</th>\n",
       "      <th>title_words</th>\n",
       "      <th>number_of_pubs</th>\n",
       "      <th>word_count</th>\n",
       "    </tr>\n",
       "  </thead>\n",
       "  <tbody>\n",
       "    <tr>\n",
       "      <th>10176</th>\n",
       "      <td>10176</td>\n",
       "      <td>Management</td>\n",
       "      <td>1917</td>\n",
       "      <td>[legibility telephone directory, sidetracking ...</td>\n",
       "      <td>[psychology prodigious child, practical applic...</td>\n",
       "      <td>psychology prodigious child practical applicat...</td>\n",
       "      <td>psychology prodigious child practical applicat...</td>\n",
       "      <td>33</td>\n",
       "      <td>144</td>\n",
       "    </tr>\n",
       "    <tr>\n",
       "      <th>10177</th>\n",
       "      <td>10177</td>\n",
       "      <td>Management</td>\n",
       "      <td>1918</td>\n",
       "      <td>[twenty three serial tests intelligence their ...</td>\n",
       "      <td>[experiment infant education, program psycholo...</td>\n",
       "      <td>experiment infant education program psychology...</td>\n",
       "      <td>experiment infant education program psychology...</td>\n",
       "      <td>33</td>\n",
       "      <td>187</td>\n",
       "    </tr>\n",
       "    <tr>\n",
       "      <th>10178</th>\n",
       "      <td>10178</td>\n",
       "      <td>Management</td>\n",
       "      <td>1919</td>\n",
       "      <td>[average mental adults, mental tests prospecti...</td>\n",
       "      <td>[comparative study variability boys girls, edu...</td>\n",
       "      <td>comparative study variability boys girls educa...</td>\n",
       "      <td>comparative study variability boys girls educa...</td>\n",
       "      <td>30</td>\n",
       "      <td>229</td>\n",
       "    </tr>\n",
       "    <tr>\n",
       "      <th>10179</th>\n",
       "      <td>10179</td>\n",
       "      <td>Management</td>\n",
       "      <td>1920</td>\n",
       "      <td>[comparative study intelligence seventy five w...</td>\n",
       "      <td>[further development employment psychology, vo...</td>\n",
       "      <td>further development employment psychology voca...</td>\n",
       "      <td>further development employment psychology voca...</td>\n",
       "      <td>37</td>\n",
       "      <td>231</td>\n",
       "    </tr>\n",
       "    <tr>\n",
       "      <th>10180</th>\n",
       "      <td>10180</td>\n",
       "      <td>Management</td>\n",
       "      <td>1921</td>\n",
       "      <td>[educational guidance tests college, results r...</td>\n",
       "      <td>[bedaux unit principle industrial measurement ...</td>\n",
       "      <td>bedaux unit principle industrial measurement o...</td>\n",
       "      <td>bedaux unit principle industrial measurement o...</td>\n",
       "      <td>38</td>\n",
       "      <td>224</td>\n",
       "    </tr>\n",
       "  </tbody>\n",
       "</table>\n",
       "</div>"
      ],
      "text/plain": [
       "       index       Label  PubYear  \\\n",
       "10176  10176  Management     1917   \n",
       "10177  10177  Management     1918   \n",
       "10178  10178  Management     1919   \n",
       "10179  10179  Management     1920   \n",
       "10180  10180  Management     1921   \n",
       "\n",
       "                                 title_without_stopwords  \\\n",
       "10176  [legibility telephone directory, sidetracking ...   \n",
       "10177  [twenty three serial tests intelligence their ...   \n",
       "10178  [average mental adults, mental tests prospecti...   \n",
       "10179  [comparative study intelligence seventy five w...   \n",
       "10180  [educational guidance tests college, results r...   \n",
       "\n",
       "                                          cleaned_titles  \\\n",
       "10176  [psychology prodigious child, practical applic...   \n",
       "10177  [experiment infant education, program psycholo...   \n",
       "10178  [comparative study variability boys girls, edu...   \n",
       "10179  [further development employment psychology, vo...   \n",
       "10180  [bedaux unit principle industrial measurement ...   \n",
       "\n",
       "                                            title_words_  \\\n",
       "10176  psychology prodigious child practical applicat...   \n",
       "10177  experiment infant education program psychology...   \n",
       "10178  comparative study variability boys girls educa...   \n",
       "10179  further development employment psychology voca...   \n",
       "10180  bedaux unit principle industrial measurement o...   \n",
       "\n",
       "                                             title_words  number_of_pubs  \\\n",
       "10176  psychology prodigious child practical applicat...              33   \n",
       "10177  experiment infant education program psychology...              33   \n",
       "10178  comparative study variability boys girls educa...              30   \n",
       "10179  further development employment psychology voca...              37   \n",
       "10180  bedaux unit principle industrial measurement o...              38   \n",
       "\n",
       "       word_count  \n",
       "10176         144  \n",
       "10177         187  \n",
       "10178         229  \n",
       "10179         231  \n",
       "10180         224  "
      ]
     },
     "execution_count": 5,
     "metadata": {},
     "output_type": "execute_result"
    }
   ],
   "source": [
    "input_.head()"
   ]
  },
  {
   "cell_type": "code",
   "execution_count": 6,
   "metadata": {},
   "outputs": [
    {
     "data": {
      "text/plain": [
       "Text(0,0.5,'number of Publications')"
      ]
     },
     "execution_count": 6,
     "metadata": {},
     "output_type": "execute_result"
    },
    {
     "data": {
      "image/png": "[encoded data removed]",
      "text/plain": [
       "<Figure size 432x288 with 1 Axes>"
      ]
     },
     "metadata": {},
     "output_type": "display_data"
    }
   ],
   "source": [
    "plt.plot(input_.PubYear, input_.number_of_pubs)\n",
    "\n",
    "plt.xlabel(\"Year\")\n",
    "plt.ylabel(\"number of Publications\")"
   ]
  },
  {
   "cell_type": "code",
   "execution_count": 12,
   "metadata": {},
   "outputs": [
    {
     "data": {
      "text/html": [
       "<div>\n",
       "<style scoped>\n",
       "    .dataframe tbody tr th:only-of-type {\n",
       "        vertical-align: middle;\n",
       "    }\n",
       "\n",
       "    .dataframe tbody tr th {\n",
       "        vertical-align: top;\n",
       "    }\n",
       "\n",
       "    .dataframe thead th {\n",
       "        text-align: right;\n",
       "    }\n",
       "</style>\n",
       "<table border=\"1\" class=\"dataframe\">\n",
       "  <thead>\n",
       "    <tr style=\"text-align: right;\">\n",
       "      <th></th>\n",
       "      <th>index</th>\n",
       "      <th>Label</th>\n",
       "      <th>PubYear</th>\n",
       "      <th>title_without_stopwords</th>\n",
       "      <th>cleaned_titles</th>\n",
       "      <th>title_words_</th>\n",
       "      <th>title_words</th>\n",
       "      <th>number_of_pubs</th>\n",
       "      <th>word_count</th>\n",
       "    </tr>\n",
       "  </thead>\n",
       "  <tbody>\n",
       "    <tr>\n",
       "      <th>10219</th>\n",
       "      <td>10219</td>\n",
       "      <td>Management</td>\n",
       "      <td>1960</td>\n",
       "      <td>[vershofen wilhelm teacher friend, allocation ...</td>\n",
       "      <td>[japanese firms, job satisfaction need satisfa...</td>\n",
       "      <td>japanese firms job satisfaction need satisfact...</td>\n",
       "      <td>japanese firms job satisfaction need satisfact...</td>\n",
       "      <td>551</td>\n",
       "      <td>2819</td>\n",
       "    </tr>\n",
       "  </tbody>\n",
       "</table>\n",
       "</div>"
      ],
      "text/plain": [
       "       index       Label  PubYear  \\\n",
       "10219  10219  Management     1960   \n",
       "\n",
       "                                 title_without_stopwords  \\\n",
       "10219  [vershofen wilhelm teacher friend, allocation ...   \n",
       "\n",
       "                                          cleaned_titles  \\\n",
       "10219  [japanese firms, job satisfaction need satisfa...   \n",
       "\n",
       "                                            title_words_  \\\n",
       "10219  japanese firms job satisfaction need satisfact...   \n",
       "\n",
       "                                             title_words  number_of_pubs  \\\n",
       "10219  japanese firms job satisfaction need satisfact...             551   \n",
       "\n",
       "       word_count  \n",
       "10219        2819  "
      ]
     },
     "execution_count": 12,
     "metadata": {},
     "output_type": "execute_result"
    }
   ],
   "source": [
    "input_.iloc[43:44]"
   ]
  },
  {
   "cell_type": "code",
   "execution_count": 10,
   "metadata": {},
   "outputs": [
    {
     "name": "stderr",
     "output_type": "stream",
     "text": [
      "100%|██████████| 99/99 [00:00<00:00, 295.12it/s]\n"
     ]
    }
   ],
   "source": [
    "count_matrix = vectorized_words.toarray()\n",
    "\n",
    "uniques = []\n",
    "counts = []\n",
    "yearly_word_frequency_variations = []\n",
    "avg_variations_for_freq = []\n",
    "\n",
    "for i in range(count_matrix.shape[0]):\n",
    "    unique_, counts_tmp = np.unique(count_matrix[i:i+1,:], return_counts=True)    \n",
    "    counts_ = list(map(np.log, counts_tmp))\n",
    "    uniques.append(unique_)\n",
    "    counts.append(counts_)\n",
    "    \n",
    "for index in tqdm(range(vectorized_wordarray.shape[0] - 1)):\n",
    "    \n",
    "    # take two consecutive years\n",
    "    tmp_ = vectorized_wordarray[index:index+2]\n",
    "    \n",
    "    #unique counts for the first year\n",
    "    unique_counts = np.unique(tmp_[0]) \n",
    "    \n",
    "    yearly_avg_variations_for_freq = {}\n",
    "    word_freq_variations = []\n",
    "    \n",
    "    word_freq_variations.append(tmp_[1] - tmp_[0])\n",
    "    \n",
    "    yearly_word_frequency_variations.append(word_freq_variations)\n",
    "    \n",
    "    for uniq in unique_counts:\n",
    "        # find the indices where the value == uniq\n",
    "        indices, = np.where(tmp_[0] == uniq)\n",
    "        \n",
    "        # find the values in the next year where those indices are\n",
    "        # variations of words with that `uniq` count\n",
    "        transition_values = tmp_[1][indices]\n",
    "        variations = transition_values - uniq\n",
    "        \n",
    "        # mean variation of words with that `uniq` count\n",
    "        mean_variation = np.mean(variations)\n",
    "        \n",
    "        # make a list of mean variations\n",
    "        yearly_avg_variations_for_freq[uniq] = round(mean_variation, 3)\n",
    "    \n",
    "    avg_variations_for_freq.append(yearly_avg_variations_for_freq)"
   ]
  },
  {
   "cell_type": "code",
   "execution_count": 11,
   "metadata": {},
   "outputs": [],
   "source": [
    "def poisson(k, lamb):\n",
    "    return (lamb**k/factorial(k)) * np.exp(-lamb)"
   ]
  },
  {
   "cell_type": "markdown",
   "metadata": {},
   "source": [
    "__Year: 1960__ - _Poisson and Negative Binomial_"
   ]
  },
  {
   "cell_type": "code",
   "execution_count": 13,
   "metadata": {},
   "outputs": [],
   "source": [
    "def get_word_variations(N, K):\n",
    "    \n",
    "    freq_current = list(vectorized_wordarray[N:N+1,:][0])\n",
    "    freq_next = list(vectorized_wordarray[N+1:N+2,:][0])\n",
    "    indices = [i for i, x in enumerate(freq_current) if x == K]\n",
    "    change_in_values = [freq_next[i] for i in indices]\n",
    "    variations = [j - K for j in change_in_values]\n",
    "    sum_ = sum(dict(Counter(variations)).values())\n",
    "    X = [x + K for x,y in dict(Counter(variations)).items()]\n",
    "    Y = [float(y)/sum_ for x,y in dict(Counter(variations)).items()]  \n",
    "    \n",
    "    return change_in_values, X, Y"
   ]
  },
  {
   "cell_type": "code",
   "execution_count": 14,
   "metadata": {},
   "outputs": [],
   "source": [
    "def get_poisson_pmf(change_in_values, X):\n",
    "    \n",
    "    poissonModel = Poisson(change_in_values,np.ones_like(change_in_values))\n",
    "    poissonRes = poissonModel.fit()\n",
    "    poissonModel.loglike(poissonRes.params)\n",
    "\n",
    "    lambda_ = np.exp(poissonRes.params[0])\n",
    "    Y_poiss = list(map(lambda x: poisson(x, lambda_), X))\n",
    "    return Y_poiss"
   ]
  },
  {
   "cell_type": "code",
   "execution_count": 15,
   "metadata": {},
   "outputs": [],
   "source": [
    "def get_negative_binomial_fit(change_in_values, X):\n",
    "    \n",
    "    loglike_method = 'nb2'  # or use 'nb2'\n",
    "    model = NegativeBinomial(change_in_values, np.ones_like(change_in_values))\n",
    "    binomial_result = model.fit()\n",
    "    mu = np.exp(binomial_result.params[0])   \n",
    "    alpha = binomial_result.params[1]\n",
    "\n",
    "    if loglike_method == 'nb1':\n",
    "        Q = 1\n",
    "    elif loglike_method == 'nb2':    \n",
    "        Q = 0\n",
    "    size = 1. / alpha * mu**Q\n",
    "    prob = size / (size + mu)\n",
    "    dist_est = nbinom(size, prob)\n",
    "    \n",
    "    return dist_est, [dist_est.pmf(k) for k in sorted(X)]    "
   ]
  },
  {
   "cell_type": "code",
   "execution_count": 16,
   "metadata": {},
   "outputs": [],
   "source": [
    "def plot(X_,Y_, ax=None, title=\"\", xlabel=\"\", ylabel=\"\", dist=None, **kwargs):\n",
    "\n",
    "    ax = ax or plt.gca()\n",
    "    ax.set_title(title)\n",
    "    ax.set_xlabel(xlabel)\n",
    "    ax.set_ylabel(ylabel)\n",
    "    \n",
    "    if dist:\n",
    "        ax.axvline(dist.mean(), color=\"black\")\n",
    "    return ax.scatter(X_,Y_, **kwargs)"
   ]
  },
  {
   "cell_type": "code",
   "execution_count": 17,
   "metadata": {},
   "outputs": [
    {
     "name": "stdout",
     "output_type": "stream",
     "text": [
      "Optimization terminated successfully.\n",
      "         Current function value: 2.282098\n",
      "         Iterations 1\n",
      "Optimization terminated successfully.\n",
      "         Current function value: 2.133346\n",
      "         Iterations: 6\n",
      "         Function evaluations: 7\n",
      "         Gradient evaluations: 7\n"
     ]
    }
   ],
   "source": [
    "N = 43\n",
    "K = 3\n",
    "change_in_values, X, Y = get_word_variations(N, K)\n",
    "\n",
    "# Poison Fit\n",
    "Y_poiss = get_poisson_pmf(change_in_values, X)\n",
    "\n",
    "# Negative Binomial\n",
    "dist_est, Y_neg_binomial = get_negative_binomial_fit(change_in_values, X)"
   ]
  },
  {
   "cell_type": "code",
   "execution_count": 18,
   "metadata": {},
   "outputs": [
    {
     "data": {
      "text/plain": [
       "<matplotlib.collections.PathCollection at 0x7fc7c6c3d6a0>"
      ]
     },
     "execution_count": 18,
     "metadata": {},
     "output_type": "execute_result"
    },
    {
     "data": {
      "text/plain": [
       "<Figure size 1296x720 with 0 Axes>"
      ]
     },
     "metadata": {},
     "output_type": "display_data"
    },
    {
     "data": {
      "image/png": "[encoded data removed]",
      "text/plain": [
       "<Figure size 1080x288 with 2 Axes>"
      ]
     },
     "metadata": {},
     "output_type": "display_data"
    }
   ],
   "source": [
    "f = plt.figure(figsize=(18, 10))\n",
    "\n",
    "fig, (ax1, ax2) = plt.subplots(ncols=2, figsize=(15, 4))\n",
    "\n",
    "plot(X,Y, ax1)\n",
    "plot(X,Y_poiss, ax1, title=\"Poisson Fit\", xlabel=\"K\", ylabel=\"Probability\", alpha=0.5)\n",
    "plot(X,Y, ax2)\n",
    "plot(sorted(X),Y_neg_binomial, ax2, \n",
    "     title=\"Negative Binomial Fit\", \n",
    "     xlabel=\"K\", \n",
    "     ylabel=\"Probability\", \n",
    "     dist = dist_est,\n",
    "     alpha=0.5)"
   ]
  },
  {
   "cell_type": "code",
   "execution_count": 19,
   "metadata": {},
   "outputs": [
    {
     "name": "stdout",
     "output_type": "stream",
     "text": [
      "Optimization terminated successfully.\n",
      "         Current function value: 2.539361\n",
      "         Iterations 1\n",
      "Optimization terminated successfully.\n",
      "         Current function value: 2.293535\n",
      "         Iterations: 6\n",
      "         Function evaluations: 7\n",
      "         Gradient evaluations: 7\n"
     ]
    }
   ],
   "source": [
    "K = 5\n",
    "change_in_values, X, Y = get_word_variations(N, K)\n",
    "Y_poiss = get_poisson_pmf(change_in_values, X)\n",
    "dist_est, Y_neg_binomial = get_negative_binomial_fit(change_in_values, X)"
   ]
  },
  {
   "cell_type": "code",
   "execution_count": 20,
   "metadata": {},
   "outputs": [
    {
     "data": {
      "text/plain": [
       "<matplotlib.collections.PathCollection at 0x7fc7fd0f50f0>"
      ]
     },
     "execution_count": 20,
     "metadata": {},
     "output_type": "execute_result"
    },
    {
     "data": {
      "text/plain": [
       "<Figure size 1296x720 with 0 Axes>"
      ]
     },
     "metadata": {},
     "output_type": "display_data"
    },
    {
     "data": {
      "image/png": "[encoded data removed]",
      "text/plain": [
       "<Figure size 1080x288 with 2 Axes>"
      ]
     },
     "metadata": {},
     "output_type": "display_data"
    }
   ],
   "source": [
    "f = plt.figure(figsize=(18, 10))\n",
    "\n",
    "fig, (ax1, ax2) = plt.subplots(ncols=2, figsize=(15, 4))\n",
    "\n",
    "plot(X,Y, ax1)\n",
    "plot(X,Y_poiss, ax1, title=\"Poisson Fit\", xlabel=\"K\", ylabel=\"Probability\", alpha=0.5)\n",
    "plot(X,Y, ax2)\n",
    "plot(sorted(X),\n",
    "     Y_neg_binomial, \n",
    "     ax2, \n",
    "     title=\"Negative Binomial Fit\", \n",
    "     xlabel=\"K\", \n",
    "     ylabel=\"Probability\", \n",
    "     dist = dist_est,\n",
    "     alpha=0.5)"
   ]
  },
  {
   "cell_type": "code",
   "execution_count": 21,
   "metadata": {},
   "outputs": [
    {
     "name": "stdout",
     "output_type": "stream",
     "text": [
      "Optimization terminated successfully.\n",
      "         Current function value: 3.311429\n",
      "         Iterations 1\n",
      "Optimization terminated successfully.\n",
      "         Current function value: 3.085554\n",
      "         Iterations: 6\n",
      "         Function evaluations: 7\n",
      "         Gradient evaluations: 7\n"
     ]
    }
   ],
   "source": [
    "K = 10\n",
    "change_in_values, X, Y = get_word_variations(N, K)\n",
    "\n",
    "# Poison Fit\n",
    "Y_poiss = get_poisson_pmf(change_in_values, X)\n",
    "\n",
    "# Negative Binomial\n",
    "dist_est, Y_neg_binomial = get_negative_binomial_fit(change_in_values, X)"
   ]
  },
  {
   "cell_type": "code",
   "execution_count": 22,
   "metadata": {},
   "outputs": [
    {
     "data": {
      "text/plain": [
       "<matplotlib.collections.PathCollection at 0x7fc7fd406390>"
      ]
     },
     "execution_count": 22,
     "metadata": {},
     "output_type": "execute_result"
    },
    {
     "data": {
      "text/plain": [
       "<Figure size 1296x720 with 0 Axes>"
      ]
     },
     "metadata": {},
     "output_type": "display_data"
    },
    {
     "data": {
      "image/png": "[encoded data removed]",
      "text/plain": [
       "<Figure size 1080x288 with 2 Axes>"
      ]
     },
     "metadata": {},
     "output_type": "display_data"
    }
   ],
   "source": [
    "f = plt.figure(figsize=(18, 10))\n",
    "\n",
    "fig, (ax1, ax2) = plt.subplots(ncols=2, figsize=(15, 4))\n",
    "plot(X,Y, ax1)\n",
    "plot(X,Y_poiss, ax1, title=\"Poisson Fit\", xlabel=\"K\", ylabel=\"Probability\", alpha=0.5)\n",
    "plot(X,Y, ax2)\n",
    "plot(sorted(X),\n",
    "     Y_neg_binomial, \n",
    "     ax2, \n",
    "     title=\"Negative Binomial Fit\", \n",
    "     xlabel=\"K\", \n",
    "     ylabel=\"Probability\", \n",
    "     dist = dist_est,\n",
    "     alpha=0.5)"
   ]
  }
 ],
 "metadata": {
  "kernelspec": {
   "display_name": "Python 3",
   "language": "python",
   "name": "python3"
  },
  "language_info": {
   "codemirror_mode": {
    "name": "ipython",
    "version": 3
   },
   "file_extension": ".py",
   "mimetype": "text/x-python",
   "name": "python",
   "nbconvert_exporter": "python",
   "pygments_lexer": "ipython3",
   "version": "3.6.7"
  }
 },
 "nbformat": 4,
 "nbformat_minor": 2
}
