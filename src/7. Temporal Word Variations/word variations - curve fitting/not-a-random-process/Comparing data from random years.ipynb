{
 "cells": [
  {
   "cell_type": "markdown",
   "metadata": {},
   "source": [
    "__Bring data from some random years and from random disciplines and see that the trend does not exist there__"
   ]
  },
  {
   "cell_type": "code",
   "execution_count": 7,
   "metadata": {},
   "outputs": [
    {
     "name": "stdout",
     "output_type": "stream",
     "text": [
      "The autoreload extension is already loaded. To reload it, use:\n",
      "  %reload_ext autoreload\n"
     ]
    }
   ],
   "source": [
    "%load_ext autoreload\n",
    "%autoreload 2\n",
    "%matplotlib inline"
   ]
  },
  {
   "cell_type": "code",
   "execution_count": 2,
   "metadata": {},
   "outputs": [
    {
     "name": "stderr",
     "output_type": "stream",
     "text": [
      "/usr/lib/python3.6/importlib/_bootstrap.py:219: RuntimeWarning: numpy.dtype size changed, may indicate binary incompatibility. Expected 96, got 88\n",
      "  return f(*args, **kwds)\n"
     ]
    }
   ],
   "source": [
    "import pandas as pd\n",
    "import numpy as np\n",
    "import operator\n",
    "\n",
    "import peakutils\n",
    "\n",
    "import string\n",
    "import nltk\n",
    "stopwords = nltk.corpus.stopwords.words('english')\n",
    "\n",
    "import operator\n",
    "from collections import Counter\n",
    "\n",
    "import scipy.stats\n",
    "from scipy.optimize import curve_fit\n",
    "from scipy.misc import factorial\n",
    "\n",
    "import pickle\n",
    "from sklearn.feature_extraction.text import CountVectorizer\n",
    "\n",
    "from statsmodels.discrete.discrete_model import NegativeBinomial, Poisson, Logit\n",
    "from scipy.stats import binom, nbinom\n",
    "\n",
    "import plotly\n",
    "import plotly.plotly as py\n",
    "from plotly import tools\n",
    "\n",
    "import plotly.graph_objs as go\n",
    "plotly.tools.set_credentials_file(username='sreejith_s', api_key='rcet0rTqFCc3WeOzWTjv')\n",
    "\n",
    "from unicodedata import category\n",
    "from tqdm import tqdm\n",
    "tqdm.pandas(desc=\"Progress\")\n",
    "\n",
    "import seaborn as sns\n",
    "sns.set_style('white')\n",
    "import matplotlib.pylab as plt"
   ]
  },
  {
   "cell_type": "code",
   "execution_count": 3,
   "metadata": {},
   "outputs": [],
   "source": [
    "filename = \"/mnt/disks/vault/analysis-data/interdisciplinary-novelty-analysis/corrected-entropy-analysis/word-journey-data.pql\"\n",
    "data_ = pd.read_pickle(filename)"
   ]
  },
  {
   "cell_type": "code",
   "execution_count": 4,
   "metadata": {},
   "outputs": [],
   "source": [
    "d1 = \"Biochemistry & Molecular Biology\"\n",
    "d2 = \"Pharmacology & Pharmacy\"\n",
    "d3 = \"Mathematics\""
   ]
  },
  {
   "cell_type": "code",
   "execution_count": 5,
   "metadata": {},
   "outputs": [],
   "source": [
    "inp1 = data_[data_.Label == d1]\n",
    "inp2 = data_[data_.Label == d2]\n",
    "inp3 = data_[data_.Label == d3]"
   ]
  },
  {
   "cell_type": "code",
   "execution_count": 6,
   "metadata": {},
   "outputs": [],
   "source": [
    "v1 = CountVectorizer()\n",
    "vw1 = v1.fit_transform(inp1.title_words)\n",
    "\n",
    "v2 = CountVectorizer()\n",
    "vw2 = v2.fit_transform(inp2.title_words)\n",
    "\n",
    "v3 = CountVectorizer()\n",
    "vw3 = v3.fit_transform(inp3.title_words)"
   ]
  },
  {
   "cell_type": "code",
   "execution_count": 9,
   "metadata": {},
   "outputs": [],
   "source": [
    "cm1 = vw1.toarray()\n",
    "\n",
    "unqs1 = []\n",
    "cnts1 = []\n",
    "\n",
    "for i in range(cm1.shape[0]):\n",
    "    unique_, counts_tmp = np.unique(cm1[i:i+1,:], return_counts=True)    \n",
    "    counts_ = list(map(np.log, counts_tmp))\n",
    "    unqs1.append(unique_)\n",
    "    cnts1.append(counts_)"
   ]
  },
  {
   "cell_type": "code",
   "execution_count": 12,
   "metadata": {},
   "outputs": [
    {
     "name": "stderr",
     "output_type": "stream",
     "text": [
      "\n",
      "\n",
      "  0%|          | 0/12 [00:00<?, ?it/s]\u001b[A\u001b[A\n",
      "\n",
      " 50%|█████     | 6/12 [00:00<00:00, 53.99it/s]\u001b[A\u001b[A\n",
      "\n",
      " 67%|██████▋   | 8/12 [00:00<00:00, 34.36it/s]\u001b[A\u001b[A\n",
      "\n",
      " 83%|████████▎ | 10/12 [00:00<00:00, 18.83it/s]\u001b[A\u001b[A\n",
      "\n",
      "100%|██████████| 12/12 [00:00<00:00, 12.82it/s]\u001b[A\u001b[A\n",
      "\n",
      "\u001b[A\u001b[A"
     ]
    }
   ],
   "source": [
    "yearly_word_frequency_variations1 = []\n",
    "avg_variations_for_freq1 = []\n",
    "\n",
    "for index in tqdm(range(0, cm1.shape[0] - 1, 10)):\n",
    "    \n",
    "    # take two consecutive years\n",
    "    tmp_ = cm1[index:index+2]\n",
    "    #unique counts for the first year\n",
    "    unique_counts = np.unique(tmp_[0]) \n",
    "    yearly_avg_variations_for_freq = {}\n",
    "    word_freq_variations = []\n",
    "    word_freq_variations.append(tmp_[1] - tmp_[0])\n",
    "    yearly_word_frequency_variations1.append(word_freq_variations)\n",
    "    \n",
    "    for uniq in unique_counts:\n",
    "        # find the indices where the value == uniq\n",
    "        indices, = np.where(tmp_[0] == uniq)\n",
    "        # find the values in the next year where those indices are\n",
    "        # variations of words with that `uniq` count\n",
    "        transition_values = tmp_[1][indices]\n",
    "        variations = transition_values - uniq\n",
    "        # mean variation of words with that `uniq` count\n",
    "        mean_variation = np.mean(variations)\n",
    "        # make a list of mean variations\n",
    "        yearly_avg_variations_for_freq[uniq] = round(mean_variation, 3)\n",
    "    \n",
    "    avg_variations_for_freq1.append(yearly_avg_variations_for_freq)"
   ]
  },
  {
   "cell_type": "code",
   "execution_count": 14,
   "metadata": {},
   "outputs": [
    {
     "data": {
      "text/plain": [
       "12"
      ]
     },
     "execution_count": 14,
     "metadata": {},
     "output_type": "execute_result"
    }
   ],
   "source": [
    "avg_variations_for_freq1"
   ]
  },
  {
   "cell_type": "code",
   "execution_count": 21,
   "metadata": {},
   "outputs": [
    {
     "name": "stdout",
     "output_type": "stream",
     "text": [
      "1022 words with 5 counts\n"
     ]
    },
    {
     "data": {
      "text/plain": [
       "<matplotlib.legend.Legend at 0x7f11bcb0ad30>"
      ]
     },
     "execution_count": 21,
     "metadata": {},
     "output_type": "execute_result"
    },
    {
     "data": {
      "image/png": "[encoded data removed]",
      "text/plain": [
       "<Figure size 720x504 with 1 Axes>"
      ]
     },
     "metadata": {
      "needs_background": "light"
     },
     "output_type": "display_data"
    }
   ],
   "source": [
    "K = 5\n",
    "f = plt.figure(figsize=(10,7))\n",
    "\n",
    "\n",
    "year = 2012\n",
    "N = 100\n",
    "\n",
    "freq_current1 = list(cm1[N:N+1,:][0])\n",
    "freq_next1 = list(cm1[N+10:N+12,:][0])\n",
    "indices1 = [i for i, x in enumerate(freq_current1) if x == K]\n",
    "print(str(len(indices1)) + \" words with \" + str(K) + \" counts\")\n",
    "change_in_values1 = [freq_next1[i] for i in indices1]\n",
    "variations1 = [j - K for j in change_in_values1]\n",
    "sum_ = sum(dict(Counter(variations1)).values())\n",
    "X1 = [x for x,y in dict(Counter(variations1)).items()]\n",
    "Y1 = [float(y)/sum_ for x,y in dict(Counter(variations1)).items()] \n",
    "\n",
    "\n",
    "ax = f.add_subplot(111)\n",
    "ax.scatter(X1, Y1, alpha=0.6, label=\"Molecular Biology\")\n",
    "ax.set_xticks(range(-5, 100, 10))\n",
    "ax.set_xlabel(\"Variation\")\n",
    "ax.set_ylabel(\"Probability\")\n",
    "ax.set_title(str(year) + \" Word Variations\")\n",
    "ax.legend()"
   ]
  },
  {
   "cell_type": "code",
   "execution_count": null,
   "metadata": {},
   "outputs": [],
   "source": []
  }
 ],
 "metadata": {
  "kernelspec": {
   "display_name": "Python 3",
   "language": "python",
   "name": "python3"
  },
  "language_info": {
   "codemirror_mode": {
    "name": "ipython",
    "version": 3
   },
   "file_extension": ".py",
   "mimetype": "text/x-python",
   "name": "python",
   "nbconvert_exporter": "python",
   "pygments_lexer": "ipython3",
   "version": "3.6.7"
  }
 },
 "nbformat": 4,
 "nbformat_minor": 2
}
