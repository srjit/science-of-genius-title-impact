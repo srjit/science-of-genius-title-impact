{
 "cells": [
  {
   "cell_type": "markdown",
   "metadata": {},
   "source": [
    "# import warnings\n",
    "warnings.filterwarnings('ignore')"
   ]
  },
  {
   "cell_type": "code",
   "execution_count": 2,
   "metadata": {},
   "outputs": [],
   "source": [
    "%load_ext autoreload\n",
    "%autoreload 2\n",
    "%matplotlib inline"
   ]
  },
  {
   "cell_type": "code",
   "execution_count": 3,
   "metadata": {},
   "outputs": [],
   "source": [
    "import sys\n",
    "sys.path.insert(0, \"../../code-previous\")"
   ]
  },
  {
   "cell_type": "code",
   "execution_count": 4,
   "metadata": {},
   "outputs": [],
   "source": [
    "import pandas as pd\n",
    "import numpy as np\n",
    "import operator\n",
    "\n",
    "import peakutils\n",
    "\n",
    "import string\n",
    "import nltk\n",
    "stopwords = nltk.corpus.stopwords.words('english')\n",
    "\n",
    "import operator\n",
    "\n",
    "\n",
    "import pickle\n",
    "from sklearn.feature_extraction.text import CountVectorizer\n",
    "\n",
    "import plotly\n",
    "import plotly.plotly as py\n",
    "from plotly import tools\n",
    "\n",
    "import plotly.graph_objs as go\n",
    "plotly.tools.set_credentials_file(username='sreejith_s', api_key='rcet0rTqFCc3WeOzWTjv')\n",
    "\n",
    "from unicodedata import category\n",
    "from tqdm import tqdm\n",
    "tqdm.pandas(desc=\"Progress\")\n",
    "\n",
    "import seaborn as sns\n",
    "sns.set_style('white')\n",
    "import matplotlib.pylab as plt"
   ]
  },
  {
   "cell_type": "code",
   "execution_count": 5,
   "metadata": {},
   "outputs": [],
   "source": [
    "filename = \"/mnt/disks/vault/analysis-data/interdisciplinary-novelty-analysis/corrected-entropy-analysis/word-journey-data.pql\"\n",
    "data_grouped_by_year_label = pd.read_pickle(filename)"
   ]
  },
  {
   "cell_type": "code",
   "execution_count": 6,
   "metadata": {},
   "outputs": [],
   "source": [
    "discipline = \"Astronomy & Astrophysics\""
   ]
  },
  {
   "cell_type": "code",
   "execution_count": 7,
   "metadata": {},
   "outputs": [],
   "source": [
    "input_ = data_grouped_by_year_label[data_grouped_by_year_label.Label == discipline]\n",
    "data_grouped_by_year_label = None"
   ]
  },
  {
   "cell_type": "code",
   "execution_count": 8,
   "metadata": {},
   "outputs": [
    {
     "data": {
      "text/html": [
       "<div>\n",
       "<style scoped>\n",
       "    .dataframe tbody tr th:only-of-type {\n",
       "        vertical-align: middle;\n",
       "    }\n",
       "\n",
       "    .dataframe tbody tr th {\n",
       "        vertical-align: top;\n",
       "    }\n",
       "\n",
       "    .dataframe thead th {\n",
       "        text-align: right;\n",
       "    }\n",
       "</style>\n",
       "<table border=\"1\" class=\"dataframe\">\n",
       "  <thead>\n",
       "    <tr style=\"text-align: right;\">\n",
       "      <th></th>\n",
       "      <th>index</th>\n",
       "      <th>Label</th>\n",
       "      <th>PubYear</th>\n",
       "      <th>title_without_stopwords</th>\n",
       "      <th>cleaned_titles</th>\n",
       "      <th>title_words_</th>\n",
       "      <th>title_words</th>\n",
       "    </tr>\n",
       "  </thead>\n",
       "  <tbody>\n",
       "    <tr>\n",
       "      <th>1212</th>\n",
       "      <td>1212</td>\n",
       "      <td>Astronomy &amp; Astrophysics</td>\n",
       "      <td>1900</td>\n",
       "      <td>[crossley reflector lick obsertvatory, crossle...</td>\n",
       "      <td>[calculation elliptic elements system cygni , ...</td>\n",
       "      <td>calculation elliptic elements system cygni  ph...</td>\n",
       "      <td>calculation elliptic elements system cygni phy...</td>\n",
       "    </tr>\n",
       "    <tr>\n",
       "      <th>1213</th>\n",
       "      <td>1213</td>\n",
       "      <td>Astronomy &amp; Astrophysics</td>\n",
       "      <td>1901</td>\n",
       "      <td>[accuracy photographic measures  second note ,...</td>\n",
       "      <td>[form interferometer , sixty four variable sta...</td>\n",
       "      <td>form interferometer  sixty four variable stars...</td>\n",
       "      <td>form interferometer sixty four variable stars ...</td>\n",
       "    </tr>\n",
       "    <tr>\n",
       "      <th>1214</th>\n",
       "      <td>1214</td>\n",
       "      <td>Astronomy &amp; Astrophysics</td>\n",
       "      <td>1902</td>\n",
       "      <td>[miscellaneous results , miscellaneous results...</td>\n",
       "      <td>[researches spectra metals  spectrum molybdenu...</td>\n",
       "      <td>researches spectra metals  spectrum molybdenum...</td>\n",
       "      <td>researches spectra metals spectrum molybdenum ...</td>\n",
       "    </tr>\n",
       "    <tr>\n",
       "      <th>1215</th>\n",
       "      <td>1215</td>\n",
       "      <td>Astronomy &amp; Astrophysics</td>\n",
       "      <td>1903</td>\n",
       "      <td>[cape double star results  1903 , cape double ...</td>\n",
       "      <td>[spectrographic observations standard velocity...</td>\n",
       "      <td>spectrographic observations standard velocity ...</td>\n",
       "      <td>spectrographic observations standard velocity ...</td>\n",
       "    </tr>\n",
       "    <tr>\n",
       "      <th>1216</th>\n",
       "      <td>1216</td>\n",
       "      <td>Astronomy &amp; Astrophysics</td>\n",
       "      <td>1904</td>\n",
       "      <td>[magnetic disturbances recorded royal observat...</td>\n",
       "      <td>[ninth satellite saturn , revised elements cyg...</td>\n",
       "      <td>ninth satellite saturn  revised elements cygni...</td>\n",
       "      <td>ninth satellite saturn revised elements cygni ...</td>\n",
       "    </tr>\n",
       "  </tbody>\n",
       "</table>\n",
       "</div>"
      ],
      "text/plain": [
       "      index                     Label  PubYear  \\\n",
       "1212   1212  Astronomy & Astrophysics     1900   \n",
       "1213   1213  Astronomy & Astrophysics     1901   \n",
       "1214   1214  Astronomy & Astrophysics     1902   \n",
       "1215   1215  Astronomy & Astrophysics     1903   \n",
       "1216   1216  Astronomy & Astrophysics     1904   \n",
       "\n",
       "                                title_without_stopwords  \\\n",
       "1212  [crossley reflector lick obsertvatory, crossle...   \n",
       "1213  [accuracy photographic measures  second note ,...   \n",
       "1214  [miscellaneous results , miscellaneous results...   \n",
       "1215  [cape double star results  1903 , cape double ...   \n",
       "1216  [magnetic disturbances recorded royal observat...   \n",
       "\n",
       "                                         cleaned_titles  \\\n",
       "1212  [calculation elliptic elements system cygni , ...   \n",
       "1213  [form interferometer , sixty four variable sta...   \n",
       "1214  [researches spectra metals  spectrum molybdenu...   \n",
       "1215  [spectrographic observations standard velocity...   \n",
       "1216  [ninth satellite saturn , revised elements cyg...   \n",
       "\n",
       "                                           title_words_  \\\n",
       "1212  calculation elliptic elements system cygni  ph...   \n",
       "1213  form interferometer  sixty four variable stars...   \n",
       "1214  researches spectra metals  spectrum molybdenum...   \n",
       "1215  spectrographic observations standard velocity ...   \n",
       "1216  ninth satellite saturn  revised elements cygni...   \n",
       "\n",
       "                                            title_words  \n",
       "1212  calculation elliptic elements system cygni phy...  \n",
       "1213  form interferometer sixty four variable stars ...  \n",
       "1214  researches spectra metals spectrum molybdenum ...  \n",
       "1215  spectrographic observations standard velocity ...  \n",
       "1216  ninth satellite saturn revised elements cygni ...  "
      ]
     },
     "execution_count": 8,
     "metadata": {},
     "output_type": "execute_result"
    }
   ],
   "source": [
    "input_.head()"
   ]
  },
  {
   "cell_type": "code",
   "execution_count": 9,
   "metadata": {},
   "outputs": [],
   "source": [
    "vectorizer = CountVectorizer()\n",
    "vectorized_words = vectorizer.fit_transform(input_.title_words)"
   ]
  },
  {
   "cell_type": "code",
   "execution_count": 10,
   "metadata": {},
   "outputs": [],
   "source": [
    "count_vocab = {value:key for key,value in vectorizer.vocabulary_.items()}\n",
    "count_rev_dict = {value:key for key,value in vectorizer.vocabulary_.items()}\n",
    "words = [count_rev_dict[i] for i in range(len(vectorizer.vocabulary_.keys()))]"
   ]
  },
  {
   "cell_type": "code",
   "execution_count": 11,
   "metadata": {},
   "outputs": [],
   "source": [
    "vectorized_wordarray = vectorized_words.toarray()\n",
    "document_frequency = (vectorized_wordarray != 0).sum(0).tolist()\n",
    "document_frequency_log =  [np.log(x) for x in document_frequency]\n",
    "#2. Term Frequency - Number of times in which a word appears in a document\n",
    "term_frequency = vectorized_words.sum(axis=0).reshape(-1,).tolist()[0]\n",
    "term_frequency_log = [np.log(x) for x in term_frequency]"
   ]
  },
  {
   "cell_type": "code",
   "execution_count": 12,
   "metadata": {},
   "outputs": [
    {
     "data": {
      "text/plain": [
       "(117, 47379)"
      ]
     },
     "execution_count": 12,
     "metadata": {},
     "output_type": "execute_result"
    }
   ],
   "source": [
    "vectorized_wordarray.shape"
   ]
  },
  {
   "cell_type": "code",
   "execution_count": 13,
   "metadata": {},
   "outputs": [
    {
     "name": "stderr",
     "output_type": "stream",
     "text": [
      "Progress: 100%|██████████| 117/117 [00:00<00:00, 56568.71it/s]\n",
      "Progress: 100%|██████████| 117/117 [00:00<00:00, 391.43it/s]\n"
     ]
    }
   ],
   "source": [
    "input_[\"number_of_pubs\"] = input_[\"title_without_stopwords\"].progress_apply(lambda x: len(x))\n",
    "input_[\"word_count\"] = input_[\"title_words\"].progress_apply(lambda x: len(x.split()))"
   ]
  },
  {
   "cell_type": "code",
   "execution_count": 14,
   "metadata": {},
   "outputs": [],
   "source": [
    "count_matrix = vectorized_words.toarray()\n",
    "\n",
    "uniques = []\n",
    "counts = []\n",
    "\n",
    "for i in range(count_matrix.shape[0]):\n",
    "    unique_, counts_tmp = np.unique(count_matrix[i:i+1,:], return_counts=True)    \n",
    "    counts_ = list(map(np.log, counts_tmp))\n",
    "    uniques.append(unique_)\n",
    "    counts.append(counts_)"
   ]
  },
  {
   "cell_type": "markdown",
   "metadata": {},
   "source": [
    "__Frequency Variations:__ Words which have a frequency of 20 in year Y<sub>t</sub>. How much do they normally vary in years Y<sub>t+1</sub>, t<sub>t+2</sub> etc. "
   ]
  },
  {
   "cell_type": "code",
   "execution_count": 15,
   "metadata": {},
   "outputs": [
    {
     "name": "stderr",
     "output_type": "stream",
     "text": [
      "100%|██████████| 116/116 [00:00<00:00, 186.27it/s]\n"
     ]
    }
   ],
   "source": [
    "yearly_word_frequency_variations = []\n",
    "avg_variations_for_freq = []\n",
    "\n",
    "for index in tqdm(range(vectorized_wordarray.shape[0] - 1)):\n",
    "    \n",
    "    # take two consecutive years\n",
    "    tmp_ = vectorized_wordarray[index:index+2]\n",
    "    \n",
    "    #unique counts for the first year\n",
    "    unique_counts = np.unique(tmp_[0]) \n",
    "    \n",
    "    yearly_avg_variations_for_freq = {}\n",
    "    word_freq_variations = []\n",
    "    \n",
    "    word_freq_variations.append(tmp_[1] - tmp_[0])\n",
    "    \n",
    "    yearly_word_frequency_variations.append(word_freq_variations)\n",
    "    \n",
    "    for uniq in unique_counts:\n",
    "        # find the indices where the value == uniq\n",
    "        indices, = np.where(tmp_[0] == uniq)\n",
    "        \n",
    "        # find the values in the next year where those indices are\n",
    "        # variations of words with that `uniq` count\n",
    "        transition_values = tmp_[1][indices]\n",
    "        variations = transition_values - uniq\n",
    "        \n",
    "#         if index == 49 and uniq == 12:\n",
    "#             import ipdb\n",
    "#             ipdb.set_trace()\n",
    "        \n",
    "        # mean variation of words with that `uniq` count\n",
    "        mean_variation = np.mean(variations)\n",
    "        \n",
    "        # make a list of mean variations\n",
    "        yearly_avg_variations_for_freq[uniq] = round(mean_variation, 3)\n",
    "    \n",
    "    avg_variations_for_freq.append(yearly_avg_variations_for_freq)"
   ]
  },
  {
   "cell_type": "code",
   "execution_count": 16,
   "metadata": {},
   "outputs": [
    {
     "data": {
      "text/plain": [
       "116"
      ]
     },
     "execution_count": 16,
     "metadata": {},
     "output_type": "execute_result"
    }
   ],
   "source": [
    "len(yearly_word_frequency_variations)"
   ]
  },
  {
   "cell_type": "markdown",
   "metadata": {},
   "source": [
    "__Word Frequency Variations Plot | Year__"
   ]
  },
  {
   "cell_type": "markdown",
   "metadata": {},
   "source": [
    "__Year:__ 2011"
   ]
  },
  {
   "cell_type": "code",
   "execution_count": 17,
   "metadata": {},
   "outputs": [
    {
     "name": "stderr",
     "output_type": "stream",
     "text": [
      "No handles with labels found to put in legend.\n"
     ]
    },
    {
     "data": {
      "text/plain": [
       "<matplotlib.legend.Legend at 0x7efb7c0a87b8>"
      ]
     },
     "execution_count": 17,
     "metadata": {},
     "output_type": "execute_result"
    },
    {
     "data": {
      "image/png": "[encoded data removed]",
      "text/plain": [
       "<Figure size 720x360 with 1 Axes>"
      ]
     },
     "metadata": {},
     "output_type": "display_data"
    }
   ],
   "source": [
    "year = 2011\n",
    "\n",
    "N = 110\n",
    "K = 10\n",
    "\n",
    "freq50 = list(vectorized_wordarray[N:N+1,:][0])\n",
    "freq51 = list(vectorized_wordarray[N+1:N+2,:][0])\n",
    "\n",
    "indices = [i for i, x in enumerate(freq50) if x == K]\n",
    "change_in_values = [freq51[i] for i in indices]\n",
    "\n",
    "variations = [j - K for j in change_in_values]\n",
    "\n",
    "\n",
    "from collections import Counter\n",
    "\n",
    "X = [x for x,y in dict(Counter(variations)).items()]\n",
    "Y = [y for x,y in dict(Counter(variations)).items()]  \n",
    "\n",
    "\n",
    "\n",
    "f = plt.figure(figsize=(10,5))\n",
    "\n",
    "ax = f.add_subplot(111)\n",
    "\n",
    "ax.scatter(X, Y)\n",
    "ax.set_xlabel(\"Variation\")\n",
    "ax.set_ylabel(\"Probability\")\n",
    "ax.set_title(str(year) + \" - Word Variations in \" + discipline)\n",
    "ax.legend()"
   ]
  },
  {
   "cell_type": "code",
   "execution_count": 25,
   "metadata": {},
   "outputs": [
    {
     "data": {
      "text/plain": [
       "47379"
      ]
     },
     "execution_count": 25,
     "metadata": {},
     "output_type": "execute_result"
    }
   ],
   "source": [
    "len(freq50)"
   ]
  },
  {
   "cell_type": "code",
   "execution_count": 31,
   "metadata": {},
   "outputs": [
    {
     "name": "stderr",
     "output_type": "stream",
     "text": [
      "No handles with labels found to put in legend.\n"
     ]
    },
    {
     "data": {
      "text/plain": [
       "<matplotlib.legend.Legend at 0x7ff722b5ec50>"
      ]
     },
     "execution_count": 31,
     "metadata": {},
     "output_type": "execute_result"
    },
    {
     "data": {
      "image/png": "[encoded data removed]",
      "text/plain": [
       "<Figure size 720x360 with 1 Axes>"
      ]
     },
     "metadata": {},
     "output_type": "display_data"
    }
   ],
   "source": [
    "year = 2012\n",
    "\n",
    "N = 111\n",
    "K = 10\n",
    "\n",
    "freq50 = list(vectorized_wordarray[N:N+1,:][0])\n",
    "freq51 = list(vectorized_wordarray[N+1:N+2,:][0])\n",
    "\n",
    "indices = [i for i, x in enumerate(freq50) if x == K]\n",
    "change_in_values = [freq51[i] for i in indices]\n",
    "\n",
    "variations = [j - K for j in change_in_values]\n",
    "\n",
    "sum_ = sum(dict(Counter(variations)).values())\n",
    "\n",
    "from collections import Counter\n",
    "\n",
    "X = [x for x,y in dict(Counter(variations)).items()]\n",
    "Y = [float(y)/sum_ for x,y in dict(Counter(variations)).items()]  \n",
    "\n",
    "\n",
    "\n",
    "f = plt.figure(figsize=(10,5))\n",
    "\n",
    "ax = f.add_subplot(111)\n",
    "\n",
    "ax.scatter(X, Y)\n",
    "ax.set_xlabel(\"Variation\")\n",
    "ax.set_ylabel(\"Probability\")\n",
    "ax.set_title(str(year) + \" - Word Variations in \" + discipline)\n",
    "ax.legend()"
   ]
  },
  {
   "cell_type": "code",
   "execution_count": 29,
   "metadata": {},
   "outputs": [
    {
     "data": {
      "text/plain": [
       "dict_values([12, 15, 9, 1, 6, 10, 13, 3, 8, 9, 8, 2, 5, 2, 1, 11, 7, 3, 5, 2, 2, 1, 1, 1])"
      ]
     },
     "execution_count": 29,
     "metadata": {},
     "output_type": "execute_result"
    }
   ],
   "source": [
    "counts_ = dict(Counter(variations)).values()\n",
    "counts_"
   ]
  },
  {
   "cell_type": "code",
   "execution_count": 27,
   "metadata": {},
   "outputs": [
    {
     "data": {
      "text/plain": [
       "137"
      ]
     },
     "execution_count": 27,
     "metadata": {},
     "output_type": "execute_result"
    }
   ],
   "source": [
    "len(indices)"
   ]
  },
  {
   "cell_type": "code",
   "execution_count": 32,
   "metadata": {},
   "outputs": [
    {
     "name": "stderr",
     "output_type": "stream",
     "text": [
      "No handles with labels found to put in legend.\n"
     ]
    },
    {
     "data": {
      "text/plain": [
       "<matplotlib.legend.Legend at 0x7ff722b3d0b8>"
      ]
     },
     "execution_count": 32,
     "metadata": {},
     "output_type": "execute_result"
    },
    {
     "data": {
      "image/png": "[encoded data removed]",
      "text/plain": [
       "<Figure size 720x360 with 1 Axes>"
      ]
     },
     "metadata": {},
     "output_type": "display_data"
    }
   ],
   "source": [
    "year = 2013\n",
    "\n",
    "N = 112\n",
    "K = 10\n",
    "\n",
    "freq50 = list(vectorized_wordarray[N:N+1,:][0])\n",
    "freq51 = list(vectorized_wordarray[N+1:N+2,:][0])\n",
    "\n",
    "indices = [i for i, x in enumerate(freq50) if x == K]\n",
    "change_in_values = [freq51[i] for i in indices]\n",
    "\n",
    "variations = [j - K for j in change_in_values]\n",
    "\n",
    "sum_ = sum(dict(Counter(variations)).values())\n",
    "\n",
    "from collections import Counter\n",
    "\n",
    "X = [x for x,y in dict(Counter(variations)).items()]\n",
    "Y = [float(y)/sum_ for x,y in dict(Counter(variations)).items()]  \n",
    "\n",
    "\n",
    "f = plt.figure(figsize=(10,5))\n",
    "\n",
    "ax = f.add_subplot(111)\n",
    "\n",
    "ax.scatter(X, Y)\n",
    "ax.set_xlabel(\"Variation\")\n",
    "ax.set_ylabel(\"Probability\")\n",
    "ax.set_title(str(year) + \" - Word Variations in \" + discipline)\n",
    "ax.legend()"
   ]
  },
  {
   "cell_type": "code",
   "execution_count": 33,
   "metadata": {},
   "outputs": [
    {
     "name": "stderr",
     "output_type": "stream",
     "text": [
      "No handles with labels found to put in legend.\n"
     ]
    },
    {
     "data": {
      "text/plain": [
       "<matplotlib.legend.Legend at 0x7ff722ba4978>"
      ]
     },
     "execution_count": 33,
     "metadata": {},
     "output_type": "execute_result"
    },
    {
     "data": {
      "image/png": "[encoded data removed]",
      "text/plain": [
       "<Figure size 720x360 with 1 Axes>"
      ]
     },
     "metadata": {},
     "output_type": "display_data"
    }
   ],
   "source": [
    "year = 2014\n",
    "\n",
    "N = 113\n",
    "K = 10\n",
    "\n",
    "freq50 = list(vectorized_wordarray[N:N+1,:][0])\n",
    "freq51 = list(vectorized_wordarray[N+1:N+2,:][0])\n",
    "\n",
    "indices = [i for i, x in enumerate(freq50) if x == K]\n",
    "change_in_values = [freq51[i] for i in indices]\n",
    "\n",
    "\n",
    "variations = [j - K for j in change_in_values]\n",
    "\n",
    "sum_ = sum(dict(Counter(variations)).values())\n",
    "\n",
    "from collections import Counter\n",
    "\n",
    "X = [x for x,y in dict(Counter(variations)).items()]\n",
    "Y = [float(y)/sum_ for x,y in dict(Counter(variations)).items()]  \n",
    "\n",
    "\n",
    "\n",
    "f = plt.figure(figsize=(10,5))\n",
    "\n",
    "ax = f.add_subplot(111)\n",
    "\n",
    "ax.scatter(X, Y)\n",
    "ax.set_xlabel(\"Variation\")\n",
    "ax.set_ylabel(\"Probability\")\n",
    "ax.set_title(str(year) + \" - Word Variations in \" + discipline)\n",
    "ax.legend()"
   ]
  },
  {
   "cell_type": "code",
   "execution_count": 34,
   "metadata": {},
   "outputs": [
    {
     "name": "stderr",
     "output_type": "stream",
     "text": [
      "No handles with labels found to put in legend.\n"
     ]
    },
    {
     "data": {
      "text/plain": [
       "<matplotlib.legend.Legend at 0x7ff722d80e10>"
      ]
     },
     "execution_count": 34,
     "metadata": {},
     "output_type": "execute_result"
    },
    {
     "data": {
      "image/png": "[encoded data removed]",
      "text/plain": [
       "<Figure size 720x360 with 1 Axes>"
      ]
     },
     "metadata": {},
     "output_type": "display_data"
    }
   ],
   "source": [
    "year = 2015\n",
    "\n",
    "N = 114\n",
    "K = 10\n",
    "\n",
    "freq50 = list(vectorized_wordarray[N:N+1,:][0])\n",
    "freq51 = list(vectorized_wordarray[N+1:N+2,:][0])\n",
    "\n",
    "indices = [i for i, x in enumerate(freq50) if x == K]\n",
    "change_in_values = [freq51[i] for i in indices]\n",
    "\n",
    "variations = [j - K for j in change_in_values]\n",
    "\n",
    "sum_ = sum(dict(Counter(variations)).values())\n",
    "\n",
    "from collections import Counter\n",
    "\n",
    "X = [x for x,y in dict(Counter(variations)).items()]\n",
    "Y = [float(y)/sum_ for x,y in dict(Counter(variations)).items()]  \n",
    "\n",
    "\n",
    "\n",
    "f = plt.figure(figsize=(10,5))\n",
    "\n",
    "ax = f.add_subplot(111)\n",
    "\n",
    "ax.scatter(X, Y)\n",
    "ax.set_xlabel(\"Variation\")\n",
    "ax.set_ylabel(\"Probability\")\n",
    "ax.set_title(str(year) + \" - Word Variations in \" + discipline)\n",
    "ax.legend()"
   ]
  },
  {
   "cell_type": "code",
   "execution_count": null,
   "metadata": {},
   "outputs": [],
   "source": []
  }
 ],
 "metadata": {
  "kernelspec": {
   "display_name": "Python 3",
   "language": "python",
   "name": "python3"
  },
  "language_info": {
   "codemirror_mode": {
    "name": "ipython",
    "version": 3
   },
   "file_extension": ".py",
   "mimetype": "text/x-python",
   "name": "python",
   "nbconvert_exporter": "python",
   "pygments_lexer": "ipython3",
   "version": "3.6.7"
  }
 },
 "nbformat": 4,
 "nbformat_minor": 2
}
