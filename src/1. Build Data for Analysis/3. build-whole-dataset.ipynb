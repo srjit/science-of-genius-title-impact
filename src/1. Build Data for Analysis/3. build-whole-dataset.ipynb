{
 "cells": [
  {
   "cell_type": "markdown",
   "metadata": {},
   "source": [
    "## Merge articles, categories and citation"
   ]
  },
  {
   "cell_type": "markdown",
   "metadata": {},
   "source": [
    "%load_ext autoreload\n",
    "%autoreload 2\n",
    "%matplotlib inline"
   ]
  },
  {
   "cell_type": "code",
   "execution_count": 2,
   "metadata": {},
   "outputs": [],
   "source": [
    "import sys\n",
    "sys.path.insert(0, \"../../code-previous\")\n",
    "sys.path.insert(0, \"../\")"
   ]
  },
  {
   "cell_type": "code",
   "execution_count": 3,
   "metadata": {},
   "outputs": [
    {
     "name": "stderr",
     "output_type": "stream",
     "text": [
      "/usr/lib/python3.6/importlib/_bootstrap.py:219: RuntimeWarning: numpy.dtype size changed, may indicate binary incompatibility. Expected 96, got 88\n",
      "  return f(*args, **kwds)\n"
     ]
    }
   ],
   "source": [
    "import pandas as pd\n",
    "import numpy as np\n",
    "import networkx as nx\n",
    "import sklearn.feature_extraction as skfeatures\n",
    "import utils\n",
    "import time\n",
    "import os\n",
    "\n",
    "from unicodedata import category\n",
    "from tqdm import tqdm\n",
    "#from tqdm import tqdm_notebook as tqdm\n",
    "tqdm.pandas(desc=\"Progress\")\n",
    "\n",
    "import seaborn as sns\n",
    "sns.set_style('white')\n",
    "import matplotlib.pylab as plt\n",
    "\n",
    "import WOSutilities as wosutil\n",
    "\n",
    "path2rawdata = '/mnt/disks/vault/wos2017-parsed/'"
   ]
  },
  {
   "cell_type": "code",
   "execution_count": 4,
   "metadata": {},
   "outputs": [],
   "source": [
    "impact_df_path = \"/mnt/disks/vault/analysis-data/impact-c5-data/impact_data_until_2010.pql\"\n",
    " "
   ]
  },
  {
   "cell_type": "code",
   "execution_count": 5,
   "metadata": {},
   "outputs": [],
   "source": [
    "article_category_df_path = \"/mnt/disks/vault/analysis-data/applied_physics_article_categories/articles_and_categories_applied_physics.pql\"\n",
    "article_df = pd.read_pickle(article_category_df_path)"
   ]
  },
  {
   "cell_type": "code",
   "execution_count": 8,
   "metadata": {},
   "outputs": [
    {
     "name": "stdout",
     "output_type": "stream",
     "text": [
      "ArticleID                   1031701\n",
      "Type                        1031701\n",
      "Label                       1031701\n",
      "PubYear                     1031701\n",
      "Doctypes                    1031701\n",
      "Title                       1031701\n",
      "Journal                     1031701\n",
      "Journal Abbreviation ISO    1031701\n",
      "dtype: int64\n",
      "ArticleID    42408481\n",
      "PubYear      42408481\n",
      "c5           42408481\n",
      "dtype: int64\n"
     ]
    }
   ],
   "source": [
    "print(article_df.count())\n",
    "print(impact_df.count())"
   ]
  },
  {
   "cell_type": "code",
   "execution_count": 9,
   "metadata": {},
   "outputs": [],
   "source": [
    "# we don't need all the articles, but just the ones until 2010\n",
    "article_df = article_df[article_df.PubYear < 2011]"
   ]
  },
  {
   "cell_type": "code",
   "execution_count": 13,
   "metadata": {},
   "outputs": [
    {
     "data": {
      "text/plain": [
       "ArticleID                   738469\n",
       "Type                        738469\n",
       "Label                       738469\n",
       "PubYear                     738469\n",
       "Doctypes                    738469\n",
       "Title                       738469\n",
       "Journal                     738469\n",
       "Journal Abbreviation ISO    738469\n",
       "dtype: int64"
      ]
     },
     "execution_count": 13,
     "metadata": {},
     "output_type": "execute_result"
    }
   ],
   "source": [
    "article_df.count()"
   ]
  },
  {
   "cell_type": "code",
   "execution_count": 14,
   "metadata": {},
   "outputs": [],
   "source": [
    "#joining them to construct the final dataset\n",
    "data = None\n",
    "data = article_df.merge(impact_df, \n",
    "                        how = 'inner',\n",
    "                        on = 'ArticleID')"
   ]
  },
  {
   "cell_type": "code",
   "execution_count": 16,
   "metadata": {},
   "outputs": [
    {
     "name": "stdout",
     "output_type": "stream",
     "text": [
      "738469\n"
     ]
    }
   ],
   "source": [
    "print(len(data))"
   ]
  },
  {
   "cell_type": "code",
   "execution_count": 17,
   "metadata": {},
   "outputs": [
    {
     "data": {
      "text/html": [
       "<div>\n",
       "<style scoped>\n",
       "    .dataframe tbody tr th:only-of-type {\n",
       "        vertical-align: middle;\n",
       "    }\n",
       "\n",
       "    .dataframe tbody tr th {\n",
       "        vertical-align: top;\n",
       "    }\n",
       "\n",
       "    .dataframe thead th {\n",
       "        text-align: right;\n",
       "    }\n",
       "</style>\n",
       "<table border=\"1\" class=\"dataframe\">\n",
       "  <thead>\n",
       "    <tr style=\"text-align: right;\">\n",
       "      <th></th>\n",
       "      <th>ArticleID</th>\n",
       "      <th>Type</th>\n",
       "      <th>Label</th>\n",
       "      <th>PubYear_x</th>\n",
       "      <th>Doctypes</th>\n",
       "      <th>Title</th>\n",
       "      <th>Journal</th>\n",
       "      <th>Journal Abbreviation ISO</th>\n",
       "      <th>PubYear_y</th>\n",
       "      <th>c5</th>\n",
       "    </tr>\n",
       "  </thead>\n",
       "  <tbody>\n",
       "    <tr>\n",
       "      <th>0</th>\n",
       "      <td>A1981LJ96300019</td>\n",
       "      <td>ASCA traditional subject</td>\n",
       "      <td>Physics, Applied</td>\n",
       "      <td>1981</td>\n",
       "      <td>Article</td>\n",
       "      <td>SURFACE COMPOSITIONAL MODIFICATIONS DURING O-2...</td>\n",
       "      <td>APPLIED PHYSICS LETTERS</td>\n",
       "      <td>Appl. Phys. Lett.</td>\n",
       "      <td>1981</td>\n",
       "      <td>6.0</td>\n",
       "    </tr>\n",
       "    <tr>\n",
       "      <th>1</th>\n",
       "      <td>A1981MM58300017</td>\n",
       "      <td>ASCA traditional subject</td>\n",
       "      <td>Physics, Applied</td>\n",
       "      <td>1981</td>\n",
       "      <td>Article</td>\n",
       "      <td>ELECTRON-PHONON INTERACTION AND DEVIATIONS FRO...</td>\n",
       "      <td>JOURNAL OF PHYSICS F-METAL PHYSICS</td>\n",
       "      <td></td>\n",
       "      <td>1981</td>\n",
       "      <td>0.0</td>\n",
       "    </tr>\n",
       "    <tr>\n",
       "      <th>2</th>\n",
       "      <td>A1981LV54600009</td>\n",
       "      <td>ASCA traditional subject</td>\n",
       "      <td>Physics, Applied</td>\n",
       "      <td>1981</td>\n",
       "      <td>Article</td>\n",
       "      <td>EXPLOSIVE GENERATION OF ELECTROMAGNETIC-RADIAT...</td>\n",
       "      <td>ZHURNAL TEKHNICHESKOI FIZIKI</td>\n",
       "      <td>Zhurnal Tek. Fiz.</td>\n",
       "      <td>1981</td>\n",
       "      <td>0.0</td>\n",
       "    </tr>\n",
       "    <tr>\n",
       "      <th>3</th>\n",
       "      <td>A1981LX06200023</td>\n",
       "      <td>ASCA traditional subject</td>\n",
       "      <td>Physics, Applied</td>\n",
       "      <td>1981</td>\n",
       "      <td>Article</td>\n",
       "      <td>PIEZOELECTRIC ZNO TRANSDUCERS PRODUCED BY R.F....</td>\n",
       "      <td>THIN SOLID FILMS</td>\n",
       "      <td>Thin Solid Films</td>\n",
       "      <td>1981</td>\n",
       "      <td>7.0</td>\n",
       "    </tr>\n",
       "    <tr>\n",
       "      <th>4</th>\n",
       "      <td>A1981LG93900006</td>\n",
       "      <td>ASCA traditional subject</td>\n",
       "      <td>Physics, Applied</td>\n",
       "      <td>1981</td>\n",
       "      <td>Article</td>\n",
       "      <td>A MODEL FOR INHOMOGENEOUS CONDUCTION IN ANISOT...</td>\n",
       "      <td>JOURNAL OF PHYSICS F-METAL PHYSICS</td>\n",
       "      <td></td>\n",
       "      <td>1981</td>\n",
       "      <td>3.0</td>\n",
       "    </tr>\n",
       "  </tbody>\n",
       "</table>\n",
       "</div>"
      ],
      "text/plain": [
       "         ArticleID                      Type             Label  PubYear_x  \\\n",
       "0  A1981LJ96300019  ASCA traditional subject  Physics, Applied       1981   \n",
       "1  A1981MM58300017  ASCA traditional subject  Physics, Applied       1981   \n",
       "2  A1981LV54600009  ASCA traditional subject  Physics, Applied       1981   \n",
       "3  A1981LX06200023  ASCA traditional subject  Physics, Applied       1981   \n",
       "4  A1981LG93900006  ASCA traditional subject  Physics, Applied       1981   \n",
       "\n",
       "  Doctypes                                              Title  \\\n",
       "0  Article  SURFACE COMPOSITIONAL MODIFICATIONS DURING O-2...   \n",
       "1  Article  ELECTRON-PHONON INTERACTION AND DEVIATIONS FRO...   \n",
       "2  Article  EXPLOSIVE GENERATION OF ELECTROMAGNETIC-RADIAT...   \n",
       "3  Article  PIEZOELECTRIC ZNO TRANSDUCERS PRODUCED BY R.F....   \n",
       "4  Article  A MODEL FOR INHOMOGENEOUS CONDUCTION IN ANISOT...   \n",
       "\n",
       "                              Journal Journal Abbreviation ISO  PubYear_y   c5  \n",
       "0             APPLIED PHYSICS LETTERS        Appl. Phys. Lett.       1981  6.0  \n",
       "1  JOURNAL OF PHYSICS F-METAL PHYSICS                                1981  0.0  \n",
       "2        ZHURNAL TEKHNICHESKOI FIZIKI        Zhurnal Tek. Fiz.       1981  0.0  \n",
       "3                    THIN SOLID FILMS         Thin Solid Films       1981  7.0  \n",
       "4  JOURNAL OF PHYSICS F-METAL PHYSICS                                1981  3.0  "
      ]
     },
     "execution_count": 17,
     "metadata": {},
     "output_type": "execute_result"
    }
   ],
   "source": [
    "data.head(5)"
   ]
  },
  {
   "cell_type": "code",
   "execution_count": null,
   "metadata": {},
   "outputs": [],
   "source": [
    "# This looks okay !! :) Let's save this!\n",
    "\n",
    "impact_df.to_pickle(\"/mnt/disks/vault/analysis-data/impact-c5-data/impact_data_until_2010.pql\")"
   ]
  }
 ],
 "metadata": {
  "kernelspec": {
   "display_name": "Python 3",
   "language": "python",
   "name": "python3"
  },
  "language_info": {
   "codemirror_mode": {
    "name": "ipython",
    "version": 3
   },
   "file_extension": ".py",
   "mimetype": "text/x-python",
   "name": "python",
   "nbconvert_exporter": "python",
   "pygments_lexer": "ipython3",
   "version": "3.6.7"
  }
 },
 "nbformat": 4,
 "nbformat_minor": 2
}
