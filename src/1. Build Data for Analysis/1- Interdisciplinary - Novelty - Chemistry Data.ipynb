{
 "cells": [
  {
   "cell_type": "markdown",
   "metadata": {},
   "source": [
    "## Bring chemistry article data | citation data etc."
   ]
  },
  {
   "cell_type": "code",
   "execution_count": 1,
   "metadata": {},
   "outputs": [],
   "source": [
    "%load_ext autoreload\n",
    "%autoreload 2\n",
    "%matplotlib inline"
   ]
  },
  {
   "cell_type": "code",
   "execution_count": 2,
   "metadata": {},
   "outputs": [],
   "source": [
    "import sys\n",
    "sys.path.insert(0, \"../../code-previous\")"
   ]
  },
  {
   "cell_type": "code",
   "execution_count": 3,
   "metadata": {},
   "outputs": [
    {
     "name": "stderr",
     "output_type": "stream",
     "text": [
      "/usr/lib/python3.6/importlib/_bootstrap.py:219: RuntimeWarning: numpy.dtype size changed, may indicate binary incompatibility. Expected 96, got 88\n",
      "  return f(*args, **kwds)\n"
     ]
    }
   ],
   "source": [
    "import pandas as pd\n",
    "import numpy as np\n",
    "import networkx as nx\n",
    "import sklearn.feature_extraction as skfeatures\n",
    "import time\n",
    "import os\n",
    "\n",
    "from unicodedata import category\n",
    "from tqdm import tqdm\n",
    "tqdm.pandas(desc=\"Progress\")\n",
    "\n",
    "import seaborn as sns\n",
    "sns.set_style('white')\n",
    "import matplotlib.pylab as plt\n",
    "\n",
    "import WOSutilities as wosutil\n",
    "\n",
    "path2rawdata = '/mnt/disks/vault/wos2017-parsed/'"
   ]
  },
  {
   "cell_type": "code",
   "execution_count": 4,
   "metadata": {},
   "outputs": [],
   "source": [
    "# we need to load articles and categories\n",
    "# article_df = wosutil.load_wos_data(name = 'article', \n",
    "#                                    path2rawdata = path2rawdata,\n",
    "#                                    year_list = None, \n",
    "#                                    columns = ['ArticleID', 'PubYear', 'Doctypes', 'Title','Journal', 'Journal Abbreviation ISO'], \n",
    "#                                    dropna = ['ArticleID', 'PubYear','Title'], \n",
    "#                                    duplicate_subset = ['ArticleID'],\n",
    "#                                    isindict = {'Doctypes':np.sort(['Article','Letter','Review','Note'])}, \n",
    "#                                    verbose = 50)\n",
    "\n",
    "\n",
    "article_df_path = \"/mnt/disks/vault/analysis-data/interdisciplinary-novelty-analysis/articles.pql\"\n",
    "article_df = pd.read_pickle(article_df_path)"
   ]
  },
  {
   "cell_type": "code",
   "execution_count": 5,
   "metadata": {},
   "outputs": [],
   "source": [
    "# article_df.to_pickle(\"/mnt/disks/vault/analysis-data/interdisciplinary-novelty-analysis/articles.pql\")"
   ]
  },
  {
   "cell_type": "code",
   "execution_count": 6,
   "metadata": {},
   "outputs": [],
   "source": [
    "# select all categories for all the aricles published\n",
    "# \n",
    "\n",
    "# category_list2 = np.array(['Physics, Multidisciplinary','Physics, Condensed Matter','Physics, Nuclear','Physics, Particles & Fields','Physics, Mathematical'])\n",
    "# category_list3 = np.array(['Chemistry, Applied','Chemistry, Inorganic & Nuclear','Chemistry, Organic','Chemistry, Physical'])\n",
    "# category_list4 = np.array(['Biophysics','Biochemistry & Molecular Biology',\n",
    "#                            'Biochemical Research Methods'])"
   ]
  },
  {
   "cell_type": "code",
   "execution_count": null,
   "metadata": {},
   "outputs": [
    {
     "name": "stdout",
     "output_type": "stream",
     "text": [
      "100\n",
      "200\n",
      "300\n",
      "400\n"
     ]
    }
   ],
   "source": [
    "category_list1 = np.array(['Physics, Applied'])\n",
    "category_df1 = wosutil.load_wos_data(name = 'category', \n",
    "                                    path2rawdata = path2rawdata,\n",
    "                                    year_list = None,\n",
    "                                    columns = ['ArticleID', 'Type', 'Label'], \n",
    "                                    dropna = ['ArticleID'], \n",
    "                                    duplicate_subset = None,\n",
    "                                    isindict = category_list1,\n",
    "                                    verbose = 100)"
   ]
  },
  {
   "cell_type": "code",
   "execution_count": null,
   "metadata": {},
   "outputs": [],
   "source": [
    "category_df1.to_pickle(\"/mnt/disks/vault/analysis-data/interdisciplinary-novelty-analysis/phy1.pql\")"
   ]
  },
  {
   "cell_type": "code",
   "execution_count": null,
   "metadata": {},
   "outputs": [],
   "source": [
    "category_list1 = np.array(['Physics, Fluids & Plasmas'])\n",
    "category_df2 = wosutil.load_wos_data(name = 'category', \n",
    "                                    path2rawdata = path2rawdata,\n",
    "                                    year_list = None,\n",
    "                                    columns = ['ArticleID', 'Type', 'Label'], \n",
    "                                    dropna = ['ArticleID'], \n",
    "                                    duplicate_subset = category_list1,\n",
    "                                    isindict = category_list1,\n",
    "                                    verbose = 100)\n",
    "category_df2.to_pickle(\"/mnt/disks/vault/analysis-data/interdisciplinary-novelty-analysis/phy2.pql\")"
   ]
  },
  {
   "cell_type": "code",
   "execution_count": null,
   "metadata": {},
   "outputs": [],
   "source": [
    "category_list1 = np.array(['Physics, Atomic, Molecular & Chemical'])\n",
    "category_df3 = wosutil.load_wos_data(name = 'category', \n",
    "                                    path2rawdata = path2rawdata,\n",
    "                                    year_list = None,\n",
    "                                    columns = ['ArticleID', 'Type', 'Label'], \n",
    "                                    dropna = ['ArticleID'], \n",
    "                                    duplicate_subset = category_list1,\n",
    "                                    isindict = category_list1,\n",
    "                                    verbose = 100)\n",
    "category_df3.to_pickle(\"/mnt/disks/vault/analysis-data/interdisciplinary-novelty-analysis/phy3.pql\")"
   ]
  },
  {
   "cell_type": "code",
   "execution_count": null,
   "metadata": {},
   "outputs": [],
   "source": [
    "category_list1 = np.array(['Physics, Multidisciplinary'])\n",
    "category_df4 = wosutil.load_wos_data(name = 'category', \n",
    "                                    path2rawdata = path2rawdata,\n",
    "                                    year_list = None,\n",
    "                                    columns = ['ArticleID', 'Type', 'Label'], \n",
    "                                    dropna = ['ArticleID'], \n",
    "                                    duplicate_subset = category_list1,\n",
    "                                    isindict = category_list1,\n",
    "                                    verbose = 100)"
   ]
  },
  {
   "cell_type": "code",
   "execution_count": null,
   "metadata": {},
   "outputs": [],
   "source": [
    "category_list1 = np.array(['Physics, Condensed Matter'])\n",
    "category_df5 = wosutil.load_wos_data(name = 'category', \n",
    "                                    path2rawdata = path2rawdata,\n",
    "                                    year_list = None,\n",
    "                                    columns = ['ArticleID', 'Type', 'Label'], \n",
    "                                    dropna = ['ArticleID'], \n",
    "                                    duplicate_subset = category_list1,\n",
    "                                    isindict = category_list1,\n",
    "                                    verbose = 100)"
   ]
  },
  {
   "cell_type": "code",
   "execution_count": null,
   "metadata": {},
   "outputs": [],
   "source": [
    "category_list1 = np.array(['Physics, Physics, Nuclear'])\n",
    "category_df6 = wosutil.load_wos_data(name = 'category', \n",
    "                                    path2rawdata = path2rawdata,\n",
    "                                    year_list = None,\n",
    "                                    columns = ['ArticleID', 'Type', 'Label'], \n",
    "                                    dropna = ['ArticleID'], \n",
    "                                    duplicate_subset = category_list1,\n",
    "                                    isindict = category_list1,\n",
    "                                    verbose = 100)"
   ]
  },
  {
   "cell_type": "code",
   "execution_count": null,
   "metadata": {},
   "outputs": [],
   "source": [
    "physics_cat_df = pd.concat([category_df1, \n",
    "                            category_df2, \n",
    "                            category_df3, \n",
    "                            category_df4,\n",
    "                            category_df5,\n",
    "                            category_df6], ignore_index=True)\n",
    "physics_cat_df.to_pickle(\"/mnt/disks/vault/analysis-data/interdisciplinary-novelty-analysis/physics_categories.pql\")"
   ]
  },
  {
   "cell_type": "code",
   "execution_count": null,
   "metadata": {},
   "outputs": [
    {
     "name": "stdout",
     "output_type": "stream",
     "text": [
      "53671796\n",
      "False\n",
      "{False}\n"
     ]
    }
   ],
   "source": [
    "# How many article ids are present in category_df\n",
    "print(len(category_df['ArticleID'].unique()))\n",
    "\n",
    "# Are there NaN values in article id\n",
    "print(category_df.isnull().values.any())\n",
    "\n",
    "# Are there NaN values in article id\n",
    "print(set(category_df['ArticleID'].isna()))\n",
    "\n",
    "# Are there NaN values in Label\n",
    "print(set(category_df['Label'].isna()))"
   ]
  },
  {
   "cell_type": "code",
   "execution_count": null,
   "metadata": {},
   "outputs": [
    {
     "name": "stdout",
     "output_type": "stream",
     "text": [
      "39171585\n",
      "False\n"
     ]
    }
   ],
   "source": [
    "# Checking articles dataframe\n",
    "print(len(article_df['ArticleID'].unique()))\n",
    "\n",
    "# Are there NaN values in article id\n",
    "print(article_df.isnull().values.any())"
   ]
  },
  {
   "cell_type": "code",
   "execution_count": null,
   "metadata": {},
   "outputs": [],
   "source": [
    "# joining citations with articles and categories\n",
    "\n",
    "# joining the dataframes\n",
    "data = None\n",
    "data = category_df.merge(article_df, \n",
    "                         how = 'inner',\n",
    "                         on = 'ArticleID')"
   ]
  },
  {
   "cell_type": "code",
   "execution_count": null,
   "metadata": {},
   "outputs": [
    {
     "data": {
      "text/plain": [
       "ArticleID                   406341980\n",
       "Type                        406341980\n",
       "Label                       406341980\n",
       "PubYear                     406341980\n",
       "Doctypes                    406341980\n",
       "Title                       406341980\n",
       "Journal                     406341980\n",
       "Journal Abbreviation ISO    406341980\n",
       "dtype: int64"
      ]
     },
     "execution_count": 10,
     "metadata": {},
     "output_type": "execute_result"
    }
   ],
   "source": [
    "data.count()"
   ]
  },
  {
   "cell_type": "code",
   "execution_count": null,
   "metadata": {},
   "outputs": [],
   "source": [
    "data = data.drop_duplicates()\n",
    "data.to_pickle(\"/mnt/disks/vault/analysis-data/interdisciplinary-novelty-analysis/articles_and_categories_phy_chem_bio.pql\")"
   ]
  }
 ],
 "metadata": {
  "kernelspec": {
   "display_name": "Python 3",
   "language": "python",
   "name": "python3"
  },
  "language_info": {
   "codemirror_mode": {
    "name": "ipython",
    "version": 3
   },
   "file_extension": ".py",
   "mimetype": "text/x-python",
   "name": "python",
   "nbconvert_exporter": "python",
   "pygments_lexer": "ipython3",
   "version": "3.6.7"
  }
 },
 "nbformat": 4,
 "nbformat_minor": 2
}
