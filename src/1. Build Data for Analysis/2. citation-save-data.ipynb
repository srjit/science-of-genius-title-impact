{
 "cells": [
  {
   "cell_type": "markdown",
   "metadata": {},
   "source": [
    "## Impact  - Read in chunks and merge"
   ]
  },
  {
   "cell_type": "code",
   "execution_count": 1,
   "metadata": {},
   "outputs": [],
   "source": [
    "%load_ext autoreload\n",
    "%autoreload 2\n",
    "%matplotlib inline"
   ]
  },
  {
   "cell_type": "code",
   "execution_count": 4,
   "metadata": {},
   "outputs": [],
   "source": [
    "import sys\n",
    "sys.path.insert(0, \"../../code-previous\")\n",
    "sys.path.insert(0, \"../\")"
   ]
  },
  {
   "cell_type": "code",
   "execution_count": 5,
   "metadata": {},
   "outputs": [],
   "source": [
    "import pandas as pd\n",
    "import numpy as np\n",
    "import networkx as nx\n",
    "import sklearn.feature_extraction as skfeatures\n",
    "import utils\n",
    "import time\n",
    "import os\n",
    "\n",
    "from unicodedata import category\n",
    "from tqdm import tqdm\n",
    "#from tqdm import tqdm_notebook as tqdm\n",
    "tqdm.pandas(desc=\"Progress\")\n",
    "\n",
    "import seaborn as sns\n",
    "sns.set_style('white')\n",
    "import matplotlib.pylab as plt\n",
    "\n",
    "import WOSutilities as wosutil\n",
    "\n",
    "path2rawdata = '/mnt/disks/vault/wos2017-parsed/'"
   ]
  },
  {
   "cell_type": "code",
   "execution_count": 6,
   "metadata": {},
   "outputs": [
    {
     "name": "stdout",
     "output_type": "stream",
     "text": [
      "500\n",
      "1000\n",
      "1500\n",
      "2000\n",
      "2500\n",
      "Final DF Shape (1165534, 3)\n"
     ]
    }
   ],
   "source": [
    "impact_df40 = utils.load_impact_data(name = 'impact40', \n",
    "                                     path2rawdata = path2rawdata,\n",
    "                                     year_list = None, \n",
    "                                     columns = ['ArticleID', 'PubYear', 'c5'],\n",
    "                                     dropna = ['ArticleID', 'PubYear'], \n",
    "                                     duplicate_subset = None,\n",
    "                                     isindict = {},\n",
    "                                     verbose = 500)"
   ]
  },
  {
   "cell_type": "code",
   "execution_count": 13,
   "metadata": {},
   "outputs": [
    {
     "name": "stdout",
     "output_type": "stream",
     "text": [
      "500\n",
      "Final DF Shape (596783, 3)\n"
     ]
    }
   ],
   "source": [
    "impact_df50 = utils.load_impact_data(name = 'impact50', \n",
    "                                     path2rawdata = path2rawdata,\n",
    "                                     year_list = None, \n",
    "                                     columns = ['ArticleID', 'PubYear', 'c5'],\n",
    "                                     dropna = ['ArticleID', 'PubYear'], \n",
    "                                     duplicate_subset = None,\n",
    "                                     isindict = {},\n",
    "                                     verbose = 500)"
   ]
  },
  {
   "cell_type": "code",
   "execution_count": 15,
   "metadata": {},
   "outputs": [
    {
     "name": "stdout",
     "output_type": "stream",
     "text": [
      "500\n",
      "Final DF Shape (1189069, 3)\n"
     ]
    }
   ],
   "source": [
    "impact_df60 = utils.load_impact_data(name = 'impact60', \n",
    "                                     path2rawdata = path2rawdata,\n",
    "                                     year_list = None, \n",
    "                                     columns = ['ArticleID', 'PubYear', 'c5'],\n",
    "                                     dropna = ['ArticleID', 'PubYear'], \n",
    "                                     duplicate_subset = None,\n",
    "                                     isindict = {},\n",
    "                                     verbose = 500)"
   ]
  },
  {
   "cell_type": "code",
   "execution_count": 17,
   "metadata": {},
   "outputs": [
    {
     "name": "stdout",
     "output_type": "stream",
     "text": [
      "500\n",
      "Final DF Shape (2919911, 3)\n"
     ]
    }
   ],
   "source": [
    "impact_df70 = utils.load_impact_data(name = 'impact70', \n",
    "                                     path2rawdata = path2rawdata,\n",
    "                                     year_list = None, \n",
    "                                     columns = ['ArticleID', 'PubYear', 'c5'],\n",
    "                                     dropna = ['ArticleID', 'PubYear'], \n",
    "                                     duplicate_subset = None,\n",
    "                                     isindict = {},\n",
    "                                     verbose = 500)"
   ]
  },
  {
   "cell_type": "code",
   "execution_count": 21,
   "metadata": {},
   "outputs": [
    {
     "name": "stdout",
     "output_type": "stream",
     "text": [
      "500\n",
      "Final DF Shape (5408678, 3)\n"
     ]
    }
   ],
   "source": [
    "impact_df80 = utils.load_impact_data(name = 'impact80', \n",
    "                                     path2rawdata = path2rawdata,\n",
    "                                     year_list = None, \n",
    "                                     columns = ['ArticleID', 'PubYear', 'c5'],\n",
    "                                     dropna = ['ArticleID', 'PubYear'], \n",
    "                                     duplicate_subset = None,\n",
    "                                     isindict = {},\n",
    "                                     verbose = 500)"
   ]
  },
  {
   "cell_type": "code",
   "execution_count": 22,
   "metadata": {},
   "outputs": [
    {
     "name": "stdout",
     "output_type": "stream",
     "text": [
      "Final DF Shape (3735369, 3)\n"
     ]
    }
   ],
   "source": [
    "impact_df85 = utils.load_impact_data(name = 'impact85', \n",
    "                                     path2rawdata = path2rawdata,\n",
    "                                     year_list = None, \n",
    "                                     columns = ['ArticleID', 'PubYear', 'c5'],\n",
    "                                     dropna = ['ArticleID', 'PubYear'], \n",
    "                                     duplicate_subset = None,\n",
    "                                     isindict = {},\n",
    "                                     verbose = 500)"
   ]
  },
  {
   "cell_type": "code",
   "execution_count": 23,
   "metadata": {},
   "outputs": [
    {
     "name": "stdout",
     "output_type": "stream",
     "text": [
      "Final DF Shape (3967630, 3)\n"
     ]
    }
   ],
   "source": [
    "impact_df90 = utils.load_impact_data(name = 'impact90', \n",
    "                                     path2rawdata = path2rawdata,\n",
    "                                     year_list = None, \n",
    "                                     columns = ['ArticleID', 'PubYear', 'c5'],\n",
    "                                     dropna = ['ArticleID', 'PubYear'], \n",
    "                                     duplicate_subset = None,\n",
    "                                     isindict = {},\n",
    "                                     verbose = 500)"
   ]
  },
  {
   "cell_type": "code",
   "execution_count": 24,
   "metadata": {},
   "outputs": [
    {
     "name": "stdout",
     "output_type": "stream",
     "text": [
      "Final DF Shape (4388803, 3)\n"
     ]
    }
   ],
   "source": [
    "impact_df95 = utils.load_impact_data(name = 'impact95', \n",
    "                                     path2rawdata = path2rawdata,\n",
    "                                     year_list = None, \n",
    "                                     columns = ['ArticleID', 'PubYear', 'c5'],\n",
    "                                     dropna = ['ArticleID', 'PubYear'], \n",
    "                                     duplicate_subset = None,\n",
    "                                     isindict = {},\n",
    "                                     verbose = 500)"
   ]
  },
  {
   "cell_type": "code",
   "execution_count": 25,
   "metadata": {},
   "outputs": [
    {
     "name": "stdout",
     "output_type": "stream",
     "text": [
      "Final DF Shape (5317330, 3)\n"
     ]
    }
   ],
   "source": [
    "impact_df00 = utils.load_impact_data(name = 'impact00', \n",
    "                                     path2rawdata = path2rawdata,\n",
    "                                     year_list = None, \n",
    "                                     columns = ['ArticleID', 'PubYear', 'c5'],\n",
    "                                     dropna = ['ArticleID', 'PubYear'], \n",
    "                                     duplicate_subset = None,\n",
    "                                     isindict = {},\n",
    "                                     verbose = 500)"
   ]
  },
  {
   "cell_type": "code",
   "execution_count": 26,
   "metadata": {},
   "outputs": [
    {
     "name": "stdout",
     "output_type": "stream",
     "text": [
      "Final DF Shape (6010377, 3)\n"
     ]
    }
   ],
   "source": [
    "impact_df2005 = utils.load_impact_data(name = 'impact2005', \n",
    "                                     path2rawdata = path2rawdata,\n",
    "                                     year_list = None, \n",
    "                                     columns = ['ArticleID', 'PubYear', 'c5'],\n",
    "                                     dropna = ['ArticleID', 'PubYear'], \n",
    "                                     duplicate_subset = None,\n",
    "                                     isindict = {},\n",
    "                                     verbose = 500)"
   ]
  },
  {
   "cell_type": "code",
   "execution_count": 27,
   "metadata": {},
   "outputs": [
    {
     "name": "stdout",
     "output_type": "stream",
     "text": [
      "Final DF Shape (7708997, 3)\n"
     ]
    }
   ],
   "source": [
    "impact_df2010 = utils.load_impact_data(name = 'impact2010', \n",
    "                                     path2rawdata = path2rawdata,\n",
    "                                     year_list = None, \n",
    "                                     columns = ['ArticleID', 'PubYear', 'c5'],\n",
    "                                     dropna = ['ArticleID', 'PubYear'], \n",
    "                                     duplicate_subset = None,\n",
    "                                     isindict = {},\n",
    "                                     verbose = 500)"
   ]
  },
  {
   "cell_type": "code",
   "execution_count": 28,
   "metadata": {},
   "outputs": [],
   "source": [
    "# combine all the dataframes read\n",
    "impact_df = pd.concat([impact_df40, \n",
    "                       impact_df50, \n",
    "                       impact_df60, \n",
    "                       impact_df70,\n",
    "                       impact_df80,\n",
    "                       impact_df85,\n",
    "                       impact_df90,\n",
    "                       impact_df95,\n",
    "                       impact_df00,\n",
    "                       impact_df2005,\n",
    "                       impact_df2010], ignore_index=True)"
   ]
  },
  {
   "cell_type": "code",
   "execution_count": null,
   "metadata": {},
   "outputs": [],
   "source": [
    "impact_df.to_pickle(\"/mnt/disks/vault/analysis-data/impact-c5-data/impact_data_until_2010.pql\")"
   ]
  }
 ],
 "metadata": {
  "kernelspec": {
   "display_name": "Python 3",
   "language": "python",
   "name": "python3"
  },
  "language_info": {
   "codemirror_mode": {
    "name": "ipython",
    "version": 3
   },
   "file_extension": ".py",
   "mimetype": "text/x-python",
   "name": "python",
   "nbconvert_exporter": "python",
   "pygments_lexer": "ipython3",
   "version": "3.6.7"
  }
 },
 "nbformat": 4,
 "nbformat_minor": 2
}
