{
 "cells": [
  {
   "cell_type": "code",
   "execution_count": 1,
   "metadata": {},
   "outputs": [],
   "source": [
    "%load_ext autoreload\n",
    "%autoreload 2\n",
    "%matplotlib inline"
   ]
  },
  {
   "cell_type": "code",
   "execution_count": 2,
   "metadata": {},
   "outputs": [],
   "source": [
    "import sys\n",
    "sys.path.insert(0, \"../code-previous\")"
   ]
  },
  {
   "cell_type": "code",
   "execution_count": 3,
   "metadata": {},
   "outputs": [],
   "source": [
    "import pandas as pd\n",
    "import numpy as np\n",
    "import networkx as nx\n",
    "import sklearn.feature_extraction as skfeatures\n",
    "import WOSutilities as wosutil\n",
    "import time\n",
    "import os\n",
    "\n",
    "import seaborn as sns\n",
    "sns.set_style('white')\n",
    "import matplotlib.pylab as plt\n",
    "\n",
    "import utils\n",
    "\n",
    "path2rawdata = '/home/sree/Downloads/WOSsample'"
   ]
  },
  {
   "cell_type": "code",
   "execution_count": 4,
   "metadata": {},
   "outputs": [
    {
     "name": "stdout",
     "output_type": "stream",
     "text": [
      "500\n",
      "1000\n",
      "1500\n",
      "2000\n",
      "2500\n",
      "3000\n",
      "Final DF Shape (1309330, 3)\n"
     ]
    }
   ],
   "source": [
    "# use this as set 1\n",
    "impact_df_1 = utils.load_impact_data(name = 'impact1', \n",
    "                                   path2rawdata = path2rawdata,\n",
    "                                   year_list = None, \n",
    "                                   columns = ['ArticleID', 'PubYear', 'c5'],\n",
    "                                   dropna = ['ArticleID', 'PubYear'], \n",
    "                                   duplicate_subset = None,\n",
    "                                   isindict = {},\n",
    "                                   verbose = 500)"
   ]
  },
  {
   "cell_type": "code",
   "execution_count": 5,
   "metadata": {},
   "outputs": [
    {
     "name": "stdout",
     "output_type": "stream",
     "text": [
      "500\n",
      "1000\n",
      "Final DF Shape (1490195, 3)\n"
     ]
    }
   ],
   "source": [
    "# use this as set 2 - from 1950 until 2000\n",
    "impact_df_2 = utils.load_impact_data(name = 'impact2', \n",
    "                                   path2rawdata = path2rawdata,\n",
    "                                   year_list = None, \n",
    "                                   columns = ['ArticleID', 'PubYear', 'c5'],\n",
    "                                   dropna = ['ArticleID', 'PubYear'], \n",
    "                                   duplicate_subset = None,\n",
    "                                   isindict = {},\n",
    "                                   verbose = 500)"
   ]
  },
  {
   "cell_type": "code",
   "execution_count": 6,
   "metadata": {},
   "outputs": [],
   "source": [
    "# combine all the dataframes read\n",
    "impact_df = pd.concat([impact_df_1, impact_df_2], ignore_index=True)"
   ]
  },
  {
   "cell_type": "code",
   "execution_count": 7,
   "metadata": {},
   "outputs": [
    {
     "data": {
      "text/plain": [
       "array([1938, 1917, 1920, 1939, 1912, 1934, 1935, 1907, 1921, 1936, 1913,\n",
       "       1901, 1918, 1931, 1937, 1923, 1919, 1916, 1925, 1929, 1914, 1943,\n",
       "       1941, 1904, 1926, 1940, 1903, 1900, 1911, 1905, 1910, 1930, 1922,\n",
       "       1915, 1928, 1906, 1944, 1902, 1932, 1909, 1908, 1924, 1927, 1942,\n",
       "       1933, 1955, 1958, 1949, 1951, 1952, 1947, 1959, 1948, 1953, 1956,\n",
       "       1946, 1954, 1945, 1950, 1957])"
      ]
     },
     "execution_count": 7,
     "metadata": {},
     "output_type": "execute_result"
    }
   ],
   "source": [
    "impact_df['PubYear'].unique()"
   ]
  },
  {
   "cell_type": "code",
   "execution_count": 8,
   "metadata": {},
   "outputs": [
    {
     "data": {
      "text/plain": [
       "array([  0.,   8.,   1.,   3.,   2.,   6.,   4.,  24.,  16.,   9.,   5.,\n",
       "        11.,  15.,  52.,   7.,  12.,  21.,  10.,  22.,  39.,  35.,  14.,\n",
       "        26.,  17.,  13.,  18.,  19.,  23.,  42.,  50.,  20.,  29.,  47.,\n",
       "        55.,  30.,  44.,  87.,  27.,  25.,  36.,  33.,  28.,  31.,  34.,\n",
       "        32.,  72., 108.,  43.,  38.,  57.,  69., 116.,  41.,  66.,  49.,\n",
       "        40.,  58.,  56.,  90.,  78.,  75.,  65., 110.,  67.,  71.,  92.,\n",
       "        51.,  37.,  63.,  53.,  59., 203.,  46.,  45.,  85.,  48.,  74.,\n",
       "        86.,  62.,  68., 100.,  54.,  73.,  82.,  76.,  61.,  98.,  77.,\n",
       "        60.,  83.,  88., 124.,  80.,  64., 112.,  89., 135., 119.,  70.,\n",
       "       155., 134., 184., 171., 148., 182., 199.,  99., 138., 217., 111.,\n",
       "        84., 101., 236.,  94., 125., 118.,  95., 200., 113., 104.,  81.,\n",
       "       128., 106., 127., 174.,  96.,  79., 164., 122., 102.,  97., 140.,\n",
       "       103., 178., 212., 373., 196., 159., 152., 180., 204., 130., 107.,\n",
       "       126.,  91., 109., 117., 115., 222., 467., 142., 170., 423., 198.,\n",
       "       120., 114., 167., 254., 105., 123., 363., 215., 154.,  93., 169.,\n",
       "       129., 166., 201., 146., 424., 121., 177., 162., 133., 136., 143.,\n",
       "       176., 412., 139., 194., 247., 175., 237., 137., 273., 131., 252.,\n",
       "       241., 147., 150., 227., 238., 161., 145., 160., 163., 149., 214.,\n",
       "       183., 351., 282., 225., 232., 300., 157., 486., 165., 339., 173.,\n",
       "       327., 249., 208., 221., 230., 197., 132., 187., 229., 153., 298.,\n",
       "       210., 262., 141., 211., 224., 190., 425., 338., 192., 207., 144.,\n",
       "       158., 195., 209., 185., 334., 269., 235., 285., 151., 193., 264.])"
      ]
     },
     "execution_count": 8,
     "metadata": {},
     "output_type": "execute_result"
    }
   ],
   "source": [
    "# Using c5 - citiations the paper has created in the 5 years following its publication\n",
    "\n",
    "impact_df['c5'].unique()"
   ]
  },
  {
   "cell_type": "code",
   "execution_count": 9,
   "metadata": {},
   "outputs": [],
   "source": [
    "# correction - adding 1 to all the citation counts (for easiness of log scale calculations)\n",
    "# and taking the log scale on it\n",
    "import numpy as np\n",
    "\n",
    "impact_df['log_c5'] = impact_df['c5'].apply(lambda x: np.log(x+1))"
   ]
  },
  {
   "cell_type": "code",
   "execution_count": 10,
   "metadata": {},
   "outputs": [
    {
     "data": {
      "text/html": [
       "<div>\n",
       "<style scoped>\n",
       "    .dataframe tbody tr th:only-of-type {\n",
       "        vertical-align: middle;\n",
       "    }\n",
       "\n",
       "    .dataframe tbody tr th {\n",
       "        vertical-align: top;\n",
       "    }\n",
       "\n",
       "    .dataframe thead th {\n",
       "        text-align: right;\n",
       "    }\n",
       "</style>\n",
       "<table border=\"1\" class=\"dataframe\">\n",
       "  <thead>\n",
       "    <tr style=\"text-align: right;\">\n",
       "      <th></th>\n",
       "      <th>ArticleID</th>\n",
       "      <th>PubYear</th>\n",
       "      <th>c5</th>\n",
       "      <th>log_c5</th>\n",
       "    </tr>\n",
       "  </thead>\n",
       "  <tbody>\n",
       "    <tr>\n",
       "      <th>0</th>\n",
       "      <td>000204410000006</td>\n",
       "      <td>1938</td>\n",
       "      <td>0.0</td>\n",
       "      <td>0.000000</td>\n",
       "    </tr>\n",
       "    <tr>\n",
       "      <th>1</th>\n",
       "      <td>000186939300004</td>\n",
       "      <td>1938</td>\n",
       "      <td>8.0</td>\n",
       "      <td>2.197225</td>\n",
       "    </tr>\n",
       "    <tr>\n",
       "      <th>2</th>\n",
       "      <td>000201775600013</td>\n",
       "      <td>1938</td>\n",
       "      <td>1.0</td>\n",
       "      <td>0.693147</td>\n",
       "    </tr>\n",
       "    <tr>\n",
       "      <th>3</th>\n",
       "      <td>000204917100015</td>\n",
       "      <td>1938</td>\n",
       "      <td>0.0</td>\n",
       "      <td>0.000000</td>\n",
       "    </tr>\n",
       "    <tr>\n",
       "      <th>4</th>\n",
       "      <td>000200186900005</td>\n",
       "      <td>1938</td>\n",
       "      <td>3.0</td>\n",
       "      <td>1.386294</td>\n",
       "    </tr>\n",
       "  </tbody>\n",
       "</table>\n",
       "</div>"
      ],
      "text/plain": [
       "         ArticleID  PubYear   c5    log_c5\n",
       "0  000204410000006     1938  0.0  0.000000\n",
       "1  000186939300004     1938  8.0  2.197225\n",
       "2  000201775600013     1938  1.0  0.693147\n",
       "3  000204917100015     1938  0.0  0.000000\n",
       "4  000200186900005     1938  3.0  1.386294"
      ]
     },
     "execution_count": 10,
     "metadata": {},
     "output_type": "execute_result"
    }
   ],
   "source": [
    "impact_df.head()"
   ]
  },
  {
   "cell_type": "code",
   "execution_count": 11,
   "metadata": {},
   "outputs": [
    {
     "name": "stdout",
     "output_type": "stream",
     "text": [
      "Final DF Shape (1092061, 4)\n",
      "Final DF Shape (10559, 3)\n"
     ]
    }
   ],
   "source": [
    "# we need to load articles and categories\n",
    "\n",
    "article_df = wosutil.load_wos_data(name = 'article', \n",
    "                                   path2rawdata = path2rawdata,\n",
    "                                   year_list = None, \n",
    "                                   columns = ['ArticleID', 'PubYear', 'Doctypes', 'Title'], \n",
    "                                   dropna = ['ArticleID', 'PubYear'], \n",
    "                                   duplicate_subset = ['ArticleID'],\n",
    "                                   isindict = {'Doctypes':np.sort(['Article','Letter','Review','Note'])}, \n",
    "                                   verbose = 50)\n",
    "\n",
    "# select all categories for all the aricles published\n",
    "category_list = np.array(['Physics, Applied'])  \n",
    "\n",
    "category_df = wosutil.load_wos_data(name = 'category', \n",
    "                                    path2rawdata = path2rawdata,\n",
    "                                    year_list = None,\n",
    "                                    columns = None, \n",
    "                                    dropna = ['ArticleID'], \n",
    "                                    duplicate_subset = None,\n",
    "                                    isindict = {'Label':category_list},\n",
    "                                    verbose = 100)"
   ]
  },
  {
   "cell_type": "code",
   "execution_count": 12,
   "metadata": {},
   "outputs": [],
   "source": [
    "# joining citations with articles and categories\n",
    "\n",
    "# joining the dataframes\n",
    "data = None\n",
    "data = article_df.merge(category_df, \n",
    "                        how = 'left',\n",
    "                        on = 'ArticleID')\n",
    "\n",
    "data = data.merge(impact_df,\n",
    "                  how = 'left',\n",
    "                  on = 'ArticleID')"
   ]
  },
  {
   "cell_type": "code",
   "execution_count": 13,
   "metadata": {},
   "outputs": [
    {
     "data": {
      "text/html": [
       "<div>\n",
       "<style scoped>\n",
       "    .dataframe tbody tr th:only-of-type {\n",
       "        vertical-align: middle;\n",
       "    }\n",
       "\n",
       "    .dataframe tbody tr th {\n",
       "        vertical-align: top;\n",
       "    }\n",
       "\n",
       "    .dataframe thead th {\n",
       "        text-align: right;\n",
       "    }\n",
       "</style>\n",
       "<table border=\"1\" class=\"dataframe\">\n",
       "  <thead>\n",
       "    <tr style=\"text-align: right;\">\n",
       "      <th></th>\n",
       "      <th>ArticleID</th>\n",
       "      <th>PubYear_x</th>\n",
       "      <th>Doctypes</th>\n",
       "      <th>Title</th>\n",
       "      <th>Type</th>\n",
       "      <th>Label</th>\n",
       "      <th>PubYear_y</th>\n",
       "      <th>c5</th>\n",
       "      <th>log_c5</th>\n",
       "    </tr>\n",
       "  </thead>\n",
       "  <tbody>\n",
       "    <tr>\n",
       "      <th>0</th>\n",
       "      <td>000188724900460</td>\n",
       "      <td>1922</td>\n",
       "      <td>Letter</td>\n",
       "      <td>Why is septic aural discharge so common ?</td>\n",
       "      <td>NaN</td>\n",
       "      <td>NaN</td>\n",
       "      <td>1922</td>\n",
       "      <td>0.0</td>\n",
       "      <td>0.000000</td>\n",
       "    </tr>\n",
       "    <tr>\n",
       "      <th>1</th>\n",
       "      <td>000200401000287</td>\n",
       "      <td>1934</td>\n",
       "      <td>Letter</td>\n",
       "      <td>The GP, the schoolmaster, and the specialist</td>\n",
       "      <td>NaN</td>\n",
       "      <td>NaN</td>\n",
       "      <td>1934</td>\n",
       "      <td>0.0</td>\n",
       "      <td>0.000000</td>\n",
       "    </tr>\n",
       "    <tr>\n",
       "      <th>2</th>\n",
       "      <td>000202753700002</td>\n",
       "      <td>1908</td>\n",
       "      <td>Article</td>\n",
       "      <td>The determination of vapour pressures of solut...</td>\n",
       "      <td>NaN</td>\n",
       "      <td>NaN</td>\n",
       "      <td>1908</td>\n",
       "      <td>0.0</td>\n",
       "      <td>0.000000</td>\n",
       "    </tr>\n",
       "    <tr>\n",
       "      <th>3</th>\n",
       "      <td>000202408700045</td>\n",
       "      <td>1944</td>\n",
       "      <td>Article</td>\n",
       "      <td>Relationship of penicillin to sulfonamide action</td>\n",
       "      <td>NaN</td>\n",
       "      <td>NaN</td>\n",
       "      <td>1944</td>\n",
       "      <td>21.0</td>\n",
       "      <td>3.091042</td>\n",
       "    </tr>\n",
       "    <tr>\n",
       "      <th>4</th>\n",
       "      <td>000188445600529</td>\n",
       "      <td>1940</td>\n",
       "      <td>Article</td>\n",
       "      <td>Polymerization of beta-methallyl alcohol and i...</td>\n",
       "      <td>NaN</td>\n",
       "      <td>NaN</td>\n",
       "      <td>1940</td>\n",
       "      <td>1.0</td>\n",
       "      <td>0.693147</td>\n",
       "    </tr>\n",
       "  </tbody>\n",
       "</table>\n",
       "</div>"
      ],
      "text/plain": [
       "         ArticleID  PubYear_x Doctypes  \\\n",
       "0  000188724900460       1922   Letter   \n",
       "1  000200401000287       1934   Letter   \n",
       "2  000202753700002       1908  Article   \n",
       "3  000202408700045       1944  Article   \n",
       "4  000188445600529       1940  Article   \n",
       "\n",
       "                                               Title Type Label  PubYear_y  \\\n",
       "0          Why is septic aural discharge so common ?  NaN   NaN       1922   \n",
       "1       The GP, the schoolmaster, and the specialist  NaN   NaN       1934   \n",
       "2  The determination of vapour pressures of solut...  NaN   NaN       1908   \n",
       "3   Relationship of penicillin to sulfonamide action  NaN   NaN       1944   \n",
       "4  Polymerization of beta-methallyl alcohol and i...  NaN   NaN       1940   \n",
       "\n",
       "     c5    log_c5  \n",
       "0   0.0  0.000000  \n",
       "1   0.0  0.000000  \n",
       "2   0.0  0.000000  \n",
       "3  21.0  3.091042  \n",
       "4   1.0  0.693147  "
      ]
     },
     "execution_count": 13,
     "metadata": {},
     "output_type": "execute_result"
    }
   ],
   "source": [
    "data.head()"
   ]
  },
  {
   "cell_type": "code",
   "execution_count": 14,
   "metadata": {},
   "outputs": [
    {
     "data": {
      "text/plain": [
       "1092061"
      ]
     },
     "execution_count": 14,
     "metadata": {},
     "output_type": "execute_result"
    }
   ],
   "source": [
    "data = data.drop_duplicates()\n",
    "len(data)"
   ]
  },
  {
   "cell_type": "code",
   "execution_count": 29,
   "metadata": {},
   "outputs": [],
   "source": [
    "data.to_pickle(\"/home/sree/code/science-of-genius-title-impact/serialized/all_data_sample.pql\")"
   ]
  },
  {
   "cell_type": "code",
   "execution_count": 15,
   "metadata": {},
   "outputs": [],
   "source": [
    "# clean up puctuations from titles\n",
    "from unicodedata import category\n",
    "\n",
    "data['title_without_punctuations'] = data['Title'].apply(lambda x: ''.join(ch for ch in x if category(ch)[0] != 'P'))"
   ]
  },
  {
   "cell_type": "code",
   "execution_count": 16,
   "metadata": {},
   "outputs": [
    {
     "data": {
      "text/html": [
       "<div>\n",
       "<style scoped>\n",
       "    .dataframe tbody tr th:only-of-type {\n",
       "        vertical-align: middle;\n",
       "    }\n",
       "\n",
       "    .dataframe tbody tr th {\n",
       "        vertical-align: top;\n",
       "    }\n",
       "\n",
       "    .dataframe thead th {\n",
       "        text-align: right;\n",
       "    }\n",
       "</style>\n",
       "<table border=\"1\" class=\"dataframe\">\n",
       "  <thead>\n",
       "    <tr style=\"text-align: right;\">\n",
       "      <th></th>\n",
       "      <th>ArticleID</th>\n",
       "      <th>PubYear_x</th>\n",
       "      <th>Doctypes</th>\n",
       "      <th>Title</th>\n",
       "      <th>Type</th>\n",
       "      <th>Label</th>\n",
       "      <th>PubYear_y</th>\n",
       "      <th>c5</th>\n",
       "      <th>log_c5</th>\n",
       "      <th>title_without_punctuations</th>\n",
       "    </tr>\n",
       "  </thead>\n",
       "  <tbody>\n",
       "    <tr>\n",
       "      <th>0</th>\n",
       "      <td>000188724900460</td>\n",
       "      <td>1922</td>\n",
       "      <td>Letter</td>\n",
       "      <td>Why is septic aural discharge so common ?</td>\n",
       "      <td>NaN</td>\n",
       "      <td>NaN</td>\n",
       "      <td>1922</td>\n",
       "      <td>0.0</td>\n",
       "      <td>0.000000</td>\n",
       "      <td>Why is septic aural discharge so common</td>\n",
       "    </tr>\n",
       "    <tr>\n",
       "      <th>1</th>\n",
       "      <td>000200401000287</td>\n",
       "      <td>1934</td>\n",
       "      <td>Letter</td>\n",
       "      <td>The GP, the schoolmaster, and the specialist</td>\n",
       "      <td>NaN</td>\n",
       "      <td>NaN</td>\n",
       "      <td>1934</td>\n",
       "      <td>0.0</td>\n",
       "      <td>0.000000</td>\n",
       "      <td>The GP the schoolmaster and the specialist</td>\n",
       "    </tr>\n",
       "    <tr>\n",
       "      <th>2</th>\n",
       "      <td>000202753700002</td>\n",
       "      <td>1908</td>\n",
       "      <td>Article</td>\n",
       "      <td>The determination of vapour pressures of solut...</td>\n",
       "      <td>NaN</td>\n",
       "      <td>NaN</td>\n",
       "      <td>1908</td>\n",
       "      <td>0.0</td>\n",
       "      <td>0.000000</td>\n",
       "      <td>The determination of vapour pressures of solut...</td>\n",
       "    </tr>\n",
       "    <tr>\n",
       "      <th>3</th>\n",
       "      <td>000202408700045</td>\n",
       "      <td>1944</td>\n",
       "      <td>Article</td>\n",
       "      <td>Relationship of penicillin to sulfonamide action</td>\n",
       "      <td>NaN</td>\n",
       "      <td>NaN</td>\n",
       "      <td>1944</td>\n",
       "      <td>21.0</td>\n",
       "      <td>3.091042</td>\n",
       "      <td>Relationship of penicillin to sulfonamide action</td>\n",
       "    </tr>\n",
       "    <tr>\n",
       "      <th>4</th>\n",
       "      <td>000188445600529</td>\n",
       "      <td>1940</td>\n",
       "      <td>Article</td>\n",
       "      <td>Polymerization of beta-methallyl alcohol and i...</td>\n",
       "      <td>NaN</td>\n",
       "      <td>NaN</td>\n",
       "      <td>1940</td>\n",
       "      <td>1.0</td>\n",
       "      <td>0.693147</td>\n",
       "      <td>Polymerization of betamethallyl alcohol and it...</td>\n",
       "    </tr>\n",
       "  </tbody>\n",
       "</table>\n",
       "</div>"
      ],
      "text/plain": [
       "         ArticleID  PubYear_x Doctypes  \\\n",
       "0  000188724900460       1922   Letter   \n",
       "1  000200401000287       1934   Letter   \n",
       "2  000202753700002       1908  Article   \n",
       "3  000202408700045       1944  Article   \n",
       "4  000188445600529       1940  Article   \n",
       "\n",
       "                                               Title Type Label  PubYear_y  \\\n",
       "0          Why is septic aural discharge so common ?  NaN   NaN       1922   \n",
       "1       The GP, the schoolmaster, and the specialist  NaN   NaN       1934   \n",
       "2  The determination of vapour pressures of solut...  NaN   NaN       1908   \n",
       "3   Relationship of penicillin to sulfonamide action  NaN   NaN       1944   \n",
       "4  Polymerization of beta-methallyl alcohol and i...  NaN   NaN       1940   \n",
       "\n",
       "     c5    log_c5                         title_without_punctuations  \n",
       "0   0.0  0.000000           Why is septic aural discharge so common   \n",
       "1   0.0  0.000000         The GP the schoolmaster and the specialist  \n",
       "2   0.0  0.000000  The determination of vapour pressures of solut...  \n",
       "3  21.0  3.091042   Relationship of penicillin to sulfonamide action  \n",
       "4   1.0  0.693147  Polymerization of betamethallyl alcohol and it...  "
      ]
     },
     "execution_count": 16,
     "metadata": {},
     "output_type": "execute_result"
    }
   ],
   "source": [
    "data.head()"
   ]
  },
  {
   "cell_type": "code",
   "execution_count": 17,
   "metadata": {},
   "outputs": [],
   "source": [
    "#count of words in the title\n",
    "\n",
    "data[\"words_in_title\"] = data[\"title_without_punctuations\"].apply(lambda x: len(x.split()))\n",
    "\n",
    "# average number of words in paper titles of a year\n",
    "grouped_df_titlecount = data.groupby('PubYear_y', as_index=False)['words_in_title'].mean()\n",
    "grouped_df_avgcit = data.groupby('PubYear_y', as_index=False)['log_c5'].mean()"
   ]
  },
  {
   "cell_type": "code",
   "execution_count": 18,
   "metadata": {},
   "outputs": [
    {
     "data": {
      "text/html": [
       "<div>\n",
       "<style scoped>\n",
       "    .dataframe tbody tr th:only-of-type {\n",
       "        vertical-align: middle;\n",
       "    }\n",
       "\n",
       "    .dataframe tbody tr th {\n",
       "        vertical-align: top;\n",
       "    }\n",
       "\n",
       "    .dataframe thead th {\n",
       "        text-align: right;\n",
       "    }\n",
       "</style>\n",
       "<table border=\"1\" class=\"dataframe\">\n",
       "  <thead>\n",
       "    <tr style=\"text-align: right;\">\n",
       "      <th></th>\n",
       "      <th>PubYear_y</th>\n",
       "      <th>words_in_title</th>\n",
       "      <th>log_c5</th>\n",
       "    </tr>\n",
       "  </thead>\n",
       "  <tbody>\n",
       "    <tr>\n",
       "      <th>0</th>\n",
       "      <td>1900</td>\n",
       "      <td>8.492403</td>\n",
       "      <td>0.044886</td>\n",
       "    </tr>\n",
       "    <tr>\n",
       "      <th>1</th>\n",
       "      <td>1901</td>\n",
       "      <td>8.603651</td>\n",
       "      <td>0.041285</td>\n",
       "    </tr>\n",
       "    <tr>\n",
       "      <th>2</th>\n",
       "      <td>1902</td>\n",
       "      <td>8.788330</td>\n",
       "      <td>0.046863</td>\n",
       "    </tr>\n",
       "    <tr>\n",
       "      <th>3</th>\n",
       "      <td>1903</td>\n",
       "      <td>8.756500</td>\n",
       "      <td>0.058912</td>\n",
       "    </tr>\n",
       "    <tr>\n",
       "      <th>4</th>\n",
       "      <td>1904</td>\n",
       "      <td>8.726779</td>\n",
       "      <td>0.064107</td>\n",
       "    </tr>\n",
       "  </tbody>\n",
       "</table>\n",
       "</div>"
      ],
      "text/plain": [
       "   PubYear_y  words_in_title    log_c5\n",
       "0       1900        8.492403  0.044886\n",
       "1       1901        8.603651  0.041285\n",
       "2       1902        8.788330  0.046863\n",
       "3       1903        8.756500  0.058912\n",
       "4       1904        8.726779  0.064107"
      ]
     },
     "execution_count": 18,
     "metadata": {},
     "output_type": "execute_result"
    }
   ],
   "source": [
    "grouped_dfs = grouped_df_titlecount.merge(grouped_df_avgcit,\n",
    "                                          how = 'left',\n",
    "                                          on = 'PubYear_y')\n",
    "grouped_dfs.head()"
   ]
  },
  {
   "cell_type": "code",
   "execution_count": 19,
   "metadata": {},
   "outputs": [
    {
     "data": {
      "text/plain": [
       "<matplotlib.axes._subplots.AxesSubplot at 0x7f1852cb5358>"
      ]
     },
     "execution_count": 19,
     "metadata": {},
     "output_type": "execute_result"
    },
    {
     "data": {
      "image/png": "[encoded data removed]",
      "text/plain": [
       "<Figure size 432x288 with 1 Axes>"
      ]
     },
     "metadata": {},
     "output_type": "display_data"
    }
   ],
   "source": [
    "# variation of c5 counts with year\n",
    "grouped_dfs.plot(x='PubYear_y', y='log_c5', style='o')"
   ]
  },
  {
   "cell_type": "code",
   "execution_count": 20,
   "metadata": {},
   "outputs": [
    {
     "data": {
      "text/plain": [
       "<matplotlib.axes._subplots.AxesSubplot at 0x7f1851964278>"
      ]
     },
     "execution_count": 20,
     "metadata": {},
     "output_type": "execute_result"
    },
    {
     "data": {
      "image/png": "[encoded data removed]",
      "text/plain": [
       "<Figure size 432x288 with 1 Axes>"
      ]
     },
     "metadata": {},
     "output_type": "display_data"
    }
   ],
   "source": [
    "#variation of words_in_title with year\n",
    "grouped_dfs.plot(x='PubYear_y', y='words_in_title', style='o')"
   ]
  }
 ],
 "metadata": {
  "kernelspec": {
   "display_name": "Python 3",
   "language": "python",
   "name": "python3"
  },
  "language_info": {
   "codemirror_mode": {
    "name": "ipython",
    "version": 3
   },
   "file_extension": ".py",
   "mimetype": "text/x-python",
   "name": "python",
   "nbconvert_exporter": "python",
   "pygments_lexer": "ipython3",
   "version": "3.6.7"
  }
 },
 "nbformat": 4,
 "nbformat_minor": 2
}
