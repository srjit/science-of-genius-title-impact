{
 "cells": [
  {
   "cell_type": "code",
   "execution_count": 1,
   "metadata": {},
   "outputs": [],
   "source": [
    "%load_ext autoreload\n",
    "%autoreload 2\n",
    "%matplotlib inline\n",
    "\n",
    "import warnings\n",
    "warnings.filterwarnings('ignore')"
   ]
  },
  {
   "cell_type": "code",
   "execution_count": 2,
   "metadata": {},
   "outputs": [],
   "source": [
    "import pandas as pd\n",
    "pd.set_option('display.max_colwidth', -1)"
   ]
  },
  {
   "cell_type": "code",
   "execution_count": 3,
   "metadata": {},
   "outputs": [],
   "source": [
    "import sys\n",
    "sys.path.insert(0, \"../code-previous\")\n",
    "sys.path.insert(0, \"../tagger-scrap\")\n",
    "\n",
    "sys.path.insert(0, \"..\")"
   ]
  },
  {
   "cell_type": "code",
   "execution_count": 4,
   "metadata": {},
   "outputs": [],
   "source": [
    "import os\n",
    "from nltk.tag.stanford import StanfordPOSTagger\n",
    "java_path = \"/home/sreekumar_s/jdk1.8.0_131/bin/java\"\n",
    "os.environ['JAVAHOME'] = java_path\n",
    "\n",
    "\n",
    "import CMUTweetTagger"
   ]
  },
  {
   "cell_type": "code",
   "execution_count": 5,
   "metadata": {},
   "outputs": [],
   "source": [
    "path_to_model = \"../pos-tagger-models/english-bidirectional-distsim.tagger\"\n",
    "path_to_jar = \"../pos-tagger-models/stanford-postagger.jar\"\n",
    "tagger = StanfordPOSTagger(path_to_model, path_to_jar)\n",
    "tagger.java_options='-mx4096m'"
   ]
  },
  {
   "cell_type": "code",
   "execution_count": 6,
   "metadata": {},
   "outputs": [],
   "source": [
    "import pandas as pd\n",
    "import numpy as np\n",
    "import nltk\n",
    "stopwords = nltk.corpus.stopwords.words('english')\n",
    "\n",
    "import plotly\n",
    "\n",
    "import swifter\n",
    "import dask.dataframe as dd\n",
    "from dask.multiprocessing import get\n",
    "\n",
    "from unicodedata import category\n",
    "from tqdm import tqdm\n",
    "tqdm.pandas(desc=\"Progress\")\n",
    "\n",
    "import seaborn as sns\n",
    "sns.set()\n",
    "import mutual_information\n",
    "import matplotlib.pyplot as plt\n",
    "path2rawdata = '/mnt/disks/vault/wos2017-parsed/'"
   ]
  },
  {
   "cell_type": "code",
   "execution_count": 7,
   "metadata": {},
   "outputs": [],
   "source": [
    "raw_data_path = \"/mnt/disks/vault/analysis-data/nature-science-data-full/nature_science_journal_data.pql\"\n",
    "data = pd.read_pickle(raw_data_path)\n",
    "\n",
    "data = data[(data.Journal == \"NATURE\") & (data.PubYear_x > 1980) & (data.PubYear_x < 1991)]"
   ]
  },
  {
   "cell_type": "code",
   "execution_count": 8,
   "metadata": {},
   "outputs": [
    {
     "data": {
      "text/plain": [
       "array([1981, 1982, 1987, 1983, 1988, 1984, 1989, 1990, 1985, 1986])"
      ]
     },
     "execution_count": 8,
     "metadata": {},
     "output_type": "execute_result"
    }
   ],
   "source": [
    "data.PubYear_x.unique()"
   ]
  },
  {
   "cell_type": "code",
   "execution_count": 9,
   "metadata": {},
   "outputs": [
    {
     "data": {
      "text/plain": [
       "16739"
      ]
     },
     "execution_count": 9,
     "metadata": {},
     "output_type": "execute_result"
    }
   ],
   "source": [
    "len(data)"
   ]
  },
  {
   "cell_type": "code",
   "execution_count": 10,
   "metadata": {},
   "outputs": [
    {
     "data": {
      "text/html": [
       "<div>\n",
       "<style scoped>\n",
       "    .dataframe tbody tr th:only-of-type {\n",
       "        vertical-align: middle;\n",
       "    }\n",
       "\n",
       "    .dataframe tbody tr th {\n",
       "        vertical-align: top;\n",
       "    }\n",
       "\n",
       "    .dataframe thead th {\n",
       "        text-align: right;\n",
       "    }\n",
       "</style>\n",
       "<table border=\"1\" class=\"dataframe\">\n",
       "  <thead>\n",
       "    <tr style=\"text-align: right;\">\n",
       "      <th></th>\n",
       "      <th>ArticleID</th>\n",
       "      <th>PubYear_x</th>\n",
       "      <th>Doctypes</th>\n",
       "      <th>Title</th>\n",
       "      <th>Journal</th>\n",
       "      <th>Journal Abbreviation ISO</th>\n",
       "      <th>PubYear_y</th>\n",
       "      <th>c5</th>\n",
       "    </tr>\n",
       "  </thead>\n",
       "  <tbody>\n",
       "    <tr>\n",
       "      <th>0</th>\n",
       "      <td>A1981MB41800038</td>\n",
       "      <td>1981</td>\n",
       "      <td>Article</td>\n",
       "      <td>INDEPENDENT CONTROL OF IMMUNOGLOBULIN HEAVY AND LIGHT CHAIN EXPRESSION IN A MURINE PRE-B-CELL LINE</td>\n",
       "      <td>NATURE</td>\n",
       "      <td>Nature</td>\n",
       "      <td>1981</td>\n",
       "      <td>23.0</td>\n",
       "    </tr>\n",
       "    <tr>\n",
       "      <th>1</th>\n",
       "      <td>A1981MK47400052</td>\n",
       "      <td>1981</td>\n",
       "      <td>Article</td>\n",
       "      <td>DEMETHYLATION OF CPG SITES IN DNA OF EARLY RABBIT TROPHOBLAST</td>\n",
       "      <td>NATURE</td>\n",
       "      <td>Nature</td>\n",
       "      <td>1981</td>\n",
       "      <td>14.0</td>\n",
       "    </tr>\n",
       "    <tr>\n",
       "      <th>5</th>\n",
       "      <td>000204440900038</td>\n",
       "      <td>1981</td>\n",
       "      <td>Article</td>\n",
       "      <td>Comb-layering in carbonatite dykes</td>\n",
       "      <td>NATURE</td>\n",
       "      <td>Nature</td>\n",
       "      <td>1981</td>\n",
       "      <td>5.0</td>\n",
       "    </tr>\n",
       "    <tr>\n",
       "      <th>8</th>\n",
       "      <td>A1981MT99400035</td>\n",
       "      <td>1981</td>\n",
       "      <td>Article</td>\n",
       "      <td>STRUCTURE SENSITIVITY IN THE IRON SINGLE-CRYSTAL CATALYZED SYNTHESIS OF AMMONIA</td>\n",
       "      <td>NATURE</td>\n",
       "      <td>Nature</td>\n",
       "      <td>1981</td>\n",
       "      <td>6.0</td>\n",
       "    </tr>\n",
       "    <tr>\n",
       "      <th>9</th>\n",
       "      <td>A1981LS25500015</td>\n",
       "      <td>1981</td>\n",
       "      <td>Article</td>\n",
       "      <td>IR VARIABILITY OF SS433</td>\n",
       "      <td>NATURE</td>\n",
       "      <td>Nature</td>\n",
       "      <td>1981</td>\n",
       "      <td>4.0</td>\n",
       "    </tr>\n",
       "  </tbody>\n",
       "</table>\n",
       "</div>"
      ],
      "text/plain": [
       "         ArticleID  PubYear_x Doctypes  \\\n",
       "0  A1981MB41800038  1981       Article   \n",
       "1  A1981MK47400052  1981       Article   \n",
       "5  000204440900038  1981       Article   \n",
       "8  A1981MT99400035  1981       Article   \n",
       "9  A1981LS25500015  1981       Article   \n",
       "\n",
       "                                                                                                Title  \\\n",
       "0  INDEPENDENT CONTROL OF IMMUNOGLOBULIN HEAVY AND LIGHT CHAIN EXPRESSION IN A MURINE PRE-B-CELL LINE   \n",
       "1  DEMETHYLATION OF CPG SITES IN DNA OF EARLY RABBIT TROPHOBLAST                                        \n",
       "5  Comb-layering in carbonatite dykes                                                                   \n",
       "8  STRUCTURE SENSITIVITY IN THE IRON SINGLE-CRYSTAL CATALYZED SYNTHESIS OF AMMONIA                      \n",
       "9  IR VARIABILITY OF SS433                                                                              \n",
       "\n",
       "  Journal Journal Abbreviation ISO  PubYear_y    c5  \n",
       "0  NATURE  Nature                   1981       23.0  \n",
       "1  NATURE  Nature                   1981       14.0  \n",
       "5  NATURE  Nature                   1981       5.0   \n",
       "8  NATURE  Nature                   1981       6.0   \n",
       "9  NATURE  Nature                   1981       4.0   "
      ]
     },
     "execution_count": 10,
     "metadata": {},
     "output_type": "execute_result"
    }
   ],
   "source": [
    "data.head()"
   ]
  },
  {
   "cell_type": "markdown",
   "metadata": {},
   "source": [
    "__Add tagging from the two parsers__"
   ]
  },
  {
   "cell_type": "code",
   "execution_count": 11,
   "metadata": {},
   "outputs": [
    {
     "name": "stderr",
     "output_type": "stream",
     "text": [
      "Pandas Apply:  18%|█▊        | 3000/16739 [1:22:26<5:14:56,  1.38s/it] IOPub message rate exceeded.\n",
      "The notebook server will temporarily stop sending output\n",
      "to the client in order to avoid crashing it.\n",
      "To change this limit, set the config variable\n",
      "`--NotebookApp.iopub_msg_rate_limit`.\n",
      "\n",
      "Current values:\n",
      "NotebookApp.iopub_msg_rate_limit=1000.0 (msgs/sec)\n",
      "NotebookApp.rate_limit_window=3.0 (secs)\n",
      "\n",
      "Pandas Apply: 100%|██████████| 16739/16739 [7:40:29<00:00,  1.29s/it]  \n"
     ]
    }
   ],
   "source": [
    "data['stanford_tagger_tags'] = data['Title'].swifter.apply(lambda x: tagger.tag(x.split()))"
   ]
  },
  {
   "cell_type": "code",
   "execution_count": 12,
   "metadata": {},
   "outputs": [],
   "source": [
    "import pickle\n",
    "data.to_pickle(\"/mnt/disks/vault/analysis-data/stanford_tagger_data/pos_tagged_stanford_1980_1990.pql\")"
   ]
  },
  {
   "cell_type": "code",
   "execution_count": null,
   "metadata": {},
   "outputs": [],
   "source": [
    "#ark_tagger_outputs = CMUTweetTagger.runtagger_parse(list(data['Title']))\n",
    "#data['ark_tagger_tags'] = pd.Series(ark_tagger_outputs)"
   ]
  },
  {
   "cell_type": "code",
   "execution_count": null,
   "metadata": {},
   "outputs": [],
   "source": [
    "## https://stackoverflow.com/questions/45545110/how-do-you-parallelize-apply-on-pandas-dataframes-making-use-of-all-cores-on-o\n",
    "\n",
    "ddata = dd.from_pandas(data, npartitions=30)\n",
    "\n",
    "res = ddata.map_partitions(lambda df: df['Title'].apply((lambda x: tag(x.split())), axis=1)).compute(get=get)"
   ]
  }
 ],
 "metadata": {
  "kernelspec": {
   "display_name": "Python 3",
   "language": "python",
   "name": "python3"
  },
  "language_info": {
   "codemirror_mode": {
    "name": "ipython",
    "version": 3
   },
   "file_extension": ".py",
   "mimetype": "text/x-python",
   "name": "python",
   "nbconvert_exporter": "python",
   "pygments_lexer": "ipython3",
   "version": "3.6.7"
  }
 },
 "nbformat": 4,
 "nbformat_minor": 2
}
