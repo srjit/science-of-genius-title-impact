{
 "cells": [
  {
   "cell_type": "code",
   "execution_count": 1,
   "metadata": {},
   "outputs": [],
   "source": [
    "%load_ext autoreload\n",
    "%autoreload 2\n",
    "%matplotlib inline\n",
    "\n",
    "import warnings\n",
    "warnings.filterwarnings('ignore')"
   ]
  },
  {
   "cell_type": "code",
   "execution_count": 2,
   "metadata": {},
   "outputs": [],
   "source": [
    "import pandas as pd\n",
    "pd.set_option('display.max_colwidth', -1)"
   ]
  },
  {
   "cell_type": "code",
   "execution_count": 3,
   "metadata": {},
   "outputs": [],
   "source": [
    "import sys\n",
    "sys.path.insert(0, \"../code-previous\")\n",
    "sys.path.insert(0, \"../tagger-scrap\")\n",
    "\n",
    "sys.path.insert(0, \"..\")"
   ]
  },
  {
   "cell_type": "code",
   "execution_count": 4,
   "metadata": {},
   "outputs": [],
   "source": [
    "import os\n",
    "from nltk.tag.stanford import StanfordPOSTagger\n",
    "java_path = \"/home/sreekumar_s/jdk1.8.0_131/bin/java\"\n",
    "os.environ['JAVAHOME'] = java_path\n",
    "\n",
    "\n",
    "import CMUTweetTagger"
   ]
  },
  {
   "cell_type": "code",
   "execution_count": 5,
   "metadata": {},
   "outputs": [],
   "source": [
    "path_to_model = \"../pos-tagger-models/english-bidirectional-distsim.tagger\"\n",
    "path_to_jar = \"../pos-tagger-models/stanford-postagger.jar\"\n",
    "tagger = StanfordPOSTagger(path_to_model, path_to_jar)\n",
    "tagger.java_options='-mx4096m'"
   ]
  },
  {
   "cell_type": "code",
   "execution_count": 6,
   "metadata": {},
   "outputs": [],
   "source": [
    "import pandas as pd\n",
    "import numpy as np\n",
    "import nltk\n",
    "stopwords = nltk.corpus.stopwords.words('english')\n",
    "\n",
    "import plotly\n",
    "\n",
    "import swifter\n",
    "import dask.dataframe as dd\n",
    "from dask.multiprocessing import get\n",
    "\n",
    "from unicodedata import category\n",
    "from tqdm import tqdm\n",
    "tqdm.pandas(desc=\"Progress\")\n",
    "\n",
    "import seaborn as sns\n",
    "sns.set()\n",
    "import mutual_information\n",
    "import matplotlib.pyplot as plt\n",
    "path2rawdata = '/mnt/disks/vault/wos2017-parsed/'"
   ]
  },
  {
   "cell_type": "code",
   "execution_count": 10,
   "metadata": {},
   "outputs": [],
   "source": [
    "raw_data_path = \"/mnt/disks/vault/analysis-data/nature-science-data-full/nature_science_journal_data.pql\"\n",
    "data = pd.read_pickle(raw_data_path)\n",
    "\n",
    "data = data[(data.Journal == \"NATURE\") & (data.PubYear_x > 2000)]"
   ]
  },
  {
   "cell_type": "code",
   "execution_count": 11,
   "metadata": {},
   "outputs": [
    {
     "data": {
      "text/plain": [
       "11940"
      ]
     },
     "execution_count": 11,
     "metadata": {},
     "output_type": "execute_result"
    }
   ],
   "source": [
    "len(data)"
   ]
  },
  {
   "cell_type": "code",
   "execution_count": 12,
   "metadata": {},
   "outputs": [
    {
     "data": {
      "text/html": [
       "<div>\n",
       "<style scoped>\n",
       "    .dataframe tbody tr th:only-of-type {\n",
       "        vertical-align: middle;\n",
       "    }\n",
       "\n",
       "    .dataframe tbody tr th {\n",
       "        vertical-align: top;\n",
       "    }\n",
       "\n",
       "    .dataframe thead th {\n",
       "        text-align: right;\n",
       "    }\n",
       "</style>\n",
       "<table border=\"1\" class=\"dataframe\">\n",
       "  <thead>\n",
       "    <tr style=\"text-align: right;\">\n",
       "      <th></th>\n",
       "      <th>ArticleID</th>\n",
       "      <th>PubYear_x</th>\n",
       "      <th>Doctypes</th>\n",
       "      <th>Title</th>\n",
       "      <th>Journal</th>\n",
       "      <th>Journal Abbreviation ISO</th>\n",
       "      <th>PubYear_y</th>\n",
       "      <th>c5</th>\n",
       "    </tr>\n",
       "  </thead>\n",
       "  <tbody>\n",
       "    <tr>\n",
       "      <th>31047</th>\n",
       "      <td>000261559900061</td>\n",
       "      <td>2008</td>\n",
       "      <td>Letter</td>\n",
       "      <td>FCA does not bind abscisic acid</td>\n",
       "      <td>NATURE</td>\n",
       "      <td>Nature</td>\n",
       "      <td>2008</td>\n",
       "      <td>20.0</td>\n",
       "    </tr>\n",
       "    <tr>\n",
       "      <th>31048</th>\n",
       "      <td>000259090800017</td>\n",
       "      <td>2008</td>\n",
       "      <td>Letter</td>\n",
       "      <td>Doping: ignorance of basic statistics is all too common</td>\n",
       "      <td>NATURE</td>\n",
       "      <td>Nature</td>\n",
       "      <td>2008</td>\n",
       "      <td>0.0</td>\n",
       "    </tr>\n",
       "    <tr>\n",
       "      <th>31050</th>\n",
       "      <td>000261340000041</td>\n",
       "      <td>2008</td>\n",
       "      <td>Article</td>\n",
       "      <td>Direct control of paralysed muscles by cortical neurons</td>\n",
       "      <td>NATURE</td>\n",
       "      <td>Nature</td>\n",
       "      <td>2008</td>\n",
       "      <td>133.0</td>\n",
       "    </tr>\n",
       "    <tr>\n",
       "      <th>31051</th>\n",
       "      <td>000258591000018</td>\n",
       "      <td>2008</td>\n",
       "      <td>Letter</td>\n",
       "      <td>Open debate could slow flu vaccine production</td>\n",
       "      <td>NATURE</td>\n",
       "      <td>Nature</td>\n",
       "      <td>2008</td>\n",
       "      <td>0.0</td>\n",
       "    </tr>\n",
       "    <tr>\n",
       "      <th>31054</th>\n",
       "      <td>000253671900043</td>\n",
       "      <td>2008</td>\n",
       "      <td>Article</td>\n",
       "      <td>Cyclical DNA methylation of a transcriptionally active promoter</td>\n",
       "      <td>NATURE</td>\n",
       "      <td>Nature</td>\n",
       "      <td>2008</td>\n",
       "      <td>362.0</td>\n",
       "    </tr>\n",
       "  </tbody>\n",
       "</table>\n",
       "</div>"
      ],
      "text/plain": [
       "             ArticleID  PubYear_x Doctypes  \\\n",
       "31047  000261559900061  2008       Letter    \n",
       "31048  000259090800017  2008       Letter    \n",
       "31050  000261340000041  2008       Article   \n",
       "31051  000258591000018  2008       Letter    \n",
       "31054  000253671900043  2008       Article   \n",
       "\n",
       "                                                                 Title  \\\n",
       "31047  FCA does not bind abscisic acid                                   \n",
       "31048  Doping: ignorance of basic statistics is all too common           \n",
       "31050  Direct control of paralysed muscles by cortical neurons           \n",
       "31051  Open debate could slow flu vaccine production                     \n",
       "31054  Cyclical DNA methylation of a transcriptionally active promoter   \n",
       "\n",
       "      Journal Journal Abbreviation ISO  PubYear_y     c5  \n",
       "31047  NATURE  Nature                   2008       20.0   \n",
       "31048  NATURE  Nature                   2008       0.0    \n",
       "31050  NATURE  Nature                   2008       133.0  \n",
       "31051  NATURE  Nature                   2008       0.0    \n",
       "31054  NATURE  Nature                   2008       362.0  "
      ]
     },
     "execution_count": 12,
     "metadata": {},
     "output_type": "execute_result"
    }
   ],
   "source": [
    "data.head()"
   ]
  },
  {
   "cell_type": "markdown",
   "metadata": {},
   "source": [
    "__Add tagging from the two parsers__"
   ]
  },
  {
   "cell_type": "code",
   "execution_count": 13,
   "metadata": {},
   "outputs": [
    {
     "name": "stderr",
     "output_type": "stream",
     "text": [
      "Pandas Apply: 100%|██████████| 11940/11940 [3:23:27<00:00,  1.02s/it] \n"
     ]
    }
   ],
   "source": [
    "data['stanford_tagger_tags'] = data['Title'].swifter.apply(lambda x: tagger.tag(x.split()))"
   ]
  },
  {
   "cell_type": "code",
   "execution_count": 14,
   "metadata": {},
   "outputs": [],
   "source": [
    "import pickle\n",
    "data.to_pickle(\"/mnt/disks/vault/analysis-data/stanford_tagger_data/pos_tagged_stanford_2001.pql\")"
   ]
  },
  {
   "cell_type": "code",
   "execution_count": null,
   "metadata": {},
   "outputs": [],
   "source": [
    "#ark_tagger_outputs = CMUTweetTagger.runtagger_parse(list(data['Title']))\n",
    "#data['ark_tagger_tags'] = pd.Series(ark_tagger_outputs)"
   ]
  },
  {
   "cell_type": "code",
   "execution_count": null,
   "metadata": {},
   "outputs": [],
   "source": [
    "## https://stackoverflow.com/questions/45545110/how-do-you-parallelize-apply-on-pandas-dataframes-making-use-of-all-cores-on-o\n",
    "\n",
    "ddata = dd.from_pandas(data, npartitions=30)\n",
    "\n",
    "res = ddata.map_partitions(lambda df: df['Title'].apply((lambda x: tag(x.split())), axis=1)).compute(get=get)"
   ]
  }
 ],
 "metadata": {
  "kernelspec": {
   "display_name": "Python 3",
   "language": "python",
   "name": "python3"
  },
  "language_info": {
   "codemirror_mode": {
    "name": "ipython",
    "version": 3
   },
   "file_extension": ".py",
   "mimetype": "text/x-python",
   "name": "python",
   "nbconvert_exporter": "python",
   "pygments_lexer": "ipython3",
   "version": "3.6.7"
  }
 },
 "nbformat": 4,
 "nbformat_minor": 2
}
