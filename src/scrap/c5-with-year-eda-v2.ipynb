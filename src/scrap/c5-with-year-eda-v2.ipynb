{
 "cells": [
  {
   "cell_type": "code",
   "execution_count": 1,
   "metadata": {},
   "outputs": [],
   "source": [
    "%load_ext autoreload\n",
    "%autoreload 2\n",
    "%matplotlib inline"
   ]
  },
  {
   "cell_type": "code",
   "execution_count": 2,
   "metadata": {},
   "outputs": [],
   "source": [
    "import sys\n",
    "sys.path.insert(0, \"../code-previous\")"
   ]
  },
  {
   "cell_type": "code",
   "execution_count": 4,
   "metadata": {},
   "outputs": [
    {
     "name": "stderr",
     "output_type": "stream",
     "text": [
      "/usr/lib/python3.6/importlib/_bootstrap.py:219: RuntimeWarning: numpy.dtype size changed, may indicate binary incompatibility. Expected 96, got 88\n",
      "  return f(*args, **kwds)\n"
     ]
    }
   ],
   "source": [
    "import pandas as pd\n",
    "import numpy as np\n",
    "import networkx as nx\n",
    "import sklearn.feature_extraction as skfeatures\n",
    "import utils\n",
    "import time\n",
    "import os\n",
    "\n",
    "from unicodedata import category\n",
    "from tqdm import tqdm\n",
    "#from tqdm import tqdm_notebook as tqdm\n",
    "tqdm.pandas(desc=\"Progress\")\n",
    "\n",
    "import seaborn as sns\n",
    "sns.set_style('white')\n",
    "import matplotlib.pylab as plt\n",
    "\n",
    "import WOSutilities as wosutil\n",
    "\n",
    "path2rawdata = '/mnt/disks/vault/wos2017-parsed/'"
   ]
  },
  {
   "cell_type": "code",
   "execution_count": 5,
   "metadata": {},
   "outputs": [],
   "source": [
    "data = pd.read_pickle(\"/mnt/disks/vault/citation-data-all/article-cat-c5-merged.pql\")"
   ]
  },
  {
   "cell_type": "code",
   "execution_count": 11,
   "metadata": {},
   "outputs": [
    {
     "data": {
      "text/plain": [
       "Index(['ArticleID', 'PubYear_x', 'Doctypes', 'Title', 'Type', 'Label',\n",
       "       'PubYear_y', 'c5'],\n",
       "      dtype='object')"
      ]
     },
     "execution_count": 11,
     "metadata": {},
     "output_type": "execute_result"
    }
   ],
   "source": [
    "data.columns"
   ]
  },
  {
   "cell_type": "code",
   "execution_count": 17,
   "metadata": {},
   "outputs": [
    {
     "data": {
      "text/plain": [
       "ArticleID    30520771\n",
       "PubYear_x    30520771\n",
       "Doctypes     30520771\n",
       "Title        30520764\n",
       "Type           738469\n",
       "Label          738469\n",
       "PubYear_y    30520771\n",
       "c5           30520771\n",
       "dtype: int64"
      ]
     },
     "execution_count": 17,
     "metadata": {},
     "output_type": "execute_result"
    }
   ],
   "source": [
    "# 22% of articles have pubyear_x different from pubyear_y -why?\n",
    "data[data['PubYear_x'] == data['PubYear_y']].count()"
   ]
  },
  {
   "cell_type": "code",
   "execution_count": 20,
   "metadata": {},
   "outputs": [
    {
     "name": "stderr",
     "output_type": "stream",
     "text": [
      "Progress: 100%|██████████| 39171597/39171597 [00:50<00:00, 782011.91it/s]\n"
     ]
    }
   ],
   "source": [
    "#number of characters in each title\n",
    "\n",
    "\n",
    "def get_length(s):\n",
    "    len_s = 0\n",
    "    try:\n",
    "        len_s = len(s)\n",
    "    except:\n",
    "        pass\n",
    "    return len_s\n",
    "\n",
    "data['character_counts'] = data['Title'].progress_apply(lambda x: get_length(x))"
   ]
  },
  {
   "cell_type": "code",
   "execution_count": 21,
   "metadata": {},
   "outputs": [
    {
     "data": {
      "text/html": [
       "<div>\n",
       "<style scoped>\n",
       "    .dataframe tbody tr th:only-of-type {\n",
       "        vertical-align: middle;\n",
       "    }\n",
       "\n",
       "    .dataframe tbody tr th {\n",
       "        vertical-align: top;\n",
       "    }\n",
       "\n",
       "    .dataframe thead th {\n",
       "        text-align: right;\n",
       "    }\n",
       "</style>\n",
       "<table border=\"1\" class=\"dataframe\">\n",
       "  <thead>\n",
       "    <tr style=\"text-align: right;\">\n",
       "      <th></th>\n",
       "      <th>ArticleID</th>\n",
       "      <th>PubYear_x</th>\n",
       "      <th>Doctypes</th>\n",
       "      <th>Title</th>\n",
       "      <th>Type</th>\n",
       "      <th>Label</th>\n",
       "      <th>PubYear_y</th>\n",
       "      <th>c5</th>\n",
       "      <th>character_counts</th>\n",
       "    </tr>\n",
       "  </thead>\n",
       "  <tbody>\n",
       "    <tr>\n",
       "      <th>0</th>\n",
       "      <td>A1981LC59600003</td>\n",
       "      <td>1981</td>\n",
       "      <td>Article</td>\n",
       "      <td>SPORADIC LEGIONELLOSIS IN THE UNITED-STATES - ...</td>\n",
       "      <td>NaN</td>\n",
       "      <td>NaN</td>\n",
       "      <td>1981.0</td>\n",
       "      <td>48.0</td>\n",
       "      <td>68</td>\n",
       "    </tr>\n",
       "    <tr>\n",
       "      <th>1</th>\n",
       "      <td>A1981LC51800016</td>\n",
       "      <td>1981</td>\n",
       "      <td>Article</td>\n",
       "      <td>REACTION OF LEAD PERCHLORATE WITH AMMONIUM HYD...</td>\n",
       "      <td>NaN</td>\n",
       "      <td>NaN</td>\n",
       "      <td>1981.0</td>\n",
       "      <td>0.0</td>\n",
       "      <td>78</td>\n",
       "    </tr>\n",
       "    <tr>\n",
       "      <th>2</th>\n",
       "      <td>A1981MP52000011</td>\n",
       "      <td>1981</td>\n",
       "      <td>Article</td>\n",
       "      <td>ELECTRICAL PACING FOR SHORT BOWEL SYNDROME</td>\n",
       "      <td>NaN</td>\n",
       "      <td>NaN</td>\n",
       "      <td>1981.0</td>\n",
       "      <td>5.0</td>\n",
       "      <td>42</td>\n",
       "    </tr>\n",
       "    <tr>\n",
       "      <th>3</th>\n",
       "      <td>A1981LZ55900001</td>\n",
       "      <td>1981</td>\n",
       "      <td>Review</td>\n",
       "      <td>STABILITY TESTING OF SOLID DRUGS USING PREFERE...</td>\n",
       "      <td>NaN</td>\n",
       "      <td>NaN</td>\n",
       "      <td>1981.0</td>\n",
       "      <td>3.0</td>\n",
       "      <td>157</td>\n",
       "    </tr>\n",
       "    <tr>\n",
       "      <th>4</th>\n",
       "      <td>A1981ME20500010</td>\n",
       "      <td>1981</td>\n",
       "      <td>Article</td>\n",
       "      <td>ON THE DETERMINATION OF THE 1ST NORMAL STRESS ...</td>\n",
       "      <td>NaN</td>\n",
       "      <td>NaN</td>\n",
       "      <td>1981.0</td>\n",
       "      <td>1.0</td>\n",
       "      <td>96</td>\n",
       "    </tr>\n",
       "  </tbody>\n",
       "</table>\n",
       "</div>"
      ],
      "text/plain": [
       "         ArticleID  PubYear_x Doctypes  \\\n",
       "0  A1981LC59600003       1981  Article   \n",
       "1  A1981LC51800016       1981  Article   \n",
       "2  A1981MP52000011       1981  Article   \n",
       "3  A1981LZ55900001       1981   Review   \n",
       "4  A1981ME20500010       1981  Article   \n",
       "\n",
       "                                               Title Type Label  PubYear_y  \\\n",
       "0  SPORADIC LEGIONELLOSIS IN THE UNITED-STATES - ...  NaN   NaN     1981.0   \n",
       "1  REACTION OF LEAD PERCHLORATE WITH AMMONIUM HYD...  NaN   NaN     1981.0   \n",
       "2         ELECTRICAL PACING FOR SHORT BOWEL SYNDROME  NaN   NaN     1981.0   \n",
       "3  STABILITY TESTING OF SOLID DRUGS USING PREFERE...  NaN   NaN     1981.0   \n",
       "4  ON THE DETERMINATION OF THE 1ST NORMAL STRESS ...  NaN   NaN     1981.0   \n",
       "\n",
       "     c5  character_counts  \n",
       "0  48.0                68  \n",
       "1   0.0                78  \n",
       "2   5.0                42  \n",
       "3   3.0               157  \n",
       "4   1.0                96  "
      ]
     },
     "execution_count": 21,
     "metadata": {},
     "output_type": "execute_result"
    }
   ],
   "source": [
    "data.head()"
   ]
  },
  {
   "cell_type": "code",
   "execution_count": 22,
   "metadata": {},
   "outputs": [
    {
     "name": "stderr",
     "output_type": "stream",
     "text": [
      "Progress: 100%|██████████| 39171597/39171597 [01:21<00:00, 480731.75it/s]\n"
     ]
    }
   ],
   "source": [
    "# correction - adding 1 to all the citation counts (for easiness of log scale calculations)\n",
    "# and taking the log scale on it\n",
    "import numpy as np\n",
    "\n",
    "data['log_c5'] = data['c5'].progress_apply(lambda x: np.log(x+1))"
   ]
  },
  {
   "cell_type": "code",
   "execution_count": 23,
   "metadata": {},
   "outputs": [
    {
     "data": {
      "text/html": [
       "<div>\n",
       "<style scoped>\n",
       "    .dataframe tbody tr th:only-of-type {\n",
       "        vertical-align: middle;\n",
       "    }\n",
       "\n",
       "    .dataframe tbody tr th {\n",
       "        vertical-align: top;\n",
       "    }\n",
       "\n",
       "    .dataframe thead th {\n",
       "        text-align: right;\n",
       "    }\n",
       "</style>\n",
       "<table border=\"1\" class=\"dataframe\">\n",
       "  <thead>\n",
       "    <tr style=\"text-align: right;\">\n",
       "      <th></th>\n",
       "      <th>character_counts</th>\n",
       "      <th>log_c5</th>\n",
       "    </tr>\n",
       "  </thead>\n",
       "  <tbody>\n",
       "    <tr>\n",
       "      <th>0</th>\n",
       "      <td>0</td>\n",
       "      <td>1.436773</td>\n",
       "    </tr>\n",
       "    <tr>\n",
       "      <th>1</th>\n",
       "      <td>1</td>\n",
       "      <td>0.738641</td>\n",
       "    </tr>\n",
       "    <tr>\n",
       "      <th>2</th>\n",
       "      <td>2</td>\n",
       "      <td>0.276585</td>\n",
       "    </tr>\n",
       "    <tr>\n",
       "      <th>3</th>\n",
       "      <td>3</td>\n",
       "      <td>0.196824</td>\n",
       "    </tr>\n",
       "    <tr>\n",
       "      <th>4</th>\n",
       "      <td>4</td>\n",
       "      <td>0.211048</td>\n",
       "    </tr>\n",
       "  </tbody>\n",
       "</table>\n",
       "</div>"
      ],
      "text/plain": [
       "   character_counts    log_c5\n",
       "0                 0  1.436773\n",
       "1                 1  0.738641\n",
       "2                 2  0.276585\n",
       "3                 3  0.196824\n",
       "4                 4  0.211048"
      ]
     },
     "execution_count": 23,
     "metadata": {},
     "output_type": "execute_result"
    }
   ],
   "source": [
    "# variation of character length with citations count\n",
    "grouped_df_charactercount = data.groupby('character_counts', as_index=False)['log_c5'].mean()\n",
    "grouped_df_charactercount.head()"
   ]
  },
  {
   "cell_type": "code",
   "execution_count": 25,
   "metadata": {},
   "outputs": [
    {
     "data": {
      "text/plain": [
       "<matplotlib.axes._subplots.AxesSubplot at 0x7f7a897b54a8>"
      ]
     },
     "execution_count": 25,
     "metadata": {},
     "output_type": "execute_result"
    },
    {
     "data": {
      "image/png": "[encoded data removed]",
      "text/plain": [
       "<Figure size 432x288 with 1 Axes>"
      ]
     },
     "metadata": {},
     "output_type": "display_data"
    }
   ],
   "source": [
    "grouped_df_charactercount.plot(x='character_counts', y='log_c5', style='-')"
   ]
  },
  {
   "cell_type": "code",
   "execution_count": 26,
   "metadata": {},
   "outputs": [
    {
     "name": "stderr",
     "output_type": "stream",
     "text": [
      "Progress: 100%|██████████| 39171597/39171597 [12:06<00:00, 53943.71it/s]\n",
      "Progress: 100%|██████████| 39171597/39171597 [01:17<00:00, 503580.63it/s]\n"
     ]
    }
   ],
   "source": [
    "## word count vs log_c5\n",
    "\n",
    "# clean up puctuations from titles\n",
    "sample = data.head(100)\n",
    "\n",
    "# there are some titles with some problems - to be identified\n",
    "def remove_punct(s):\n",
    "    op = ''\n",
    "    try:\n",
    "        op = ''.join(ch for ch in str(s) if category(ch)[0] != 'P')\n",
    "    except:\n",
    "        op = ''\n",
    "    return op\n",
    "    \n",
    "    \n",
    "def count_words(s):\n",
    "    words = 0\n",
    "    try:\n",
    "        words = len(s.split())\n",
    "    except:\n",
    "        pass\n",
    "    return words    \n",
    "    \n",
    "\n",
    "data['title_without_punctuations'] = data['Title'].progress_apply(lambda x: remove_punct(x))\n",
    "data[\"words_in_title\"] = data[\"Title\"].progress_apply(lambda x: count_words(x))"
   ]
  },
  {
   "cell_type": "code",
   "execution_count": 28,
   "metadata": {},
   "outputs": [
    {
     "data": {
      "text/plain": [
       "<matplotlib.axes._subplots.AxesSubplot at 0x7f7be84f2fd0>"
      ]
     },
     "execution_count": 28,
     "metadata": {},
     "output_type": "execute_result"
    },
    {
     "data": {
      "image/png": "[encoded data removed]",
      "text/plain": [
       "<Figure size 432x288 with 1 Axes>"
      ]
     },
     "metadata": {},
     "output_type": "display_data"
    }
   ],
   "source": [
    "grouped_df_wordcount = data.groupby('words_in_title', as_index=False)['log_c5'].mean()\n",
    "grouped_df_wordcount.plot(x='words_in_title', y='log_c5', style='-')"
   ]
  },
  {
   "cell_type": "code",
   "execution_count": null,
   "metadata": {},
   "outputs": [],
   "source": [
    "# Has the change in wordcount changed c5 counts over the years?"
   ]
  }
 ],
 "metadata": {
  "kernelspec": {
   "display_name": "Python 3",
   "language": "python",
   "name": "python3"
  },
  "language_info": {
   "codemirror_mode": {
    "name": "ipython",
    "version": 3
   },
   "file_extension": ".py",
   "mimetype": "text/x-python",
   "name": "python",
   "nbconvert_exporter": "python",
   "pygments_lexer": "ipython3",
   "version": "3.6.7"
  }
 },
 "nbformat": 4,
 "nbformat_minor": 2
}
