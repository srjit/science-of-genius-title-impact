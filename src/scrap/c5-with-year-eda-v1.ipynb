{
 "cells": [
  {
   "cell_type": "code",
   "execution_count": 1,
   "metadata": {},
   "outputs": [],
   "source": [
    "%load_ext autoreload\n",
    "%autoreload 2\n",
    "%matplotlib inline"
   ]
  },
  {
   "cell_type": "code",
   "execution_count": 2,
   "metadata": {},
   "outputs": [],
   "source": [
    "import sys\n",
    "sys.path.insert(0, \"../code-previous\")"
   ]
  },
  {
   "cell_type": "code",
   "execution_count": 3,
   "metadata": {},
   "outputs": [
    {
     "name": "stderr",
     "output_type": "stream",
     "text": [
      "/usr/lib/python3.6/importlib/_bootstrap.py:219: RuntimeWarning: numpy.dtype size changed, may indicate binary incompatibility. Expected 96, got 88\n",
      "  return f(*args, **kwds)\n"
     ]
    }
   ],
   "source": [
    "import pandas as pd\n",
    "import numpy as np\n",
    "import networkx as nx\n",
    "import sklearn.feature_extraction as skfeatures\n",
    "import utils\n",
    "import time\n",
    "import os\n",
    "\n",
    "from unicodedata import category\n",
    "from tqdm import tqdm\n",
    "#from tqdm import tqdm_notebook as tqdm\n",
    "tqdm.pandas(desc=\"Progress\")\n",
    "\n",
    "import seaborn as sns\n",
    "sns.set_style('white')\n",
    "import matplotlib.pylab as plt\n",
    "\n",
    "import WOSutilities as wosutil\n",
    "\n",
    "path2rawdata = '/mnt/disks/vault/wos2017-parsed/'"
   ]
  },
  {
   "cell_type": "code",
   "execution_count": 4,
   "metadata": {},
   "outputs": [],
   "source": [
    "data = pd.read_pickle(\"/mnt/disks/vault/citation-data-all/article-cat-c5-merged.pql\")"
   ]
  },
  {
   "cell_type": "markdown",
   "metadata": {},
   "source": [
    "Articles are only from Applied Physics category"
   ]
  },
  {
   "cell_type": "code",
   "execution_count": 5,
   "metadata": {},
   "outputs": [
    {
     "data": {
      "text/plain": [
       "Index(['ArticleID', 'PubYear_x', 'Doctypes', 'Title', 'Type', 'Label',\n",
       "       'PubYear_y', 'c5'],\n",
       "      dtype='object')"
      ]
     },
     "execution_count": 5,
     "metadata": {},
     "output_type": "execute_result"
    }
   ],
   "source": [
    "data.columns"
   ]
  },
  {
   "cell_type": "code",
   "execution_count": 6,
   "metadata": {},
   "outputs": [
    {
     "data": {
      "text/plain": [
       "array([1900, 1901, 1902, 1903, 1904, 1905, 1906, 1907, 1908, 1909, 1910,\n",
       "       1911, 1912, 1913, 1914, 1915, 1916, 1917, 1918, 1919, 1920, 1921,\n",
       "       1922, 1923, 1924, 1925, 1926, 1927, 1928, 1929, 1930, 1931, 1932,\n",
       "       1933, 1934, 1935, 1936, 1937, 1938, 1939, 1940, 1941, 1942, 1943,\n",
       "       1944, 1945, 1946, 1947, 1948, 1949, 1950, 1951, 1952, 1953, 1954,\n",
       "       1955, 1956, 1957, 1958, 1959, 1960, 1961, 1962, 1963, 1964, 1965,\n",
       "       1966, 1967, 1968, 1969, 1970, 1971, 1972, 1973, 1974, 1975, 1976,\n",
       "       1977, 1978, 1979, 1980, 1981, 1982, 1983, 1984, 1985, 1986, 1987,\n",
       "       1988, 1989, 1990, 1991, 1992, 1993, 1994, 1995, 1996, 1997, 1998,\n",
       "       1999, 2000, 2001, 2002, 2003, 2004, 2005, 2006, 2007, 2008, 2009,\n",
       "       2010, 2011, 2012, 2013, 2014, 2015, 2016, 2017])"
      ]
     },
     "execution_count": 6,
     "metadata": {},
     "output_type": "execute_result"
    }
   ],
   "source": [
    "years = data[\"PubYear_x\"].unique()\n",
    "years.sort()\n",
    "years"
   ]
  },
  {
   "cell_type": "code",
   "execution_count": 7,
   "metadata": {},
   "outputs": [
    {
     "name": "stderr",
     "output_type": "stream",
     "text": [
      "Progress: 100%|██████████| 39171597/39171597 [01:20<00:00, 488197.31it/s]\n"
     ]
    }
   ],
   "source": [
    "# correction - adding 1 to all the citation counts (for easiness of log scale calculations)\n",
    "# and taking the log scale on it\n",
    "import numpy as np\n",
    "\n",
    "data['log_c5'] = data['c5'].progress_apply(lambda x: np.log(x+1))"
   ]
  },
  {
   "cell_type": "code",
   "execution_count": 8,
   "metadata": {},
   "outputs": [
    {
     "data": {
      "text/plain": [
       "array([[<matplotlib.axes._subplots.AxesSubplot object at 0x7f5d6bdaa748>]],\n",
       "      dtype=object)"
      ]
     },
     "execution_count": 8,
     "metadata": {},
     "output_type": "execute_result"
    },
    {
     "data": {
      "image/png": "[encoded data removed]",
      "text/plain": [
       "<Figure size 432x288 with 1 Axes>"
      ]
     },
     "metadata": {},
     "output_type": "display_data"
    }
   ],
   "source": [
    "# number of publications\n",
    "data.hist(column='PubYear_x', log=True)"
   ]
  },
  {
   "cell_type": "code",
   "execution_count": 9,
   "metadata": {},
   "outputs": [
    {
     "data": {
      "text/plain": [
       "39171597"
      ]
     },
     "execution_count": 9,
     "metadata": {},
     "output_type": "execute_result"
    }
   ],
   "source": [
    "len(data)"
   ]
  },
  {
   "cell_type": "code",
   "execution_count": 10,
   "metadata": {},
   "outputs": [
    {
     "data": {
      "text/html": [
       "<div>\n",
       "<style scoped>\n",
       "    .dataframe tbody tr th:only-of-type {\n",
       "        vertical-align: middle;\n",
       "    }\n",
       "\n",
       "    .dataframe tbody tr th {\n",
       "        vertical-align: top;\n",
       "    }\n",
       "\n",
       "    .dataframe thead th {\n",
       "        text-align: right;\n",
       "    }\n",
       "</style>\n",
       "<table border=\"1\" class=\"dataframe\">\n",
       "  <thead>\n",
       "    <tr style=\"text-align: right;\">\n",
       "      <th></th>\n",
       "      <th>ArticleID</th>\n",
       "      <th>PubYear_x</th>\n",
       "      <th>Doctypes</th>\n",
       "      <th>Title</th>\n",
       "      <th>Type</th>\n",
       "      <th>Label</th>\n",
       "      <th>PubYear_y</th>\n",
       "      <th>c5</th>\n",
       "      <th>log_c5</th>\n",
       "    </tr>\n",
       "  </thead>\n",
       "  <tbody>\n",
       "    <tr>\n",
       "      <th>0</th>\n",
       "      <td>A1981LC59600003</td>\n",
       "      <td>1981</td>\n",
       "      <td>Article</td>\n",
       "      <td>SPORADIC LEGIONELLOSIS IN THE UNITED-STATES - ...</td>\n",
       "      <td>NaN</td>\n",
       "      <td>NaN</td>\n",
       "      <td>1981.0</td>\n",
       "      <td>48.0</td>\n",
       "      <td>3.891820</td>\n",
       "    </tr>\n",
       "    <tr>\n",
       "      <th>1</th>\n",
       "      <td>A1981LC51800016</td>\n",
       "      <td>1981</td>\n",
       "      <td>Article</td>\n",
       "      <td>REACTION OF LEAD PERCHLORATE WITH AMMONIUM HYD...</td>\n",
       "      <td>NaN</td>\n",
       "      <td>NaN</td>\n",
       "      <td>1981.0</td>\n",
       "      <td>0.0</td>\n",
       "      <td>0.000000</td>\n",
       "    </tr>\n",
       "    <tr>\n",
       "      <th>2</th>\n",
       "      <td>A1981MP52000011</td>\n",
       "      <td>1981</td>\n",
       "      <td>Article</td>\n",
       "      <td>ELECTRICAL PACING FOR SHORT BOWEL SYNDROME</td>\n",
       "      <td>NaN</td>\n",
       "      <td>NaN</td>\n",
       "      <td>1981.0</td>\n",
       "      <td>5.0</td>\n",
       "      <td>1.791759</td>\n",
       "    </tr>\n",
       "    <tr>\n",
       "      <th>3</th>\n",
       "      <td>A1981LZ55900001</td>\n",
       "      <td>1981</td>\n",
       "      <td>Review</td>\n",
       "      <td>STABILITY TESTING OF SOLID DRUGS USING PREFERE...</td>\n",
       "      <td>NaN</td>\n",
       "      <td>NaN</td>\n",
       "      <td>1981.0</td>\n",
       "      <td>3.0</td>\n",
       "      <td>1.386294</td>\n",
       "    </tr>\n",
       "    <tr>\n",
       "      <th>4</th>\n",
       "      <td>A1981ME20500010</td>\n",
       "      <td>1981</td>\n",
       "      <td>Article</td>\n",
       "      <td>ON THE DETERMINATION OF THE 1ST NORMAL STRESS ...</td>\n",
       "      <td>NaN</td>\n",
       "      <td>NaN</td>\n",
       "      <td>1981.0</td>\n",
       "      <td>1.0</td>\n",
       "      <td>0.693147</td>\n",
       "    </tr>\n",
       "  </tbody>\n",
       "</table>\n",
       "</div>"
      ],
      "text/plain": [
       "         ArticleID  PubYear_x Doctypes  \\\n",
       "0  A1981LC59600003       1981  Article   \n",
       "1  A1981LC51800016       1981  Article   \n",
       "2  A1981MP52000011       1981  Article   \n",
       "3  A1981LZ55900001       1981   Review   \n",
       "4  A1981ME20500010       1981  Article   \n",
       "\n",
       "                                               Title Type Label  PubYear_y  \\\n",
       "0  SPORADIC LEGIONELLOSIS IN THE UNITED-STATES - ...  NaN   NaN     1981.0   \n",
       "1  REACTION OF LEAD PERCHLORATE WITH AMMONIUM HYD...  NaN   NaN     1981.0   \n",
       "2         ELECTRICAL PACING FOR SHORT BOWEL SYNDROME  NaN   NaN     1981.0   \n",
       "3  STABILITY TESTING OF SOLID DRUGS USING PREFERE...  NaN   NaN     1981.0   \n",
       "4  ON THE DETERMINATION OF THE 1ST NORMAL STRESS ...  NaN   NaN     1981.0   \n",
       "\n",
       "     c5    log_c5  \n",
       "0  48.0  3.891820  \n",
       "1   0.0  0.000000  \n",
       "2   5.0  1.791759  \n",
       "3   3.0  1.386294  \n",
       "4   1.0  0.693147  "
      ]
     },
     "execution_count": 10,
     "metadata": {},
     "output_type": "execute_result"
    }
   ],
   "source": [
    "data.head()"
   ]
  },
  {
   "cell_type": "code",
   "execution_count": 11,
   "metadata": {},
   "outputs": [
    {
     "data": {
      "text/plain": [
       "0"
      ]
     },
     "execution_count": 11,
     "metadata": {},
     "output_type": "execute_result"
    }
   ],
   "source": [
    "len(data[data.Title == None])"
   ]
  },
  {
   "cell_type": "code",
   "execution_count": 12,
   "metadata": {},
   "outputs": [
    {
     "name": "stderr",
     "output_type": "stream",
     "text": [
      "Progress: 100%|██████████| 39171597/39171597 [11:44<00:00, 55565.59it/s]\n"
     ]
    }
   ],
   "source": [
    "# clean up puctuations from titles\n",
    "sample = data.head(100)\n",
    "\n",
    "# there are some titles with some problems - to be identified\n",
    "def remove_punct(s):\n",
    "    op = ''\n",
    "    try:\n",
    "        op = ''.join(ch for ch in str(s) if category(ch)[0] != 'P')\n",
    "    except:\n",
    "        op = ''\n",
    "    return op\n",
    "    \n",
    "    \n",
    "\n",
    "data['title_without_punctuations'] = data['Title'].progress_apply(lambda x: remove_punct(x))"
   ]
  },
  {
   "cell_type": "code",
   "execution_count": 13,
   "metadata": {},
   "outputs": [
    {
     "data": {
      "text/html": [
       "<div>\n",
       "<style scoped>\n",
       "    .dataframe tbody tr th:only-of-type {\n",
       "        vertical-align: middle;\n",
       "    }\n",
       "\n",
       "    .dataframe tbody tr th {\n",
       "        vertical-align: top;\n",
       "    }\n",
       "\n",
       "    .dataframe thead th {\n",
       "        text-align: right;\n",
       "    }\n",
       "</style>\n",
       "<table border=\"1\" class=\"dataframe\">\n",
       "  <thead>\n",
       "    <tr style=\"text-align: right;\">\n",
       "      <th></th>\n",
       "      <th>ArticleID</th>\n",
       "      <th>PubYear_x</th>\n",
       "      <th>Doctypes</th>\n",
       "      <th>Title</th>\n",
       "      <th>Type</th>\n",
       "      <th>Label</th>\n",
       "      <th>PubYear_y</th>\n",
       "      <th>c5</th>\n",
       "      <th>log_c5</th>\n",
       "      <th>title_without_punctuations</th>\n",
       "    </tr>\n",
       "  </thead>\n",
       "  <tbody>\n",
       "    <tr>\n",
       "      <th>0</th>\n",
       "      <td>A1981LC59600003</td>\n",
       "      <td>1981</td>\n",
       "      <td>Article</td>\n",
       "      <td>SPORADIC LEGIONELLOSIS IN THE UNITED-STATES - ...</td>\n",
       "      <td>NaN</td>\n",
       "      <td>NaN</td>\n",
       "      <td>1981.0</td>\n",
       "      <td>48.0</td>\n",
       "      <td>3.891820</td>\n",
       "      <td>SPORADIC LEGIONELLOSIS IN THE UNITEDSTATES  TH...</td>\n",
       "    </tr>\n",
       "    <tr>\n",
       "      <th>1</th>\n",
       "      <td>A1981LC51800016</td>\n",
       "      <td>1981</td>\n",
       "      <td>Article</td>\n",
       "      <td>REACTION OF LEAD PERCHLORATE WITH AMMONIUM HYD...</td>\n",
       "      <td>NaN</td>\n",
       "      <td>NaN</td>\n",
       "      <td>1981.0</td>\n",
       "      <td>0.0</td>\n",
       "      <td>0.000000</td>\n",
       "      <td>REACTION OF LEAD PERCHLORATE WITH AMMONIUM HYD...</td>\n",
       "    </tr>\n",
       "    <tr>\n",
       "      <th>2</th>\n",
       "      <td>A1981MP52000011</td>\n",
       "      <td>1981</td>\n",
       "      <td>Article</td>\n",
       "      <td>ELECTRICAL PACING FOR SHORT BOWEL SYNDROME</td>\n",
       "      <td>NaN</td>\n",
       "      <td>NaN</td>\n",
       "      <td>1981.0</td>\n",
       "      <td>5.0</td>\n",
       "      <td>1.791759</td>\n",
       "      <td>ELECTRICAL PACING FOR SHORT BOWEL SYNDROME</td>\n",
       "    </tr>\n",
       "    <tr>\n",
       "      <th>3</th>\n",
       "      <td>A1981LZ55900001</td>\n",
       "      <td>1981</td>\n",
       "      <td>Review</td>\n",
       "      <td>STABILITY TESTING OF SOLID DRUGS USING PREFERE...</td>\n",
       "      <td>NaN</td>\n",
       "      <td>NaN</td>\n",
       "      <td>1981.0</td>\n",
       "      <td>3.0</td>\n",
       "      <td>1.386294</td>\n",
       "      <td>STABILITY TESTING OF SOLID DRUGS USING PREFERE...</td>\n",
       "    </tr>\n",
       "    <tr>\n",
       "      <th>4</th>\n",
       "      <td>A1981ME20500010</td>\n",
       "      <td>1981</td>\n",
       "      <td>Article</td>\n",
       "      <td>ON THE DETERMINATION OF THE 1ST NORMAL STRESS ...</td>\n",
       "      <td>NaN</td>\n",
       "      <td>NaN</td>\n",
       "      <td>1981.0</td>\n",
       "      <td>1.0</td>\n",
       "      <td>0.693147</td>\n",
       "      <td>ON THE DETERMINATION OF THE 1ST NORMAL STRESS ...</td>\n",
       "    </tr>\n",
       "  </tbody>\n",
       "</table>\n",
       "</div>"
      ],
      "text/plain": [
       "         ArticleID  PubYear_x Doctypes  \\\n",
       "0  A1981LC59600003       1981  Article   \n",
       "1  A1981LC51800016       1981  Article   \n",
       "2  A1981MP52000011       1981  Article   \n",
       "3  A1981LZ55900001       1981   Review   \n",
       "4  A1981ME20500010       1981  Article   \n",
       "\n",
       "                                               Title Type Label  PubYear_y  \\\n",
       "0  SPORADIC LEGIONELLOSIS IN THE UNITED-STATES - ...  NaN   NaN     1981.0   \n",
       "1  REACTION OF LEAD PERCHLORATE WITH AMMONIUM HYD...  NaN   NaN     1981.0   \n",
       "2         ELECTRICAL PACING FOR SHORT BOWEL SYNDROME  NaN   NaN     1981.0   \n",
       "3  STABILITY TESTING OF SOLID DRUGS USING PREFERE...  NaN   NaN     1981.0   \n",
       "4  ON THE DETERMINATION OF THE 1ST NORMAL STRESS ...  NaN   NaN     1981.0   \n",
       "\n",
       "     c5    log_c5                         title_without_punctuations  \n",
       "0  48.0  3.891820  SPORADIC LEGIONELLOSIS IN THE UNITEDSTATES  TH...  \n",
       "1   0.0  0.000000  REACTION OF LEAD PERCHLORATE WITH AMMONIUM HYD...  \n",
       "2   5.0  1.791759         ELECTRICAL PACING FOR SHORT BOWEL SYNDROME  \n",
       "3   3.0  1.386294  STABILITY TESTING OF SOLID DRUGS USING PREFERE...  \n",
       "4   1.0  0.693147  ON THE DETERMINATION OF THE 1ST NORMAL STRESS ...  "
      ]
     },
     "execution_count": 13,
     "metadata": {},
     "output_type": "execute_result"
    }
   ],
   "source": [
    "data.head()"
   ]
  },
  {
   "cell_type": "code",
   "execution_count": 14,
   "metadata": {},
   "outputs": [],
   "source": [
    "#count of words in the title\n",
    "\n",
    "def count_words(s):\n",
    "    words = 0\n",
    "    try:\n",
    "        words = len(s.split())\n",
    "    except:\n",
    "        pass\n",
    "    return words"
   ]
  },
  {
   "cell_type": "code",
   "execution_count": 15,
   "metadata": {},
   "outputs": [
    {
     "name": "stderr",
     "output_type": "stream",
     "text": [
      "Progress: 100%|██████████| 39171597/39171597 [01:16<00:00, 508798.15it/s]\n"
     ]
    }
   ],
   "source": [
    "data[\"words_in_title\"] = data[\"Title\"].progress_apply(lambda x: count_words(x))"
   ]
  },
  {
   "cell_type": "code",
   "execution_count": 16,
   "metadata": {},
   "outputs": [],
   "source": [
    "# average number of words in paper titles of a year\n",
    "grouped_df_titlecount = data.groupby('PubYear_y', as_index=False)['words_in_title'].mean()\n",
    "grouped_df_avgcit = data.groupby('PubYear_y', as_index=False)['log_c5'].mean()"
   ]
  },
  {
   "cell_type": "code",
   "execution_count": 17,
   "metadata": {},
   "outputs": [
    {
     "data": {
      "text/html": [
       "<div>\n",
       "<style scoped>\n",
       "    .dataframe tbody tr th:only-of-type {\n",
       "        vertical-align: middle;\n",
       "    }\n",
       "\n",
       "    .dataframe tbody tr th {\n",
       "        vertical-align: top;\n",
       "    }\n",
       "\n",
       "    .dataframe thead th {\n",
       "        text-align: right;\n",
       "    }\n",
       "</style>\n",
       "<table border=\"1\" class=\"dataframe\">\n",
       "  <thead>\n",
       "    <tr style=\"text-align: right;\">\n",
       "      <th></th>\n",
       "      <th>PubYear_y</th>\n",
       "      <th>words_in_title</th>\n",
       "      <th>log_c5</th>\n",
       "    </tr>\n",
       "  </thead>\n",
       "  <tbody>\n",
       "    <tr>\n",
       "      <th>0</th>\n",
       "      <td>1900.0</td>\n",
       "      <td>8.543738</td>\n",
       "      <td>0.044886</td>\n",
       "    </tr>\n",
       "    <tr>\n",
       "      <th>1</th>\n",
       "      <td>1901.0</td>\n",
       "      <td>8.637255</td>\n",
       "      <td>0.041285</td>\n",
       "    </tr>\n",
       "    <tr>\n",
       "      <th>2</th>\n",
       "      <td>1902.0</td>\n",
       "      <td>8.827803</td>\n",
       "      <td>0.046863</td>\n",
       "    </tr>\n",
       "    <tr>\n",
       "      <th>3</th>\n",
       "      <td>1903.0</td>\n",
       "      <td>8.798725</td>\n",
       "      <td>0.058912</td>\n",
       "    </tr>\n",
       "    <tr>\n",
       "      <th>4</th>\n",
       "      <td>1904.0</td>\n",
       "      <td>8.773372</td>\n",
       "      <td>0.064107</td>\n",
       "    </tr>\n",
       "  </tbody>\n",
       "</table>\n",
       "</div>"
      ],
      "text/plain": [
       "   PubYear_y  words_in_title    log_c5\n",
       "0     1900.0        8.543738  0.044886\n",
       "1     1901.0        8.637255  0.041285\n",
       "2     1902.0        8.827803  0.046863\n",
       "3     1903.0        8.798725  0.058912\n",
       "4     1904.0        8.773372  0.064107"
      ]
     },
     "execution_count": 17,
     "metadata": {},
     "output_type": "execute_result"
    }
   ],
   "source": [
    "grouped_dfs = grouped_df_titlecount.merge(grouped_df_avgcit,\n",
    "                                          how = 'left',\n",
    "                                          on = 'PubYear_y')\n",
    "grouped_dfs.head()"
   ]
  },
  {
   "cell_type": "code",
   "execution_count": 18,
   "metadata": {},
   "outputs": [
    {
     "data": {
      "text/plain": [
       "<matplotlib.axes._subplots.AxesSubplot at 0x7f5bb6951ef0>"
      ]
     },
     "execution_count": 18,
     "metadata": {},
     "output_type": "execute_result"
    },
    {
     "data": {
      "image/png": "[encoded data removed]",
      "text/plain": [
       "<Figure size 432x288 with 1 Axes>"
      ]
     },
     "metadata": {},
     "output_type": "display_data"
    }
   ],
   "source": [
    "# variation of c5 counts with year\n",
    "grouped_dfs.plot(x='PubYear_y', y='log_c5', style='o')"
   ]
  },
  {
   "cell_type": "code",
   "execution_count": 19,
   "metadata": {},
   "outputs": [
    {
     "data": {
      "text/plain": [
       "<matplotlib.axes._subplots.AxesSubplot at 0x7f5d4966e4a8>"
      ]
     },
     "execution_count": 19,
     "metadata": {},
     "output_type": "execute_result"
    },
    {
     "data": {
      "image/png": "[encoded data removed]",
      "text/plain": [
       "<Figure size 432x288 with 1 Axes>"
      ]
     },
     "metadata": {},
     "output_type": "display_data"
    }
   ],
   "source": [
    "#variation of words_in_title with year\n",
    "grouped_dfs.plot(x='PubYear_y', y='words_in_title', style='o')"
   ]
  },
  {
   "cell_type": "code",
   "execution_count": 20,
   "metadata": {},
   "outputs": [
    {
     "name": "stderr",
     "output_type": "stream",
     "text": [
      "Progress: 100%|██████████| 39171597/39171597 [14:24<00:00, 45327.01it/s]\n"
     ]
    },
    {
     "data": {
      "text/html": [
       "<div>\n",
       "<style scoped>\n",
       "    .dataframe tbody tr th:only-of-type {\n",
       "        vertical-align: middle;\n",
       "    }\n",
       "\n",
       "    .dataframe tbody tr th {\n",
       "        vertical-align: top;\n",
       "    }\n",
       "\n",
       "    .dataframe thead th {\n",
       "        text-align: right;\n",
       "    }\n",
       "</style>\n",
       "<table border=\"1\" class=\"dataframe\">\n",
       "  <thead>\n",
       "    <tr style=\"text-align: right;\">\n",
       "      <th></th>\n",
       "      <th>Title</th>\n",
       "      <th>title_without_stopwords</th>\n",
       "    </tr>\n",
       "  </thead>\n",
       "  <tbody>\n",
       "    <tr>\n",
       "      <th>0</th>\n",
       "      <td>SPORADIC LEGIONELLOSIS IN THE UNITED-STATES - ...</td>\n",
       "      <td>sporadic legionellosis united-states - 1st tho...</td>\n",
       "    </tr>\n",
       "    <tr>\n",
       "      <th>1</th>\n",
       "      <td>REACTION OF LEAD PERCHLORATE WITH AMMONIUM HYD...</td>\n",
       "      <td>reaction lead perchlorate ammonium hydrophosph...</td>\n",
       "    </tr>\n",
       "    <tr>\n",
       "      <th>2</th>\n",
       "      <td>ELECTRICAL PACING FOR SHORT BOWEL SYNDROME</td>\n",
       "      <td>electrical pacing short bowel syndrome</td>\n",
       "    </tr>\n",
       "    <tr>\n",
       "      <th>3</th>\n",
       "      <td>STABILITY TESTING OF SOLID DRUGS USING PREFERE...</td>\n",
       "      <td>stability testing solid drugs using preferenti...</td>\n",
       "    </tr>\n",
       "    <tr>\n",
       "      <th>4</th>\n",
       "      <td>ON THE DETERMINATION OF THE 1ST NORMAL STRESS ...</td>\n",
       "      <td>determination 1st normal stress difference usi...</td>\n",
       "    </tr>\n",
       "  </tbody>\n",
       "</table>\n",
       "</div>"
      ],
      "text/plain": [
       "                                               Title  \\\n",
       "0  SPORADIC LEGIONELLOSIS IN THE UNITED-STATES - ...   \n",
       "1  REACTION OF LEAD PERCHLORATE WITH AMMONIUM HYD...   \n",
       "2         ELECTRICAL PACING FOR SHORT BOWEL SYNDROME   \n",
       "3  STABILITY TESTING OF SOLID DRUGS USING PREFERE...   \n",
       "4  ON THE DETERMINATION OF THE 1ST NORMAL STRESS ...   \n",
       "\n",
       "                             title_without_stopwords  \n",
       "0  sporadic legionellosis united-states - 1st tho...  \n",
       "1  reaction lead perchlorate ammonium hydrophosph...  \n",
       "2             electrical pacing short bowel syndrome  \n",
       "3  stability testing solid drugs using preferenti...  \n",
       "4  determination 1st normal stress difference usi...  "
      ]
     },
     "execution_count": 20,
     "metadata": {},
     "output_type": "execute_result"
    }
   ],
   "source": [
    "# removing the stop words from the title\n",
    "import nltk\n",
    "stopwords = nltk.corpus.stopwords.words('english')\n",
    "\n",
    "def remove_stopwords(s):  \n",
    "    clean_title = \"\"\n",
    "    try:\n",
    "        s = str.lower(s)\n",
    "        clean_title = \" \".join([word for word in s.split() if word not in stopwords])\n",
    "    except:\n",
    "        pass\n",
    "    return clean_title\n",
    "        \n",
    "\n",
    "data[\"title_without_stopwords\"] = data['Title'].progress_apply(lambda x: remove_stopwords(x))\n",
    "data[[\"Title\", \"title_without_stopwords\"]].head()"
   ]
  },
  {
   "cell_type": "code",
   "execution_count": 21,
   "metadata": {},
   "outputs": [
    {
     "name": "stderr",
     "output_type": "stream",
     "text": [
      "Progress: 100%|██████████| 39171597/39171597 [01:10<00:00, 551969.00it/s]\n"
     ]
    }
   ],
   "source": [
    "# average number of words in paper titles (excluding stopwords in a year)\n",
    "data[\"words_in_title_without_stopwords\"] = data[\"title_without_stopwords\"].progress_apply(lambda x: count_words(x))"
   ]
  },
  {
   "cell_type": "code",
   "execution_count": 22,
   "metadata": {},
   "outputs": [
    {
     "data": {
      "text/html": [
       "<div>\n",
       "<style scoped>\n",
       "    .dataframe tbody tr th:only-of-type {\n",
       "        vertical-align: middle;\n",
       "    }\n",
       "\n",
       "    .dataframe tbody tr th {\n",
       "        vertical-align: top;\n",
       "    }\n",
       "\n",
       "    .dataframe thead th {\n",
       "        text-align: right;\n",
       "    }\n",
       "</style>\n",
       "<table border=\"1\" class=\"dataframe\">\n",
       "  <thead>\n",
       "    <tr style=\"text-align: right;\">\n",
       "      <th></th>\n",
       "      <th>words_in_title</th>\n",
       "      <th>words_in_title_without_stopwords</th>\n",
       "    </tr>\n",
       "  </thead>\n",
       "  <tbody>\n",
       "    <tr>\n",
       "      <th>0</th>\n",
       "      <td>10</td>\n",
       "      <td>7</td>\n",
       "    </tr>\n",
       "    <tr>\n",
       "      <th>1</th>\n",
       "      <td>9</td>\n",
       "      <td>6</td>\n",
       "    </tr>\n",
       "    <tr>\n",
       "      <th>2</th>\n",
       "      <td>6</td>\n",
       "      <td>5</td>\n",
       "    </tr>\n",
       "    <tr>\n",
       "      <th>3</th>\n",
       "      <td>19</td>\n",
       "      <td>14</td>\n",
       "    </tr>\n",
       "    <tr>\n",
       "      <th>4</th>\n",
       "      <td>14</td>\n",
       "      <td>9</td>\n",
       "    </tr>\n",
       "  </tbody>\n",
       "</table>\n",
       "</div>"
      ],
      "text/plain": [
       "   words_in_title  words_in_title_without_stopwords\n",
       "0              10                                 7\n",
       "1               9                                 6\n",
       "2               6                                 5\n",
       "3              19                                14\n",
       "4              14                                 9"
      ]
     },
     "execution_count": 22,
     "metadata": {},
     "output_type": "execute_result"
    }
   ],
   "source": [
    "data[[\"words_in_title\",\"words_in_title_without_stopwords\"]].head()"
   ]
  },
  {
   "cell_type": "code",
   "execution_count": 23,
   "metadata": {},
   "outputs": [
    {
     "data": {
      "text/plain": [
       "<matplotlib.axes._subplots.AxesSubplot at 0x7f59ec74fda0>"
      ]
     },
     "execution_count": 23,
     "metadata": {},
     "output_type": "execute_result"
    },
    {
     "data": {
      "image/png": "[encoded data removed]",
      "text/plain": [
       "<Figure size 432x288 with 1 Axes>"
      ]
     },
     "metadata": {},
     "output_type": "display_data"
    }
   ],
   "source": [
    "grouped_df_title_without_stopwords_per_year = data.groupby('PubYear_y', as_index=False)['words_in_title_without_stopwords'].mean()\n",
    "\n",
    "#variation of words_in_title with year\n",
    "#grouped_df_title_without_stopwords_per_year.head()\n",
    "grouped_df_title_without_stopwords_per_year.plot(x='PubYear_y', y='words_in_title_without_stopwords', style='o')"
   ]
  },
  {
   "cell_type": "code",
   "execution_count": null,
   "metadata": {},
   "outputs": [],
   "source": [
    "#Run and save this Later - todo - Sree\n",
    "\n",
    "data.to_pickle(\"/mnt/disks/vault/citation-data-title-cleaned/c5-data-headlines-cleaned.pql\")"
   ]
  },
  {
   "cell_type": "code",
   "execution_count": null,
   "metadata": {},
   "outputs": [],
   "source": []
  }
 ],
 "metadata": {
  "kernelspec": {
   "display_name": "Python 3",
   "language": "python",
   "name": "python3"
  },
  "language_info": {
   "codemirror_mode": {
    "name": "ipython",
    "version": 3
   },
   "file_extension": ".py",
   "mimetype": "text/x-python",
   "name": "python",
   "nbconvert_exporter": "python",
   "pygments_lexer": "ipython3",
   "version": "3.6.7"
  }
 },
 "nbformat": 4,
 "nbformat_minor": 2
}
