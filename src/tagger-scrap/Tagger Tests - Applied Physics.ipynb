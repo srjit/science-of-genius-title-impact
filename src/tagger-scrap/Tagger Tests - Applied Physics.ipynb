{
 "cells": [
  {
   "cell_type": "code",
   "execution_count": 1,
   "metadata": {},
   "outputs": [],
   "source": [
    "import warnings\n",
    "warnings.filterwarnings(\"ignore\")"
   ]
  },
  {
   "cell_type": "code",
   "execution_count": 2,
   "metadata": {},
   "outputs": [],
   "source": [
    "import pandas as pd\n",
    "pd.set_option('display.max_colwidth', -1)\n"
   ]
  },
  {
   "cell_type": "code",
   "execution_count": 11,
   "metadata": {},
   "outputs": [],
   "source": [
    "import os\n",
    "from nltk.tag.stanford import StanfordPOSTagger\n",
    "java_path = \"/home/sreekumar_s/jdk1.8.0_131/bin/java\"\n",
    "os.environ['JAVAHOME'] = java_path\n",
    "\n",
    "\n",
    "import CMUTweetTagger"
   ]
  },
  {
   "cell_type": "code",
   "execution_count": 4,
   "metadata": {},
   "outputs": [],
   "source": [
    "path_to_model = \"models/english-bidirectional-distsim.tagger\"\n",
    "path_to_jar = \"models/stanford-postagger.jar\"\n",
    "tagger = StanfordPOSTagger(path_to_model, path_to_jar)\n",
    "tagger.java_options='-mx4096m'"
   ]
  },
  {
   "cell_type": "code",
   "execution_count": 5,
   "metadata": {},
   "outputs": [],
   "source": [
    "raw_data_path = \"/mnt/disks/vault/analysis-data/raw_data_full/raw_data_full.pql\"\n",
    "data = pd.read_pickle(raw_data_path)\n",
    "\n",
    "data = data[data.Journal == \"APPLIED PHYSICS LETTERS\"]"
   ]
  },
  {
   "cell_type": "code",
   "execution_count": 21,
   "metadata": {},
   "outputs": [
    {
     "data": {
      "text/html": [
       "<div>\n",
       "<style scoped>\n",
       "    .dataframe tbody tr th:only-of-type {\n",
       "        vertical-align: middle;\n",
       "    }\n",
       "\n",
       "    .dataframe tbody tr th {\n",
       "        vertical-align: top;\n",
       "    }\n",
       "\n",
       "    .dataframe thead th {\n",
       "        text-align: right;\n",
       "    }\n",
       "</style>\n",
       "<table border=\"1\" class=\"dataframe\">\n",
       "  <thead>\n",
       "    <tr style=\"text-align: right;\">\n",
       "      <th></th>\n",
       "      <th>Title</th>\n",
       "    </tr>\n",
       "  </thead>\n",
       "  <tbody>\n",
       "    <tr>\n",
       "      <th>747</th>\n",
       "      <td>SURFACE ACOUSTIC-WAVE PARAMETRIC OSCILLATION IN SI-ON-LINBO3</td>\n",
       "    </tr>\n",
       "    <tr>\n",
       "      <th>769</th>\n",
       "      <td>MESA WAVE-GUIDE GAAS-GAALAS INJECTION-LASER GROWN BY METALORGANIC CHEMICAL VAPOR-DEPOSITION</td>\n",
       "    </tr>\n",
       "    <tr>\n",
       "      <th>802</th>\n",
       "      <td>PSEUDOGAP STATE DENSITY IN SPUTTERED A-SI-H FROM FIELD-EFFECT AND CAPACITANCE MEASUREMENTS</td>\n",
       "    </tr>\n",
       "    <tr>\n",
       "      <th>804</th>\n",
       "      <td>PYROELECTRIC BEHAVIOR OF LINBO3 AT LOW-TEMPERATURES</td>\n",
       "    </tr>\n",
       "    <tr>\n",
       "      <th>806</th>\n",
       "      <td>QUANTUM NOISE THEORY FOR THE DC SQUID</td>\n",
       "    </tr>\n",
       "    <tr>\n",
       "      <th>815</th>\n",
       "      <td>IDENTIFICATION OF QUENCH ORIGINS IN A SUPERCONDUCTOR WITH ACOUSTIC-EMISSION AND VOLTAGE MEASUREMENTS</td>\n",
       "    </tr>\n",
       "    <tr>\n",
       "      <th>820</th>\n",
       "      <td>STUDY OF A GAS-SOLID DIELECTRIC INTERFACE BY MEANS OF SURFACE DEPOLARIZATION THERMOCURRENTS</td>\n",
       "    </tr>\n",
       "    <tr>\n",
       "      <th>821</th>\n",
       "      <td>PULSED LASER MODIFICATION OF SIO2-SI INTERFACE PROPERTIES AND MINORITY-CARRIER LIFETIME</td>\n",
       "    </tr>\n",
       "    <tr>\n",
       "      <th>822</th>\n",
       "      <td>CHROMIUM-INDUCED UP CONVERSION IN GAP</td>\n",
       "    </tr>\n",
       "    <tr>\n",
       "      <th>827</th>\n",
       "      <td>CONDENSATION OF BOMBARDING GALLIUM IONS ON A SILICON SURFACE</td>\n",
       "    </tr>\n",
       "    <tr>\n",
       "      <th>831</th>\n",
       "      <td>DEPENDENCE OF THE STRUCTURAL AND OPTICAL-PROPERTIES OF GAAS-GA1-XALXAS MULTIQUANTUM-WELL STRUCTURES ON GROWTH TEMPERATURE</td>\n",
       "    </tr>\n",
       "    <tr>\n",
       "      <th>844</th>\n",
       "      <td>X-RAY PHOTOELECTRON SPECTROSCOPIC STUDIES ON ZNO-SB2O3 VARISTORS</td>\n",
       "    </tr>\n",
       "    <tr>\n",
       "      <th>855</th>\n",
       "      <td>THE EFFECT OF LASER ANNEALING ON THE CRITICAL-CURRENT DENSITY IN NB3GE</td>\n",
       "    </tr>\n",
       "    <tr>\n",
       "      <th>857</th>\n",
       "      <td>PHOTO-LUMINESCENCE IN SPRAY-PYROLYZED CDTE</td>\n",
       "    </tr>\n",
       "    <tr>\n",
       "      <th>867</th>\n",
       "      <td>MEASUREMENTS OF HOT-ELECTRON CONDUCTION AND REAL-SPACE TRANSFER IN GAAS-ALXGA1-X AS HETEROJUNCTION LAYERS</td>\n",
       "    </tr>\n",
       "    <tr>\n",
       "      <th>899</th>\n",
       "      <td>MAGNETIZATION OF COMPOSITIONALLY MODULATED CUNI FILMS</td>\n",
       "    </tr>\n",
       "    <tr>\n",
       "      <th>900</th>\n",
       "      <td>POLY(METHYL METHACRYLATE SENSITIVITY VARIATION VERSUS THE ELECTRONIC STOPPING POWER AT ION LITHOGRAPHY EXPOSURE</td>\n",
       "    </tr>\n",
       "    <tr>\n",
       "      <th>901</th>\n",
       "      <td>NATIVE TELLURIUM DIOXIDE LAYER ON CADMIUM TELLURIDE - A HIGH-RESOLUTION ELECTRON-MICROSCOPY STUDY</td>\n",
       "    </tr>\n",
       "    <tr>\n",
       "      <th>909</th>\n",
       "      <td>CUBE-ROOT BROADENING OF SURFACE-CHARGE PACKETS</td>\n",
       "    </tr>\n",
       "    <tr>\n",
       "      <th>942</th>\n",
       "      <td>BACKSCATTERING METHOD FOR THE STUDY OF BLISTERING WITH ENERGY-DISTRIBUTED HE PARTICLES</td>\n",
       "    </tr>\n",
       "  </tbody>\n",
       "</table>\n",
       "</div>"
      ],
      "text/plain": [
       "                                                                                                                         Title\n",
       "747  SURFACE ACOUSTIC-WAVE PARAMETRIC OSCILLATION IN SI-ON-LINBO3                                                             \n",
       "769  MESA WAVE-GUIDE GAAS-GAALAS INJECTION-LASER GROWN BY METALORGANIC CHEMICAL VAPOR-DEPOSITION                              \n",
       "802  PSEUDOGAP STATE DENSITY IN SPUTTERED A-SI-H FROM FIELD-EFFECT AND CAPACITANCE MEASUREMENTS                               \n",
       "804  PYROELECTRIC BEHAVIOR OF LINBO3 AT LOW-TEMPERATURES                                                                      \n",
       "806  QUANTUM NOISE THEORY FOR THE DC SQUID                                                                                    \n",
       "815  IDENTIFICATION OF QUENCH ORIGINS IN A SUPERCONDUCTOR WITH ACOUSTIC-EMISSION AND VOLTAGE MEASUREMENTS                     \n",
       "820  STUDY OF A GAS-SOLID DIELECTRIC INTERFACE BY MEANS OF SURFACE DEPOLARIZATION THERMOCURRENTS                              \n",
       "821  PULSED LASER MODIFICATION OF SIO2-SI INTERFACE PROPERTIES AND MINORITY-CARRIER LIFETIME                                  \n",
       "822  CHROMIUM-INDUCED UP CONVERSION IN GAP                                                                                    \n",
       "827  CONDENSATION OF BOMBARDING GALLIUM IONS ON A SILICON SURFACE                                                             \n",
       "831  DEPENDENCE OF THE STRUCTURAL AND OPTICAL-PROPERTIES OF GAAS-GA1-XALXAS MULTIQUANTUM-WELL STRUCTURES ON GROWTH TEMPERATURE\n",
       "844  X-RAY PHOTOELECTRON SPECTROSCOPIC STUDIES ON ZNO-SB2O3 VARISTORS                                                         \n",
       "855  THE EFFECT OF LASER ANNEALING ON THE CRITICAL-CURRENT DENSITY IN NB3GE                                                   \n",
       "857  PHOTO-LUMINESCENCE IN SPRAY-PYROLYZED CDTE                                                                               \n",
       "867  MEASUREMENTS OF HOT-ELECTRON CONDUCTION AND REAL-SPACE TRANSFER IN GAAS-ALXGA1-X AS HETEROJUNCTION LAYERS                \n",
       "899  MAGNETIZATION OF COMPOSITIONALLY MODULATED CUNI FILMS                                                                    \n",
       "900  POLY(METHYL METHACRYLATE SENSITIVITY VARIATION VERSUS THE ELECTRONIC STOPPING POWER AT ION LITHOGRAPHY EXPOSURE          \n",
       "901  NATIVE TELLURIUM DIOXIDE LAYER ON CADMIUM TELLURIDE - A HIGH-RESOLUTION ELECTRON-MICROSCOPY STUDY                        \n",
       "909  CUBE-ROOT BROADENING OF SURFACE-CHARGE PACKETS                                                                           \n",
       "942  BACKSCATTERING METHOD FOR THE STUDY OF BLISTERING WITH ENERGY-DISTRIBUTED HE PARTICLES                                   "
      ]
     },
     "execution_count": 21,
     "metadata": {},
     "output_type": "execute_result"
    }
   ],
   "source": [
    "data[[\"Title\"]][50:70].head(20)"
   ]
  },
  {
   "cell_type": "code",
   "execution_count": 7,
   "metadata": {},
   "outputs": [],
   "source": [
    "titles = data['Title'][:100]"
   ]
  },
  {
   "cell_type": "code",
   "execution_count": 8,
   "metadata": {},
   "outputs": [],
   "source": [
    "stanford_tagger_outputs = [tagger.tag(sentence.split()) for sentence in titles]"
   ]
  },
  {
   "cell_type": "markdown",
   "metadata": {},
   "source": [
    "__Numbers: 38,__"
   ]
  },
  {
   "cell_type": "code",
   "execution_count": 22,
   "metadata": {},
   "outputs": [
    {
     "data": {
      "text/plain": [
       "[('BACKSCATTERING', 'VBG'),\n",
       " ('METHOD', 'NN'),\n",
       " ('FOR', 'IN'),\n",
       " ('THE', 'DT'),\n",
       " ('STUDY', 'NN'),\n",
       " ('OF', 'IN'),\n",
       " ('BLISTERING', 'VBG'),\n",
       " ('WITH', 'IN'),\n",
       " ('ENERGY-DISTRIBUTED', 'NN'),\n",
       " ('HE', 'PRP'),\n",
       " ('PARTICLES', 'NNS')]"
      ]
     },
     "execution_count": 22,
     "metadata": {},
     "output_type": "execute_result"
    }
   ],
   "source": [
    "# try the twitter one\n",
    "stanford_tagger_outputs[69]"
   ]
  },
  {
   "cell_type": "code",
   "execution_count": 12,
   "metadata": {},
   "outputs": [],
   "source": [
    "ark_tagger_outputs = CMUTweetTagger.runtagger_parse(titles)"
   ]
  },
  {
   "cell_type": "code",
   "execution_count": 31,
   "metadata": {},
   "outputs": [
    {
     "data": {
      "text/plain": [
       "[('GETTERING', 'V', 0.4628),\n",
       " ('OF', 'P', 0.93),\n",
       " ('CRYSTALLINE', 'A', 0.6794),\n",
       " ('DEFECTS', 'N', 0.981),\n",
       " ('IN', 'P', 0.9914),\n",
       " ('SI', '^', 0.9848),\n",
       " ('BY', '^', 0.4777),\n",
       " ('BENDING', 'V', 0.8552)]"
      ]
     },
     "execution_count": 31,
     "metadata": {},
     "output_type": "execute_result"
    }
   ],
   "source": [
    "ark_tagger_outputs[38]"
   ]
  },
  {
   "cell_type": "code",
   "execution_count": 33,
   "metadata": {},
   "outputs": [],
   "source": [
    "## titles with VBG tag in the first 100 titles\n",
    "\n",
    "def is_verb_present_in_tag_stanford(tags):\n",
    "    is_verb_present = False\n",
    "    for name, tag in tags:\n",
    "        if tag == 'VBG':\n",
    "            is_verb_present = True\n",
    "            break\n",
    "    return is_verb_present\n",
    "\n",
    "\n",
    "def is_verb_present_in_tag_ark(tags):\n",
    "    is_verb_present = False\n",
    "    for name, tag, prob in tags:\n",
    "        if tag == 'V':\n",
    "            is_verb_present = True\n",
    "            break\n",
    "    return is_verb_present\n",
    "\n",
    "stanford_indices_with_vbg = [index for index, title_tags \n",
    "                    in enumerate(stanford_tagger_outputs) if is_verb_present_in_tag_stanford(title_tags)]\n",
    "ark_indices_with_vbg = [index for index, title_tags \n",
    "                    in enumerate(ark_tagger_outputs) if is_verb_present_in_tag_ark(title_tags)]"
   ]
  },
  {
   "cell_type": "code",
   "execution_count": 34,
   "metadata": {},
   "outputs": [
    {
     "data": {
      "text/plain": [
       "[9, 31, 38, 47, 66, 69, 99]"
      ]
     },
     "execution_count": 34,
     "metadata": {},
     "output_type": "execute_result"
    }
   ],
   "source": [
    "stanford_indices_with_vbg"
   ]
  },
  {
   "cell_type": "code",
   "execution_count": 35,
   "metadata": {},
   "outputs": [
    {
     "data": {
      "text/plain": [
       "[1,\n",
       " 7,\n",
       " 15,\n",
       " 16,\n",
       " 17,\n",
       " 19,\n",
       " 26,\n",
       " 28,\n",
       " 29,\n",
       " 31,\n",
       " 32,\n",
       " 33,\n",
       " 38,\n",
       " 41,\n",
       " 47,\n",
       " 49,\n",
       " 51,\n",
       " 56,\n",
       " 59,\n",
       " 66,\n",
       " 68,\n",
       " 71,\n",
       " 73,\n",
       " 75,\n",
       " 78,\n",
       " 85,\n",
       " 86,\n",
       " 87,\n",
       " 91,\n",
       " 93,\n",
       " 95,\n",
       " 99]"
      ]
     },
     "execution_count": 35,
     "metadata": {},
     "output_type": "execute_result"
    }
   ],
   "source": [
    "ark_indices_with_vbg"
   ]
  },
  {
   "cell_type": "code",
   "execution_count": 36,
   "metadata": {},
   "outputs": [
    {
     "data": {
      "text/plain": [
       "[('WAVELENGTH-MULTIPLEXED', 'N', 0.7234),\n",
       " ('AND', '&', 0.9986),\n",
       " ('GATE', 'N', 0.907),\n",
       " ('-', ',', 0.9765),\n",
       " ('A', 'D', 0.9758),\n",
       " ('BUILDING', 'N', 0.976),\n",
       " ('BLOCK', 'N', 0.6508),\n",
       " ('FOR', 'P', 0.9981),\n",
       " ('MONOLITHIC', 'A', 0.8152),\n",
       " ('OPTICALLY', 'R', 0.9165),\n",
       " ('COUPLED-CIRCUITS', 'V', 0.9201)]"
      ]
     },
     "execution_count": 36,
     "metadata": {},
     "output_type": "execute_result"
    }
   ],
   "source": [
    "ark_tagger_outputs[1]"
   ]
  },
  {
   "cell_type": "code",
   "execution_count": 42,
   "metadata": {},
   "outputs": [
    {
     "data": {
      "text/plain": [
       "([('SUB-DOPPLER', 'N', 0.9157),\n",
       "  ('SUBMILLIMETER', 'N', 0.3751),\n",
       "  ('SPECTROSCOPY', 'N', 0.9359),\n",
       "  ('USING', 'V', 0.9785),\n",
       "  ('MOLECULAR-BEAMS', 'A', 0.6122)],\n",
       " [('SUB-DOPPLER', 'NNP'),\n",
       "  ('SUBMILLIMETER', 'NNP'),\n",
       "  ('SPECTROSCOPY', 'NNP'),\n",
       "  ('USING', 'NNP'),\n",
       "  ('MOLECULAR-BEAMS', 'NN')])"
      ]
     },
     "execution_count": 42,
     "metadata": {},
     "output_type": "execute_result"
    }
   ],
   "source": [
    "ark_tagger_outputs[7], stanford_tagger_outputs[7]"
   ]
  },
  {
   "cell_type": "code",
   "execution_count": 41,
   "metadata": {},
   "outputs": [
    {
     "data": {
      "text/plain": [
       "([('PHOTO-LUMINESCENCE', 'N', 0.9641),\n",
       "  ('TECHNIQUE', 'N', 0.9862),\n",
       "  ('FOR', 'P', 0.9999),\n",
       "  ('THE', 'D', 0.9963),\n",
       "  ('DETERMINATION', 'N', 0.9998),\n",
       "  ('OF', 'P', 0.9949),\n",
       "  ('MINORITY-CARRIER', '^', 0.7474),\n",
       "  ('DIFFUSION', 'N', 0.8752),\n",
       "  ('LENGTH', 'N', 0.9927),\n",
       "  ('IN', 'P', 0.9961),\n",
       "  ('GAAS', 'N', 0.6978),\n",
       "  ('GROWN', 'V', 0.7759),\n",
       "  ('BY', 'P', 0.7184),\n",
       "  ('MOLECULAR-BEAM', 'A', 0.8227),\n",
       "  ('EPITAXY', 'N', 0.5114)],\n",
       " [('PHOTO-LUMINESCENCE', 'NN'),\n",
       "  ('TECHNIQUE', 'NN'),\n",
       "  ('FOR', 'IN'),\n",
       "  ('THE', 'DT'),\n",
       "  ('DETERMINATION', 'NN'),\n",
       "  ('OF', 'IN'),\n",
       "  ('MINORITY-CARRIER', 'NNP'),\n",
       "  ('DIFFUSION', 'NNP'),\n",
       "  ('LENGTH', 'NNP'),\n",
       "  ('IN', 'IN'),\n",
       "  ('GAAS', 'NNP'),\n",
       "  ('GROWN', 'NNP'),\n",
       "  ('BY', 'NNP'),\n",
       "  ('MOLECULAR-BEAM', 'NNP'),\n",
       "  ('EPITAXY', 'NNP')])"
      ]
     },
     "execution_count": 41,
     "metadata": {},
     "output_type": "execute_result"
    }
   ],
   "source": [
    "ark_tagger_outputs[15],stanford_tagger_outputs[15]"
   ]
  },
  {
   "cell_type": "code",
   "execution_count": 40,
   "metadata": {},
   "outputs": [
    {
     "data": {
      "text/plain": [
       "([('GROWTH-KINETICS', 'N', 0.9609),\n",
       "  ('OF', 'P', 0.9914),\n",
       "  ('OXIDATION-INDUCED', 'N', 0.5556),\n",
       "  ('STACKING-FAULTS', 'V', 0.8346),\n",
       "  ('IN', 'P', 0.9594),\n",
       "  ('SILICON', 'N', 0.7339),\n",
       "  ('-', ',', 0.9501),\n",
       "  ('A', 'D', 0.9899),\n",
       "  ('NEW', 'A', 0.9889),\n",
       "  ('CONCEPT', 'N', 0.9891)],\n",
       " [('GROWTH-KINETICS', 'NN'),\n",
       "  ('OF', 'IN'),\n",
       "  ('OXIDATION-INDUCED', 'NNP'),\n",
       "  ('STACKING-FAULTS', 'NNP'),\n",
       "  ('IN', 'IN'),\n",
       "  ('SILICON', 'NNP'),\n",
       "  ('-', ':'),\n",
       "  ('A', 'DT'),\n",
       "  ('NEW', 'JJ'),\n",
       "  ('CONCEPT', 'NN')])"
      ]
     },
     "execution_count": 40,
     "metadata": {},
     "output_type": "execute_result"
    }
   ],
   "source": [
    "ark_tagger_outputs[17],stanford_tagger_outputs[17]"
   ]
  },
  {
   "cell_type": "markdown",
   "metadata": {},
   "source": [
    "__Tagged positive by Stanford tagger__"
   ]
  },
  {
   "cell_type": "code",
   "execution_count": 43,
   "metadata": {},
   "outputs": [
    {
     "data": {
      "text/plain": [
       "([('SELF-ANNEALING', 'N', 0.9477),\n",
       "  ('OF', 'P', 0.9881),\n",
       "  ('ION-IMPLANTED', '^', 0.6364),\n",
       "  ('SILICON', '^', 0.8923),\n",
       "  ('-', ',', 0.9414),\n",
       "  ('1ST', 'A', 0.5284),\n",
       "  ('EXPERIMENTAL', 'A', 0.9649),\n",
       "  ('RESULTS', 'N', 0.9968)],\n",
       " [('SELF-ANNEALING', 'VBG'),\n",
       "  ('OF', 'IN'),\n",
       "  ('ION-IMPLANTED', 'NNP'),\n",
       "  ('SILICON', 'NNP'),\n",
       "  ('-', ':'),\n",
       "  ('1ST', 'JJ'),\n",
       "  ('EXPERIMENTAL', 'JJ'),\n",
       "  ('RESULTS', 'NNS')])"
      ]
     },
     "execution_count": 43,
     "metadata": {},
     "output_type": "execute_result"
    }
   ],
   "source": [
    "ark_tagger_outputs[9],stanford_tagger_outputs[9]"
   ]
  },
  {
   "cell_type": "code",
   "execution_count": 44,
   "metadata": {},
   "outputs": [
    {
     "data": {
      "text/plain": [
       "([('X-RAY-IMAGING', 'V', 0.5846),\n",
       "  ('WITH', 'P', 0.9983),\n",
       "  ('A', 'D', 0.9828),\n",
       "  ('CHARGE-COUPLED', 'N', 0.9073),\n",
       "  ('DEVICE', 'N', 0.9927),\n",
       "  ('FABRICATED', 'V', 0.9706),\n",
       "  ('ON', 'P', 0.9575),\n",
       "  ('A', 'D', 0.9847),\n",
       "  ('HIGH-RESISTIVITY', 'A', 0.7691),\n",
       "  ('SILICON', 'N', 0.9054),\n",
       "  ('SUBSTRATE', 'N', 0.9981)],\n",
       " [('X-RAY-IMAGING', 'VBG'),\n",
       "  ('WITH', 'IN'),\n",
       "  ('A', 'NNP'),\n",
       "  ('CHARGE-COUPLED', 'NNP'),\n",
       "  ('DEVICE', 'NNP'),\n",
       "  ('FABRICATED', 'NNP'),\n",
       "  ('ON', 'NNP'),\n",
       "  ('A', 'NNP'),\n",
       "  ('HIGH-RESISTIVITY', 'NNP'),\n",
       "  ('SILICON', 'NNP'),\n",
       "  ('SUBSTRATE', 'NNP')])"
      ]
     },
     "execution_count": 44,
     "metadata": {},
     "output_type": "execute_result"
    }
   ],
   "source": [
    "ark_tagger_outputs[31],stanford_tagger_outputs[31]"
   ]
  },
  {
   "cell_type": "code",
   "execution_count": 45,
   "metadata": {},
   "outputs": [
    {
     "data": {
      "text/plain": [
       "([('AN', 'D', 0.8473),\n",
       "  ('IMPROVED', 'A', 0.9319),\n",
       "  ('TECHNIQUE', 'N', 0.9928),\n",
       "  ('FOR', 'P', 0.9996),\n",
       "  ('CALCULATING', 'V', 0.9964),\n",
       "  ('THE', 'D', 0.9985),\n",
       "  ('RESOLUTION', 'N', 0.9988),\n",
       "  ('OF', 'P', 0.9902),\n",
       "  ('TROCHOIDAL', '^', 0.6994),\n",
       "  ('ELECTRON', '^', 0.5661),\n",
       "  ('MONOCHROMATORS', '^', 0.9082)],\n",
       " [('AN', 'DT'),\n",
       "  ('IMPROVED', 'JJ'),\n",
       "  ('TECHNIQUE', 'NN'),\n",
       "  ('FOR', 'IN'),\n",
       "  ('CALCULATING', 'VBG'),\n",
       "  ('THE', 'DT'),\n",
       "  ('RESOLUTION', 'NN'),\n",
       "  ('OF', 'IN'),\n",
       "  ('TROCHOIDAL', 'FW'),\n",
       "  ('ELECTRON', 'FW'),\n",
       "  ('MONOCHROMATORS', 'NNS')])"
      ]
     },
     "execution_count": 45,
     "metadata": {},
     "output_type": "execute_result"
    }
   ],
   "source": [
    "ark_tagger_outputs[47],stanford_tagger_outputs[47]"
   ]
  },
  {
   "cell_type": "code",
   "execution_count": 46,
   "metadata": {},
   "outputs": [
    {
     "data": {
      "text/plain": [
       "([('POLY(METHYL', 'G', 0.3424),\n",
       "  ('METHACRYLATE', 'N', 0.41),\n",
       "  ('SENSITIVITY', 'N', 0.9932),\n",
       "  ('VARIATION', 'N', 0.9973),\n",
       "  ('VERSUS', 'P', 0.8781),\n",
       "  ('THE', 'D', 0.9933),\n",
       "  ('ELECTRONIC', '^', 0.3872),\n",
       "  ('STOPPING', 'V', 0.8133),\n",
       "  ('POWER', 'N', 0.9402),\n",
       "  ('AT', 'P', 0.967),\n",
       "  ('ION', '^', 0.323),\n",
       "  ('LITHOGRAPHY', '^', 0.7867),\n",
       "  ('EXPOSURE', '^', 0.6361)],\n",
       " [('POLY(METHYL', 'NNP'),\n",
       "  ('METHACRYLATE', 'NNP'),\n",
       "  ('SENSITIVITY', 'NNP'),\n",
       "  ('VARIATION', 'NNP'),\n",
       "  ('VERSUS', 'NNPS'),\n",
       "  ('THE', 'DT'),\n",
       "  ('ELECTRONIC', 'NNS'),\n",
       "  ('STOPPING', 'VBG'),\n",
       "  ('POWER', 'NN'),\n",
       "  ('AT', 'IN'),\n",
       "  ('ION', 'NN'),\n",
       "  ('LITHOGRAPHY', 'NN'),\n",
       "  ('EXPOSURE', 'NN')])"
      ]
     },
     "execution_count": 46,
     "metadata": {},
     "output_type": "execute_result"
    }
   ],
   "source": [
    "ark_tagger_outputs[66],stanford_tagger_outputs[66]"
   ]
  },
  {
   "cell_type": "code",
   "execution_count": null,
   "metadata": {},
   "outputs": [],
   "source": []
  }
 ],
 "metadata": {
  "kernelspec": {
   "display_name": "Python 3",
   "language": "python",
   "name": "python3"
  },
  "language_info": {
   "codemirror_mode": {
    "name": "ipython",
    "version": 3
   },
   "file_extension": ".py",
   "mimetype": "text/x-python",
   "name": "python",
   "nbconvert_exporter": "python",
   "pygments_lexer": "ipython3",
   "version": "3.6.7"
  }
 },
 "nbformat": 4,
 "nbformat_minor": 2
}
