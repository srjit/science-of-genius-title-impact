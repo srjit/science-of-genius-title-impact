{
 "cells": [
  {
   "cell_type": "code",
   "execution_count": 1,
   "metadata": {},
   "outputs": [],
   "source": [
    "%load_ext autoreload\n",
    "%autoreload 2\n",
    "%matplotlib inline"
   ]
  },
  {
   "cell_type": "code",
   "execution_count": 2,
   "metadata": {},
   "outputs": [],
   "source": [
    "import sys\n",
    "sys.path.insert(0, \"../code-previous\")\n",
    "sys.path.insert(0, \"..\")"
   ]
  },
  {
   "cell_type": "code",
   "execution_count": 3,
   "metadata": {},
   "outputs": [],
   "source": [
    "import pandas as pd\n",
    "import numpy as np\n",
    "import sklearn.feature_extraction as skfeatures\n",
    "import time\n",
    "import os\n",
    "\n",
    "from unicodedata import category\n",
    "from tqdm import tqdm\n",
    "tqdm.pandas(desc=\"Progress\")\n",
    "\n",
    "import seaborn as sns\n",
    "sns.set()\n",
    "\n",
    "\n",
    "import matplotlib.pyplot as plt\n",
    "raw_data_path = \"/Users/hong/code/scrap/raw_data_full.pql\""
   ]
  },
  {
   "cell_type": "code",
   "execution_count": 4,
   "metadata": {},
   "outputs": [],
   "source": [
    "data = pd.read_pickle(raw_data_path)"
   ]
  },
  {
   "cell_type": "code",
   "execution_count": 5,
   "metadata": {},
   "outputs": [
    {
     "data": {
      "text/html": [
       "<div>\n",
       "<style scoped>\n",
       "    .dataframe tbody tr th:only-of-type {\n",
       "        vertical-align: middle;\n",
       "    }\n",
       "\n",
       "    .dataframe tbody tr th {\n",
       "        vertical-align: top;\n",
       "    }\n",
       "\n",
       "    .dataframe thead th {\n",
       "        text-align: right;\n",
       "    }\n",
       "</style>\n",
       "<table border=\"1\" class=\"dataframe\">\n",
       "  <thead>\n",
       "    <tr style=\"text-align: right;\">\n",
       "      <th></th>\n",
       "      <th>ArticleID</th>\n",
       "      <th>Type</th>\n",
       "      <th>Label</th>\n",
       "      <th>PubYear_x</th>\n",
       "      <th>Doctypes</th>\n",
       "      <th>Title</th>\n",
       "      <th>Journal</th>\n",
       "      <th>Journal Abbreviation ISO</th>\n",
       "      <th>PubYear_y</th>\n",
       "      <th>c5</th>\n",
       "    </tr>\n",
       "  </thead>\n",
       "  <tbody>\n",
       "    <tr>\n",
       "      <th>0</th>\n",
       "      <td>A1981LJ96300019</td>\n",
       "      <td>ASCA traditional subject</td>\n",
       "      <td>Physics, Applied</td>\n",
       "      <td>1981</td>\n",
       "      <td>Article</td>\n",
       "      <td>SURFACE COMPOSITIONAL MODIFICATIONS DURING O-2...</td>\n",
       "      <td>APPLIED PHYSICS LETTERS</td>\n",
       "      <td>Appl. Phys. Lett.</td>\n",
       "      <td>1981</td>\n",
       "      <td>6.0</td>\n",
       "    </tr>\n",
       "    <tr>\n",
       "      <th>1</th>\n",
       "      <td>A1981MM58300017</td>\n",
       "      <td>ASCA traditional subject</td>\n",
       "      <td>Physics, Applied</td>\n",
       "      <td>1981</td>\n",
       "      <td>Article</td>\n",
       "      <td>ELECTRON-PHONON INTERACTION AND DEVIATIONS FRO...</td>\n",
       "      <td>JOURNAL OF PHYSICS F-METAL PHYSICS</td>\n",
       "      <td></td>\n",
       "      <td>1981</td>\n",
       "      <td>0.0</td>\n",
       "    </tr>\n",
       "    <tr>\n",
       "      <th>2</th>\n",
       "      <td>A1981LV54600009</td>\n",
       "      <td>ASCA traditional subject</td>\n",
       "      <td>Physics, Applied</td>\n",
       "      <td>1981</td>\n",
       "      <td>Article</td>\n",
       "      <td>EXPLOSIVE GENERATION OF ELECTROMAGNETIC-RADIAT...</td>\n",
       "      <td>ZHURNAL TEKHNICHESKOI FIZIKI</td>\n",
       "      <td>Zhurnal Tek. Fiz.</td>\n",
       "      <td>1981</td>\n",
       "      <td>0.0</td>\n",
       "    </tr>\n",
       "    <tr>\n",
       "      <th>3</th>\n",
       "      <td>A1981LX06200023</td>\n",
       "      <td>ASCA traditional subject</td>\n",
       "      <td>Physics, Applied</td>\n",
       "      <td>1981</td>\n",
       "      <td>Article</td>\n",
       "      <td>PIEZOELECTRIC ZNO TRANSDUCERS PRODUCED BY R.F....</td>\n",
       "      <td>THIN SOLID FILMS</td>\n",
       "      <td>Thin Solid Films</td>\n",
       "      <td>1981</td>\n",
       "      <td>7.0</td>\n",
       "    </tr>\n",
       "    <tr>\n",
       "      <th>4</th>\n",
       "      <td>A1981LG93900006</td>\n",
       "      <td>ASCA traditional subject</td>\n",
       "      <td>Physics, Applied</td>\n",
       "      <td>1981</td>\n",
       "      <td>Article</td>\n",
       "      <td>A MODEL FOR INHOMOGENEOUS CONDUCTION IN ANISOT...</td>\n",
       "      <td>JOURNAL OF PHYSICS F-METAL PHYSICS</td>\n",
       "      <td></td>\n",
       "      <td>1981</td>\n",
       "      <td>3.0</td>\n",
       "    </tr>\n",
       "  </tbody>\n",
       "</table>\n",
       "</div>"
      ],
      "text/plain": [
       "         ArticleID                      Type             Label  PubYear_x  \\\n",
       "0  A1981LJ96300019  ASCA traditional subject  Physics, Applied       1981   \n",
       "1  A1981MM58300017  ASCA traditional subject  Physics, Applied       1981   \n",
       "2  A1981LV54600009  ASCA traditional subject  Physics, Applied       1981   \n",
       "3  A1981LX06200023  ASCA traditional subject  Physics, Applied       1981   \n",
       "4  A1981LG93900006  ASCA traditional subject  Physics, Applied       1981   \n",
       "\n",
       "  Doctypes                                              Title  \\\n",
       "0  Article  SURFACE COMPOSITIONAL MODIFICATIONS DURING O-2...   \n",
       "1  Article  ELECTRON-PHONON INTERACTION AND DEVIATIONS FRO...   \n",
       "2  Article  EXPLOSIVE GENERATION OF ELECTROMAGNETIC-RADIAT...   \n",
       "3  Article  PIEZOELECTRIC ZNO TRANSDUCERS PRODUCED BY R.F....   \n",
       "4  Article  A MODEL FOR INHOMOGENEOUS CONDUCTION IN ANISOT...   \n",
       "\n",
       "                              Journal Journal Abbreviation ISO  PubYear_y   c5  \n",
       "0             APPLIED PHYSICS LETTERS        Appl. Phys. Lett.       1981  6.0  \n",
       "1  JOURNAL OF PHYSICS F-METAL PHYSICS                                1981  0.0  \n",
       "2        ZHURNAL TEKHNICHESKOI FIZIKI        Zhurnal Tek. Fiz.       1981  0.0  \n",
       "3                    THIN SOLID FILMS         Thin Solid Films       1981  7.0  \n",
       "4  JOURNAL OF PHYSICS F-METAL PHYSICS                                1981  3.0  "
      ]
     },
     "execution_count": 5,
     "metadata": {},
     "output_type": "execute_result"
    }
   ],
   "source": [
    "data.head(5)"
   ]
  },
  {
   "cell_type": "code",
   "execution_count": 7,
   "metadata": {},
   "outputs": [
    {
     "name": "stderr",
     "output_type": "stream",
     "text": [
      "Progress: 100%|██████████| 738469/738469 [00:03<00:00, 204286.63it/s]\n",
      "Progress: 100%|██████████| 738469/738469 [00:01<00:00, 462720.21it/s]\n",
      "Progress: 100%|██████████| 738469/738469 [00:02<00:00, 317490.09it/s]\n",
      "Progress: 100%|██████████| 738469/738469 [00:23<00:00, 31419.17it/s]\n",
      "Progress: 100%|██████████| 738469/738469 [00:02<00:00, 315341.90it/s]\n"
     ]
    }
   ],
   "source": [
    "# New fields to dataframe \n",
    "data['log_c5'] = data['c5'].progress_apply(lambda x: np.log(x+1))\n",
    "data['character_count'] = data['Title'].progress_apply(lambda x: len(x))\n",
    "data[\"word_count\"] = data[\"Title\"].progress_apply(lambda x: len(x.split()))\n",
    "data['title_without_punct'] = data['Title'].progress_apply(lambda x: \n",
    "                                                           str.lower(''.join(ch for ch in str(x) if category(ch)[0] != 'P')))\n",
    "data[\"word_count\"] = data[\"Title\"].progress_apply(lambda x: len(x.split()))"
   ]
  },
  {
   "cell_type": "code",
   "execution_count": 13,
   "metadata": {},
   "outputs": [],
   "source": [
    "import mutual_information"
   ]
  },
  {
   "cell_type": "code",
   "execution_count": 17,
   "metadata": {},
   "outputs": [],
   "source": [
    "\n",
    "def mutual_information_for_year(year):\n",
    "    tmp = data[data.PubYear_x == year]\n",
    "    tmp = tmp.sort_values(by=['c5'],ascending=False)\n",
    "    tmp['rank'] = tmp.c5.rank(ascending=0,method='average')\n",
    "    mi_05 = mutual_information.calculate(list(tmp['character_count']), list(tmp['rank']), 5)\n",
    "    return mi_05"
   ]
  },
  {
   "cell_type": "code",
   "execution_count": 18,
   "metadata": {},
   "outputs": [],
   "source": [
    "mis = [mutual_information_for_year(year) for year in range(2000,2010)]"
   ]
  },
  {
   "cell_type": "code",
   "execution_count": null,
   "metadata": {},
   "outputs": [],
   "source": [
    "mis"
   ]
  }
 ],
 "metadata": {
  "kernelspec": {
   "display_name": "Python 3",
   "language": "python",
   "name": "python3"
  },
  "language_info": {
   "codemirror_mode": {
    "name": "ipython",
    "version": 3
   },
   "file_extension": ".py",
   "mimetype": "text/x-python",
   "name": "python",
   "nbconvert_exporter": "python",
   "pygments_lexer": "ipython3",
   "version": "3.6.7"
  }
 },
 "nbformat": 4,
 "nbformat_minor": 2
}
