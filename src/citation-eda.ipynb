{
 "cells": [
  {
   "cell_type": "code",
   "execution_count": 1,
   "metadata": {},
   "outputs": [],
   "source": [
    "%load_ext autoreload\n",
    "%autoreload 2\n",
    "%matplotlib inline"
   ]
  },
  {
   "cell_type": "code",
   "execution_count": 2,
   "metadata": {},
   "outputs": [],
   "source": [
    "import sys\n",
    "sys.path.insert(0, \"../code-previous\")"
   ]
  },
  {
   "cell_type": "code",
   "execution_count": 3,
   "metadata": {},
   "outputs": [
    {
     "name": "stderr",
     "output_type": "stream",
     "text": [
      "/usr/lib/python3.6/importlib/_bootstrap.py:219: RuntimeWarning: numpy.dtype size changed, may indicate binary incompatibility. Expected 96, got 88\n",
      "  return f(*args, **kwds)\n"
     ]
    }
   ],
   "source": [
    "import pandas as pd\n",
    "import numpy as np\n",
    "import networkx as nx\n",
    "import sklearn.feature_extraction as skfeatures\n",
    "import utils\n",
    "import time\n",
    "import os\n",
    "\n",
    "import seaborn as sns\n",
    "sns.set_style('white')\n",
    "import matplotlib.pylab as plt\n",
    "\n",
    "import WOSutilities as wosutil\n",
    "\n",
    "path2rawdata = '/mnt/disks/vault/wos2017-parsed/'"
   ]
  },
  {
   "cell_type": "code",
   "execution_count": 4,
   "metadata": {},
   "outputs": [
    {
     "name": "stdout",
     "output_type": "stream",
     "text": [
      "500\n",
      "1000\n",
      "1500\n",
      "2000\n",
      "2500\n",
      "Final DF Shape (1165534, 3)\n"
     ]
    }
   ],
   "source": [
    "impact_df40 = utils.load_impact_data(name = 'impact40', \n",
    "                                     path2rawdata = path2rawdata,\n",
    "                                     year_list = None, \n",
    "                                     columns = ['ArticleID', 'PubYear', 'c5'],\n",
    "                                     dropna = ['ArticleID', 'PubYear'], \n",
    "                                     duplicate_subset = None,\n",
    "                                     isindict = {},\n",
    "                                     verbose = 500)"
   ]
  },
  {
   "cell_type": "code",
   "execution_count": 5,
   "metadata": {},
   "outputs": [
    {
     "name": "stdout",
     "output_type": "stream",
     "text": [
      "500\n",
      "Final DF Shape (596783, 3)\n"
     ]
    }
   ],
   "source": [
    "impact_df50 = utils.load_impact_data(name = 'impact50', \n",
    "                                     path2rawdata = path2rawdata,\n",
    "                                     year_list = None, \n",
    "                                     columns = ['ArticleID', 'PubYear', 'c5'],\n",
    "                                     dropna = ['ArticleID', 'PubYear'], \n",
    "                                     duplicate_subset = None,\n",
    "                                     isindict = {},\n",
    "                                     verbose = 500)"
   ]
  },
  {
   "cell_type": "code",
   "execution_count": 6,
   "metadata": {},
   "outputs": [
    {
     "name": "stdout",
     "output_type": "stream",
     "text": [
      "500\n",
      "Final DF Shape (1189069, 3)\n"
     ]
    }
   ],
   "source": [
    "impact_df60 = utils.load_impact_data(name = 'impact60', \n",
    "                                     path2rawdata = path2rawdata,\n",
    "                                     year_list = None, \n",
    "                                     columns = ['ArticleID', 'PubYear', 'c5'],\n",
    "                                     dropna = ['ArticleID', 'PubYear'], \n",
    "                                     duplicate_subset = None,\n",
    "                                     isindict = {},\n",
    "                                     verbose = 500)"
   ]
  },
  {
   "cell_type": "code",
   "execution_count": 7,
   "metadata": {},
   "outputs": [
    {
     "name": "stdout",
     "output_type": "stream",
     "text": [
      "500\n",
      "Final DF Shape (2919911, 3)\n"
     ]
    }
   ],
   "source": [
    "impact_df70 = utils.load_impact_data(name = 'impact70', \n",
    "                                     path2rawdata = path2rawdata,\n",
    "                                     year_list = None, \n",
    "                                     columns = ['ArticleID', 'PubYear', 'c5'],\n",
    "                                     dropna = ['ArticleID', 'PubYear'], \n",
    "                                     duplicate_subset = None,\n",
    "                                     isindict = {},\n",
    "                                     verbose = 500)"
   ]
  },
  {
   "cell_type": "code",
   "execution_count": 8,
   "metadata": {},
   "outputs": [
    {
     "name": "stdout",
     "output_type": "stream",
     "text": [
      "500\n",
      "Final DF Shape (5408678, 3)\n"
     ]
    }
   ],
   "source": [
    "impact_df80 = utils.load_impact_data(name = 'impact80', \n",
    "                                     path2rawdata = path2rawdata,\n",
    "                                     year_list = None, \n",
    "                                     columns = ['ArticleID', 'PubYear', 'c5'],\n",
    "                                     dropna = ['ArticleID', 'PubYear'], \n",
    "                                     duplicate_subset = None,\n",
    "                                     isindict = {},\n",
    "                                     verbose = 500)"
   ]
  },
  {
   "cell_type": "code",
   "execution_count": 9,
   "metadata": {},
   "outputs": [
    {
     "name": "stdout",
     "output_type": "stream",
     "text": [
      "Final DF Shape (3735369, 3)\n"
     ]
    }
   ],
   "source": [
    "impact_df85 = utils.load_impact_data(name = 'impact85', \n",
    "                                     path2rawdata = path2rawdata,\n",
    "                                     year_list = None, \n",
    "                                     columns = ['ArticleID', 'PubYear', 'c5'],\n",
    "                                     dropna = ['ArticleID', 'PubYear'], \n",
    "                                     duplicate_subset = None,\n",
    "                                     isindict = {},\n",
    "                                     verbose = 500)"
   ]
  },
  {
   "cell_type": "code",
   "execution_count": 10,
   "metadata": {},
   "outputs": [
    {
     "name": "stdout",
     "output_type": "stream",
     "text": [
      "Final DF Shape (3967630, 3)\n"
     ]
    }
   ],
   "source": [
    "impact_df90 = utils.load_impact_data(name = 'impact90', \n",
    "                                     path2rawdata = path2rawdata,\n",
    "                                     year_list = None, \n",
    "                                     columns = ['ArticleID', 'PubYear', 'c5'],\n",
    "                                     dropna = ['ArticleID', 'PubYear'], \n",
    "                                     duplicate_subset = None,\n",
    "                                     isindict = {},\n",
    "                                     verbose = 500)"
   ]
  },
  {
   "cell_type": "code",
   "execution_count": 11,
   "metadata": {},
   "outputs": [
    {
     "name": "stdout",
     "output_type": "stream",
     "text": [
      "Final DF Shape (4388803, 3)\n"
     ]
    }
   ],
   "source": [
    "impact_df95 = utils.load_impact_data(name = 'impact95', \n",
    "                                     path2rawdata = path2rawdata,\n",
    "                                     year_list = None, \n",
    "                                     columns = ['ArticleID', 'PubYear', 'c5'],\n",
    "                                     dropna = ['ArticleID', 'PubYear'], \n",
    "                                     duplicate_subset = None,\n",
    "                                     isindict = {},\n",
    "                                     verbose = 500)"
   ]
  },
  {
   "cell_type": "code",
   "execution_count": 12,
   "metadata": {},
   "outputs": [
    {
     "name": "stdout",
     "output_type": "stream",
     "text": [
      "Final DF Shape (5317330, 3)\n"
     ]
    }
   ],
   "source": [
    "impact_df00 = utils.load_impact_data(name = 'impact00', \n",
    "                                     path2rawdata = path2rawdata,\n",
    "                                     year_list = None, \n",
    "                                     columns = ['ArticleID', 'PubYear', 'c5'],\n",
    "                                     dropna = ['ArticleID', 'PubYear'], \n",
    "                                     duplicate_subset = None,\n",
    "                                     isindict = {},\n",
    "                                     verbose = 500)"
   ]
  },
  {
   "cell_type": "code",
   "execution_count": 13,
   "metadata": {},
   "outputs": [
    {
     "name": "stdout",
     "output_type": "stream",
     "text": [
      "Final DF Shape (6010377, 3)\n"
     ]
    }
   ],
   "source": [
    "impact_df2005 = utils.load_impact_data(name = 'impact2005', \n",
    "                                     path2rawdata = path2rawdata,\n",
    "                                     year_list = None, \n",
    "                                     columns = ['ArticleID', 'PubYear', 'c5'],\n",
    "                                     dropna = ['ArticleID', 'PubYear'], \n",
    "                                     duplicate_subset = None,\n",
    "                                     isindict = {},\n",
    "                                     verbose = 500)"
   ]
  },
  {
   "cell_type": "code",
   "execution_count": 14,
   "metadata": {},
   "outputs": [
    {
     "name": "stdout",
     "output_type": "stream",
     "text": [
      "Final DF Shape (7708997, 3)\n"
     ]
    }
   ],
   "source": [
    "impact_df2010 = utils.load_impact_data(name = 'impact2010', \n",
    "                                       path2rawdata = path2rawdata,\n",
    "                                       year_list = None, \n",
    "                                       columns = ['ArticleID', 'PubYear', 'c5'],\n",
    "                                       dropna = ['ArticleID', 'PubYear'], \n",
    "                                       duplicate_subset = None,\n",
    "                                       isindict = {},\n",
    "                                       verbose = 500)"
   ]
  },
  {
   "cell_type": "code",
   "execution_count": null,
   "metadata": {},
   "outputs": [],
   "source": [
    "impact_df2020 = utils.load_impact_data(name = 'impact2020', \n",
    "                                       path2rawdata = path2rawdata,\n",
    "                                       year_list = None, \n",
    "                                       columns = ['ArticleID', 'PubYear', 'c5'],\n",
    "                                       dropna = ['ArticleID', 'PubYear'], \n",
    "                                       duplicate_subset = None,\n",
    "                                       isindict = {},\n",
    "                                       verbose = 500)"
   ]
  },
  {
   "cell_type": "code",
   "execution_count": 15,
   "metadata": {},
   "outputs": [],
   "source": [
    "# combine all the dataframes read\n",
    "impact_df = pd.concat([impact_df40, \n",
    "                       impact_df50, \n",
    "                       impact_df60, \n",
    "                       impact_df70,\n",
    "                       impact_df80,\n",
    "                       impact_df85,\n",
    "                       impact_df90,\n",
    "                       impact_df95,\n",
    "                       impact_df00,\n",
    "                       impact_df2005,\n",
    "                       impact_df2010], ignore_index=True)"
   ]
  },
  {
   "cell_type": "code",
   "execution_count": 16,
   "metadata": {},
   "outputs": [
    {
     "data": {
      "text/html": [
       "<div>\n",
       "<style scoped>\n",
       "    .dataframe tbody tr th:only-of-type {\n",
       "        vertical-align: middle;\n",
       "    }\n",
       "\n",
       "    .dataframe tbody tr th {\n",
       "        vertical-align: top;\n",
       "    }\n",
       "\n",
       "    .dataframe thead th {\n",
       "        text-align: right;\n",
       "    }\n",
       "</style>\n",
       "<table border=\"1\" class=\"dataframe\">\n",
       "  <thead>\n",
       "    <tr style=\"text-align: right;\">\n",
       "      <th></th>\n",
       "      <th>ArticleID</th>\n",
       "      <th>PubYear</th>\n",
       "      <th>c5</th>\n",
       "    </tr>\n",
       "  </thead>\n",
       "  <tbody>\n",
       "    <tr>\n",
       "      <th>0</th>\n",
       "      <td>000202830600007</td>\n",
       "      <td>1913</td>\n",
       "      <td>0.0</td>\n",
       "    </tr>\n",
       "    <tr>\n",
       "      <th>1</th>\n",
       "      <td>000206676400011</td>\n",
       "      <td>1913</td>\n",
       "      <td>0.0</td>\n",
       "    </tr>\n",
       "    <tr>\n",
       "      <th>2</th>\n",
       "      <td>000201687000006</td>\n",
       "      <td>1913</td>\n",
       "      <td>0.0</td>\n",
       "    </tr>\n",
       "    <tr>\n",
       "      <th>3</th>\n",
       "      <td>000202109100003</td>\n",
       "      <td>1913</td>\n",
       "      <td>0.0</td>\n",
       "    </tr>\n",
       "    <tr>\n",
       "      <th>4</th>\n",
       "      <td>000202699700002</td>\n",
       "      <td>1913</td>\n",
       "      <td>0.0</td>\n",
       "    </tr>\n",
       "  </tbody>\n",
       "</table>\n",
       "</div>"
      ],
      "text/plain": [
       "         ArticleID  PubYear   c5\n",
       "0  000202830600007     1913  0.0\n",
       "1  000206676400011     1913  0.0\n",
       "2  000201687000006     1913  0.0\n",
       "3  000202109100003     1913  0.0\n",
       "4  000202699700002     1913  0.0"
      ]
     },
     "execution_count": 16,
     "metadata": {},
     "output_type": "execute_result"
    }
   ],
   "source": [
    "impact_df.head()"
   ]
  },
  {
   "cell_type": "code",
   "execution_count": 17,
   "metadata": {},
   "outputs": [],
   "source": [
    "impact_df.to_pickle(\"/mnt/disks/vault/impact_merge/impact_data_until_2010.pql\")"
   ]
  },
  {
   "cell_type": "code",
   "execution_count": null,
   "metadata": {},
   "outputs": [
    {
     "name": "stdout",
     "output_type": "stream",
     "text": [
      "50\n",
      "100\n",
      "150\n",
      "200\n",
      "250\n",
      "300\n",
      "350\n",
      "400\n",
      "450\n",
      "Final DF Shape (39171592, 4)\n",
      "100\n",
      "200\n",
      "300\n",
      "400\n"
     ]
    }
   ],
   "source": [
    "# we need to load articles and categories\n",
    "\n",
    "article_df = wosutil.load_wos_data(name = 'article', \n",
    "                                   path2rawdata = path2rawdata,\n",
    "                                   year_list = None, \n",
    "                                   columns = ['ArticleID', 'PubYear', 'Doctypes', 'Title'], \n",
    "                                   dropna = ['ArticleID', 'PubYear'], \n",
    "                                   duplicate_subset = ['ArticleID'],\n",
    "                                   isindict = {'Doctypes':np.sort(['Article','Letter','Review','Note'])}, \n",
    "                                   verbose = 50)\n",
    "\n",
    "# select all categories for all the aricles published\n",
    "category_list = np.array(['Physics, Applied'])  \n",
    "\n",
    "category_df = wosutil.load_wos_data(name = 'category', \n",
    "                                    path2rawdata = path2rawdata,\n",
    "                                    year_list = None,\n",
    "                                    columns = None, \n",
    "                                    dropna = ['ArticleID'], \n",
    "                                    duplicate_subset = None,\n",
    "                                    isindict = {'Label':category_list},\n",
    "                                    verbose = 100)"
   ]
  },
  {
   "cell_type": "code",
   "execution_count": null,
   "metadata": {},
   "outputs": [],
   "source": [
    "# joining citations with articles and categories\n",
    "\n",
    "# joining the dataframes\n",
    "data = None\n",
    "data = article_df.merge(category_df, \n",
    "                        how = 'left',\n",
    "                        on = 'ArticleID')\n",
    "\n",
    "data = data.merge(impact_df,\n",
    "                  how = 'left',\n",
    "                  on = 'ArticleID')"
   ]
  },
  {
   "cell_type": "code",
   "execution_count": null,
   "metadata": {},
   "outputs": [],
   "source": [
    "data.head()"
   ]
  },
  {
   "cell_type": "code",
   "execution_count": null,
   "metadata": {},
   "outputs": [],
   "source": [
    "data = data.drop_duplicates()\n",
    "data.to_pickle(\"/mnt/disks/vault/citation-data-all/article-cat-c5-merged.pql\")"
   ]
  }
 ],
 "metadata": {
  "kernelspec": {
   "display_name": "Python 3",
   "language": "python",
   "name": "python3"
  },
  "language_info": {
   "codemirror_mode": {
    "name": "ipython",
    "version": 3
   },
   "file_extension": ".py",
   "mimetype": "text/x-python",
   "name": "python",
   "nbconvert_exporter": "python",
   "pygments_lexer": "ipython3",
   "version": "3.6.7"
  }
 },
 "nbformat": 4,
 "nbformat_minor": 2
}
