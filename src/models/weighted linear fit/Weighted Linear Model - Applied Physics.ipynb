{
 "cells": [
  {
   "cell_type": "code",
   "execution_count": 1,
   "metadata": {},
   "outputs": [],
   "source": [
    "%load_ext autoreload\n",
    "%autoreload 2\n",
    "%matplotlib inline\n",
    "\n",
    "import warnings\n",
    "warnings.filterwarnings('ignore')"
   ]
  },
  {
   "cell_type": "code",
   "execution_count": 2,
   "metadata": {},
   "outputs": [],
   "source": [
    "import sys\n",
    "sys.path.insert(0, \"../code-previous\")\n",
    "sys.path.insert(0, \"..\")\n",
    "\n",
    "import IPython.core.debugger\n",
    "dbg = IPython.core.debugger.Pdb()"
   ]
  },
  {
   "cell_type": "code",
   "execution_count": 10,
   "metadata": {},
   "outputs": [],
   "source": [
    "import pandas as pd\n",
    "import numpy as np\n",
    "import nltk\n",
    "stopwords = nltk.corpus.stopwords.words('english')\n",
    "\n",
    "from sklearn.model_selection import train_test_split\n",
    "\n",
    "from scipy import stats\n",
    "import statsmodels.api as sm\n",
    "from statsmodels.sandbox.regression.predstd import wls_prediction_std\n",
    "from statsmodels.iolib.table import (SimpleTable, default_txt_fmt)\n",
    "\n",
    "from unicodedata import category\n",
    "from tqdm import tqdm\n",
    "tqdm.pandas(desc=\"Progress\")\n",
    "\n",
    "import seaborn as sns\n",
    "sns.set()\n",
    "import matplotlib.pyplot as plt\n",
    "path2rawdata = '/mnt/disks/vault/wos2017-parsed/'"
   ]
  },
  {
   "cell_type": "code",
   "execution_count": 4,
   "metadata": {},
   "outputs": [],
   "source": [
    "raw_data_path = \"/mnt/disks/vault/analysis-data/raw_data_full/raw_data_full.pql\"\n",
    "data = pd.read_pickle(raw_data_path)\n",
    "\n",
    "data = data[data.Journal == \"APPLIED PHYSICS LETTERS\"]"
   ]
  },
  {
   "cell_type": "code",
   "execution_count": 5,
   "metadata": {},
   "outputs": [
    {
     "data": {
      "text/plain": [
       "41100"
      ]
     },
     "execution_count": 5,
     "metadata": {},
     "output_type": "execute_result"
    }
   ],
   "source": [
    "# filtering the data on which the model could be fit well\n",
    "data = data[data.PubYear_x.isin([2002, 2003, 2004, 2005, 2006, 2007, 2008, 2009, 2010])]\n",
    "len(data)"
   ]
  },
  {
   "cell_type": "code",
   "execution_count": 6,
   "metadata": {},
   "outputs": [
    {
     "name": "stderr",
     "output_type": "stream",
     "text": [
      "Progress: 100%|██████████| 41100/41100 [00:00<00:00, 451662.15it/s]\n",
      "Progress: 100%|██████████| 41100/41100 [00:00<00:00, 664453.80it/s]\n",
      "Progress: 100%|██████████| 41100/41100 [00:00<00:00, 483838.62it/s]\n",
      "Progress: 100%|██████████| 41100/41100 [00:00<00:00, 52477.57it/s]\n",
      "Progress: 100%|██████████| 41100/41100 [00:00<00:00, 44675.36it/s]\n",
      "Progress: 100%|██████████| 41100/41100 [00:00<00:00, 460900.20it/s]\n",
      "Progress: 100%|██████████| 41100/41100 [00:00<00:00, 534471.90it/s]\n"
     ]
    }
   ],
   "source": [
    "# what is the average number of words per year\n",
    "# New fields to dataframe \n",
    "data['log_c5'] = data['c5'].progress_apply(lambda x: np.log(x+1))\n",
    "data['character_count'] = data['Title'].progress_apply(lambda x: len(x))\n",
    "data[\"word_count\"] = data[\"Title\"].progress_apply(lambda x: len(x.split()))\n",
    "data['title_without_punct'] = data['Title'].progress_apply(lambda x: \n",
    "                                                           str.lower(''.join(ch for ch in str(x) if category(ch)[0] != 'P')))\n",
    "data[\"title_without_stopwords\"] = data['title_without_punct'].progress_apply(lambda x: \n",
    "                                                                            \" \".join([word for word in x.split() if word not in stopwords]))\n",
    "\n",
    "\n",
    "data[\"word_count\"] = data[\"Title\"].progress_apply(lambda x: len(x.split()))\n",
    "data[\"cleaned_title_word_count\"] = data[\"title_without_stopwords\"].progress_apply(lambda x: len(x.split()))"
   ]
  },
  {
   "cell_type": "code",
   "execution_count": 7,
   "metadata": {},
   "outputs": [],
   "source": [
    "def get_grouped_data_for_year(year):\n",
    "    tmp = data[data.PubYear_x == year]\n",
    "    tmp = tmp.groupby('word_count')['c5'].mean().reset_index(name=\"avg_c5\")\n",
    "    tmp['avg_log_c5'] = tmp['avg_c5'].apply(lambda x: np.log(x))\n",
    "    return tmp\n",
    "    \n",
    "grouped_avgs = [get_grouped_data_for_year(year) for year in range(2002, 2011)]"
   ]
  },
  {
   "cell_type": "code",
   "execution_count": 8,
   "metadata": {},
   "outputs": [],
   "source": [
    "x02 = list(grouped_avgs[0][\"word_count\"])\n",
    "y02 = list(grouped_avgs[0][\"avg_log_c5\"])\n",
    "x03 = list(grouped_avgs[1][\"word_count\"])\n",
    "y03 = list(grouped_avgs[1][\"avg_log_c5\"])\n",
    "x04 = list(grouped_avgs[2][\"word_count\"])\n",
    "y04 = list(grouped_avgs[2][\"avg_log_c5\"])\n",
    "x05 = list(grouped_avgs[3][\"word_count\"])\n",
    "y05 = list(grouped_avgs[3][\"avg_log_c5\"])\n",
    "x06 = list(grouped_avgs[4][\"word_count\"])\n",
    "y06 = list(grouped_avgs[4][\"avg_log_c5\"])\n",
    "x07 = list(grouped_avgs[5][\"word_count\"])\n",
    "y07 = list(grouped_avgs[5][\"avg_log_c5\"])\n",
    "x08 = list(grouped_avgs[6][\"word_count\"])\n",
    "y08 = list(grouped_avgs[6][\"avg_log_c5\"])\n",
    "x09 = list(grouped_avgs[7][\"word_count\"])\n",
    "y09 = list(grouped_avgs[7][\"avg_log_c5\"])\n",
    "x10 = list(grouped_avgs[8][\"word_count\"])\n",
    "y10 = list(grouped_avgs[8][\"avg_log_c5\"])"
   ]
  },
  {
   "cell_type": "code",
   "execution_count": 16,
   "metadata": {},
   "outputs": [
    {
     "data": {
      "text/plain": [
       "Text(0,0.5,'Average logC5')"
      ]
     },
     "execution_count": 16,
     "metadata": {},
     "output_type": "execute_result"
    },
    {
     "data": {
      "text/plain": [
       "<Figure size 432x288 with 0 Axes>"
      ]
     },
     "metadata": {},
     "output_type": "display_data"
    },
    {
     "data": {
      "image/png": "[encoded data removed]",
      "text/plain": [
       "<Figure size 1296x1296 with 1 Axes>"
      ]
     },
     "metadata": {},
     "output_type": "display_data"
    }
   ],
   "source": [
    "X_years = [x02, x03, x04, x05, x06, x07, x08, x09, x10]\n",
    "y_years = [y02, y03, y04, y05, y06, y07, y08, y09, y10] \n",
    "\n",
    "\n",
    "def get_data_for_year(idx):\n",
    "    X = pd.DataFrame(X_years[idx], columns=[\"word_count\"])\n",
    "    y = pd.DataFrame(y_years[idx], columns=[\"avg_log_c5\"])\n",
    "    \n",
    "    df = pd.concat([X, y], axis=1)\n",
    "    df = df[~df.isin([np.nan, np.inf, -np.inf]).any(1)]\n",
    "    \n",
    "    return df\n",
    "\n",
    "# Average character, word and cleaned title word counts over the years\n",
    "f1 = plt.figure()\n",
    "f1 = plt.figure(figsize=(18,18))\n",
    "\n",
    "\n",
    "ax1 = f1.add_subplot(331)\n",
    "\n",
    "tmp = get_data_for_year(0)\n",
    "# set weights\n",
    "weights = len(tmp)\n",
    "ax1.scatter(tmp['word_count'], \n",
    "            tmp['avg_log_c5'], \n",
    "            marker='x')\n",
    "ax1.set_ylim(ymin=0)\n",
    "ax1.set_xlabel(\"Word Count\")\n",
    "ax1.set_ylabel(\"Average logC5\")"
   ]
  },
  {
   "cell_type": "code",
   "execution_count": null,
   "metadata": {},
   "outputs": [],
   "source": [
    "\n"
   ]
  },
  {
   "cell_type": "code",
   "execution_count": 12,
   "metadata": {},
   "outputs": [
    {
     "ename": "NameError",
     "evalue": "name 'w' is not defined",
     "output_type": "error",
     "traceback": [
      "\u001b[0;31m---------------------------------------------------------------------------\u001b[0m",
      "\u001b[0;31mNameError\u001b[0m                                 Traceback (most recent call last)",
      "\u001b[0;32m<ipython-input-12-0d39b1324dc5>\u001b[0m in \u001b[0;36m<module>\u001b[0;34m\u001b[0m\n\u001b[0;32m----> 1\u001b[0;31m \u001b[0mmod_wls\u001b[0m \u001b[0;34m=\u001b[0m \u001b[0msm\u001b[0m\u001b[0;34m.\u001b[0m\u001b[0mWLS\u001b[0m\u001b[0;34m(\u001b[0m\u001b[0my_\u001b[0m\u001b[0;34m,\u001b[0m \u001b[0mX\u001b[0m\u001b[0;34m,\u001b[0m \u001b[0mweights\u001b[0m\u001b[0;34m=\u001b[0m\u001b[0;36m1.\u001b[0m\u001b[0;34m/\u001b[0m\u001b[0;34m(\u001b[0m\u001b[0mw\u001b[0m \u001b[0;34m**\u001b[0m \u001b[0;36m2\u001b[0m\u001b[0;34m)\u001b[0m\u001b[0;34m)\u001b[0m\u001b[0;34m\u001b[0m\u001b[0;34m\u001b[0m\u001b[0m\n\u001b[0m\u001b[1;32m      2\u001b[0m \u001b[0mres_wls\u001b[0m \u001b[0;34m=\u001b[0m \u001b[0mmod_wls\u001b[0m\u001b[0;34m.\u001b[0m\u001b[0mfit\u001b[0m\u001b[0;34m(\u001b[0m\u001b[0;34m)\u001b[0m\u001b[0;34m\u001b[0m\u001b[0;34m\u001b[0m\u001b[0m\n\u001b[1;32m      3\u001b[0m \u001b[0mprint\u001b[0m\u001b[0;34m(\u001b[0m\u001b[0mres_wls\u001b[0m\u001b[0;34m.\u001b[0m\u001b[0msummary\u001b[0m\u001b[0;34m(\u001b[0m\u001b[0;34m)\u001b[0m\u001b[0;34m)\u001b[0m\u001b[0;34m\u001b[0m\u001b[0;34m\u001b[0m\u001b[0m\n",
      "\u001b[0;31mNameError\u001b[0m: name 'w' is not defined"
     ]
    }
   ],
   "source": [
    "mod_wls = sm.WLS(y_, X, weights=1./(w ** 2))\n",
    "res_wls = mod_wls.fit()\n",
    "print(res_wls.summary())"
   ]
  },
  {
   "cell_type": "code",
   "execution_count": null,
   "metadata": {},
   "outputs": [],
   "source": []
  }
 ],
 "metadata": {
  "kernelspec": {
   "display_name": "Python 3",
   "language": "python",
   "name": "python3"
  },
  "language_info": {
   "codemirror_mode": {
    "name": "ipython",
    "version": 3
   },
   "file_extension": ".py",
   "mimetype": "text/x-python",
   "name": "python",
   "nbconvert_exporter": "python",
   "pygments_lexer": "ipython3",
   "version": "3.6.7"
  }
 },
 "nbformat": 4,
 "nbformat_minor": 2
}
