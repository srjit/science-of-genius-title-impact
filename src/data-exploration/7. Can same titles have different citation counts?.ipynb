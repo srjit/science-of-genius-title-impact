{
 "cells": [
  {
   "cell_type": "code",
   "execution_count": 1,
   "metadata": {},
   "outputs": [],
   "source": [
    "%load_ext autoreload\n",
    "%autoreload 2\n",
    "%matplotlib inline\n",
    "\n",
    "import warnings\n",
    "warnings.filterwarnings('ignore')"
   ]
  },
  {
   "cell_type": "code",
   "execution_count": 2,
   "metadata": {},
   "outputs": [],
   "source": [
    "import sys\n",
    "sys.path.insert(0, \"../code-previous\")\n",
    "sys.path.insert(0, \"..\")"
   ]
  },
  {
   "cell_type": "code",
   "execution_count": 3,
   "metadata": {},
   "outputs": [],
   "source": [
    "import pandas as pd\n",
    "import numpy as np\n",
    "import networkx as nx\n",
    "import sklearn.feature_extraction as skfeatures\n",
    "import utils\n",
    "import time\n",
    "import os\n",
    "\n",
    "import nltk\n",
    "stopwords = nltk.corpus.stopwords.words('english')\n",
    "\n",
    "from unicodedata import category\n",
    "from tqdm import tqdm\n",
    "tqdm.pandas(desc=\"Progress\")\n",
    "\n",
    "import seaborn as sns\n",
    "sns.set()\n",
    "\n",
    "import matplotlib.pyplot as plt\n",
    "\n",
    "\n",
    "path2rawdata = '/mnt/disks/vault/wos2017-parsed/'"
   ]
  },
  {
   "cell_type": "code",
   "execution_count": 4,
   "metadata": {},
   "outputs": [],
   "source": [
    "raw_data_path = \"/mnt/disks/vault/analysis-data/raw_data_full/raw_data_full.pql\"\n",
    "data = pd.read_pickle(raw_data_path)"
   ]
  },
  {
   "cell_type": "code",
   "execution_count": 5,
   "metadata": {},
   "outputs": [
    {
     "name": "stderr",
     "output_type": "stream",
     "text": [
      "Progress: 100%|██████████| 738469/738469 [00:01<00:00, 488579.12it/s]\n",
      "Progress: 100%|██████████| 738469/738469 [00:00<00:00, 842162.31it/s] \n",
      "Progress: 100%|██████████| 738469/738469 [00:01<00:00, 565789.05it/s]\n",
      "Progress: 100%|██████████| 738469/738469 [00:13<00:00, 55966.81it/s]\n",
      "Progress: 100%|██████████| 738469/738469 [00:15<00:00, 48692.79it/s]\n",
      "Progress: 100%|██████████| 738469/738469 [00:01<00:00, 559758.55it/s]\n",
      "Progress: 100%|██████████| 738469/738469 [00:01<00:00, 617868.22it/s]\n"
     ]
    }
   ],
   "source": [
    "# New fields to dataframe \n",
    "data['log_c5'] = data['c5'].progress_apply(lambda x: np.log(x+1))\n",
    "data['character_count'] = data['Title'].progress_apply(lambda x: len(x))\n",
    "data[\"word_count\"] = data[\"Title\"].progress_apply(lambda x: len(x.split()))\n",
    "data['title_without_punct'] = data['Title'].progress_apply(lambda x: \n",
    "                                                           str.lower(''.join(ch for ch in str(x) if category(ch)[0] != 'P')))\n",
    "data[\"title_without_stopwords\"] = data['title_without_punct'].progress_apply(lambda x: \n",
    "                                                                            \" \".join([word for word in x.split() if word not in stopwords]))\n",
    "\n",
    "\n",
    "data[\"word_count\"] = data[\"Title\"].progress_apply(lambda x: len(x.split()))\n",
    "data[\"cleaned_title_word_count\"] = data[\"title_without_stopwords\"].progress_apply(lambda x: len(x.split()))"
   ]
  },
  {
   "cell_type": "code",
   "execution_count": null,
   "metadata": {},
   "outputs": [],
   "source": [
    "grouped_titles = data.groupby('title_without_punct').size().reset_index(name='times_repeated')\n",
    "#tmp = grouped_titles.sort_values('counts', ascending=False)\n",
    "select_titles = grouped_titles[grouped_titles.times_repeated >= 2]\n",
    "#titles = list(select_titles[\"title_without_punct\"])\n",
    "\n",
    "\n",
    "# filter the data\n",
    "#_data = data[data.title_without_punct.isin(titles)]\n",
    "\n",
    "_data = select_titles.merge(data,\n",
    "                           how = 'left',\n",
    "                           left_on = 'title_without_punct',\n",
    "                           right_on = 'title_without_punct')\n",
    "\n",
    "_data = _data[['Title','PubYear_x', 'Journal', 'c5', 'log_c5', 'times_repeated']]\n",
    "_data = _data.sort_values(by=['times_repeated','Title'], ascending=False)\n",
    "\n",
    "_data[:10]"
   ]
  },
  {
   "cell_type": "code",
   "execution_count": null,
   "metadata": {},
   "outputs": [],
   "source": [
    "# lets see if there are articles with the same title - group by article names\n",
    "\n",
    "\n",
    "\n"
   ]
  },
  {
   "cell_type": "code",
   "execution_count": null,
   "metadata": {},
   "outputs": [],
   "source": [
    "# distance between every article titles\n"
   ]
  }
 ],
 "metadata": {
  "kernelspec": {
   "display_name": "Python 3",
   "language": "python",
   "name": "python3"
  },
  "language_info": {
   "codemirror_mode": {
    "name": "ipython",
    "version": 3
   },
   "file_extension": ".py",
   "mimetype": "text/x-python",
   "name": "python",
   "nbconvert_exporter": "python",
   "pygments_lexer": "ipython3",
   "version": "3.6.7"
  }
 },
 "nbformat": 4,
 "nbformat_minor": 2
}
